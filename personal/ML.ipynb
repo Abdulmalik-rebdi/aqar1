{
 "cells": [
  {
   "cell_type": "code",
   "execution_count": 158,
   "metadata": {},
   "outputs": [],
   "source": [
    "import pandas as pd\n",
    "import numpy as np\n",
    "import matplotlib.pyplot as plt\n",
    "import math\n",
    "from sklearn.model_selection import train_test_split\n",
    "from sklearn.compose import TransformedTargetRegressor\n",
    "from sklearn.compose import ColumnTransformer\n",
    "from sklearn.compose import make_column_selector as selector\n",
    "from sklearn.preprocessing import PowerTransformer\n",
    "from sklearn.preprocessing import StandardScaler\n",
    "from sklearn.preprocessing import OneHotEncoder\n",
    "from sklearn.preprocessing import LabelEncoder\n",
    "from sklearn.impute import SimpleImputer\n",
    "from sklearn.impute import KNNImputer\n",
    "from sklearn.feature_selection import VarianceThreshold\n",
    "from sklearn.decomposition import PCA\n",
    "import datetime\n",
    "from datetime import timedelta\n",
    "import ast\n",
    "import json    \n",
    "import missingno as msno\n",
    "import seaborn as sns\n",
    "import arabic_reshaper\n",
    "from bidi.algorithm import get_display\n",
    "from sklearn.impute import SimpleImputer\n",
    "# from sklearn_pandas import CategoricalImputer\n",
    "from sklearn.impute import KNNImputer\n",
    "from sklearn.impute import SimpleImputer\n",
    "from sklearn.preprocessing import FunctionTransformer\n",
    "from sklearn.pipeline import Pipeline\n",
    "from sklearn import preprocessing\n",
    "from sklearn.tree import DecisionTreeRegressor\n",
    "from sklearn.tree import plot_tree\n",
    "from sklearn.impute import KNNImputer\n",
    "from sklearn import preprocessing\n",
    "from sklearn.preprocessing import StandardScaler\n",
    "from sklearn.feature_selection import VarianceThreshold\n",
    "from sklearn.model_selection import train_test_split, GridSearchCV\n",
    "from sklearn.metrics import classification_report, confusion_matrix, precision_score, accuracy_score, recall_score, f1_score\n",
    "\n",
    "from sklearn.linear_model import LogisticRegression\n",
    "# from sklearn.metrics import confusion_matrix\n",
    "\n"
   ]
  },
  {
   "cell_type": "code",
   "execution_count": 159,
   "metadata": {},
   "outputs": [],
   "source": [
    "df = pd.read_csv('../data/ML.csv')"
   ]
  },
  {
   "cell_type": "code",
   "execution_count": 160,
   "metadata": {},
   "outputs": [],
   "source": [
    "df['isRent'] = 0\n",
    "df['isRent'] = np.where(  df['DayOfRent'] == 0 ,  False , True)"
   ]
  },
  {
   "cell_type": "code",
   "execution_count": 161,
   "metadata": {},
   "outputs": [
    {
     "data": {
      "text/plain": [
       "user_id                                  496663\n",
       "id                                      4599813\n",
       "title                                        59\n",
       "price                                     25000\n",
       "content                                     193\n",
       "imgs                                         12\n",
       "beds                                          3\n",
       "livings                                     1.0\n",
       "wc                                            2\n",
       "area                                      130.0\n",
       "street_width                               30.0\n",
       "age                                        12.0\n",
       "ketchen                                     1.0\n",
       "ac                                          0.0\n",
       "furnished                                   0.0\n",
       "district                                     56\n",
       "review                                     4.33\n",
       "profileImg                                 True\n",
       "iam_verified                               True\n",
       "DayOfRent                                     5\n",
       "onMarket                                      5\n",
       "timeBeforeRent                                5\n",
       "lat                                   24.687521\n",
       "lng                                   46.807558\n",
       "zone                                          2\n",
       "advertiser_type_agent                         0\n",
       "advertiser_type_exclusive_marketer            1\n",
       "advertiser_type_normal_marketer               0\n",
       "advertiser_type_owner                         0\n",
       "createYEAR                                    8\n",
       "createMONTH                                   8\n",
       "createDAY                                     6\n",
       "lUpdateYEAR                                   8\n",
       "lUpdateMONTH                                  8\n",
       "lUpdateDAY                                    6\n",
       "isRent                                     True\n",
       "Name: 1, dtype: object"
      ]
     },
     "execution_count": 161,
     "metadata": {},
     "output_type": "execute_result"
    }
   ],
   "source": [
    "df.loc[1]"
   ]
  },
  {
   "cell_type": "code",
   "execution_count": 162,
   "metadata": {},
   "outputs": [
    {
     "name": "stdout",
     "output_type": "stream",
     "text": [
      "<class 'pandas.core.frame.DataFrame'>\n",
      "RangeIndex: 6531 entries, 0 to 6530\n",
      "Data columns (total 36 columns):\n",
      " #   Column                              Non-Null Count  Dtype  \n",
      "---  ------                              --------------  -----  \n",
      " 0   user_id                             6531 non-null   int64  \n",
      " 1   id                                  6531 non-null   int64  \n",
      " 2   title                               6531 non-null   int64  \n",
      " 3   price                               6531 non-null   int64  \n",
      " 4   content                             6531 non-null   int64  \n",
      " 5   imgs                                6531 non-null   int64  \n",
      " 6   beds                                6531 non-null   int64  \n",
      " 7   livings                             6531 non-null   float64\n",
      " 8   wc                                  6531 non-null   int64  \n",
      " 9   area                                6531 non-null   float64\n",
      " 10  street_width                        6531 non-null   float64\n",
      " 11  age                                 6531 non-null   float64\n",
      " 12  ketchen                             6531 non-null   float64\n",
      " 13  ac                                  6531 non-null   float64\n",
      " 14  furnished                           6531 non-null   float64\n",
      " 15  district                            6531 non-null   int64  \n",
      " 16  review                              6531 non-null   float64\n",
      " 17  profileImg                          6531 non-null   bool   \n",
      " 18  iam_verified                        6531 non-null   bool   \n",
      " 19  DayOfRent                           6531 non-null   int64  \n",
      " 20  onMarket                            6531 non-null   int64  \n",
      " 21  timeBeforeRent                      6531 non-null   int64  \n",
      " 22  lat                                 6531 non-null   float64\n",
      " 23  lng                                 6531 non-null   float64\n",
      " 24  zone                                6531 non-null   int64  \n",
      " 25  advertiser_type_agent               6531 non-null   int64  \n",
      " 26  advertiser_type_exclusive_marketer  6531 non-null   int64  \n",
      " 27  advertiser_type_normal_marketer     6531 non-null   int64  \n",
      " 28  advertiser_type_owner               6531 non-null   int64  \n",
      " 29  createYEAR                          6531 non-null   int64  \n",
      " 30  createMONTH                         6531 non-null   int64  \n",
      " 31  createDAY                           6531 non-null   int64  \n",
      " 32  lUpdateYEAR                         6531 non-null   int64  \n",
      " 33  lUpdateMONTH                        6531 non-null   int64  \n",
      " 34  lUpdateDAY                          6531 non-null   int64  \n",
      " 35  isRent                              6531 non-null   bool   \n",
      "dtypes: bool(3), float64(10), int64(23)\n",
      "memory usage: 1.7 MB\n"
     ]
    }
   ],
   "source": [
    "df.info()"
   ]
  },
  {
   "cell_type": "code",
   "execution_count": 163,
   "metadata": {},
   "outputs": [],
   "source": [
    "train, test = train_test_split(df, train_size=0.7, random_state=123)\n"
   ]
  },
  {
   "cell_type": "code",
   "execution_count": 164,
   "metadata": {},
   "outputs": [],
   "source": [
    "X_train = train[[\"beds\", \"age\" , 'area']]\n",
    "y_train = train[\"isRent\"]"
   ]
  },
  {
   "cell_type": "code",
   "execution_count": 165,
   "metadata": {},
   "outputs": [],
   "source": [
    "dt_mod = DecisionTreeRegressor(max_depth=3)"
   ]
  },
  {
   "cell_type": "code",
   "execution_count": 166,
   "metadata": {},
   "outputs": [],
   "source": [
    "dt_fit = dt_mod.fit(X_train, y_train)"
   ]
  },
  {
   "cell_type": "code",
   "execution_count": 167,
   "metadata": {},
   "outputs": [
    {
     "data": {
      "text/plain": [
       "8"
      ]
     },
     "execution_count": 167,
     "metadata": {},
     "output_type": "execute_result"
    }
   ],
   "source": [
    "dt_fit.get_n_leaves()"
   ]
  },
  {
   "cell_type": "code",
   "execution_count": 168,
   "metadata": {},
   "outputs": [
    {
     "data": {
      "image/png": "[encoded data removed]",
      "text/plain": [
       "<Figure size 432x288 with 1 Axes>"
      ]
     },
     "metadata": {
      "needs_background": "light"
     },
     "output_type": "display_data"
    }
   ],
   "source": [
    "plot_tree(dt_fit)\n",
    "plt.show()"
   ]
  },
  {
   "cell_type": "code",
   "execution_count": 169,
   "metadata": {},
   "outputs": [
    {
     "data": {
      "text/plain": [
       "array([1., 1., 1., 1., 1.])"
      ]
     },
     "execution_count": 169,
     "metadata": {},
     "output_type": "execute_result"
    }
   ],
   "source": [
    "dt_mod = DecisionTreeRegressor()\n",
    "\n",
    "# define loss function\n",
    "loss = 'neg_root_mean_squared_error'\n",
    "\n",
    "# create 5 fold CV object\n",
    "kfold = KFold(n_splits=5, random_state=123, shuffle=True)\n",
    "\n",
    "# fit model with 5-fold CV\n",
    "results = cross_val_score(dt_mod, X_train, \n",
    "                          y_train, cv=kfold, scoring=loss)\n",
    "\n",
    "\n",
    "np.round(np.abs(results))"
   ]
  },
  {
   "cell_type": "code",
   "execution_count": 170,
   "metadata": {},
   "outputs": [
    {
     "data": {
      "text/plain": [
       "0.5461419804968399"
      ]
     },
     "execution_count": 170,
     "metadata": {},
     "output_type": "execute_result"
    }
   ],
   "source": [
    "X_train_encoded = pd.get_dummies(X_train)\n",
    "\n",
    "# fit model with 5-fold CV\n",
    "results = cross_val_score(dt_mod, X_train_encoded, y_train, cv=kfold, scoring=loss)\n",
    "\n",
    "np.abs(np.mean(results))"
   ]
  },
  {
   "cell_type": "code",
   "execution_count": 171,
   "metadata": {},
   "outputs": [],
   "source": [
    "dt_mod = DecisionTreeRegressor()\n",
    "\n",
    "# define loss function\n",
    "loss = 'neg_root_mean_squared_error'\n",
    "\n",
    "# create 5 fold CV object\n",
    "kfold = KFold(n_splits=5, random_state=123, shuffle=True)\n",
    "\n",
    "# Create grid of hyperparameter values\n",
    "hyper_grid = {\n",
    "  'ccp_alpha': [1e-1, 1e-5, 1e-10],\n",
    "  'max_depth': [1, 8, 15],\n",
    "  'min_samples_split': [2, 21, 40]\n",
    "  }"
   ]
  },
  {
   "cell_type": "code",
   "execution_count": 172,
   "metadata": {},
   "outputs": [
    {
     "data": {
      "text/plain": [
       "{'ccp_alpha': 1e-05,\n",
       " 'criterion': 'squared_error',\n",
       " 'max_depth': 1,\n",
       " 'max_features': None,\n",
       " 'max_leaf_nodes': None,\n",
       " 'min_impurity_decrease': 0.0,\n",
       " 'min_samples_leaf': 1,\n",
       " 'min_samples_split': 2,\n",
       " 'min_weight_fraction_leaf': 0.0,\n",
       " 'random_state': None,\n",
       " 'splitter': 'best'}"
      ]
     },
     "execution_count": 172,
     "metadata": {},
     "output_type": "execute_result"
    }
   ],
   "source": [
    "grid_search = GridSearchCV(dt_mod, hyper_grid, cv=kfold, scoring=loss)\n",
    "results = grid_search.fit(X_train_encoded, y_train)\n",
    "\n",
    "# Optimal penalty parameter in grid search\n",
    "results.best_estimator_.get_params()"
   ]
  },
  {
   "cell_type": "code",
   "execution_count": 173,
   "metadata": {},
   "outputs": [
    {
     "data": {
      "text/plain": [
       "0.48"
      ]
     },
     "execution_count": 173,
     "metadata": {},
     "output_type": "execute_result"
    }
   ],
   "source": [
    "# Best model's cross validated RMSE\n",
    "round(abs(results.best_score_), 2)"
   ]
  },
  {
   "cell_type": "code",
   "execution_count": 174,
   "metadata": {},
   "outputs": [],
   "source": [
    "from copy import deepcopy\n",
    "data_scaled = deepcopy(df)\n",
    "data_scaled.drop('isRent', axis=1, inplace = True)\n",
    "\n",
    "ss = StandardScaler()\n",
    "\n",
    "ss.fit(data_scaled)\n",
    "data_scaled = ss.transform(data_scaled)"
   ]
  },
  {
   "cell_type": "code",
   "execution_count": 175,
   "metadata": {},
   "outputs": [
    {
     "data": {
      "text/plain": [
       "array([[ 0.19521431,  0.63768911, -0.36849176, ...,  0.5164103 ,\n",
       "         0.5164103 , -0.31512348],\n",
       "       [-1.00323738,  0.65832008, -0.17230527, ...,  0.5164103 ,\n",
       "         0.5164103 , -0.31512348],\n",
       "       [ 1.29466205,  0.41097773,  1.00481369, ...,  0.5164103 ,\n",
       "         0.5164103 , -0.31512348],\n",
       "       ...,\n",
       "       [-1.24788656, -0.14221418, -0.56467826, ...,  0.5164103 ,\n",
       "         0.5164103 , -0.76717366],\n",
       "       [-1.45392371,  0.58352324,  0.12197447, ...,  0.5164103 ,\n",
       "         0.5164103 , -0.42813602],\n",
       "       [ 0.93263069, -2.47641952, -0.36849176, ...,  0.5164103 ,\n",
       "         0.5164103 , -0.65416111]])"
      ]
     },
     "execution_count": 175,
     "metadata": {},
     "output_type": "execute_result"
    }
   ],
   "source": [
    "data_scaled"
   ]
  },
  {
   "cell_type": "code",
   "execution_count": 176,
   "metadata": {},
   "outputs": [],
   "source": [
    "# df['isRent'] = 0\n",
    "df['isRent'] = np.where(  df['DayOfRent'] == 0 ,  0 , 1)"
   ]
  },
  {
   "cell_type": "code",
   "execution_count": 177,
   "metadata": {},
   "outputs": [
    {
     "data": {
      "text/plain": [
       "array([[ 0.19521431,  0.63768911, -0.36849176, ...,  0.5164103 ,\n",
       "         0.5164103 , -0.31512348],\n",
       "       [-1.00323738,  0.65832008, -0.17230527, ...,  0.5164103 ,\n",
       "         0.5164103 , -0.31512348],\n",
       "       [ 1.29466205,  0.41097773,  1.00481369, ...,  0.5164103 ,\n",
       "         0.5164103 , -0.31512348],\n",
       "       ...,\n",
       "       [-1.24788656, -0.14221418, -0.56467826, ...,  0.5164103 ,\n",
       "         0.5164103 , -0.76717366],\n",
       "       [-1.45392371,  0.58352324,  0.12197447, ...,  0.5164103 ,\n",
       "         0.5164103 , -0.42813602],\n",
       "       [ 0.93263069, -2.47641952, -0.36849176, ...,  0.5164103 ,\n",
       "         0.5164103 , -0.65416111]])"
      ]
     },
     "execution_count": 177,
     "metadata": {},
     "output_type": "execute_result"
    }
   ],
   "source": [
    "data_scaled"
   ]
  },
  {
   "cell_type": "code",
   "execution_count": 178,
   "metadata": {},
   "outputs": [],
   "source": [
    "X = df.drop('isRent', axis=1)\n",
    "y = df['isRent']\n",
    "X_train, X_test, y_train, y_test = train_test_split(X, y, test_size=0.25)"
   ]
  },
  {
   "cell_type": "code",
   "execution_count": 179,
   "metadata": {},
   "outputs": [
    {
     "name": "stdout",
     "output_type": "stream",
     "text": [
      "Confusion Matrix :\n",
      " [[1019    0]\n",
      " [ 612    2]]\n",
      "\n",
      "Classification Report :\n",
      "               precision    recall  f1-score   support\n",
      "\n",
      "           0       0.62      1.00      0.77      1019\n",
      "           1       1.00      0.00      0.01       614\n",
      "\n",
      "    accuracy                           0.63      1633\n",
      "   macro avg       0.81      0.50      0.39      1633\n",
      "weighted avg       0.77      0.63      0.48      1633\n",
      "\n"
     ]
    }
   ],
   "source": [
    "X = df.drop('isRent', axis=1)\n",
    "y = df['isRent']\n",
    "X_train, X_test, y_train, y_test = train_test_split(X, y, test_size=0.25)\n",
    "lr = LogisticRegression(max_iter=500)\n",
    "\n",
    "# training & prediction\n",
    "lr.fit(X_train, y_train)\n",
    "lr_pred = lr.predict(X_test)\n",
    "\n",
    "# evaluation\n",
    "print('Confusion Matrix :\\n', confusion_matrix(y_test, lr_pred))\n",
    "print()\n",
    "print('Classification Report :\\n', classification_report(y_test, lr_pred))"
   ]
  },
  {
   "cell_type": "code",
   "execution_count": 182,
   "metadata": {},
   "outputs": [
    {
     "data": {
      "text/plain": [
       "3726     211899\n",
       "3691     779331\n",
       "1636     825676\n",
       "531      879567\n",
       "3666    1524584\n",
       "         ...   \n",
       "468     4600178\n",
       "1571    4600194\n",
       "6480    4600222\n",
       "24      4600237\n",
       "2441    4600241\n",
       "Name: id, Length: 6531, dtype: int64"
      ]
     },
     "execution_count": 182,
     "metadata": {},
     "output_type": "execute_result"
    }
   ],
   "source": []
  },
  {
   "cell_type": "code",
   "execution_count": 180,
   "metadata": {},
   "outputs": [
    {
     "ename": "AttributeError",
     "evalue": "'function' object has no attribute 'sum'",
     "output_type": "error",
     "traceback": [
      "\u001b[0;31m---------------------------------------------------------------------------\u001b[0m",
      "\u001b[0;31mAttributeError\u001b[0m                            Traceback (most recent call last)",
      "\u001b[1;32m/workspaces/aqar1/src/ML.ipynb Cell 25\u001b[0m in \u001b[0;36m<cell line: 1>\u001b[0;34m()\u001b[0m\n\u001b[0;32m----> <a href='vscode-notebook-cell://dev-container%2B7b227265706f7369746f727950617468223a2268747470733a2f2f6769746875622e636f6d2f416264756c6d616c696b2d72656264692f6171617231222c22766f6c756d654e616d65223a225f5f554e495155455f5f222c22666f6c646572223a226171617231222c22636c6f6e65496e666f223a7b2275726c546f436c6f6e65223a2268747470733a2f2f6769746875622e636f6d2f416264756c6d616c696b2d72656264692f6171617231227d2c22696e7370656374566f6c756d65223a66616c73657d/workspaces/aqar1/src/ML.ipynb#ch0000028vscode-remote?line=0'>1</a>\u001b[0m FP \u001b[39m=\u001b[39m confusion_matrix\u001b[39m.\u001b[39;49msum(axis\u001b[39m=\u001b[39m\u001b[39m0\u001b[39m) \u001b[39m-\u001b[39m np\u001b[39m.\u001b[39mdiag(confusion_matrix)  \n\u001b[1;32m      <a href='vscode-notebook-cell://dev-container%2B7b227265706f7369746f727950617468223a2268747470733a2f2f6769746875622e636f6d2f416264756c6d616c696b2d72656264692f6171617231222c22766f6c756d654e616d65223a225f5f554e495155455f5f222c22666f6c646572223a226171617231222c22636c6f6e65496e666f223a7b2275726c546f436c6f6e65223a2268747470733a2f2f6769746875622e636f6d2f416264756c6d616c696b2d72656264692f6171617231227d2c22696e7370656374566f6c756d65223a66616c73657d/workspaces/aqar1/src/ML.ipynb#ch0000028vscode-remote?line=1'>2</a>\u001b[0m FN \u001b[39m=\u001b[39m confusion_matrix\u001b[39m.\u001b[39msum(axis\u001b[39m=\u001b[39m\u001b[39m1\u001b[39m) \u001b[39m-\u001b[39m np\u001b[39m.\u001b[39mdiag(confusion_matrix)\n\u001b[1;32m      <a href='vscode-notebook-cell://dev-container%2B7b227265706f7369746f727950617468223a2268747470733a2f2f6769746875622e636f6d2f416264756c6d616c696b2d72656264692f6171617231222c22766f6c756d654e616d65223a225f5f554e495155455f5f222c22666f6c646572223a226171617231222c22636c6f6e65496e666f223a7b2275726c546f436c6f6e65223a2268747470733a2f2f6769746875622e636f6d2f416264756c6d616c696b2d72656264692f6171617231227d2c22696e7370656374566f6c756d65223a66616c73657d/workspaces/aqar1/src/ML.ipynb#ch0000028vscode-remote?line=2'>3</a>\u001b[0m TP \u001b[39m=\u001b[39m np\u001b[39m.\u001b[39mdiag(confusion_matrix)\n",
      "\u001b[0;31mAttributeError\u001b[0m: 'function' object has no attribute 'sum'"
     ]
    }
   ],
   "source": [
    "FP = confusion_matrix.sum(axis=0) - np.diag(confusion_matrix)  \n",
    "FN = confusion_matrix.sum(axis=1) - np.diag(confusion_matrix)\n",
    "TP = np.diag(confusion_matrix)\n",
    "TN = confusion_matrix.values.sum() - (FP + FN + TP)\n",
    "\n",
    "# Sensitivity, hit rate, recall, or true positive rate\n",
    "TPR = TP/(TP+FN)\n",
    "# Specificity or true negative rate\n",
    "TNR = TN/(TN+FP) \n",
    "# Precision or positive predictive value\n",
    "PPV = TP/(TP+FP)\n",
    "# Negative predictive value\n",
    "NPV = TN/(TN+FN)\n",
    "# Fall out or false positive rate\n",
    "FPR = FP/(FP+TN)\n",
    "# False negative rate\n",
    "FNR = FN/(TP+FN)\n",
    "# False discovery rate\n",
    "FDR = FP/(TP+FP)\n",
    "\n",
    "# Overall accuracy\n",
    "ACC = (TP+TN)/(TP+FP+FN+TN)"
   ]
  },
  {
   "cell_type": "code",
   "execution_count": null,
   "metadata": {},
   "outputs": [
    {
     "data": {
      "text/html": [
       "<style>#sk-container-id-3 {color: black;background-color: white;}#sk-container-id-3 pre{padding: 0;}#sk-container-id-3 div.sk-toggleable {background-color: white;}#sk-container-id-3 label.sk-toggleable__label {cursor: pointer;display: block;width: 100%;margin-bottom: 0;padding: 0.3em;box-sizing: border-box;text-align: center;}#sk-container-id-3 label.sk-toggleable__label-arrow:before {content: \"▸\";float: left;margin-right: 0.25em;color: #696969;}#sk-container-id-3 label.sk-toggleable__label-arrow:hover:before {color: black;}#sk-container-id-3 div.sk-estimator:hover label.sk-toggleable__label-arrow:before {color: black;}#sk-container-id-3 div.sk-toggleable__content {max-height: 0;max-width: 0;overflow: hidden;text-align: left;background-color: #f0f8ff;}#sk-container-id-3 div.sk-toggleable__content pre {margin: 0.2em;color: black;border-radius: 0.25em;background-color: #f0f8ff;}#sk-container-id-3 input.sk-toggleable__control:checked~div.sk-toggleable__content {max-height: 200px;max-width: 100%;overflow: auto;}#sk-container-id-3 input.sk-toggleable__control:checked~label.sk-toggleable__label-arrow:before {content: \"▾\";}#sk-container-id-3 div.sk-estimator input.sk-toggleable__control:checked~label.sk-toggleable__label {background-color: #d4ebff;}#sk-container-id-3 div.sk-label input.sk-toggleable__control:checked~label.sk-toggleable__label {background-color: #d4ebff;}#sk-container-id-3 input.sk-hidden--visually {border: 0;clip: rect(1px 1px 1px 1px);clip: rect(1px, 1px, 1px, 1px);height: 1px;margin: -1px;overflow: hidden;padding: 0;position: absolute;width: 1px;}#sk-container-id-3 div.sk-estimator {font-family: monospace;background-color: #f0f8ff;border: 1px dotted black;border-radius: 0.25em;box-sizing: border-box;margin-bottom: 0.5em;}#sk-container-id-3 div.sk-estimator:hover {background-color: #d4ebff;}#sk-container-id-3 div.sk-parallel-item::after {content: \"\";width: 100%;border-bottom: 1px solid gray;flex-grow: 1;}#sk-container-id-3 div.sk-label:hover label.sk-toggleable__label {background-color: #d4ebff;}#sk-container-id-3 div.sk-serial::before {content: \"\";position: absolute;border-left: 1px solid gray;box-sizing: border-box;top: 0;bottom: 0;left: 50%;z-index: 0;}#sk-container-id-3 div.sk-serial {display: flex;flex-direction: column;align-items: center;background-color: white;padding-right: 0.2em;padding-left: 0.2em;position: relative;}#sk-container-id-3 div.sk-item {position: relative;z-index: 1;}#sk-container-id-3 div.sk-parallel {display: flex;align-items: stretch;justify-content: center;background-color: white;position: relative;}#sk-container-id-3 div.sk-item::before, #sk-container-id-3 div.sk-parallel-item::before {content: \"\";position: absolute;border-left: 1px solid gray;box-sizing: border-box;top: 0;bottom: 0;left: 50%;z-index: -1;}#sk-container-id-3 div.sk-parallel-item {display: flex;flex-direction: column;z-index: 1;position: relative;background-color: white;}#sk-container-id-3 div.sk-parallel-item:first-child::after {align-self: flex-end;width: 50%;}#sk-container-id-3 div.sk-parallel-item:last-child::after {align-self: flex-start;width: 50%;}#sk-container-id-3 div.sk-parallel-item:only-child::after {width: 0;}#sk-container-id-3 div.sk-dashed-wrapped {border: 1px dashed gray;margin: 0 0.4em 0.5em 0.4em;box-sizing: border-box;padding-bottom: 0.4em;background-color: white;}#sk-container-id-3 div.sk-label label {font-family: monospace;font-weight: bold;display: inline-block;line-height: 1.2em;}#sk-container-id-3 div.sk-label-container {text-align: center;}#sk-container-id-3 div.sk-container {/* jupyter's `normalize.less` sets `[hidden] { display: none; }` but bootstrap.min.css set `[hidden] { display: none !important; }` so we also need the `!important` here to be able to override the default hidden behavior on the sphinx rendered scikit-learn.org. See: https://github.com/scikit-learn/scikit-learn/issues/21755 */display: inline-block !important;position: relative;}#sk-container-id-3 div.sk-text-repr-fallback {display: none;}</style><div id=\"sk-container-id-3\" class=\"sk-top-container\"><div class=\"sk-text-repr-fallback\"><pre>KNeighborsClassifier()</pre><b>In a Jupyter environment, please rerun this cell to show the HTML representation or trust the notebook. <br />On GitHub, the HTML representation is unable to render, please try loading this page with nbviewer.org.</b></div><div class=\"sk-container\" hidden><div class=\"sk-item\"><div class=\"sk-estimator sk-toggleable\"><input class=\"sk-toggleable__control sk-hidden--visually\" id=\"sk-estimator-id-3\" type=\"checkbox\" checked><label for=\"sk-estimator-id-3\" class=\"sk-toggleable__label sk-toggleable__label-arrow\">KNeighborsClassifier</label><div class=\"sk-toggleable__content\"><pre>KNeighborsClassifier()</pre></div></div></div></div></div>"
      ],
      "text/plain": [
       "KNeighborsClassifier()"
      ]
     },
     "execution_count": 126,
     "metadata": {},
     "output_type": "execute_result"
    }
   ],
   "source": [
    "from sklearn.model_selection import train_test_split\n",
    "x = df.drop(columns=['isRent'])\n",
    "y = df['isRent']\n",
    "X_train, X_test, y_train, y_test = train_test_split(x, y, test_size=0.20)\n",
    "from sklearn.preprocessing import StandardScaler\n",
    "scaler = StandardScaler()\n",
    "scaler.fit(X_train)\n",
    "\n",
    "X_train = scaler.transform(X_train)\n",
    "X_test = scaler.transform(X_test)\n",
    "from sklearn.neighbors import KNeighborsClassifier\n",
    "classifier = KNeighborsClassifier(n_neighbors=5)\n",
    "classifier.fit(X_train, y_train)"
   ]
  },
  {
   "cell_type": "code",
   "execution_count": null,
   "metadata": {},
   "outputs": [],
   "source": [
    "y_pred = classifier.predict(X_test)"
   ]
  },
  {
   "cell_type": "code",
   "execution_count": null,
   "metadata": {},
   "outputs": [
    {
     "name": "stdout",
     "output_type": "stream",
     "text": [
      "[[751  57]\n",
      " [121 378]]\n",
      "              precision    recall  f1-score   support\n",
      "\n",
      "       False       0.86      0.93      0.89       808\n",
      "        True       0.87      0.76      0.81       499\n",
      "\n",
      "    accuracy                           0.86      1307\n",
      "   macro avg       0.87      0.84      0.85      1307\n",
      "weighted avg       0.86      0.86      0.86      1307\n",
      "\n"
     ]
    }
   ],
   "source": [
    "from sklearn.metrics import classification_report, confusion_matrix\n",
    "print(confusion_matrix(y_test, y_pred))\n",
    "print(classification_report(y_test, y_pred))"
   ]
  },
  {
   "cell_type": "code",
   "execution_count": null,
   "metadata": {},
   "outputs": [],
   "source": []
  },
  {
   "cell_type": "code",
   "execution_count": null,
   "metadata": {},
   "outputs": [],
   "source": []
  },
  {
   "cell_type": "code",
   "execution_count": null,
   "metadata": {},
   "outputs": [],
   "source": [
    "df['lat'] = 0\n",
    "df['lng'] = 0"
   ]
  },
  {
   "cell_type": "code",
   "execution_count": null,
   "metadata": {},
   "outputs": [
    {
     "name": "stderr",
     "output_type": "stream",
     "text": [
      "/tmp/ipykernel_715/3726828350.py:5: SettingWithCopyWarning: \n",
      "A value is trying to be set on a copy of a slice from a DataFrame\n",
      "\n",
      "See the caveats in the documentation: https://pandas.pydata.org/pandas-docs/stable/user_guide/indexing.html#returning-a-view-versus-a-copy\n",
      "/tmp/ipykernel_715/3726828350.py:6: SettingWithCopyWarning: \n",
      "A value is trying to be set on a copy of a slice from a DataFrame\n",
      "\n",
      "See the caveats in the documentation: https://pandas.pydata.org/pandas-docs/stable/user_guide/indexing.html#returning-a-view-versus-a-copy\n"
     ]
    }
   ],
   "source": [
    "for index , row in df.iterrows() :\n",
    "    a = row['location'] \n",
    "    a = a.replace('\\''  , '\\\"' )\n",
    "    a= json.loads(a)\n",
    "    df['lat'][index] =  a.get('lat')\n",
    "    df['lng'][index] =  a.get('lng')"
   ]
  },
  {
   "cell_type": "markdown",
   "metadata": {},
   "source": [
    "------- "
   ]
  },
  {
   "cell_type": "code",
   "execution_count": null,
   "metadata": {},
   "outputs": [
    {
     "data": {
      "text/plain": [
       "929"
      ]
     },
     "metadata": {},
     "output_type": "display_data"
    }
   ],
   "source": [
    "df[df['refresh']!=df['last_update']].value_counts().sum()"
   ]
  },
  {
   "cell_type": "code",
   "execution_count": null,
   "metadata": {},
   "outputs": [],
   "source": []
  },
  {
   "cell_type": "markdown",
   "metadata": {},
   "source": [
    "-------"
   ]
  },
  {
   "cell_type": "code",
   "execution_count": null,
   "metadata": {},
   "outputs": [],
   "source": [
    "df = df[df['area'] <= 1000]"
   ]
  },
  {
   "cell_type": "markdown",
   "metadata": {},
   "source": [
    "-----"
   ]
  }
 ],
 "metadata": {
  "kernelspec": {
   "display_name": "Python 3.10.4 64-bit",
   "language": "python",
   "name": "python3"
  },
  "language_info": {
   "codemirror_mode": {
    "name": "ipython",
    "version": 3
   },
   "file_extension": ".py",
   "mimetype": "text/x-python",
   "name": "python",
   "nbconvert_exporter": "python",
   "pygments_lexer": "ipython3",
   "version": "3.10.4"
  },
  "orig_nbformat": 4,
  "vscode": {
   "interpreter": {
    "hash": "949777d72b0d2535278d3dc13498b2535136f6dfe0678499012e853ee9abcab1"
   }
  }
 },
 "nbformat": 4,
 "nbformat_minor": 2
}

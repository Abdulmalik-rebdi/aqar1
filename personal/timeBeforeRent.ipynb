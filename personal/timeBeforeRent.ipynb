{
 "cells": [
  {
   "cell_type": "markdown",
   "metadata": {},
   "source": [
    "# after the join phase is the update phase where i will update the diffrent in time "
   ]
  },
  {
   "cell_type": "code",
   "execution_count": 51,
   "metadata": {},
   "outputs": [],
   "source": [
    "import pandas as pd\n",
    "import numpy as np\n",
    "import math\n",
    "from sklearn.model_selection import train_test_split\n",
    "from sklearn.compose import TransformedTargetRegressor\n",
    "from sklearn.compose import ColumnTransformer\n",
    "from sklearn.compose import make_column_selector as selector\n",
    "from sklearn.preprocessing import PowerTransformer\n",
    "from sklearn.preprocessing import StandardScaler\n",
    "from sklearn.preprocessing import OneHotEncoder\n",
    "from sklearn.preprocessing import LabelEncoder\n",
    "from sklearn.impute import SimpleImputer\n",
    "from sklearn.impute import KNNImputer\n",
    "from sklearn.feature_selection import VarianceThreshold\n",
    "from sklearn.decomposition import PCA\n",
    "import datetime\n",
    "from datetime import timedelta\n",
    "import ast\n",
    "import json    \n",
    "import missingno as msno"
   ]
  },
  {
   "cell_type": "code",
   "execution_count": 80,
   "metadata": {},
   "outputs": [],
   "source": [
    "df =pd.read_csv('../data/try.csv')"
   ]
  },
  {
   "cell_type": "code",
   "execution_count": 81,
   "metadata": {},
   "outputs": [
    {
     "data": {
      "text/plain": [
       "1    3517\n",
       "0    3351\n",
       "Name: DayOfRent, dtype: int64"
      ]
     },
     "execution_count": 81,
     "metadata": {},
     "output_type": "execute_result"
    }
   ],
   "source": [
    "df['DayOfRent'].value_counts()"
   ]
  },
  {
   "cell_type": "code",
   "execution_count": 82,
   "metadata": {},
   "outputs": [
    {
     "data": {
      "text/plain": [
       "Index(['user_id', 'id', 'title', 'price', 'content', 'imgs', 'refresh', 'beds',\n",
       "       'livings', 'wc', 'area', 'street_width', 'age', 'last_update',\n",
       "       'ketchen', 'ac', 'furnished', 'location', 'path', 'user', 'district',\n",
       "       'width', 'length', 'advertiser_type', 'create_time', 'review',\n",
       "       'profileImg', 'UserName', 'iam_verified', 'rega_id', 'DayOfRent'],\n",
       "      dtype='object')"
      ]
     },
     "execution_count": 82,
     "metadata": {},
     "output_type": "execute_result"
    }
   ],
   "source": [
    "df.columns"
   ]
  },
  {
   "cell_type": "code",
   "execution_count": null,
   "metadata": {},
   "outputs": [],
   "source": []
  },
  {
   "cell_type": "code",
   "execution_count": 83,
   "metadata": {},
   "outputs": [],
   "source": [
    "# df.drop(['timeBeforeRent' ], axis = 1 , inplace=True) #this will drop the DayOfRentdate "
   ]
  },
  {
   "cell_type": "code",
   "execution_count": 84,
   "metadata": {},
   "outputs": [
    {
     "data": {
      "text/plain": [
       "'2022-07-18'"
      ]
     },
     "execution_count": 84,
     "metadata": {},
     "output_type": "execute_result"
    }
   ],
   "source": [
    "df['create_time'][1][2:12] # the create date is a string with the time bbut now i need only the time "
   ]
  },
  {
   "cell_type": "code",
   "execution_count": 85,
   "metadata": {},
   "outputs": [
    {
     "data": {
      "text/plain": [
       "0"
      ]
     },
     "execution_count": 85,
     "metadata": {},
     "output_type": "execute_result"
    }
   ],
   "source": [
    "df['DayOfRent'][2] #first i will check if it is DayOfRentor not "
   ]
  },
  {
   "cell_type": "code",
   "execution_count": 86,
   "metadata": {},
   "outputs": [
    {
     "data": {
      "text/plain": [
       "Timestamp('2022-08-08 00:00:00')"
      ]
     },
     "execution_count": 86,
     "metadata": {},
     "output_type": "execute_result"
    }
   ],
   "source": [
    "pd.to_datetime('2022/08/08', format='%Y-%m-%d') #then if it is DayOfRentin 2 then it is DayOfRentin this date"
   ]
  },
  {
   "cell_type": "code",
   "execution_count": 87,
   "metadata": {},
   "outputs": [
    {
     "data": {
      "text/plain": [
       "'20'"
      ]
     },
     "execution_count": 87,
     "metadata": {},
     "output_type": "execute_result"
    }
   ],
   "source": [
    "df['create_time'][3][2:4]"
   ]
  },
  {
   "cell_type": "code",
   "execution_count": 88,
   "metadata": {},
   "outputs": [
    {
     "data": {
      "text/plain": [
       "'2000-2-07-30'"
      ]
     },
     "execution_count": 88,
     "metadata": {},
     "output_type": "execute_result"
    }
   ],
   "source": [
    "f\"{df['create_time'][3][2:3]}0{df['create_time'][3][3:4]}0-{df['create_time'][3][5:12]}\""
   ]
  },
  {
   "cell_type": "code",
   "execution_count": 47,
   "metadata": {},
   "outputs": [
    {
     "data": {
      "text/plain": [
       "Timestamp('2020-07-25 00:00:00')"
      ]
     },
     "execution_count": 47,
     "metadata": {},
     "output_type": "execute_result"
    }
   ],
   "source": [
    "pd.to_datetime(f\"{df['create_time'][3][2:3]}0{df['create_time'][3][3:4]}0-{df['create_time'][3][5:12]}\", format='%Y-%m-%d') #them i will subtract the date it DayOfRent- the day it create it "
   ]
  },
  {
   "cell_type": "code",
   "execution_count": 56,
   "metadata": {},
   "outputs": [
    {
     "data": {
      "text/plain": [
       "744"
      ]
     },
     "execution_count": 56,
     "metadata": {},
     "output_type": "execute_result"
    }
   ],
   "source": [
    "td = pd.to_datetime('2022/08/08', format='%Y-%m-%d') - pd.to_datetime(f\"{df['create_time'][3][2:3]}0{df['create_time'][3][3:4]}0-{df['create_time'][3][5:12]}\", format='%Y-%m-%d') #them i will subtract the date it DayOfRent- the day it create it \n",
    "td = int((td / np.timedelta64(1, 'D')))\n",
    "td "
   ]
  },
  {
   "cell_type": "code",
   "execution_count": 59,
   "metadata": {},
   "outputs": [
    {
     "data": {
      "text/plain": [
       "1    3593\n",
       "0    3230\n",
       "Name: DayOfRent, dtype: int64"
      ]
     },
     "execution_count": 59,
     "metadata": {},
     "output_type": "execute_result"
    }
   ],
   "source": [
    "df['DayOfRent'].value_counts()"
   ]
  },
  {
   "cell_type": "code",
   "execution_count": 57,
   "metadata": {},
   "outputs": [],
   "source": [
    "df['timeBeforeRent'] = 0 "
   ]
  },
  {
   "cell_type": "code",
   "execution_count": 79,
   "metadata": {},
   "outputs": [
    {
     "data": {
      "text/plain": [
       "784"
      ]
     },
     "execution_count": 79,
     "metadata": {},
     "output_type": "execute_result"
    }
   ],
   "source": [
    "td = pd.to_datetime('2022/08/23', format='%Y-%m-%d') - pd.to_datetime(f\"{df['create_time'][15][2:3]}0{df['create_time'][15][3:4]}0-{df['create_time'][15][5:12]}\", format='%Y-%m-%d') \n",
    "int((td / np.timedelta64(1, 'D')))"
   ]
  },
  {
   "cell_type": "code",
   "execution_count": 74,
   "metadata": {},
   "outputs": [
    {
     "data": {
      "text/plain": [
       "Timestamp('2022-08-23 00:00:00')"
      ]
     },
     "execution_count": 74,
     "metadata": {},
     "output_type": "execute_result"
    }
   ],
   "source": [
    "pd.to_datetime('2022/08/23', format='%Y-%m-%d')"
   ]
  },
  {
   "cell_type": "code",
   "execution_count": 73,
   "metadata": {},
   "outputs": [
    {
     "ename": "OutOfBoundsDatetime",
     "evalue": "Out of bounds nanosecond timestamp: 1090-05-01 00:00:00",
     "output_type": "error",
     "traceback": [
      "\u001b[0;31m---------------------------------------------------------------------------\u001b[0m",
      "\u001b[0;31mTypeError\u001b[0m                                 Traceback (most recent call last)",
      "File \u001b[0;32m~/.local/lib/python3.10/site-packages/pandas/core/arrays/datetimes.py:2236\u001b[0m, in \u001b[0;36mobjects_to_datetime64ns\u001b[0;34m(data, dayfirst, yearfirst, utc, errors, require_iso8601, allow_object, allow_mixed)\u001b[0m\n\u001b[1;32m   2235\u001b[0m \u001b[39mtry\u001b[39;00m:\n\u001b[0;32m-> 2236\u001b[0m     values, tz_parsed \u001b[39m=\u001b[39m conversion\u001b[39m.\u001b[39;49mdatetime_to_datetime64(data\u001b[39m.\u001b[39;49mravel(\u001b[39m\"\u001b[39;49m\u001b[39mK\u001b[39;49m\u001b[39m\"\u001b[39;49m))\n\u001b[1;32m   2237\u001b[0m     \u001b[39m# If tzaware, these values represent unix timestamps, so we\u001b[39;00m\n\u001b[1;32m   2238\u001b[0m     \u001b[39m#  return them as i8 to distinguish from wall times\u001b[39;00m\n",
      "File \u001b[0;32m~/.local/lib/python3.10/site-packages/pandas/_libs/tslibs/conversion.pyx:360\u001b[0m, in \u001b[0;36mpandas._libs.tslibs.conversion.datetime_to_datetime64\u001b[0;34m()\u001b[0m\n",
      "\u001b[0;31mTypeError\u001b[0m: Unrecognized value type: <class 'str'>",
      "\nDuring handling of the above exception, another exception occurred:\n",
      "\u001b[0;31mOutOfBoundsDatetime\u001b[0m                       Traceback (most recent call last)",
      "\u001b[1;32m/workspaces/aqar1/personal/timeBeforeRent.ipynb Cell 19\u001b[0m in \u001b[0;36m<cell line: 1>\u001b[0;34m()\u001b[0m\n\u001b[1;32m      <a href='vscode-notebook-cell://dev-container%2B7b227265706f7369746f727950617468223a2268747470733a2f2f6769746875622e636f6d2f416264756c6d616c696b2d72656264692f6171617231222c22766f6c756d654e616d65223a225f5f554e495155455f5f222c22666f6c646572223a226171617231222c22636c6f6e65496e666f223a7b2275726c546f436c6f6e65223a2268747470733a2f2f6769746875622e636f6d2f416264756c6d616c696b2d72656264692f6171617231227d2c22696e7370656374566f6c756d65223a66616c73657d/workspaces/aqar1/personal/timeBeforeRent.ipynb#ch0000024vscode-remote?line=0'>1</a>\u001b[0m \u001b[39mfor\u001b[39;00m index, row \u001b[39min\u001b[39;00m df\u001b[39m.\u001b[39miterrows():\n\u001b[1;32m      <a href='vscode-notebook-cell://dev-container%2B7b227265706f7369746f727950617468223a2268747470733a2f2f6769746875622e636f6d2f416264756c6d616c696b2d72656264692f6171617231222c22766f6c756d654e616d65223a225f5f554e495155455f5f222c22666f6c646572223a226171617231222c22636c6f6e65496e666f223a7b2275726c546f436c6f6e65223a2268747470733a2f2f6769746875622e636f6d2f416264756c6d616c696b2d72656264692f6171617231227d2c22696e7370656374566f6c756d65223a66616c73657d/workspaces/aqar1/personal/timeBeforeRent.ipynb#ch0000024vscode-remote?line=1'>2</a>\u001b[0m     \u001b[39m# td = pd.to_datetime('2022/08/23', format='%Y-%m-%d') - pd.to_datetime(f\"{row['create_time'][2:3]}0{row['create_time'][3:4]}0-{row['create_time'][5:12]}\", format='%Y-%m-%d') #them i will subtract the date it DayOfRent- the day it create it \u001b[39;00m\n\u001b[1;32m      <a href='vscode-notebook-cell://dev-container%2B7b227265706f7369746f727950617468223a2268747470733a2f2f6769746875622e636f6d2f416264756c6d616c696b2d72656264692f6171617231222c22766f6c756d654e616d65223a225f5f554e495155455f5f222c22666f6c646572223a226171617231222c22636c6f6e65496e666f223a7b2275726c546f436c6f6e65223a2268747470733a2f2f6769746875622e636f6d2f416264756c6d616c696b2d72656264692f6171617231227d2c22696e7370656374566f6c756d65223a66616c73657d/workspaces/aqar1/personal/timeBeforeRent.ipynb#ch0000024vscode-remote?line=2'>3</a>\u001b[0m     \u001b[39m# td = int((td / np.timedelta64(1, 'D')))\u001b[39;00m\n\u001b[1;32m      <a href='vscode-notebook-cell://dev-container%2B7b227265706f7369746f727950617468223a2268747470733a2f2f6769746875622e636f6d2f416264756c6d616c696b2d72656264692f6171617231222c22766f6c756d654e616d65223a225f5f554e495155455f5f222c22666f6c646572223a226171617231222c22636c6f6e65496e666f223a7b2275726c546f436c6f6e65223a2268747470733a2f2f6769746875622e636f6d2f416264756c6d616c696b2d72656264692f6171617231227d2c22696e7370656374566f6c756d65223a66616c73657d/workspaces/aqar1/personal/timeBeforeRent.ipynb#ch0000024vscode-remote?line=3'>4</a>\u001b[0m \n\u001b[1;32m      <a href='vscode-notebook-cell://dev-container%2B7b227265706f7369746f727950617468223a2268747470733a2f2f6769746875622e636f6d2f416264756c6d616c696b2d72656264692f6171617231222c22766f6c756d654e616d65223a225f5f554e495155455f5f222c22666f6c646572223a226171617231222c22636c6f6e65496e666f223a7b2275726c546f436c6f6e65223a2268747470733a2f2f6769746875622e636f6d2f416264756c6d616c696b2d72656264692f6171617231227d2c22696e7370656374566f6c756d65223a66616c73657d/workspaces/aqar1/personal/timeBeforeRent.ipynb#ch0000024vscode-remote?line=4'>5</a>\u001b[0m     \u001b[39m# if row[\"DayOfRent\"] == 1:\u001b[39;00m\n\u001b[1;32m      <a href='vscode-notebook-cell://dev-container%2B7b227265706f7369746f727950617468223a2268747470733a2f2f6769746875622e636f6d2f416264756c6d616c696b2d72656264692f6171617231222c22766f6c756d654e616d65223a225f5f554e495155455f5f222c22666f6c646572223a226171617231222c22636c6f6e65496e666f223a7b2275726c546f436c6f6e65223a2268747470733a2f2f6769746875622e636f6d2f416264756c6d616c696b2d72656264692f6171617231227d2c22696e7370656374566f6c756d65223a66616c73657d/workspaces/aqar1/personal/timeBeforeRent.ipynb#ch0000024vscode-remote?line=5'>6</a>\u001b[0m     \u001b[39m#     df['timeBeforeRent'][index] = td\u001b[39;00m\n\u001b[0;32m----> <a href='vscode-notebook-cell://dev-container%2B7b227265706f7369746f727950617468223a2268747470733a2f2f6769746875622e636f6d2f416264756c6d616c696b2d72656264692f6171617231222c22766f6c756d654e616d65223a225f5f554e495155455f5f222c22666f6c646572223a226171617231222c22636c6f6e65496e666f223a7b2275726c546f436c6f6e65223a2268747470733a2f2f6769746875622e636f6d2f416264756c6d616c696b2d72656264692f6171617231227d2c22696e7370656374566f6c756d65223a66616c73657d/workspaces/aqar1/personal/timeBeforeRent.ipynb#ch0000024vscode-remote?line=6'>7</a>\u001b[0m     pd\u001b[39m.\u001b[39;49mto_datetime(\u001b[39mf\u001b[39;49m\u001b[39m\"\u001b[39;49m\u001b[39m{\u001b[39;49;00mdf[\u001b[39m'\u001b[39;49m\u001b[39mcreate_time\u001b[39;49m\u001b[39m'\u001b[39;49m][index][\u001b[39m2\u001b[39;49m:\u001b[39m3\u001b[39;49m]\u001b[39m}\u001b[39;49;00m\u001b[39m0\u001b[39;49m\u001b[39m{\u001b[39;49;00mdf[\u001b[39m'\u001b[39;49m\u001b[39mcreate_time\u001b[39;49m\u001b[39m'\u001b[39;49m][index][\u001b[39m3\u001b[39;49m:\u001b[39m4\u001b[39;49m]\u001b[39m}\u001b[39;49;00m\u001b[39m0-\u001b[39;49m\u001b[39m{\u001b[39;49;00mdf[\u001b[39m'\u001b[39;49m\u001b[39mcreate_time\u001b[39;49m\u001b[39m'\u001b[39;49m][index][\u001b[39m5\u001b[39;49m:\u001b[39m12\u001b[39;49m]\u001b[39m}\u001b[39;49;00m\u001b[39m\"\u001b[39;49m, \u001b[39mformat\u001b[39;49m\u001b[39m=\u001b[39;49m\u001b[39m'\u001b[39;49m\u001b[39m%\u001b[39;49m\u001b[39mY-\u001b[39;49m\u001b[39m%\u001b[39;49m\u001b[39mm-\u001b[39;49m\u001b[39m%d\u001b[39;49;00m\u001b[39m'\u001b[39;49m)\n",
      "File \u001b[0;32m~/.local/lib/python3.10/site-packages/pandas/core/tools/datetimes.py:1078\u001b[0m, in \u001b[0;36mto_datetime\u001b[0;34m(arg, errors, dayfirst, yearfirst, utc, format, exact, unit, infer_datetime_format, origin, cache)\u001b[0m\n\u001b[1;32m   1076\u001b[0m         result \u001b[39m=\u001b[39m convert_listlike(arg, \u001b[39mformat\u001b[39m)\n\u001b[1;32m   1077\u001b[0m \u001b[39melse\u001b[39;00m:\n\u001b[0;32m-> 1078\u001b[0m     result \u001b[39m=\u001b[39m convert_listlike(np\u001b[39m.\u001b[39;49marray([arg]), \u001b[39mformat\u001b[39;49m)[\u001b[39m0\u001b[39m]\n\u001b[1;32m   1080\u001b[0m \u001b[39m#  error: Incompatible return value type (got \"Union[Timestamp, NaTType,\u001b[39;00m\n\u001b[1;32m   1081\u001b[0m \u001b[39m# Series, Index]\", expected \"Union[DatetimeIndex, Series, float, str,\u001b[39;00m\n\u001b[1;32m   1082\u001b[0m \u001b[39m# NaTType, None]\")\u001b[39;00m\n\u001b[1;32m   1083\u001b[0m \u001b[39mreturn\u001b[39;00m result\n",
      "File \u001b[0;32m~/.local/lib/python3.10/site-packages/pandas/core/tools/datetimes.py:402\u001b[0m, in \u001b[0;36m_convert_listlike_datetimes\u001b[0;34m(arg, format, name, tz, unit, errors, infer_datetime_format, dayfirst, yearfirst, exact)\u001b[0m\n\u001b[1;32m    400\u001b[0m \u001b[39massert\u001b[39;00m \u001b[39mformat\u001b[39m \u001b[39mis\u001b[39;00m \u001b[39mNone\u001b[39;00m \u001b[39mor\u001b[39;00m infer_datetime_format\n\u001b[1;32m    401\u001b[0m utc \u001b[39m=\u001b[39m tz \u001b[39m==\u001b[39m \u001b[39m\"\u001b[39m\u001b[39mutc\u001b[39m\u001b[39m\"\u001b[39m\n\u001b[0;32m--> 402\u001b[0m result, tz_parsed \u001b[39m=\u001b[39m objects_to_datetime64ns(\n\u001b[1;32m    403\u001b[0m     arg,\n\u001b[1;32m    404\u001b[0m     dayfirst\u001b[39m=\u001b[39;49mdayfirst,\n\u001b[1;32m    405\u001b[0m     yearfirst\u001b[39m=\u001b[39;49myearfirst,\n\u001b[1;32m    406\u001b[0m     utc\u001b[39m=\u001b[39;49mutc,\n\u001b[1;32m    407\u001b[0m     errors\u001b[39m=\u001b[39;49merrors,\n\u001b[1;32m    408\u001b[0m     require_iso8601\u001b[39m=\u001b[39;49mrequire_iso8601,\n\u001b[1;32m    409\u001b[0m     allow_object\u001b[39m=\u001b[39;49m\u001b[39mTrue\u001b[39;49;00m,\n\u001b[1;32m    410\u001b[0m )\n\u001b[1;32m    412\u001b[0m \u001b[39mif\u001b[39;00m tz_parsed \u001b[39mis\u001b[39;00m \u001b[39mnot\u001b[39;00m \u001b[39mNone\u001b[39;00m:\n\u001b[1;32m    413\u001b[0m     \u001b[39m# We can take a shortcut since the datetime64 numpy array\u001b[39;00m\n\u001b[1;32m    414\u001b[0m     \u001b[39m# is in UTC\u001b[39;00m\n\u001b[1;32m    415\u001b[0m     dta \u001b[39m=\u001b[39m DatetimeArray(result, dtype\u001b[39m=\u001b[39mtz_to_dtype(tz_parsed))\n",
      "File \u001b[0;32m~/.local/lib/python3.10/site-packages/pandas/core/arrays/datetimes.py:2242\u001b[0m, in \u001b[0;36mobjects_to_datetime64ns\u001b[0;34m(data, dayfirst, yearfirst, utc, errors, require_iso8601, allow_object, allow_mixed)\u001b[0m\n\u001b[1;32m   2240\u001b[0m         \u001b[39mreturn\u001b[39;00m values\u001b[39m.\u001b[39mview(\u001b[39m\"\u001b[39m\u001b[39mi8\u001b[39m\u001b[39m\"\u001b[39m), tz_parsed\n\u001b[1;32m   2241\u001b[0m     \u001b[39mexcept\u001b[39;00m (\u001b[39mValueError\u001b[39;00m, \u001b[39mTypeError\u001b[39;00m):\n\u001b[0;32m-> 2242\u001b[0m         \u001b[39mraise\u001b[39;00m err\n\u001b[1;32m   2244\u001b[0m \u001b[39mif\u001b[39;00m tz_parsed \u001b[39mis\u001b[39;00m \u001b[39mnot\u001b[39;00m \u001b[39mNone\u001b[39;00m:\n\u001b[1;32m   2245\u001b[0m     \u001b[39m# We can take a shortcut since the datetime64 numpy array\u001b[39;00m\n\u001b[1;32m   2246\u001b[0m     \u001b[39m#  is in UTC\u001b[39;00m\n\u001b[1;32m   2247\u001b[0m     \u001b[39m# Return i8 values to denote unix timestamps\u001b[39;00m\n\u001b[1;32m   2248\u001b[0m     \u001b[39mreturn\u001b[39;00m result\u001b[39m.\u001b[39mview(\u001b[39m\"\u001b[39m\u001b[39mi8\u001b[39m\u001b[39m\"\u001b[39m), tz_parsed\n",
      "File \u001b[0;32m~/.local/lib/python3.10/site-packages/pandas/core/arrays/datetimes.py:2224\u001b[0m, in \u001b[0;36mobjects_to_datetime64ns\u001b[0;34m(data, dayfirst, yearfirst, utc, errors, require_iso8601, allow_object, allow_mixed)\u001b[0m\n\u001b[1;32m   2222\u001b[0m order: Literal[\u001b[39m\"\u001b[39m\u001b[39mF\u001b[39m\u001b[39m\"\u001b[39m, \u001b[39m\"\u001b[39m\u001b[39mC\u001b[39m\u001b[39m\"\u001b[39m] \u001b[39m=\u001b[39m \u001b[39m\"\u001b[39m\u001b[39mF\u001b[39m\u001b[39m\"\u001b[39m \u001b[39mif\u001b[39;00m flags\u001b[39m.\u001b[39mf_contiguous \u001b[39melse\u001b[39;00m \u001b[39m\"\u001b[39m\u001b[39mC\u001b[39m\u001b[39m\"\u001b[39m\n\u001b[1;32m   2223\u001b[0m \u001b[39mtry\u001b[39;00m:\n\u001b[0;32m-> 2224\u001b[0m     result, tz_parsed \u001b[39m=\u001b[39m tslib\u001b[39m.\u001b[39;49marray_to_datetime(\n\u001b[1;32m   2225\u001b[0m         data\u001b[39m.\u001b[39;49mravel(\u001b[39m\"\u001b[39;49m\u001b[39mK\u001b[39;49m\u001b[39m\"\u001b[39;49m),\n\u001b[1;32m   2226\u001b[0m         errors\u001b[39m=\u001b[39;49merrors,\n\u001b[1;32m   2227\u001b[0m         utc\u001b[39m=\u001b[39;49mutc,\n\u001b[1;32m   2228\u001b[0m         dayfirst\u001b[39m=\u001b[39;49mdayfirst,\n\u001b[1;32m   2229\u001b[0m         yearfirst\u001b[39m=\u001b[39;49myearfirst,\n\u001b[1;32m   2230\u001b[0m         require_iso8601\u001b[39m=\u001b[39;49mrequire_iso8601,\n\u001b[1;32m   2231\u001b[0m         allow_mixed\u001b[39m=\u001b[39;49mallow_mixed,\n\u001b[1;32m   2232\u001b[0m     )\n\u001b[1;32m   2233\u001b[0m     result \u001b[39m=\u001b[39m result\u001b[39m.\u001b[39mreshape(data\u001b[39m.\u001b[39mshape, order\u001b[39m=\u001b[39morder)\n\u001b[1;32m   2234\u001b[0m \u001b[39mexcept\u001b[39;00m \u001b[39mValueError\u001b[39;00m \u001b[39mas\u001b[39;00m err:\n",
      "File \u001b[0;32m~/.local/lib/python3.10/site-packages/pandas/_libs/tslib.pyx:381\u001b[0m, in \u001b[0;36mpandas._libs.tslib.array_to_datetime\u001b[0;34m()\u001b[0m\n",
      "File \u001b[0;32m~/.local/lib/python3.10/site-packages/pandas/_libs/tslib.pyx:608\u001b[0m, in \u001b[0;36mpandas._libs.tslib.array_to_datetime\u001b[0;34m()\u001b[0m\n",
      "File \u001b[0;32m~/.local/lib/python3.10/site-packages/pandas/_libs/tslib.pyx:600\u001b[0m, in \u001b[0;36mpandas._libs.tslib.array_to_datetime\u001b[0;34m()\u001b[0m\n",
      "File \u001b[0;32m~/.local/lib/python3.10/site-packages/pandas/_libs/tslib.pyx:580\u001b[0m, in \u001b[0;36mpandas._libs.tslib.array_to_datetime\u001b[0;34m()\u001b[0m\n",
      "File \u001b[0;32m~/.local/lib/python3.10/site-packages/pandas/_libs/tslibs/np_datetime.pyx:120\u001b[0m, in \u001b[0;36mpandas._libs.tslibs.np_datetime.check_dts_bounds\u001b[0;34m()\u001b[0m\n",
      "\u001b[0;31mOutOfBoundsDatetime\u001b[0m: Out of bounds nanosecond timestamp: 1090-05-01 00:00:00"
     ]
    }
   ],
   "source": [
    "for index, row in df.iterrows():\n",
    "    # td = pd.to_datetime('2022/08/23', format='%Y-%m-%d') - pd.to_datetime(f\"{row['create_time'][2:3]}0{row['create_time'][3:4]}0-{row['create_time'][5:12]}\", format='%Y-%m-%d') #them i will subtract the date it DayOfRent- the day it create it \n",
    "    # td = int((td / np.timedelta64(1, 'D')))\n",
    "\n",
    "    # if row[\"DayOfRent\"] == 1:\n",
    "    #     df['timeBeforeRent'][index] = td\n",
    "    pd.to_datetime(f\"{df['create_time'][index][2:3]}0{df['create_time'][index][3:4]}0-{df['create_time'][index][5:12]}\", format='%Y-%m-%d')"
   ]
  },
  {
   "cell_type": "code",
   "execution_count": 90,
   "metadata": {},
   "outputs": [],
   "source": [
    "df['timeBeforeRent'] = 0"
   ]
  },
  {
   "cell_type": "code",
   "execution_count": 91,
   "metadata": {},
   "outputs": [
    {
     "name": "stderr",
     "output_type": "stream",
     "text": [
      "/tmp/ipykernel_13798/1741964151.py:6: SettingWithCopyWarning: \n",
      "A value is trying to be set on a copy of a slice from a DataFrame\n",
      "\n",
      "See the caveats in the documentation: https://pandas.pydata.org/pandas-docs/stable/user_guide/indexing.html#returning-a-view-versus-a-copy\n",
      "  df['timeBeforeRent'][index] = (pd.to_datetime('2022/08/23', format='%Y-%m-%d') - pd.to_datetime(df['create_time'][index][2:12], format='%Y-%m-%d'))/np.timedelta64(1, 'D')\n"
     ]
    }
   ],
   "source": [
    "i = 8 \n",
    "f =14\n",
    "for index, row in df.iterrows():\n",
    "\n",
    "    if row[\"DayOfRent\"] == 1:\n",
    "        df['timeBeforeRent'][index] = (pd.to_datetime('2022/08/23', format='%Y-%m-%d') - pd.to_datetime(df['create_time'][index][2:12], format='%Y-%m-%d'))/np.timedelta64(1, 'D')\n",
    "    elif row[\"DayOfRent\"] == 2:\n",
    "        df['timeBeforeRent'][index] =(pd.to_datetime('2022/08/08', format='%Y-%m-%d') - pd.to_datetime(df['create_time'][index][2:12], format='%Y-%m-%d'))/np.timedelta64(1, 'D')\n",
    "    elif row[\"DayOfRent\"] == 3:\n",
    "        df['timeBeforeRent'][index] = (pd.to_datetime('2022/08/09', format='%Y-%m-%d') - pd.to_datetime(df['create_time'][index][2:12], format='%Y-%m-%d'))/np.timedelta64(1, 'D')\n",
    "    elif row[\"DayOfRent\"] == 4:\n",
    "        df['timeBeforeRent'][index] = (pd.to_datetime('2022/08/10', format='%Y-%m-%d') - pd.to_datetime(df['create_time'][index][2:12], format='%Y-%m-%d'))/np.timedelta64(1, 'D')\n",
    "    elif row[\"DayOfRent\"] == 5:\n",
    "        df['timeBeforeRent'][index] = (pd.to_datetime('2022/08/11', format='%Y-%m-%d') - pd.to_datetime(df['create_time'][index][2:12], format='%Y-%m-%d'))/np.timedelta64(1, 'D')\n",
    "    elif row[\"DayOfRent\"] == 6:\n",
    "        df['timeBeforeRent'][index] = (pd.to_datetime('2022/08/12', format='%Y-%m-%d') - pd.to_datetime(df['create_time'][index][2:12], format='%Y-%m-%d'))/np.timedelta64(1, 'D')\n",
    "    elif row[\"DayOfRent\"] == 7:\n",
    "        df['timeBeforeRent'][index] = (pd.to_datetime('2022/08/13', format='%Y-%m-%d') - pd.to_datetime(df['create_time'][index][2:12], format='%Y-%m-%d'))/np.timedelta64(1, 'D')\n",
    "    elif row[\"DayOfRent\"] == 8:\n",
    "        df['timeBeforeRent'][index] = (pd.to_datetime('2022/08/14', format='%Y-%m-%d') - pd.to_datetime(df['create_time'][index][2:12], format='%Y-%m-%d'))/np.timedelta64(1, 'D')\n",
    "    elif row[\"DayOfRent\"] == i+1:\n",
    "        df['timeBeforeRent'][index] = (pd.to_datetime(f'2022/08/{f+1}', format='%Y-%m-%d') - pd.to_datetime(df['create_time'][index][2:12], format='%Y-%m-%d'))/np.timedelta64(1, 'D')\n",
    "    elif row[\"DayOfRent\"] == i+2:\n",
    "        df['timeBeforeRent'][index] = (pd.to_datetime(f'2022/08/{f+2}', format='%Y-%m-%d') - pd.to_datetime(df['create_time'][index][2:12], format='%Y-%m-%d'))/np.timedelta64(1, 'D')\n",
    "    elif row[\"DayOfRent\"] == i+3:\n",
    "        df['timeBeforeRent'][index] = (pd.to_datetime(f'2022/08/{f+3}', format='%Y-%m-%d') - pd.to_datetime(df['create_time'][index][2:12], format='%Y-%m-%d'))/np.timedelta64(1, 'D')\n",
    "    elif row[\"DayOfRent\"] == i+4:\n",
    "        df['timeBeforeRent'][index] = (pd.to_datetime(f'2022/08/{f+4}', format='%Y-%m-%d') - pd.to_datetime(df['create_time'][index][2:12], format='%Y-%m-%d'))/np.timedelta64(1, 'D')\n",
    "    elif row[\"DayOfRent\"] == i+5:\n",
    "        df['timeBeforeRent'][index] = (pd.to_datetime(f'2022/08/{f+5}', format='%Y-%m-%d') - pd.to_datetime(df['create_time'][index][2:12], format='%Y-%m-%d'))/np.timedelta64(1, 'D')\n",
    "    elif row[\"DayOfRent\"] == i+6:\n",
    "        df['timeBeforeRent'][index] = (pd.to_datetime(f'2022/08/{f+6}', format='%Y-%m-%d') - pd.to_datetime(df['create_time'][index][2:12], format='%Y-%m-%d'))/np.timedelta64(1, 'D')\n",
    "    elif row[\"DayOfRent\"] == i+7:\n",
    "        df['timeBeforeRent'][index] = (pd.to_datetime(f'2022/08/{f+7}', format='%Y-%m-%d') - pd.to_datetime(df['create_time'][index][2:12], format='%Y-%m-%d'))/np.timedelta64(1, 'D')\n",
    "        \n",
    "    "
   ]
  },
  {
   "cell_type": "code",
   "execution_count": 92,
   "metadata": {},
   "outputs": [
    {
     "data": {
      "text/plain": [
       "0      3351\n",
       "21      242\n",
       "22      208\n",
       "23      150\n",
       "24      142\n",
       "       ... \n",
       "336       1\n",
       "169       1\n",
       "380       1\n",
       "254       1\n",
       "196       1\n",
       "Name: timeBeforeRent, Length: 176, dtype: int64"
      ]
     },
     "execution_count": 92,
     "metadata": {},
     "output_type": "execute_result"
    }
   ],
   "source": [
    "df['timeBeforeRent'].value_counts()"
   ]
  },
  {
   "cell_type": "code",
   "execution_count": 93,
   "metadata": {},
   "outputs": [
    {
     "data": {
      "text/plain": [
       "23.30707629586488"
      ]
     },
     "execution_count": 93,
     "metadata": {},
     "output_type": "execute_result"
    }
   ],
   "source": [
    "df['timeBeforeRent'].mean()"
   ]
  },
  {
   "cell_type": "code",
   "execution_count": 94,
   "metadata": {},
   "outputs": [
    {
     "data": {
      "text/plain": [
       "count    3517.000000\n",
       "mean       45.514074\n",
       "std        36.416534\n",
       "min        20.000000\n",
       "25%        25.000000\n",
       "50%        34.000000\n",
       "75%        54.000000\n",
       "max       832.000000\n",
       "Name: timeBeforeRent, dtype: float64"
      ]
     },
     "execution_count": 94,
     "metadata": {},
     "output_type": "execute_result"
    }
   ],
   "source": [
    "df.loc[(df['timeBeforeRent']!=0) ]['timeBeforeRent'].describe() #DayOfRentones only \n"
   ]
  },
  {
   "cell_type": "code",
   "execution_count": 95,
   "metadata": {},
   "outputs": [
    {
     "data": {
      "text/plain": [
       "count    6868.000000\n",
       "mean       23.307076\n",
       "std        34.592919\n",
       "min         0.000000\n",
       "25%         0.000000\n",
       "50%        21.000000\n",
       "75%        35.000000\n",
       "max       832.000000\n",
       "Name: timeBeforeRent, dtype: float64"
      ]
     },
     "execution_count": 95,
     "metadata": {},
     "output_type": "execute_result"
    }
   ],
   "source": [
    "df['timeBeforeRent'].describe()"
   ]
  },
  {
   "cell_type": "code",
   "execution_count": 96,
   "metadata": {},
   "outputs": [],
   "source": [
    "df.to_csv('../data/try.csv' , index=False)"
   ]
  }
 ],
 "metadata": {
  "kernelspec": {
   "display_name": "Python 3.10.4 64-bit",
   "language": "python",
   "name": "python3"
  },
  "language_info": {
   "codemirror_mode": {
    "name": "ipython",
    "version": 3
   },
   "file_extension": ".py",
   "mimetype": "text/x-python",
   "name": "python",
   "nbconvert_exporter": "python",
   "pygments_lexer": "ipython3",
   "version": "3.10.4"
  },
  "orig_nbformat": 4,
  "vscode": {
   "interpreter": {
    "hash": "949777d72b0d2535278d3dc13498b2535136f6dfe0678499012e853ee9abcab1"
   }
  }
 },
 "nbformat": 4,
 "nbformat_minor": 2
}

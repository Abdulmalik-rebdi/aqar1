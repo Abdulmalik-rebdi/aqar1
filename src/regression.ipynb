{
 "cells": [
  {
   "cell_type": "markdown",
   "metadata": {},
   "source": [
    "# predicting OnMarket "
   ]
  },
  {
   "cell_type": "code",
   "execution_count": 72,
   "metadata": {},
   "outputs": [],
   "source": [
    "import pandas as pd\n",
    "import numpy as np\n",
    "import matplotlib.pyplot as plt\n",
    "import math\n",
    "from sklearn.model_selection import train_test_split\n",
    "from sklearn.compose import TransformedTargetRegressor\n",
    "from sklearn.compose import ColumnTransformer\n",
    "from sklearn.compose import make_column_selector as selector\n",
    "from sklearn.preprocessing import PowerTransformer\n",
    "from sklearn.preprocessing import StandardScaler\n",
    "from sklearn.preprocessing import OneHotEncoder\n",
    "from sklearn.preprocessing import LabelEncoder\n",
    "from sklearn.impute import SimpleImputer\n",
    "from sklearn.impute import KNNImputer\n",
    "from sklearn.feature_selection import VarianceThreshold\n",
    "from sklearn.decomposition import PCA\n",
    "import datetime\n",
    "from datetime import timedelta\n",
    "import ast\n",
    "import json    \n",
    "import missingno as msno\n",
    "import seaborn as sns\n",
    "import arabic_reshaper\n",
    "from bidi.algorithm import get_display\n",
    "from sklearn.impute import SimpleImputer\n",
    "# from sklearn_pandas import CategoricalImputer\n",
    "from sklearn.impute import KNNImputer\n",
    "from sklearn.impute import SimpleImputer\n",
    "from sklearn.preprocessing import FunctionTransformer\n",
    "from sklearn.pipeline import Pipeline\n",
    "from sklearn import preprocessing\n",
    "from sklearn.model_selection import train_test_split, GridSearchCV\n",
    "from sklearn.metrics import classification_report, confusion_matrix, precision_score, accuracy_score, recall_score, f1_score\n",
    "from sklearn.linear_model import LogisticRegression\n",
    "# Helper packages\n",
    "from plotnine import *\n",
    "\n",
    "# Modeling packages\n",
    "from sklearn.model_selection import KFold\n",
    "from sklearn.model_selection import cross_val_score\n",
    "from sklearn.neighbors import KNeighborsClassifier\n",
    "from sklearn.metrics import plot_roc_curve\n",
    "from sklearn.metrics import ConfusionMatrixDisplay\n",
    "from sklearn.inspection import permutation_importance\n",
    "from sklearn.inspection import partial_dependence\n",
    "from sklearn.ensemble import RandomForestClassifier\n",
    "from sklearn.tree import DecisionTreeClassifier\n",
    "import matplotlib.pyplot as plt\n",
    "import numpy as np\n",
    "import os\n",
    "import pandas as pd\n",
    "import seaborn as sns\n",
    "\n",
    "from catboost import CatBoostRegressor, cv, Pool\n",
    "\n",
    "from collections import defaultdict\n",
    "\n",
    "from hyperopt import hp, fmin, tpe, STATUS_OK, STATUS_FAIL, Trials\n",
    "\n",
    "import shap\n",
    "from sklearn.decomposition import PCA\n",
    "from sklearn.ensemble import RandomForestRegressor, GradientBoostingRegressor, BaggingRegressor\n",
    "from sklearn.preprocessing import LabelEncoder, StandardScaler, OneHotEncoder\n",
    "from sklearn.model_selection import train_test_split, KFold, cross_val_score, cross_val_predict\n",
    "from sklearn.metrics import mean_squared_error, r2_score\n",
    "from sklearn.linear_model import LinearRegression, Lasso, Ridge\n",
    "from sklearn.pipeline import Pipeline\n",
    "\n",
    "from tqdm import tqdm\n"
   ]
  },
  {
   "cell_type": "markdown",
   "metadata": {},
   "source": [
    "## i will use in all the models 5 cross vaildation and MRSE to measure the ERROR "
   ]
  },
  {
   "cell_type": "code",
   "execution_count": 73,
   "metadata": {},
   "outputs": [],
   "source": [
    "loss = 'neg_root_mean_squared_error'\n",
    "k = 5 #k-fold"
   ]
  },
  {
   "cell_type": "code",
   "execution_count": 90,
   "metadata": {},
   "outputs": [],
   "source": [
    "df = pd.read_csv('../data/ML_TEST2.csv')\n",
    "df['user_id'] = df['user_id'].astype('object')"
   ]
  },
  {
   "cell_type": "markdown",
   "metadata": {},
   "source": [
    "delete outliers as in the EDA"
   ]
  },
  {
   "cell_type": "code",
   "execution_count": 91,
   "metadata": {},
   "outputs": [
    {
     "data": {
      "text/plain": [
       "(6519, 31)"
      ]
     },
     "execution_count": 91,
     "metadata": {},
     "output_type": "execute_result"
    }
   ],
   "source": [
    "df.shape"
   ]
  },
  {
   "cell_type": "code",
   "execution_count": 92,
   "metadata": {},
   "outputs": [],
   "source": [
    "df = df[df['isRent']==True]"
   ]
  },
  {
   "cell_type": "code",
   "execution_count": 94,
   "metadata": {},
   "outputs": [],
   "source": [
    "# df =df[df['beds'] <=5]\n",
    "# df = df.loc[(df['review'] > 3) | (df['review'] == 1)]\n",
    "df = df[df['price'] <=100*1000]\n",
    "# df = df[df['isRent']==True]\n",
    "df = df[df['onMarket']<=65]"
   ]
  },
  {
   "cell_type": "code",
   "execution_count": 95,
   "metadata": {},
   "outputs": [
    {
     "data": {
      "text/plain": [
       "(2575, 31)"
      ]
     },
     "execution_count": 95,
     "metadata": {},
     "output_type": "execute_result"
    }
   ],
   "source": [
    "df.shape"
   ]
  },
  {
   "cell_type": "code",
   "execution_count": 96,
   "metadata": {},
   "outputs": [],
   "source": [
    "df.drop(['createYEAR'],axis=1 ,inplace=True)\n",
    "df.drop(['createDAY'],axis=1 ,inplace=True)\n",
    "df.drop(['createMONTH'],axis=1 ,inplace=True)\n",
    "df.drop(['lUpdateDAY'],axis=1 ,inplace=True)\n",
    "df.drop(['lUpdateMONTH'],axis=1 ,inplace=True)\n",
    "df.drop(['lUpdateYEAR'],axis=1 ,inplace=True)\n",
    "df.drop(['id'],axis=1 ,inplace=True)"
   ]
  },
  {
   "cell_type": "code",
   "execution_count": 97,
   "metadata": {},
   "outputs": [],
   "source": [
    "\n",
    "X = df.drop(['isRent' , 'DayOfRent' , 'timeBeforeRent'  , 'onMarket'  ] , axis=1)\n",
    "y = df['onMarket']"
   ]
  },
  {
   "cell_type": "code",
   "execution_count": 98,
   "metadata": {},
   "outputs": [
    {
     "data": {
      "text/plain": [
       "Index(['user_id', 'len_of_title', 'price', 'len_of_content', 'img_in_poss',\n",
       "       'beds', 'livings', 'wc', 'area', 'street_width', 'age', 'ketchen', 'ac',\n",
       "       'furnished', 'district', 'advertiser_type', 'review', 'profileImg',\n",
       "       'iam_verified', 'zone'],\n",
       "      dtype='object')"
      ]
     },
     "execution_count": 98,
     "metadata": {},
     "output_type": "execute_result"
    }
   ],
   "source": [
    "X.columns"
   ]
  },
  {
   "cell_type": "code",
   "execution_count": 99,
   "metadata": {},
   "outputs": [],
   "source": [
    "X_train, X_test, y_train, y_test = train_test_split(X, y, test_size=0.2)\n",
    "train_df = X_train.join(y_train)\n",
    "test_df =X_test.join(y_test)"
   ]
  },
  {
   "cell_type": "markdown",
   "metadata": {},
   "source": [
    "low varince"
   ]
  },
  {
   "cell_type": "code",
   "execution_count": 100,
   "metadata": {},
   "outputs": [],
   "source": [
    "nzv = VarianceThreshold(threshold=0.1)"
   ]
  },
  {
   "cell_type": "markdown",
   "metadata": {},
   "source": [
    "dealing with Skewness"
   ]
  },
  {
   "cell_type": "code",
   "execution_count": 101,
   "metadata": {},
   "outputs": [],
   "source": [
    "yj = PowerTransformer(method=\"yeo-johnson\")\n",
    "# X_norm = ColumnTransformer([(\"norm\", yj, selector(dtype_include=\"number\"))])"
   ]
  },
  {
   "cell_type": "markdown",
   "metadata": {},
   "source": [
    "Standardization"
   ]
  },
  {
   "cell_type": "code",
   "execution_count": 102,
   "metadata": {},
   "outputs": [],
   "source": [
    "scaler = StandardScaler()\n",
    "\n",
    "# standardize all numeric features\n",
    "# std = ColumnTransformer([(\"norm\", scaler, selector(dtype_include=\"number\"))])"
   ]
  },
  {
   "cell_type": "markdown",
   "metadata": {},
   "source": [
    "OneHotEncoder for advertiser_type"
   ]
  },
  {
   "cell_type": "code",
   "execution_count": 103,
   "metadata": {},
   "outputs": [],
   "source": [
    "encoder = OneHotEncoder(handle_unknown=\"ignore\")\n"
   ]
  },
  {
   "cell_type": "markdown",
   "metadata": {},
   "source": [
    "rediction the dim"
   ]
  },
  {
   "cell_type": "code",
   "execution_count": 104,
   "metadata": {},
   "outputs": [],
   "source": [
    "# pca = PCA(n_components=11)\n"
   ]
  },
  {
   "cell_type": "code",
   "execution_count": 105,
   "metadata": {},
   "outputs": [],
   "source": [
    "preprocessor = ColumnTransformer(\n",
    "  remainder=\"passthrough\",\n",
    "  transformers=[\n",
    "  (\"nzv_encode\", nzv, selector(dtype_include=\"number\")),\n",
    "  (\"norm\", yj, selector(dtype_include=\"number\")),\n",
    "  (\"std_encode\", scaler, selector(dtype_include=\"number\")),\n",
    "  # (\"pca_encode\", pca, selector(dtype_include=\"number\")),\n",
    "  (\"one-hot\", encoder, selector(dtype_include=\"object\")),\n",
    "  ])"
   ]
  },
  {
   "cell_type": "code",
   "execution_count": 106,
   "metadata": {},
   "outputs": [],
   "source": [
    "from sklearn.linear_model import RidgeCV\n",
    "from sklearn.inspection import permutation_importance\n",
    "from sklearn.inspection import partial_dependence"
   ]
  },
  {
   "cell_type": "markdown",
   "metadata": {},
   "source": [
    "# RidgeCV"
   ]
  },
  {
   "cell_type": "code",
   "execution_count": 107,
   "metadata": {},
   "outputs": [],
   "source": [
    "alphas = [1,10 , 20]\n",
    "reg = RidgeCV(alphas= alphas , store_cv_values=True)\n",
    "\n",
    "model_pipeline = Pipeline(steps=[\n",
    "  (\"preprocessor\", preprocessor),\n",
    "  (\"reg\", reg),\n",
    "])\n",
    "cb_reg_1 = model_pipeline.fit(X_train , y_train)\n",
    "cv_MSE = np.mean(reg.cv_values_, axis=0)"
   ]
  },
  {
   "cell_type": "code",
   "execution_count": 108,
   "metadata": {},
   "outputs": [
    {
     "data": {
      "text/plain": [
       "[1, 10, 20]"
      ]
     },
     "execution_count": 108,
     "metadata": {},
     "output_type": "execute_result"
    }
   ],
   "source": [
    "alphas"
   ]
  },
  {
   "cell_type": "code",
   "execution_count": 109,
   "metadata": {},
   "outputs": [
    {
     "data": {
      "text/plain": [
       "array([201.06323096, 211.19551535, 219.02940851])"
      ]
     },
     "execution_count": 109,
     "metadata": {},
     "output_type": "execute_result"
    }
   ],
   "source": [
    "cv_MSE"
   ]
  },
  {
   "cell_type": "code",
   "execution_count": 110,
   "metadata": {},
   "outputs": [
    {
     "data": {
      "text/plain": [
       "1"
      ]
     },
     "execution_count": 110,
     "metadata": {},
     "output_type": "execute_result"
    }
   ],
   "source": [
    "reg.alpha_"
   ]
  },
  {
   "cell_type": "code",
   "execution_count": 111,
   "metadata": {},
   "outputs": [
    {
     "data": {
      "text/plain": [
       "15.440310275044942"
      ]
     },
     "execution_count": 111,
     "metadata": {},
     "output_type": "execute_result"
    }
   ],
   "source": [
    "results =cross_val_score(cb_reg_1, X_test, y_test.values.ravel(), cv=k, scoring=loss)\n",
    "np.abs(np.mean(results))"
   ]
  },
  {
   "cell_type": "markdown",
   "metadata": {},
   "source": [
    "# catBoost\n"
   ]
  },
  {
   "cell_type": "code",
   "execution_count": 144,
   "metadata": {},
   "outputs": [
    {
     "name": "stdout",
     "output_type": "stream",
     "text": [
      "Learning rate set to 0.045896\n",
      "0:\tlearn: 16.0594654\ttotal: 13.9ms\tremaining: 13.8s\n",
      "200:\tlearn: 13.1610672\ttotal: 472ms\tremaining: 1.88s\n",
      "400:\tlearn: 11.9877392\ttotal: 843ms\tremaining: 1.26s\n",
      "600:\tlearn: 11.0578084\ttotal: 1.2s\tremaining: 800ms\n",
      "800:\tlearn: 10.2617796\ttotal: 1.56s\tremaining: 388ms\n",
      "999:\tlearn: 9.5991463\ttotal: 1.92s\tremaining: 0us\n",
      "Learning rate set to 0.03559\n",
      "0:\tlearn: 15.8798058\ttotal: 2.48ms\tremaining: 2.48s\n",
      "200:\tlearn: 12.7583025\ttotal: 83.8ms\tremaining: 333ms\n",
      "400:\tlearn: 10.7241423\ttotal: 162ms\tremaining: 242ms\n",
      "600:\tlearn: 9.1439012\ttotal: 250ms\tremaining: 166ms\n",
      "800:\tlearn: 7.9355900\ttotal: 330ms\tremaining: 82ms\n",
      "999:\tlearn: 6.9789078\ttotal: 408ms\tremaining: 0us\n",
      "Learning rate set to 0.03559\n",
      "0:\tlearn: 15.6321964\ttotal: 755us\tremaining: 755ms\n",
      "200:\tlearn: 12.1696710\ttotal: 99.2ms\tremaining: 394ms\n",
      "400:\tlearn: 10.3415303\ttotal: 178ms\tremaining: 266ms\n",
      "600:\tlearn: 8.7829754\ttotal: 266ms\tremaining: 177ms\n",
      "800:\tlearn: 7.5744356\ttotal: 350ms\tremaining: 86.9ms\n",
      "999:\tlearn: 6.6391267\ttotal: 428ms\tremaining: 0us\n",
      "Learning rate set to 0.03559\n",
      "0:\tlearn: 15.9373322\ttotal: 610us\tremaining: 610ms\n",
      "200:\tlearn: 12.6517602\ttotal: 93.7ms\tremaining: 373ms\n",
      "400:\tlearn: 10.5629625\ttotal: 179ms\tremaining: 267ms\n",
      "600:\tlearn: 8.9116620\ttotal: 271ms\tremaining: 180ms\n",
      "800:\tlearn: 7.6707590\ttotal: 356ms\tremaining: 88.3ms\n",
      "999:\tlearn: 6.6393783\ttotal: 442ms\tremaining: 0us\n",
      "Learning rate set to 0.03559\n",
      "0:\tlearn: 15.5558384\ttotal: 503us\tremaining: 503ms\n",
      "200:\tlearn: 12.2293164\ttotal: 91.3ms\tremaining: 363ms\n",
      "400:\tlearn: 10.3371771\ttotal: 179ms\tremaining: 267ms\n",
      "600:\tlearn: 8.6230310\ttotal: 288ms\tremaining: 191ms\n",
      "800:\tlearn: 7.3357092\ttotal: 372ms\tremaining: 92.3ms\n",
      "999:\tlearn: 6.3268811\ttotal: 455ms\tremaining: 0us\n",
      "Learning rate set to 0.03559\n",
      "0:\tlearn: 15.9116959\ttotal: 697us\tremaining: 696ms\n",
      "200:\tlearn: 12.7428638\ttotal: 87.5ms\tremaining: 348ms\n",
      "400:\tlearn: 10.7049615\ttotal: 171ms\tremaining: 256ms\n",
      "600:\tlearn: 9.0588950\ttotal: 262ms\tremaining: 174ms\n",
      "800:\tlearn: 7.8456986\ttotal: 349ms\tremaining: 86.6ms\n",
      "999:\tlearn: 6.9019851\ttotal: 432ms\tremaining: 0us\n"
     ]
    }
   ],
   "source": [
    "\n",
    "cb_reg_1 = CatBoostRegressor( random_seed=13, verbose=200)\n",
    "\n",
    "pipeline  = Pipeline(steps=[\n",
    "  (\"preprocessor\", preprocessor),\n",
    "  (\"cb_reg_1\", cb_reg_1),\n",
    "])\n",
    "REG1 = pipeline.fit(X_train , y_train)\n",
    "# scores = cross_val_score(model_pipeline, X_train, y_train, cv = 5 )\n",
    "# scores = GridSearchCV(model_pipeline, X_train, y_train , cv=5, scoring='neg_root_mean_squared_error', n_jobs=-1)\n",
    "results = cross_val_score(model_pipeline, X_test, y_test.values.ravel(), cv=k, scoring=loss)\n"
   ]
  },
  {
   "cell_type": "code",
   "execution_count": 145,
   "metadata": {},
   "outputs": [
    {
     "data": {
      "text/plain": [
       "16.42006388823208"
      ]
     },
     "execution_count": 145,
     "metadata": {},
     "output_type": "execute_result"
    }
   ],
   "source": [
    "\n",
    "np.abs(np.mean(results))"
   ]
  },
  {
   "cell_type": "markdown",
   "metadata": {},
   "source": [
    "-----------"
   ]
  },
  {
   "cell_type": "code",
   "execution_count": 119,
   "metadata": {},
   "outputs": [],
   "source": [
    "import tensorflow as tf\n",
    "import numpy as np\n",
    "import pandas as pd\n",
    "import matplotlib.pyplot as plt\n",
    "import seaborn as sns\n",
    "import sklearn"
   ]
  },
  {
   "cell_type": "markdown",
   "metadata": {},
   "source": [
    "# LGBMRegressor"
   ]
  },
  {
   "cell_type": "code",
   "execution_count": 120,
   "metadata": {},
   "outputs": [
    {
     "data": {
      "text/plain": [
       "16.943182122238355"
      ]
     },
     "execution_count": 120,
     "metadata": {},
     "output_type": "execute_result"
    }
   ],
   "source": [
    "from lightgbm import LGBMRegressor\n",
    "\n",
    "lgbmRegressor = LGBMRegressor()\n",
    "model_pipeline = Pipeline(steps=[\n",
    "  (\"preprocessor\", preprocessor),\n",
    "  (\"lgbmRegressor\", lgbmRegressor),\n",
    "])\n",
    "model_pipeline.fit(X_train, y_train)\n",
    "results = cross_val_score(model_pipeline, X_test, y_test.values.ravel(), cv=k, scoring=loss)\n",
    "\n",
    "np.abs(np.mean(results))"
   ]
  },
  {
   "cell_type": "markdown",
   "metadata": {},
   "source": [
    "\n",
    "# XGBRegressor"
   ]
  },
  {
   "cell_type": "code",
   "execution_count": 146,
   "metadata": {},
   "outputs": [],
   "source": [
    "from xgboost import XGBRegressor"
   ]
  },
  {
   "cell_type": "code",
   "execution_count": 147,
   "metadata": {},
   "outputs": [
    {
     "data": {
      "text/plain": [
       "15.973786138378694"
      ]
     },
     "execution_count": 147,
     "metadata": {},
     "output_type": "execute_result"
    }
   ],
   "source": [
    "\n",
    "kf = KFold(n_splits=5, shuffle=True, random_state=0)\n",
    "\n",
    "# defining model\n",
    "xgbreg = XGBRegressor()\n",
    "model_pipeline = Pipeline(steps=[\n",
    "  (\"preprocessor\", preprocessor),\n",
    "  (\"xgbreg\", xgbreg),\n",
    "])\n",
    "# taking positive because cross val score returns -ve values\n",
    "results = cross_val_score(model_pipeline, X_test, y_test.values.ravel(), cv=k, scoring=loss)\n",
    "\n",
    "np.abs(np.mean(results))\n",
    "# printing the output\n",
    "# print(f\"Scores - {scores}\\nMean - {sum(scores)/len(scores)}\")"
   ]
  },
  {
   "cell_type": "code",
   "execution_count": 52,
   "metadata": {},
   "outputs": [],
   "source": [
    "# print(f\"Scores - {results}\\nMean - {sum(results)/len(results)}\")"
   ]
  },
  {
   "cell_type": "code",
   "execution_count": 127,
   "metadata": {},
   "outputs": [],
   "source": [
    "def Objective(trial):\n",
    "    params = {\n",
    "        \"n_estimators\": trial.suggest_categorical(\"n_estimators\", [100,150, 200, 250]),\n",
    "        \"eta\": trial.suggest_loguniform(\"eta\",1e-2,0.1),\n",
    "        \"subsample\": trial.suggest_discrete_uniform(\"subsample\", 0.6,1,0.1),\n",
    "        \"min_child_weight\": trial.suggest_int(\"min_child_weight\",5,11,15),\n",
    "        \"colsample_bytree\": trial.suggest_discrete_uniform(\"colsample_bytree\", 0.6,1,0.1),\n",
    "        \"max_depth\": trial.suggest_categorical(\"max_depth\",[3,5,7,9,11,13]),\n",
    "        \"random_state\": 2021\n",
    "    }\n",
    "    \n",
    "    model = XGBRegressor(**params)\n",
    "    \n",
    "    model_pipeline = Pipeline(steps=[\n",
    "    (\"preprocessor\", preprocessor),\n",
    "     (\"model\", model),\n",
    "    ])\n",
    "    # taking positive because cross val score returns -ve values\n",
    "    \n",
    "    results = cross_val_score(model_pipeline, X_test, y_test.values.ravel(), cv=k, scoring=loss)\n",
    "\n",
    "    \n",
    "    \n",
    "    return np.abs(np.mean(results))"
   ]
  },
  {
   "cell_type": "code",
   "execution_count": 128,
   "metadata": {},
   "outputs": [],
   "source": [
    "import optuna"
   ]
  },
  {
   "cell_type": "code",
   "execution_count": 129,
   "metadata": {},
   "outputs": [
    {
     "name": "stderr",
     "output_type": "stream",
     "text": [
      "\u001b[32m[I 2022-08-24 02:29:25,913]\u001b[0m A new study created in memory with name: Xgboost optimization\u001b[0m\n",
      "The distribution is specified by [5, 11] and step=15, but the range is not divisible by `step`. It will be replaced by [5, 5].\n",
      "\u001b[32m[I 2022-08-24 02:29:30,052]\u001b[0m Trial 0 finished with value: 16.25195005795745 and parameters: {'n_estimators': 250, 'eta': 0.0773434357787042, 'subsample': 1.0, 'min_child_weight': 5, 'colsample_bytree': 0.6, 'max_depth': 13}. Best is trial 0 with value: 16.25195005795745.\u001b[0m\n",
      "The distribution is specified by [5, 11] and step=15, but the range is not divisible by `step`. It will be replaced by [5, 5].\n",
      "\u001b[32m[I 2022-08-24 02:29:32,038]\u001b[0m Trial 1 finished with value: 16.317497172497568 and parameters: {'n_estimators': 150, 'eta': 0.07826974730208443, 'subsample': 0.8, 'min_child_weight': 5, 'colsample_bytree': 0.9, 'max_depth': 5}. Best is trial 0 with value: 16.25195005795745.\u001b[0m\n",
      "The distribution is specified by [5, 11] and step=15, but the range is not divisible by `step`. It will be replaced by [5, 5].\n",
      "\u001b[32m[I 2022-08-24 02:29:35,076]\u001b[0m Trial 2 finished with value: 16.590692953392235 and parameters: {'n_estimators': 250, 'eta': 0.05538880809299347, 'subsample': 0.6, 'min_child_weight': 5, 'colsample_bytree': 0.6, 'max_depth': 7}. Best is trial 0 with value: 16.25195005795745.\u001b[0m\n",
      "The distribution is specified by [5, 11] and step=15, but the range is not divisible by `step`. It will be replaced by [5, 5].\n",
      "\u001b[32m[I 2022-08-24 02:29:37,449]\u001b[0m Trial 3 finished with value: 15.877577494113785 and parameters: {'n_estimators': 100, 'eta': 0.04233509140084198, 'subsample': 0.7, 'min_child_weight': 5, 'colsample_bytree': 1.0, 'max_depth': 7}. Best is trial 3 with value: 15.877577494113785.\u001b[0m\n",
      "The distribution is specified by [5, 11] and step=15, but the range is not divisible by `step`. It will be replaced by [5, 5].\n",
      "\u001b[32m[I 2022-08-24 02:29:39,227]\u001b[0m Trial 4 finished with value: 16.52125113890158 and parameters: {'n_estimators': 100, 'eta': 0.08494760492641235, 'subsample': 0.7, 'min_child_weight': 5, 'colsample_bytree': 0.8, 'max_depth': 11}. Best is trial 3 with value: 15.877577494113785.\u001b[0m\n",
      "The distribution is specified by [5, 11] and step=15, but the range is not divisible by `step`. It will be replaced by [5, 5].\n",
      "\u001b[32m[I 2022-08-24 02:29:42,353]\u001b[0m Trial 5 finished with value: 15.855841855420692 and parameters: {'n_estimators': 150, 'eta': 0.017348803214901263, 'subsample': 0.7, 'min_child_weight': 5, 'colsample_bytree': 0.8, 'max_depth': 13}. Best is trial 5 with value: 15.855841855420692.\u001b[0m\n",
      "The distribution is specified by [5, 11] and step=15, but the range is not divisible by `step`. It will be replaced by [5, 5].\n",
      "\u001b[32m[I 2022-08-24 02:29:44,502]\u001b[0m Trial 6 finished with value: 15.76150428286709 and parameters: {'n_estimators': 150, 'eta': 0.021909632251934836, 'subsample': 0.6, 'min_child_weight': 5, 'colsample_bytree': 0.9, 'max_depth': 9}. Best is trial 6 with value: 15.76150428286709.\u001b[0m\n",
      "The distribution is specified by [5, 11] and step=15, but the range is not divisible by `step`. It will be replaced by [5, 5].\n",
      "\u001b[32m[I 2022-08-24 02:29:46,794]\u001b[0m Trial 7 finished with value: 15.75710989702939 and parameters: {'n_estimators': 200, 'eta': 0.013720525474650126, 'subsample': 1.0, 'min_child_weight': 5, 'colsample_bytree': 0.9, 'max_depth': 5}. Best is trial 7 with value: 15.75710989702939.\u001b[0m\n",
      "The distribution is specified by [5, 11] and step=15, but the range is not divisible by `step`. It will be replaced by [5, 5].\n",
      "\u001b[32m[I 2022-08-24 02:29:48,196]\u001b[0m Trial 8 finished with value: 16.10020279808865 and parameters: {'n_estimators': 100, 'eta': 0.06048642843448153, 'subsample': 0.9, 'min_child_weight': 5, 'colsample_bytree': 0.6, 'max_depth': 9}. Best is trial 7 with value: 15.75710989702939.\u001b[0m\n",
      "The distribution is specified by [5, 11] and step=15, but the range is not divisible by `step`. It will be replaced by [5, 5].\n",
      "\u001b[32m[I 2022-08-24 02:29:51,678]\u001b[0m Trial 9 finished with value: 16.014566888564836 and parameters: {'n_estimators': 250, 'eta': 0.017165302535211348, 'subsample': 1.0, 'min_child_weight': 5, 'colsample_bytree': 0.9, 'max_depth': 7}. Best is trial 7 with value: 15.75710989702939.\u001b[0m\n"
     ]
    }
   ],
   "source": [
    "study = optuna.create_study(direction=\"minimize\", study_name='Xgboost optimization')\n",
    "study.optimize(Objective, n_trials=10)"
   ]
  },
  {
   "cell_type": "code",
   "execution_count": 131,
   "metadata": {},
   "outputs": [
    {
     "data": {
      "text/plain": [
       "{'n_estimators': 200,\n",
       " 'eta': 0.013720525474650126,\n",
       " 'subsample': 1.0,\n",
       " 'min_child_weight': 5,\n",
       " 'colsample_bytree': 0.9,\n",
       " 'max_depth': 5}"
      ]
     },
     "execution_count": 131,
     "metadata": {},
     "output_type": "execute_result"
    }
   ],
   "source": [
    "XGB_params = study.best_params\n",
    "\n",
    "study.best_params"
   ]
  },
  {
   "cell_type": "markdown",
   "metadata": {},
   "source": [
    "# LightGBM"
   ]
  },
  {
   "cell_type": "code",
   "execution_count": 134,
   "metadata": {},
   "outputs": [],
   "source": [
    "import lightgbm as lgbm\n"
   ]
  },
  {
   "cell_type": "code",
   "execution_count": 135,
   "metadata": {},
   "outputs": [
    {
     "data": {
      "text/plain": [
       "16.943182122238355"
      ]
     },
     "execution_count": 135,
     "metadata": {},
     "output_type": "execute_result"
    }
   ],
   "source": [
    "lgbreg = lgbm.LGBMRegressor()\n",
    "model_pipeline = Pipeline(steps=[\n",
    "  (\"preprocessor\", preprocessor),\n",
    "  (\"lgbreg\", lgbreg),\n",
    "])\n",
    "# taking positive because cross val score returns -ve values\n",
    "results = cross_val_score(model_pipeline, X_test, y_test.values.ravel(), cv=k, scoring=loss)\n",
    "\n",
    "np.abs(np.mean(results))"
   ]
  },
  {
   "cell_type": "code",
   "execution_count": 136,
   "metadata": {},
   "outputs": [],
   "source": [
    "def Objective(trial):\n",
    "    params = {\n",
    "        'lambda_l1': trial.suggest_loguniform('lambda_l1', 1e-8, 10.0),\n",
    "        'lambda_l2': trial.suggest_loguniform('lambda_l2', 1e-8, 10.0),\n",
    "        'num_leaves': trial.suggest_int('num_leaves', 2, 256),\n",
    "        'feature_fraction': trial.suggest_uniform('feature_fraction', 0.4, 1.0),\n",
    "        'bagging_fraction': trial.suggest_uniform('bagging_fraction', 0.4, 1.0),\n",
    "        'bagging_freq': trial.suggest_int('bagging_freq', 1, 7),\n",
    "        'min_child_samples': trial.suggest_int('min_child_samples', 5, 100),\n",
    "    }\n",
    "    model = lgbm.LGBMRegressor(**params)\n",
    "    model_pipeline = Pipeline(steps=[\n",
    "  (\"preprocessor\", preprocessor),\n",
    "  (\"model\", model),\n",
    "])\n",
    "    \n",
    "    # taking positive because cross val score returns -ve values\n",
    "    results = cross_val_score(model_pipeline, X_test, y_test.values.ravel(), cv=k, scoring=loss)\n",
    "\n",
    "\n",
    "    \n",
    "    return np.abs(np.mean(results))"
   ]
  },
  {
   "cell_type": "code",
   "execution_count": 137,
   "metadata": {},
   "outputs": [
    {
     "name": "stderr",
     "output_type": "stream",
     "text": [
      "\u001b[32m[I 2022-08-24 02:32:46,741]\u001b[0m A new study created in memory with name: LGBM optimization\u001b[0m\n",
      "\u001b[32m[I 2022-08-24 02:32:46,957]\u001b[0m Trial 0 finished with value: 15.835178761027686 and parameters: {'lambda_l1': 5.900653192269175, 'lambda_l2': 7.529964426217943e-06, 'num_leaves': 137, 'feature_fraction': 0.9920683569068947, 'bagging_fraction': 0.40191427483674125, 'bagging_freq': 7, 'min_child_samples': 46}. Best is trial 0 with value: 15.835178761027686.\u001b[0m\n"
     ]
    },
    {
     "name": "stdout",
     "output_type": "stream",
     "text": [
      "[LightGBM] [Warning] lambda_l1 is set=5.900653192269175, reg_alpha=0.0 will be ignored. Current value: lambda_l1=5.900653192269175\n",
      "[LightGBM] [Warning] feature_fraction is set=0.9920683569068947, colsample_bytree=1.0 will be ignored. Current value: feature_fraction=0.9920683569068947\n",
      "[LightGBM] [Warning] bagging_freq is set=7, subsample_freq=0 will be ignored. Current value: bagging_freq=7\n",
      "[LightGBM] [Warning] lambda_l2 is set=7.529964426217943e-06, reg_lambda=0.0 will be ignored. Current value: lambda_l2=7.529964426217943e-06\n",
      "[LightGBM] [Warning] bagging_fraction is set=0.40191427483674125, subsample=1.0 will be ignored. Current value: bagging_fraction=0.40191427483674125\n",
      "[LightGBM] [Warning] lambda_l1 is set=5.900653192269175, reg_alpha=0.0 will be ignored. Current value: lambda_l1=5.900653192269175\n",
      "[LightGBM] [Warning] feature_fraction is set=0.9920683569068947, colsample_bytree=1.0 will be ignored. Current value: feature_fraction=0.9920683569068947\n",
      "[LightGBM] [Warning] bagging_freq is set=7, subsample_freq=0 will be ignored. Current value: bagging_freq=7\n",
      "[LightGBM] [Warning] lambda_l2 is set=7.529964426217943e-06, reg_lambda=0.0 will be ignored. Current value: lambda_l2=7.529964426217943e-06\n",
      "[LightGBM] [Warning] bagging_fraction is set=0.40191427483674125, subsample=1.0 will be ignored. Current value: bagging_fraction=0.40191427483674125\n",
      "[LightGBM] [Warning] lambda_l1 is set=5.900653192269175, reg_alpha=0.0 will be ignored. Current value: lambda_l1=5.900653192269175\n",
      "[LightGBM] [Warning] feature_fraction is set=0.9920683569068947, colsample_bytree=1.0 will be ignored. Current value: feature_fraction=0.9920683569068947\n",
      "[LightGBM] [Warning] bagging_freq is set=7, subsample_freq=0 will be ignored. Current value: bagging_freq=7\n",
      "[LightGBM] [Warning] lambda_l2 is set=7.529964426217943e-06, reg_lambda=0.0 will be ignored. Current value: lambda_l2=7.529964426217943e-06\n",
      "[LightGBM] [Warning] bagging_fraction is set=0.40191427483674125, subsample=1.0 will be ignored. Current value: bagging_fraction=0.40191427483674125\n",
      "[LightGBM] [Warning] lambda_l1 is set=5.900653192269175, reg_alpha=0.0 will be ignored. Current value: lambda_l1=5.900653192269175\n",
      "[LightGBM] [Warning] feature_fraction is set=0.9920683569068947, colsample_bytree=1.0 will be ignored. Current value: feature_fraction=0.9920683569068947\n",
      "[LightGBM] [Warning] bagging_freq is set=7, subsample_freq=0 will be ignored. Current value: bagging_freq=7\n",
      "[LightGBM] [Warning] lambda_l2 is set=7.529964426217943e-06, reg_lambda=0.0 will be ignored. Current value: lambda_l2=7.529964426217943e-06\n",
      "[LightGBM] [Warning] bagging_fraction is set=0.40191427483674125, subsample=1.0 will be ignored. Current value: bagging_fraction=0.40191427483674125\n",
      "[LightGBM] [Warning] lambda_l1 is set=5.900653192269175, reg_alpha=0.0 will be ignored. Current value: lambda_l1=5.900653192269175\n",
      "[LightGBM] [Warning] feature_fraction is set=0.9920683569068947, colsample_bytree=1.0 will be ignored. Current value: feature_fraction=0.9920683569068947\n",
      "[LightGBM] [Warning] bagging_freq is set=7, subsample_freq=0 will be ignored. Current value: bagging_freq=7\n",
      "[LightGBM] [Warning] lambda_l2 is set=7.529964426217943e-06, reg_lambda=0.0 will be ignored. Current value: lambda_l2=7.529964426217943e-06\n",
      "[LightGBM] [Warning] bagging_fraction is set=0.40191427483674125, subsample=1.0 will be ignored. Current value: bagging_fraction=0.40191427483674125\n"
     ]
    },
    {
     "name": "stderr",
     "output_type": "stream",
     "text": [
      "\u001b[32m[I 2022-08-24 02:32:47,174]\u001b[0m Trial 1 finished with value: 16.058845736857144 and parameters: {'lambda_l1': 8.914312989446231e-06, 'lambda_l2': 1.2258965150224352e-07, 'num_leaves': 199, 'feature_fraction': 0.8571398052615085, 'bagging_fraction': 0.4327194292560218, 'bagging_freq': 4, 'min_child_samples': 54}. Best is trial 0 with value: 15.835178761027686.\u001b[0m\n"
     ]
    },
    {
     "name": "stdout",
     "output_type": "stream",
     "text": [
      "[LightGBM] [Warning] lambda_l1 is set=8.914312989446231e-06, reg_alpha=0.0 will be ignored. Current value: lambda_l1=8.914312989446231e-06\n",
      "[LightGBM] [Warning] feature_fraction is set=0.8571398052615085, colsample_bytree=1.0 will be ignored. Current value: feature_fraction=0.8571398052615085\n",
      "[LightGBM] [Warning] bagging_freq is set=4, subsample_freq=0 will be ignored. Current value: bagging_freq=4\n",
      "[LightGBM] [Warning] lambda_l2 is set=1.2258965150224352e-07, reg_lambda=0.0 will be ignored. Current value: lambda_l2=1.2258965150224352e-07\n",
      "[LightGBM] [Warning] bagging_fraction is set=0.4327194292560218, subsample=1.0 will be ignored. Current value: bagging_fraction=0.4327194292560218\n",
      "[LightGBM] [Warning] lambda_l1 is set=8.914312989446231e-06, reg_alpha=0.0 will be ignored. Current value: lambda_l1=8.914312989446231e-06\n",
      "[LightGBM] [Warning] feature_fraction is set=0.8571398052615085, colsample_bytree=1.0 will be ignored. Current value: feature_fraction=0.8571398052615085\n",
      "[LightGBM] [Warning] bagging_freq is set=4, subsample_freq=0 will be ignored. Current value: bagging_freq=4\n",
      "[LightGBM] [Warning] lambda_l2 is set=1.2258965150224352e-07, reg_lambda=0.0 will be ignored. Current value: lambda_l2=1.2258965150224352e-07\n",
      "[LightGBM] [Warning] bagging_fraction is set=0.4327194292560218, subsample=1.0 will be ignored. Current value: bagging_fraction=0.4327194292560218\n",
      "[LightGBM] [Warning] lambda_l1 is set=8.914312989446231e-06, reg_alpha=0.0 will be ignored. Current value: lambda_l1=8.914312989446231e-06\n",
      "[LightGBM] [Warning] feature_fraction is set=0.8571398052615085, colsample_bytree=1.0 will be ignored. Current value: feature_fraction=0.8571398052615085\n",
      "[LightGBM] [Warning] bagging_freq is set=4, subsample_freq=0 will be ignored. Current value: bagging_freq=4\n",
      "[LightGBM] [Warning] lambda_l2 is set=1.2258965150224352e-07, reg_lambda=0.0 will be ignored. Current value: lambda_l2=1.2258965150224352e-07\n",
      "[LightGBM] [Warning] bagging_fraction is set=0.4327194292560218, subsample=1.0 will be ignored. Current value: bagging_fraction=0.4327194292560218\n",
      "[LightGBM] [Warning] lambda_l1 is set=8.914312989446231e-06, reg_alpha=0.0 will be ignored. Current value: lambda_l1=8.914312989446231e-06\n",
      "[LightGBM] [Warning] feature_fraction is set=0.8571398052615085, colsample_bytree=1.0 will be ignored. Current value: feature_fraction=0.8571398052615085\n",
      "[LightGBM] [Warning] bagging_freq is set=4, subsample_freq=0 will be ignored. Current value: bagging_freq=4\n",
      "[LightGBM] [Warning] lambda_l2 is set=1.2258965150224352e-07, reg_lambda=0.0 will be ignored. Current value: lambda_l2=1.2258965150224352e-07\n",
      "[LightGBM] [Warning] bagging_fraction is set=0.4327194292560218, subsample=1.0 will be ignored. Current value: bagging_fraction=0.4327194292560218\n",
      "[LightGBM] [Warning] lambda_l1 is set=8.914312989446231e-06, reg_alpha=0.0 will be ignored. Current value: lambda_l1=8.914312989446231e-06\n",
      "[LightGBM] [Warning] feature_fraction is set=0.8571398052615085, colsample_bytree=1.0 will be ignored. Current value: feature_fraction=0.8571398052615085\n",
      "[LightGBM] [Warning] bagging_freq is set=4, subsample_freq=0 will be ignored. Current value: bagging_freq=4\n",
      "[LightGBM] [Warning] lambda_l2 is set=1.2258965150224352e-07, reg_lambda=0.0 will be ignored. Current value: lambda_l2=1.2258965150224352e-07\n",
      "[LightGBM] [Warning] bagging_fraction is set=0.4327194292560218, subsample=1.0 will be ignored. Current value: bagging_fraction=0.4327194292560218\n",
      "[LightGBM] [Warning] lambda_l1 is set=2.5930563611181126e-06, reg_alpha=0.0 will be ignored. Current value: lambda_l1=2.5930563611181126e-06\n",
      "[LightGBM] [Warning] feature_fraction is set=0.7287020084582607, colsample_bytree=1.0 will be ignored. Current value: feature_fraction=0.7287020084582607\n",
      "[LightGBM] [Warning] bagging_freq is set=7, subsample_freq=0 will be ignored. Current value: bagging_freq=7\n",
      "[LightGBM] [Warning] lambda_l2 is set=3.983262057609998e-06, reg_lambda=0.0 will be ignored. Current value: lambda_l2=3.983262057609998e-06\n",
      "[LightGBM] [Warning] bagging_fraction is set=0.5549235633875929, subsample=1.0 will be ignored. Current value: bagging_fraction=0.5549235633875929\n",
      "[LightGBM] [Warning] lambda_l1 is set=2.5930563611181126e-06, reg_alpha=0.0 will be ignored. Current value: lambda_l1=2.5930563611181126e-06\n",
      "[LightGBM] [Warning] feature_fraction is set=0.7287020084582607, colsample_bytree=1.0 will be ignored. Current value: feature_fraction=0.7287020084582607\n",
      "[LightGBM] [Warning] bagging_freq is set=7, subsample_freq=0 will be ignored. Current value: bagging_freq=7\n",
      "[LightGBM] [Warning] lambda_l2 is set=3.983262057609998e-06, reg_lambda=0.0 will be ignored. Current value: lambda_l2=3.983262057609998e-06\n",
      "[LightGBM] [Warning] bagging_fraction is set=0.5549235633875929, subsample=1.0 will be ignored. Current value: bagging_fraction=0.5549235633875929\n",
      "[LightGBM] [Warning] lambda_l1 is set=2.5930563611181126e-06, reg_alpha=0.0 will be ignored. Current value: lambda_l1=2.5930563611181126e-06\n",
      "[LightGBM] [Warning] feature_fraction is set=0.7287020084582607, colsample_bytree=1.0 will be ignored. Current value: feature_fraction=0.7287020084582607\n",
      "[LightGBM] [Warning] bagging_freq is set=7, subsample_freq=0 will be ignored. Current value: bagging_freq=7\n",
      "[LightGBM] [Warning] lambda_l2 is set=3.983262057609998e-06, reg_lambda=0.0 will be ignored. Current value: lambda_l2=3.983262057609998e-06\n",
      "[LightGBM] [Warning] bagging_fraction is set=0.5549235633875929, subsample=1.0 will be ignored. Current value: bagging_fraction=0.5549235633875929\n",
      "[LightGBM] [Warning] lambda_l1 is set=2.5930563611181126e-06, reg_alpha=0.0 will be ignored. Current value: lambda_l1=2.5930563611181126e-06\n",
      "[LightGBM] [Warning] feature_fraction is set=0.7287020084582607, colsample_bytree=1.0 will be ignored. Current value: feature_fraction=0.7287020084582607\n",
      "[LightGBM] [Warning] bagging_freq is set=7, subsample_freq=0 will be ignored. Current value: bagging_freq=7\n",
      "[LightGBM] [Warning] lambda_l2 is set=3.983262057609998e-06, reg_lambda=0.0 will be ignored. Current value: lambda_l2=3.983262057609998e-06\n",
      "[LightGBM] [Warning] bagging_fraction is set=0.5549235633875929, subsample=1.0 will be ignored. Current value: bagging_fraction=0.5549235633875929\n",
      "[LightGBM] [Warning] lambda_l1 is set=2.5930563611181126e-06, reg_alpha=0.0 will be ignored. Current value: lambda_l1=2.5930563611181126e-06\n",
      "[LightGBM] [Warning] feature_fraction is set=0.7287020084582607, colsample_bytree=1.0 will be ignored. Current value: feature_fraction=0.7287020084582607\n",
      "[LightGBM] [Warning] bagging_freq is set=7, subsample_freq=0 will be ignored. Current value: bagging_freq=7\n",
      "[LightGBM] [Warning] lambda_l2 is set=3.983262057609998e-06, reg_lambda=0.0 will be ignored. Current value: lambda_l2=3.983262057609998e-06\n",
      "[LightGBM] [Warning] bagging_fraction is set=0.5549235633875929, subsample=1.0 will be ignored. Current value: bagging_fraction=0.5549235633875929\n"
     ]
    },
    {
     "name": "stderr",
     "output_type": "stream",
     "text": [
      "\u001b[32m[I 2022-08-24 02:32:47,429]\u001b[0m Trial 2 finished with value: 16.95762089436989 and parameters: {'lambda_l1': 2.5930563611181126e-06, 'lambda_l2': 3.983262057609998e-06, 'num_leaves': 234, 'feature_fraction': 0.7287020084582607, 'bagging_fraction': 0.5549235633875929, 'bagging_freq': 7, 'min_child_samples': 15}. Best is trial 0 with value: 15.835178761027686.\u001b[0m\n",
      "\u001b[32m[I 2022-08-24 02:32:47,628]\u001b[0m Trial 3 finished with value: 15.96504428411921 and parameters: {'lambda_l1': 0.0015755628597179923, 'lambda_l2': 0.0010173527953246642, 'num_leaves': 21, 'feature_fraction': 0.997041262975757, 'bagging_fraction': 0.6730733047140018, 'bagging_freq': 5, 'min_child_samples': 62}. Best is trial 0 with value: 15.835178761027686.\u001b[0m\n"
     ]
    },
    {
     "name": "stdout",
     "output_type": "stream",
     "text": [
      "[LightGBM] [Warning] lambda_l1 is set=0.0015755628597179923, reg_alpha=0.0 will be ignored. Current value: lambda_l1=0.0015755628597179923\n",
      "[LightGBM] [Warning] feature_fraction is set=0.997041262975757, colsample_bytree=1.0 will be ignored. Current value: feature_fraction=0.997041262975757\n",
      "[LightGBM] [Warning] bagging_freq is set=5, subsample_freq=0 will be ignored. Current value: bagging_freq=5\n",
      "[LightGBM] [Warning] lambda_l2 is set=0.0010173527953246642, reg_lambda=0.0 will be ignored. Current value: lambda_l2=0.0010173527953246642\n",
      "[LightGBM] [Warning] bagging_fraction is set=0.6730733047140018, subsample=1.0 will be ignored. Current value: bagging_fraction=0.6730733047140018\n",
      "[LightGBM] [Warning] lambda_l1 is set=0.0015755628597179923, reg_alpha=0.0 will be ignored. Current value: lambda_l1=0.0015755628597179923\n",
      "[LightGBM] [Warning] feature_fraction is set=0.997041262975757, colsample_bytree=1.0 will be ignored. Current value: feature_fraction=0.997041262975757\n",
      "[LightGBM] [Warning] bagging_freq is set=5, subsample_freq=0 will be ignored. Current value: bagging_freq=5\n",
      "[LightGBM] [Warning] lambda_l2 is set=0.0010173527953246642, reg_lambda=0.0 will be ignored. Current value: lambda_l2=0.0010173527953246642\n",
      "[LightGBM] [Warning] bagging_fraction is set=0.6730733047140018, subsample=1.0 will be ignored. Current value: bagging_fraction=0.6730733047140018\n",
      "[LightGBM] [Warning] lambda_l1 is set=0.0015755628597179923, reg_alpha=0.0 will be ignored. Current value: lambda_l1=0.0015755628597179923\n",
      "[LightGBM] [Warning] feature_fraction is set=0.997041262975757, colsample_bytree=1.0 will be ignored. Current value: feature_fraction=0.997041262975757\n",
      "[LightGBM] [Warning] bagging_freq is set=5, subsample_freq=0 will be ignored. Current value: bagging_freq=5\n",
      "[LightGBM] [Warning] lambda_l2 is set=0.0010173527953246642, reg_lambda=0.0 will be ignored. Current value: lambda_l2=0.0010173527953246642\n",
      "[LightGBM] [Warning] bagging_fraction is set=0.6730733047140018, subsample=1.0 will be ignored. Current value: bagging_fraction=0.6730733047140018\n",
      "[LightGBM] [Warning] lambda_l1 is set=0.0015755628597179923, reg_alpha=0.0 will be ignored. Current value: lambda_l1=0.0015755628597179923\n",
      "[LightGBM] [Warning] feature_fraction is set=0.997041262975757, colsample_bytree=1.0 will be ignored. Current value: feature_fraction=0.997041262975757\n",
      "[LightGBM] [Warning] bagging_freq is set=5, subsample_freq=0 will be ignored. Current value: bagging_freq=5\n",
      "[LightGBM] [Warning] lambda_l2 is set=0.0010173527953246642, reg_lambda=0.0 will be ignored. Current value: lambda_l2=0.0010173527953246642\n",
      "[LightGBM] [Warning] bagging_fraction is set=0.6730733047140018, subsample=1.0 will be ignored. Current value: bagging_fraction=0.6730733047140018\n",
      "[LightGBM] [Warning] lambda_l1 is set=0.0015755628597179923, reg_alpha=0.0 will be ignored. Current value: lambda_l1=0.0015755628597179923\n",
      "[LightGBM] [Warning] feature_fraction is set=0.997041262975757, colsample_bytree=1.0 will be ignored. Current value: feature_fraction=0.997041262975757\n",
      "[LightGBM] [Warning] bagging_freq is set=5, subsample_freq=0 will be ignored. Current value: bagging_freq=5\n",
      "[LightGBM] [Warning] lambda_l2 is set=0.0010173527953246642, reg_lambda=0.0 will be ignored. Current value: lambda_l2=0.0010173527953246642\n",
      "[LightGBM] [Warning] bagging_fraction is set=0.6730733047140018, subsample=1.0 will be ignored. Current value: bagging_fraction=0.6730733047140018\n",
      "[LightGBM] [Warning] lambda_l1 is set=1.6663844891361324e-05, reg_alpha=0.0 will be ignored. Current value: lambda_l1=1.6663844891361324e-05\n",
      "[LightGBM] [Warning] feature_fraction is set=0.5515601213025003, colsample_bytree=1.0 will be ignored. Current value: feature_fraction=0.5515601213025003\n",
      "[LightGBM] [Warning] bagging_freq is set=1, subsample_freq=0 will be ignored. Current value: bagging_freq=1\n",
      "[LightGBM] [Warning] lambda_l2 is set=0.0001168763086019414, reg_lambda=0.0 will be ignored. Current value: lambda_l2=0.0001168763086019414\n",
      "[LightGBM] [Warning] bagging_fraction is set=0.514381070471142, subsample=1.0 will be ignored. Current value: bagging_fraction=0.514381070471142\n"
     ]
    },
    {
     "name": "stderr",
     "output_type": "stream",
     "text": [
      "\u001b[32m[I 2022-08-24 02:32:47,836]\u001b[0m Trial 4 finished with value: 15.883192731258527 and parameters: {'lambda_l1': 1.6663844891361324e-05, 'lambda_l2': 0.0001168763086019414, 'num_leaves': 147, 'feature_fraction': 0.5515601213025003, 'bagging_fraction': 0.514381070471142, 'bagging_freq': 1, 'min_child_samples': 91}. Best is trial 0 with value: 15.835178761027686.\u001b[0m\n"
     ]
    },
    {
     "name": "stdout",
     "output_type": "stream",
     "text": [
      "[LightGBM] [Warning] lambda_l1 is set=1.6663844891361324e-05, reg_alpha=0.0 will be ignored. Current value: lambda_l1=1.6663844891361324e-05\n",
      "[LightGBM] [Warning] feature_fraction is set=0.5515601213025003, colsample_bytree=1.0 will be ignored. Current value: feature_fraction=0.5515601213025003\n",
      "[LightGBM] [Warning] bagging_freq is set=1, subsample_freq=0 will be ignored. Current value: bagging_freq=1\n",
      "[LightGBM] [Warning] lambda_l2 is set=0.0001168763086019414, reg_lambda=0.0 will be ignored. Current value: lambda_l2=0.0001168763086019414\n",
      "[LightGBM] [Warning] bagging_fraction is set=0.514381070471142, subsample=1.0 will be ignored. Current value: bagging_fraction=0.514381070471142\n",
      "[LightGBM] [Warning] lambda_l1 is set=1.6663844891361324e-05, reg_alpha=0.0 will be ignored. Current value: lambda_l1=1.6663844891361324e-05\n",
      "[LightGBM] [Warning] feature_fraction is set=0.5515601213025003, colsample_bytree=1.0 will be ignored. Current value: feature_fraction=0.5515601213025003\n",
      "[LightGBM] [Warning] bagging_freq is set=1, subsample_freq=0 will be ignored. Current value: bagging_freq=1\n",
      "[LightGBM] [Warning] lambda_l2 is set=0.0001168763086019414, reg_lambda=0.0 will be ignored. Current value: lambda_l2=0.0001168763086019414\n",
      "[LightGBM] [Warning] bagging_fraction is set=0.514381070471142, subsample=1.0 will be ignored. Current value: bagging_fraction=0.514381070471142\n",
      "[LightGBM] [Warning] lambda_l1 is set=1.6663844891361324e-05, reg_alpha=0.0 will be ignored. Current value: lambda_l1=1.6663844891361324e-05\n",
      "[LightGBM] [Warning] feature_fraction is set=0.5515601213025003, colsample_bytree=1.0 will be ignored. Current value: feature_fraction=0.5515601213025003\n",
      "[LightGBM] [Warning] bagging_freq is set=1, subsample_freq=0 will be ignored. Current value: bagging_freq=1\n",
      "[LightGBM] [Warning] lambda_l2 is set=0.0001168763086019414, reg_lambda=0.0 will be ignored. Current value: lambda_l2=0.0001168763086019414\n",
      "[LightGBM] [Warning] bagging_fraction is set=0.514381070471142, subsample=1.0 will be ignored. Current value: bagging_fraction=0.514381070471142\n",
      "[LightGBM] [Warning] lambda_l1 is set=1.6663844891361324e-05, reg_alpha=0.0 will be ignored. Current value: lambda_l1=1.6663844891361324e-05\n",
      "[LightGBM] [Warning] feature_fraction is set=0.5515601213025003, colsample_bytree=1.0 will be ignored. Current value: feature_fraction=0.5515601213025003\n",
      "[LightGBM] [Warning] bagging_freq is set=1, subsample_freq=0 will be ignored. Current value: bagging_freq=1\n",
      "[LightGBM] [Warning] lambda_l2 is set=0.0001168763086019414, reg_lambda=0.0 will be ignored. Current value: lambda_l2=0.0001168763086019414\n",
      "[LightGBM] [Warning] bagging_fraction is set=0.514381070471142, subsample=1.0 will be ignored. Current value: bagging_fraction=0.514381070471142\n",
      "[LightGBM] [Warning] lambda_l1 is set=0.00016011359666595065, reg_alpha=0.0 will be ignored. Current value: lambda_l1=0.00016011359666595065\n",
      "[LightGBM] [Warning] feature_fraction is set=0.5699951065471716, colsample_bytree=1.0 will be ignored. Current value: feature_fraction=0.5699951065471716\n",
      "[LightGBM] [Warning] bagging_freq is set=1, subsample_freq=0 will be ignored. Current value: bagging_freq=1\n",
      "[LightGBM] [Warning] lambda_l2 is set=2.099331584010143e-06, reg_lambda=0.0 will be ignored. Current value: lambda_l2=2.099331584010143e-06\n",
      "[LightGBM] [Warning] bagging_fraction is set=0.7589033726145613, subsample=1.0 will be ignored. Current value: bagging_fraction=0.7589033726145613\n"
     ]
    },
    {
     "name": "stderr",
     "output_type": "stream",
     "text": [
      "\u001b[32m[I 2022-08-24 02:32:48,053]\u001b[0m Trial 5 finished with value: 15.803781843559694 and parameters: {'lambda_l1': 0.00016011359666595065, 'lambda_l2': 2.099331584010143e-06, 'num_leaves': 255, 'feature_fraction': 0.5699951065471716, 'bagging_fraction': 0.7589033726145613, 'bagging_freq': 1, 'min_child_samples': 76}. Best is trial 5 with value: 15.803781843559694.\u001b[0m\n"
     ]
    },
    {
     "name": "stdout",
     "output_type": "stream",
     "text": [
      "[LightGBM] [Warning] lambda_l1 is set=0.00016011359666595065, reg_alpha=0.0 will be ignored. Current value: lambda_l1=0.00016011359666595065\n",
      "[LightGBM] [Warning] feature_fraction is set=0.5699951065471716, colsample_bytree=1.0 will be ignored. Current value: feature_fraction=0.5699951065471716\n",
      "[LightGBM] [Warning] bagging_freq is set=1, subsample_freq=0 will be ignored. Current value: bagging_freq=1\n",
      "[LightGBM] [Warning] lambda_l2 is set=2.099331584010143e-06, reg_lambda=0.0 will be ignored. Current value: lambda_l2=2.099331584010143e-06\n",
      "[LightGBM] [Warning] bagging_fraction is set=0.7589033726145613, subsample=1.0 will be ignored. Current value: bagging_fraction=0.7589033726145613\n",
      "[LightGBM] [Warning] lambda_l1 is set=0.00016011359666595065, reg_alpha=0.0 will be ignored. Current value: lambda_l1=0.00016011359666595065\n",
      "[LightGBM] [Warning] feature_fraction is set=0.5699951065471716, colsample_bytree=1.0 will be ignored. Current value: feature_fraction=0.5699951065471716\n",
      "[LightGBM] [Warning] bagging_freq is set=1, subsample_freq=0 will be ignored. Current value: bagging_freq=1\n",
      "[LightGBM] [Warning] lambda_l2 is set=2.099331584010143e-06, reg_lambda=0.0 will be ignored. Current value: lambda_l2=2.099331584010143e-06\n",
      "[LightGBM] [Warning] bagging_fraction is set=0.7589033726145613, subsample=1.0 will be ignored. Current value: bagging_fraction=0.7589033726145613\n",
      "[LightGBM] [Warning] lambda_l1 is set=0.00016011359666595065, reg_alpha=0.0 will be ignored. Current value: lambda_l1=0.00016011359666595065\n",
      "[LightGBM] [Warning] feature_fraction is set=0.5699951065471716, colsample_bytree=1.0 will be ignored. Current value: feature_fraction=0.5699951065471716\n",
      "[LightGBM] [Warning] bagging_freq is set=1, subsample_freq=0 will be ignored. Current value: bagging_freq=1\n",
      "[LightGBM] [Warning] lambda_l2 is set=2.099331584010143e-06, reg_lambda=0.0 will be ignored. Current value: lambda_l2=2.099331584010143e-06\n",
      "[LightGBM] [Warning] bagging_fraction is set=0.7589033726145613, subsample=1.0 will be ignored. Current value: bagging_fraction=0.7589033726145613\n",
      "[LightGBM] [Warning] lambda_l1 is set=0.00016011359666595065, reg_alpha=0.0 will be ignored. Current value: lambda_l1=0.00016011359666595065\n",
      "[LightGBM] [Warning] feature_fraction is set=0.5699951065471716, colsample_bytree=1.0 will be ignored. Current value: feature_fraction=0.5699951065471716\n",
      "[LightGBM] [Warning] bagging_freq is set=1, subsample_freq=0 will be ignored. Current value: bagging_freq=1\n",
      "[LightGBM] [Warning] lambda_l2 is set=2.099331584010143e-06, reg_lambda=0.0 will be ignored. Current value: lambda_l2=2.099331584010143e-06\n",
      "[LightGBM] [Warning] bagging_fraction is set=0.7589033726145613, subsample=1.0 will be ignored. Current value: bagging_fraction=0.7589033726145613\n",
      "[LightGBM] [Warning] lambda_l1 is set=4.258546823606065e-08, reg_alpha=0.0 will be ignored. Current value: lambda_l1=4.258546823606065e-08\n",
      "[LightGBM] [Warning] feature_fraction is set=0.4125036937196359, colsample_bytree=1.0 will be ignored. Current value: feature_fraction=0.4125036937196359\n",
      "[LightGBM] [Warning] bagging_freq is set=7, subsample_freq=0 will be ignored. Current value: bagging_freq=7\n",
      "[LightGBM] [Warning] lambda_l2 is set=9.055999588373484e-05, reg_lambda=0.0 will be ignored. Current value: lambda_l2=9.055999588373484e-05\n",
      "[LightGBM] [Warning] bagging_fraction is set=0.6031818451719685, subsample=1.0 will be ignored. Current value: bagging_fraction=0.6031818451719685\n"
     ]
    },
    {
     "name": "stderr",
     "output_type": "stream",
     "text": [
      "\u001b[32m[I 2022-08-24 02:32:48,275]\u001b[0m Trial 6 finished with value: 16.011597520971325 and parameters: {'lambda_l1': 4.258546823606065e-08, 'lambda_l2': 9.055999588373484e-05, 'num_leaves': 232, 'feature_fraction': 0.4125036937196359, 'bagging_fraction': 0.6031818451719685, 'bagging_freq': 7, 'min_child_samples': 49}. Best is trial 5 with value: 15.803781843559694.\u001b[0m\n"
     ]
    },
    {
     "name": "stdout",
     "output_type": "stream",
     "text": [
      "[LightGBM] [Warning] lambda_l1 is set=4.258546823606065e-08, reg_alpha=0.0 will be ignored. Current value: lambda_l1=4.258546823606065e-08\n",
      "[LightGBM] [Warning] feature_fraction is set=0.4125036937196359, colsample_bytree=1.0 will be ignored. Current value: feature_fraction=0.4125036937196359\n",
      "[LightGBM] [Warning] bagging_freq is set=7, subsample_freq=0 will be ignored. Current value: bagging_freq=7\n",
      "[LightGBM] [Warning] lambda_l2 is set=9.055999588373484e-05, reg_lambda=0.0 will be ignored. Current value: lambda_l2=9.055999588373484e-05\n",
      "[LightGBM] [Warning] bagging_fraction is set=0.6031818451719685, subsample=1.0 will be ignored. Current value: bagging_fraction=0.6031818451719685\n",
      "[LightGBM] [Warning] lambda_l1 is set=4.258546823606065e-08, reg_alpha=0.0 will be ignored. Current value: lambda_l1=4.258546823606065e-08\n",
      "[LightGBM] [Warning] feature_fraction is set=0.4125036937196359, colsample_bytree=1.0 will be ignored. Current value: feature_fraction=0.4125036937196359\n",
      "[LightGBM] [Warning] bagging_freq is set=7, subsample_freq=0 will be ignored. Current value: bagging_freq=7\n",
      "[LightGBM] [Warning] lambda_l2 is set=9.055999588373484e-05, reg_lambda=0.0 will be ignored. Current value: lambda_l2=9.055999588373484e-05\n",
      "[LightGBM] [Warning] bagging_fraction is set=0.6031818451719685, subsample=1.0 will be ignored. Current value: bagging_fraction=0.6031818451719685\n",
      "[LightGBM] [Warning] lambda_l1 is set=4.258546823606065e-08, reg_alpha=0.0 will be ignored. Current value: lambda_l1=4.258546823606065e-08\n",
      "[LightGBM] [Warning] feature_fraction is set=0.4125036937196359, colsample_bytree=1.0 will be ignored. Current value: feature_fraction=0.4125036937196359\n",
      "[LightGBM] [Warning] bagging_freq is set=7, subsample_freq=0 will be ignored. Current value: bagging_freq=7\n",
      "[LightGBM] [Warning] lambda_l2 is set=9.055999588373484e-05, reg_lambda=0.0 will be ignored. Current value: lambda_l2=9.055999588373484e-05\n",
      "[LightGBM] [Warning] bagging_fraction is set=0.6031818451719685, subsample=1.0 will be ignored. Current value: bagging_fraction=0.6031818451719685\n",
      "[LightGBM] [Warning] lambda_l1 is set=4.258546823606065e-08, reg_alpha=0.0 will be ignored. Current value: lambda_l1=4.258546823606065e-08\n",
      "[LightGBM] [Warning] feature_fraction is set=0.4125036937196359, colsample_bytree=1.0 will be ignored. Current value: feature_fraction=0.4125036937196359\n",
      "[LightGBM] [Warning] bagging_freq is set=7, subsample_freq=0 will be ignored. Current value: bagging_freq=7\n",
      "[LightGBM] [Warning] lambda_l2 is set=9.055999588373484e-05, reg_lambda=0.0 will be ignored. Current value: lambda_l2=9.055999588373484e-05\n",
      "[LightGBM] [Warning] bagging_fraction is set=0.6031818451719685, subsample=1.0 will be ignored. Current value: bagging_fraction=0.6031818451719685\n",
      "[LightGBM] [Warning] lambda_l1 is set=1.5222057611631802e-05, reg_alpha=0.0 will be ignored. Current value: lambda_l1=1.5222057611631802e-05\n",
      "[LightGBM] [Warning] feature_fraction is set=0.6521559429668928, colsample_bytree=1.0 will be ignored. Current value: feature_fraction=0.6521559429668928\n",
      "[LightGBM] [Warning] bagging_freq is set=1, subsample_freq=0 will be ignored. Current value: bagging_freq=1\n",
      "[LightGBM] [Warning] lambda_l2 is set=0.004585591006219486, reg_lambda=0.0 will be ignored. Current value: lambda_l2=0.004585591006219486\n",
      "[LightGBM] [Warning] bagging_fraction is set=0.651856089859097, subsample=1.0 will be ignored. Current value: bagging_fraction=0.651856089859097\n"
     ]
    },
    {
     "name": "stderr",
     "output_type": "stream",
     "text": [
      "\u001b[32m[I 2022-08-24 02:32:48,497]\u001b[0m Trial 7 finished with value: 15.979993619415342 and parameters: {'lambda_l1': 1.5222057611631802e-05, 'lambda_l2': 0.004585591006219486, 'num_leaves': 32, 'feature_fraction': 0.6521559429668928, 'bagging_fraction': 0.651856089859097, 'bagging_freq': 1, 'min_child_samples': 51}. Best is trial 5 with value: 15.803781843559694.\u001b[0m\n"
     ]
    },
    {
     "name": "stdout",
     "output_type": "stream",
     "text": [
      "[LightGBM] [Warning] lambda_l1 is set=1.5222057611631802e-05, reg_alpha=0.0 will be ignored. Current value: lambda_l1=1.5222057611631802e-05\n",
      "[LightGBM] [Warning] feature_fraction is set=0.6521559429668928, colsample_bytree=1.0 will be ignored. Current value: feature_fraction=0.6521559429668928\n",
      "[LightGBM] [Warning] bagging_freq is set=1, subsample_freq=0 will be ignored. Current value: bagging_freq=1\n",
      "[LightGBM] [Warning] lambda_l2 is set=0.004585591006219486, reg_lambda=0.0 will be ignored. Current value: lambda_l2=0.004585591006219486\n",
      "[LightGBM] [Warning] bagging_fraction is set=0.651856089859097, subsample=1.0 will be ignored. Current value: bagging_fraction=0.651856089859097\n",
      "[LightGBM] [Warning] lambda_l1 is set=1.5222057611631802e-05, reg_alpha=0.0 will be ignored. Current value: lambda_l1=1.5222057611631802e-05\n",
      "[LightGBM] [Warning] feature_fraction is set=0.6521559429668928, colsample_bytree=1.0 will be ignored. Current value: feature_fraction=0.6521559429668928\n",
      "[LightGBM] [Warning] bagging_freq is set=1, subsample_freq=0 will be ignored. Current value: bagging_freq=1\n",
      "[LightGBM] [Warning] lambda_l2 is set=0.004585591006219486, reg_lambda=0.0 will be ignored. Current value: lambda_l2=0.004585591006219486\n",
      "[LightGBM] [Warning] bagging_fraction is set=0.651856089859097, subsample=1.0 will be ignored. Current value: bagging_fraction=0.651856089859097\n",
      "[LightGBM] [Warning] lambda_l1 is set=1.5222057611631802e-05, reg_alpha=0.0 will be ignored. Current value: lambda_l1=1.5222057611631802e-05\n",
      "[LightGBM] [Warning] feature_fraction is set=0.6521559429668928, colsample_bytree=1.0 will be ignored. Current value: feature_fraction=0.6521559429668928\n",
      "[LightGBM] [Warning] bagging_freq is set=1, subsample_freq=0 will be ignored. Current value: bagging_freq=1\n",
      "[LightGBM] [Warning] lambda_l2 is set=0.004585591006219486, reg_lambda=0.0 will be ignored. Current value: lambda_l2=0.004585591006219486\n",
      "[LightGBM] [Warning] bagging_fraction is set=0.651856089859097, subsample=1.0 will be ignored. Current value: bagging_fraction=0.651856089859097\n",
      "[LightGBM] [Warning] lambda_l1 is set=1.5222057611631802e-05, reg_alpha=0.0 will be ignored. Current value: lambda_l1=1.5222057611631802e-05\n",
      "[LightGBM] [Warning] feature_fraction is set=0.6521559429668928, colsample_bytree=1.0 will be ignored. Current value: feature_fraction=0.6521559429668928\n",
      "[LightGBM] [Warning] bagging_freq is set=1, subsample_freq=0 will be ignored. Current value: bagging_freq=1\n",
      "[LightGBM] [Warning] lambda_l2 is set=0.004585591006219486, reg_lambda=0.0 will be ignored. Current value: lambda_l2=0.004585591006219486\n",
      "[LightGBM] [Warning] bagging_fraction is set=0.651856089859097, subsample=1.0 will be ignored. Current value: bagging_fraction=0.651856089859097\n",
      "[LightGBM] [Warning] lambda_l1 is set=2.547438807041877e-07, reg_alpha=0.0 will be ignored. Current value: lambda_l1=2.547438807041877e-07\n",
      "[LightGBM] [Warning] feature_fraction is set=0.7704016978071329, colsample_bytree=1.0 will be ignored. Current value: feature_fraction=0.7704016978071329\n",
      "[LightGBM] [Warning] bagging_freq is set=3, subsample_freq=0 will be ignored. Current value: bagging_freq=3\n",
      "[LightGBM] [Warning] lambda_l2 is set=8.587774429285599, reg_lambda=0.0 will be ignored. Current value: lambda_l2=8.587774429285599\n",
      "[LightGBM] [Warning] bagging_fraction is set=0.5148484879112598, subsample=1.0 will be ignored. Current value: bagging_fraction=0.5148484879112598\n"
     ]
    },
    {
     "name": "stderr",
     "output_type": "stream",
     "text": [
      "\u001b[32m[I 2022-08-24 02:32:48,708]\u001b[0m Trial 8 finished with value: 15.872710264700885 and parameters: {'lambda_l1': 2.547438807041877e-07, 'lambda_l2': 8.587774429285599, 'num_leaves': 30, 'feature_fraction': 0.7704016978071329, 'bagging_fraction': 0.5148484879112598, 'bagging_freq': 3, 'min_child_samples': 54}. Best is trial 5 with value: 15.803781843559694.\u001b[0m\n"
     ]
    },
    {
     "name": "stdout",
     "output_type": "stream",
     "text": [
      "[LightGBM] [Warning] lambda_l1 is set=2.547438807041877e-07, reg_alpha=0.0 will be ignored. Current value: lambda_l1=2.547438807041877e-07\n",
      "[LightGBM] [Warning] feature_fraction is set=0.7704016978071329, colsample_bytree=1.0 will be ignored. Current value: feature_fraction=0.7704016978071329\n",
      "[LightGBM] [Warning] bagging_freq is set=3, subsample_freq=0 will be ignored. Current value: bagging_freq=3\n",
      "[LightGBM] [Warning] lambda_l2 is set=8.587774429285599, reg_lambda=0.0 will be ignored. Current value: lambda_l2=8.587774429285599\n",
      "[LightGBM] [Warning] bagging_fraction is set=0.5148484879112598, subsample=1.0 will be ignored. Current value: bagging_fraction=0.5148484879112598\n",
      "[LightGBM] [Warning] lambda_l1 is set=2.547438807041877e-07, reg_alpha=0.0 will be ignored. Current value: lambda_l1=2.547438807041877e-07\n",
      "[LightGBM] [Warning] feature_fraction is set=0.7704016978071329, colsample_bytree=1.0 will be ignored. Current value: feature_fraction=0.7704016978071329\n",
      "[LightGBM] [Warning] bagging_freq is set=3, subsample_freq=0 will be ignored. Current value: bagging_freq=3\n",
      "[LightGBM] [Warning] lambda_l2 is set=8.587774429285599, reg_lambda=0.0 will be ignored. Current value: lambda_l2=8.587774429285599\n",
      "[LightGBM] [Warning] bagging_fraction is set=0.5148484879112598, subsample=1.0 will be ignored. Current value: bagging_fraction=0.5148484879112598\n",
      "[LightGBM] [Warning] lambda_l1 is set=2.547438807041877e-07, reg_alpha=0.0 will be ignored. Current value: lambda_l1=2.547438807041877e-07\n",
      "[LightGBM] [Warning] feature_fraction is set=0.7704016978071329, colsample_bytree=1.0 will be ignored. Current value: feature_fraction=0.7704016978071329\n",
      "[LightGBM] [Warning] bagging_freq is set=3, subsample_freq=0 will be ignored. Current value: bagging_freq=3\n",
      "[LightGBM] [Warning] lambda_l2 is set=8.587774429285599, reg_lambda=0.0 will be ignored. Current value: lambda_l2=8.587774429285599\n",
      "[LightGBM] [Warning] bagging_fraction is set=0.5148484879112598, subsample=1.0 will be ignored. Current value: bagging_fraction=0.5148484879112598\n",
      "[LightGBM] [Warning] lambda_l1 is set=2.547438807041877e-07, reg_alpha=0.0 will be ignored. Current value: lambda_l1=2.547438807041877e-07\n",
      "[LightGBM] [Warning] feature_fraction is set=0.7704016978071329, colsample_bytree=1.0 will be ignored. Current value: feature_fraction=0.7704016978071329\n",
      "[LightGBM] [Warning] bagging_freq is set=3, subsample_freq=0 will be ignored. Current value: bagging_freq=3\n",
      "[LightGBM] [Warning] lambda_l2 is set=8.587774429285599, reg_lambda=0.0 will be ignored. Current value: lambda_l2=8.587774429285599\n",
      "[LightGBM] [Warning] bagging_fraction is set=0.5148484879112598, subsample=1.0 will be ignored. Current value: bagging_fraction=0.5148484879112598\n",
      "[LightGBM] [Warning] lambda_l1 is set=0.992934885473721, reg_alpha=0.0 will be ignored. Current value: lambda_l1=0.992934885473721\n",
      "[LightGBM] [Warning] feature_fraction is set=0.7185703004516681, colsample_bytree=1.0 will be ignored. Current value: feature_fraction=0.7185703004516681\n",
      "[LightGBM] [Warning] bagging_freq is set=1, subsample_freq=0 will be ignored. Current value: bagging_freq=1\n",
      "[LightGBM] [Warning] lambda_l2 is set=4.180763624673353, reg_lambda=0.0 will be ignored. Current value: lambda_l2=4.180763624673353\n",
      "[LightGBM] [Warning] bagging_fraction is set=0.9059416148502486, subsample=1.0 will be ignored. Current value: bagging_fraction=0.9059416148502486\n"
     ]
    },
    {
     "name": "stderr",
     "output_type": "stream",
     "text": [
      "\u001b[32m[I 2022-08-24 02:32:48,961]\u001b[0m Trial 9 finished with value: 16.340567135217142 and parameters: {'lambda_l1': 0.992934885473721, 'lambda_l2': 4.180763624673353, 'num_leaves': 109, 'feature_fraction': 0.7185703004516681, 'bagging_fraction': 0.9059416148502486, 'bagging_freq': 1, 'min_child_samples': 34}. Best is trial 5 with value: 15.803781843559694.\u001b[0m\n"
     ]
    },
    {
     "name": "stdout",
     "output_type": "stream",
     "text": [
      "[LightGBM] [Warning] lambda_l1 is set=0.992934885473721, reg_alpha=0.0 will be ignored. Current value: lambda_l1=0.992934885473721\n",
      "[LightGBM] [Warning] feature_fraction is set=0.7185703004516681, colsample_bytree=1.0 will be ignored. Current value: feature_fraction=0.7185703004516681\n",
      "[LightGBM] [Warning] bagging_freq is set=1, subsample_freq=0 will be ignored. Current value: bagging_freq=1\n",
      "[LightGBM] [Warning] lambda_l2 is set=4.180763624673353, reg_lambda=0.0 will be ignored. Current value: lambda_l2=4.180763624673353\n",
      "[LightGBM] [Warning] bagging_fraction is set=0.9059416148502486, subsample=1.0 will be ignored. Current value: bagging_fraction=0.9059416148502486\n",
      "[LightGBM] [Warning] lambda_l1 is set=0.992934885473721, reg_alpha=0.0 will be ignored. Current value: lambda_l1=0.992934885473721\n",
      "[LightGBM] [Warning] feature_fraction is set=0.7185703004516681, colsample_bytree=1.0 will be ignored. Current value: feature_fraction=0.7185703004516681\n",
      "[LightGBM] [Warning] bagging_freq is set=1, subsample_freq=0 will be ignored. Current value: bagging_freq=1\n",
      "[LightGBM] [Warning] lambda_l2 is set=4.180763624673353, reg_lambda=0.0 will be ignored. Current value: lambda_l2=4.180763624673353\n",
      "[LightGBM] [Warning] bagging_fraction is set=0.9059416148502486, subsample=1.0 will be ignored. Current value: bagging_fraction=0.9059416148502486\n",
      "[LightGBM] [Warning] lambda_l1 is set=0.992934885473721, reg_alpha=0.0 will be ignored. Current value: lambda_l1=0.992934885473721\n",
      "[LightGBM] [Warning] feature_fraction is set=0.7185703004516681, colsample_bytree=1.0 will be ignored. Current value: feature_fraction=0.7185703004516681\n",
      "[LightGBM] [Warning] bagging_freq is set=1, subsample_freq=0 will be ignored. Current value: bagging_freq=1\n",
      "[LightGBM] [Warning] lambda_l2 is set=4.180763624673353, reg_lambda=0.0 will be ignored. Current value: lambda_l2=4.180763624673353\n",
      "[LightGBM] [Warning] bagging_fraction is set=0.9059416148502486, subsample=1.0 will be ignored. Current value: bagging_fraction=0.9059416148502486\n",
      "[LightGBM] [Warning] lambda_l1 is set=0.992934885473721, reg_alpha=0.0 will be ignored. Current value: lambda_l1=0.992934885473721\n",
      "[LightGBM] [Warning] feature_fraction is set=0.7185703004516681, colsample_bytree=1.0 will be ignored. Current value: feature_fraction=0.7185703004516681\n",
      "[LightGBM] [Warning] bagging_freq is set=1, subsample_freq=0 will be ignored. Current value: bagging_freq=1\n",
      "[LightGBM] [Warning] lambda_l2 is set=4.180763624673353, reg_lambda=0.0 will be ignored. Current value: lambda_l2=4.180763624673353\n",
      "[LightGBM] [Warning] bagging_fraction is set=0.9059416148502486, subsample=1.0 will be ignored. Current value: bagging_fraction=0.9059416148502486\n",
      "[LightGBM] [Warning] lambda_l1 is set=0.005083464133569753, reg_alpha=0.0 will be ignored. Current value: lambda_l1=0.005083464133569753\n",
      "[LightGBM] [Warning] feature_fraction is set=0.4978093670029615, colsample_bytree=1.0 will be ignored. Current value: feature_fraction=0.4978093670029615\n",
      "[LightGBM] [Warning] bagging_freq is set=3, subsample_freq=0 will be ignored. Current value: bagging_freq=3\n",
      "[LightGBM] [Warning] lambda_l2 is set=1.5935282002341087e-08, reg_lambda=0.0 will be ignored. Current value: lambda_l2=1.5935282002341087e-08\n",
      "[LightGBM] [Warning] bagging_fraction is set=0.8237676022962058, subsample=1.0 will be ignored. Current value: bagging_fraction=0.8237676022962058\n"
     ]
    },
    {
     "name": "stderr",
     "output_type": "stream",
     "text": [
      "\u001b[32m[I 2022-08-24 02:32:49,165]\u001b[0m Trial 10 finished with value: 15.830123720413775 and parameters: {'lambda_l1': 0.005083464133569753, 'lambda_l2': 1.5935282002341087e-08, 'num_leaves': 181, 'feature_fraction': 0.4978093670029615, 'bagging_fraction': 0.8237676022962058, 'bagging_freq': 3, 'min_child_samples': 96}. Best is trial 5 with value: 15.803781843559694.\u001b[0m\n"
     ]
    },
    {
     "name": "stdout",
     "output_type": "stream",
     "text": [
      "[LightGBM] [Warning] lambda_l1 is set=0.005083464133569753, reg_alpha=0.0 will be ignored. Current value: lambda_l1=0.005083464133569753\n",
      "[LightGBM] [Warning] feature_fraction is set=0.4978093670029615, colsample_bytree=1.0 will be ignored. Current value: feature_fraction=0.4978093670029615\n",
      "[LightGBM] [Warning] bagging_freq is set=3, subsample_freq=0 will be ignored. Current value: bagging_freq=3\n",
      "[LightGBM] [Warning] lambda_l2 is set=1.5935282002341087e-08, reg_lambda=0.0 will be ignored. Current value: lambda_l2=1.5935282002341087e-08\n",
      "[LightGBM] [Warning] bagging_fraction is set=0.8237676022962058, subsample=1.0 will be ignored. Current value: bagging_fraction=0.8237676022962058\n",
      "[LightGBM] [Warning] lambda_l1 is set=0.005083464133569753, reg_alpha=0.0 will be ignored. Current value: lambda_l1=0.005083464133569753\n",
      "[LightGBM] [Warning] feature_fraction is set=0.4978093670029615, colsample_bytree=1.0 will be ignored. Current value: feature_fraction=0.4978093670029615\n",
      "[LightGBM] [Warning] bagging_freq is set=3, subsample_freq=0 will be ignored. Current value: bagging_freq=3\n",
      "[LightGBM] [Warning] lambda_l2 is set=1.5935282002341087e-08, reg_lambda=0.0 will be ignored. Current value: lambda_l2=1.5935282002341087e-08\n",
      "[LightGBM] [Warning] bagging_fraction is set=0.8237676022962058, subsample=1.0 will be ignored. Current value: bagging_fraction=0.8237676022962058\n",
      "[LightGBM] [Warning] lambda_l1 is set=0.005083464133569753, reg_alpha=0.0 will be ignored. Current value: lambda_l1=0.005083464133569753\n",
      "[LightGBM] [Warning] feature_fraction is set=0.4978093670029615, colsample_bytree=1.0 will be ignored. Current value: feature_fraction=0.4978093670029615\n",
      "[LightGBM] [Warning] bagging_freq is set=3, subsample_freq=0 will be ignored. Current value: bagging_freq=3\n",
      "[LightGBM] [Warning] lambda_l2 is set=1.5935282002341087e-08, reg_lambda=0.0 will be ignored. Current value: lambda_l2=1.5935282002341087e-08\n",
      "[LightGBM] [Warning] bagging_fraction is set=0.8237676022962058, subsample=1.0 will be ignored. Current value: bagging_fraction=0.8237676022962058\n",
      "[LightGBM] [Warning] lambda_l1 is set=0.005083464133569753, reg_alpha=0.0 will be ignored. Current value: lambda_l1=0.005083464133569753\n",
      "[LightGBM] [Warning] feature_fraction is set=0.4978093670029615, colsample_bytree=1.0 will be ignored. Current value: feature_fraction=0.4978093670029615\n",
      "[LightGBM] [Warning] bagging_freq is set=3, subsample_freq=0 will be ignored. Current value: bagging_freq=3\n",
      "[LightGBM] [Warning] lambda_l2 is set=1.5935282002341087e-08, reg_lambda=0.0 will be ignored. Current value: lambda_l2=1.5935282002341087e-08\n",
      "[LightGBM] [Warning] bagging_fraction is set=0.8237676022962058, subsample=1.0 will be ignored. Current value: bagging_fraction=0.8237676022962058\n",
      "[LightGBM] [Warning] lambda_l1 is set=0.009340570718389623, reg_alpha=0.0 will be ignored. Current value: lambda_l1=0.009340570718389623\n",
      "[LightGBM] [Warning] feature_fraction is set=0.5091672335543488, colsample_bytree=1.0 will be ignored. Current value: feature_fraction=0.5091672335543488\n",
      "[LightGBM] [Warning] bagging_freq is set=3, subsample_freq=0 will be ignored. Current value: bagging_freq=3\n",
      "[LightGBM] [Warning] lambda_l2 is set=1.131012416007206e-08, reg_lambda=0.0 will be ignored. Current value: lambda_l2=1.131012416007206e-08\n",
      "[LightGBM] [Warning] bagging_fraction is set=0.8268933428165912, subsample=1.0 will be ignored. Current value: bagging_fraction=0.8268933428165912\n"
     ]
    },
    {
     "name": "stderr",
     "output_type": "stream",
     "text": [
      "\u001b[32m[I 2022-08-24 02:32:49,378]\u001b[0m Trial 11 finished with value: 15.830229281705716 and parameters: {'lambda_l1': 0.009340570718389623, 'lambda_l2': 1.131012416007206e-08, 'num_leaves': 184, 'feature_fraction': 0.5091672335543488, 'bagging_fraction': 0.8268933428165912, 'bagging_freq': 3, 'min_child_samples': 100}. Best is trial 5 with value: 15.803781843559694.\u001b[0m\n"
     ]
    },
    {
     "name": "stdout",
     "output_type": "stream",
     "text": [
      "[LightGBM] [Warning] lambda_l1 is set=0.009340570718389623, reg_alpha=0.0 will be ignored. Current value: lambda_l1=0.009340570718389623\n",
      "[LightGBM] [Warning] feature_fraction is set=0.5091672335543488, colsample_bytree=1.0 will be ignored. Current value: feature_fraction=0.5091672335543488\n",
      "[LightGBM] [Warning] bagging_freq is set=3, subsample_freq=0 will be ignored. Current value: bagging_freq=3\n",
      "[LightGBM] [Warning] lambda_l2 is set=1.131012416007206e-08, reg_lambda=0.0 will be ignored. Current value: lambda_l2=1.131012416007206e-08\n",
      "[LightGBM] [Warning] bagging_fraction is set=0.8268933428165912, subsample=1.0 will be ignored. Current value: bagging_fraction=0.8268933428165912\n",
      "[LightGBM] [Warning] lambda_l1 is set=0.009340570718389623, reg_alpha=0.0 will be ignored. Current value: lambda_l1=0.009340570718389623\n",
      "[LightGBM] [Warning] feature_fraction is set=0.5091672335543488, colsample_bytree=1.0 will be ignored. Current value: feature_fraction=0.5091672335543488\n",
      "[LightGBM] [Warning] bagging_freq is set=3, subsample_freq=0 will be ignored. Current value: bagging_freq=3\n",
      "[LightGBM] [Warning] lambda_l2 is set=1.131012416007206e-08, reg_lambda=0.0 will be ignored. Current value: lambda_l2=1.131012416007206e-08\n",
      "[LightGBM] [Warning] bagging_fraction is set=0.8268933428165912, subsample=1.0 will be ignored. Current value: bagging_fraction=0.8268933428165912\n",
      "[LightGBM] [Warning] lambda_l1 is set=0.009340570718389623, reg_alpha=0.0 will be ignored. Current value: lambda_l1=0.009340570718389623\n",
      "[LightGBM] [Warning] feature_fraction is set=0.5091672335543488, colsample_bytree=1.0 will be ignored. Current value: feature_fraction=0.5091672335543488\n",
      "[LightGBM] [Warning] bagging_freq is set=3, subsample_freq=0 will be ignored. Current value: bagging_freq=3\n",
      "[LightGBM] [Warning] lambda_l2 is set=1.131012416007206e-08, reg_lambda=0.0 will be ignored. Current value: lambda_l2=1.131012416007206e-08\n",
      "[LightGBM] [Warning] bagging_fraction is set=0.8268933428165912, subsample=1.0 will be ignored. Current value: bagging_fraction=0.8268933428165912\n",
      "[LightGBM] [Warning] lambda_l1 is set=0.009340570718389623, reg_alpha=0.0 will be ignored. Current value: lambda_l1=0.009340570718389623\n",
      "[LightGBM] [Warning] feature_fraction is set=0.5091672335543488, colsample_bytree=1.0 will be ignored. Current value: feature_fraction=0.5091672335543488\n",
      "[LightGBM] [Warning] bagging_freq is set=3, subsample_freq=0 will be ignored. Current value: bagging_freq=3\n",
      "[LightGBM] [Warning] lambda_l2 is set=1.131012416007206e-08, reg_lambda=0.0 will be ignored. Current value: lambda_l2=1.131012416007206e-08\n",
      "[LightGBM] [Warning] bagging_fraction is set=0.8268933428165912, subsample=1.0 will be ignored. Current value: bagging_fraction=0.8268933428165912\n",
      "[LightGBM] [Warning] lambda_l1 is set=0.030502796239133906, reg_alpha=0.0 will be ignored. Current value: lambda_l1=0.030502796239133906\n",
      "[LightGBM] [Warning] feature_fraction is set=0.5832386808322277, colsample_bytree=1.0 will be ignored. Current value: feature_fraction=0.5832386808322277\n",
      "[LightGBM] [Warning] bagging_freq is set=2, subsample_freq=0 will be ignored. Current value: bagging_freq=2\n",
      "[LightGBM] [Warning] lambda_l2 is set=2.0012514797230412e-07, reg_lambda=0.0 will be ignored. Current value: lambda_l2=2.0012514797230412e-07\n",
      "[LightGBM] [Warning] bagging_fraction is set=0.7817160974678512, subsample=1.0 will be ignored. Current value: bagging_fraction=0.7817160974678512\n"
     ]
    },
    {
     "name": "stderr",
     "output_type": "stream",
     "text": [
      "\u001b[32m[I 2022-08-24 02:32:49,598]\u001b[0m Trial 12 finished with value: 15.831481578264217 and parameters: {'lambda_l1': 0.030502796239133906, 'lambda_l2': 2.0012514797230412e-07, 'num_leaves': 254, 'feature_fraction': 0.5832386808322277, 'bagging_fraction': 0.7817160974678512, 'bagging_freq': 2, 'min_child_samples': 76}. Best is trial 5 with value: 15.803781843559694.\u001b[0m\n"
     ]
    },
    {
     "name": "stdout",
     "output_type": "stream",
     "text": [
      "[LightGBM] [Warning] lambda_l1 is set=0.030502796239133906, reg_alpha=0.0 will be ignored. Current value: lambda_l1=0.030502796239133906\n",
      "[LightGBM] [Warning] feature_fraction is set=0.5832386808322277, colsample_bytree=1.0 will be ignored. Current value: feature_fraction=0.5832386808322277\n",
      "[LightGBM] [Warning] bagging_freq is set=2, subsample_freq=0 will be ignored. Current value: bagging_freq=2\n",
      "[LightGBM] [Warning] lambda_l2 is set=2.0012514797230412e-07, reg_lambda=0.0 will be ignored. Current value: lambda_l2=2.0012514797230412e-07\n",
      "[LightGBM] [Warning] bagging_fraction is set=0.7817160974678512, subsample=1.0 will be ignored. Current value: bagging_fraction=0.7817160974678512\n",
      "[LightGBM] [Warning] lambda_l1 is set=0.030502796239133906, reg_alpha=0.0 will be ignored. Current value: lambda_l1=0.030502796239133906\n",
      "[LightGBM] [Warning] feature_fraction is set=0.5832386808322277, colsample_bytree=1.0 will be ignored. Current value: feature_fraction=0.5832386808322277\n",
      "[LightGBM] [Warning] bagging_freq is set=2, subsample_freq=0 will be ignored. Current value: bagging_freq=2\n",
      "[LightGBM] [Warning] lambda_l2 is set=2.0012514797230412e-07, reg_lambda=0.0 will be ignored. Current value: lambda_l2=2.0012514797230412e-07\n",
      "[LightGBM] [Warning] bagging_fraction is set=0.7817160974678512, subsample=1.0 will be ignored. Current value: bagging_fraction=0.7817160974678512\n",
      "[LightGBM] [Warning] lambda_l1 is set=0.030502796239133906, reg_alpha=0.0 will be ignored. Current value: lambda_l1=0.030502796239133906\n",
      "[LightGBM] [Warning] feature_fraction is set=0.5832386808322277, colsample_bytree=1.0 will be ignored. Current value: feature_fraction=0.5832386808322277\n",
      "[LightGBM] [Warning] bagging_freq is set=2, subsample_freq=0 will be ignored. Current value: bagging_freq=2\n",
      "[LightGBM] [Warning] lambda_l2 is set=2.0012514797230412e-07, reg_lambda=0.0 will be ignored. Current value: lambda_l2=2.0012514797230412e-07\n",
      "[LightGBM] [Warning] bagging_fraction is set=0.7817160974678512, subsample=1.0 will be ignored. Current value: bagging_fraction=0.7817160974678512\n",
      "[LightGBM] [Warning] lambda_l1 is set=0.030502796239133906, reg_alpha=0.0 will be ignored. Current value: lambda_l1=0.030502796239133906\n",
      "[LightGBM] [Warning] feature_fraction is set=0.5832386808322277, colsample_bytree=1.0 will be ignored. Current value: feature_fraction=0.5832386808322277\n",
      "[LightGBM] [Warning] bagging_freq is set=2, subsample_freq=0 will be ignored. Current value: bagging_freq=2\n",
      "[LightGBM] [Warning] lambda_l2 is set=2.0012514797230412e-07, reg_lambda=0.0 will be ignored. Current value: lambda_l2=2.0012514797230412e-07\n",
      "[LightGBM] [Warning] bagging_fraction is set=0.7817160974678512, subsample=1.0 will be ignored. Current value: bagging_fraction=0.7817160974678512\n",
      "[LightGBM] [Warning] lambda_l1 is set=0.0005351299244583881, reg_alpha=0.0 will be ignored. Current value: lambda_l1=0.0005351299244583881\n",
      "[LightGBM] [Warning] feature_fraction is set=0.4199027476247825, colsample_bytree=1.0 will be ignored. Current value: feature_fraction=0.4199027476247825\n",
      "[LightGBM] [Warning] bagging_freq is set=5, subsample_freq=0 will be ignored. Current value: bagging_freq=5\n",
      "[LightGBM] [Warning] lambda_l2 is set=1.408817658027444e-08, reg_lambda=0.0 will be ignored. Current value: lambda_l2=1.408817658027444e-08\n",
      "[LightGBM] [Warning] bagging_fraction is set=0.9938923108632437, subsample=1.0 will be ignored. Current value: bagging_fraction=0.9938923108632437\n"
     ]
    },
    {
     "name": "stderr",
     "output_type": "stream",
     "text": [
      "\u001b[32m[I 2022-08-24 02:32:49,820]\u001b[0m Trial 13 finished with value: 15.84844848605712 and parameters: {'lambda_l1': 0.0005351299244583881, 'lambda_l2': 1.408817658027444e-08, 'num_leaves': 87, 'feature_fraction': 0.4199027476247825, 'bagging_fraction': 0.9938923108632437, 'bagging_freq': 5, 'min_child_samples': 79}. Best is trial 5 with value: 15.803781843559694.\u001b[0m\n"
     ]
    },
    {
     "name": "stdout",
     "output_type": "stream",
     "text": [
      "[LightGBM] [Warning] lambda_l1 is set=0.0005351299244583881, reg_alpha=0.0 will be ignored. Current value: lambda_l1=0.0005351299244583881\n",
      "[LightGBM] [Warning] feature_fraction is set=0.4199027476247825, colsample_bytree=1.0 will be ignored. Current value: feature_fraction=0.4199027476247825\n",
      "[LightGBM] [Warning] bagging_freq is set=5, subsample_freq=0 will be ignored. Current value: bagging_freq=5\n",
      "[LightGBM] [Warning] lambda_l2 is set=1.408817658027444e-08, reg_lambda=0.0 will be ignored. Current value: lambda_l2=1.408817658027444e-08\n",
      "[LightGBM] [Warning] bagging_fraction is set=0.9938923108632437, subsample=1.0 will be ignored. Current value: bagging_fraction=0.9938923108632437\n",
      "[LightGBM] [Warning] lambda_l1 is set=0.0005351299244583881, reg_alpha=0.0 will be ignored. Current value: lambda_l1=0.0005351299244583881\n",
      "[LightGBM] [Warning] feature_fraction is set=0.4199027476247825, colsample_bytree=1.0 will be ignored. Current value: feature_fraction=0.4199027476247825\n",
      "[LightGBM] [Warning] bagging_freq is set=5, subsample_freq=0 will be ignored. Current value: bagging_freq=5\n",
      "[LightGBM] [Warning] lambda_l2 is set=1.408817658027444e-08, reg_lambda=0.0 will be ignored. Current value: lambda_l2=1.408817658027444e-08\n",
      "[LightGBM] [Warning] bagging_fraction is set=0.9938923108632437, subsample=1.0 will be ignored. Current value: bagging_fraction=0.9938923108632437\n",
      "[LightGBM] [Warning] lambda_l1 is set=0.0005351299244583881, reg_alpha=0.0 will be ignored. Current value: lambda_l1=0.0005351299244583881\n",
      "[LightGBM] [Warning] feature_fraction is set=0.4199027476247825, colsample_bytree=1.0 will be ignored. Current value: feature_fraction=0.4199027476247825\n",
      "[LightGBM] [Warning] bagging_freq is set=5, subsample_freq=0 will be ignored. Current value: bagging_freq=5\n",
      "[LightGBM] [Warning] lambda_l2 is set=1.408817658027444e-08, reg_lambda=0.0 will be ignored. Current value: lambda_l2=1.408817658027444e-08\n",
      "[LightGBM] [Warning] bagging_fraction is set=0.9938923108632437, subsample=1.0 will be ignored. Current value: bagging_fraction=0.9938923108632437\n",
      "[LightGBM] [Warning] lambda_l1 is set=0.0005351299244583881, reg_alpha=0.0 will be ignored. Current value: lambda_l1=0.0005351299244583881\n",
      "[LightGBM] [Warning] feature_fraction is set=0.4199027476247825, colsample_bytree=1.0 will be ignored. Current value: feature_fraction=0.4199027476247825\n",
      "[LightGBM] [Warning] bagging_freq is set=5, subsample_freq=0 will be ignored. Current value: bagging_freq=5\n",
      "[LightGBM] [Warning] lambda_l2 is set=1.408817658027444e-08, reg_lambda=0.0 will be ignored. Current value: lambda_l2=1.408817658027444e-08\n",
      "[LightGBM] [Warning] bagging_fraction is set=0.9938923108632437, subsample=1.0 will be ignored. Current value: bagging_fraction=0.9938923108632437\n",
      "[LightGBM] [Warning] lambda_l1 is set=0.0965390009797821, reg_alpha=0.0 will be ignored. Current value: lambda_l1=0.0965390009797821\n",
      "[LightGBM] [Warning] feature_fraction is set=0.4944482074111869, colsample_bytree=1.0 will be ignored. Current value: feature_fraction=0.4944482074111869\n",
      "[LightGBM] [Warning] bagging_freq is set=2, subsample_freq=0 will be ignored. Current value: bagging_freq=2\n",
      "[LightGBM] [Warning] lambda_l2 is set=1.8388168957237103e-06, reg_lambda=0.0 will be ignored. Current value: lambda_l2=1.8388168957237103e-06\n",
      "[LightGBM] [Warning] bagging_fraction is set=0.7421878924944453, subsample=1.0 will be ignored. Current value: bagging_fraction=0.7421878924944453\n"
     ]
    },
    {
     "name": "stderr",
     "output_type": "stream",
     "text": [
      "\u001b[32m[I 2022-08-24 02:32:50,046]\u001b[0m Trial 14 finished with value: 15.850738938464158 and parameters: {'lambda_l1': 0.0965390009797821, 'lambda_l2': 1.8388168957237103e-06, 'num_leaves': 197, 'feature_fraction': 0.4944482074111869, 'bagging_fraction': 0.7421878924944453, 'bagging_freq': 2, 'min_child_samples': 79}. Best is trial 5 with value: 15.803781843559694.\u001b[0m\n"
     ]
    },
    {
     "name": "stdout",
     "output_type": "stream",
     "text": [
      "[LightGBM] [Warning] lambda_l1 is set=0.0965390009797821, reg_alpha=0.0 will be ignored. Current value: lambda_l1=0.0965390009797821\n",
      "[LightGBM] [Warning] feature_fraction is set=0.4944482074111869, colsample_bytree=1.0 will be ignored. Current value: feature_fraction=0.4944482074111869\n",
      "[LightGBM] [Warning] bagging_freq is set=2, subsample_freq=0 will be ignored. Current value: bagging_freq=2\n",
      "[LightGBM] [Warning] lambda_l2 is set=1.8388168957237103e-06, reg_lambda=0.0 will be ignored. Current value: lambda_l2=1.8388168957237103e-06\n",
      "[LightGBM] [Warning] bagging_fraction is set=0.7421878924944453, subsample=1.0 will be ignored. Current value: bagging_fraction=0.7421878924944453\n",
      "[LightGBM] [Warning] lambda_l1 is set=0.0965390009797821, reg_alpha=0.0 will be ignored. Current value: lambda_l1=0.0965390009797821\n",
      "[LightGBM] [Warning] feature_fraction is set=0.4944482074111869, colsample_bytree=1.0 will be ignored. Current value: feature_fraction=0.4944482074111869\n",
      "[LightGBM] [Warning] bagging_freq is set=2, subsample_freq=0 will be ignored. Current value: bagging_freq=2\n",
      "[LightGBM] [Warning] lambda_l2 is set=1.8388168957237103e-06, reg_lambda=0.0 will be ignored. Current value: lambda_l2=1.8388168957237103e-06\n",
      "[LightGBM] [Warning] bagging_fraction is set=0.7421878924944453, subsample=1.0 will be ignored. Current value: bagging_fraction=0.7421878924944453\n",
      "[LightGBM] [Warning] lambda_l1 is set=0.0965390009797821, reg_alpha=0.0 will be ignored. Current value: lambda_l1=0.0965390009797821\n",
      "[LightGBM] [Warning] feature_fraction is set=0.4944482074111869, colsample_bytree=1.0 will be ignored. Current value: feature_fraction=0.4944482074111869\n",
      "[LightGBM] [Warning] bagging_freq is set=2, subsample_freq=0 will be ignored. Current value: bagging_freq=2\n",
      "[LightGBM] [Warning] lambda_l2 is set=1.8388168957237103e-06, reg_lambda=0.0 will be ignored. Current value: lambda_l2=1.8388168957237103e-06\n",
      "[LightGBM] [Warning] bagging_fraction is set=0.7421878924944453, subsample=1.0 will be ignored. Current value: bagging_fraction=0.7421878924944453\n",
      "[LightGBM] [Warning] lambda_l1 is set=0.0965390009797821, reg_alpha=0.0 will be ignored. Current value: lambda_l1=0.0965390009797821\n",
      "[LightGBM] [Warning] feature_fraction is set=0.4944482074111869, colsample_bytree=1.0 will be ignored. Current value: feature_fraction=0.4944482074111869\n",
      "[LightGBM] [Warning] bagging_freq is set=2, subsample_freq=0 will be ignored. Current value: bagging_freq=2\n",
      "[LightGBM] [Warning] lambda_l2 is set=1.8388168957237103e-06, reg_lambda=0.0 will be ignored. Current value: lambda_l2=1.8388168957237103e-06\n",
      "[LightGBM] [Warning] bagging_fraction is set=0.7421878924944453, subsample=1.0 will be ignored. Current value: bagging_fraction=0.7421878924944453\n",
      "[LightGBM] [Warning] lambda_l1 is set=0.00022987187281534296, reg_alpha=0.0 will be ignored. Current value: lambda_l1=0.00022987187281534296\n",
      "[LightGBM] [Warning] feature_fraction is set=0.6201026375237395, colsample_bytree=1.0 will be ignored. Current value: feature_fraction=0.6201026375237395\n",
      "[LightGBM] [Warning] bagging_freq is set=3, subsample_freq=0 will be ignored. Current value: bagging_freq=3\n",
      "[LightGBM] [Warning] lambda_l2 is set=2.6376895012299166e-07, reg_lambda=0.0 will be ignored. Current value: lambda_l2=2.6376895012299166e-07\n",
      "[LightGBM] [Warning] bagging_fraction is set=0.8587670993238541, subsample=1.0 will be ignored. Current value: bagging_fraction=0.8587670993238541\n"
     ]
    },
    {
     "name": "stderr",
     "output_type": "stream",
     "text": [
      "\u001b[32m[I 2022-08-24 02:32:50,261]\u001b[0m Trial 15 finished with value: 15.780724979410014 and parameters: {'lambda_l1': 0.00022987187281534296, 'lambda_l2': 2.6376895012299166e-07, 'num_leaves': 178, 'feature_fraction': 0.6201026375237395, 'bagging_fraction': 0.8587670993238541, 'bagging_freq': 3, 'min_child_samples': 98}. Best is trial 15 with value: 15.780724979410014.\u001b[0m\n"
     ]
    },
    {
     "name": "stdout",
     "output_type": "stream",
     "text": [
      "[LightGBM] [Warning] lambda_l1 is set=0.00022987187281534296, reg_alpha=0.0 will be ignored. Current value: lambda_l1=0.00022987187281534296\n",
      "[LightGBM] [Warning] feature_fraction is set=0.6201026375237395, colsample_bytree=1.0 will be ignored. Current value: feature_fraction=0.6201026375237395\n",
      "[LightGBM] [Warning] bagging_freq is set=3, subsample_freq=0 will be ignored. Current value: bagging_freq=3\n",
      "[LightGBM] [Warning] lambda_l2 is set=2.6376895012299166e-07, reg_lambda=0.0 will be ignored. Current value: lambda_l2=2.6376895012299166e-07\n",
      "[LightGBM] [Warning] bagging_fraction is set=0.8587670993238541, subsample=1.0 will be ignored. Current value: bagging_fraction=0.8587670993238541\n",
      "[LightGBM] [Warning] lambda_l1 is set=0.00022987187281534296, reg_alpha=0.0 will be ignored. Current value: lambda_l1=0.00022987187281534296\n",
      "[LightGBM] [Warning] feature_fraction is set=0.6201026375237395, colsample_bytree=1.0 will be ignored. Current value: feature_fraction=0.6201026375237395\n",
      "[LightGBM] [Warning] bagging_freq is set=3, subsample_freq=0 will be ignored. Current value: bagging_freq=3\n",
      "[LightGBM] [Warning] lambda_l2 is set=2.6376895012299166e-07, reg_lambda=0.0 will be ignored. Current value: lambda_l2=2.6376895012299166e-07\n",
      "[LightGBM] [Warning] bagging_fraction is set=0.8587670993238541, subsample=1.0 will be ignored. Current value: bagging_fraction=0.8587670993238541\n",
      "[LightGBM] [Warning] lambda_l1 is set=0.00022987187281534296, reg_alpha=0.0 will be ignored. Current value: lambda_l1=0.00022987187281534296\n",
      "[LightGBM] [Warning] feature_fraction is set=0.6201026375237395, colsample_bytree=1.0 will be ignored. Current value: feature_fraction=0.6201026375237395\n",
      "[LightGBM] [Warning] bagging_freq is set=3, subsample_freq=0 will be ignored. Current value: bagging_freq=3\n",
      "[LightGBM] [Warning] lambda_l2 is set=2.6376895012299166e-07, reg_lambda=0.0 will be ignored. Current value: lambda_l2=2.6376895012299166e-07\n",
      "[LightGBM] [Warning] bagging_fraction is set=0.8587670993238541, subsample=1.0 will be ignored. Current value: bagging_fraction=0.8587670993238541\n",
      "[LightGBM] [Warning] lambda_l1 is set=0.00022987187281534296, reg_alpha=0.0 will be ignored. Current value: lambda_l1=0.00022987187281534296\n",
      "[LightGBM] [Warning] feature_fraction is set=0.6201026375237395, colsample_bytree=1.0 will be ignored. Current value: feature_fraction=0.6201026375237395\n",
      "[LightGBM] [Warning] bagging_freq is set=3, subsample_freq=0 will be ignored. Current value: bagging_freq=3\n",
      "[LightGBM] [Warning] lambda_l2 is set=2.6376895012299166e-07, reg_lambda=0.0 will be ignored. Current value: lambda_l2=2.6376895012299166e-07\n",
      "[LightGBM] [Warning] bagging_fraction is set=0.8587670993238541, subsample=1.0 will be ignored. Current value: bagging_fraction=0.8587670993238541\n",
      "[LightGBM] [Warning] lambda_l1 is set=0.00014398946958065633, reg_alpha=0.0 will be ignored. Current value: lambda_l1=0.00014398946958065633\n",
      "[LightGBM] [Warning] feature_fraction is set=0.6153808604709599, colsample_bytree=1.0 will be ignored. Current value: feature_fraction=0.6153808604709599\n",
      "[LightGBM] [Warning] bagging_freq is set=2, subsample_freq=0 will be ignored. Current value: bagging_freq=2\n",
      "[LightGBM] [Warning] lambda_l2 is set=0.051848087273371986, reg_lambda=0.0 will be ignored. Current value: lambda_l2=0.051848087273371986\n",
      "[LightGBM] [Warning] bagging_fraction is set=0.9394857859810131, subsample=1.0 will be ignored. Current value: bagging_fraction=0.9394857859810131\n"
     ]
    },
    {
     "name": "stderr",
     "output_type": "stream",
     "text": [
      "\u001b[32m[I 2022-08-24 02:32:50,489]\u001b[0m Trial 16 finished with value: 15.882480042781632 and parameters: {'lambda_l1': 0.00014398946958065633, 'lambda_l2': 0.051848087273371986, 'num_leaves': 71, 'feature_fraction': 0.6153808604709599, 'bagging_fraction': 0.9394857859810131, 'bagging_freq': 2, 'min_child_samples': 70}. Best is trial 15 with value: 15.780724979410014.\u001b[0m\n"
     ]
    },
    {
     "name": "stdout",
     "output_type": "stream",
     "text": [
      "[LightGBM] [Warning] lambda_l1 is set=0.00014398946958065633, reg_alpha=0.0 will be ignored. Current value: lambda_l1=0.00014398946958065633\n",
      "[LightGBM] [Warning] feature_fraction is set=0.6153808604709599, colsample_bytree=1.0 will be ignored. Current value: feature_fraction=0.6153808604709599\n",
      "[LightGBM] [Warning] bagging_freq is set=2, subsample_freq=0 will be ignored. Current value: bagging_freq=2\n",
      "[LightGBM] [Warning] lambda_l2 is set=0.051848087273371986, reg_lambda=0.0 will be ignored. Current value: lambda_l2=0.051848087273371986\n",
      "[LightGBM] [Warning] bagging_fraction is set=0.9394857859810131, subsample=1.0 will be ignored. Current value: bagging_fraction=0.9394857859810131\n",
      "[LightGBM] [Warning] lambda_l1 is set=0.00014398946958065633, reg_alpha=0.0 will be ignored. Current value: lambda_l1=0.00014398946958065633\n",
      "[LightGBM] [Warning] feature_fraction is set=0.6153808604709599, colsample_bytree=1.0 will be ignored. Current value: feature_fraction=0.6153808604709599\n",
      "[LightGBM] [Warning] bagging_freq is set=2, subsample_freq=0 will be ignored. Current value: bagging_freq=2\n",
      "[LightGBM] [Warning] lambda_l2 is set=0.051848087273371986, reg_lambda=0.0 will be ignored. Current value: lambda_l2=0.051848087273371986\n",
      "[LightGBM] [Warning] bagging_fraction is set=0.9394857859810131, subsample=1.0 will be ignored. Current value: bagging_fraction=0.9394857859810131\n",
      "[LightGBM] [Warning] lambda_l1 is set=0.00014398946958065633, reg_alpha=0.0 will be ignored. Current value: lambda_l1=0.00014398946958065633\n",
      "[LightGBM] [Warning] feature_fraction is set=0.6153808604709599, colsample_bytree=1.0 will be ignored. Current value: feature_fraction=0.6153808604709599\n",
      "[LightGBM] [Warning] bagging_freq is set=2, subsample_freq=0 will be ignored. Current value: bagging_freq=2\n",
      "[LightGBM] [Warning] lambda_l2 is set=0.051848087273371986, reg_lambda=0.0 will be ignored. Current value: lambda_l2=0.051848087273371986\n",
      "[LightGBM] [Warning] bagging_fraction is set=0.9394857859810131, subsample=1.0 will be ignored. Current value: bagging_fraction=0.9394857859810131\n",
      "[LightGBM] [Warning] lambda_l1 is set=0.00014398946958065633, reg_alpha=0.0 will be ignored. Current value: lambda_l1=0.00014398946958065633\n",
      "[LightGBM] [Warning] feature_fraction is set=0.6153808604709599, colsample_bytree=1.0 will be ignored. Current value: feature_fraction=0.6153808604709599\n",
      "[LightGBM] [Warning] bagging_freq is set=2, subsample_freq=0 will be ignored. Current value: bagging_freq=2\n",
      "[LightGBM] [Warning] lambda_l2 is set=0.051848087273371986, reg_lambda=0.0 will be ignored. Current value: lambda_l2=0.051848087273371986\n",
      "[LightGBM] [Warning] bagging_fraction is set=0.9394857859810131, subsample=1.0 will be ignored. Current value: bagging_fraction=0.9394857859810131\n",
      "[LightGBM] [Warning] lambda_l1 is set=0.00024583333013126444, reg_alpha=0.0 will be ignored. Current value: lambda_l1=0.00024583333013126444\n",
      "[LightGBM] [Warning] feature_fraction is set=0.807252504696617, colsample_bytree=1.0 will be ignored. Current value: feature_fraction=0.807252504696617\n",
      "[LightGBM] [Warning] bagging_freq is set=4, subsample_freq=0 will be ignored. Current value: bagging_freq=4\n",
      "[LightGBM] [Warning] lambda_l2 is set=4.484914697364659e-07, reg_lambda=0.0 will be ignored. Current value: lambda_l2=4.484914697364659e-07\n",
      "[LightGBM] [Warning] bagging_fraction is set=0.8650294911226462, subsample=1.0 will be ignored. Current value: bagging_fraction=0.8650294911226462\n"
     ]
    },
    {
     "name": "stderr",
     "output_type": "stream",
     "text": [
      "\u001b[32m[I 2022-08-24 02:32:50,701]\u001b[0m Trial 17 finished with value: 15.862791585741908 and parameters: {'lambda_l1': 0.00024583333013126444, 'lambda_l2': 4.484914697364659e-07, 'num_leaves': 159, 'feature_fraction': 0.807252504696617, 'bagging_fraction': 0.8650294911226462, 'bagging_freq': 4, 'min_child_samples': 87}. Best is trial 15 with value: 15.780724979410014.\u001b[0m\n"
     ]
    },
    {
     "name": "stdout",
     "output_type": "stream",
     "text": [
      "[LightGBM] [Warning] lambda_l1 is set=0.00024583333013126444, reg_alpha=0.0 will be ignored. Current value: lambda_l1=0.00024583333013126444\n",
      "[LightGBM] [Warning] feature_fraction is set=0.807252504696617, colsample_bytree=1.0 will be ignored. Current value: feature_fraction=0.807252504696617\n",
      "[LightGBM] [Warning] bagging_freq is set=4, subsample_freq=0 will be ignored. Current value: bagging_freq=4\n",
      "[LightGBM] [Warning] lambda_l2 is set=4.484914697364659e-07, reg_lambda=0.0 will be ignored. Current value: lambda_l2=4.484914697364659e-07\n",
      "[LightGBM] [Warning] bagging_fraction is set=0.8650294911226462, subsample=1.0 will be ignored. Current value: bagging_fraction=0.8650294911226462\n",
      "[LightGBM] [Warning] lambda_l1 is set=0.00024583333013126444, reg_alpha=0.0 will be ignored. Current value: lambda_l1=0.00024583333013126444\n",
      "[LightGBM] [Warning] feature_fraction is set=0.807252504696617, colsample_bytree=1.0 will be ignored. Current value: feature_fraction=0.807252504696617\n",
      "[LightGBM] [Warning] bagging_freq is set=4, subsample_freq=0 will be ignored. Current value: bagging_freq=4\n",
      "[LightGBM] [Warning] lambda_l2 is set=4.484914697364659e-07, reg_lambda=0.0 will be ignored. Current value: lambda_l2=4.484914697364659e-07\n",
      "[LightGBM] [Warning] bagging_fraction is set=0.8650294911226462, subsample=1.0 will be ignored. Current value: bagging_fraction=0.8650294911226462\n",
      "[LightGBM] [Warning] lambda_l1 is set=0.00024583333013126444, reg_alpha=0.0 will be ignored. Current value: lambda_l1=0.00024583333013126444\n",
      "[LightGBM] [Warning] feature_fraction is set=0.807252504696617, colsample_bytree=1.0 will be ignored. Current value: feature_fraction=0.807252504696617\n",
      "[LightGBM] [Warning] bagging_freq is set=4, subsample_freq=0 will be ignored. Current value: bagging_freq=4\n",
      "[LightGBM] [Warning] lambda_l2 is set=4.484914697364659e-07, reg_lambda=0.0 will be ignored. Current value: lambda_l2=4.484914697364659e-07\n",
      "[LightGBM] [Warning] bagging_fraction is set=0.8650294911226462, subsample=1.0 will be ignored. Current value: bagging_fraction=0.8650294911226462\n",
      "[LightGBM] [Warning] lambda_l1 is set=0.00024583333013126444, reg_alpha=0.0 will be ignored. Current value: lambda_l1=0.00024583333013126444\n",
      "[LightGBM] [Warning] feature_fraction is set=0.807252504696617, colsample_bytree=1.0 will be ignored. Current value: feature_fraction=0.807252504696617\n",
      "[LightGBM] [Warning] bagging_freq is set=4, subsample_freq=0 will be ignored. Current value: bagging_freq=4\n",
      "[LightGBM] [Warning] lambda_l2 is set=4.484914697364659e-07, reg_lambda=0.0 will be ignored. Current value: lambda_l2=4.484914697364659e-07\n",
      "[LightGBM] [Warning] bagging_fraction is set=0.8650294911226462, subsample=1.0 will be ignored. Current value: bagging_fraction=0.8650294911226462\n",
      "[LightGBM] [Warning] lambda_l1 is set=0.00010221431760009677, reg_alpha=0.0 will be ignored. Current value: lambda_l1=0.00010221431760009677\n",
      "[LightGBM] [Warning] feature_fraction is set=0.658139537738784, colsample_bytree=1.0 will be ignored. Current value: feature_fraction=0.658139537738784\n",
      "[LightGBM] [Warning] bagging_freq is set=5, subsample_freq=0 will be ignored. Current value: bagging_freq=5\n",
      "[LightGBM] [Warning] lambda_l2 is set=1.0111280673086898e-05, reg_lambda=0.0 will be ignored. Current value: lambda_l2=1.0111280673086898e-05\n",
      "[LightGBM] [Warning] bagging_fraction is set=0.7318967051811494, subsample=1.0 will be ignored. Current value: bagging_fraction=0.7318967051811494\n"
     ]
    },
    {
     "name": "stderr",
     "output_type": "stream",
     "text": [
      "\u001b[32m[I 2022-08-24 02:32:50,921]\u001b[0m Trial 18 finished with value: 15.91512097353812 and parameters: {'lambda_l1': 0.00010221431760009677, 'lambda_l2': 1.0111280673086898e-05, 'num_leaves': 225, 'feature_fraction': 0.658139537738784, 'bagging_fraction': 0.7318967051811494, 'bagging_freq': 5, 'min_child_samples': 85}. Best is trial 15 with value: 15.780724979410014.\u001b[0m\n"
     ]
    },
    {
     "name": "stdout",
     "output_type": "stream",
     "text": [
      "[LightGBM] [Warning] lambda_l1 is set=0.00010221431760009677, reg_alpha=0.0 will be ignored. Current value: lambda_l1=0.00010221431760009677\n",
      "[LightGBM] [Warning] feature_fraction is set=0.658139537738784, colsample_bytree=1.0 will be ignored. Current value: feature_fraction=0.658139537738784\n",
      "[LightGBM] [Warning] bagging_freq is set=5, subsample_freq=0 will be ignored. Current value: bagging_freq=5\n",
      "[LightGBM] [Warning] lambda_l2 is set=1.0111280673086898e-05, reg_lambda=0.0 will be ignored. Current value: lambda_l2=1.0111280673086898e-05\n",
      "[LightGBM] [Warning] bagging_fraction is set=0.7318967051811494, subsample=1.0 will be ignored. Current value: bagging_fraction=0.7318967051811494\n",
      "[LightGBM] [Warning] lambda_l1 is set=0.00010221431760009677, reg_alpha=0.0 will be ignored. Current value: lambda_l1=0.00010221431760009677\n",
      "[LightGBM] [Warning] feature_fraction is set=0.658139537738784, colsample_bytree=1.0 will be ignored. Current value: feature_fraction=0.658139537738784\n",
      "[LightGBM] [Warning] bagging_freq is set=5, subsample_freq=0 will be ignored. Current value: bagging_freq=5\n",
      "[LightGBM] [Warning] lambda_l2 is set=1.0111280673086898e-05, reg_lambda=0.0 will be ignored. Current value: lambda_l2=1.0111280673086898e-05\n",
      "[LightGBM] [Warning] bagging_fraction is set=0.7318967051811494, subsample=1.0 will be ignored. Current value: bagging_fraction=0.7318967051811494\n",
      "[LightGBM] [Warning] lambda_l1 is set=0.00010221431760009677, reg_alpha=0.0 will be ignored. Current value: lambda_l1=0.00010221431760009677\n",
      "[LightGBM] [Warning] feature_fraction is set=0.658139537738784, colsample_bytree=1.0 will be ignored. Current value: feature_fraction=0.658139537738784\n",
      "[LightGBM] [Warning] bagging_freq is set=5, subsample_freq=0 will be ignored. Current value: bagging_freq=5\n",
      "[LightGBM] [Warning] lambda_l2 is set=1.0111280673086898e-05, reg_lambda=0.0 will be ignored. Current value: lambda_l2=1.0111280673086898e-05\n",
      "[LightGBM] [Warning] bagging_fraction is set=0.7318967051811494, subsample=1.0 will be ignored. Current value: bagging_fraction=0.7318967051811494\n",
      "[LightGBM] [Warning] lambda_l1 is set=0.00010221431760009677, reg_alpha=0.0 will be ignored. Current value: lambda_l1=0.00010221431760009677\n",
      "[LightGBM] [Warning] feature_fraction is set=0.658139537738784, colsample_bytree=1.0 will be ignored. Current value: feature_fraction=0.658139537738784\n",
      "[LightGBM] [Warning] bagging_freq is set=5, subsample_freq=0 will be ignored. Current value: bagging_freq=5\n",
      "[LightGBM] [Warning] lambda_l2 is set=1.0111280673086898e-05, reg_lambda=0.0 will be ignored. Current value: lambda_l2=1.0111280673086898e-05\n",
      "[LightGBM] [Warning] bagging_fraction is set=0.7318967051811494, subsample=1.0 will be ignored. Current value: bagging_fraction=0.7318967051811494\n",
      "[LightGBM] [Warning] lambda_l1 is set=8.34406748970655e-07, reg_alpha=0.0 will be ignored. Current value: lambda_l1=8.34406748970655e-07\n",
      "[LightGBM] [Warning] feature_fraction is set=0.8834915205962548, colsample_bytree=1.0 will be ignored. Current value: feature_fraction=0.8834915205962548\n",
      "[LightGBM] [Warning] bagging_freq is set=2, subsample_freq=0 will be ignored. Current value: bagging_freq=2\n",
      "[LightGBM] [Warning] lambda_l2 is set=1.8500314797125927e-05, reg_lambda=0.0 will be ignored. Current value: lambda_l2=1.8500314797125927e-05\n",
      "[LightGBM] [Warning] bagging_fraction is set=0.7809795819563845, subsample=1.0 will be ignored. Current value: bagging_fraction=0.7809795819563845\n"
     ]
    },
    {
     "name": "stderr",
     "output_type": "stream",
     "text": [
      "\u001b[32m[I 2022-08-24 02:32:51,160]\u001b[0m Trial 19 finished with value: 15.796342571428251 and parameters: {'lambda_l1': 8.34406748970655e-07, 'lambda_l2': 1.8500314797125927e-05, 'num_leaves': 165, 'feature_fraction': 0.8834915205962548, 'bagging_fraction': 0.7809795819563845, 'bagging_freq': 2, 'min_child_samples': 70}. Best is trial 15 with value: 15.780724979410014.\u001b[0m\n"
     ]
    },
    {
     "name": "stdout",
     "output_type": "stream",
     "text": [
      "[LightGBM] [Warning] lambda_l1 is set=8.34406748970655e-07, reg_alpha=0.0 will be ignored. Current value: lambda_l1=8.34406748970655e-07\n",
      "[LightGBM] [Warning] feature_fraction is set=0.8834915205962548, colsample_bytree=1.0 will be ignored. Current value: feature_fraction=0.8834915205962548\n",
      "[LightGBM] [Warning] bagging_freq is set=2, subsample_freq=0 will be ignored. Current value: bagging_freq=2\n",
      "[LightGBM] [Warning] lambda_l2 is set=1.8500314797125927e-05, reg_lambda=0.0 will be ignored. Current value: lambda_l2=1.8500314797125927e-05\n",
      "[LightGBM] [Warning] bagging_fraction is set=0.7809795819563845, subsample=1.0 will be ignored. Current value: bagging_fraction=0.7809795819563845\n",
      "[LightGBM] [Warning] lambda_l1 is set=8.34406748970655e-07, reg_alpha=0.0 will be ignored. Current value: lambda_l1=8.34406748970655e-07\n",
      "[LightGBM] [Warning] feature_fraction is set=0.8834915205962548, colsample_bytree=1.0 will be ignored. Current value: feature_fraction=0.8834915205962548\n",
      "[LightGBM] [Warning] bagging_freq is set=2, subsample_freq=0 will be ignored. Current value: bagging_freq=2\n",
      "[LightGBM] [Warning] lambda_l2 is set=1.8500314797125927e-05, reg_lambda=0.0 will be ignored. Current value: lambda_l2=1.8500314797125927e-05\n",
      "[LightGBM] [Warning] bagging_fraction is set=0.7809795819563845, subsample=1.0 will be ignored. Current value: bagging_fraction=0.7809795819563845\n",
      "[LightGBM] [Warning] lambda_l1 is set=8.34406748970655e-07, reg_alpha=0.0 will be ignored. Current value: lambda_l1=8.34406748970655e-07\n",
      "[LightGBM] [Warning] feature_fraction is set=0.8834915205962548, colsample_bytree=1.0 will be ignored. Current value: feature_fraction=0.8834915205962548\n",
      "[LightGBM] [Warning] bagging_freq is set=2, subsample_freq=0 will be ignored. Current value: bagging_freq=2\n",
      "[LightGBM] [Warning] lambda_l2 is set=1.8500314797125927e-05, reg_lambda=0.0 will be ignored. Current value: lambda_l2=1.8500314797125927e-05\n",
      "[LightGBM] [Warning] bagging_fraction is set=0.7809795819563845, subsample=1.0 will be ignored. Current value: bagging_fraction=0.7809795819563845\n",
      "[LightGBM] [Warning] lambda_l1 is set=8.34406748970655e-07, reg_alpha=0.0 will be ignored. Current value: lambda_l1=8.34406748970655e-07\n",
      "[LightGBM] [Warning] feature_fraction is set=0.8834915205962548, colsample_bytree=1.0 will be ignored. Current value: feature_fraction=0.8834915205962548\n",
      "[LightGBM] [Warning] bagging_freq is set=2, subsample_freq=0 will be ignored. Current value: bagging_freq=2\n",
      "[LightGBM] [Warning] lambda_l2 is set=1.8500314797125927e-05, reg_lambda=0.0 will be ignored. Current value: lambda_l2=1.8500314797125927e-05\n",
      "[LightGBM] [Warning] bagging_fraction is set=0.7809795819563845, subsample=1.0 will be ignored. Current value: bagging_fraction=0.7809795819563845\n"
     ]
    }
   ],
   "source": [
    "study = optuna.create_study(direction=\"minimize\", study_name='LGBM optimization')\n",
    "study.optimize(Objective, n_trials=20)"
   ]
  },
  {
   "cell_type": "code",
   "execution_count": 138,
   "metadata": {},
   "outputs": [
    {
     "data": {
      "text/plain": [
       "{'lambda_l1': 0.00022987187281534296,\n",
       " 'lambda_l2': 2.6376895012299166e-07,\n",
       " 'num_leaves': 178,\n",
       " 'feature_fraction': 0.6201026375237395,\n",
       " 'bagging_fraction': 0.8587670993238541,\n",
       " 'bagging_freq': 3,\n",
       " 'min_child_samples': 98}"
      ]
     },
     "execution_count": 138,
     "metadata": {},
     "output_type": "execute_result"
    }
   ],
   "source": [
    "lgb_params = study.best_params\n",
    "study.best_params"
   ]
  },
  {
   "cell_type": "code",
   "execution_count": null,
   "metadata": {},
   "outputs": [],
   "source": []
  },
  {
   "cell_type": "markdown",
   "metadata": {},
   "source": [
    "-------"
   ]
  },
  {
   "cell_type": "code",
   "execution_count": 148,
   "metadata": {},
   "outputs": [
    {
     "name": "stdout",
     "output_type": "stream",
     "text": [
      "Learning rate set to 0.045896\n",
      "0:\tlearn: 15.9387945\ttotal: 798us\tremaining: 797ms\n",
      "200:\tlearn: 13.3847009\ttotal: 115ms\tremaining: 456ms\n",
      "400:\tlearn: 12.6592594\ttotal: 231ms\tremaining: 344ms\n",
      "600:\tlearn: 12.1371334\ttotal: 346ms\tremaining: 229ms\n",
      "800:\tlearn: 11.6944213\ttotal: 461ms\tremaining: 114ms\n",
      "999:\tlearn: 11.2931755\ttotal: 575ms\tremaining: 0us\n"
     ]
    }
   ],
   "source": [
    "from sklearn.ensemble import GradientBoostingRegressor\n",
    "from sklearn.ensemble import StackingRegressor\n",
    "final_estimator =  CatBoostRegressor( random_seed=13, verbose=200)\n",
    "\n",
    "estimators = [('xgb', XGBRegressor( )),\n",
    "              ('lgb', lgbm.LGBMRegressor()),\n",
    "                  # (\"reg\", reg),\n",
    "                (\"lgbreg\", lgbreg),\n",
    "              ]\n",
    "# model_pipeline = Pipeline(steps=[\n",
    "# (\"preprocessor\", preprocessor),\n",
    "# (\"final_estimator\", final_estimator),\n",
    "# ])\n",
    "reg = StackingRegressor(\n",
    "        estimators=estimators,\n",
    "         final_estimator=final_estimator)\n",
    "model_pipeline = Pipeline(steps=[\n",
    "(\"preprocessor\", preprocessor),\n",
    "(\"reg\", reg),\n",
    "])\n",
    "cb_reg_1 = model_pipeline.fit(X_train , y_train)"
   ]
  },
  {
   "cell_type": "code",
   "execution_count": 149,
   "metadata": {},
   "outputs": [
    {
     "name": "stdout",
     "output_type": "stream",
     "text": [
      "Learning rate set to 0.03559\n",
      "0:\tlearn: 15.8634414\ttotal: 1.01ms\tremaining: 1.01s\n",
      "200:\tlearn: 13.6540984\ttotal: 75.2ms\tremaining: 299ms\n",
      "400:\tlearn: 12.3151200\ttotal: 155ms\tremaining: 232ms\n",
      "600:\tlearn: 11.0926142\ttotal: 244ms\tremaining: 162ms\n",
      "800:\tlearn: 10.1263698\ttotal: 317ms\tremaining: 78.9ms\n",
      "999:\tlearn: 9.3129747\ttotal: 388ms\tremaining: 0us\n",
      "Learning rate set to 0.03559\n",
      "0:\tlearn: 15.6417712\ttotal: 977us\tremaining: 976ms\n",
      "200:\tlearn: 12.8824709\ttotal: 81.8ms\tremaining: 325ms\n",
      "400:\tlearn: 11.4059052\ttotal: 152ms\tremaining: 227ms\n",
      "600:\tlearn: 10.0793169\ttotal: 229ms\tremaining: 152ms\n",
      "800:\tlearn: 9.1084845\ttotal: 306ms\tremaining: 76ms\n",
      "999:\tlearn: 8.2799781\ttotal: 377ms\tremaining: 0us\n",
      "Learning rate set to 0.03559\n",
      "0:\tlearn: 15.9424731\ttotal: 456us\tremaining: 456ms\n",
      "200:\tlearn: 13.5872208\ttotal: 72.8ms\tremaining: 289ms\n",
      "400:\tlearn: 12.2352024\ttotal: 144ms\tremaining: 215ms\n",
      "600:\tlearn: 10.9923700\ttotal: 239ms\tremaining: 159ms\n",
      "800:\tlearn: 10.0247802\ttotal: 315ms\tremaining: 78.3ms\n",
      "999:\tlearn: 9.2095458\ttotal: 387ms\tremaining: 0us\n",
      "Learning rate set to 0.03559\n",
      "0:\tlearn: 15.5543912\ttotal: 534us\tremaining: 534ms\n",
      "200:\tlearn: 12.6938812\ttotal: 75ms\tremaining: 298ms\n",
      "400:\tlearn: 11.2275824\ttotal: 147ms\tremaining: 219ms\n",
      "600:\tlearn: 10.0019364\ttotal: 224ms\tremaining: 149ms\n",
      "800:\tlearn: 8.9860110\ttotal: 300ms\tremaining: 74.5ms\n",
      "999:\tlearn: 8.2185926\ttotal: 375ms\tremaining: 0us\n",
      "Learning rate set to 0.03559\n",
      "0:\tlearn: 15.9002348\ttotal: 8.98ms\tremaining: 8.97s\n",
      "200:\tlearn: 13.4773288\ttotal: 83.4ms\tremaining: 331ms\n",
      "400:\tlearn: 11.6725563\ttotal: 156ms\tremaining: 232ms\n",
      "600:\tlearn: 10.3068078\ttotal: 236ms\tremaining: 157ms\n",
      "800:\tlearn: 9.1942103\ttotal: 320ms\tremaining: 79.4ms\n",
      "999:\tlearn: 8.3660767\ttotal: 395ms\tremaining: 0us\n"
     ]
    },
    {
     "data": {
      "text/plain": [
       "16.55533020803083"
      ]
     },
     "execution_count": 149,
     "metadata": {},
     "output_type": "execute_result"
    }
   ],
   "source": [
    "results = cross_val_score(cb_reg_1, X_test, y_test.values.ravel(), cv=k, scoring=loss)\n",
    "\n",
    "np.abs(np.mean(results))"
   ]
  },
  {
   "cell_type": "code",
   "execution_count": 150,
   "metadata": {},
   "outputs": [
    {
     "data": {
      "text/plain": [
       "['reg.pkl']"
      ]
     },
     "execution_count": 150,
     "metadata": {},
     "output_type": "execute_result"
    }
   ],
   "source": [
    "import joblib\n",
    "joblib.dump(cb_reg_1, \"reg.pkl\")"
   ]
  }
 ],
 "metadata": {
  "kernelspec": {
   "display_name": "Python 3.10.4 64-bit",
   "language": "python",
   "name": "python3"
  },
  "language_info": {
   "codemirror_mode": {
    "name": "ipython",
    "version": 3
   },
   "file_extension": ".py",
   "mimetype": "text/x-python",
   "name": "python",
   "nbconvert_exporter": "python",
   "pygments_lexer": "ipython3",
   "version": "3.10.4"
  },
  "orig_nbformat": 4,
  "vscode": {
   "interpreter": {
    "hash": "949777d72b0d2535278d3dc13498b2535136f6dfe0678499012e853ee9abcab1"
   }
  }
 },
 "nbformat": 4,
 "nbformat_minor": 2
}

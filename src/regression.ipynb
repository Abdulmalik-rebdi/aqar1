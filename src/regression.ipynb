{
 "cells": [
  {
   "cell_type": "markdown",
   "metadata": {},
   "source": [
    "# predicting OnMarket "
   ]
  },
  {
   "cell_type": "code",
   "execution_count": 22,
   "metadata": {},
   "outputs": [],
   "source": [
    "import pandas as pd\n",
    "import numpy as np\n",
    "import matplotlib.pyplot as plt\n",
    "import math\n",
    "from sklearn.model_selection import train_test_split\n",
    "from sklearn.compose import TransformedTargetRegressor\n",
    "from sklearn.compose import ColumnTransformer\n",
    "from sklearn.compose import make_column_selector as selector\n",
    "from sklearn.preprocessing import PowerTransformer\n",
    "from sklearn.preprocessing import StandardScaler\n",
    "from sklearn.preprocessing import OneHotEncoder\n",
    "from sklearn.preprocessing import LabelEncoder\n",
    "from sklearn.impute import SimpleImputer\n",
    "from sklearn.impute import KNNImputer\n",
    "from sklearn.feature_selection import VarianceThreshold\n",
    "from sklearn.decomposition import PCA\n",
    "import datetime\n",
    "from datetime import timedelta\n",
    "import ast\n",
    "import json    \n",
    "import missingno as msno\n",
    "import seaborn as sns\n",
    "import arabic_reshaper\n",
    "from bidi.algorithm import get_display\n",
    "from sklearn.impute import SimpleImputer\n",
    "# from sklearn_pandas import CategoricalImputer\n",
    "from sklearn.impute import KNNImputer\n",
    "from sklearn.impute import SimpleImputer\n",
    "from sklearn.preprocessing import FunctionTransformer\n",
    "from sklearn.pipeline import Pipeline\n",
    "from sklearn import preprocessing\n",
    "from sklearn.model_selection import train_test_split, GridSearchCV\n",
    "from sklearn.metrics import classification_report, confusion_matrix, precision_score, accuracy_score, recall_score, f1_score\n",
    "from sklearn.linear_model import LogisticRegression\n",
    "# Helper packages\n",
    "from plotnine import *\n",
    "\n",
    "# Modeling packages\n",
    "from sklearn.model_selection import KFold\n",
    "from sklearn.model_selection import cross_val_score\n",
    "from sklearn.neighbors import KNeighborsClassifier\n",
    "from sklearn.metrics import plot_roc_curve\n",
    "from sklearn.metrics import ConfusionMatrixDisplay\n",
    "from sklearn.inspection import permutation_importance\n",
    "from sklearn.inspection import partial_dependence\n",
    "from sklearn.ensemble import RandomForestClassifier\n",
    "from sklearn.tree import DecisionTreeClassifier\n",
    "import matplotlib.pyplot as plt\n",
    "import numpy as np\n",
    "import os\n",
    "import pandas as pd\n",
    "import seaborn as sns\n",
    "\n",
    "from catboost import CatBoostRegressor, cv, Pool\n",
    "\n",
    "from collections import defaultdict\n",
    "\n",
    "from hyperopt import hp, fmin, tpe, STATUS_OK, STATUS_FAIL, Trials\n",
    "\n",
    "import shap\n",
    "from sklearn.decomposition import PCA\n",
    "from sklearn.ensemble import RandomForestRegressor, GradientBoostingRegressor, BaggingRegressor\n",
    "from sklearn.preprocessing import LabelEncoder, StandardScaler, OneHotEncoder\n",
    "from sklearn.model_selection import train_test_split, KFold, cross_val_score, cross_val_predict\n",
    "from sklearn.metrics import mean_squared_error, r2_score\n",
    "from sklearn.linear_model import LinearRegression, Lasso, Ridge\n",
    "from sklearn.pipeline import Pipeline\n",
    "\n",
    "from tqdm import tqdm\n"
   ]
  },
  {
   "cell_type": "markdown",
   "metadata": {},
   "source": [
    "## i will use in all the models 5 cross vaildation and MRSE to measure the ERROR "
   ]
  },
  {
   "cell_type": "code",
   "execution_count": 23,
   "metadata": {},
   "outputs": [],
   "source": [
    "loss = 'neg_root_mean_squared_error'\n",
    "k = 5 #k-fold"
   ]
  },
  {
   "cell_type": "code",
   "execution_count": 24,
   "metadata": {},
   "outputs": [],
   "source": [
    "df = pd.read_csv('../data/ML.csv')\n",
    "df['user_id'] = df['user_id'].astype('object')"
   ]
  },
  {
   "cell_type": "markdown",
   "metadata": {},
   "source": [
    "delete outliers as in the EDA"
   ]
  },
  {
   "cell_type": "code",
   "execution_count": 25,
   "metadata": {},
   "outputs": [],
   "source": [
    "df =df[df['beds'] <=5]\n",
    "df = df.loc[(df['review'] > 3) | (df['review'] == 1)]\n",
    "df = df[df['price'] <=100*1000]\n",
    "df = df[df['isRent']==True]\n",
    "df = df[df['onMarket']<=75]"
   ]
  },
  {
   "cell_type": "code",
   "execution_count": 26,
   "metadata": {},
   "outputs": [],
   "source": [
    "df.drop(['createYEAR'],axis=1 ,inplace=True)\n",
    "df.drop(['createDAY'],axis=1 ,inplace=True)\n",
    "df.drop(['createMONTH'],axis=1 ,inplace=True)\n",
    "df.drop(['lUpdateDAY'],axis=1 ,inplace=True)\n",
    "df.drop(['lUpdateMONTH'],axis=1 ,inplace=True)\n",
    "df.drop(['lUpdateYEAR'],axis=1 ,inplace=True)\n",
    "df.drop(['id'],axis=1 ,inplace=True)"
   ]
  },
  {
   "cell_type": "code",
   "execution_count": 27,
   "metadata": {},
   "outputs": [],
   "source": [
    "\n",
    "X = df.drop(['isRent' , 'DayOfRent' , 'timeBeforeRent'  , 'onMarket'  ] , axis=1)\n",
    "y = df['onMarket']"
   ]
  },
  {
   "cell_type": "code",
   "execution_count": 28,
   "metadata": {},
   "outputs": [
    {
     "data": {
      "text/plain": [
       "Index(['user_id', 'len_of_title', 'price', 'len_of_content', 'img_in_posd',\n",
       "       'beds', 'livings', 'wc', 'area', 'street_width', 'age', 'ketchen', 'ac',\n",
       "       'furnished', 'district', 'advertiser_type', 'review', 'profileImg',\n",
       "       'iam_verified', 'zone'],\n",
       "      dtype='object')"
      ]
     },
     "execution_count": 28,
     "metadata": {},
     "output_type": "execute_result"
    }
   ],
   "source": [
    "X.columns"
   ]
  },
  {
   "cell_type": "code",
   "execution_count": 29,
   "metadata": {},
   "outputs": [],
   "source": [
    "X_train, X_test, y_train, y_test = train_test_split(X, y, test_size=0.2)\n",
    "train_df = X_train.join(y_train)\n",
    "test_df =X_test.join(y_test)"
   ]
  },
  {
   "cell_type": "markdown",
   "metadata": {},
   "source": [
    "low varince"
   ]
  },
  {
   "cell_type": "code",
   "execution_count": 30,
   "metadata": {},
   "outputs": [],
   "source": [
    "nzv = VarianceThreshold(threshold=0.1)"
   ]
  },
  {
   "cell_type": "markdown",
   "metadata": {},
   "source": [
    "dealing with Skewness"
   ]
  },
  {
   "cell_type": "code",
   "execution_count": 31,
   "metadata": {},
   "outputs": [],
   "source": [
    "yj = PowerTransformer(method=\"yeo-johnson\")\n",
    "# X_norm = ColumnTransformer([(\"norm\", yj, selector(dtype_include=\"number\"))])"
   ]
  },
  {
   "cell_type": "markdown",
   "metadata": {},
   "source": [
    "Standardization"
   ]
  },
  {
   "cell_type": "code",
   "execution_count": 32,
   "metadata": {},
   "outputs": [],
   "source": [
    "scaler = StandardScaler()\n",
    "\n",
    "# standardize all numeric features\n",
    "# std = ColumnTransformer([(\"norm\", scaler, selector(dtype_include=\"number\"))])"
   ]
  },
  {
   "cell_type": "markdown",
   "metadata": {},
   "source": [
    "OneHotEncoder for advertiser_type"
   ]
  },
  {
   "cell_type": "code",
   "execution_count": 33,
   "metadata": {},
   "outputs": [],
   "source": [
    "encoder = OneHotEncoder(handle_unknown=\"ignore\")\n"
   ]
  },
  {
   "cell_type": "markdown",
   "metadata": {},
   "source": [
    "rediction the dim"
   ]
  },
  {
   "cell_type": "code",
   "execution_count": 34,
   "metadata": {},
   "outputs": [],
   "source": [
    "# pca = PCA(n_components=11)\n"
   ]
  },
  {
   "cell_type": "code",
   "execution_count": 35,
   "metadata": {},
   "outputs": [],
   "source": [
    "preprocessor = ColumnTransformer(\n",
    "  remainder=\"passthrough\",\n",
    "  transformers=[\n",
    "  (\"nzv_encode\", nzv, selector(dtype_include=\"number\")),\n",
    "  (\"norm\", yj, selector(dtype_include=\"number\")),\n",
    "  (\"std_encode\", scaler, selector(dtype_include=\"number\")),\n",
    "  # (\"pca_encode\", pca, selector(dtype_include=\"number\")),\n",
    "  (\"one-hot\", encoder, selector(dtype_include=\"object\")),\n",
    "  ])"
   ]
  },
  {
   "cell_type": "code",
   "execution_count": 36,
   "metadata": {},
   "outputs": [],
   "source": [
    "from sklearn.linear_model import RidgeCV\n",
    "from sklearn.inspection import permutation_importance\n",
    "from sklearn.inspection import partial_dependence"
   ]
  },
  {
   "cell_type": "markdown",
   "metadata": {},
   "source": [
    "# RidgeCV"
   ]
  },
  {
   "cell_type": "code",
   "execution_count": 37,
   "metadata": {},
   "outputs": [],
   "source": [
    "alphas = [1,10 , 20]\n",
    "reg = RidgeCV(alphas= alphas , store_cv_values=True)\n",
    "\n",
    "model_pipeline = Pipeline(steps=[\n",
    "  (\"preprocessor\", preprocessor),\n",
    "  (\"reg\", reg),\n",
    "])\n",
    "cb_reg_1 = model_pipeline.fit(X_train , y_train)\n",
    "cv_MSE = np.mean(reg.cv_values_, axis=0)"
   ]
  },
  {
   "cell_type": "code",
   "execution_count": 38,
   "metadata": {},
   "outputs": [
    {
     "data": {
      "text/plain": [
       "[1, 10, 20]"
      ]
     },
     "execution_count": 38,
     "metadata": {},
     "output_type": "execute_result"
    }
   ],
   "source": [
    "alphas"
   ]
  },
  {
   "cell_type": "code",
   "execution_count": 39,
   "metadata": {},
   "outputs": [
    {
     "data": {
      "text/plain": [
       "array([247.45161418, 255.3278743 , 264.78424865])"
      ]
     },
     "execution_count": 39,
     "metadata": {},
     "output_type": "execute_result"
    }
   ],
   "source": [
    "cv_MSE"
   ]
  },
  {
   "cell_type": "code",
   "execution_count": 40,
   "metadata": {},
   "outputs": [
    {
     "data": {
      "text/plain": [
       "1"
      ]
     },
     "execution_count": 40,
     "metadata": {},
     "output_type": "execute_result"
    }
   ],
   "source": [
    "reg.alpha_"
   ]
  },
  {
   "cell_type": "code",
   "execution_count": 41,
   "metadata": {},
   "outputs": [
    {
     "data": {
      "text/plain": [
       "16.7650238503141"
      ]
     },
     "execution_count": 41,
     "metadata": {},
     "output_type": "execute_result"
    }
   ],
   "source": [
    "results =cross_val_score(cb_reg_1, X_test, y_test.values.ravel(), cv=k, scoring=loss)\n",
    "np.abs(np.mean(results))"
   ]
  },
  {
   "cell_type": "markdown",
   "metadata": {},
   "source": [
    "# catBoost\n"
   ]
  },
  {
   "cell_type": "code",
   "execution_count": 42,
   "metadata": {},
   "outputs": [
    {
     "name": "stdout",
     "output_type": "stream",
     "text": [
      "Learning rate set to 0.046011\n",
      "0:\tlearn: 17.7263149\ttotal: 52.7ms\tremaining: 52.6s\n",
      "200:\tlearn: 14.4428067\ttotal: 468ms\tremaining: 1.86s\n",
      "400:\tlearn: 13.0261412\ttotal: 880ms\tremaining: 1.31s\n",
      "600:\tlearn: 12.0007842\ttotal: 1.28s\tremaining: 848ms\n",
      "800:\tlearn: 11.2396419\ttotal: 1.65s\tremaining: 410ms\n",
      "999:\tlearn: 10.5479946\ttotal: 2.06s\tremaining: 0us\n"
     ]
    }
   ],
   "source": [
    "\n",
    "cb_reg_1 = CatBoostRegressor( random_seed=13, verbose=200)\n",
    "\n",
    "pipeline  = Pipeline(steps=[\n",
    "  (\"preprocessor\", preprocessor),\n",
    "  (\"cb_reg_1\", cb_reg_1),\n",
    "])\n",
    "pipeline.fit(X_train , y_train)\n",
    "# scores = cross_val_score(model_pipeline, X_train, y_train, cv = 5 )\n",
    "# scores = GridSearchCV(model_pipeline, X_train, y_train , cv=5, scoring='neg_root_mean_squared_error', n_jobs=-1)\n",
    "results = cross_val_score(model_pipeline, X_test, y_test.values.ravel(), cv=k, scoring=loss)\n"
   ]
  },
  {
   "cell_type": "code",
   "execution_count": 43,
   "metadata": {},
   "outputs": [
    {
     "data": {
      "text/plain": [
       "16.7650238503141"
      ]
     },
     "execution_count": 43,
     "metadata": {},
     "output_type": "execute_result"
    }
   ],
   "source": [
    "\n",
    "np.abs(np.mean(results))"
   ]
  },
  {
   "cell_type": "markdown",
   "metadata": {},
   "source": [
    "-----------"
   ]
  },
  {
   "cell_type": "code",
   "execution_count": 44,
   "metadata": {},
   "outputs": [],
   "source": [
    "class DataProcessor(object):\n",
    "    def __init__(self):\n",
    "        self.encoder = None\n",
    "        self.standard_scaler = None\n",
    "        self.num_cols = None\n",
    "        self.cat_cols = None\n",
    "        \n",
    "    def preprocess(self, data_df, train=True, one_hot_encode=False,\n",
    "                   combine_min_cats=False, add_pca_feats=False):\n",
    "        \"\"\" Preprocess train / test as required \"\"\"\n",
    "        \n",
    "        # if training, fit our transformers\n",
    "        if train:\n",
    "            self.train_ids = data_df.loc[:, 'id']\n",
    "            train_cats = data_df.loc[:, data_df.dtypes == object]\n",
    "            self.cat_cols = train_cats.columns\n",
    "            \n",
    "            # if selected, combine minority categorical feats\n",
    "            if combine_min_cats:\n",
    "                self._find_minority_cats(train_cats)\n",
    "                train_cats = self._combine_minority_feats(train_cats)\n",
    "            \n",
    "            # if selected, one hot encode our cat features\n",
    "            if one_hot_encode:\n",
    "                self.encoder = OneHotEncoder(handle_unknown='ignore')\n",
    "                oh_enc = self.encoder.fit_transform(train_cats).toarray()\n",
    "                train_cats_enc = pd.DataFrame(oh_enc, columns=self.encoder.get_feature_names(), \n",
    "                                              dtype=np.int64)\n",
    "                self.final_cat_cols = list(train_cats_enc.columns)\n",
    "            \n",
    "            # otherwise just encode our cat feats with ints\n",
    "            else:\n",
    "                # encode all of our categorical variables\n",
    "                self.encoder = defaultdict(LabelEncoder)\n",
    "                train_cats_enc = train_cats.apply(lambda x: \n",
    "                                                  self.encoder[x.name].fit_transform(x))\n",
    "                self.final_cat_cols = list(self.cat_cols)\n",
    "            \n",
    "            \n",
    "            # standardise all numerical columns\n",
    "            train_num = data_df.loc[:, data_df.dtypes != object].drop(columns=['onMarket', 'id'])\n",
    "            self.num_cols = train_num.columns\n",
    "            self.standard_scaler = StandardScaler()\n",
    "            train_num_std = self.standard_scaler.fit_transform(train_num)\n",
    "            \n",
    "            # add pca reduced num feats if selected, else just combine num + cat feats\n",
    "            if add_pca_feats:\n",
    "                pca_feats = self._return_num_pca(train_num_std)\n",
    "                self.final_num_feats = list(self.num_cols)+list(self.pca_cols)\n",
    "                \n",
    "                \n",
    "                X = pd.DataFrame(np.hstack((train_cats_enc, train_num_std, pca_feats)), \n",
    "                        columns=list(self.final_cat_cols)+list(self.num_cols)+list(self.pca_cols))\n",
    "            else:   \n",
    "                self.final_num_feats = list(self.num_cols)\n",
    "                X = pd.DataFrame(np.hstack((train_cats_enc, train_num_std)), \n",
    "                        columns=list(self.final_cat_cols)+list(self.num_cols))\n",
    "        \n",
    "        # otherwise, treat as test data\n",
    "        else:\n",
    "            # transform categorical and numerical data\n",
    "            # self.test_ids = data_df.loc[:, 'id']\n",
    "            cat_data = data_df.loc[:, self.cat_cols]\n",
    "            if combine_min_cats:\n",
    "                cat_data = self._combine_minority_feats(cat_data)\n",
    "        \n",
    "            if one_hot_encode:\n",
    "                oh_enc = self.encoder.transform(cat_data).toarray()\n",
    "                cats_enc = pd.DataFrame(oh_enc, \n",
    "                                        columns=self.encoder.get_feature_names(), \n",
    "                                        dtype=np.int64)\n",
    "            else:\n",
    "                cats_enc = cat_data.apply(lambda x: self.encoder[x.name].transform(x))\n",
    "                \n",
    "            # transform test numerical data\n",
    "            num_data = data_df.loc[:, self.num_cols]\n",
    "            num_std = self.standard_scaler.transform(num_data)\n",
    "            \n",
    "            if add_pca_feats:\n",
    "                pca_feats = self._return_num_pca(num_std, train=False)\n",
    "                \n",
    "                X = pd.DataFrame(np.hstack((cats_enc, num_std, pca_feats)), \n",
    "                        columns=list(self.final_cat_cols)+list(self.num_cols)+list(self.pca_cols))\n",
    "            \n",
    "            else:\n",
    "                X = pd.DataFrame(np.hstack((cats_enc, num_std)), \n",
    "                        columns=list(self.final_cat_cols)+list(self.num_cols)) \n",
    "        return X\n",
    "    \n",
    "    \n",
    "    def _find_minority_cats(self, data_df, composite_category='z', threshold=0.05):\n",
    "        \"\"\" Find minority categories for each feature column, and create a \n",
    "            dictionary that maps those to selected composite category \"\"\"\n",
    "        self.min_col_dict = {}\n",
    "        self.min_cat_mappings = {}\n",
    "    \n",
    "        # find all feature categories with less than 5% proportion\n",
    "        for feature in self.cat_cols:\n",
    "            self.min_col_dict[feature] = []\n",
    "            self.min_cat_mappings[feature] = {}\n",
    "        \n",
    "            for category, proportion in data_df[feature].value_counts(normalize=True).iteritems():\n",
    "                if proportion < threshold:\n",
    "                    self.min_col_dict[feature].append(category)\n",
    "                \n",
    "                    # map those minority cats to chosen composite feature\n",
    "                    self.min_cat_mappings[feature] = {x : composite_category for x \n",
    "                                                    in self.min_col_dict[feature]}\n",
    "    \n",
    "    \n",
    "    def _combine_minority_feats(self, data_df, replace=False):\n",
    "        \"\"\" Combine minority categories into composite for each cat feature \"\"\"\n",
    "        new_df = data_df.copy()\n",
    "        for feat in self.cat_cols:\n",
    "            col_label = f\"{feat}\" if replace else f\"{feat}_new\"\n",
    "            new_df[feat] = new_df[feat].replace(self.min_cat_mappings[feat])\n",
    "        return new_df\n",
    "    \n",
    "    \n",
    "    def _return_num_pca(self, num_df, n_components=0.85, train=True):\n",
    "        \"\"\" return dim reduced numerical features using PCA \"\"\"\n",
    "        if train:\n",
    "            self.pca = PCA(n_components=n_components)\n",
    "            num_rd = self.pca.fit_transform(num_df)\n",
    "            \n",
    "            # create new col names for our reduced features\n",
    "            self.pca_cols = [f\"pca_{x}\" for x in range(num_rd.shape[1])]\n",
    "            \n",
    "        else:\n",
    "            num_rd = self.pca.transform(num_df)\n",
    "        \n",
    "        return pd.DataFrame(num_rd, columns=self.pca_cols)"
   ]
  },
  {
   "cell_type": "code",
   "execution_count": 45,
   "metadata": {},
   "outputs": [
    {
     "ename": "KeyError",
     "evalue": "'id'",
     "output_type": "error",
     "traceback": [
      "\u001b[0;31m---------------------------------------------------------------------------\u001b[0m",
      "\u001b[0;31mKeyError\u001b[0m                                  Traceback (most recent call last)",
      "File \u001b[0;32m~/.local/lib/python3.10/site-packages/pandas/core/indexes/base.py:3621\u001b[0m, in \u001b[0;36mIndex.get_loc\u001b[0;34m(self, key, method, tolerance)\u001b[0m\n\u001b[1;32m   3620\u001b[0m \u001b[39mtry\u001b[39;00m:\n\u001b[0;32m-> 3621\u001b[0m     \u001b[39mreturn\u001b[39;00m \u001b[39mself\u001b[39;49m\u001b[39m.\u001b[39;49m_engine\u001b[39m.\u001b[39;49mget_loc(casted_key)\n\u001b[1;32m   3622\u001b[0m \u001b[39mexcept\u001b[39;00m \u001b[39mKeyError\u001b[39;00m \u001b[39mas\u001b[39;00m err:\n",
      "File \u001b[0;32m~/.local/lib/python3.10/site-packages/pandas/_libs/index.pyx:136\u001b[0m, in \u001b[0;36mpandas._libs.index.IndexEngine.get_loc\u001b[0;34m()\u001b[0m\n",
      "File \u001b[0;32m~/.local/lib/python3.10/site-packages/pandas/_libs/index.pyx:163\u001b[0m, in \u001b[0;36mpandas._libs.index.IndexEngine.get_loc\u001b[0;34m()\u001b[0m\n",
      "File \u001b[0;32mpandas/_libs/hashtable_class_helper.pxi:5198\u001b[0m, in \u001b[0;36mpandas._libs.hashtable.PyObjectHashTable.get_item\u001b[0;34m()\u001b[0m\n",
      "File \u001b[0;32mpandas/_libs/hashtable_class_helper.pxi:5206\u001b[0m, in \u001b[0;36mpandas._libs.hashtable.PyObjectHashTable.get_item\u001b[0;34m()\u001b[0m\n",
      "\u001b[0;31mKeyError\u001b[0m: 'id'",
      "\nThe above exception was the direct cause of the following exception:\n",
      "\u001b[0;31mKeyError\u001b[0m                                  Traceback (most recent call last)",
      "\u001b[1;32m/workspaces/aqar1/src/regression.ipynb Cell 35\u001b[0m in \u001b[0;36m<cell line: 5>\u001b[0;34m()\u001b[0m\n\u001b[1;32m      <a href='vscode-notebook-cell://dev-container%2B7b227265706f7369746f727950617468223a2268747470733a2f2f6769746875622e636f6d2f416264756c6d616c696b2d72656264692f6171617231222c22766f6c756d654e616d65223a225f5f554e495155455f5f222c22666f6c646572223a226171617231222c22636c6f6e65496e666f223a7b2275726c546f436c6f6e65223a2268747470733a2f2f6769746875622e636f6d2f416264756c6d616c696b2d72656264692f6171617231227d2c22696e7370656374566f6c756d65223a66616c73657d/workspaces/aqar1/src/regression.ipynb#ch0000034vscode-remote?line=1'>2</a>\u001b[0m ONE_HOT_ENCODE \u001b[39m=\u001b[39m \u001b[39mTrue\u001b[39;00m\n\u001b[1;32m      <a href='vscode-notebook-cell://dev-container%2B7b227265706f7369746f727950617468223a2268747470733a2f2f6769746875622e636f6d2f416264756c6d616c696b2d72656264692f6171617231222c22766f6c756d654e616d65223a225f5f554e495155455f5f222c22666f6c646572223a226171617231222c22636c6f6e65496e666f223a7b2275726c546f436c6f6e65223a2268747470733a2f2f6769746875622e636f6d2f416264756c6d616c696b2d72656264692f6171617231227d2c22696e7370656374566f6c756d65223a66616c73657d/workspaces/aqar1/src/regression.ipynb#ch0000034vscode-remote?line=3'>4</a>\u001b[0m data_proc \u001b[39m=\u001b[39m DataProcessor()\n\u001b[0;32m----> <a href='vscode-notebook-cell://dev-container%2B7b227265706f7369746f727950617468223a2268747470733a2f2f6769746875622e636f6d2f416264756c6d616c696b2d72656264692f6171617231222c22766f6c756d654e616d65223a225f5f554e495155455f5f222c22666f6c646572223a226171617231222c22636c6f6e65496e666f223a7b2275726c546f436c6f6e65223a2268747470733a2f2f6769746875622e636f6d2f416264756c6d616c696b2d72656264692f6171617231227d2c22696e7370656374566f6c756d65223a66616c73657d/workspaces/aqar1/src/regression.ipynb#ch0000034vscode-remote?line=4'>5</a>\u001b[0m X \u001b[39m=\u001b[39m data_proc\u001b[39m.\u001b[39;49mpreprocess(train_df, add_pca_feats\u001b[39m=\u001b[39;49mPCA_FEATS, one_hot_encode\u001b[39m=\u001b[39;49mONE_HOT_ENCODE)\n\u001b[1;32m      <a href='vscode-notebook-cell://dev-container%2B7b227265706f7369746f727950617468223a2268747470733a2f2f6769746875622e636f6d2f416264756c6d616c696b2d72656264692f6171617231222c22766f6c756d654e616d65223a225f5f554e495155455f5f222c22666f6c646572223a226171617231222c22636c6f6e65496e666f223a7b2275726c546f436c6f6e65223a2268747470733a2f2f6769746875622e636f6d2f416264756c6d616c696b2d72656264692f6171617231227d2c22696e7370656374566f6c756d65223a66616c73657d/workspaces/aqar1/src/regression.ipynb#ch0000034vscode-remote?line=5'>6</a>\u001b[0m y \u001b[39m=\u001b[39m train_df\u001b[39m.\u001b[39mloc[:, \u001b[39m'\u001b[39m\u001b[39monMarket\u001b[39m\u001b[39m'\u001b[39m]\n\u001b[1;32m      <a href='vscode-notebook-cell://dev-container%2B7b227265706f7369746f727950617468223a2268747470733a2f2f6769746875622e636f6d2f416264756c6d616c696b2d72656264692f6171617231222c22766f6c756d654e616d65223a225f5f554e495155455f5f222c22666f6c646572223a226171617231222c22636c6f6e65496e666f223a7b2275726c546f436c6f6e65223a2268747470733a2f2f6769746875622e636f6d2f416264756c6d616c696b2d72656264692f6171617231227d2c22696e7370656374566f6c756d65223a66616c73657d/workspaces/aqar1/src/regression.ipynb#ch0000034vscode-remote?line=6'>7</a>\u001b[0m X_test \u001b[39m=\u001b[39m data_proc\u001b[39m.\u001b[39mpreprocess(test_df, train\u001b[39m=\u001b[39m\u001b[39mFalse\u001b[39;00m, add_pca_feats\u001b[39m=\u001b[39mPCA_FEATS, one_hot_encode\u001b[39m=\u001b[39mONE_HOT_ENCODE)\n",
      "\u001b[1;32m/workspaces/aqar1/src/regression.ipynb Cell 35\u001b[0m in \u001b[0;36mDataProcessor.preprocess\u001b[0;34m(self, data_df, train, one_hot_encode, combine_min_cats, add_pca_feats)\u001b[0m\n\u001b[1;32m     <a href='vscode-notebook-cell://dev-container%2B7b227265706f7369746f727950617468223a2268747470733a2f2f6769746875622e636f6d2f416264756c6d616c696b2d72656264692f6171617231222c22766f6c756d654e616d65223a225f5f554e495155455f5f222c22666f6c646572223a226171617231222c22636c6f6e65496e666f223a7b2275726c546f436c6f6e65223a2268747470733a2f2f6769746875622e636f6d2f416264756c6d616c696b2d72656264692f6171617231227d2c22696e7370656374566f6c756d65223a66616c73657d/workspaces/aqar1/src/regression.ipynb#ch0000034vscode-remote?line=11'>12</a>\u001b[0m \u001b[39m# if training, fit our transformers\u001b[39;00m\n\u001b[1;32m     <a href='vscode-notebook-cell://dev-container%2B7b227265706f7369746f727950617468223a2268747470733a2f2f6769746875622e636f6d2f416264756c6d616c696b2d72656264692f6171617231222c22766f6c756d654e616d65223a225f5f554e495155455f5f222c22666f6c646572223a226171617231222c22636c6f6e65496e666f223a7b2275726c546f436c6f6e65223a2268747470733a2f2f6769746875622e636f6d2f416264756c6d616c696b2d72656264692f6171617231227d2c22696e7370656374566f6c756d65223a66616c73657d/workspaces/aqar1/src/regression.ipynb#ch0000034vscode-remote?line=12'>13</a>\u001b[0m \u001b[39mif\u001b[39;00m train:\n\u001b[0;32m---> <a href='vscode-notebook-cell://dev-container%2B7b227265706f7369746f727950617468223a2268747470733a2f2f6769746875622e636f6d2f416264756c6d616c696b2d72656264692f6171617231222c22766f6c756d654e616d65223a225f5f554e495155455f5f222c22666f6c646572223a226171617231222c22636c6f6e65496e666f223a7b2275726c546f436c6f6e65223a2268747470733a2f2f6769746875622e636f6d2f416264756c6d616c696b2d72656264692f6171617231227d2c22696e7370656374566f6c756d65223a66616c73657d/workspaces/aqar1/src/regression.ipynb#ch0000034vscode-remote?line=13'>14</a>\u001b[0m     \u001b[39mself\u001b[39m\u001b[39m.\u001b[39mtrain_ids \u001b[39m=\u001b[39m data_df\u001b[39m.\u001b[39;49mloc[:, \u001b[39m'\u001b[39;49m\u001b[39mid\u001b[39;49m\u001b[39m'\u001b[39;49m]\n\u001b[1;32m     <a href='vscode-notebook-cell://dev-container%2B7b227265706f7369746f727950617468223a2268747470733a2f2f6769746875622e636f6d2f416264756c6d616c696b2d72656264692f6171617231222c22766f6c756d654e616d65223a225f5f554e495155455f5f222c22666f6c646572223a226171617231222c22636c6f6e65496e666f223a7b2275726c546f436c6f6e65223a2268747470733a2f2f6769746875622e636f6d2f416264756c6d616c696b2d72656264692f6171617231227d2c22696e7370656374566f6c756d65223a66616c73657d/workspaces/aqar1/src/regression.ipynb#ch0000034vscode-remote?line=14'>15</a>\u001b[0m     train_cats \u001b[39m=\u001b[39m data_df\u001b[39m.\u001b[39mloc[:, data_df\u001b[39m.\u001b[39mdtypes \u001b[39m==\u001b[39m \u001b[39mobject\u001b[39m]\n\u001b[1;32m     <a href='vscode-notebook-cell://dev-container%2B7b227265706f7369746f727950617468223a2268747470733a2f2f6769746875622e636f6d2f416264756c6d616c696b2d72656264692f6171617231222c22766f6c756d654e616d65223a225f5f554e495155455f5f222c22666f6c646572223a226171617231222c22636c6f6e65496e666f223a7b2275726c546f436c6f6e65223a2268747470733a2f2f6769746875622e636f6d2f416264756c6d616c696b2d72656264692f6171617231227d2c22696e7370656374566f6c756d65223a66616c73657d/workspaces/aqar1/src/regression.ipynb#ch0000034vscode-remote?line=15'>16</a>\u001b[0m     \u001b[39mself\u001b[39m\u001b[39m.\u001b[39mcat_cols \u001b[39m=\u001b[39m train_cats\u001b[39m.\u001b[39mcolumns\n",
      "File \u001b[0;32m~/.local/lib/python3.10/site-packages/pandas/core/indexing.py:961\u001b[0m, in \u001b[0;36m_LocationIndexer.__getitem__\u001b[0;34m(self, key)\u001b[0m\n\u001b[1;32m    959\u001b[0m     \u001b[39mif\u001b[39;00m \u001b[39mself\u001b[39m\u001b[39m.\u001b[39m_is_scalar_access(key):\n\u001b[1;32m    960\u001b[0m         \u001b[39mreturn\u001b[39;00m \u001b[39mself\u001b[39m\u001b[39m.\u001b[39mobj\u001b[39m.\u001b[39m_get_value(\u001b[39m*\u001b[39mkey, takeable\u001b[39m=\u001b[39m\u001b[39mself\u001b[39m\u001b[39m.\u001b[39m_takeable)\n\u001b[0;32m--> 961\u001b[0m     \u001b[39mreturn\u001b[39;00m \u001b[39mself\u001b[39;49m\u001b[39m.\u001b[39;49m_getitem_tuple(key)\n\u001b[1;32m    962\u001b[0m \u001b[39melse\u001b[39;00m:\n\u001b[1;32m    963\u001b[0m     \u001b[39m# we by definition only have the 0th axis\u001b[39;00m\n\u001b[1;32m    964\u001b[0m     axis \u001b[39m=\u001b[39m \u001b[39mself\u001b[39m\u001b[39m.\u001b[39maxis \u001b[39mor\u001b[39;00m \u001b[39m0\u001b[39m\n",
      "File \u001b[0;32m~/.local/lib/python3.10/site-packages/pandas/core/indexing.py:1140\u001b[0m, in \u001b[0;36m_LocIndexer._getitem_tuple\u001b[0;34m(self, tup)\u001b[0m\n\u001b[1;32m   1138\u001b[0m \u001b[39mwith\u001b[39;00m suppress(IndexingError):\n\u001b[1;32m   1139\u001b[0m     tup \u001b[39m=\u001b[39m \u001b[39mself\u001b[39m\u001b[39m.\u001b[39m_expand_ellipsis(tup)\n\u001b[0;32m-> 1140\u001b[0m     \u001b[39mreturn\u001b[39;00m \u001b[39mself\u001b[39;49m\u001b[39m.\u001b[39;49m_getitem_lowerdim(tup)\n\u001b[1;32m   1142\u001b[0m \u001b[39m# no multi-index, so validate all of the indexers\u001b[39;00m\n\u001b[1;32m   1143\u001b[0m tup \u001b[39m=\u001b[39m \u001b[39mself\u001b[39m\u001b[39m.\u001b[39m_validate_tuple_indexer(tup)\n",
      "File \u001b[0;32m~/.local/lib/python3.10/site-packages/pandas/core/indexing.py:867\u001b[0m, in \u001b[0;36m_LocationIndexer._getitem_lowerdim\u001b[0;34m(self, tup)\u001b[0m\n\u001b[1;32m    863\u001b[0m \u001b[39mfor\u001b[39;00m i, key \u001b[39min\u001b[39;00m \u001b[39menumerate\u001b[39m(tup):\n\u001b[1;32m    864\u001b[0m     \u001b[39mif\u001b[39;00m is_label_like(key):\n\u001b[1;32m    865\u001b[0m         \u001b[39m# We don't need to check for tuples here because those are\u001b[39;00m\n\u001b[1;32m    866\u001b[0m         \u001b[39m#  caught by the _is_nested_tuple_indexer check above.\u001b[39;00m\n\u001b[0;32m--> 867\u001b[0m         section \u001b[39m=\u001b[39m \u001b[39mself\u001b[39;49m\u001b[39m.\u001b[39;49m_getitem_axis(key, axis\u001b[39m=\u001b[39;49mi)\n\u001b[1;32m    869\u001b[0m         \u001b[39m# We should never have a scalar section here, because\u001b[39;00m\n\u001b[1;32m    870\u001b[0m         \u001b[39m#  _getitem_lowerdim is only called after a check for\u001b[39;00m\n\u001b[1;32m    871\u001b[0m         \u001b[39m#  is_scalar_access, which that would be.\u001b[39;00m\n\u001b[1;32m    872\u001b[0m         \u001b[39mif\u001b[39;00m section\u001b[39m.\u001b[39mndim \u001b[39m==\u001b[39m \u001b[39mself\u001b[39m\u001b[39m.\u001b[39mndim:\n\u001b[1;32m    873\u001b[0m             \u001b[39m# we're in the middle of slicing through a MultiIndex\u001b[39;00m\n\u001b[1;32m    874\u001b[0m             \u001b[39m# revise the key wrt to `section` by inserting an _NS\u001b[39;00m\n",
      "File \u001b[0;32m~/.local/lib/python3.10/site-packages/pandas/core/indexing.py:1202\u001b[0m, in \u001b[0;36m_LocIndexer._getitem_axis\u001b[0;34m(self, key, axis)\u001b[0m\n\u001b[1;32m   1200\u001b[0m \u001b[39m# fall thru to straight lookup\u001b[39;00m\n\u001b[1;32m   1201\u001b[0m \u001b[39mself\u001b[39m\u001b[39m.\u001b[39m_validate_key(key, axis)\n\u001b[0;32m-> 1202\u001b[0m \u001b[39mreturn\u001b[39;00m \u001b[39mself\u001b[39;49m\u001b[39m.\u001b[39;49m_get_label(key, axis\u001b[39m=\u001b[39;49maxis)\n",
      "File \u001b[0;32m~/.local/lib/python3.10/site-packages/pandas/core/indexing.py:1153\u001b[0m, in \u001b[0;36m_LocIndexer._get_label\u001b[0;34m(self, label, axis)\u001b[0m\n\u001b[1;32m   1151\u001b[0m \u001b[39mdef\u001b[39;00m \u001b[39m_get_label\u001b[39m(\u001b[39mself\u001b[39m, label, axis: \u001b[39mint\u001b[39m):\n\u001b[1;32m   1152\u001b[0m     \u001b[39m# GH#5667 this will fail if the label is not present in the axis.\u001b[39;00m\n\u001b[0;32m-> 1153\u001b[0m     \u001b[39mreturn\u001b[39;00m \u001b[39mself\u001b[39;49m\u001b[39m.\u001b[39;49mobj\u001b[39m.\u001b[39;49mxs(label, axis\u001b[39m=\u001b[39;49maxis)\n",
      "File \u001b[0;32m~/.local/lib/python3.10/site-packages/pandas/core/generic.py:3849\u001b[0m, in \u001b[0;36mNDFrame.xs\u001b[0;34m(self, key, axis, level, drop_level)\u001b[0m\n\u001b[1;32m   3847\u001b[0m \u001b[39mif\u001b[39;00m axis \u001b[39m==\u001b[39m \u001b[39m1\u001b[39m:\n\u001b[1;32m   3848\u001b[0m     \u001b[39mif\u001b[39;00m drop_level:\n\u001b[0;32m-> 3849\u001b[0m         \u001b[39mreturn\u001b[39;00m \u001b[39mself\u001b[39;49m[key]\n\u001b[1;32m   3850\u001b[0m     index \u001b[39m=\u001b[39m \u001b[39mself\u001b[39m\u001b[39m.\u001b[39mcolumns\n\u001b[1;32m   3851\u001b[0m \u001b[39melse\u001b[39;00m:\n",
      "File \u001b[0;32m~/.local/lib/python3.10/site-packages/pandas/core/frame.py:3505\u001b[0m, in \u001b[0;36mDataFrame.__getitem__\u001b[0;34m(self, key)\u001b[0m\n\u001b[1;32m   3503\u001b[0m \u001b[39mif\u001b[39;00m \u001b[39mself\u001b[39m\u001b[39m.\u001b[39mcolumns\u001b[39m.\u001b[39mnlevels \u001b[39m>\u001b[39m \u001b[39m1\u001b[39m:\n\u001b[1;32m   3504\u001b[0m     \u001b[39mreturn\u001b[39;00m \u001b[39mself\u001b[39m\u001b[39m.\u001b[39m_getitem_multilevel(key)\n\u001b[0;32m-> 3505\u001b[0m indexer \u001b[39m=\u001b[39m \u001b[39mself\u001b[39;49m\u001b[39m.\u001b[39;49mcolumns\u001b[39m.\u001b[39;49mget_loc(key)\n\u001b[1;32m   3506\u001b[0m \u001b[39mif\u001b[39;00m is_integer(indexer):\n\u001b[1;32m   3507\u001b[0m     indexer \u001b[39m=\u001b[39m [indexer]\n",
      "File \u001b[0;32m~/.local/lib/python3.10/site-packages/pandas/core/indexes/base.py:3623\u001b[0m, in \u001b[0;36mIndex.get_loc\u001b[0;34m(self, key, method, tolerance)\u001b[0m\n\u001b[1;32m   3621\u001b[0m     \u001b[39mreturn\u001b[39;00m \u001b[39mself\u001b[39m\u001b[39m.\u001b[39m_engine\u001b[39m.\u001b[39mget_loc(casted_key)\n\u001b[1;32m   3622\u001b[0m \u001b[39mexcept\u001b[39;00m \u001b[39mKeyError\u001b[39;00m \u001b[39mas\u001b[39;00m err:\n\u001b[0;32m-> 3623\u001b[0m     \u001b[39mraise\u001b[39;00m \u001b[39mKeyError\u001b[39;00m(key) \u001b[39mfrom\u001b[39;00m \u001b[39merr\u001b[39;00m\n\u001b[1;32m   3624\u001b[0m \u001b[39mexcept\u001b[39;00m \u001b[39mTypeError\u001b[39;00m:\n\u001b[1;32m   3625\u001b[0m     \u001b[39m# If we have a listlike key, _check_indexing_error will raise\u001b[39;00m\n\u001b[1;32m   3626\u001b[0m     \u001b[39m#  InvalidIndexError. Otherwise we fall through and re-raise\u001b[39;00m\n\u001b[1;32m   3627\u001b[0m     \u001b[39m#  the TypeError.\u001b[39;00m\n\u001b[1;32m   3628\u001b[0m     \u001b[39mself\u001b[39m\u001b[39m.\u001b[39m_check_indexing_error(key)\n",
      "\u001b[0;31mKeyError\u001b[0m: 'id'"
     ]
    }
   ],
   "source": [
    "PCA_FEATS = True\n",
    "ONE_HOT_ENCODE = True\n",
    "\n",
    "data_proc = DataProcessor()\n",
    "X = data_proc.preprocess(train_df, add_pca_feats=PCA_FEATS, one_hot_encode=ONE_HOT_ENCODE)\n",
    "y = train_df.loc[:, 'onMarket']\n",
    "X_test = data_proc.preprocess(test_df, train=False, add_pca_feats=PCA_FEATS, one_hot_encode=ONE_HOT_ENCODE)\n",
    "\n",
    "print(f\"X: {X.shape} \\ny: {y.shape} \\nX_test: {X_test.shape}\")"
   ]
  },
  {
   "cell_type": "code",
   "execution_count": null,
   "metadata": {},
   "outputs": [],
   "source": [
    "# convert all of our categorical columns to ints before using GBMs\n",
    "cat_feat_dtype_dict = { x : \"int\" for x in data_proc.final_cat_cols}\n",
    "X = X.astype(cat_feat_dtype_dict)\n"
   ]
  },
  {
   "cell_type": "code",
   "execution_count": null,
   "metadata": {},
   "outputs": [
    {
     "name": "stdout",
     "output_type": "stream",
     "text": [
      "X_train: (1674, 878) \n",
      "y_train: (1674,) \n",
      "X_val: (419, 878), \n",
      "y_val: (419,)\n"
     ]
    }
   ],
   "source": [
    "X_train, X_val, y_train, y_val = train_test_split(X, y, test_size=0.2, random_state=13)\n",
    "print(f\"X_train: {X_train.shape} \\ny_train: {y_train.shape} \\nX_val: {X_val.shape}, \\ny_val: {y_val.shape}\")"
   ]
  },
  {
   "cell_type": "code",
   "execution_count": null,
   "metadata": {},
   "outputs": [
    {
     "data": {
      "text/plain": [
       "((105, 878), (105,))"
      ]
     },
     "execution_count": 96,
     "metadata": {},
     "output_type": "execute_result"
    }
   ],
   "source": [
    "_, X_sub, _, y_sub = train_test_split(X, y, test_size=0.05)\n",
    "X_sub.shape, y_sub.shape"
   ]
  },
  {
   "cell_type": "code",
   "execution_count": null,
   "metadata": {},
   "outputs": [
    {
     "data": {
      "text/plain": [
       "((84, 878), (21, 878), (84,), (21,))"
      ]
     },
     "execution_count": 97,
     "metadata": {},
     "output_type": "execute_result"
    }
   ],
   "source": [
    "X_train_sub, X_val_sub, y_train_sub, y_val_sub = train_test_split(X_sub, y_sub, test_size=0.2)\n",
    "X_train_sub.shape, X_val_sub.shape, y_train_sub.shape, y_val_sub.shape"
   ]
  },
  {
   "cell_type": "code",
   "execution_count": null,
   "metadata": {},
   "outputs": [],
   "source": [
    "cb_reg_1 = CatBoostRegressor( random_seed=13, verbose=200)"
   ]
  },
  {
   "cell_type": "code",
   "execution_count": null,
   "metadata": {},
   "outputs": [
    {
     "name": "stdout",
     "output_type": "stream",
     "text": [
      "Learning rate set to 0.044415\n",
      "0:\tlearn: 17.6011827\ttotal: 2.35ms\tremaining: 2.34s\n",
      "200:\tlearn: 13.9359054\ttotal: 361ms\tremaining: 1.43s\n",
      "400:\tlearn: 12.0706944\ttotal: 699ms\tremaining: 1.04s\n",
      "600:\tlearn: 10.7133670\ttotal: 1.03s\tremaining: 686ms\n",
      "800:\tlearn: 9.5826463\ttotal: 1.37s\tremaining: 340ms\n",
      "999:\tlearn: 8.6733240\ttotal: 1.7s\tremaining: 0us\n"
     ]
    }
   ],
   "source": [
    "cb_reg_1.fit(X_train, y_train)\n",
    "cb_preds = cb_reg_1.predict(X_val)"
   ]
  },
  {
   "cell_type": "code",
   "execution_count": null,
   "metadata": {},
   "outputs": [
    {
     "name": "stdout",
     "output_type": "stream",
     "text": [
      "Learning rate set to 0.035685\n",
      "0:\tlearn: 18.0248905\ttotal: 704us\tremaining: 704ms\n",
      "200:\tlearn: 11.8687226\ttotal: 175ms\tremaining: 695ms\n",
      "400:\tlearn: 8.5346413\ttotal: 356ms\tremaining: 531ms\n",
      "600:\tlearn: 5.7916887\ttotal: 500ms\tremaining: 332ms\n",
      "800:\tlearn: 4.1268006\ttotal: 654ms\tremaining: 163ms\n",
      "999:\tlearn: 3.0691701\ttotal: 792ms\tremaining: 0us\n",
      "Learning rate set to 0.035685\n",
      "0:\tlearn: 17.2113784\ttotal: 22.9ms\tremaining: 22.9s\n",
      "200:\tlearn: 11.0072453\ttotal: 181ms\tremaining: 718ms\n",
      "400:\tlearn: 7.9981038\ttotal: 340ms\tremaining: 508ms\n",
      "600:\tlearn: 5.7036957\ttotal: 486ms\tremaining: 323ms\n",
      "800:\tlearn: 4.1838851\ttotal: 634ms\tremaining: 158ms\n",
      "999:\tlearn: 3.1034274\ttotal: 776ms\tremaining: 0us\n",
      "Learning rate set to 0.035685\n",
      "0:\tlearn: 17.8973974\ttotal: 1.02ms\tremaining: 1.02s\n",
      "200:\tlearn: 11.7134874\ttotal: 173ms\tremaining: 687ms\n",
      "400:\tlearn: 8.0154321\ttotal: 329ms\tremaining: 492ms\n",
      "600:\tlearn: 5.6028282\ttotal: 493ms\tremaining: 327ms\n",
      "800:\tlearn: 4.1848307\ttotal: 652ms\tremaining: 162ms\n",
      "999:\tlearn: 3.1070088\ttotal: 822ms\tremaining: 0us\n",
      "Learning rate set to 0.035685\n",
      "0:\tlearn: 17.1160360\ttotal: 751us\tremaining: 751ms\n",
      "200:\tlearn: 10.9068740\ttotal: 157ms\tremaining: 623ms\n",
      "400:\tlearn: 7.9353844\ttotal: 305ms\tremaining: 456ms\n",
      "600:\tlearn: 5.9241942\ttotal: 445ms\tremaining: 296ms\n",
      "800:\tlearn: 4.4527083\ttotal: 602ms\tremaining: 150ms\n",
      "999:\tlearn: 3.3324875\ttotal: 750ms\tremaining: 0us\n",
      "Learning rate set to 0.035699\n",
      "0:\tlearn: 17.4377731\ttotal: 755us\tremaining: 755ms\n",
      "200:\tlearn: 11.3764624\ttotal: 151ms\tremaining: 601ms\n",
      "400:\tlearn: 7.9432810\ttotal: 308ms\tremaining: 461ms\n",
      "600:\tlearn: 5.6631311\ttotal: 470ms\tremaining: 312ms\n",
      "800:\tlearn: 4.1319683\ttotal: 615ms\tremaining: 153ms\n",
      "999:\tlearn: 2.9614134\ttotal: 768ms\tremaining: 0us\n"
     ]
    },
    {
     "data": {
      "text/plain": [
       "(15.400686251209779, 16.59972748391611)"
      ]
     },
     "execution_count": 102,
     "metadata": {},
     "output_type": "execute_result"
    }
   ],
   "source": [
    "cb_preds = cb_reg_1.predict(X_val)\n",
    "results = cross_val_score(cb_reg_1, X_test, y_test.values.ravel(), cv=k, scoring=loss)\n",
    "\n",
    "# calculate mean squared error on val sub-set preds\n",
    "np.sqrt(mean_squared_error(cb_preds, y_val)) , np.abs(np.mean(results))"
   ]
  },
  {
   "cell_type": "code",
   "execution_count": null,
   "metadata": {},
   "outputs": [],
   "source": [
    "params = {'loss_function':'RMSE', 'verbose': 200, 'random_seed': 13}\n",
    "\n",
    "X_pool = Pool(data=X, label=y, cat_features=data_proc.final_cat_cols)"
   ]
  },
  {
   "cell_type": "code",
   "execution_count": null,
   "metadata": {},
   "outputs": [],
   "source": [
    "catboost_hyperparams = { 'learning_rate': hp.choice('learning_rate', np.arange(0.05, 0.31, 0.05)),\n",
    "                         'max_depth': hp.choice('max_depth', np.arange(5, 16, 1, dtype=int)),\n",
    "                         'colsample_bylevel': hp.choice('colsample_bylevel', np.arange(0.3, 0.8, 0.1)),\n",
    "                         'n_estimators': 100, 'eval_metric': 'RMSE'}\n",
    "\n",
    "catbooast_fit_params = { 'early_stopping_rounds': 10, 'verbose': False }\n",
    "\n",
    "catboost_params = dict()\n",
    "catboost_params['reg_params'] = catboost_hyperparams\n",
    "catboost_params['fit_params'] = catbooast_fit_params\n",
    "catboost_params['loss_func' ] = lambda y, pred: np.sqrt(mean_squared_error(y, pred))"
   ]
  },
  {
   "cell_type": "code",
   "execution_count": null,
   "metadata": {},
   "outputs": [],
   "source": [
    "class HPOptimiser(object):\n",
    "    \"\"\" Class to optimiser hyper-parameters using hyperopt on a given\n",
    "        set of training and validation inputs and labels \"\"\"\n",
    "\n",
    "    def __init__(self, X_train, X_val, y_train, y_val):\n",
    "        self.X_train = X_train\n",
    "        self.X_val  = X_val\n",
    "        self.y_train = y_train\n",
    "        self.y_val  = y_val\n",
    "\n",
    "    def process(self, fn_name, space, trials, algo, max_evals):\n",
    "        fn = getattr(self, fn_name)\n",
    "        try:\n",
    "            result = fmin(fn=fn, space=space, algo=algo, max_evals=max_evals, trials=trials)\n",
    "        except Exception as e:\n",
    "            return {'status': STATUS_FAIL,\n",
    "                    'exception': str(e)}\n",
    "        return result, trials\n",
    "\n",
    "    def catboost_reg(self, para):\n",
    "        reg = CatBoostRegressor(**para['reg_params'])\n",
    "        return self.train_reg(reg, para)\n",
    "\n",
    "    def train_reg(self, reg, params):\n",
    "        reg.fit(self.X_train, self.y_train,\n",
    "                eval_set=[(self.X_train, self.y_train), (self.X_val, self.y_val)],\n",
    "                **params['fit_params'])\n",
    "        pred = reg.predict(self.X_val)\n",
    "        loss = params['loss_func'](self.y_val, pred)\n",
    "        return {'loss': loss, 'status': STATUS_OK}"
   ]
  },
  {
   "cell_type": "code",
   "execution_count": null,
   "metadata": {},
   "outputs": [
    {
     "name": "stdout",
     "output_type": "stream",
     "text": [
      " 76%|███████▌  | 76/100 [00:11<00:03,  6.77trial/s, best loss: 16.910289096763623]\n"
     ]
    },
    {
     "ename": "KeyboardInterrupt",
     "evalue": "",
     "output_type": "error",
     "traceback": [
      "\u001b[0;31m---------------------------------------------------------------------------\u001b[0m",
      "\u001b[0;31mKeyboardInterrupt\u001b[0m                         Traceback (most recent call last)",
      "\u001b[1;32m/workspaces/aqar1/src/regression.ipynb Cell 47\u001b[0m in \u001b[0;36m<cell line: 3>\u001b[0;34m()\u001b[0m\n\u001b[1;32m      <a href='vscode-notebook-cell://dev-container%2B7b227265706f7369746f727950617468223a2268747470733a2f2f6769746875622e636f6d2f416264756c6d616c696b2d72656264692f6171617231222c22766f6c756d654e616d65223a225f5f554e495155455f5f222c22666f6c646572223a226171617231222c22636c6f6e65496e666f223a7b2275726c546f436c6f6e65223a2268747470733a2f2f6769746875622e636f6d2f416264756c6d616c696b2d72656264692f6171617231227d2c22696e7370656374566f6c756d65223a66616c73657d/workspaces/aqar1/src/regression.ipynb#ch0000055vscode-remote?line=0'>1</a>\u001b[0m obj \u001b[39m=\u001b[39m HPOptimiser(X_train_sub, X_val_sub, y_train_sub, y_val_sub)\n\u001b[0;32m----> <a href='vscode-notebook-cell://dev-container%2B7b227265706f7369746f727950617468223a2268747470733a2f2f6769746875622e636f6d2f416264756c6d616c696b2d72656264692f6171617231222c22766f6c756d654e616d65223a225f5f554e495155455f5f222c22666f6c646572223a226171617231222c22636c6f6e65496e666f223a7b2275726c546f436c6f6e65223a2268747470733a2f2f6769746875622e636f6d2f416264756c6d616c696b2d72656264692f6171617231227d2c22696e7370656374566f6c756d65223a66616c73657d/workspaces/aqar1/src/regression.ipynb#ch0000055vscode-remote?line=2'>3</a>\u001b[0m catboost_opt \u001b[39m=\u001b[39m obj\u001b[39m.\u001b[39;49mprocess(fn_name\u001b[39m=\u001b[39;49m\u001b[39m'\u001b[39;49m\u001b[39mcatboost_reg\u001b[39;49m\u001b[39m'\u001b[39;49m, space\u001b[39m=\u001b[39;49mcatboost_params, \n\u001b[1;32m      <a href='vscode-notebook-cell://dev-container%2B7b227265706f7369746f727950617468223a2268747470733a2f2f6769746875622e636f6d2f416264756c6d616c696b2d72656264692f6171617231222c22766f6c756d654e616d65223a225f5f554e495155455f5f222c22666f6c646572223a226171617231222c22636c6f6e65496e666f223a7b2275726c546f436c6f6e65223a2268747470733a2f2f6769746875622e636f6d2f416264756c6d616c696b2d72656264692f6171617231227d2c22696e7370656374566f6c756d65223a66616c73657d/workspaces/aqar1/src/regression.ipynb#ch0000055vscode-remote?line=3'>4</a>\u001b[0m                           trials\u001b[39m=\u001b[39;49mTrials(), algo\u001b[39m=\u001b[39;49mtpe\u001b[39m.\u001b[39;49msuggest, max_evals\u001b[39m=\u001b[39;49m\u001b[39m100\u001b[39;49m)\n\u001b[1;32m      <a href='vscode-notebook-cell://dev-container%2B7b227265706f7369746f727950617468223a2268747470733a2f2f6769746875622e636f6d2f416264756c6d616c696b2d72656264692f6171617231222c22766f6c756d654e616d65223a225f5f554e495155455f5f222c22666f6c646572223a226171617231222c22636c6f6e65496e666f223a7b2275726c546f436c6f6e65223a2268747470733a2f2f6769746875622e636f6d2f416264756c6d616c696b2d72656264692f6171617231227d2c22696e7370656374566f6c756d65223a66616c73657d/workspaces/aqar1/src/regression.ipynb#ch0000055vscode-remote?line=4'>5</a>\u001b[0m \u001b[39mprint\u001b[39m(\u001b[39m\"\u001b[39m\u001b[39m----------------\u001b[39m\u001b[39m\\n\u001b[39;00m\u001b[39m\"\u001b[39m,catboost_opt)\n",
      "\u001b[1;32m/workspaces/aqar1/src/regression.ipynb Cell 47\u001b[0m in \u001b[0;36mHPOptimiser.process\u001b[0;34m(self, fn_name, space, trials, algo, max_evals)\u001b[0m\n\u001b[1;32m     <a href='vscode-notebook-cell://dev-container%2B7b227265706f7369746f727950617468223a2268747470733a2f2f6769746875622e636f6d2f416264756c6d616c696b2d72656264692f6171617231222c22766f6c756d654e616d65223a225f5f554e495155455f5f222c22666f6c646572223a226171617231222c22636c6f6e65496e666f223a7b2275726c546f436c6f6e65223a2268747470733a2f2f6769746875622e636f6d2f416264756c6d616c696b2d72656264692f6171617231227d2c22696e7370656374566f6c756d65223a66616c73657d/workspaces/aqar1/src/regression.ipynb#ch0000055vscode-remote?line=11'>12</a>\u001b[0m fn \u001b[39m=\u001b[39m \u001b[39mgetattr\u001b[39m(\u001b[39mself\u001b[39m, fn_name)\n\u001b[1;32m     <a href='vscode-notebook-cell://dev-container%2B7b227265706f7369746f727950617468223a2268747470733a2f2f6769746875622e636f6d2f416264756c6d616c696b2d72656264692f6171617231222c22766f6c756d654e616d65223a225f5f554e495155455f5f222c22666f6c646572223a226171617231222c22636c6f6e65496e666f223a7b2275726c546f436c6f6e65223a2268747470733a2f2f6769746875622e636f6d2f416264756c6d616c696b2d72656264692f6171617231227d2c22696e7370656374566f6c756d65223a66616c73657d/workspaces/aqar1/src/regression.ipynb#ch0000055vscode-remote?line=12'>13</a>\u001b[0m \u001b[39mtry\u001b[39;00m:\n\u001b[0;32m---> <a href='vscode-notebook-cell://dev-container%2B7b227265706f7369746f727950617468223a2268747470733a2f2f6769746875622e636f6d2f416264756c6d616c696b2d72656264692f6171617231222c22766f6c756d654e616d65223a225f5f554e495155455f5f222c22666f6c646572223a226171617231222c22636c6f6e65496e666f223a7b2275726c546f436c6f6e65223a2268747470733a2f2f6769746875622e636f6d2f416264756c6d616c696b2d72656264692f6171617231227d2c22696e7370656374566f6c756d65223a66616c73657d/workspaces/aqar1/src/regression.ipynb#ch0000055vscode-remote?line=13'>14</a>\u001b[0m     result \u001b[39m=\u001b[39m fmin(fn\u001b[39m=\u001b[39;49mfn, space\u001b[39m=\u001b[39;49mspace, algo\u001b[39m=\u001b[39;49malgo, max_evals\u001b[39m=\u001b[39;49mmax_evals, trials\u001b[39m=\u001b[39;49mtrials)\n\u001b[1;32m     <a href='vscode-notebook-cell://dev-container%2B7b227265706f7369746f727950617468223a2268747470733a2f2f6769746875622e636f6d2f416264756c6d616c696b2d72656264692f6171617231222c22766f6c756d654e616d65223a225f5f554e495155455f5f222c22666f6c646572223a226171617231222c22636c6f6e65496e666f223a7b2275726c546f436c6f6e65223a2268747470733a2f2f6769746875622e636f6d2f416264756c6d616c696b2d72656264692f6171617231227d2c22696e7370656374566f6c756d65223a66616c73657d/workspaces/aqar1/src/regression.ipynb#ch0000055vscode-remote?line=14'>15</a>\u001b[0m \u001b[39mexcept\u001b[39;00m \u001b[39mException\u001b[39;00m \u001b[39mas\u001b[39;00m e:\n\u001b[1;32m     <a href='vscode-notebook-cell://dev-container%2B7b227265706f7369746f727950617468223a2268747470733a2f2f6769746875622e636f6d2f416264756c6d616c696b2d72656264692f6171617231222c22766f6c756d654e616d65223a225f5f554e495155455f5f222c22666f6c646572223a226171617231222c22636c6f6e65496e666f223a7b2275726c546f436c6f6e65223a2268747470733a2f2f6769746875622e636f6d2f416264756c6d616c696b2d72656264692f6171617231227d2c22696e7370656374566f6c756d65223a66616c73657d/workspaces/aqar1/src/regression.ipynb#ch0000055vscode-remote?line=15'>16</a>\u001b[0m     \u001b[39mreturn\u001b[39;00m {\u001b[39m'\u001b[39m\u001b[39mstatus\u001b[39m\u001b[39m'\u001b[39m: STATUS_FAIL,\n\u001b[1;32m     <a href='vscode-notebook-cell://dev-container%2B7b227265706f7369746f727950617468223a2268747470733a2f2f6769746875622e636f6d2f416264756c6d616c696b2d72656264692f6171617231222c22766f6c756d654e616d65223a225f5f554e495155455f5f222c22666f6c646572223a226171617231222c22636c6f6e65496e666f223a7b2275726c546f436c6f6e65223a2268747470733a2f2f6769746875622e636f6d2f416264756c6d616c696b2d72656264692f6171617231227d2c22696e7370656374566f6c756d65223a66616c73657d/workspaces/aqar1/src/regression.ipynb#ch0000055vscode-remote?line=16'>17</a>\u001b[0m             \u001b[39m'\u001b[39m\u001b[39mexception\u001b[39m\u001b[39m'\u001b[39m: \u001b[39mstr\u001b[39m(e)}\n",
      "File \u001b[0;32m~/.local/lib/python3.10/site-packages/hyperopt/fmin.py:540\u001b[0m, in \u001b[0;36mfmin\u001b[0;34m(fn, space, algo, max_evals, timeout, loss_threshold, trials, rstate, allow_trials_fmin, pass_expr_memo_ctrl, catch_eval_exceptions, verbose, return_argmin, points_to_evaluate, max_queue_len, show_progressbar, early_stop_fn, trials_save_file)\u001b[0m\n\u001b[1;32m    537\u001b[0m     fn \u001b[39m=\u001b[39m __objective_fmin_wrapper(fn)\n\u001b[1;32m    539\u001b[0m \u001b[39mif\u001b[39;00m allow_trials_fmin \u001b[39mand\u001b[39;00m \u001b[39mhasattr\u001b[39m(trials, \u001b[39m\"\u001b[39m\u001b[39mfmin\u001b[39m\u001b[39m\"\u001b[39m):\n\u001b[0;32m--> 540\u001b[0m     \u001b[39mreturn\u001b[39;00m trials\u001b[39m.\u001b[39;49mfmin(\n\u001b[1;32m    541\u001b[0m         fn,\n\u001b[1;32m    542\u001b[0m         space,\n\u001b[1;32m    543\u001b[0m         algo\u001b[39m=\u001b[39;49malgo,\n\u001b[1;32m    544\u001b[0m         max_evals\u001b[39m=\u001b[39;49mmax_evals,\n\u001b[1;32m    545\u001b[0m         timeout\u001b[39m=\u001b[39;49mtimeout,\n\u001b[1;32m    546\u001b[0m         loss_threshold\u001b[39m=\u001b[39;49mloss_threshold,\n\u001b[1;32m    547\u001b[0m         max_queue_len\u001b[39m=\u001b[39;49mmax_queue_len,\n\u001b[1;32m    548\u001b[0m         rstate\u001b[39m=\u001b[39;49mrstate,\n\u001b[1;32m    549\u001b[0m         pass_expr_memo_ctrl\u001b[39m=\u001b[39;49mpass_expr_memo_ctrl,\n\u001b[1;32m    550\u001b[0m         verbose\u001b[39m=\u001b[39;49mverbose,\n\u001b[1;32m    551\u001b[0m         catch_eval_exceptions\u001b[39m=\u001b[39;49mcatch_eval_exceptions,\n\u001b[1;32m    552\u001b[0m         return_argmin\u001b[39m=\u001b[39;49mreturn_argmin,\n\u001b[1;32m    553\u001b[0m         show_progressbar\u001b[39m=\u001b[39;49mshow_progressbar,\n\u001b[1;32m    554\u001b[0m         early_stop_fn\u001b[39m=\u001b[39;49mearly_stop_fn,\n\u001b[1;32m    555\u001b[0m         trials_save_file\u001b[39m=\u001b[39;49mtrials_save_file,\n\u001b[1;32m    556\u001b[0m     )\n\u001b[1;32m    558\u001b[0m \u001b[39mif\u001b[39;00m trials \u001b[39mis\u001b[39;00m \u001b[39mNone\u001b[39;00m:\n\u001b[1;32m    559\u001b[0m     \u001b[39mif\u001b[39;00m os\u001b[39m.\u001b[39mpath\u001b[39m.\u001b[39mexists(trials_save_file):\n",
      "File \u001b[0;32m~/.local/lib/python3.10/site-packages/hyperopt/base.py:671\u001b[0m, in \u001b[0;36mTrials.fmin\u001b[0;34m(self, fn, space, algo, max_evals, timeout, loss_threshold, max_queue_len, rstate, verbose, pass_expr_memo_ctrl, catch_eval_exceptions, return_argmin, show_progressbar, early_stop_fn, trials_save_file)\u001b[0m\n\u001b[1;32m    666\u001b[0m \u001b[39m# -- Stop-gap implementation!\u001b[39;00m\n\u001b[1;32m    667\u001b[0m \u001b[39m#    fmin should have been a Trials method in the first place\u001b[39;00m\n\u001b[1;32m    668\u001b[0m \u001b[39m#    but for now it's still sitting in another file.\u001b[39;00m\n\u001b[1;32m    669\u001b[0m \u001b[39mfrom\u001b[39;00m \u001b[39m.\u001b[39;00m\u001b[39mfmin\u001b[39;00m \u001b[39mimport\u001b[39;00m fmin\n\u001b[0;32m--> 671\u001b[0m \u001b[39mreturn\u001b[39;00m fmin(\n\u001b[1;32m    672\u001b[0m     fn,\n\u001b[1;32m    673\u001b[0m     space,\n\u001b[1;32m    674\u001b[0m     algo\u001b[39m=\u001b[39;49malgo,\n\u001b[1;32m    675\u001b[0m     max_evals\u001b[39m=\u001b[39;49mmax_evals,\n\u001b[1;32m    676\u001b[0m     timeout\u001b[39m=\u001b[39;49mtimeout,\n\u001b[1;32m    677\u001b[0m     loss_threshold\u001b[39m=\u001b[39;49mloss_threshold,\n\u001b[1;32m    678\u001b[0m     trials\u001b[39m=\u001b[39;49m\u001b[39mself\u001b[39;49m,\n\u001b[1;32m    679\u001b[0m     rstate\u001b[39m=\u001b[39;49mrstate,\n\u001b[1;32m    680\u001b[0m     verbose\u001b[39m=\u001b[39;49mverbose,\n\u001b[1;32m    681\u001b[0m     max_queue_len\u001b[39m=\u001b[39;49mmax_queue_len,\n\u001b[1;32m    682\u001b[0m     allow_trials_fmin\u001b[39m=\u001b[39;49m\u001b[39mFalse\u001b[39;49;00m,  \u001b[39m# -- prevent recursion\u001b[39;49;00m\n\u001b[1;32m    683\u001b[0m     pass_expr_memo_ctrl\u001b[39m=\u001b[39;49mpass_expr_memo_ctrl,\n\u001b[1;32m    684\u001b[0m     catch_eval_exceptions\u001b[39m=\u001b[39;49mcatch_eval_exceptions,\n\u001b[1;32m    685\u001b[0m     return_argmin\u001b[39m=\u001b[39;49mreturn_argmin,\n\u001b[1;32m    686\u001b[0m     show_progressbar\u001b[39m=\u001b[39;49mshow_progressbar,\n\u001b[1;32m    687\u001b[0m     early_stop_fn\u001b[39m=\u001b[39;49mearly_stop_fn,\n\u001b[1;32m    688\u001b[0m     trials_save_file\u001b[39m=\u001b[39;49mtrials_save_file,\n\u001b[1;32m    689\u001b[0m )\n",
      "File \u001b[0;32m~/.local/lib/python3.10/site-packages/hyperopt/fmin.py:586\u001b[0m, in \u001b[0;36mfmin\u001b[0;34m(fn, space, algo, max_evals, timeout, loss_threshold, trials, rstate, allow_trials_fmin, pass_expr_memo_ctrl, catch_eval_exceptions, verbose, return_argmin, points_to_evaluate, max_queue_len, show_progressbar, early_stop_fn, trials_save_file)\u001b[0m\n\u001b[1;32m    583\u001b[0m rval\u001b[39m.\u001b[39mcatch_eval_exceptions \u001b[39m=\u001b[39m catch_eval_exceptions\n\u001b[1;32m    585\u001b[0m \u001b[39m# next line is where the fmin is actually executed\u001b[39;00m\n\u001b[0;32m--> 586\u001b[0m rval\u001b[39m.\u001b[39;49mexhaust()\n\u001b[1;32m    588\u001b[0m \u001b[39mif\u001b[39;00m return_argmin:\n\u001b[1;32m    589\u001b[0m     \u001b[39mif\u001b[39;00m \u001b[39mlen\u001b[39m(trials\u001b[39m.\u001b[39mtrials) \u001b[39m==\u001b[39m \u001b[39m0\u001b[39m:\n",
      "File \u001b[0;32m~/.local/lib/python3.10/site-packages/hyperopt/fmin.py:364\u001b[0m, in \u001b[0;36mFMinIter.exhaust\u001b[0;34m(self)\u001b[0m\n\u001b[1;32m    362\u001b[0m \u001b[39mdef\u001b[39;00m \u001b[39mexhaust\u001b[39m(\u001b[39mself\u001b[39m):\n\u001b[1;32m    363\u001b[0m     n_done \u001b[39m=\u001b[39m \u001b[39mlen\u001b[39m(\u001b[39mself\u001b[39m\u001b[39m.\u001b[39mtrials)\n\u001b[0;32m--> 364\u001b[0m     \u001b[39mself\u001b[39;49m\u001b[39m.\u001b[39;49mrun(\u001b[39mself\u001b[39;49m\u001b[39m.\u001b[39;49mmax_evals \u001b[39m-\u001b[39;49m n_done, block_until_done\u001b[39m=\u001b[39;49m\u001b[39mself\u001b[39;49m\u001b[39m.\u001b[39;49masynchronous)\n\u001b[1;32m    365\u001b[0m     \u001b[39mself\u001b[39m\u001b[39m.\u001b[39mtrials\u001b[39m.\u001b[39mrefresh()\n\u001b[1;32m    366\u001b[0m     \u001b[39mreturn\u001b[39;00m \u001b[39mself\u001b[39m\n",
      "File \u001b[0;32m~/.local/lib/python3.10/site-packages/hyperopt/fmin.py:300\u001b[0m, in \u001b[0;36mFMinIter.run\u001b[0;34m(self, N, block_until_done)\u001b[0m\n\u001b[1;32m    297\u001b[0m     time\u001b[39m.\u001b[39msleep(\u001b[39mself\u001b[39m\u001b[39m.\u001b[39mpoll_interval_secs)\n\u001b[1;32m    298\u001b[0m \u001b[39melse\u001b[39;00m:\n\u001b[1;32m    299\u001b[0m     \u001b[39m# -- loop over trials and do the jobs directly\u001b[39;00m\n\u001b[0;32m--> 300\u001b[0m     \u001b[39mself\u001b[39;49m\u001b[39m.\u001b[39;49mserial_evaluate()\n\u001b[1;32m    302\u001b[0m \u001b[39mself\u001b[39m\u001b[39m.\u001b[39mtrials\u001b[39m.\u001b[39mrefresh()\n\u001b[1;32m    303\u001b[0m \u001b[39mif\u001b[39;00m \u001b[39mself\u001b[39m\u001b[39m.\u001b[39mtrials_save_file \u001b[39m!=\u001b[39m \u001b[39m\"\u001b[39m\u001b[39m\"\u001b[39m:\n",
      "File \u001b[0;32m~/.local/lib/python3.10/site-packages/hyperopt/fmin.py:178\u001b[0m, in \u001b[0;36mFMinIter.serial_evaluate\u001b[0;34m(self, N)\u001b[0m\n\u001b[1;32m    176\u001b[0m ctrl \u001b[39m=\u001b[39m base\u001b[39m.\u001b[39mCtrl(\u001b[39mself\u001b[39m\u001b[39m.\u001b[39mtrials, current_trial\u001b[39m=\u001b[39mtrial)\n\u001b[1;32m    177\u001b[0m \u001b[39mtry\u001b[39;00m:\n\u001b[0;32m--> 178\u001b[0m     result \u001b[39m=\u001b[39m \u001b[39mself\u001b[39;49m\u001b[39m.\u001b[39;49mdomain\u001b[39m.\u001b[39;49mevaluate(spec, ctrl)\n\u001b[1;32m    179\u001b[0m \u001b[39mexcept\u001b[39;00m \u001b[39mException\u001b[39;00m \u001b[39mas\u001b[39;00m e:\n\u001b[1;32m    180\u001b[0m     logger\u001b[39m.\u001b[39merror(\u001b[39m\"\u001b[39m\u001b[39mjob exception: \u001b[39m\u001b[39m%s\u001b[39;00m\u001b[39m\"\u001b[39m \u001b[39m%\u001b[39m \u001b[39mstr\u001b[39m(e))\n",
      "File \u001b[0;32m~/.local/lib/python3.10/site-packages/hyperopt/base.py:892\u001b[0m, in \u001b[0;36mDomain.evaluate\u001b[0;34m(self, config, ctrl, attach_attachments)\u001b[0m\n\u001b[1;32m    883\u001b[0m \u001b[39melse\u001b[39;00m:\n\u001b[1;32m    884\u001b[0m     \u001b[39m# -- the \"work\" of evaluating `config` can be written\u001b[39;00m\n\u001b[1;32m    885\u001b[0m     \u001b[39m#    either into the pyll part (self.expr)\u001b[39;00m\n\u001b[1;32m    886\u001b[0m     \u001b[39m#    or the normal Python part (self.fn)\u001b[39;00m\n\u001b[1;32m    887\u001b[0m     pyll_rval \u001b[39m=\u001b[39m pyll\u001b[39m.\u001b[39mrec_eval(\n\u001b[1;32m    888\u001b[0m         \u001b[39mself\u001b[39m\u001b[39m.\u001b[39mexpr,\n\u001b[1;32m    889\u001b[0m         memo\u001b[39m=\u001b[39mmemo,\n\u001b[1;32m    890\u001b[0m         print_node_on_error\u001b[39m=\u001b[39m\u001b[39mself\u001b[39m\u001b[39m.\u001b[39mrec_eval_print_node_on_error,\n\u001b[1;32m    891\u001b[0m     )\n\u001b[0;32m--> 892\u001b[0m     rval \u001b[39m=\u001b[39m \u001b[39mself\u001b[39;49m\u001b[39m.\u001b[39;49mfn(pyll_rval)\n\u001b[1;32m    894\u001b[0m \u001b[39mif\u001b[39;00m \u001b[39misinstance\u001b[39m(rval, (\u001b[39mfloat\u001b[39m, \u001b[39mint\u001b[39m, np\u001b[39m.\u001b[39mnumber)):\n\u001b[1;32m    895\u001b[0m     dict_rval \u001b[39m=\u001b[39m {\u001b[39m\"\u001b[39m\u001b[39mloss\u001b[39m\u001b[39m\"\u001b[39m: \u001b[39mfloat\u001b[39m(rval), \u001b[39m\"\u001b[39m\u001b[39mstatus\u001b[39m\u001b[39m\"\u001b[39m: STATUS_OK}\n",
      "\u001b[1;32m/workspaces/aqar1/src/regression.ipynb Cell 47\u001b[0m in \u001b[0;36mHPOptimiser.catboost_reg\u001b[0;34m(self, para)\u001b[0m\n\u001b[1;32m     <a href='vscode-notebook-cell://dev-container%2B7b227265706f7369746f727950617468223a2268747470733a2f2f6769746875622e636f6d2f416264756c6d616c696b2d72656264692f6171617231222c22766f6c756d654e616d65223a225f5f554e495155455f5f222c22666f6c646572223a226171617231222c22636c6f6e65496e666f223a7b2275726c546f436c6f6e65223a2268747470733a2f2f6769746875622e636f6d2f416264756c6d616c696b2d72656264692f6171617231227d2c22696e7370656374566f6c756d65223a66616c73657d/workspaces/aqar1/src/regression.ipynb#ch0000055vscode-remote?line=19'>20</a>\u001b[0m \u001b[39mdef\u001b[39;00m \u001b[39mcatboost_reg\u001b[39m(\u001b[39mself\u001b[39m, para):\n\u001b[1;32m     <a href='vscode-notebook-cell://dev-container%2B7b227265706f7369746f727950617468223a2268747470733a2f2f6769746875622e636f6d2f416264756c6d616c696b2d72656264692f6171617231222c22766f6c756d654e616d65223a225f5f554e495155455f5f222c22666f6c646572223a226171617231222c22636c6f6e65496e666f223a7b2275726c546f436c6f6e65223a2268747470733a2f2f6769746875622e636f6d2f416264756c6d616c696b2d72656264692f6171617231227d2c22696e7370656374566f6c756d65223a66616c73657d/workspaces/aqar1/src/regression.ipynb#ch0000055vscode-remote?line=20'>21</a>\u001b[0m     reg \u001b[39m=\u001b[39m CatBoostRegressor(\u001b[39m*\u001b[39m\u001b[39m*\u001b[39mpara[\u001b[39m'\u001b[39m\u001b[39mreg_params\u001b[39m\u001b[39m'\u001b[39m])\n\u001b[0;32m---> <a href='vscode-notebook-cell://dev-container%2B7b227265706f7369746f727950617468223a2268747470733a2f2f6769746875622e636f6d2f416264756c6d616c696b2d72656264692f6171617231222c22766f6c756d654e616d65223a225f5f554e495155455f5f222c22666f6c646572223a226171617231222c22636c6f6e65496e666f223a7b2275726c546f436c6f6e65223a2268747470733a2f2f6769746875622e636f6d2f416264756c6d616c696b2d72656264692f6171617231227d2c22696e7370656374566f6c756d65223a66616c73657d/workspaces/aqar1/src/regression.ipynb#ch0000055vscode-remote?line=21'>22</a>\u001b[0m     \u001b[39mreturn\u001b[39;00m \u001b[39mself\u001b[39;49m\u001b[39m.\u001b[39;49mtrain_reg(reg, para)\n",
      "\u001b[1;32m/workspaces/aqar1/src/regression.ipynb Cell 47\u001b[0m in \u001b[0;36mHPOptimiser.train_reg\u001b[0;34m(self, reg, params)\u001b[0m\n\u001b[1;32m     <a href='vscode-notebook-cell://dev-container%2B7b227265706f7369746f727950617468223a2268747470733a2f2f6769746875622e636f6d2f416264756c6d616c696b2d72656264692f6171617231222c22766f6c756d654e616d65223a225f5f554e495155455f5f222c22666f6c646572223a226171617231222c22636c6f6e65496e666f223a7b2275726c546f436c6f6e65223a2268747470733a2f2f6769746875622e636f6d2f416264756c6d616c696b2d72656264692f6171617231227d2c22696e7370656374566f6c756d65223a66616c73657d/workspaces/aqar1/src/regression.ipynb#ch0000055vscode-remote?line=23'>24</a>\u001b[0m \u001b[39mdef\u001b[39;00m \u001b[39mtrain_reg\u001b[39m(\u001b[39mself\u001b[39m, reg, params):\n\u001b[0;32m---> <a href='vscode-notebook-cell://dev-container%2B7b227265706f7369746f727950617468223a2268747470733a2f2f6769746875622e636f6d2f416264756c6d616c696b2d72656264692f6171617231222c22766f6c756d654e616d65223a225f5f554e495155455f5f222c22666f6c646572223a226171617231222c22636c6f6e65496e666f223a7b2275726c546f436c6f6e65223a2268747470733a2f2f6769746875622e636f6d2f416264756c6d616c696b2d72656264692f6171617231227d2c22696e7370656374566f6c756d65223a66616c73657d/workspaces/aqar1/src/regression.ipynb#ch0000055vscode-remote?line=24'>25</a>\u001b[0m     reg\u001b[39m.\u001b[39;49mfit(\u001b[39mself\u001b[39;49m\u001b[39m.\u001b[39;49mX_train, \u001b[39mself\u001b[39;49m\u001b[39m.\u001b[39;49my_train,\n\u001b[1;32m     <a href='vscode-notebook-cell://dev-container%2B7b227265706f7369746f727950617468223a2268747470733a2f2f6769746875622e636f6d2f416264756c6d616c696b2d72656264692f6171617231222c22766f6c756d654e616d65223a225f5f554e495155455f5f222c22666f6c646572223a226171617231222c22636c6f6e65496e666f223a7b2275726c546f436c6f6e65223a2268747470733a2f2f6769746875622e636f6d2f416264756c6d616c696b2d72656264692f6171617231227d2c22696e7370656374566f6c756d65223a66616c73657d/workspaces/aqar1/src/regression.ipynb#ch0000055vscode-remote?line=25'>26</a>\u001b[0m             eval_set\u001b[39m=\u001b[39;49m[(\u001b[39mself\u001b[39;49m\u001b[39m.\u001b[39;49mX_train, \u001b[39mself\u001b[39;49m\u001b[39m.\u001b[39;49my_train), (\u001b[39mself\u001b[39;49m\u001b[39m.\u001b[39;49mX_val, \u001b[39mself\u001b[39;49m\u001b[39m.\u001b[39;49my_val)],\n\u001b[1;32m     <a href='vscode-notebook-cell://dev-container%2B7b227265706f7369746f727950617468223a2268747470733a2f2f6769746875622e636f6d2f416264756c6d616c696b2d72656264692f6171617231222c22766f6c756d654e616d65223a225f5f554e495155455f5f222c22666f6c646572223a226171617231222c22636c6f6e65496e666f223a7b2275726c546f436c6f6e65223a2268747470733a2f2f6769746875622e636f6d2f416264756c6d616c696b2d72656264692f6171617231227d2c22696e7370656374566f6c756d65223a66616c73657d/workspaces/aqar1/src/regression.ipynb#ch0000055vscode-remote?line=26'>27</a>\u001b[0m             \u001b[39m*\u001b[39;49m\u001b[39m*\u001b[39;49mparams[\u001b[39m'\u001b[39;49m\u001b[39mfit_params\u001b[39;49m\u001b[39m'\u001b[39;49m])\n\u001b[1;32m     <a href='vscode-notebook-cell://dev-container%2B7b227265706f7369746f727950617468223a2268747470733a2f2f6769746875622e636f6d2f416264756c6d616c696b2d72656264692f6171617231222c22766f6c756d654e616d65223a225f5f554e495155455f5f222c22666f6c646572223a226171617231222c22636c6f6e65496e666f223a7b2275726c546f436c6f6e65223a2268747470733a2f2f6769746875622e636f6d2f416264756c6d616c696b2d72656264692f6171617231227d2c22696e7370656374566f6c756d65223a66616c73657d/workspaces/aqar1/src/regression.ipynb#ch0000055vscode-remote?line=27'>28</a>\u001b[0m     pred \u001b[39m=\u001b[39m reg\u001b[39m.\u001b[39mpredict(\u001b[39mself\u001b[39m\u001b[39m.\u001b[39mX_val)\n\u001b[1;32m     <a href='vscode-notebook-cell://dev-container%2B7b227265706f7369746f727950617468223a2268747470733a2f2f6769746875622e636f6d2f416264756c6d616c696b2d72656264692f6171617231222c22766f6c756d654e616d65223a225f5f554e495155455f5f222c22666f6c646572223a226171617231222c22636c6f6e65496e666f223a7b2275726c546f436c6f6e65223a2268747470733a2f2f6769746875622e636f6d2f416264756c6d616c696b2d72656264692f6171617231227d2c22696e7370656374566f6c756d65223a66616c73657d/workspaces/aqar1/src/regression.ipynb#ch0000055vscode-remote?line=28'>29</a>\u001b[0m     loss \u001b[39m=\u001b[39m params[\u001b[39m'\u001b[39m\u001b[39mloss_func\u001b[39m\u001b[39m'\u001b[39m](\u001b[39mself\u001b[39m\u001b[39m.\u001b[39my_val, pred)\n",
      "File \u001b[0;32m~/.local/lib/python3.10/site-packages/catboost/core.py:5590\u001b[0m, in \u001b[0;36mCatBoostRegressor.fit\u001b[0;34m(self, X, y, cat_features, sample_weight, baseline, use_best_model, eval_set, verbose, logging_level, plot, column_description, verbose_eval, metric_period, silent, early_stopping_rounds, save_snapshot, snapshot_file, snapshot_interval, init_model, callbacks, log_cout, log_cerr)\u001b[0m\n\u001b[1;32m   5587\u001b[0m \u001b[39mif\u001b[39;00m \u001b[39m'\u001b[39m\u001b[39mloss_function\u001b[39m\u001b[39m'\u001b[39m \u001b[39min\u001b[39;00m params:\n\u001b[1;32m   5588\u001b[0m     CatBoostRegressor\u001b[39m.\u001b[39m_check_is_compatible_loss(params[\u001b[39m'\u001b[39m\u001b[39mloss_function\u001b[39m\u001b[39m'\u001b[39m])\n\u001b[0;32m-> 5590\u001b[0m \u001b[39mreturn\u001b[39;00m \u001b[39mself\u001b[39;49m\u001b[39m.\u001b[39;49m_fit(X, y, cat_features, \u001b[39mNone\u001b[39;49;00m, \u001b[39mNone\u001b[39;49;00m, \u001b[39mNone\u001b[39;49;00m, sample_weight, \u001b[39mNone\u001b[39;49;00m, \u001b[39mNone\u001b[39;49;00m, \u001b[39mNone\u001b[39;49;00m, \u001b[39mNone\u001b[39;49;00m, baseline,\n\u001b[1;32m   5591\u001b[0m                  use_best_model, eval_set, verbose, logging_level, plot, column_description,\n\u001b[1;32m   5592\u001b[0m                  verbose_eval, metric_period, silent, early_stopping_rounds,\n\u001b[1;32m   5593\u001b[0m                  save_snapshot, snapshot_file, snapshot_interval, init_model, callbacks, log_cout, log_cerr)\n",
      "File \u001b[0;32m~/.local/lib/python3.10/site-packages/catboost/core.py:2278\u001b[0m, in \u001b[0;36mCatBoost._fit\u001b[0;34m(self, X, y, cat_features, text_features, embedding_features, pairs, sample_weight, group_id, group_weight, subgroup_id, pairs_weight, baseline, use_best_model, eval_set, verbose, logging_level, plot, column_description, verbose_eval, metric_period, silent, early_stopping_rounds, save_snapshot, snapshot_file, snapshot_interval, init_model, callbacks, log_cout, log_cerr)\u001b[0m\n\u001b[1;32m   2274\u001b[0m allow_clear_pool \u001b[39m=\u001b[39m train_params[\u001b[39m\"\u001b[39m\u001b[39mallow_clear_pool\u001b[39m\u001b[39m\"\u001b[39m]\n\u001b[1;32m   2276\u001b[0m \u001b[39mwith\u001b[39;00m log_fixup(log_cout, log_cerr), \\\n\u001b[1;32m   2277\u001b[0m     plot_wrapper(plot, [_get_train_dir(\u001b[39mself\u001b[39m\u001b[39m.\u001b[39mget_params())]):\n\u001b[0;32m-> 2278\u001b[0m     \u001b[39mself\u001b[39;49m\u001b[39m.\u001b[39;49m_train(\n\u001b[1;32m   2279\u001b[0m         train_pool,\n\u001b[1;32m   2280\u001b[0m         train_params[\u001b[39m\"\u001b[39;49m\u001b[39meval_sets\u001b[39;49m\u001b[39m\"\u001b[39;49m],\n\u001b[1;32m   2281\u001b[0m         params,\n\u001b[1;32m   2282\u001b[0m         allow_clear_pool,\n\u001b[1;32m   2283\u001b[0m         train_params[\u001b[39m\"\u001b[39;49m\u001b[39minit_model\u001b[39;49m\u001b[39m\"\u001b[39;49m]\n\u001b[1;32m   2284\u001b[0m     )\n\u001b[1;32m   2286\u001b[0m \u001b[39m# Have property feature_importance possibly set\u001b[39;00m\n\u001b[1;32m   2287\u001b[0m loss \u001b[39m=\u001b[39m \u001b[39mself\u001b[39m\u001b[39m.\u001b[39m_object\u001b[39m.\u001b[39m_get_loss_function_name()\n",
      "File \u001b[0;32m~/.local/lib/python3.10/site-packages/catboost/core.py:1705\u001b[0m, in \u001b[0;36m_CatBoostBase._train\u001b[0;34m(self, train_pool, test_pool, params, allow_clear_pool, init_model)\u001b[0m\n\u001b[1;32m   1704\u001b[0m \u001b[39mdef\u001b[39;00m \u001b[39m_train\u001b[39m(\u001b[39mself\u001b[39m, train_pool, test_pool, params, allow_clear_pool, init_model):\n\u001b[0;32m-> 1705\u001b[0m     \u001b[39mself\u001b[39;49m\u001b[39m.\u001b[39;49m_object\u001b[39m.\u001b[39;49m_train(train_pool, test_pool, params, allow_clear_pool, init_model\u001b[39m.\u001b[39;49m_object \u001b[39mif\u001b[39;49;00m init_model \u001b[39melse\u001b[39;49;00m \u001b[39mNone\u001b[39;49;00m)\n\u001b[1;32m   1706\u001b[0m     \u001b[39mself\u001b[39m\u001b[39m.\u001b[39m_set_trained_model_attributes()\n",
      "File \u001b[0;32m_catboost.pyx:4585\u001b[0m, in \u001b[0;36m_catboost._CatBoost._train\u001b[0;34m()\u001b[0m\n",
      "File \u001b[0;32m_catboost.pyx:4634\u001b[0m, in \u001b[0;36m_catboost._CatBoost._train\u001b[0;34m()\u001b[0m\n",
      "\u001b[0;31mKeyboardInterrupt\u001b[0m: "
     ]
    }
   ],
   "source": [
    "obj = HPOptimiser(X_train_sub, X_val_sub, y_train_sub, y_val_sub)\n",
    "\n",
    "catboost_opt = obj.process(fn_name='catboost_reg', space=catboost_params, \n",
    "                          trials=Trials(), algo=tpe.suggest, max_evals=100)\n",
    "print(\"----------------\\n\",catboost_opt)\n"
   ]
  },
  {
   "cell_type": "code",
   "execution_count": null,
   "metadata": {},
   "outputs": [],
   "source": [
    "cb_learn_rate = 0.002\n",
    "n_iterations = 800000\n",
    "early_stop_rounds = 4800\n",
    "\n",
    "opt_catboost_params = {'iterations' : n_iterations,\n",
    "                       'learning_rate' : cb_learn_rate,\n",
    "                       'depth': 7,\n",
    "                       'bootstrap_type' : 'Bernoulli',\n",
    "                       'random_strength': 1,\n",
    "                       'min_data_in_leaf': 10,\n",
    "                       'l2_leaf_reg': 3,\n",
    "                       'loss_function' : 'RMSE', \n",
    "                       'eval_metric' : 'RMSE',\n",
    "                       'grow_policy' : 'Depthwise',\n",
    "                       'max_bin' : 1024, \n",
    "                       'model_size_reg' : 0,\n",
    "                    #    'task_type' : 'GPU',\n",
    "                       'od_type' : 'IncToDec',\n",
    "                       'od_wait' : 100,\n",
    "                       'metric_period' : 500,\n",
    "                       'verbose' : 500,\n",
    "                       'subsample' : 0.8,\n",
    "                       'od_pval' : 1e-10,\n",
    "                       'max_ctr_complexity' : 8,\n",
    "                       'has_time': False,\n",
    "                       'simple_ctr' : 'FeatureFreq',\n",
    "                       'combinations_ctr': 'FeatureFreq',\n",
    "                       'random_seed' : 13}"
   ]
  },
  {
   "cell_type": "code",
   "execution_count": null,
   "metadata": {},
   "outputs": [
    {
     "data": {
      "application/vnd.jupyter.widget-view+json": {
       "model_id": "bea682b03823488fa43610cc3aeb1d25",
       "version_major": 2,
       "version_minor": 0
      },
      "text/plain": [
       "MetricVisualizer(layout=Layout(align_self='stretch', height='500px'))"
      ]
     },
     "metadata": {},
     "output_type": "display_data"
    },
    {
     "name": "stdout",
     "output_type": "stream",
     "text": [
      "Learning rate set to 0.055211\n",
      "0:\tlearn: 17.5724495\ttest: 17.8483416\tbest: 17.8483416 (0)\ttotal: 2ms\tremaining: 1.99s\n",
      "1:\tlearn: 17.5054051\ttest: 17.8166618\tbest: 17.8166618 (1)\ttotal: 4.03ms\tremaining: 2.01s\n",
      "2:\tlearn: 17.4515727\ttest: 17.7863592\tbest: 17.7863592 (2)\ttotal: 6.17ms\tremaining: 2.05s\n",
      "3:\tlearn: 17.4182106\ttest: 17.7514500\tbest: 17.7514500 (3)\ttotal: 8.42ms\tremaining: 2.1s\n",
      "4:\tlearn: 17.3678000\ttest: 17.7321964\tbest: 17.7321964 (4)\ttotal: 10.6ms\tremaining: 2.1s\n",
      "5:\tlearn: 17.3308765\ttest: 17.6971836\tbest: 17.6971836 (5)\ttotal: 15.5ms\tremaining: 2.57s\n",
      "6:\tlearn: 17.2863803\ttest: 17.6863030\tbest: 17.6863030 (6)\ttotal: 18.1ms\tremaining: 2.57s\n",
      "7:\tlearn: 17.2272886\ttest: 17.6470666\tbest: 17.6470666 (7)\ttotal: 20.1ms\tremaining: 2.49s\n",
      "8:\tlearn: 17.1791537\ttest: 17.6258779\tbest: 17.6258779 (8)\ttotal: 21.9ms\tremaining: 2.41s\n",
      "9:\tlearn: 17.1301451\ttest: 17.6015128\tbest: 17.6015128 (9)\ttotal: 23.8ms\tremaining: 2.35s\n",
      "10:\tlearn: 17.0959364\ttest: 17.5938762\tbest: 17.5938762 (10)\ttotal: 26ms\tremaining: 2.34s\n",
      "11:\tlearn: 17.0516143\ttest: 17.5546574\tbest: 17.5546574 (11)\ttotal: 28ms\tremaining: 2.31s\n",
      "12:\tlearn: 17.0122426\ttest: 17.5389741\tbest: 17.5389741 (12)\ttotal: 30.3ms\tremaining: 2.3s\n",
      "13:\tlearn: 16.9754549\ttest: 17.5209027\tbest: 17.5209027 (13)\ttotal: 32.2ms\tremaining: 2.27s\n",
      "14:\tlearn: 16.9241732\ttest: 17.4980993\tbest: 17.4980993 (14)\ttotal: 34ms\tremaining: 2.23s\n",
      "15:\tlearn: 16.8930717\ttest: 17.4807267\tbest: 17.4807267 (15)\ttotal: 36ms\tremaining: 2.21s\n",
      "16:\tlearn: 16.8419135\ttest: 17.4518879\tbest: 17.4518879 (16)\ttotal: 38ms\tremaining: 2.2s\n",
      "17:\tlearn: 16.8229864\ttest: 17.4490151\tbest: 17.4490151 (17)\ttotal: 39.9ms\tremaining: 2.18s\n",
      "18:\tlearn: 16.8040350\ttest: 17.4398344\tbest: 17.4398344 (18)\ttotal: 41.8ms\tremaining: 2.16s\n",
      "19:\tlearn: 16.7635794\ttest: 17.4202493\tbest: 17.4202493 (19)\ttotal: 43.9ms\tremaining: 2.15s\n",
      "20:\tlearn: 16.7177840\ttest: 17.3755912\tbest: 17.3755912 (20)\ttotal: 45.9ms\tremaining: 2.14s\n",
      "21:\tlearn: 16.6850190\ttest: 17.3790312\tbest: 17.3755912 (20)\ttotal: 47.7ms\tremaining: 2.12s\n",
      "22:\tlearn: 16.6515506\ttest: 17.3630556\tbest: 17.3630556 (22)\ttotal: 49.6ms\tremaining: 2.11s\n",
      "23:\tlearn: 16.6330861\ttest: 17.3506986\tbest: 17.3506986 (23)\ttotal: 51.6ms\tremaining: 2.1s\n",
      "24:\tlearn: 16.5960097\ttest: 17.3327391\tbest: 17.3327391 (24)\ttotal: 53.6ms\tremaining: 2.09s\n",
      "25:\tlearn: 16.5536037\ttest: 17.3182235\tbest: 17.3182235 (25)\ttotal: 55.6ms\tremaining: 2.08s\n",
      "26:\tlearn: 16.5313941\ttest: 17.3092028\tbest: 17.3092028 (26)\ttotal: 57.6ms\tremaining: 2.08s\n",
      "27:\tlearn: 16.5012866\ttest: 17.3007435\tbest: 17.3007435 (27)\ttotal: 59.6ms\tremaining: 2.07s\n",
      "28:\tlearn: 16.4768610\ttest: 17.2989693\tbest: 17.2989693 (28)\ttotal: 62.3ms\tremaining: 2.08s\n",
      "29:\tlearn: 16.4513248\ttest: 17.2933662\tbest: 17.2933662 (29)\ttotal: 64.5ms\tremaining: 2.08s\n",
      "30:\tlearn: 16.4262195\ttest: 17.2777200\tbest: 17.2777200 (30)\ttotal: 66.5ms\tremaining: 2.08s\n",
      "31:\tlearn: 16.3843774\ttest: 17.2755152\tbest: 17.2755152 (31)\ttotal: 68.8ms\tremaining: 2.08s\n",
      "32:\tlearn: 16.3457974\ttest: 17.2740395\tbest: 17.2740395 (32)\ttotal: 70.6ms\tremaining: 2.07s\n",
      "33:\tlearn: 16.3230273\ttest: 17.2755404\tbest: 17.2740395 (32)\ttotal: 72.3ms\tremaining: 2.05s\n",
      "34:\tlearn: 16.2987196\ttest: 17.2605267\tbest: 17.2605267 (34)\ttotal: 74ms\tremaining: 2.04s\n",
      "35:\tlearn: 16.2721685\ttest: 17.2532282\tbest: 17.2532282 (35)\ttotal: 75.7ms\tremaining: 2.03s\n",
      "36:\tlearn: 16.2519854\ttest: 17.2509318\tbest: 17.2509318 (36)\ttotal: 77.4ms\tremaining: 2.01s\n",
      "37:\tlearn: 16.2284308\ttest: 17.2574951\tbest: 17.2509318 (36)\ttotal: 79.3ms\tremaining: 2.01s\n",
      "38:\tlearn: 16.1971104\ttest: 17.2392946\tbest: 17.2392946 (38)\ttotal: 81.4ms\tremaining: 2s\n",
      "39:\tlearn: 16.1663413\ttest: 17.2340068\tbest: 17.2340068 (39)\ttotal: 83.1ms\tremaining: 2s\n",
      "40:\tlearn: 16.1302723\ttest: 17.2172703\tbest: 17.2172703 (40)\ttotal: 84.8ms\tremaining: 1.98s\n",
      "41:\tlearn: 16.0954481\ttest: 17.2082081\tbest: 17.2082081 (41)\ttotal: 86.5ms\tremaining: 1.97s\n",
      "42:\tlearn: 16.0723061\ttest: 17.2021944\tbest: 17.2021944 (42)\ttotal: 88.2ms\tremaining: 1.96s\n",
      "43:\tlearn: 16.0495604\ttest: 17.2018404\tbest: 17.2018404 (43)\ttotal: 89.8ms\tremaining: 1.95s\n",
      "44:\tlearn: 16.0209311\ttest: 17.1971902\tbest: 17.1971902 (44)\ttotal: 91.5ms\tremaining: 1.94s\n",
      "45:\tlearn: 16.0028955\ttest: 17.1862256\tbest: 17.1862256 (45)\ttotal: 93.5ms\tremaining: 1.94s\n",
      "46:\tlearn: 15.9757021\ttest: 17.1606049\tbest: 17.1606049 (46)\ttotal: 95.5ms\tremaining: 1.94s\n",
      "47:\tlearn: 15.9507151\ttest: 17.1477347\tbest: 17.1477347 (47)\ttotal: 97.2ms\tremaining: 1.93s\n",
      "48:\tlearn: 15.9256196\ttest: 17.1416218\tbest: 17.1416218 (48)\ttotal: 98.8ms\tremaining: 1.92s\n",
      "49:\tlearn: 15.9039371\ttest: 17.1309107\tbest: 17.1309107 (49)\ttotal: 101ms\tremaining: 1.91s\n",
      "50:\tlearn: 15.8763581\ttest: 17.1283303\tbest: 17.1283303 (50)\ttotal: 102ms\tremaining: 1.9s\n",
      "51:\tlearn: 15.8417688\ttest: 17.1091091\tbest: 17.1091091 (51)\ttotal: 104ms\tremaining: 1.9s\n",
      "52:\tlearn: 15.8270742\ttest: 17.1039865\tbest: 17.1039865 (52)\ttotal: 106ms\tremaining: 1.89s\n",
      "53:\tlearn: 15.7956132\ttest: 17.0926745\tbest: 17.0926745 (53)\ttotal: 108ms\tremaining: 1.89s\n",
      "54:\tlearn: 15.7855309\ttest: 17.0962822\tbest: 17.0926745 (53)\ttotal: 109ms\tremaining: 1.88s\n",
      "55:\tlearn: 15.7677147\ttest: 17.0961667\tbest: 17.0926745 (53)\ttotal: 111ms\tremaining: 1.87s\n",
      "56:\tlearn: 15.7467007\ttest: 17.0889368\tbest: 17.0889368 (56)\ttotal: 113ms\tremaining: 1.86s\n",
      "57:\tlearn: 15.7236112\ttest: 17.0618659\tbest: 17.0618659 (57)\ttotal: 114ms\tremaining: 1.86s\n",
      "58:\tlearn: 15.6858059\ttest: 17.0334780\tbest: 17.0334780 (58)\ttotal: 116ms\tremaining: 1.85s\n",
      "59:\tlearn: 15.6655467\ttest: 17.0297199\tbest: 17.0297199 (59)\ttotal: 118ms\tremaining: 1.85s\n",
      "60:\tlearn: 15.6507814\ttest: 17.0263691\tbest: 17.0263691 (60)\ttotal: 120ms\tremaining: 1.84s\n",
      "61:\tlearn: 15.6218862\ttest: 17.0066017\tbest: 17.0066017 (61)\ttotal: 121ms\tremaining: 1.83s\n",
      "62:\tlearn: 15.6143097\ttest: 17.0076096\tbest: 17.0066017 (61)\ttotal: 123ms\tremaining: 1.83s\n",
      "63:\tlearn: 15.5903461\ttest: 17.0095799\tbest: 17.0066017 (61)\ttotal: 125ms\tremaining: 1.82s\n",
      "64:\tlearn: 15.5727374\ttest: 17.0070522\tbest: 17.0066017 (61)\ttotal: 126ms\tremaining: 1.82s\n",
      "65:\tlearn: 15.5470997\ttest: 17.0036758\tbest: 17.0036758 (65)\ttotal: 128ms\tremaining: 1.81s\n",
      "66:\tlearn: 15.5248762\ttest: 16.9963315\tbest: 16.9963315 (66)\ttotal: 130ms\tremaining: 1.81s\n",
      "67:\tlearn: 15.5049745\ttest: 16.9913854\tbest: 16.9913854 (67)\ttotal: 132ms\tremaining: 1.8s\n",
      "68:\tlearn: 15.4968852\ttest: 16.9916741\tbest: 16.9913854 (67)\ttotal: 134ms\tremaining: 1.8s\n",
      "69:\tlearn: 15.4656362\ttest: 16.9872920\tbest: 16.9872920 (69)\ttotal: 135ms\tremaining: 1.8s\n",
      "70:\tlearn: 15.4474073\ttest: 16.9793116\tbest: 16.9793116 (70)\ttotal: 137ms\tremaining: 1.79s\n",
      "71:\tlearn: 15.4282484\ttest: 16.9685865\tbest: 16.9685865 (71)\ttotal: 138ms\tremaining: 1.78s\n",
      "72:\tlearn: 15.4051704\ttest: 16.9737626\tbest: 16.9685865 (71)\ttotal: 140ms\tremaining: 1.78s\n",
      "73:\tlearn: 15.3779762\ttest: 16.9765693\tbest: 16.9685865 (71)\ttotal: 142ms\tremaining: 1.77s\n",
      "74:\tlearn: 15.3546736\ttest: 16.9714660\tbest: 16.9685865 (71)\ttotal: 143ms\tremaining: 1.77s\n",
      "75:\tlearn: 15.3323380\ttest: 16.9652660\tbest: 16.9652660 (75)\ttotal: 145ms\tremaining: 1.77s\n",
      "76:\tlearn: 15.3111898\ttest: 16.9555507\tbest: 16.9555507 (76)\ttotal: 147ms\tremaining: 1.76s\n",
      "77:\tlearn: 15.2877848\ttest: 16.9523356\tbest: 16.9523356 (77)\ttotal: 149ms\tremaining: 1.76s\n",
      "78:\tlearn: 15.2723121\ttest: 16.9563350\tbest: 16.9523356 (77)\ttotal: 150ms\tremaining: 1.75s\n",
      "79:\tlearn: 15.2432421\ttest: 16.9353616\tbest: 16.9353616 (79)\ttotal: 152ms\tremaining: 1.75s\n",
      "80:\tlearn: 15.2269940\ttest: 16.9341668\tbest: 16.9341668 (80)\ttotal: 154ms\tremaining: 1.75s\n",
      "81:\tlearn: 15.2073935\ttest: 16.9338612\tbest: 16.9338612 (81)\ttotal: 155ms\tremaining: 1.74s\n",
      "82:\tlearn: 15.1810815\ttest: 16.9328027\tbest: 16.9328027 (82)\ttotal: 158ms\tremaining: 1.74s\n",
      "83:\tlearn: 15.1697715\ttest: 16.9317092\tbest: 16.9317092 (83)\ttotal: 159ms\tremaining: 1.74s\n",
      "84:\tlearn: 15.1591341\ttest: 16.9303719\tbest: 16.9303719 (84)\ttotal: 161ms\tremaining: 1.73s\n",
      "85:\tlearn: 15.1541047\ttest: 16.9283113\tbest: 16.9283113 (85)\ttotal: 163ms\tremaining: 1.73s\n",
      "86:\tlearn: 15.1445987\ttest: 16.9327626\tbest: 16.9283113 (85)\ttotal: 164ms\tremaining: 1.73s\n",
      "87:\tlearn: 15.1288546\ttest: 16.9286021\tbest: 16.9283113 (85)\ttotal: 166ms\tremaining: 1.72s\n",
      "88:\tlearn: 15.1168994\ttest: 16.9236994\tbest: 16.9236994 (88)\ttotal: 168ms\tremaining: 1.72s\n",
      "89:\tlearn: 15.0998757\ttest: 16.9180737\tbest: 16.9180737 (89)\ttotal: 170ms\tremaining: 1.72s\n",
      "90:\tlearn: 15.0833533\ttest: 16.9192935\tbest: 16.9180737 (89)\ttotal: 172ms\tremaining: 1.71s\n",
      "91:\tlearn: 15.0688187\ttest: 16.9191069\tbest: 16.9180737 (89)\ttotal: 173ms\tremaining: 1.71s\n",
      "92:\tlearn: 15.0627602\ttest: 16.9165573\tbest: 16.9165573 (92)\ttotal: 175ms\tremaining: 1.71s\n",
      "93:\tlearn: 15.0560641\ttest: 16.9175057\tbest: 16.9165573 (92)\ttotal: 177ms\tremaining: 1.7s\n",
      "94:\tlearn: 15.0403182\ttest: 16.9120867\tbest: 16.9120867 (94)\ttotal: 179ms\tremaining: 1.7s\n",
      "95:\tlearn: 15.0187725\ttest: 16.9144084\tbest: 16.9120867 (94)\ttotal: 180ms\tremaining: 1.7s\n",
      "96:\tlearn: 14.9955692\ttest: 16.9102402\tbest: 16.9102402 (96)\ttotal: 182ms\tremaining: 1.7s\n",
      "97:\tlearn: 14.9743339\ttest: 16.8996097\tbest: 16.8996097 (97)\ttotal: 184ms\tremaining: 1.69s\n",
      "98:\tlearn: 14.9608282\ttest: 16.9001180\tbest: 16.8996097 (97)\ttotal: 186ms\tremaining: 1.69s\n",
      "99:\tlearn: 14.9371938\ttest: 16.8989307\tbest: 16.8989307 (99)\ttotal: 188ms\tremaining: 1.7s\n",
      "100:\tlearn: 14.9170790\ttest: 16.8966727\tbest: 16.8966727 (100)\ttotal: 191ms\tremaining: 1.7s\n",
      "101:\tlearn: 14.8961369\ttest: 16.8917945\tbest: 16.8917945 (101)\ttotal: 192ms\tremaining: 1.69s\n",
      "102:\tlearn: 14.8822954\ttest: 16.8903839\tbest: 16.8903839 (102)\ttotal: 194ms\tremaining: 1.69s\n",
      "103:\tlearn: 14.8691472\ttest: 16.8909870\tbest: 16.8903839 (102)\ttotal: 196ms\tremaining: 1.69s\n",
      "104:\tlearn: 14.8595611\ttest: 16.8857325\tbest: 16.8857325 (104)\ttotal: 199ms\tremaining: 1.69s\n",
      "105:\tlearn: 14.8351104\ttest: 16.8741671\tbest: 16.8741671 (105)\ttotal: 200ms\tremaining: 1.69s\n",
      "106:\tlearn: 14.8242127\ttest: 16.8707937\tbest: 16.8707937 (106)\ttotal: 202ms\tremaining: 1.69s\n",
      "107:\tlearn: 14.8098863\ttest: 16.8687490\tbest: 16.8687490 (107)\ttotal: 204ms\tremaining: 1.68s\n",
      "108:\tlearn: 14.7973096\ttest: 16.8595991\tbest: 16.8595991 (108)\ttotal: 206ms\tremaining: 1.68s\n",
      "109:\tlearn: 14.7723720\ttest: 16.8523566\tbest: 16.8523566 (109)\ttotal: 207ms\tremaining: 1.68s\n",
      "110:\tlearn: 14.7606311\ttest: 16.8429584\tbest: 16.8429584 (110)\ttotal: 209ms\tremaining: 1.68s\n",
      "111:\tlearn: 14.7496857\ttest: 16.8362034\tbest: 16.8362034 (111)\ttotal: 211ms\tremaining: 1.67s\n",
      "112:\tlearn: 14.7253843\ttest: 16.8241692\tbest: 16.8241692 (112)\ttotal: 213ms\tremaining: 1.67s\n",
      "113:\tlearn: 14.7029239\ttest: 16.8132661\tbest: 16.8132661 (113)\ttotal: 216ms\tremaining: 1.68s\n",
      "114:\tlearn: 14.6903373\ttest: 16.8170417\tbest: 16.8132661 (113)\ttotal: 218ms\tremaining: 1.67s\n",
      "115:\tlearn: 14.6815681\ttest: 16.8125658\tbest: 16.8125658 (115)\ttotal: 219ms\tremaining: 1.67s\n",
      "116:\tlearn: 14.6589711\ttest: 16.8099665\tbest: 16.8099665 (116)\ttotal: 221ms\tremaining: 1.67s\n",
      "117:\tlearn: 14.6384112\ttest: 16.8084170\tbest: 16.8084170 (117)\ttotal: 223ms\tremaining: 1.67s\n",
      "118:\tlearn: 14.6264452\ttest: 16.8050397\tbest: 16.8050397 (118)\ttotal: 225ms\tremaining: 1.67s\n",
      "119:\tlearn: 14.6157619\ttest: 16.8015743\tbest: 16.8015743 (119)\ttotal: 227ms\tremaining: 1.67s\n",
      "120:\tlearn: 14.5840047\ttest: 16.7813446\tbest: 16.7813446 (120)\ttotal: 229ms\tremaining: 1.66s\n",
      "121:\tlearn: 14.5679986\ttest: 16.7752820\tbest: 16.7752820 (121)\ttotal: 231ms\tremaining: 1.66s\n",
      "122:\tlearn: 14.5584704\ttest: 16.7762605\tbest: 16.7752820 (121)\ttotal: 233ms\tremaining: 1.66s\n",
      "123:\tlearn: 14.5405736\ttest: 16.7695972\tbest: 16.7695972 (123)\ttotal: 235ms\tremaining: 1.66s\n",
      "124:\tlearn: 14.5178059\ttest: 16.7755229\tbest: 16.7695972 (123)\ttotal: 237ms\tremaining: 1.66s\n",
      "125:\tlearn: 14.5089422\ttest: 16.7768587\tbest: 16.7695972 (123)\ttotal: 238ms\tremaining: 1.65s\n",
      "126:\tlearn: 14.4835780\ttest: 16.7667068\tbest: 16.7667068 (126)\ttotal: 240ms\tremaining: 1.65s\n",
      "127:\tlearn: 14.4780368\ttest: 16.7635234\tbest: 16.7635234 (127)\ttotal: 242ms\tremaining: 1.65s\n",
      "128:\tlearn: 14.4710917\ttest: 16.7625988\tbest: 16.7625988 (128)\ttotal: 243ms\tremaining: 1.64s\n",
      "129:\tlearn: 14.4531137\ttest: 16.7590469\tbest: 16.7590469 (129)\ttotal: 245ms\tremaining: 1.64s\n",
      "130:\tlearn: 14.4284146\ttest: 16.7483212\tbest: 16.7483212 (130)\ttotal: 247ms\tremaining: 1.64s\n",
      "131:\tlearn: 14.4057833\ttest: 16.7331001\tbest: 16.7331001 (131)\ttotal: 249ms\tremaining: 1.64s\n",
      "132:\tlearn: 14.3962214\ttest: 16.7278585\tbest: 16.7278585 (132)\ttotal: 251ms\tremaining: 1.63s\n",
      "133:\tlearn: 14.3856739\ttest: 16.7247367\tbest: 16.7247367 (133)\ttotal: 252ms\tremaining: 1.63s\n",
      "134:\tlearn: 14.3671017\ttest: 16.7190236\tbest: 16.7190236 (134)\ttotal: 254ms\tremaining: 1.63s\n",
      "135:\tlearn: 14.3541409\ttest: 16.7193581\tbest: 16.7190236 (134)\ttotal: 256ms\tremaining: 1.63s\n",
      "136:\tlearn: 14.3471423\ttest: 16.7169198\tbest: 16.7169198 (136)\ttotal: 257ms\tremaining: 1.62s\n",
      "137:\tlearn: 14.3377884\ttest: 16.7144940\tbest: 16.7144940 (137)\ttotal: 259ms\tremaining: 1.62s\n",
      "138:\tlearn: 14.3217610\ttest: 16.7121682\tbest: 16.7121682 (138)\ttotal: 261ms\tremaining: 1.62s\n",
      "139:\tlearn: 14.3051347\ttest: 16.7104427\tbest: 16.7104427 (139)\ttotal: 263ms\tremaining: 1.61s\n",
      "140:\tlearn: 14.2967907\ttest: 16.7090723\tbest: 16.7090723 (140)\ttotal: 265ms\tremaining: 1.61s\n",
      "141:\tlearn: 14.2837312\ttest: 16.6944979\tbest: 16.6944979 (141)\ttotal: 267ms\tremaining: 1.61s\n",
      "142:\tlearn: 14.2713890\ttest: 16.6995950\tbest: 16.6944979 (141)\ttotal: 269ms\tremaining: 1.61s\n",
      "143:\tlearn: 14.2464912\ttest: 16.6869901\tbest: 16.6869901 (143)\ttotal: 272ms\tremaining: 1.61s\n",
      "144:\tlearn: 14.2350276\ttest: 16.6855038\tbest: 16.6855038 (144)\ttotal: 273ms\tremaining: 1.61s\n",
      "145:\tlearn: 14.2286648\ttest: 16.6865082\tbest: 16.6855038 (144)\ttotal: 275ms\tremaining: 1.61s\n",
      "146:\tlearn: 14.2236950\ttest: 16.6855869\tbest: 16.6855038 (144)\ttotal: 277ms\tremaining: 1.6s\n",
      "147:\tlearn: 14.2138537\ttest: 16.6853762\tbest: 16.6853762 (147)\ttotal: 278ms\tremaining: 1.6s\n",
      "148:\tlearn: 14.1962484\ttest: 16.6717985\tbest: 16.6717985 (148)\ttotal: 280ms\tremaining: 1.6s\n",
      "149:\tlearn: 14.1912122\ttest: 16.6666793\tbest: 16.6666793 (149)\ttotal: 282ms\tremaining: 1.59s\n",
      "150:\tlearn: 14.1766357\ttest: 16.6595498\tbest: 16.6595498 (150)\ttotal: 283ms\tremaining: 1.59s\n",
      "151:\tlearn: 14.1681773\ttest: 16.6552369\tbest: 16.6552369 (151)\ttotal: 285ms\tremaining: 1.59s\n",
      "152:\tlearn: 14.1580360\ttest: 16.6517360\tbest: 16.6517360 (152)\ttotal: 287ms\tremaining: 1.59s\n",
      "153:\tlearn: 14.1355161\ttest: 16.6492897\tbest: 16.6492897 (153)\ttotal: 289ms\tremaining: 1.59s\n",
      "154:\tlearn: 14.1114803\ttest: 16.6311651\tbest: 16.6311651 (154)\ttotal: 291ms\tremaining: 1.58s\n",
      "155:\tlearn: 14.1052258\ttest: 16.6291833\tbest: 16.6291833 (155)\ttotal: 292ms\tremaining: 1.58s\n",
      "156:\tlearn: 14.0892583\ttest: 16.6331997\tbest: 16.6291833 (155)\ttotal: 294ms\tremaining: 1.58s\n",
      "157:\tlearn: 14.0843443\ttest: 16.6342641\tbest: 16.6291833 (155)\ttotal: 295ms\tremaining: 1.57s\n",
      "158:\tlearn: 14.0566532\ttest: 16.6294118\tbest: 16.6291833 (155)\ttotal: 297ms\tremaining: 1.57s\n",
      "159:\tlearn: 14.0523650\ttest: 16.6282457\tbest: 16.6282457 (159)\ttotal: 299ms\tremaining: 1.57s\n",
      "160:\tlearn: 14.0458022\ttest: 16.6269215\tbest: 16.6269215 (160)\ttotal: 301ms\tremaining: 1.57s\n",
      "161:\tlearn: 14.0406700\ttest: 16.6263617\tbest: 16.6263617 (161)\ttotal: 302ms\tremaining: 1.56s\n",
      "162:\tlearn: 14.0337852\ttest: 16.6273275\tbest: 16.6263617 (161)\ttotal: 304ms\tremaining: 1.56s\n",
      "163:\tlearn: 14.0278943\ttest: 16.6281854\tbest: 16.6263617 (161)\ttotal: 306ms\tremaining: 1.56s\n",
      "164:\tlearn: 14.0169307\ttest: 16.6227331\tbest: 16.6227331 (164)\ttotal: 307ms\tremaining: 1.55s\n",
      "165:\tlearn: 14.0066980\ttest: 16.6212801\tbest: 16.6212801 (165)\ttotal: 309ms\tremaining: 1.55s\n",
      "166:\tlearn: 14.0012480\ttest: 16.6222998\tbest: 16.6212801 (165)\ttotal: 311ms\tremaining: 1.55s\n",
      "167:\tlearn: 13.9962863\ttest: 16.6229869\tbest: 16.6212801 (165)\ttotal: 312ms\tremaining: 1.55s\n",
      "168:\tlearn: 13.9913209\ttest: 16.6230982\tbest: 16.6212801 (165)\ttotal: 314ms\tremaining: 1.54s\n",
      "169:\tlearn: 13.9769391\ttest: 16.6160461\tbest: 16.6160461 (169)\ttotal: 316ms\tremaining: 1.54s\n",
      "170:\tlearn: 13.9665917\ttest: 16.6125195\tbest: 16.6125195 (170)\ttotal: 317ms\tremaining: 1.54s\n",
      "171:\tlearn: 13.9613055\ttest: 16.6135580\tbest: 16.6125195 (170)\ttotal: 319ms\tremaining: 1.53s\n",
      "172:\tlearn: 13.9405319\ttest: 16.5941058\tbest: 16.5941058 (172)\ttotal: 320ms\tremaining: 1.53s\n",
      "173:\tlearn: 13.9198175\ttest: 16.5982044\tbest: 16.5941058 (172)\ttotal: 322ms\tremaining: 1.53s\n",
      "174:\tlearn: 13.8977640\ttest: 16.5773024\tbest: 16.5773024 (174)\ttotal: 324ms\tremaining: 1.53s\n",
      "175:\tlearn: 13.8929130\ttest: 16.5783528\tbest: 16.5773024 (174)\ttotal: 326ms\tremaining: 1.53s\n",
      "176:\tlearn: 13.8801767\ttest: 16.5773139\tbest: 16.5773024 (174)\ttotal: 328ms\tremaining: 1.52s\n",
      "177:\tlearn: 13.8751268\ttest: 16.5783945\tbest: 16.5773024 (174)\ttotal: 330ms\tremaining: 1.52s\n",
      "178:\tlearn: 13.8579608\ttest: 16.5696706\tbest: 16.5696706 (178)\ttotal: 331ms\tremaining: 1.52s\n",
      "179:\tlearn: 13.8351952\ttest: 16.5627526\tbest: 16.5627526 (179)\ttotal: 333ms\tremaining: 1.52s\n",
      "180:\tlearn: 13.8223978\ttest: 16.5544055\tbest: 16.5544055 (180)\ttotal: 335ms\tremaining: 1.51s\n",
      "181:\tlearn: 13.8138865\ttest: 16.5408085\tbest: 16.5408085 (181)\ttotal: 337ms\tremaining: 1.51s\n",
      "182:\tlearn: 13.8065011\ttest: 16.5361508\tbest: 16.5361508 (182)\ttotal: 338ms\tremaining: 1.51s\n",
      "183:\tlearn: 13.7857593\ttest: 16.5273289\tbest: 16.5273289 (183)\ttotal: 340ms\tremaining: 1.51s\n",
      "184:\tlearn: 13.7733393\ttest: 16.5161696\tbest: 16.5161696 (184)\ttotal: 342ms\tremaining: 1.5s\n",
      "185:\tlearn: 13.7683362\ttest: 16.5183295\tbest: 16.5161696 (184)\ttotal: 343ms\tremaining: 1.5s\n",
      "186:\tlearn: 13.7520415\ttest: 16.5096019\tbest: 16.5096019 (186)\ttotal: 345ms\tremaining: 1.5s\n",
      "187:\tlearn: 13.7307567\ttest: 16.4958735\tbest: 16.4958735 (187)\ttotal: 347ms\tremaining: 1.5s\n",
      "188:\tlearn: 13.7256250\ttest: 16.4959969\tbest: 16.4958735 (187)\ttotal: 348ms\tremaining: 1.49s\n",
      "189:\tlearn: 13.7180718\ttest: 16.4916719\tbest: 16.4916719 (189)\ttotal: 350ms\tremaining: 1.49s\n",
      "190:\tlearn: 13.7063026\ttest: 16.4809918\tbest: 16.4809918 (190)\ttotal: 352ms\tremaining: 1.49s\n",
      "191:\tlearn: 13.7012748\ttest: 16.4821790\tbest: 16.4809918 (190)\ttotal: 353ms\tremaining: 1.49s\n",
      "192:\tlearn: 13.6889486\ttest: 16.4653936\tbest: 16.4653936 (192)\ttotal: 355ms\tremaining: 1.48s\n",
      "193:\tlearn: 13.6840238\ttest: 16.4666158\tbest: 16.4653936 (192)\ttotal: 357ms\tremaining: 1.48s\n",
      "194:\tlearn: 13.6792233\ttest: 16.4678540\tbest: 16.4653936 (192)\ttotal: 358ms\tremaining: 1.48s\n",
      "195:\tlearn: 13.6710255\ttest: 16.4569005\tbest: 16.4569005 (195)\ttotal: 360ms\tremaining: 1.48s\n",
      "196:\tlearn: 13.6662910\ttest: 16.4581456\tbest: 16.4569005 (195)\ttotal: 362ms\tremaining: 1.47s\n",
      "197:\tlearn: 13.6505804\ttest: 16.4507687\tbest: 16.4507687 (197)\ttotal: 363ms\tremaining: 1.47s\n",
      "198:\tlearn: 13.6413186\ttest: 16.4409026\tbest: 16.4409026 (198)\ttotal: 365ms\tremaining: 1.47s\n",
      "199:\tlearn: 13.6329746\ttest: 16.4357967\tbest: 16.4357967 (199)\ttotal: 367ms\tremaining: 1.47s\n",
      "200:\tlearn: 13.6076797\ttest: 16.4347326\tbest: 16.4347326 (200)\ttotal: 368ms\tremaining: 1.46s\n",
      "201:\tlearn: 13.6020817\ttest: 16.4298237\tbest: 16.4298237 (201)\ttotal: 370ms\tremaining: 1.46s\n",
      "202:\tlearn: 13.5829768\ttest: 16.4296651\tbest: 16.4296651 (202)\ttotal: 371ms\tremaining: 1.46s\n",
      "203:\tlearn: 13.5782937\ttest: 16.4297724\tbest: 16.4296651 (202)\ttotal: 373ms\tremaining: 1.46s\n",
      "204:\tlearn: 13.5709584\ttest: 16.4253280\tbest: 16.4253280 (204)\ttotal: 375ms\tremaining: 1.45s\n",
      "205:\tlearn: 13.5596404\ttest: 16.4218562\tbest: 16.4218562 (205)\ttotal: 377ms\tremaining: 1.45s\n",
      "206:\tlearn: 13.5476218\ttest: 16.4183118\tbest: 16.4183118 (206)\ttotal: 378ms\tremaining: 1.45s\n",
      "207:\tlearn: 13.5430568\ttest: 16.4195536\tbest: 16.4183118 (206)\ttotal: 380ms\tremaining: 1.45s\n",
      "208:\tlearn: 13.5311364\ttest: 16.4152100\tbest: 16.4152100 (208)\ttotal: 381ms\tremaining: 1.44s\n",
      "209:\tlearn: 13.5153765\ttest: 16.4140000\tbest: 16.4140000 (209)\ttotal: 384ms\tremaining: 1.44s\n",
      "210:\tlearn: 13.5108441\ttest: 16.4141140\tbest: 16.4140000 (209)\ttotal: 385ms\tremaining: 1.44s\n",
      "211:\tlearn: 13.5063954\ttest: 16.4142233\tbest: 16.4140000 (209)\ttotal: 387ms\tremaining: 1.44s\n",
      "212:\tlearn: 13.5020248\ttest: 16.4155068\tbest: 16.4140000 (209)\ttotal: 389ms\tremaining: 1.44s\n",
      "213:\tlearn: 13.4923452\ttest: 16.4108094\tbest: 16.4108094 (213)\ttotal: 391ms\tremaining: 1.44s\n",
      "214:\tlearn: 13.4880463\ttest: 16.4120943\tbest: 16.4108094 (213)\ttotal: 393ms\tremaining: 1.43s\n",
      "215:\tlearn: 13.4788818\ttest: 16.4092219\tbest: 16.4092219 (215)\ttotal: 395ms\tremaining: 1.43s\n",
      "216:\tlearn: 13.4644877\ttest: 16.4038518\tbest: 16.4038518 (216)\ttotal: 396ms\tremaining: 1.43s\n",
      "217:\tlearn: 13.4456352\ttest: 16.3942253\tbest: 16.3942253 (217)\ttotal: 398ms\tremaining: 1.43s\n",
      "218:\tlearn: 13.4269658\ttest: 16.3861619\tbest: 16.3861619 (218)\ttotal: 401ms\tremaining: 1.43s\n",
      "219:\tlearn: 13.4190498\ttest: 16.3762843\tbest: 16.3762843 (219)\ttotal: 403ms\tremaining: 1.43s\n",
      "220:\tlearn: 13.4147468\ttest: 16.3764003\tbest: 16.3762843 (219)\ttotal: 404ms\tremaining: 1.43s\n",
      "221:\tlearn: 13.4105475\ttest: 16.3777161\tbest: 16.3762843 (219)\ttotal: 406ms\tremaining: 1.42s\n",
      "222:\tlearn: 13.4063797\ttest: 16.3778527\tbest: 16.3762843 (219)\ttotal: 408ms\tremaining: 1.42s\n",
      "223:\tlearn: 13.3968072\ttest: 16.3776401\tbest: 16.3762843 (219)\ttotal: 410ms\tremaining: 1.42s\n",
      "224:\tlearn: 13.3593109\ttest: 16.3604620\tbest: 16.3604620 (224)\ttotal: 413ms\tremaining: 1.42s\n",
      "225:\tlearn: 13.3551838\ttest: 16.3605642\tbest: 16.3604620 (224)\ttotal: 415ms\tremaining: 1.42s\n",
      "226:\tlearn: 13.3486338\ttest: 16.3543705\tbest: 16.3543705 (226)\ttotal: 418ms\tremaining: 1.42s\n",
      "227:\tlearn: 13.3420460\ttest: 16.3510926\tbest: 16.3510926 (227)\ttotal: 420ms\tremaining: 1.42s\n",
      "228:\tlearn: 13.3379689\ttest: 16.3512429\tbest: 16.3510926 (227)\ttotal: 423ms\tremaining: 1.42s\n",
      "229:\tlearn: 13.3339234\ttest: 16.3525424\tbest: 16.3510926 (227)\ttotal: 425ms\tremaining: 1.42s\n",
      "230:\tlearn: 13.3275220\ttest: 16.3521564\tbest: 16.3510926 (227)\ttotal: 428ms\tremaining: 1.42s\n",
      "231:\tlearn: 13.3198058\ttest: 16.3455739\tbest: 16.3455739 (231)\ttotal: 430ms\tremaining: 1.42s\n",
      "232:\tlearn: 13.3092308\ttest: 16.3428249\tbest: 16.3428249 (232)\ttotal: 432ms\tremaining: 1.42s\n",
      "233:\tlearn: 13.3009190\ttest: 16.3368567\tbest: 16.3368567 (233)\ttotal: 434ms\tremaining: 1.42s\n",
      "234:\tlearn: 13.2780328\ttest: 16.3334000\tbest: 16.3334000 (234)\ttotal: 435ms\tremaining: 1.42s\n",
      "235:\tlearn: 13.2739835\ttest: 16.3335177\tbest: 16.3334000 (234)\ttotal: 437ms\tremaining: 1.42s\n",
      "236:\tlearn: 13.2700097\ttest: 16.3337312\tbest: 16.3334000 (234)\ttotal: 439ms\tremaining: 1.41s\n",
      "237:\tlearn: 13.2639539\ttest: 16.3279433\tbest: 16.3279433 (237)\ttotal: 441ms\tremaining: 1.41s\n",
      "238:\tlearn: 13.2381240\ttest: 16.3250057\tbest: 16.3250057 (238)\ttotal: 443ms\tremaining: 1.41s\n",
      "239:\tlearn: 13.2341940\ttest: 16.3263290\tbest: 16.3250057 (238)\ttotal: 444ms\tremaining: 1.41s\n",
      "240:\tlearn: 13.2277399\ttest: 16.3209502\tbest: 16.3209502 (240)\ttotal: 446ms\tremaining: 1.41s\n",
      "241:\tlearn: 13.2238481\ttest: 16.3211870\tbest: 16.3209502 (240)\ttotal: 448ms\tremaining: 1.4s\n",
      "242:\tlearn: 13.2203860\ttest: 16.3212742\tbest: 16.3209502 (240)\ttotal: 450ms\tremaining: 1.4s\n",
      "243:\tlearn: 13.1914606\ttest: 16.3253229\tbest: 16.3209502 (240)\ttotal: 452ms\tremaining: 1.4s\n",
      "244:\tlearn: 13.1812472\ttest: 16.3177667\tbest: 16.3177667 (244)\ttotal: 454ms\tremaining: 1.4s\n",
      "245:\tlearn: 13.1754498\ttest: 16.3122146\tbest: 16.3122146 (245)\ttotal: 455ms\tremaining: 1.4s\n",
      "246:\tlearn: 13.1593860\ttest: 16.3134925\tbest: 16.3122146 (245)\ttotal: 457ms\tremaining: 1.39s\n",
      "247:\tlearn: 13.1555324\ttest: 16.3137440\tbest: 16.3122146 (245)\ttotal: 459ms\tremaining: 1.39s\n",
      "248:\tlearn: 13.1397119\ttest: 16.3072667\tbest: 16.3072667 (248)\ttotal: 462ms\tremaining: 1.39s\n",
      "249:\tlearn: 13.1222220\ttest: 16.2957897\tbest: 16.2957897 (249)\ttotal: 464ms\tremaining: 1.39s\n",
      "250:\tlearn: 13.1184081\ttest: 16.2958876\tbest: 16.2957897 (249)\ttotal: 466ms\tremaining: 1.39s\n",
      "251:\tlearn: 13.1099866\ttest: 16.2902115\tbest: 16.2902115 (251)\ttotal: 468ms\tremaining: 1.39s\n",
      "252:\tlearn: 13.1062149\ttest: 16.2917066\tbest: 16.2902115 (251)\ttotal: 469ms\tremaining: 1.39s\n",
      "253:\tlearn: 13.0990231\ttest: 16.2828285\tbest: 16.2828285 (253)\ttotal: 471ms\tremaining: 1.38s\n",
      "254:\tlearn: 13.0828713\ttest: 16.2791908\tbest: 16.2791908 (254)\ttotal: 473ms\tremaining: 1.38s\n",
      "255:\tlearn: 13.0747835\ttest: 16.2770120\tbest: 16.2770120 (255)\ttotal: 475ms\tremaining: 1.38s\n",
      "256:\tlearn: 13.0607257\ttest: 16.2783162\tbest: 16.2770120 (255)\ttotal: 477ms\tremaining: 1.38s\n",
      "257:\tlearn: 13.0535223\ttest: 16.2761434\tbest: 16.2761434 (257)\ttotal: 479ms\tremaining: 1.38s\n",
      "258:\tlearn: 13.0479149\ttest: 16.2733024\tbest: 16.2733024 (258)\ttotal: 481ms\tremaining: 1.37s\n",
      "259:\tlearn: 13.0441440\ttest: 16.2733989\tbest: 16.2733024 (258)\ttotal: 483ms\tremaining: 1.37s\n",
      "260:\tlearn: 13.0404150\ttest: 16.2747235\tbest: 16.2733024 (258)\ttotal: 484ms\tremaining: 1.37s\n",
      "261:\tlearn: 13.0288213\ttest: 16.2596213\tbest: 16.2596213 (261)\ttotal: 486ms\tremaining: 1.37s\n",
      "262:\tlearn: 13.0015052\ttest: 16.2696979\tbest: 16.2596213 (261)\ttotal: 491ms\tremaining: 1.38s\n",
      "263:\tlearn: 12.9962188\ttest: 16.2663992\tbest: 16.2596213 (261)\ttotal: 493ms\tremaining: 1.37s\n",
      "264:\tlearn: 12.9858476\ttest: 16.2636682\tbest: 16.2596213 (261)\ttotal: 495ms\tremaining: 1.37s\n",
      "265:\tlearn: 12.9821423\ttest: 16.2639918\tbest: 16.2596213 (261)\ttotal: 497ms\tremaining: 1.37s\n",
      "266:\tlearn: 12.9784727\ttest: 16.2640949\tbest: 16.2596213 (261)\ttotal: 499ms\tremaining: 1.37s\n",
      "267:\tlearn: 12.9748266\ttest: 16.2654437\tbest: 16.2596213 (261)\ttotal: 500ms\tremaining: 1.37s\n",
      "268:\tlearn: 12.9693546\ttest: 16.2582255\tbest: 16.2582255 (268)\ttotal: 502ms\tremaining: 1.36s\n",
      "269:\tlearn: 12.9368716\ttest: 16.2484184\tbest: 16.2484184 (269)\ttotal: 504ms\tremaining: 1.36s\n",
      "270:\tlearn: 12.9332418\ttest: 16.2487570\tbest: 16.2484184 (269)\ttotal: 506ms\tremaining: 1.36s\n",
      "271:\tlearn: 12.9267549\ttest: 16.2470149\tbest: 16.2470149 (271)\ttotal: 507ms\tremaining: 1.36s\n",
      "272:\tlearn: 12.9145596\ttest: 16.2451852\tbest: 16.2451852 (272)\ttotal: 509ms\tremaining: 1.35s\n",
      "273:\tlearn: 12.9106933\ttest: 16.2441337\tbest: 16.2441337 (273)\ttotal: 510ms\tremaining: 1.35s\n",
      "274:\tlearn: 12.9003057\ttest: 16.2399735\tbest: 16.2399735 (274)\ttotal: 512ms\tremaining: 1.35s\n",
      "275:\tlearn: 12.8967141\ttest: 16.2413174\tbest: 16.2399735 (274)\ttotal: 514ms\tremaining: 1.35s\n",
      "276:\tlearn: 12.8929209\ttest: 16.2403249\tbest: 16.2399735 (274)\ttotal: 516ms\tremaining: 1.35s\n",
      "277:\tlearn: 12.8743484\ttest: 16.2321958\tbest: 16.2321958 (277)\ttotal: 518ms\tremaining: 1.34s\n",
      "278:\tlearn: 12.8708022\ttest: 16.2325520\tbest: 16.2321958 (277)\ttotal: 520ms\tremaining: 1.34s\n",
      "279:\tlearn: 12.8672894\ttest: 16.2339068\tbest: 16.2321958 (277)\ttotal: 522ms\tremaining: 1.34s\n",
      "280:\tlearn: 12.8536750\ttest: 16.2326040\tbest: 16.2321958 (277)\ttotal: 524ms\tremaining: 1.34s\n",
      "281:\tlearn: 12.8501878\ttest: 16.2326933\tbest: 16.2321958 (277)\ttotal: 525ms\tremaining: 1.34s\n",
      "282:\tlearn: 12.8356395\ttest: 16.2327890\tbest: 16.2321958 (277)\ttotal: 527ms\tremaining: 1.33s\n",
      "283:\tlearn: 12.8199506\ttest: 16.2223179\tbest: 16.2223179 (283)\ttotal: 529ms\tremaining: 1.33s\n",
      "284:\tlearn: 12.8132004\ttest: 16.2211185\tbest: 16.2211185 (284)\ttotal: 531ms\tremaining: 1.33s\n",
      "285:\tlearn: 12.8095257\ttest: 16.2204474\tbest: 16.2204474 (285)\ttotal: 532ms\tremaining: 1.33s\n",
      "286:\tlearn: 12.8008877\ttest: 16.2230647\tbest: 16.2204474 (285)\ttotal: 534ms\tremaining: 1.33s\n",
      "287:\tlearn: 12.7906930\ttest: 16.2224854\tbest: 16.2204474 (285)\ttotal: 536ms\tremaining: 1.32s\n",
      "288:\tlearn: 12.7857657\ttest: 16.2206829\tbest: 16.2204474 (285)\ttotal: 538ms\tremaining: 1.32s\n",
      "289:\tlearn: 12.7618162\ttest: 16.2263375\tbest: 16.2204474 (285)\ttotal: 540ms\tremaining: 1.32s\n",
      "290:\tlearn: 12.7581830\ttest: 16.2254581\tbest: 16.2204474 (285)\ttotal: 542ms\tremaining: 1.32s\n",
      "291:\tlearn: 12.7491097\ttest: 16.2179281\tbest: 16.2179281 (291)\ttotal: 543ms\tremaining: 1.32s\n",
      "292:\tlearn: 12.7235263\ttest: 16.2060844\tbest: 16.2060844 (292)\ttotal: 545ms\tremaining: 1.31s\n",
      "293:\tlearn: 12.7200568\ttest: 16.2074704\tbest: 16.2060844 (292)\ttotal: 547ms\tremaining: 1.31s\n",
      "294:\tlearn: 12.7168468\ttest: 16.2075668\tbest: 16.2060844 (292)\ttotal: 549ms\tremaining: 1.31s\n",
      "295:\tlearn: 12.7134206\ttest: 16.2076666\tbest: 16.2060844 (292)\ttotal: 550ms\tremaining: 1.31s\n",
      "296:\tlearn: 12.7024710\ttest: 16.2060576\tbest: 16.2060576 (296)\ttotal: 552ms\tremaining: 1.31s\n",
      "297:\tlearn: 12.6762526\ttest: 16.2004895\tbest: 16.2004895 (297)\ttotal: 554ms\tremaining: 1.3s\n",
      "298:\tlearn: 12.6607144\ttest: 16.2016683\tbest: 16.2004895 (297)\ttotal: 556ms\tremaining: 1.3s\n",
      "299:\tlearn: 12.6373126\ttest: 16.2144904\tbest: 16.2004895 (297)\ttotal: 558ms\tremaining: 1.3s\n",
      "300:\tlearn: 12.6338868\ttest: 16.2148974\tbest: 16.2004895 (297)\ttotal: 559ms\tremaining: 1.3s\n",
      "301:\tlearn: 12.6305087\ttest: 16.2150117\tbest: 16.2004895 (297)\ttotal: 561ms\tremaining: 1.3s\n",
      "302:\tlearn: 12.6271544\ttest: 16.2154310\tbest: 16.2004895 (297)\ttotal: 563ms\tremaining: 1.29s\n",
      "303:\tlearn: 12.6238340\ttest: 16.2155381\tbest: 16.2004895 (297)\ttotal: 565ms\tremaining: 1.29s\n",
      "304:\tlearn: 12.6205396\ttest: 16.2169081\tbest: 16.2004895 (297)\ttotal: 566ms\tremaining: 1.29s\n",
      "305:\tlearn: 12.6069975\ttest: 16.2122239\tbest: 16.2004895 (297)\ttotal: 568ms\tremaining: 1.29s\n",
      "306:\tlearn: 12.6014541\ttest: 16.2042435\tbest: 16.2004895 (297)\ttotal: 570ms\tremaining: 1.29s\n",
      "307:\tlearn: 12.5963387\ttest: 16.2029664\tbest: 16.2004895 (297)\ttotal: 572ms\tremaining: 1.28s\n",
      "308:\tlearn: 12.5808570\ttest: 16.1878340\tbest: 16.1878340 (308)\ttotal: 575ms\tremaining: 1.28s\n",
      "309:\tlearn: 12.5748711\ttest: 16.1872889\tbest: 16.1872889 (309)\ttotal: 577ms\tremaining: 1.28s\n",
      "310:\tlearn: 12.5718185\ttest: 16.1873869\tbest: 16.1872889 (309)\ttotal: 579ms\tremaining: 1.28s\n",
      "311:\tlearn: 12.5567266\ttest: 16.1879764\tbest: 16.1872889 (309)\ttotal: 581ms\tremaining: 1.28s\n",
      "312:\tlearn: 12.5534466\ttest: 16.1884111\tbest: 16.1872889 (309)\ttotal: 583ms\tremaining: 1.28s\n",
      "313:\tlearn: 12.5500225\ttest: 16.1876079\tbest: 16.1872889 (309)\ttotal: 585ms\tremaining: 1.28s\n",
      "314:\tlearn: 12.5466436\ttest: 16.1868451\tbest: 16.1868451 (314)\ttotal: 587ms\tremaining: 1.27s\n",
      "315:\tlearn: 12.5295826\ttest: 16.1807097\tbest: 16.1807097 (315)\ttotal: 589ms\tremaining: 1.27s\n",
      "316:\tlearn: 12.5230481\ttest: 16.1752218\tbest: 16.1752218 (316)\ttotal: 592ms\tremaining: 1.27s\n",
      "317:\tlearn: 12.5199467\ttest: 16.1737092\tbest: 16.1737092 (317)\ttotal: 594ms\tremaining: 1.27s\n",
      "318:\tlearn: 12.5153789\ttest: 16.1721650\tbest: 16.1721650 (318)\ttotal: 596ms\tremaining: 1.27s\n",
      "319:\tlearn: 12.5106496\ttest: 16.1716109\tbest: 16.1716109 (319)\ttotal: 598ms\tremaining: 1.27s\n",
      "320:\tlearn: 12.5074283\ttest: 16.1729377\tbest: 16.1716109 (319)\ttotal: 600ms\tremaining: 1.27s\n",
      "321:\tlearn: 12.5041327\ttest: 16.1722513\tbest: 16.1716109 (319)\ttotal: 601ms\tremaining: 1.27s\n",
      "322:\tlearn: 12.5011300\ttest: 16.1715931\tbest: 16.1715931 (322)\ttotal: 603ms\tremaining: 1.26s\n",
      "323:\tlearn: 12.4976957\ttest: 16.1709880\tbest: 16.1709880 (323)\ttotal: 605ms\tremaining: 1.26s\n",
      "324:\tlearn: 12.4836083\ttest: 16.1672389\tbest: 16.1672389 (324)\ttotal: 607ms\tremaining: 1.26s\n",
      "325:\tlearn: 12.4708504\ttest: 16.1641817\tbest: 16.1641817 (325)\ttotal: 609ms\tremaining: 1.26s\n",
      "326:\tlearn: 12.4598492\ttest: 16.1637880\tbest: 16.1637880 (326)\ttotal: 611ms\tremaining: 1.26s\n",
      "327:\tlearn: 12.4544038\ttest: 16.1580322\tbest: 16.1580322 (327)\ttotal: 613ms\tremaining: 1.25s\n",
      "328:\tlearn: 12.4512222\ttest: 16.1574732\tbest: 16.1574732 (328)\ttotal: 615ms\tremaining: 1.25s\n",
      "329:\tlearn: 12.4480710\ttest: 16.1562171\tbest: 16.1562171 (329)\ttotal: 617ms\tremaining: 1.25s\n",
      "330:\tlearn: 12.4208003\ttest: 16.1410924\tbest: 16.1410924 (330)\ttotal: 619ms\tremaining: 1.25s\n",
      "331:\tlearn: 12.4176639\ttest: 16.1418484\tbest: 16.1410924 (330)\ttotal: 620ms\tremaining: 1.25s\n",
      "332:\tlearn: 12.4145746\ttest: 16.1413731\tbest: 16.1410924 (330)\ttotal: 622ms\tremaining: 1.25s\n",
      "333:\tlearn: 12.4115173\ttest: 16.1409236\tbest: 16.1409236 (333)\ttotal: 624ms\tremaining: 1.24s\n",
      "334:\tlearn: 12.4087391\ttest: 16.1404917\tbest: 16.1404917 (334)\ttotal: 626ms\tremaining: 1.24s\n",
      "335:\tlearn: 12.4041903\ttest: 16.1339934\tbest: 16.1339934 (335)\ttotal: 628ms\tremaining: 1.24s\n",
      "336:\tlearn: 12.3941800\ttest: 16.1303228\tbest: 16.1303228 (336)\ttotal: 629ms\tremaining: 1.24s\n",
      "337:\tlearn: 12.3873035\ttest: 16.1264192\tbest: 16.1264192 (337)\ttotal: 631ms\tremaining: 1.24s\n",
      "338:\tlearn: 12.3839825\ttest: 16.1265334\tbest: 16.1264192 (337)\ttotal: 634ms\tremaining: 1.24s\n",
      "339:\tlearn: 12.3808853\ttest: 16.1282821\tbest: 16.1264192 (337)\ttotal: 635ms\tremaining: 1.23s\n",
      "340:\tlearn: 12.3776236\ttest: 16.1273963\tbest: 16.1264192 (337)\ttotal: 637ms\tremaining: 1.23s\n",
      "341:\tlearn: 12.3676857\ttest: 16.1185156\tbest: 16.1185156 (341)\ttotal: 639ms\tremaining: 1.23s\n",
      "342:\tlearn: 12.3647114\ttest: 16.1181219\tbest: 16.1181219 (342)\ttotal: 640ms\tremaining: 1.23s\n",
      "343:\tlearn: 12.3615004\ttest: 16.1182300\tbest: 16.1181219 (342)\ttotal: 642ms\tremaining: 1.22s\n",
      "344:\tlearn: 12.3483925\ttest: 16.1111409\tbest: 16.1111409 (344)\ttotal: 644ms\tremaining: 1.22s\n",
      "345:\tlearn: 12.3408427\ttest: 16.1082888\tbest: 16.1082888 (345)\ttotal: 645ms\tremaining: 1.22s\n",
      "346:\tlearn: 12.3377994\ttest: 16.1083893\tbest: 16.1082888 (345)\ttotal: 648ms\tremaining: 1.22s\n",
      "347:\tlearn: 12.3350145\ttest: 16.1097554\tbest: 16.1082888 (345)\ttotal: 650ms\tremaining: 1.22s\n",
      "348:\tlearn: 12.3203615\ttest: 16.1081725\tbest: 16.1081725 (348)\ttotal: 652ms\tremaining: 1.22s\n",
      "349:\tlearn: 12.3176901\ttest: 16.1081810\tbest: 16.1081725 (348)\ttotal: 653ms\tremaining: 1.21s\n",
      "350:\tlearn: 12.3110463\ttest: 16.1034821\tbest: 16.1034821 (350)\ttotal: 655ms\tremaining: 1.21s\n",
      "351:\tlearn: 12.3080457\ttest: 16.1026590\tbest: 16.1026590 (351)\ttotal: 657ms\tremaining: 1.21s\n",
      "352:\tlearn: 12.3049158\ttest: 16.1027681\tbest: 16.1026590 (351)\ttotal: 659ms\tremaining: 1.21s\n",
      "353:\tlearn: 12.2836971\ttest: 16.1039986\tbest: 16.1026590 (351)\ttotal: 662ms\tremaining: 1.21s\n",
      "354:\tlearn: 12.2806017\ttest: 16.1041095\tbest: 16.1026590 (351)\ttotal: 664ms\tremaining: 1.21s\n",
      "355:\tlearn: 12.2777452\ttest: 16.1050420\tbest: 16.1026590 (351)\ttotal: 666ms\tremaining: 1.21s\n",
      "356:\tlearn: 12.2751541\ttest: 16.1038014\tbest: 16.1026590 (351)\ttotal: 668ms\tremaining: 1.2s\n",
      "357:\tlearn: 12.2722244\ttest: 16.1043080\tbest: 16.1026590 (351)\ttotal: 670ms\tremaining: 1.2s\n",
      "358:\tlearn: 12.2677479\ttest: 16.1005658\tbest: 16.1005658 (358)\ttotal: 672ms\tremaining: 1.2s\n",
      "359:\tlearn: 12.2541462\ttest: 16.0994877\tbest: 16.0994877 (359)\ttotal: 674ms\tremaining: 1.2s\n",
      "360:\tlearn: 12.2512187\ttest: 16.0995846\tbest: 16.0994877 (359)\ttotal: 675ms\tremaining: 1.2s\n",
      "361:\tlearn: 12.2482120\ttest: 16.1006222\tbest: 16.0994877 (359)\ttotal: 677ms\tremaining: 1.19s\n",
      "362:\tlearn: 12.2253572\ttest: 16.0974195\tbest: 16.0974195 (362)\ttotal: 679ms\tremaining: 1.19s\n",
      "363:\tlearn: 12.2105889\ttest: 16.1015642\tbest: 16.0974195 (362)\ttotal: 682ms\tremaining: 1.19s\n",
      "364:\tlearn: 12.1939695\ttest: 16.1102436\tbest: 16.0974195 (362)\ttotal: 684ms\tremaining: 1.19s\n",
      "365:\tlearn: 12.1740334\ttest: 16.1039608\tbest: 16.0974195 (362)\ttotal: 686ms\tremaining: 1.19s\n",
      "366:\tlearn: 12.1711441\ttest: 16.1036613\tbest: 16.0974195 (362)\ttotal: 688ms\tremaining: 1.19s\n",
      "367:\tlearn: 12.1681817\ttest: 16.1050342\tbest: 16.0974195 (362)\ttotal: 689ms\tremaining: 1.18s\n",
      "368:\tlearn: 12.1571124\ttest: 16.0907532\tbest: 16.0907532 (368)\ttotal: 691ms\tremaining: 1.18s\n",
      "369:\tlearn: 12.1541871\ttest: 16.0908634\tbest: 16.0907532 (368)\ttotal: 693ms\tremaining: 1.18s\n",
      "370:\tlearn: 12.1347370\ttest: 16.0839316\tbest: 16.0839316 (370)\ttotal: 695ms\tremaining: 1.18s\n",
      "371:\tlearn: 12.1304195\ttest: 16.0770091\tbest: 16.0770091 (371)\ttotal: 697ms\tremaining: 1.18s\n",
      "372:\tlearn: 12.1278701\ttest: 16.0775716\tbest: 16.0770091 (371)\ttotal: 699ms\tremaining: 1.17s\n",
      "373:\tlearn: 12.1232119\ttest: 16.0755057\tbest: 16.0755057 (373)\ttotal: 700ms\tremaining: 1.17s\n",
      "374:\tlearn: 12.1203480\ttest: 16.0769997\tbest: 16.0755057 (373)\ttotal: 702ms\tremaining: 1.17s\n",
      "375:\tlearn: 12.1157938\ttest: 16.0760942\tbest: 16.0755057 (373)\ttotal: 704ms\tremaining: 1.17s\n",
      "376:\tlearn: 12.1116807\ttest: 16.0753659\tbest: 16.0753659 (376)\ttotal: 706ms\tremaining: 1.17s\n",
      "377:\tlearn: 12.1089392\ttest: 16.0750836\tbest: 16.0750836 (377)\ttotal: 708ms\tremaining: 1.16s\n",
      "378:\tlearn: 12.0951012\ttest: 16.0772045\tbest: 16.0750836 (377)\ttotal: 709ms\tremaining: 1.16s\n",
      "379:\tlearn: 12.0925051\ttest: 16.0773018\tbest: 16.0750836 (377)\ttotal: 711ms\tremaining: 1.16s\n",
      "380:\tlearn: 12.0848025\ttest: 16.0742342\tbest: 16.0742342 (380)\ttotal: 713ms\tremaining: 1.16s\n",
      "381:\tlearn: 12.0823127\ttest: 16.0760411\tbest: 16.0742342 (380)\ttotal: 715ms\tremaining: 1.16s\n",
      "382:\tlearn: 12.0625517\ttest: 16.0752438\tbest: 16.0742342 (380)\ttotal: 717ms\tremaining: 1.16s\n",
      "383:\tlearn: 12.0597232\ttest: 16.0753425\tbest: 16.0742342 (380)\ttotal: 719ms\tremaining: 1.15s\n",
      "384:\tlearn: 12.0495041\ttest: 16.0621978\tbest: 16.0621978 (384)\ttotal: 721ms\tremaining: 1.15s\n",
      "385:\tlearn: 12.0420023\ttest: 16.0530578\tbest: 16.0530578 (385)\ttotal: 723ms\tremaining: 1.15s\n",
      "386:\tlearn: 12.0264258\ttest: 16.0503611\tbest: 16.0503611 (386)\ttotal: 725ms\tremaining: 1.15s\n",
      "387:\tlearn: 12.0089913\ttest: 16.0477582\tbest: 16.0477582 (387)\ttotal: 727ms\tremaining: 1.15s\n",
      "388:\tlearn: 11.9969588\ttest: 16.0452694\tbest: 16.0452694 (388)\ttotal: 730ms\tremaining: 1.15s\n",
      "389:\tlearn: 11.9877080\ttest: 16.0429608\tbest: 16.0429608 (389)\ttotal: 733ms\tremaining: 1.15s\n",
      "390:\tlearn: 11.9833969\ttest: 16.0414157\tbest: 16.0414157 (390)\ttotal: 734ms\tremaining: 1.14s\n",
      "391:\tlearn: 11.9735862\ttest: 16.0406638\tbest: 16.0406638 (391)\ttotal: 736ms\tremaining: 1.14s\n",
      "392:\tlearn: 11.9707396\ttest: 16.0412109\tbest: 16.0406638 (391)\ttotal: 738ms\tremaining: 1.14s\n",
      "393:\tlearn: 11.9685099\ttest: 16.0417575\tbest: 16.0406638 (391)\ttotal: 739ms\tremaining: 1.14s\n",
      "394:\tlearn: 11.9657336\ttest: 16.0418735\tbest: 16.0406638 (391)\ttotal: 741ms\tremaining: 1.14s\n",
      "395:\tlearn: 11.9629423\ttest: 16.0419833\tbest: 16.0406638 (391)\ttotal: 743ms\tremaining: 1.13s\n",
      "396:\tlearn: 11.9348544\ttest: 16.0488691\tbest: 16.0406638 (391)\ttotal: 745ms\tremaining: 1.13s\n",
      "397:\tlearn: 11.9180072\ttest: 16.0407151\tbest: 16.0406638 (391)\ttotal: 747ms\tremaining: 1.13s\n",
      "398:\tlearn: 11.9106622\ttest: 16.0401023\tbest: 16.0401023 (398)\ttotal: 749ms\tremaining: 1.13s\n",
      "399:\tlearn: 11.9078664\ttest: 16.0389136\tbest: 16.0389136 (399)\ttotal: 751ms\tremaining: 1.13s\n",
      "400:\tlearn: 11.9038582\ttest: 16.0319196\tbest: 16.0319196 (400)\ttotal: 753ms\tremaining: 1.12s\n",
      "401:\tlearn: 11.9010960\ttest: 16.0320286\tbest: 16.0319196 (400)\ttotal: 756ms\tremaining: 1.12s\n",
      "402:\tlearn: 11.8797078\ttest: 16.0199387\tbest: 16.0199387 (402)\ttotal: 758ms\tremaining: 1.12s\n",
      "403:\tlearn: 11.8769831\ttest: 16.0196117\tbest: 16.0196117 (403)\ttotal: 759ms\tremaining: 1.12s\n",
      "404:\tlearn: 11.8642353\ttest: 16.0146344\tbest: 16.0146344 (404)\ttotal: 761ms\tremaining: 1.12s\n",
      "405:\tlearn: 11.8616079\ttest: 16.0144017\tbest: 16.0144017 (405)\ttotal: 763ms\tremaining: 1.12s\n",
      "406:\tlearn: 11.8589208\ttest: 16.0149630\tbest: 16.0144017 (405)\ttotal: 765ms\tremaining: 1.11s\n",
      "407:\tlearn: 11.8565440\ttest: 16.0154989\tbest: 16.0144017 (405)\ttotal: 767ms\tremaining: 1.11s\n",
      "408:\tlearn: 11.8538365\ttest: 16.0168698\tbest: 16.0144017 (405)\ttotal: 770ms\tremaining: 1.11s\n",
      "409:\tlearn: 11.8502891\ttest: 16.0151099\tbest: 16.0144017 (405)\ttotal: 772ms\tremaining: 1.11s\n",
      "410:\tlearn: 11.8417924\ttest: 16.0106884\tbest: 16.0106884 (410)\ttotal: 774ms\tremaining: 1.11s\n",
      "411:\tlearn: 11.8392220\ttest: 16.0104682\tbest: 16.0104682 (411)\ttotal: 776ms\tremaining: 1.11s\n",
      "412:\tlearn: 11.8365061\ttest: 16.0105728\tbest: 16.0104682 (411)\ttotal: 778ms\tremaining: 1.1s\n",
      "413:\tlearn: 11.8338286\ttest: 16.0090085\tbest: 16.0090085 (413)\ttotal: 780ms\tremaining: 1.1s\n",
      "414:\tlearn: 11.8128947\ttest: 16.0093726\tbest: 16.0090085 (413)\ttotal: 783ms\tremaining: 1.1s\n",
      "415:\tlearn: 11.8077474\ttest: 16.0067400\tbest: 16.0067400 (415)\ttotal: 785ms\tremaining: 1.1s\n",
      "416:\tlearn: 11.8032907\ttest: 16.0067324\tbest: 16.0067324 (416)\ttotal: 786ms\tremaining: 1.1s\n",
      "417:\tlearn: 11.8003665\ttest: 16.0021563\tbest: 16.0021563 (417)\ttotal: 788ms\tremaining: 1.1s\n",
      "418:\tlearn: 11.7976962\ttest: 16.0022579\tbest: 16.0021563 (417)\ttotal: 790ms\tremaining: 1.1s\n",
      "419:\tlearn: 11.7950423\ttest: 16.0023564\tbest: 16.0021563 (417)\ttotal: 792ms\tremaining: 1.09s\n",
      "420:\tlearn: 11.7923927\ttest: 16.0047001\tbest: 16.0021563 (417)\ttotal: 794ms\tremaining: 1.09s\n",
      "421:\tlearn: 11.7714327\ttest: 16.0048676\tbest: 16.0021563 (417)\ttotal: 797ms\tremaining: 1.09s\n",
      "422:\tlearn: 11.7689627\ttest: 16.0030258\tbest: 16.0021563 (417)\ttotal: 799ms\tremaining: 1.09s\n",
      "423:\tlearn: 11.7663308\ttest: 16.0036064\tbest: 16.0021563 (417)\ttotal: 802ms\tremaining: 1.09s\n",
      "424:\tlearn: 11.7628527\ttest: 15.9968713\tbest: 15.9968713 (424)\ttotal: 803ms\tremaining: 1.09s\n",
      "425:\tlearn: 11.7565101\ttest: 15.9933474\tbest: 15.9933474 (425)\ttotal: 806ms\tremaining: 1.08s\n",
      "426:\tlearn: 11.7461209\ttest: 15.9878905\tbest: 15.9878905 (426)\ttotal: 807ms\tremaining: 1.08s\n",
      "427:\tlearn: 11.7436273\ttest: 15.9877018\tbest: 15.9877018 (427)\ttotal: 810ms\tremaining: 1.08s\n",
      "428:\tlearn: 11.7359691\ttest: 15.9893584\tbest: 15.9877018 (427)\ttotal: 812ms\tremaining: 1.08s\n",
      "429:\tlearn: 11.7336784\ttest: 15.9898918\tbest: 15.9877018 (427)\ttotal: 814ms\tremaining: 1.08s\n",
      "430:\tlearn: 11.7310731\ttest: 15.9899904\tbest: 15.9877018 (427)\ttotal: 816ms\tremaining: 1.08s\n",
      "431:\tlearn: 11.7102951\ttest: 15.9810487\tbest: 15.9810487 (431)\ttotal: 818ms\tremaining: 1.07s\n",
      "432:\tlearn: 11.7077524\ttest: 15.9811481\tbest: 15.9810487 (431)\ttotal: 820ms\tremaining: 1.07s\n",
      "433:\tlearn: 11.6994630\ttest: 15.9762849\tbest: 15.9762849 (433)\ttotal: 822ms\tremaining: 1.07s\n",
      "434:\tlearn: 11.6956756\ttest: 15.9687482\tbest: 15.9687482 (434)\ttotal: 824ms\tremaining: 1.07s\n",
      "435:\tlearn: 11.6931909\ttest: 15.9685708\tbest: 15.9685708 (435)\ttotal: 825ms\tremaining: 1.07s\n",
      "436:\tlearn: 11.6768349\ttest: 15.9642149\tbest: 15.9642149 (436)\ttotal: 827ms\tremaining: 1.06s\n",
      "437:\tlearn: 11.6701671\ttest: 15.9568746\tbest: 15.9568746 (437)\ttotal: 829ms\tremaining: 1.06s\n",
      "438:\tlearn: 11.6675842\ttest: 15.9582183\tbest: 15.9568746 (437)\ttotal: 830ms\tremaining: 1.06s\n",
      "439:\tlearn: 11.6650813\ttest: 15.9592759\tbest: 15.9568746 (437)\ttotal: 832ms\tremaining: 1.06s\n",
      "440:\tlearn: 11.6543830\ttest: 15.9585182\tbest: 15.9568746 (437)\ttotal: 834ms\tremaining: 1.06s\n",
      "441:\tlearn: 11.6518317\ttest: 15.9586186\tbest: 15.9568746 (437)\ttotal: 836ms\tremaining: 1.05s\n",
      "442:\tlearn: 11.6453217\ttest: 15.9538406\tbest: 15.9538406 (442)\ttotal: 838ms\tremaining: 1.05s\n",
      "443:\tlearn: 11.6401321\ttest: 15.9508222\tbest: 15.9508222 (443)\ttotal: 840ms\tremaining: 1.05s\n",
      "444:\tlearn: 11.6368285\ttest: 15.9484918\tbest: 15.9484918 (444)\ttotal: 841ms\tremaining: 1.05s\n",
      "445:\tlearn: 11.6342832\ttest: 15.9486042\tbest: 15.9484918 (444)\ttotal: 843ms\tremaining: 1.05s\n",
      "446:\tlearn: 11.6318830\ttest: 15.9484445\tbest: 15.9484445 (446)\ttotal: 845ms\tremaining: 1.04s\n",
      "447:\tlearn: 11.6294312\ttest: 15.9497959\tbest: 15.9484445 (446)\ttotal: 847ms\tremaining: 1.04s\n",
      "448:\tlearn: 11.6182088\ttest: 15.9470674\tbest: 15.9470674 (448)\ttotal: 849ms\tremaining: 1.04s\n",
      "449:\tlearn: 11.6156862\ttest: 15.9460512\tbest: 15.9460512 (449)\ttotal: 851ms\tremaining: 1.04s\n",
      "450:\tlearn: 11.6123449\ttest: 15.9442482\tbest: 15.9442482 (450)\ttotal: 853ms\tremaining: 1.04s\n",
      "451:\tlearn: 11.6095916\ttest: 15.9409164\tbest: 15.9409164 (451)\ttotal: 854ms\tremaining: 1.03s\n",
      "452:\tlearn: 11.6072282\ttest: 15.9407494\tbest: 15.9407494 (452)\ttotal: 856ms\tremaining: 1.03s\n",
      "453:\tlearn: 11.6047338\ttest: 15.9408407\tbest: 15.9407494 (452)\ttotal: 858ms\tremaining: 1.03s\n",
      "454:\tlearn: 11.5979623\ttest: 15.9373913\tbest: 15.9373913 (454)\ttotal: 860ms\tremaining: 1.03s\n",
      "455:\tlearn: 11.5956650\ttest: 15.9374740\tbest: 15.9373913 (454)\ttotal: 862ms\tremaining: 1.03s\n",
      "456:\tlearn: 11.5931837\ttest: 15.9375613\tbest: 15.9373913 (454)\ttotal: 864ms\tremaining: 1.03s\n",
      "457:\tlearn: 11.5831306\ttest: 15.9370066\tbest: 15.9370066 (457)\ttotal: 866ms\tremaining: 1.02s\n",
      "458:\tlearn: 11.5807215\ttest: 15.9383429\tbest: 15.9370066 (457)\ttotal: 868ms\tremaining: 1.02s\n",
      "459:\tlearn: 11.5782543\ttest: 15.9383216\tbest: 15.9370066 (457)\ttotal: 870ms\tremaining: 1.02s\n",
      "460:\tlearn: 11.5757988\ttest: 15.9384037\tbest: 15.9370066 (457)\ttotal: 871ms\tremaining: 1.02s\n",
      "461:\tlearn: 11.5635717\ttest: 15.9435253\tbest: 15.9370066 (457)\ttotal: 873ms\tremaining: 1.02s\n",
      "462:\tlearn: 11.5611178\ttest: 15.9436039\tbest: 15.9370066 (457)\ttotal: 875ms\tremaining: 1.01s\n",
      "463:\tlearn: 11.5588142\ttest: 15.9434327\tbest: 15.9370066 (457)\ttotal: 877ms\tremaining: 1.01s\n",
      "464:\tlearn: 11.5564597\ttest: 15.9435085\tbest: 15.9370066 (457)\ttotal: 879ms\tremaining: 1.01s\n",
      "465:\tlearn: 11.5540366\ttest: 15.9448300\tbest: 15.9370066 (457)\ttotal: 881ms\tremaining: 1.01s\n",
      "466:\tlearn: 11.5437820\ttest: 15.9485511\tbest: 15.9370066 (457)\ttotal: 883ms\tremaining: 1.01s\n",
      "467:\tlearn: 11.5380897\ttest: 15.9480375\tbest: 15.9370066 (457)\ttotal: 885ms\tremaining: 1.01s\n",
      "468:\tlearn: 11.5349409\ttest: 15.9469440\tbest: 15.9370066 (457)\ttotal: 887ms\tremaining: 1s\n",
      "469:\tlearn: 11.5226559\ttest: 15.9483309\tbest: 15.9370066 (457)\ttotal: 889ms\tremaining: 1s\n",
      "470:\tlearn: 11.5203820\ttest: 15.9481863\tbest: 15.9370066 (457)\ttotal: 891ms\tremaining: 1s\n",
      "471:\tlearn: 11.5179654\ttest: 15.9487629\tbest: 15.9370066 (457)\ttotal: 893ms\tremaining: 998ms\n",
      "472:\tlearn: 11.5155644\ttest: 15.9488448\tbest: 15.9370066 (457)\ttotal: 894ms\tremaining: 996ms\n",
      "473:\tlearn: 11.4953522\ttest: 15.9471747\tbest: 15.9370066 (457)\ttotal: 896ms\tremaining: 994ms\n",
      "474:\tlearn: 11.4638702\ttest: 15.9460665\tbest: 15.9370066 (457)\ttotal: 898ms\tremaining: 992ms\n",
      "475:\tlearn: 11.4614453\ttest: 15.9461539\tbest: 15.9370066 (457)\ttotal: 900ms\tremaining: 991ms\n",
      "476:\tlearn: 11.4591354\ttest: 15.9462382\tbest: 15.9370066 (457)\ttotal: 901ms\tremaining: 988ms\n",
      "477:\tlearn: 11.4396464\ttest: 15.9347695\tbest: 15.9347695 (477)\ttotal: 903ms\tremaining: 987ms\n",
      "478:\tlearn: 11.4372537\ttest: 15.9348524\tbest: 15.9347695 (477)\ttotal: 905ms\tremaining: 985ms\n",
      "479:\tlearn: 11.4204830\ttest: 15.9281099\tbest: 15.9281099 (479)\ttotal: 907ms\tremaining: 983ms\n",
      "480:\tlearn: 11.4182710\ttest: 15.9284905\tbest: 15.9281099 (479)\ttotal: 910ms\tremaining: 981ms\n",
      "481:\tlearn: 11.4159003\ttest: 15.9285738\tbest: 15.9281099 (479)\ttotal: 911ms\tremaining: 979ms\n",
      "482:\tlearn: 11.3935525\ttest: 15.9332689\tbest: 15.9281099 (479)\ttotal: 913ms\tremaining: 977ms\n",
      "483:\tlearn: 11.3825135\ttest: 15.9301504\tbest: 15.9281099 (479)\ttotal: 915ms\tremaining: 976ms\n",
      "484:\tlearn: 11.3644521\ttest: 15.9244733\tbest: 15.9244733 (484)\ttotal: 917ms\tremaining: 973ms\n",
      "485:\tlearn: 11.3621198\ttest: 15.9230723\tbest: 15.9230723 (485)\ttotal: 919ms\tremaining: 972ms\n",
      "486:\tlearn: 11.3581553\ttest: 15.9170515\tbest: 15.9170515 (486)\ttotal: 920ms\tremaining: 969ms\n",
      "487:\tlearn: 11.3558862\ttest: 15.9184303\tbest: 15.9170515 (486)\ttotal: 929ms\tremaining: 974ms\n",
      "488:\tlearn: 11.3518157\ttest: 15.9176536\tbest: 15.9170515 (486)\ttotal: 930ms\tremaining: 972ms\n",
      "489:\tlearn: 11.3495653\ttest: 15.9177527\tbest: 15.9170515 (486)\ttotal: 932ms\tremaining: 970ms\n",
      "490:\tlearn: 11.3461730\ttest: 15.9116689\tbest: 15.9116689 (490)\ttotal: 934ms\tremaining: 968ms\n",
      "491:\tlearn: 11.3389896\ttest: 15.9116171\tbest: 15.9116171 (491)\ttotal: 936ms\tremaining: 967ms\n",
      "492:\tlearn: 11.3342080\ttest: 15.9088910\tbest: 15.9088910 (492)\ttotal: 938ms\tremaining: 965ms\n",
      "493:\tlearn: 11.3311899\ttest: 15.9033745\tbest: 15.9033745 (493)\ttotal: 940ms\tremaining: 963ms\n",
      "494:\tlearn: 11.3288344\ttest: 15.9034811\tbest: 15.9033745 (493)\ttotal: 942ms\tremaining: 961ms\n",
      "495:\tlearn: 11.3267772\ttest: 15.9033857\tbest: 15.9033745 (493)\ttotal: 944ms\tremaining: 959ms\n",
      "496:\tlearn: 11.3170533\ttest: 15.9003795\tbest: 15.9003795 (496)\ttotal: 946ms\tremaining: 957ms\n",
      "497:\tlearn: 11.3147220\ttest: 15.8990347\tbest: 15.8990347 (497)\ttotal: 948ms\tremaining: 955ms\n",
      "498:\tlearn: 11.2910613\ttest: 15.9011319\tbest: 15.8990347 (497)\ttotal: 950ms\tremaining: 953ms\n",
      "499:\tlearn: 11.2867736\ttest: 15.8987893\tbest: 15.8987893 (499)\ttotal: 951ms\tremaining: 951ms\n",
      "500:\tlearn: 11.2755823\ttest: 15.8984593\tbest: 15.8984593 (500)\ttotal: 953ms\tremaining: 949ms\n",
      "501:\tlearn: 11.2547676\ttest: 15.8942830\tbest: 15.8942830 (501)\ttotal: 955ms\tremaining: 947ms\n",
      "502:\tlearn: 11.2473167\ttest: 15.8954797\tbest: 15.8942830 (501)\ttotal: 957ms\tremaining: 945ms\n",
      "503:\tlearn: 11.2449703\ttest: 15.8955832\tbest: 15.8942830 (501)\ttotal: 958ms\tremaining: 943ms\n",
      "504:\tlearn: 11.2323660\ttest: 15.8938322\tbest: 15.8938322 (504)\ttotal: 960ms\tremaining: 941ms\n",
      "505:\tlearn: 11.2295196\ttest: 15.8934995\tbest: 15.8934995 (505)\ttotal: 965ms\tremaining: 942ms\n",
      "506:\tlearn: 11.2202880\ttest: 15.8919216\tbest: 15.8919216 (506)\ttotal: 967ms\tremaining: 940ms\n",
      "507:\tlearn: 11.2179578\ttest: 15.8920217\tbest: 15.8919216 (506)\ttotal: 969ms\tremaining: 938ms\n",
      "508:\tlearn: 11.2158053\ttest: 15.8932047\tbest: 15.8919216 (506)\ttotal: 970ms\tremaining: 936ms\n",
      "509:\tlearn: 11.2106536\ttest: 15.8920050\tbest: 15.8919216 (506)\ttotal: 972ms\tremaining: 934ms\n",
      "510:\tlearn: 11.1984038\ttest: 15.8930011\tbest: 15.8919216 (506)\ttotal: 974ms\tremaining: 932ms\n",
      "511:\tlearn: 11.1961296\ttest: 15.8936264\tbest: 15.8919216 (506)\ttotal: 976ms\tremaining: 930ms\n",
      "512:\tlearn: 11.1928502\ttest: 15.8918184\tbest: 15.8918184 (512)\ttotal: 978ms\tremaining: 929ms\n",
      "513:\tlearn: 11.1905570\ttest: 15.8919210\tbest: 15.8918184 (512)\ttotal: 980ms\tremaining: 927ms\n",
      "514:\tlearn: 11.1882738\ttest: 15.8920207\tbest: 15.8918184 (512)\ttotal: 983ms\tremaining: 925ms\n",
      "515:\tlearn: 11.1853944\ttest: 15.8926213\tbest: 15.8918184 (512)\ttotal: 984ms\tremaining: 923ms\n",
      "516:\tlearn: 11.1831163\ttest: 15.8927194\tbest: 15.8918184 (512)\ttotal: 986ms\tremaining: 922ms\n",
      "517:\tlearn: 11.1811162\ttest: 15.8932327\tbest: 15.8918184 (512)\ttotal: 988ms\tremaining: 920ms\n",
      "518:\tlearn: 11.1755620\ttest: 15.8931013\tbest: 15.8918184 (512)\ttotal: 990ms\tremaining: 918ms\n",
      "519:\tlearn: 11.1733997\ttest: 15.8930635\tbest: 15.8918184 (512)\ttotal: 992ms\tremaining: 916ms\n",
      "520:\tlearn: 11.1712192\ttest: 15.8877822\tbest: 15.8877822 (520)\ttotal: 994ms\tremaining: 914ms\n",
      "521:\tlearn: 11.1689668\ttest: 15.8878756\tbest: 15.8877822 (520)\ttotal: 996ms\tremaining: 912ms\n",
      "522:\tlearn: 11.1628336\ttest: 15.8893383\tbest: 15.8877822 (520)\ttotal: 998ms\tremaining: 910ms\n",
      "523:\tlearn: 11.1449614\ttest: 15.8873853\tbest: 15.8873853 (523)\ttotal: 1s\tremaining: 908ms\n",
      "524:\tlearn: 11.1427029\ttest: 15.8874890\tbest: 15.8873853 (523)\ttotal: 1s\tremaining: 906ms\n",
      "525:\tlearn: 11.1404594\ttest: 15.8881047\tbest: 15.8873853 (523)\ttotal: 1s\tremaining: 904ms\n",
      "526:\tlearn: 11.1299714\ttest: 15.8877395\tbest: 15.8873853 (523)\ttotal: 1s\tremaining: 902ms\n",
      "527:\tlearn: 11.1277319\ttest: 15.8878405\tbest: 15.8873853 (523)\ttotal: 1.01s\tremaining: 900ms\n",
      "528:\tlearn: 11.1201040\ttest: 15.8856891\tbest: 15.8856891 (528)\ttotal: 1.01s\tremaining: 898ms\n",
      "529:\tlearn: 11.1180357\ttest: 15.8856199\tbest: 15.8856199 (529)\ttotal: 1.01s\tremaining: 897ms\n",
      "530:\tlearn: 11.1109425\ttest: 15.8842385\tbest: 15.8842385 (530)\ttotal: 1.01s\tremaining: 896ms\n",
      "531:\tlearn: 11.1086695\ttest: 15.8826513\tbest: 15.8826513 (531)\ttotal: 1.01s\tremaining: 894ms\n",
      "532:\tlearn: 11.1064521\ttest: 15.8840265\tbest: 15.8826513 (531)\ttotal: 1.02s\tremaining: 892ms\n",
      "533:\tlearn: 11.1044114\ttest: 15.8839617\tbest: 15.8826513 (531)\ttotal: 1.02s\tremaining: 890ms\n",
      "534:\tlearn: 11.0813807\ttest: 15.8731239\tbest: 15.8731239 (534)\ttotal: 1.02s\tremaining: 888ms\n",
      "535:\tlearn: 11.0644592\ttest: 15.8781143\tbest: 15.8731239 (534)\ttotal: 1.02s\tremaining: 886ms\n",
      "536:\tlearn: 11.0473960\ttest: 15.8749895\tbest: 15.8731239 (534)\ttotal: 1.02s\tremaining: 884ms\n",
      "537:\tlearn: 11.0389228\ttest: 15.8771653\tbest: 15.8731239 (534)\ttotal: 1.03s\tremaining: 882ms\n",
      "538:\tlearn: 11.0370879\ttest: 15.8776665\tbest: 15.8731239 (534)\ttotal: 1.03s\tremaining: 880ms\n",
      "539:\tlearn: 11.0348849\ttest: 15.8777571\tbest: 15.8731239 (534)\ttotal: 1.03s\tremaining: 878ms\n",
      "540:\tlearn: 11.0319358\ttest: 15.8774755\tbest: 15.8731239 (534)\ttotal: 1.03s\tremaining: 875ms\n",
      "541:\tlearn: 11.0297446\ttest: 15.8775677\tbest: 15.8731239 (534)\ttotal: 1.03s\tremaining: 873ms\n",
      "542:\tlearn: 11.0276758\ttest: 15.8776550\tbest: 15.8731239 (534)\ttotal: 1.03s\tremaining: 871ms\n",
      "543:\tlearn: 11.0254986\ttest: 15.8782752\tbest: 15.8731239 (534)\ttotal: 1.04s\tremaining: 869ms\n",
      "544:\tlearn: 11.0135244\ttest: 15.8756037\tbest: 15.8731239 (534)\ttotal: 1.04s\tremaining: 867ms\n",
      "545:\tlearn: 11.0074724\ttest: 15.8740744\tbest: 15.8731239 (534)\ttotal: 1.04s\tremaining: 865ms\n",
      "546:\tlearn: 11.0052992\ttest: 15.8741598\tbest: 15.8731239 (534)\ttotal: 1.04s\tremaining: 864ms\n",
      "547:\tlearn: 11.0004379\ttest: 15.8731157\tbest: 15.8731157 (547)\ttotal: 1.04s\tremaining: 862ms\n",
      "548:\tlearn: 10.9901339\ttest: 15.8722148\tbest: 15.8722148 (548)\ttotal: 1.05s\tremaining: 860ms\n",
      "549:\tlearn: 10.9879679\ttest: 15.8722969\tbest: 15.8722148 (548)\ttotal: 1.05s\tremaining: 859ms\n",
      "550:\tlearn: 10.9856664\ttest: 15.8707320\tbest: 15.8707320 (550)\ttotal: 1.05s\tremaining: 857ms\n",
      "551:\tlearn: 10.9836429\ttest: 15.8708071\tbest: 15.8707320 (550)\ttotal: 1.05s\tremaining: 855ms\n",
      "552:\tlearn: 10.9719167\ttest: 15.8662667\tbest: 15.8662667 (552)\ttotal: 1.05s\tremaining: 853ms\n",
      "553:\tlearn: 10.9697789\ttest: 15.8663518\tbest: 15.8662667 (552)\ttotal: 1.06s\tremaining: 851ms\n",
      "554:\tlearn: 10.9675242\ttest: 15.8648453\tbest: 15.8648453 (554)\ttotal: 1.06s\tremaining: 849ms\n",
      "555:\tlearn: 10.9652963\ttest: 15.8633856\tbest: 15.8633856 (555)\ttotal: 1.06s\tremaining: 848ms\n",
      "556:\tlearn: 10.9485149\ttest: 15.8605218\tbest: 15.8605218 (556)\ttotal: 1.06s\tremaining: 846ms\n",
      "557:\tlearn: 10.9466645\ttest: 15.8619154\tbest: 15.8605218 (556)\ttotal: 1.06s\tremaining: 844ms\n",
      "558:\tlearn: 10.9444676\ttest: 15.8604990\tbest: 15.8604990 (558)\ttotal: 1.07s\tremaining: 842ms\n",
      "559:\tlearn: 10.9411611\ttest: 15.8544648\tbest: 15.8544648 (559)\ttotal: 1.07s\tremaining: 840ms\n",
      "560:\tlearn: 10.9389893\ttest: 15.8543449\tbest: 15.8543449 (560)\ttotal: 1.07s\tremaining: 839ms\n",
      "561:\tlearn: 10.9368390\ttest: 15.8530172\tbest: 15.8530172 (561)\ttotal: 1.07s\tremaining: 837ms\n",
      "562:\tlearn: 10.9331087\ttest: 15.8498376\tbest: 15.8498376 (562)\ttotal: 1.07s\tremaining: 835ms\n",
      "563:\tlearn: 10.9144852\ttest: 15.8490672\tbest: 15.8490672 (563)\ttotal: 1.08s\tremaining: 833ms\n",
      "564:\tlearn: 10.9125427\ttest: 15.8490107\tbest: 15.8490107 (564)\ttotal: 1.08s\tremaining: 831ms\n",
      "565:\tlearn: 10.9106182\ttest: 15.8489602\tbest: 15.8489602 (565)\ttotal: 1.08s\tremaining: 829ms\n",
      "566:\tlearn: 10.9078193\ttest: 15.8480420\tbest: 15.8480420 (566)\ttotal: 1.08s\tremaining: 827ms\n",
      "567:\tlearn: 10.9028256\ttest: 15.8471925\tbest: 15.8471925 (567)\ttotal: 1.08s\tremaining: 826ms\n",
      "568:\tlearn: 10.9008727\ttest: 15.8487818\tbest: 15.8471925 (567)\ttotal: 1.09s\tremaining: 824ms\n",
      "569:\tlearn: 10.8988003\ttest: 15.8488776\tbest: 15.8471925 (567)\ttotal: 1.09s\tremaining: 822ms\n",
      "570:\tlearn: 10.8927789\ttest: 15.8505256\tbest: 15.8471925 (567)\ttotal: 1.09s\tremaining: 820ms\n",
      "571:\tlearn: 10.8907102\ttest: 15.8506174\tbest: 15.8471925 (567)\ttotal: 1.09s\tremaining: 819ms\n",
      "572:\tlearn: 10.8886067\ttest: 15.8493405\tbest: 15.8471925 (567)\ttotal: 1.1s\tremaining: 818ms\n",
      "573:\tlearn: 10.8865504\ttest: 15.8506765\tbest: 15.8471925 (567)\ttotal: 1.1s\tremaining: 816ms\n",
      "574:\tlearn: 10.8694918\ttest: 15.8505748\tbest: 15.8471925 (567)\ttotal: 1.1s\tremaining: 814ms\n",
      "575:\tlearn: 10.8532976\ttest: 15.8565604\tbest: 15.8471925 (567)\ttotal: 1.1s\tremaining: 813ms\n",
      "576:\tlearn: 10.8387658\ttest: 15.8533770\tbest: 15.8471925 (567)\ttotal: 1.1s\tremaining: 811ms\n",
      "577:\tlearn: 10.8227245\ttest: 15.8470578\tbest: 15.8470578 (577)\ttotal: 1.11s\tremaining: 809ms\n",
      "578:\tlearn: 10.8004427\ttest: 15.8437764\tbest: 15.8437764 (578)\ttotal: 1.11s\tremaining: 807ms\n",
      "579:\tlearn: 10.7983734\ttest: 15.8444204\tbest: 15.8437764 (578)\ttotal: 1.11s\tremaining: 805ms\n",
      "580:\tlearn: 10.7964570\ttest: 15.8445141\tbest: 15.8437764 (578)\ttotal: 1.11s\tremaining: 803ms\n",
      "581:\tlearn: 10.7846162\ttest: 15.8478828\tbest: 15.8437764 (578)\ttotal: 1.12s\tremaining: 802ms\n",
      "582:\tlearn: 10.7825767\ttest: 15.8479780\tbest: 15.8437764 (578)\ttotal: 1.12s\tremaining: 801ms\n",
      "583:\tlearn: 10.7652318\ttest: 15.8451224\tbest: 15.8437764 (578)\ttotal: 1.12s\tremaining: 799ms\n",
      "584:\tlearn: 10.7634132\ttest: 15.8452124\tbest: 15.8437764 (578)\ttotal: 1.12s\tremaining: 797ms\n",
      "585:\tlearn: 10.7490674\ttest: 15.8375961\tbest: 15.8375961 (585)\ttotal: 1.13s\tremaining: 795ms\n",
      "586:\tlearn: 10.7471428\ttest: 15.8386388\tbest: 15.8375961 (585)\ttotal: 1.13s\tremaining: 794ms\n",
      "587:\tlearn: 10.7346971\ttest: 15.8390630\tbest: 15.8375961 (585)\ttotal: 1.13s\tremaining: 792ms\n",
      "588:\tlearn: 10.7235638\ttest: 15.8374876\tbest: 15.8374876 (588)\ttotal: 1.13s\tremaining: 791ms\n",
      "589:\tlearn: 10.7071880\ttest: 15.8413944\tbest: 15.8374876 (588)\ttotal: 1.14s\tremaining: 789ms\n",
      "590:\tlearn: 10.7053992\ttest: 15.8418951\tbest: 15.8374876 (588)\ttotal: 1.14s\tremaining: 788ms\n",
      "591:\tlearn: 10.7033952\ttest: 15.8419960\tbest: 15.8374876 (588)\ttotal: 1.14s\tremaining: 786ms\n",
      "592:\tlearn: 10.6953422\ttest: 15.8402403\tbest: 15.8374876 (588)\ttotal: 1.14s\tremaining: 784ms\n",
      "593:\tlearn: 10.6820256\ttest: 15.8379608\tbest: 15.8374876 (588)\ttotal: 1.14s\tremaining: 782ms\n",
      "594:\tlearn: 10.6800267\ttest: 15.8395732\tbest: 15.8374876 (588)\ttotal: 1.15s\tremaining: 780ms\n",
      "595:\tlearn: 10.6772597\ttest: 15.8352717\tbest: 15.8352717 (595)\ttotal: 1.15s\tremaining: 778ms\n",
      "596:\tlearn: 10.6753903\ttest: 15.8353731\tbest: 15.8352717 (595)\ttotal: 1.15s\tremaining: 777ms\n",
      "597:\tlearn: 10.6701170\ttest: 15.8333138\tbest: 15.8333138 (597)\ttotal: 1.15s\tremaining: 775ms\n",
      "598:\tlearn: 10.6684262\ttest: 15.8332788\tbest: 15.8332788 (598)\ttotal: 1.15s\tremaining: 773ms\n",
      "599:\tlearn: 10.6665636\ttest: 15.8346211\tbest: 15.8332788 (598)\ttotal: 1.16s\tremaining: 771ms\n",
      "600:\tlearn: 10.6639419\ttest: 15.8314651\tbest: 15.8314651 (600)\ttotal: 1.16s\tremaining: 770ms\n",
      "601:\tlearn: 10.6620920\ttest: 15.8315614\tbest: 15.8314651 (600)\ttotal: 1.16s\tremaining: 768ms\n",
      "602:\tlearn: 10.6590996\ttest: 15.8315264\tbest: 15.8314651 (600)\ttotal: 1.16s\tremaining: 766ms\n",
      "603:\tlearn: 10.6553088\ttest: 15.8297480\tbest: 15.8297480 (603)\ttotal: 1.17s\tremaining: 764ms\n",
      "604:\tlearn: 10.6533376\ttest: 15.8298526\tbest: 15.8297480 (603)\ttotal: 1.17s\tremaining: 762ms\n",
      "605:\tlearn: 10.6516749\ttest: 15.8298260\tbest: 15.8297480 (603)\ttotal: 1.17s\tremaining: 760ms\n",
      "606:\tlearn: 10.6497214\ttest: 15.8304833\tbest: 15.8297480 (603)\ttotal: 1.17s\tremaining: 759ms\n",
      "607:\tlearn: 10.6482122\ttest: 15.8309593\tbest: 15.8297480 (603)\ttotal: 1.17s\tremaining: 757ms\n",
      "608:\tlearn: 10.6462686\ttest: 15.8320040\tbest: 15.8297480 (603)\ttotal: 1.18s\tremaining: 755ms\n",
      "609:\tlearn: 10.6443312\ttest: 15.8320959\tbest: 15.8297480 (603)\ttotal: 1.18s\tremaining: 753ms\n",
      "610:\tlearn: 10.6257565\ttest: 15.8274817\tbest: 15.8274817 (610)\ttotal: 1.18s\tremaining: 751ms\n",
      "611:\tlearn: 10.6122343\ttest: 15.8229728\tbest: 15.8229728 (611)\ttotal: 1.18s\tremaining: 749ms\n",
      "612:\tlearn: 10.6105057\ttest: 15.8230579\tbest: 15.8229728 (611)\ttotal: 1.18s\tremaining: 747ms\n",
      "613:\tlearn: 10.6087431\ttest: 15.8230539\tbest: 15.8229728 (611)\ttotal: 1.19s\tremaining: 745ms\n",
      "614:\tlearn: 10.5899250\ttest: 15.8178187\tbest: 15.8178187 (614)\ttotal: 1.19s\tremaining: 743ms\n",
      "615:\tlearn: 10.5870352\ttest: 15.8167662\tbest: 15.8167662 (615)\ttotal: 1.19s\tremaining: 741ms\n",
      "616:\tlearn: 10.5842919\ttest: 15.8158664\tbest: 15.8158664 (616)\ttotal: 1.19s\tremaining: 739ms\n",
      "617:\tlearn: 10.5824959\ttest: 15.8159578\tbest: 15.8158664 (616)\ttotal: 1.19s\tremaining: 737ms\n",
      "618:\tlearn: 10.5799867\ttest: 15.8119923\tbest: 15.8119923 (618)\ttotal: 1.19s\tremaining: 735ms\n",
      "619:\tlearn: 10.5780584\ttest: 15.8120928\tbest: 15.8119923 (618)\ttotal: 1.2s\tremaining: 733ms\n",
      "620:\tlearn: 10.5761393\ttest: 15.8121902\tbest: 15.8119923 (618)\ttotal: 1.2s\tremaining: 731ms\n",
      "621:\tlearn: 10.5651196\ttest: 15.8130221\tbest: 15.8119923 (618)\ttotal: 1.2s\tremaining: 729ms\n",
      "622:\tlearn: 10.5632276\ttest: 15.8130611\tbest: 15.8119923 (618)\ttotal: 1.2s\tremaining: 727ms\n",
      "623:\tlearn: 10.5615186\ttest: 15.8129905\tbest: 15.8119923 (618)\ttotal: 1.2s\tremaining: 726ms\n",
      "624:\tlearn: 10.5419036\ttest: 15.7958673\tbest: 15.7958673 (624)\ttotal: 1.21s\tremaining: 724ms\n",
      "625:\tlearn: 10.5309734\ttest: 15.7984754\tbest: 15.7958673 (624)\ttotal: 1.21s\tremaining: 722ms\n",
      "626:\tlearn: 10.5291009\ttest: 15.7985191\tbest: 15.7958673 (624)\ttotal: 1.21s\tremaining: 720ms\n",
      "627:\tlearn: 10.5274169\ttest: 15.7986168\tbest: 15.7958673 (624)\ttotal: 1.21s\tremaining: 718ms\n",
      "628:\tlearn: 10.5188777\ttest: 15.7985103\tbest: 15.7958673 (624)\ttotal: 1.21s\tremaining: 716ms\n",
      "629:\tlearn: 10.5157960\ttest: 15.7987497\tbest: 15.7958673 (624)\ttotal: 1.22s\tremaining: 714ms\n",
      "630:\tlearn: 10.5138962\ttest: 15.7976696\tbest: 15.7958673 (624)\ttotal: 1.22s\tremaining: 712ms\n",
      "631:\tlearn: 10.5091136\ttest: 15.7962941\tbest: 15.7958673 (624)\ttotal: 1.22s\tremaining: 710ms\n",
      "632:\tlearn: 10.5072221\ttest: 15.7981976\tbest: 15.7958673 (624)\ttotal: 1.22s\tremaining: 708ms\n",
      "633:\tlearn: 10.4969620\ttest: 15.7958267\tbest: 15.7958267 (633)\ttotal: 1.22s\tremaining: 706ms\n",
      "634:\tlearn: 10.4943405\ttest: 15.7928543\tbest: 15.7928543 (634)\ttotal: 1.22s\tremaining: 704ms\n",
      "635:\tlearn: 10.4811358\ttest: 15.7979915\tbest: 15.7928543 (634)\ttotal: 1.23s\tremaining: 702ms\n",
      "636:\tlearn: 10.4792721\ttest: 15.7980394\tbest: 15.7928543 (634)\ttotal: 1.23s\tremaining: 701ms\n",
      "637:\tlearn: 10.4654188\ttest: 15.7972346\tbest: 15.7928543 (634)\ttotal: 1.23s\tremaining: 699ms\n",
      "638:\tlearn: 10.4515837\ttest: 15.7990866\tbest: 15.7928543 (634)\ttotal: 1.24s\tremaining: 698ms\n",
      "639:\tlearn: 10.4496814\ttest: 15.7991904\tbest: 15.7928543 (634)\ttotal: 1.24s\tremaining: 696ms\n",
      "640:\tlearn: 10.4478041\ttest: 15.7992901\tbest: 15.7928543 (634)\ttotal: 1.24s\tremaining: 694ms\n",
      "641:\tlearn: 10.4459384\ttest: 15.7993866\tbest: 15.7928543 (634)\ttotal: 1.24s\tremaining: 693ms\n",
      "642:\tlearn: 10.4395183\ttest: 15.7984075\tbest: 15.7928543 (634)\ttotal: 1.24s\tremaining: 691ms\n",
      "643:\tlearn: 10.4376556\ttest: 15.7985025\tbest: 15.7928543 (634)\ttotal: 1.25s\tremaining: 689ms\n",
      "644:\tlearn: 10.4360743\ttest: 15.7990575\tbest: 15.7928543 (634)\ttotal: 1.25s\tremaining: 687ms\n",
      "645:\tlearn: 10.4346174\ttest: 15.8002731\tbest: 15.7928543 (634)\ttotal: 1.25s\tremaining: 685ms\n",
      "646:\tlearn: 10.4315546\ttest: 15.7983673\tbest: 15.7928543 (634)\ttotal: 1.25s\tremaining: 683ms\n",
      "647:\tlearn: 10.4121081\ttest: 15.7970737\tbest: 15.7928543 (634)\ttotal: 1.25s\tremaining: 681ms\n",
      "648:\tlearn: 10.4005103\ttest: 15.7961459\tbest: 15.7928543 (634)\ttotal: 1.25s\tremaining: 679ms\n",
      "649:\tlearn: 10.3942324\ttest: 15.7955358\tbest: 15.7928543 (634)\ttotal: 1.26s\tremaining: 677ms\n",
      "650:\tlearn: 10.3793082\ttest: 15.7874872\tbest: 15.7874872 (650)\ttotal: 1.26s\tremaining: 675ms\n",
      "651:\tlearn: 10.3745623\ttest: 15.7839997\tbest: 15.7839997 (651)\ttotal: 1.26s\tremaining: 674ms\n",
      "652:\tlearn: 10.3726924\ttest: 15.7850579\tbest: 15.7839997 (651)\ttotal: 1.26s\tremaining: 671ms\n",
      "653:\tlearn: 10.3703447\ttest: 15.7851633\tbest: 15.7839997 (651)\ttotal: 1.26s\tremaining: 669ms\n",
      "654:\tlearn: 10.3684303\ttest: 15.7831139\tbest: 15.7831139 (654)\ttotal: 1.27s\tremaining: 667ms\n",
      "655:\tlearn: 10.3668266\ttest: 15.7832020\tbest: 15.7831139 (654)\ttotal: 1.27s\tremaining: 665ms\n",
      "656:\tlearn: 10.3649588\ttest: 15.7820403\tbest: 15.7820403 (656)\ttotal: 1.27s\tremaining: 664ms\n",
      "657:\tlearn: 10.3632716\ttest: 15.7821293\tbest: 15.7820403 (656)\ttotal: 1.27s\tremaining: 661ms\n",
      "658:\tlearn: 10.3548229\ttest: 15.7841258\tbest: 15.7820403 (656)\ttotal: 1.27s\tremaining: 660ms\n",
      "659:\tlearn: 10.3529940\ttest: 15.7842198\tbest: 15.7820403 (656)\ttotal: 1.28s\tremaining: 658ms\n",
      "660:\tlearn: 10.3489401\ttest: 15.7849786\tbest: 15.7820403 (656)\ttotal: 1.28s\tremaining: 656ms\n",
      "661:\tlearn: 10.3472822\ttest: 15.7849325\tbest: 15.7820403 (656)\ttotal: 1.28s\tremaining: 654ms\n",
      "662:\tlearn: 10.3382030\ttest: 15.7811343\tbest: 15.7811343 (662)\ttotal: 1.28s\tremaining: 652ms\n",
      "663:\tlearn: 10.3351622\ttest: 15.7829492\tbest: 15.7811343 (662)\ttotal: 1.28s\tremaining: 650ms\n",
      "664:\tlearn: 10.3243398\ttest: 15.7835252\tbest: 15.7811343 (662)\ttotal: 1.28s\tremaining: 648ms\n",
      "665:\tlearn: 10.3226289\ttest: 15.7835682\tbest: 15.7811343 (662)\ttotal: 1.29s\tremaining: 646ms\n",
      "666:\tlearn: 10.3209588\ttest: 15.7846278\tbest: 15.7811343 (662)\ttotal: 1.29s\tremaining: 644ms\n",
      "667:\tlearn: 10.3149637\ttest: 15.7864837\tbest: 15.7811343 (662)\ttotal: 1.29s\tremaining: 642ms\n",
      "668:\tlearn: 10.3131323\ttest: 15.7865893\tbest: 15.7811343 (662)\ttotal: 1.29s\tremaining: 640ms\n",
      "669:\tlearn: 10.3094585\ttest: 15.7861241\tbest: 15.7811343 (662)\ttotal: 1.29s\tremaining: 638ms\n",
      "670:\tlearn: 10.3076346\ttest: 15.7849983\tbest: 15.7811343 (662)\ttotal: 1.3s\tremaining: 636ms\n",
      "671:\tlearn: 10.2926665\ttest: 15.7843342\tbest: 15.7811343 (662)\ttotal: 1.3s\tremaining: 634ms\n",
      "672:\tlearn: 10.2899528\ttest: 15.7826996\tbest: 15.7811343 (662)\ttotal: 1.3s\tremaining: 632ms\n",
      "673:\tlearn: 10.2883880\ttest: 15.7827927\tbest: 15.7811343 (662)\ttotal: 1.3s\tremaining: 629ms\n",
      "674:\tlearn: 10.2866138\ttest: 15.7828325\tbest: 15.7811343 (662)\ttotal: 1.3s\tremaining: 628ms\n",
      "675:\tlearn: 10.2848176\ttest: 15.7829307\tbest: 15.7811343 (662)\ttotal: 1.31s\tremaining: 626ms\n",
      "676:\tlearn: 10.2730061\ttest: 15.7847977\tbest: 15.7811343 (662)\ttotal: 1.31s\tremaining: 624ms\n",
      "677:\tlearn: 10.2706885\ttest: 15.7820865\tbest: 15.7811343 (662)\ttotal: 1.31s\tremaining: 622ms\n",
      "678:\tlearn: 10.2688924\ttest: 15.7831462\tbest: 15.7811343 (662)\ttotal: 1.31s\tremaining: 621ms\n",
      "679:\tlearn: 10.2672748\ttest: 15.7831572\tbest: 15.7811343 (662)\ttotal: 1.31s\tremaining: 619ms\n",
      "680:\tlearn: 10.2655079\ttest: 15.7831970\tbest: 15.7811343 (662)\ttotal: 1.32s\tremaining: 617ms\n",
      "681:\tlearn: 10.2518792\ttest: 15.7783062\tbest: 15.7783062 (681)\ttotal: 1.32s\tremaining: 615ms\n",
      "682:\tlearn: 10.2501908\ttest: 15.7789501\tbest: 15.7783062 (681)\ttotal: 1.32s\tremaining: 613ms\n",
      "683:\tlearn: 10.2374208\ttest: 15.7694608\tbest: 15.7694608 (683)\ttotal: 1.32s\tremaining: 611ms\n",
      "684:\tlearn: 10.2214715\ttest: 15.7637068\tbest: 15.7637068 (684)\ttotal: 1.32s\tremaining: 609ms\n",
      "685:\tlearn: 10.2130857\ttest: 15.7611759\tbest: 15.7611759 (685)\ttotal: 1.33s\tremaining: 607ms\n",
      "686:\tlearn: 10.2025377\ttest: 15.7568012\tbest: 15.7568012 (686)\ttotal: 1.33s\tremaining: 605ms\n",
      "687:\tlearn: 10.2005965\ttest: 15.7564709\tbest: 15.7564709 (687)\ttotal: 1.33s\tremaining: 603ms\n",
      "688:\tlearn: 10.1947146\ttest: 15.7578991\tbest: 15.7564709 (687)\ttotal: 1.33s\tremaining: 601ms\n",
      "689:\tlearn: 10.1929302\ttest: 15.7580029\tbest: 15.7564709 (687)\ttotal: 1.33s\tremaining: 599ms\n",
      "690:\tlearn: 10.1913275\ttest: 15.7580182\tbest: 15.7564709 (687)\ttotal: 1.33s\tremaining: 597ms\n",
      "691:\tlearn: 10.1722397\ttest: 15.7524231\tbest: 15.7524231 (691)\ttotal: 1.34s\tremaining: 595ms\n",
      "692:\tlearn: 10.1704677\ttest: 15.7523321\tbest: 15.7523321 (692)\ttotal: 1.34s\tremaining: 593ms\n",
      "693:\tlearn: 10.1577148\ttest: 15.7505524\tbest: 15.7505524 (693)\ttotal: 1.34s\tremaining: 591ms\n",
      "694:\tlearn: 10.1521274\ttest: 15.7513071\tbest: 15.7505524 (693)\ttotal: 1.34s\tremaining: 589ms\n",
      "695:\tlearn: 10.1495668\ttest: 15.7504191\tbest: 15.7504191 (695)\ttotal: 1.34s\tremaining: 587ms\n",
      "696:\tlearn: 10.1393000\ttest: 15.7483502\tbest: 15.7483502 (696)\ttotal: 1.35s\tremaining: 585ms\n",
      "697:\tlearn: 10.1205245\ttest: 15.7470020\tbest: 15.7470020 (697)\ttotal: 1.35s\tremaining: 583ms\n",
      "698:\tlearn: 10.1188749\ttest: 15.7470439\tbest: 15.7470020 (697)\ttotal: 1.35s\tremaining: 582ms\n",
      "699:\tlearn: 10.1171269\ttest: 15.7464828\tbest: 15.7464828 (699)\ttotal: 1.35s\tremaining: 580ms\n",
      "700:\tlearn: 10.1153672\ttest: 15.7465858\tbest: 15.7464828 (699)\ttotal: 1.35s\tremaining: 578ms\n",
      "701:\tlearn: 10.1136141\ttest: 15.7478879\tbest: 15.7464828 (699)\ttotal: 1.36s\tremaining: 576ms\n",
      "702:\tlearn: 10.1119961\ttest: 15.7479213\tbest: 15.7464828 (699)\ttotal: 1.36s\tremaining: 574ms\n",
      "703:\tlearn: 10.1102876\ttest: 15.7468286\tbest: 15.7464828 (699)\ttotal: 1.36s\tremaining: 572ms\n",
      "704:\tlearn: 10.0996396\ttest: 15.7433407\tbest: 15.7433407 (704)\ttotal: 1.36s\tremaining: 570ms\n",
      "705:\tlearn: 10.0955908\ttest: 15.7428031\tbest: 15.7428031 (705)\ttotal: 1.36s\tremaining: 568ms\n",
      "706:\tlearn: 10.0921332\ttest: 15.7406825\tbest: 15.7406825 (706)\ttotal: 1.36s\tremaining: 566ms\n",
      "707:\tlearn: 10.0827161\ttest: 15.7382797\tbest: 15.7382797 (707)\ttotal: 1.37s\tremaining: 564ms\n",
      "708:\tlearn: 10.0768373\ttest: 15.7348779\tbest: 15.7348779 (708)\ttotal: 1.37s\tremaining: 562ms\n",
      "709:\tlearn: 10.0632696\ttest: 15.7271707\tbest: 15.7271707 (709)\ttotal: 1.37s\tremaining: 560ms\n",
      "710:\tlearn: 10.0599508\ttest: 15.7241160\tbest: 15.7241160 (710)\ttotal: 1.37s\tremaining: 559ms\n",
      "711:\tlearn: 10.0581984\ttest: 15.7242221\tbest: 15.7241160 (710)\ttotal: 1.38s\tremaining: 557ms\n",
      "712:\tlearn: 10.0441414\ttest: 15.7250706\tbest: 15.7241160 (710)\ttotal: 1.38s\tremaining: 555ms\n",
      "713:\tlearn: 10.0423970\ttest: 15.7240410\tbest: 15.7240410 (713)\ttotal: 1.38s\tremaining: 554ms\n",
      "714:\tlearn: 10.0406636\ttest: 15.7251055\tbest: 15.7240410 (713)\ttotal: 1.39s\tremaining: 552ms\n",
      "715:\tlearn: 10.0392218\ttest: 15.7250638\tbest: 15.7240410 (713)\ttotal: 1.39s\tremaining: 550ms\n",
      "716:\tlearn: 10.0237965\ttest: 15.7230493\tbest: 15.7230493 (716)\ttotal: 1.39s\tremaining: 548ms\n",
      "717:\tlearn: 10.0209735\ttest: 15.7218420\tbest: 15.7218420 (717)\ttotal: 1.39s\tremaining: 547ms\n",
      "718:\tlearn: 10.0192892\ttest: 15.7218294\tbest: 15.7218294 (718)\ttotal: 1.39s\tremaining: 545ms\n",
      "719:\tlearn: 10.0175649\ttest: 15.7225026\tbest: 15.7218294 (718)\ttotal: 1.4s\tremaining: 543ms\n",
      "720:\tlearn: 10.0152845\ttest: 15.7200496\tbest: 15.7200496 (720)\ttotal: 1.4s\tremaining: 541ms\n",
      "721:\tlearn: 10.0109646\ttest: 15.7169682\tbest: 15.7169682 (721)\ttotal: 1.4s\tremaining: 539ms\n",
      "722:\tlearn: 10.0092437\ttest: 15.7170767\tbest: 15.7169682 (721)\ttotal: 1.4s\tremaining: 537ms\n",
      "723:\tlearn: 9.9992842\ttest: 15.7213526\tbest: 15.7169682 (721)\ttotal: 1.4s\tremaining: 535ms\n",
      "724:\tlearn: 9.9977123\ttest: 15.7226513\tbest: 15.7169682 (721)\ttotal: 1.4s\tremaining: 533ms\n",
      "725:\tlearn: 9.9960004\ttest: 15.7227560\tbest: 15.7169682 (721)\ttotal: 1.41s\tremaining: 531ms\n",
      "726:\tlearn: 9.9853405\ttest: 15.7167627\tbest: 15.7167627 (726)\ttotal: 1.41s\tremaining: 529ms\n",
      "727:\tlearn: 9.9837521\ttest: 15.7157729\tbest: 15.7157729 (727)\ttotal: 1.41s\tremaining: 527ms\n",
      "728:\tlearn: 9.9822056\ttest: 15.7158669\tbest: 15.7157729 (727)\ttotal: 1.41s\tremaining: 525ms\n",
      "729:\tlearn: 9.9800143\ttest: 15.7162286\tbest: 15.7157729 (727)\ttotal: 1.41s\tremaining: 523ms\n",
      "730:\tlearn: 9.9707737\ttest: 15.7191733\tbest: 15.7157729 (727)\ttotal: 1.42s\tremaining: 521ms\n",
      "731:\tlearn: 9.9589853\ttest: 15.7190018\tbest: 15.7157729 (727)\ttotal: 1.42s\tremaining: 519ms\n",
      "732:\tlearn: 9.9572956\ttest: 15.7202420\tbest: 15.7157729 (727)\ttotal: 1.42s\tremaining: 517ms\n",
      "733:\tlearn: 9.9556465\ttest: 15.7202306\tbest: 15.7157729 (727)\ttotal: 1.42s\tremaining: 515ms\n",
      "734:\tlearn: 9.9539543\ttest: 15.7209114\tbest: 15.7157729 (727)\ttotal: 1.42s\tremaining: 513ms\n",
      "735:\tlearn: 9.9524171\ttest: 15.7209324\tbest: 15.7157729 (727)\ttotal: 1.42s\tremaining: 511ms\n",
      "736:\tlearn: 9.9510007\ttest: 15.7209517\tbest: 15.7157729 (727)\ttotal: 1.43s\tremaining: 509ms\n",
      "737:\tlearn: 9.9421666\ttest: 15.7230239\tbest: 15.7157729 (727)\ttotal: 1.43s\tremaining: 507ms\n",
      "738:\tlearn: 9.9405123\ttest: 15.7251845\tbest: 15.7157729 (727)\ttotal: 1.43s\tremaining: 505ms\n",
      "739:\tlearn: 9.9389981\ttest: 15.7252076\tbest: 15.7157729 (727)\ttotal: 1.43s\tremaining: 503ms\n",
      "740:\tlearn: 9.9373444\ttest: 15.7242444\tbest: 15.7157729 (727)\ttotal: 1.43s\tremaining: 501ms\n",
      "741:\tlearn: 9.9356816\ttest: 15.7243362\tbest: 15.7157729 (727)\ttotal: 1.43s\tremaining: 499ms\n",
      "742:\tlearn: 9.9343363\ttest: 15.7243487\tbest: 15.7157729 (727)\ttotal: 1.44s\tremaining: 497ms\n",
      "743:\tlearn: 9.9320952\ttest: 15.7210141\tbest: 15.7157729 (727)\ttotal: 1.44s\tremaining: 495ms\n",
      "744:\tlearn: 9.9189075\ttest: 15.7204069\tbest: 15.7157729 (727)\ttotal: 1.44s\tremaining: 493ms\n",
      "745:\tlearn: 9.9172761\ttest: 15.7204359\tbest: 15.7157729 (727)\ttotal: 1.44s\tremaining: 490ms\n",
      "746:\tlearn: 9.9158137\ttest: 15.7209749\tbest: 15.7157729 (727)\ttotal: 1.44s\tremaining: 489ms\n",
      "747:\tlearn: 9.9141689\ttest: 15.7219978\tbest: 15.7157729 (727)\ttotal: 1.44s\tremaining: 487ms\n",
      "748:\tlearn: 9.9073224\ttest: 15.7223899\tbest: 15.7157729 (727)\ttotal: 1.45s\tremaining: 485ms\n",
      "749:\tlearn: 9.9046873\ttest: 15.7204530\tbest: 15.7157729 (727)\ttotal: 1.45s\tremaining: 483ms\n",
      "750:\tlearn: 9.9030430\ttest: 15.7189611\tbest: 15.7157729 (727)\ttotal: 1.45s\tremaining: 481ms\n",
      "751:\tlearn: 9.9014652\ttest: 15.7190524\tbest: 15.7157729 (727)\ttotal: 1.45s\tremaining: 479ms\n",
      "752:\tlearn: 9.8992863\ttest: 15.7166153\tbest: 15.7157729 (727)\ttotal: 1.45s\tremaining: 477ms\n",
      "753:\tlearn: 9.8943686\ttest: 15.7154850\tbest: 15.7154850 (753)\ttotal: 1.45s\tremaining: 475ms\n",
      "754:\tlearn: 9.8927521\ttest: 15.7155205\tbest: 15.7154850 (753)\ttotal: 1.46s\tremaining: 473ms\n",
      "755:\tlearn: 9.8873472\ttest: 15.7116321\tbest: 15.7116321 (755)\ttotal: 1.46s\tremaining: 471ms\n",
      "756:\tlearn: 9.8857127\ttest: 15.7129115\tbest: 15.7116321 (755)\ttotal: 1.46s\tremaining: 469ms\n",
      "757:\tlearn: 9.8841219\ttest: 15.7119217\tbest: 15.7116321 (755)\ttotal: 1.46s\tremaining: 467ms\n",
      "758:\tlearn: 9.8826486\ttest: 15.7120069\tbest: 15.7116321 (755)\ttotal: 1.46s\tremaining: 465ms\n",
      "759:\tlearn: 9.8811440\ttest: 15.7126727\tbest: 15.7116321 (755)\ttotal: 1.46s\tremaining: 463ms\n",
      "760:\tlearn: 9.8638132\ttest: 15.7122211\tbest: 15.7116321 (755)\ttotal: 1.47s\tremaining: 461ms\n",
      "761:\tlearn: 9.8621942\ttest: 15.7116920\tbest: 15.7116321 (755)\ttotal: 1.47s\tremaining: 459ms\n",
      "762:\tlearn: 9.8607167\ttest: 15.7117280\tbest: 15.7116321 (755)\ttotal: 1.47s\tremaining: 457ms\n",
      "763:\tlearn: 9.8591116\ttest: 15.7118178\tbest: 15.7116321 (755)\ttotal: 1.47s\tremaining: 455ms\n",
      "764:\tlearn: 9.8361935\ttest: 15.7138850\tbest: 15.7116321 (755)\ttotal: 1.47s\tremaining: 453ms\n",
      "765:\tlearn: 9.8234040\ttest: 15.7124458\tbest: 15.7116321 (755)\ttotal: 1.48s\tremaining: 451ms\n",
      "766:\tlearn: 9.8212911\ttest: 15.7128953\tbest: 15.7116321 (755)\ttotal: 1.48s\tremaining: 449ms\n",
      "767:\tlearn: 9.8133890\ttest: 15.7130840\tbest: 15.7116321 (755)\ttotal: 1.48s\tremaining: 447ms\n",
      "768:\tlearn: 9.8118608\ttest: 15.7143858\tbest: 15.7116321 (755)\ttotal: 1.48s\tremaining: 445ms\n",
      "769:\tlearn: 9.8011917\ttest: 15.7115167\tbest: 15.7115167 (769)\ttotal: 1.48s\tremaining: 443ms\n",
      "770:\tlearn: 9.7997512\ttest: 15.7127253\tbest: 15.7115167 (769)\ttotal: 1.48s\tremaining: 441ms\n",
      "771:\tlearn: 9.7890053\ttest: 15.7066425\tbest: 15.7066425 (771)\ttotal: 1.48s\tremaining: 439ms\n",
      "772:\tlearn: 9.7868281\ttest: 15.7057737\tbest: 15.7057737 (772)\ttotal: 1.49s\tremaining: 437ms\n",
      "773:\tlearn: 9.7740815\ttest: 15.7103583\tbest: 15.7057737 (772)\ttotal: 1.49s\tremaining: 435ms\n",
      "774:\tlearn: 9.7583938\ttest: 15.7130711\tbest: 15.7057737 (772)\ttotal: 1.49s\tremaining: 433ms\n",
      "775:\tlearn: 9.7568274\ttest: 15.7130233\tbest: 15.7057737 (772)\ttotal: 1.49s\tremaining: 431ms\n",
      "776:\tlearn: 9.7538105\ttest: 15.7120005\tbest: 15.7057737 (772)\ttotal: 1.49s\tremaining: 429ms\n",
      "777:\tlearn: 9.7504933\ttest: 15.7107942\tbest: 15.7057737 (772)\ttotal: 1.5s\tremaining: 427ms\n",
      "778:\tlearn: 9.7447099\ttest: 15.7096618\tbest: 15.7057737 (772)\ttotal: 1.5s\tremaining: 425ms\n",
      "779:\tlearn: 9.7428327\ttest: 15.7093649\tbest: 15.7057737 (772)\ttotal: 1.5s\tremaining: 423ms\n",
      "780:\tlearn: 9.7399770\ttest: 15.7078554\tbest: 15.7057737 (772)\ttotal: 1.5s\tremaining: 421ms\n",
      "781:\tlearn: 9.7375745\ttest: 15.7068880\tbest: 15.7057737 (772)\ttotal: 1.5s\tremaining: 419ms\n",
      "782:\tlearn: 9.7359933\ttest: 15.7069279\tbest: 15.7057737 (772)\ttotal: 1.5s\tremaining: 417ms\n",
      "783:\tlearn: 9.7344379\ttest: 15.7069072\tbest: 15.7057737 (772)\ttotal: 1.5s\tremaining: 415ms\n",
      "784:\tlearn: 9.7328461\ttest: 15.7054835\tbest: 15.7054835 (784)\ttotal: 1.51s\tremaining: 413ms\n",
      "785:\tlearn: 9.7314296\ttest: 15.7055737\tbest: 15.7054835 (784)\ttotal: 1.51s\tremaining: 411ms\n",
      "786:\tlearn: 9.7298514\ttest: 15.7046830\tbest: 15.7046830 (786)\ttotal: 1.51s\tremaining: 409ms\n",
      "787:\tlearn: 9.7284276\ttest: 15.7055755\tbest: 15.7046830 (786)\ttotal: 1.51s\tremaining: 407ms\n",
      "788:\tlearn: 9.7146002\ttest: 15.7099401\tbest: 15.7046830 (786)\ttotal: 1.51s\tremaining: 405ms\n",
      "789:\tlearn: 9.6984981\ttest: 15.7003245\tbest: 15.7003245 (789)\ttotal: 1.51s\tremaining: 403ms\n",
      "790:\tlearn: 9.6970912\ttest: 15.7004090\tbest: 15.7003245 (789)\ttotal: 1.52s\tremaining: 401ms\n",
      "791:\tlearn: 9.6861274\ttest: 15.6998631\tbest: 15.6998631 (791)\ttotal: 1.52s\tremaining: 399ms\n",
      "792:\tlearn: 9.6847486\ttest: 15.6998831\tbest: 15.6998631 (791)\ttotal: 1.52s\tremaining: 397ms\n",
      "793:\tlearn: 9.6832036\ttest: 15.6999122\tbest: 15.6998631 (791)\ttotal: 1.52s\tremaining: 395ms\n",
      "794:\tlearn: 9.6809680\ttest: 15.7003360\tbest: 15.6998631 (791)\ttotal: 1.52s\tremaining: 393ms\n",
      "795:\tlearn: 9.6768717\ttest: 15.6990406\tbest: 15.6990406 (795)\ttotal: 1.52s\tremaining: 391ms\n",
      "796:\tlearn: 9.6754579\ttest: 15.6990651\tbest: 15.6990406 (795)\ttotal: 1.53s\tremaining: 389ms\n",
      "797:\tlearn: 9.6741785\ttest: 15.6990258\tbest: 15.6990258 (797)\ttotal: 1.53s\tremaining: 388ms\n",
      "798:\tlearn: 9.6726190\ttest: 15.6991163\tbest: 15.6990258 (797)\ttotal: 1.53s\tremaining: 386ms\n",
      "799:\tlearn: 9.6710657\ttest: 15.7001340\tbest: 15.6990258 (797)\ttotal: 1.53s\tremaining: 384ms\n",
      "800:\tlearn: 9.6597413\ttest: 15.6915427\tbest: 15.6915427 (800)\ttotal: 1.54s\tremaining: 382ms\n",
      "801:\tlearn: 9.6582164\ttest: 15.6906734\tbest: 15.6906734 (801)\ttotal: 1.54s\tremaining: 380ms\n",
      "802:\tlearn: 9.6567115\ttest: 15.6906406\tbest: 15.6906406 (802)\ttotal: 1.54s\tremaining: 378ms\n",
      "803:\tlearn: 9.6547246\ttest: 15.6870624\tbest: 15.6870624 (803)\ttotal: 1.54s\tremaining: 376ms\n",
      "804:\tlearn: 9.6459696\ttest: 15.6875688\tbest: 15.6870624 (803)\ttotal: 1.54s\tremaining: 374ms\n",
      "805:\tlearn: 9.6330986\ttest: 15.6873338\tbest: 15.6870624 (803)\ttotal: 1.54s\tremaining: 372ms\n",
      "806:\tlearn: 9.6316904\ttest: 15.6873618\tbest: 15.6870624 (803)\ttotal: 1.55s\tremaining: 370ms\n",
      "807:\tlearn: 9.6170112\ttest: 15.6894518\tbest: 15.6870624 (803)\ttotal: 1.55s\tremaining: 368ms\n",
      "808:\tlearn: 9.6154672\ttest: 15.6895486\tbest: 15.6870624 (803)\ttotal: 1.55s\tremaining: 366ms\n",
      "809:\tlearn: 9.6139540\ttest: 15.6881116\tbest: 15.6870624 (803)\ttotal: 1.55s\tremaining: 364ms\n",
      "810:\tlearn: 9.6000559\ttest: 15.6831688\tbest: 15.6831688 (810)\ttotal: 1.55s\tremaining: 362ms\n",
      "811:\tlearn: 9.5985143\ttest: 15.6832625\tbest: 15.6831688 (810)\ttotal: 1.56s\tremaining: 360ms\n",
      "812:\tlearn: 9.5835987\ttest: 15.6851554\tbest: 15.6831688 (810)\ttotal: 1.56s\tremaining: 358ms\n",
      "813:\tlearn: 9.5700993\ttest: 15.6807481\tbest: 15.6807481 (813)\ttotal: 1.56s\tremaining: 356ms\n",
      "814:\tlearn: 9.5686778\ttest: 15.6807836\tbest: 15.6807481 (813)\ttotal: 1.56s\tremaining: 355ms\n",
      "815:\tlearn: 9.5672894\ttest: 15.6808151\tbest: 15.6807481 (813)\ttotal: 1.56s\tremaining: 353ms\n",
      "816:\tlearn: 9.5649424\ttest: 15.6806978\tbest: 15.6806978 (816)\ttotal: 1.56s\tremaining: 351ms\n",
      "817:\tlearn: 9.5586267\ttest: 15.6807883\tbest: 15.6806978 (816)\ttotal: 1.57s\tremaining: 349ms\n",
      "818:\tlearn: 9.5495431\ttest: 15.6799049\tbest: 15.6799049 (818)\ttotal: 1.57s\tremaining: 347ms\n",
      "819:\tlearn: 9.5372956\ttest: 15.6794991\tbest: 15.6794991 (819)\ttotal: 1.57s\tremaining: 345ms\n",
      "820:\tlearn: 9.5360053\ttest: 15.6795960\tbest: 15.6794991 (819)\ttotal: 1.57s\tremaining: 343ms\n",
      "821:\tlearn: 9.5207952\ttest: 15.6799216\tbest: 15.6794991 (819)\ttotal: 1.57s\tremaining: 341ms\n",
      "822:\tlearn: 9.5166337\ttest: 15.6791815\tbest: 15.6791815 (822)\ttotal: 1.58s\tremaining: 339ms\n",
      "823:\tlearn: 9.5086950\ttest: 15.6748407\tbest: 15.6748407 (823)\ttotal: 1.58s\tremaining: 337ms\n",
      "824:\tlearn: 9.5071652\ttest: 15.6749448\tbest: 15.6748407 (823)\ttotal: 1.58s\tremaining: 335ms\n",
      "825:\tlearn: 9.5057644\ttest: 15.6761984\tbest: 15.6748407 (823)\ttotal: 1.58s\tremaining: 334ms\n",
      "826:\tlearn: 9.5042520\ttest: 15.6762959\tbest: 15.6748407 (823)\ttotal: 1.58s\tremaining: 332ms\n",
      "827:\tlearn: 9.5028035\ttest: 15.6754079\tbest: 15.6748407 (823)\ttotal: 1.59s\tremaining: 330ms\n",
      "828:\tlearn: 9.4984498\ttest: 15.6757469\tbest: 15.6748407 (823)\ttotal: 1.59s\tremaining: 328ms\n",
      "829:\tlearn: 9.4935702\ttest: 15.6749772\tbest: 15.6748407 (823)\ttotal: 1.59s\tremaining: 326ms\n",
      "830:\tlearn: 9.4920858\ttest: 15.6750087\tbest: 15.6748407 (823)\ttotal: 1.59s\tremaining: 324ms\n",
      "831:\tlearn: 9.4905820\ttest: 15.6750976\tbest: 15.6748407 (823)\ttotal: 1.59s\tremaining: 322ms\n",
      "832:\tlearn: 9.4786315\ttest: 15.6751037\tbest: 15.6748407 (823)\ttotal: 1.59s\tremaining: 320ms\n",
      "833:\tlearn: 9.4654380\ttest: 15.6795719\tbest: 15.6748407 (823)\ttotal: 1.6s\tremaining: 318ms\n",
      "834:\tlearn: 9.4518443\ttest: 15.6754468\tbest: 15.6748407 (823)\ttotal: 1.6s\tremaining: 316ms\n",
      "835:\tlearn: 9.4493832\ttest: 15.6751253\tbest: 15.6748407 (823)\ttotal: 1.6s\tremaining: 314ms\n",
      "836:\tlearn: 9.4478940\ttest: 15.6737114\tbest: 15.6737114 (836)\ttotal: 1.6s\tremaining: 312ms\n",
      "837:\tlearn: 9.4463765\ttest: 15.6749580\tbest: 15.6737114 (836)\ttotal: 1.6s\tremaining: 310ms\n",
      "838:\tlearn: 9.4442938\ttest: 15.6747067\tbest: 15.6737114 (836)\ttotal: 1.61s\tremaining: 308ms\n",
      "839:\tlearn: 9.4427982\ttest: 15.6747972\tbest: 15.6737114 (836)\ttotal: 1.61s\tremaining: 306ms\n",
      "840:\tlearn: 9.4321251\ttest: 15.6692934\tbest: 15.6692934 (840)\ttotal: 1.61s\tremaining: 304ms\n",
      "841:\tlearn: 9.4241392\ttest: 15.6707768\tbest: 15.6692934 (840)\ttotal: 1.61s\tremaining: 302ms\n",
      "842:\tlearn: 9.4226433\ttest: 15.6701619\tbest: 15.6692934 (840)\ttotal: 1.61s\tremaining: 301ms\n",
      "843:\tlearn: 9.4035852\ttest: 15.6615873\tbest: 15.6615873 (843)\ttotal: 1.61s\tremaining: 299ms\n",
      "844:\tlearn: 9.4022358\ttest: 15.6607533\tbest: 15.6607533 (844)\ttotal: 1.62s\tremaining: 297ms\n",
      "845:\tlearn: 9.4007533\ttest: 15.6594220\tbest: 15.6594220 (845)\ttotal: 1.62s\tremaining: 295ms\n",
      "846:\tlearn: 9.3873403\ttest: 15.6641472\tbest: 15.6594220 (845)\ttotal: 1.62s\tremaining: 293ms\n",
      "847:\tlearn: 9.3777285\ttest: 15.6585822\tbest: 15.6585822 (847)\ttotal: 1.62s\tremaining: 291ms\n",
      "848:\tlearn: 9.3762913\ttest: 15.6577728\tbest: 15.6577728 (848)\ttotal: 1.62s\tremaining: 289ms\n",
      "849:\tlearn: 9.3705663\ttest: 15.6556991\tbest: 15.6556991 (849)\ttotal: 1.63s\tremaining: 287ms\n",
      "850:\tlearn: 9.3688184\ttest: 15.6554791\tbest: 15.6554791 (850)\ttotal: 1.63s\tremaining: 285ms\n",
      "851:\tlearn: 9.3668068\ttest: 15.6526795\tbest: 15.6526795 (851)\ttotal: 1.63s\tremaining: 283ms\n",
      "852:\tlearn: 9.3653509\ttest: 15.6527122\tbest: 15.6526795 (851)\ttotal: 1.63s\tremaining: 281ms\n",
      "853:\tlearn: 9.3629889\ttest: 15.6538223\tbest: 15.6526795 (851)\ttotal: 1.63s\tremaining: 279ms\n",
      "854:\tlearn: 9.3609778\ttest: 15.6542537\tbest: 15.6526795 (851)\ttotal: 1.63s\tremaining: 277ms\n",
      "855:\tlearn: 9.3430316\ttest: 15.6507743\tbest: 15.6507743 (855)\ttotal: 1.64s\tremaining: 275ms\n",
      "856:\tlearn: 9.3415679\ttest: 15.6508158\tbest: 15.6507743 (855)\ttotal: 1.64s\tremaining: 273ms\n",
      "857:\tlearn: 9.3234470\ttest: 15.6483060\tbest: 15.6483060 (857)\ttotal: 1.64s\tremaining: 271ms\n",
      "858:\tlearn: 9.3222373\ttest: 15.6488877\tbest: 15.6483060 (857)\ttotal: 1.64s\tremaining: 269ms\n",
      "859:\tlearn: 9.3207886\ttest: 15.6489319\tbest: 15.6483060 (857)\ttotal: 1.64s\tremaining: 267ms\n",
      "860:\tlearn: 9.3051746\ttest: 15.6520727\tbest: 15.6483060 (857)\ttotal: 1.64s\tremaining: 265ms\n",
      "861:\tlearn: 9.2979938\ttest: 15.6451822\tbest: 15.6451822 (861)\ttotal: 1.65s\tremaining: 263ms\n",
      "862:\tlearn: 9.2876747\ttest: 15.6419414\tbest: 15.6419414 (862)\ttotal: 1.65s\tremaining: 262ms\n",
      "863:\tlearn: 9.2778720\ttest: 15.6419393\tbest: 15.6419393 (863)\ttotal: 1.65s\tremaining: 260ms\n",
      "864:\tlearn: 9.2684631\ttest: 15.6447554\tbest: 15.6419393 (863)\ttotal: 1.65s\tremaining: 258ms\n",
      "865:\tlearn: 9.2670050\ttest: 15.6448122\tbest: 15.6419393 (863)\ttotal: 1.65s\tremaining: 256ms\n",
      "866:\tlearn: 9.2655610\ttest: 15.6447545\tbest: 15.6419393 (863)\ttotal: 1.65s\tremaining: 254ms\n",
      "867:\tlearn: 9.2642447\ttest: 15.6448018\tbest: 15.6419393 (863)\ttotal: 1.66s\tremaining: 252ms\n",
      "868:\tlearn: 9.2521110\ttest: 15.6400122\tbest: 15.6400122 (868)\ttotal: 1.66s\tremaining: 250ms\n",
      "869:\tlearn: 9.2504958\ttest: 15.6396025\tbest: 15.6396025 (869)\ttotal: 1.66s\tremaining: 248ms\n",
      "870:\tlearn: 9.2491657\ttest: 15.6383178\tbest: 15.6383178 (870)\ttotal: 1.66s\tremaining: 246ms\n",
      "871:\tlearn: 9.2463665\ttest: 15.6374254\tbest: 15.6374254 (871)\ttotal: 1.66s\tremaining: 244ms\n",
      "872:\tlearn: 9.2290070\ttest: 15.6333979\tbest: 15.6333979 (872)\ttotal: 1.66s\tremaining: 242ms\n",
      "873:\tlearn: 9.2175482\ttest: 15.6312370\tbest: 15.6312370 (873)\ttotal: 1.67s\tremaining: 240ms\n",
      "874:\tlearn: 9.2162629\ttest: 15.6313397\tbest: 15.6312370 (873)\ttotal: 1.67s\tremaining: 238ms\n",
      "875:\tlearn: 9.2149990\ttest: 15.6313294\tbest: 15.6312370 (873)\ttotal: 1.67s\tremaining: 236ms\n",
      "876:\tlearn: 9.2135589\ttest: 15.6320005\tbest: 15.6312370 (873)\ttotal: 1.67s\tremaining: 234ms\n",
      "877:\tlearn: 9.2118478\ttest: 15.6311055\tbest: 15.6311055 (877)\ttotal: 1.67s\tremaining: 232ms\n",
      "878:\tlearn: 9.2104415\ttest: 15.6297923\tbest: 15.6297923 (878)\ttotal: 1.67s\tremaining: 231ms\n",
      "879:\tlearn: 9.2003241\ttest: 15.6324421\tbest: 15.6297923 (878)\ttotal: 1.68s\tremaining: 229ms\n",
      "880:\tlearn: 9.1984128\ttest: 15.6313330\tbest: 15.6297923 (878)\ttotal: 1.68s\tremaining: 227ms\n",
      "881:\tlearn: 9.1942867\ttest: 15.6305774\tbest: 15.6297923 (878)\ttotal: 1.68s\tremaining: 225ms\n",
      "882:\tlearn: 9.1896817\ttest: 15.6296658\tbest: 15.6296658 (882)\ttotal: 1.68s\tremaining: 223ms\n",
      "883:\tlearn: 9.1883692\ttest: 15.6297173\tbest: 15.6296658 (882)\ttotal: 1.68s\tremaining: 221ms\n",
      "884:\tlearn: 9.1806988\ttest: 15.6264069\tbest: 15.6264069 (884)\ttotal: 1.68s\tremaining: 219ms\n",
      "885:\tlearn: 9.1792678\ttest: 15.6265114\tbest: 15.6264069 (884)\ttotal: 1.69s\tremaining: 217ms\n",
      "886:\tlearn: 9.1752931\ttest: 15.6268286\tbest: 15.6264069 (884)\ttotal: 1.69s\tremaining: 215ms\n",
      "887:\tlearn: 9.1668075\ttest: 15.6239215\tbest: 15.6239215 (887)\ttotal: 1.69s\tremaining: 213ms\n",
      "888:\tlearn: 9.1522487\ttest: 15.6164907\tbest: 15.6164907 (888)\ttotal: 1.69s\tremaining: 211ms\n",
      "889:\tlearn: 9.1509435\ttest: 15.6165841\tbest: 15.6164907 (888)\ttotal: 1.69s\tremaining: 209ms\n",
      "890:\tlearn: 9.1401789\ttest: 15.6168509\tbest: 15.6164907 (888)\ttotal: 1.69s\tremaining: 207ms\n",
      "891:\tlearn: 9.1360934\ttest: 15.6134758\tbest: 15.6134758 (891)\ttotal: 1.7s\tremaining: 205ms\n",
      "892:\tlearn: 9.1241780\ttest: 15.6104250\tbest: 15.6104250 (892)\ttotal: 1.7s\tremaining: 203ms\n",
      "893:\tlearn: 9.1227662\ttest: 15.6110414\tbest: 15.6104250 (892)\ttotal: 1.7s\tremaining: 202ms\n",
      "894:\tlearn: 9.1207434\ttest: 15.6111149\tbest: 15.6104250 (892)\ttotal: 1.7s\tremaining: 200ms\n",
      "895:\tlearn: 9.1193168\ttest: 15.6112162\tbest: 15.6104250 (892)\ttotal: 1.7s\tremaining: 198ms\n",
      "896:\tlearn: 9.1179094\ttest: 15.6113166\tbest: 15.6104250 (892)\ttotal: 1.7s\tremaining: 196ms\n",
      "897:\tlearn: 9.1164950\ttest: 15.6114115\tbest: 15.6104250 (892)\ttotal: 1.71s\tremaining: 194ms\n",
      "898:\tlearn: 9.1141849\ttest: 15.6085155\tbest: 15.6085155 (898)\ttotal: 1.71s\tremaining: 192ms\n",
      "899:\tlearn: 9.1099535\ttest: 15.6087611\tbest: 15.6085155 (898)\ttotal: 1.71s\tremaining: 190ms\n",
      "900:\tlearn: 9.1087080\ttest: 15.6088485\tbest: 15.6085155 (898)\ttotal: 1.71s\tremaining: 188ms\n",
      "901:\tlearn: 9.0956788\ttest: 15.6127503\tbest: 15.6085155 (898)\ttotal: 1.71s\tremaining: 186ms\n",
      "902:\tlearn: 9.0841073\ttest: 15.6135997\tbest: 15.6085155 (898)\ttotal: 1.71s\tremaining: 184ms\n",
      "903:\tlearn: 9.0827323\ttest: 15.6152515\tbest: 15.6085155 (898)\ttotal: 1.72s\tremaining: 182ms\n",
      "904:\tlearn: 9.0718148\ttest: 15.6193002\tbest: 15.6085155 (898)\ttotal: 1.72s\tremaining: 180ms\n",
      "905:\tlearn: 9.0704264\ttest: 15.6187152\tbest: 15.6085155 (898)\ttotal: 1.72s\tremaining: 178ms\n",
      "906:\tlearn: 9.0691516\ttest: 15.6196720\tbest: 15.6085155 (898)\ttotal: 1.72s\tremaining: 176ms\n",
      "907:\tlearn: 9.0555838\ttest: 15.6178148\tbest: 15.6085155 (898)\ttotal: 1.72s\tremaining: 175ms\n",
      "908:\tlearn: 9.0456887\ttest: 15.6178760\tbest: 15.6085155 (898)\ttotal: 1.73s\tremaining: 173ms\n",
      "909:\tlearn: 9.0306487\ttest: 15.6143887\tbest: 15.6085155 (898)\ttotal: 1.73s\tremaining: 171ms\n",
      "910:\tlearn: 9.0249944\ttest: 15.6113285\tbest: 15.6085155 (898)\ttotal: 1.73s\tremaining: 169ms\n",
      "911:\tlearn: 9.0184733\ttest: 15.6065772\tbest: 15.6065772 (911)\ttotal: 1.73s\tremaining: 167ms\n",
      "912:\tlearn: 9.0170607\ttest: 15.6066808\tbest: 15.6065772 (911)\ttotal: 1.73s\tremaining: 165ms\n",
      "913:\tlearn: 9.0156626\ttest: 15.6084486\tbest: 15.6065772 (911)\ttotal: 1.73s\tremaining: 163ms\n",
      "914:\tlearn: 9.0138793\ttest: 15.6068008\tbest: 15.6065772 (911)\ttotal: 1.74s\tremaining: 161ms\n",
      "915:\tlearn: 9.0125073\ttest: 15.6068440\tbest: 15.6065772 (911)\ttotal: 1.74s\tremaining: 159ms\n",
      "916:\tlearn: 9.0055841\ttest: 15.6051481\tbest: 15.6051481 (916)\ttotal: 1.74s\tremaining: 157ms\n",
      "917:\tlearn: 9.0036588\ttest: 15.6033901\tbest: 15.6033901 (917)\ttotal: 1.74s\tremaining: 156ms\n",
      "918:\tlearn: 9.0013734\ttest: 15.6034297\tbest: 15.6033901 (917)\ttotal: 1.74s\tremaining: 154ms\n",
      "919:\tlearn: 9.0000032\ttest: 15.6034746\tbest: 15.6033901 (917)\ttotal: 1.74s\tremaining: 152ms\n",
      "920:\tlearn: 8.9986161\ttest: 15.6016206\tbest: 15.6016206 (920)\ttotal: 1.75s\tremaining: 150ms\n",
      "921:\tlearn: 8.9900587\ttest: 15.5984860\tbest: 15.5984860 (921)\ttotal: 1.75s\tremaining: 148ms\n",
      "922:\tlearn: 8.9866043\ttest: 15.5985863\tbest: 15.5984860 (921)\ttotal: 1.75s\tremaining: 146ms\n",
      "923:\tlearn: 8.9812283\ttest: 15.5951975\tbest: 15.5951975 (923)\ttotal: 1.75s\tremaining: 144ms\n",
      "924:\tlearn: 8.9788157\ttest: 15.5953427\tbest: 15.5951975 (923)\ttotal: 1.75s\tremaining: 142ms\n",
      "925:\tlearn: 8.9774309\ttest: 15.5954382\tbest: 15.5951975 (923)\ttotal: 1.75s\tremaining: 140ms\n",
      "926:\tlearn: 8.9723043\ttest: 15.5959788\tbest: 15.5951975 (923)\ttotal: 1.76s\tremaining: 138ms\n",
      "927:\tlearn: 8.9651238\ttest: 15.5972513\tbest: 15.5951975 (923)\ttotal: 1.76s\tremaining: 136ms\n",
      "928:\tlearn: 8.9638697\ttest: 15.5973338\tbest: 15.5951975 (923)\ttotal: 1.76s\tremaining: 135ms\n",
      "929:\tlearn: 8.9606463\ttest: 15.5981119\tbest: 15.5951975 (923)\ttotal: 1.76s\tremaining: 133ms\n",
      "930:\tlearn: 8.9488887\ttest: 15.5949248\tbest: 15.5949248 (930)\ttotal: 1.76s\tremaining: 131ms\n",
      "931:\tlearn: 8.9341517\ttest: 15.5912315\tbest: 15.5912315 (931)\ttotal: 1.77s\tremaining: 129ms\n",
      "932:\tlearn: 8.9327963\ttest: 15.5912101\tbest: 15.5912101 (932)\ttotal: 1.77s\tremaining: 127ms\n",
      "933:\tlearn: 8.9314531\ttest: 15.5922775\tbest: 15.5912101 (932)\ttotal: 1.77s\tremaining: 125ms\n",
      "934:\tlearn: 8.9302340\ttest: 15.5923635\tbest: 15.5912101 (932)\ttotal: 1.77s\tremaining: 123ms\n",
      "935:\tlearn: 8.9289935\ttest: 15.5924047\tbest: 15.5912101 (932)\ttotal: 1.77s\tremaining: 121ms\n",
      "936:\tlearn: 8.9143509\ttest: 15.5895596\tbest: 15.5895596 (936)\ttotal: 1.77s\tremaining: 119ms\n",
      "937:\tlearn: 8.9130940\ttest: 15.5895982\tbest: 15.5895596 (936)\ttotal: 1.78s\tremaining: 117ms\n",
      "938:\tlearn: 8.9118570\ttest: 15.5905834\tbest: 15.5895596 (936)\ttotal: 1.78s\tremaining: 116ms\n",
      "939:\tlearn: 8.9007316\ttest: 15.5894727\tbest: 15.5894727 (939)\ttotal: 1.78s\tremaining: 114ms\n",
      "940:\tlearn: 8.8993906\ttest: 15.5895096\tbest: 15.5894727 (939)\ttotal: 1.78s\tremaining: 112ms\n",
      "941:\tlearn: 8.8976029\ttest: 15.5872561\tbest: 15.5872561 (941)\ttotal: 1.78s\tremaining: 110ms\n",
      "942:\tlearn: 8.8899400\ttest: 15.5871626\tbest: 15.5871626 (942)\ttotal: 1.78s\tremaining: 108ms\n",
      "943:\tlearn: 8.8887128\ttest: 15.5859454\tbest: 15.5859454 (943)\ttotal: 1.79s\tremaining: 106ms\n",
      "944:\tlearn: 8.8873775\ttest: 15.5859819\tbest: 15.5859454 (943)\ttotal: 1.79s\tremaining: 104ms\n",
      "945:\tlearn: 8.8780733\ttest: 15.5867565\tbest: 15.5859454 (943)\ttotal: 1.79s\tremaining: 102ms\n",
      "946:\tlearn: 8.8768382\ttest: 15.5868368\tbest: 15.5859454 (943)\ttotal: 1.79s\tremaining: 100ms\n",
      "947:\tlearn: 8.8746586\ttest: 15.5844208\tbest: 15.5844208 (947)\ttotal: 1.79s\tremaining: 98.5ms\n",
      "948:\tlearn: 8.8653463\ttest: 15.5810730\tbest: 15.5810730 (948)\ttotal: 1.8s\tremaining: 96.6ms\n",
      "949:\tlearn: 8.8633703\ttest: 15.5798409\tbest: 15.5798409 (949)\ttotal: 1.8s\tremaining: 94.7ms\n",
      "950:\tlearn: 8.8551371\ttest: 15.5808102\tbest: 15.5798409 (949)\ttotal: 1.8s\tremaining: 92.8ms\n",
      "951:\tlearn: 8.8514153\ttest: 15.5817184\tbest: 15.5798409 (949)\ttotal: 1.8s\tremaining: 90.9ms\n",
      "952:\tlearn: 8.8467528\ttest: 15.5805607\tbest: 15.5798409 (949)\ttotal: 1.8s\tremaining: 89ms\n",
      "953:\tlearn: 8.8438748\ttest: 15.5814781\tbest: 15.5798409 (949)\ttotal: 1.81s\tremaining: 87.1ms\n",
      "954:\tlearn: 8.8425341\ttest: 15.5815217\tbest: 15.5798409 (949)\ttotal: 1.81s\tremaining: 85.2ms\n",
      "955:\tlearn: 8.8412050\ttest: 15.5809763\tbest: 15.5798409 (949)\ttotal: 1.81s\tremaining: 83.3ms\n",
      "956:\tlearn: 8.8259438\ttest: 15.5709302\tbest: 15.5709302 (956)\ttotal: 1.81s\tremaining: 81.4ms\n",
      "957:\tlearn: 8.8163796\ttest: 15.5722428\tbest: 15.5709302 (956)\ttotal: 1.81s\tremaining: 79.6ms\n",
      "958:\tlearn: 8.8138690\ttest: 15.5716845\tbest: 15.5709302 (956)\ttotal: 1.82s\tremaining: 77.7ms\n",
      "959:\tlearn: 8.8125489\ttest: 15.5716878\tbest: 15.5709302 (956)\ttotal: 1.82s\tremaining: 75.8ms\n",
      "960:\tlearn: 8.8112430\ttest: 15.5709639\tbest: 15.5709302 (956)\ttotal: 1.82s\tremaining: 73.9ms\n",
      "961:\tlearn: 8.8100581\ttest: 15.5709705\tbest: 15.5709302 (956)\ttotal: 1.82s\tremaining: 72ms\n",
      "962:\tlearn: 8.8087432\ttest: 15.5708167\tbest: 15.5708167 (962)\ttotal: 1.82s\tremaining: 70.1ms\n",
      "963:\tlearn: 8.8061819\ttest: 15.5703110\tbest: 15.5703110 (963)\ttotal: 1.83s\tremaining: 68.2ms\n",
      "964:\tlearn: 8.8048521\ttest: 15.5704125\tbest: 15.5703110 (963)\ttotal: 1.83s\tremaining: 66.3ms\n",
      "965:\tlearn: 8.7984369\ttest: 15.5712208\tbest: 15.5703110 (963)\ttotal: 1.83s\tremaining: 64.4ms\n",
      "966:\tlearn: 8.7971094\ttest: 15.5713180\tbest: 15.5703110 (963)\ttotal: 1.83s\tremaining: 62.5ms\n",
      "967:\tlearn: 8.7866729\ttest: 15.5692351\tbest: 15.5692351 (967)\ttotal: 1.83s\tremaining: 60.6ms\n",
      "968:\tlearn: 8.7720050\ttest: 15.5703744\tbest: 15.5692351 (967)\ttotal: 1.84s\tremaining: 58.8ms\n",
      "969:\tlearn: 8.7575099\ttest: 15.5717015\tbest: 15.5692351 (967)\ttotal: 1.84s\tremaining: 56.9ms\n",
      "970:\tlearn: 8.7561672\ttest: 15.5717957\tbest: 15.5692351 (967)\ttotal: 1.84s\tremaining: 55ms\n",
      "971:\tlearn: 8.7548350\ttest: 15.5727928\tbest: 15.5692351 (967)\ttotal: 1.84s\tremaining: 53.1ms\n",
      "972:\tlearn: 8.7536465\ttest: 15.5728340\tbest: 15.5692351 (967)\ttotal: 1.84s\tremaining: 51.2ms\n",
      "973:\tlearn: 8.7425654\ttest: 15.5720061\tbest: 15.5692351 (967)\ttotal: 1.85s\tremaining: 49.3ms\n",
      "974:\tlearn: 8.7414309\ttest: 15.5719971\tbest: 15.5692351 (967)\ttotal: 1.85s\tremaining: 47.4ms\n",
      "975:\tlearn: 8.7401858\ttest: 15.5711761\tbest: 15.5692351 (967)\ttotal: 1.85s\tremaining: 45.5ms\n",
      "976:\tlearn: 8.7388747\ttest: 15.5700061\tbest: 15.5692351 (967)\ttotal: 1.85s\tremaining: 43.6ms\n",
      "977:\tlearn: 8.7375813\ttest: 15.5700421\tbest: 15.5692351 (967)\ttotal: 1.85s\tremaining: 41.7ms\n",
      "978:\tlearn: 8.7231905\ttest: 15.5717067\tbest: 15.5692351 (967)\ttotal: 1.85s\tremaining: 39.8ms\n",
      "979:\tlearn: 8.7213194\ttest: 15.5719937\tbest: 15.5692351 (967)\ttotal: 1.86s\tremaining: 37.9ms\n",
      "980:\tlearn: 8.7201435\ttest: 15.5725868\tbest: 15.5692351 (967)\ttotal: 1.86s\tremaining: 36ms\n",
      "981:\tlearn: 8.7189755\ttest: 15.5726183\tbest: 15.5692351 (967)\ttotal: 1.86s\tremaining: 34.1ms\n",
      "982:\tlearn: 8.7143707\ttest: 15.5764404\tbest: 15.5692351 (967)\ttotal: 1.86s\tremaining: 32.2ms\n",
      "983:\tlearn: 8.7132616\ttest: 15.5763680\tbest: 15.5692351 (967)\ttotal: 1.86s\tremaining: 30.3ms\n",
      "984:\tlearn: 8.7119595\ttest: 15.5764668\tbest: 15.5692351 (967)\ttotal: 1.87s\tremaining: 28.4ms\n",
      "985:\tlearn: 8.7100777\ttest: 15.5749614\tbest: 15.5692351 (967)\ttotal: 1.87s\tremaining: 26.5ms\n",
      "986:\tlearn: 8.7007425\ttest: 15.5721764\tbest: 15.5692351 (967)\ttotal: 1.87s\tremaining: 24.6ms\n",
      "987:\tlearn: 8.6990105\ttest: 15.5717445\tbest: 15.5692351 (967)\ttotal: 1.87s\tremaining: 22.7ms\n",
      "988:\tlearn: 8.6978582\ttest: 15.5709914\tbest: 15.5692351 (967)\ttotal: 1.87s\tremaining: 20.8ms\n",
      "989:\tlearn: 8.6857812\ttest: 15.5680728\tbest: 15.5680728 (989)\ttotal: 1.87s\tremaining: 18.9ms\n",
      "990:\tlearn: 8.6844793\ttest: 15.5690768\tbest: 15.5680728 (989)\ttotal: 1.88s\tremaining: 17ms\n",
      "991:\tlearn: 8.6833423\ttest: 15.5690811\tbest: 15.5680728 (989)\ttotal: 1.88s\tremaining: 15.1ms\n",
      "992:\tlearn: 8.6820699\ttest: 15.5696254\tbest: 15.5680728 (989)\ttotal: 1.88s\tremaining: 13.3ms\n",
      "993:\tlearn: 8.6799360\ttest: 15.5695664\tbest: 15.5680728 (989)\ttotal: 1.88s\tremaining: 11.4ms\n",
      "994:\tlearn: 8.6740001\ttest: 15.5675813\tbest: 15.5675813 (994)\ttotal: 1.89s\tremaining: 9.52ms\n",
      "995:\tlearn: 8.6659501\ttest: 15.5661721\tbest: 15.5661721 (995)\ttotal: 1.9s\tremaining: 7.62ms\n",
      "996:\tlearn: 8.6524241\ttest: 15.5612951\tbest: 15.5612951 (996)\ttotal: 1.9s\tremaining: 5.71ms\n",
      "997:\tlearn: 8.6416211\ttest: 15.5653787\tbest: 15.5612951 (996)\ttotal: 1.9s\tremaining: 3.81ms\n",
      "998:\tlearn: 8.6403651\ttest: 15.5646929\tbest: 15.5612951 (996)\ttotal: 1.9s\tremaining: 1.9ms\n",
      "999:\tlearn: 8.6391493\ttest: 15.5646930\tbest: 15.5612951 (996)\ttotal: 1.9s\tremaining: 0us\n",
      "\n",
      "bestTest = 15.56129514\n",
      "bestIteration = 996\n",
      "\n",
      "Shrink model to first 997 iterations.\n"
     ]
    },
    {
     "data": {
      "text/plain": [
       "<catboost.core.CatBoostRegressor at 0x7f89e7bb2ad0>"
      ]
     },
     "execution_count": 244,
     "metadata": {},
     "output_type": "execute_result"
    }
   ],
   "source": [
    "cb_reg = CatBoostRegressor()\n",
    "\n",
    "cb_reg.fit(X_train, y_train, eval_set=(X_val, y_val), \n",
    "           use_best_model=True, plot=True, \n",
    "           early_stopping_rounds=early_stop_rounds)"
   ]
  },
  {
   "cell_type": "code",
   "execution_count": null,
   "metadata": {},
   "outputs": [
    {
     "data": {
      "text/plain": [
       "15.561295136073483"
      ]
     },
     "execution_count": 245,
     "metadata": {},
     "output_type": "execute_result"
    }
   ],
   "source": [
    "val_preds = cb_reg.predict(X_val)\n",
    "\n",
    "# calculate mean squared error on val sub-set preds\n",
    "np.sqrt(mean_squared_error(val_preds, y_val))"
   ]
  },
  {
   "cell_type": "code",
   "execution_count": null,
   "metadata": {},
   "outputs": [],
   "source": [
    "def residual_plot(train_labels, train_preds, test_labels=None, test_preds=None, \n",
    "                  title=\"Residual Plot\", figsize=(9,6), xlim=[6.5, 9.5]):\n",
    "    \"\"\" Residual plot to evaluate performance of our simple linear regressor \"\"\"\n",
    "    plt.figure(figsize=figsize)\n",
    "    plt.scatter(train_preds, train_preds - train_labels, c='blue', alpha=0.1,\n",
    "                marker='o', edgecolors='white', label='Training')\n",
    "    \n",
    "    if test_labels is not None:\n",
    "        plt.scatter(test_preds, test_preds - test_labels, c='red', alpha=0.1,\n",
    "                    marker='^', edgecolors='white', label='Test')\n",
    "    plt.xlabel('Predicted values')\n",
    "    plt.ylabel('Residuals')\n",
    "    plt.hlines(y=0, xmin=xlim[0], xmax=xlim[1], color='black', lw=2)\n",
    "    plt.xlim(xlim)\n",
    "    if test_labels is not None:\n",
    "        plt.legend(loc='best')\n",
    "    plt.title(title)\n",
    "    plt.show()\n",
    "    return"
   ]
  },
  {
   "cell_type": "code",
   "execution_count": null,
   "metadata": {},
   "outputs": [
    {
     "data": {
      "image/png": "[encoded data removed]",
      "text/plain": [
       "<Figure size 648x432 with 1 Axes>"
      ]
     },
     "metadata": {
      "needs_background": "light"
     },
     "output_type": "display_data"
    }
   ],
   "source": [
    "train_preds = cb_reg.predict(X_train)\n",
    "\n",
    "residual_plot(y_train[:10000], train_preds[:10000], \n",
    "              y_val[:10000], val_preds[:10000], \n",
    "              title=\"CatBoost Residual Plot\")"
   ]
  },
  {
   "cell_type": "code",
   "execution_count": null,
   "metadata": {},
   "outputs": [
    {
     "data": {
      "text/html": [
       "<div>\n",
       "<style scoped>\n",
       "    .dataframe tbody tr th:only-of-type {\n",
       "        vertical-align: middle;\n",
       "    }\n",
       "\n",
       "    .dataframe tbody tr th {\n",
       "        vertical-align: top;\n",
       "    }\n",
       "\n",
       "    .dataframe thead th {\n",
       "        text-align: right;\n",
       "    }\n",
       "</style>\n",
       "<table border=\"1\" class=\"dataframe\">\n",
       "  <thead>\n",
       "    <tr style=\"text-align: right;\">\n",
       "      <th></th>\n",
       "      <th>Feature Id</th>\n",
       "      <th>Importances</th>\n",
       "    </tr>\n",
       "  </thead>\n",
       "  <tbody>\n",
       "    <tr>\n",
       "      <th>0</th>\n",
       "      <td>len_of_content</td>\n",
       "      <td>5.761227</td>\n",
       "    </tr>\n",
       "    <tr>\n",
       "      <th>1</th>\n",
       "      <td>price</td>\n",
       "      <td>5.286588</td>\n",
       "    </tr>\n",
       "    <tr>\n",
       "      <th>2</th>\n",
       "      <td>pca_10</td>\n",
       "      <td>4.628413</td>\n",
       "    </tr>\n",
       "    <tr>\n",
       "      <th>3</th>\n",
       "      <td>pca_6</td>\n",
       "      <td>4.357469</td>\n",
       "    </tr>\n",
       "    <tr>\n",
       "      <th>4</th>\n",
       "      <td>pca_2</td>\n",
       "      <td>3.979073</td>\n",
       "    </tr>\n",
       "    <tr>\n",
       "      <th>...</th>\n",
       "      <td>...</td>\n",
       "      <td>...</td>\n",
       "    </tr>\n",
       "    <tr>\n",
       "      <th>891</th>\n",
       "      <td>x1_حي ظهرة البديعة</td>\n",
       "      <td>0.000000</td>\n",
       "    </tr>\n",
       "    <tr>\n",
       "      <th>892</th>\n",
       "      <td>x1_حي عتيقة</td>\n",
       "      <td>0.000000</td>\n",
       "    </tr>\n",
       "    <tr>\n",
       "      <th>893</th>\n",
       "      <td>x1_حي غبيرة</td>\n",
       "      <td>0.000000</td>\n",
       "    </tr>\n",
       "    <tr>\n",
       "      <th>894</th>\n",
       "      <td>x1_حي منفوحة</td>\n",
       "      <td>0.000000</td>\n",
       "    </tr>\n",
       "    <tr>\n",
       "      <th>895</th>\n",
       "      <td>x1_حي نمار</td>\n",
       "      <td>0.000000</td>\n",
       "    </tr>\n",
       "  </tbody>\n",
       "</table>\n",
       "<p>896 rows × 2 columns</p>\n",
       "</div>"
      ],
      "text/plain": [
       "             Feature Id  Importances\n",
       "0        len_of_content     5.761227\n",
       "1                 price     5.286588\n",
       "2                pca_10     4.628413\n",
       "3                 pca_6     4.357469\n",
       "4                 pca_2     3.979073\n",
       "..                  ...          ...\n",
       "891  x1_حي ظهرة البديعة     0.000000\n",
       "892         x1_حي عتيقة     0.000000\n",
       "893         x1_حي غبيرة     0.000000\n",
       "894        x1_حي منفوحة     0.000000\n",
       "895          x1_حي نمار     0.000000\n",
       "\n",
       "[896 rows x 2 columns]"
      ]
     },
     "execution_count": 248,
     "metadata": {},
     "output_type": "execute_result"
    }
   ],
   "source": [
    "feat_importances = cb_reg.get_feature_importance(prettified=True)\n",
    "feat_importances"
   ]
  },
  {
   "cell_type": "code",
   "execution_count": null,
   "metadata": {},
   "outputs": [
    {
     "data": {
      "text/plain": [
       "Text(0.5, 1.0, 'CatBoost features importance:')"
      ]
     },
     "execution_count": 249,
     "metadata": {},
     "output_type": "execute_result"
    },
    {
     "data": {
      "image/png": "[encoded data removed]",
      "text/plain": [
       "<Figure size 864x720 with 1 Axes>"
      ]
     },
     "metadata": {
      "needs_background": "light"
     },
     "output_type": "display_data"
    }
   ],
   "source": [
    "plt.figure(figsize=(12, 10))\n",
    "sns.barplot(x=\"Importances\", y=\"Feature Id\", data=feat_importances.loc[:30, :])\n",
    "plt.title('CatBoost features importance:')"
   ]
  },
  {
   "cell_type": "code",
   "execution_count": null,
   "metadata": {},
   "outputs": [],
   "source": [
    "train_data = Pool(data=X_train, label=y_train)\n",
    "\n",
    "val_data = Pool(data=X_val, label=y_val)"
   ]
  },
  {
   "cell_type": "code",
   "execution_count": null,
   "metadata": {},
   "outputs": [],
   "source": [
    "explainer = shap.TreeExplainer(cb_reg_1) \n",
    "shap_values = explainer.shap_values(train_data)\n",
    "\n",
    "# shap.initjs()\n",
    "# shap.force_plot(explainer.expected_value, shap_values[:100,:], X_train.iloc[:100,:])"
   ]
  },
  {
   "cell_type": "code",
   "execution_count": null,
   "metadata": {},
   "outputs": [
    {
     "data": {
      "image/png": "[encoded data removed]",
      "text/plain": [
       "<Figure size 576x684 with 2 Axes>"
      ]
     },
     "metadata": {
      "needs_background": "light"
     },
     "output_type": "display_data"
    }
   ],
   "source": [
    "shap.summary_plot(shap_values, X_train)"
   ]
  },
  {
   "cell_type": "code",
   "execution_count": 46,
   "metadata": {},
   "outputs": [],
   "source": [
    "N_FOLDS =5\n",
    "k_folds = KFold(n_splits=N_FOLDS, shuffle=True)\n",
    "\n",
    "# convert y values into appropriate form\n",
    "y_array = y.values.reshape(-1, 1)"
   ]
  },
  {
   "cell_type": "code",
   "execution_count": 47,
   "metadata": {},
   "outputs": [
    {
     "name": "stderr",
     "output_type": "stream",
     "text": [
      "0it [00:00, ?it/s]\n"
     ]
    },
    {
     "ename": "NameError",
     "evalue": "name 'early_stop_rounds' is not defined",
     "output_type": "error",
     "traceback": [
      "\u001b[0;31m---------------------------------------------------------------------------\u001b[0m",
      "\u001b[0;31mNameError\u001b[0m                                 Traceback (most recent call last)",
      "\u001b[1;32m/workspaces/aqar1/src/regression.ipynb Cell 58\u001b[0m in \u001b[0;36m<cell line: 4>\u001b[0;34m()\u001b[0m\n\u001b[1;32m     <a href='vscode-notebook-cell://dev-container%2B7b227265706f7369746f727950617468223a2268747470733a2f2f6769746875622e636f6d2f416264756c6d616c696b2d72656264692f6171617231222c22766f6c756d654e616d65223a225f5f554e495155455f5f222c22666f6c646572223a226171617231222c22636c6f6e65496e666f223a7b2275726c546f436c6f6e65223a2268747470733a2f2f6769746875622e636f6d2f416264756c6d616c696b2d72656264692f6171617231227d2c22696e7370656374566f6c756d65223a66616c73657d/workspaces/aqar1/src/regression.ipynb#ch0000057vscode-remote?line=9'>10</a>\u001b[0m temp_model \u001b[39m=\u001b[39m CatBoostRegressor()\n\u001b[1;32m     <a href='vscode-notebook-cell://dev-container%2B7b227265706f7369746f727950617468223a2268747470733a2f2f6769746875622e636f6d2f416264756c6d616c696b2d72656264692f6171617231222c22766f6c756d654e616d65223a225f5f554e495155455f5f222c22666f6c646572223a226171617231222c22636c6f6e65496e666f223a7b2275726c546f436c6f6e65223a2268747470733a2f2f6769746875622e636f6d2f416264756c6d616c696b2d72656264692f6171617231227d2c22696e7370656374566f6c756d65223a66616c73657d/workspaces/aqar1/src/regression.ipynb#ch0000057vscode-remote?line=11'>12</a>\u001b[0m \u001b[39m# train model for 100 epochs with early stopping\u001b[39;00m\n\u001b[1;32m     <a href='vscode-notebook-cell://dev-container%2B7b227265706f7369746f727950617468223a2268747470733a2f2f6769746875622e636f6d2f416264756c6d616c696b2d72656264692f6171617231222c22766f6c756d654e616d65223a225f5f554e495155455f5f222c22666f6c646572223a226171617231222c22636c6f6e65496e666f223a7b2275726c546f436c6f6e65223a2268747470733a2f2f6769746875622e636f6d2f416264756c6d616c696b2d72656264692f6171617231227d2c22696e7370656374566f6c756d65223a66616c73657d/workspaces/aqar1/src/regression.ipynb#ch0000057vscode-remote?line=12'>13</a>\u001b[0m temp_model\u001b[39m.\u001b[39mfit(train_split, train_labels, \n\u001b[1;32m     <a href='vscode-notebook-cell://dev-container%2B7b227265706f7369746f727950617468223a2268747470733a2f2f6769746875622e636f6d2f416264756c6d616c696b2d72656264692f6171617231222c22766f6c756d654e616d65223a225f5f554e495155455f5f222c22666f6c646572223a226171617231222c22636c6f6e65496e666f223a7b2275726c546f436c6f6e65223a2268747470733a2f2f6769746875622e636f6d2f416264756c6d616c696b2d72656264692f6171617231227d2c22696e7370656374566f6c756d65223a66616c73657d/workspaces/aqar1/src/regression.ipynb#ch0000057vscode-remote?line=13'>14</a>\u001b[0m            eval_set\u001b[39m=\u001b[39m(val_split, val_labels), \n\u001b[1;32m     <a href='vscode-notebook-cell://dev-container%2B7b227265706f7369746f727950617468223a2268747470733a2f2f6769746875622e636f6d2f416264756c6d616c696b2d72656264692f6171617231222c22766f6c756d654e616d65223a225f5f554e495155455f5f222c22666f6c646572223a226171617231222c22636c6f6e65496e666f223a7b2275726c546f436c6f6e65223a2268747470733a2f2f6769746875622e636f6d2f416264756c6d616c696b2d72656264692f6171617231227d2c22696e7370656374566f6c756d65223a66616c73657d/workspaces/aqar1/src/regression.ipynb#ch0000057vscode-remote?line=14'>15</a>\u001b[0m            use_best_model\u001b[39m=\u001b[39m\u001b[39mTrue\u001b[39;00m,\n\u001b[0;32m---> <a href='vscode-notebook-cell://dev-container%2B7b227265706f7369746f727950617468223a2268747470733a2f2f6769746875622e636f6d2f416264756c6d616c696b2d72656264692f6171617231222c22766f6c756d654e616d65223a225f5f554e495155455f5f222c22666f6c646572223a226171617231222c22636c6f6e65496e666f223a7b2275726c546f436c6f6e65223a2268747470733a2f2f6769746875622e636f6d2f416264756c6d616c696b2d72656264692f6171617231227d2c22696e7370656374566f6c756d65223a66616c73657d/workspaces/aqar1/src/regression.ipynb#ch0000057vscode-remote?line=15'>16</a>\u001b[0m            early_stopping_rounds\u001b[39m=\u001b[39mearly_stop_rounds)\n\u001b[1;32m     <a href='vscode-notebook-cell://dev-container%2B7b227265706f7369746f727950617468223a2268747470733a2f2f6769746875622e636f6d2f416264756c6d616c696b2d72656264692f6171617231222c22766f6c756d654e616d65223a225f5f554e495155455f5f222c22666f6c646572223a226171617231222c22636c6f6e65496e666f223a7b2275726c546f436c6f6e65223a2268747470733a2f2f6769746875622e636f6d2f416264756c6d616c696b2d72656264692f6171617231227d2c22696e7370656374566f6c756d65223a66616c73657d/workspaces/aqar1/src/regression.ipynb#ch0000057vscode-remote?line=17'>18</a>\u001b[0m \u001b[39m# find log loss for out of fold val data\u001b[39;00m\n\u001b[1;32m     <a href='vscode-notebook-cell://dev-container%2B7b227265706f7369746f727950617468223a2268747470733a2f2f6769746875622e636f6d2f416264756c6d616c696b2d72656264692f6171617231222c22766f6c756d654e616d65223a225f5f554e495155455f5f222c22666f6c646572223a226171617231222c22636c6f6e65496e666f223a7b2275726c546f436c6f6e65223a2268747470733a2f2f6769746875622e636f6d2f416264756c6d616c696b2d72656264692f6171617231227d2c22696e7370656374566f6c756d65223a66616c73657d/workspaces/aqar1/src/regression.ipynb#ch0000057vscode-remote?line=18'>19</a>\u001b[0m model_val_preds \u001b[39m=\u001b[39m temp_model\u001b[39m.\u001b[39mpredict(val_split)\n",
      "\u001b[0;31mNameError\u001b[0m: name 'early_stop_rounds' is not defined"
     ]
    }
   ],
   "source": [
    "model_rmses = []\n",
    "test_preds = np.zeros((X_test.shape[0], 1))\n",
    "\n",
    "for train_idx, val_idx in tqdm(k_folds.split(X, y)):\n",
    "    train_split = X.iloc[train_idx].copy()\n",
    "    train_labels = y.iloc[train_idx].astype(np.float64).copy()\n",
    "    val_split = X.iloc[val_idx].copy()\n",
    "    val_labels = y.iloc[val_idx].astype(np.float64).copy()\n",
    "    \n",
    "    temp_model = CatBoostRegressor()\n",
    "    \n",
    "    # train model for 100 epochs with early stopping\n",
    "    temp_model.fit(train_split, train_labels, \n",
    "               eval_set=(val_split, val_labels), \n",
    "               use_best_model=True,\n",
    "               early_stopping_rounds=early_stop_rounds)\n",
    "    \n",
    "    # find log loss for out of fold val data\n",
    "    model_val_preds = temp_model.predict(val_split)\n",
    "    \n",
    "    # calculate mean squared error on val sub-set preds\n",
    "    fold_rmse = np.sqrt(mean_squared_error(model_val_preds, val_labels))\n",
    "    model_rmses.append(fold_rmse)\n",
    "    print(f'Current Fold validation RMSE: {fold_rmse:.4f}')\n",
    "    \n",
    "    # make predictions on test set for each fold\n",
    "    temp_test_preds = temp_model.predict(X_test).reshape(-1, 1)\n",
    "    test_preds += (temp_test_preds / N_FOLDS)\n",
    "\n",
    "# convert results to np array\n",
    "model_rmses = np.array(model_rmses)\n"
   ]
  },
  {
   "cell_type": "code",
   "execution_count": null,
   "metadata": {},
   "outputs": [
    {
     "data": {
      "image/png": "[encoded data removed]",
      "text/plain": [
       "<Figure size 576x288 with 1 Axes>"
      ]
     },
     "metadata": {
      "needs_background": "light"
     },
     "output_type": "display_data"
    }
   ],
   "source": [
    "plt.figure(figsize=(8,4))\n",
    "sns.lineplot(x=range(1, model_rmses.shape[0]+1), y=model_rmses)\n",
    "plt.xlabel(\"Fold Number\", weight='bold')\n",
    "plt.ylabel(\"Validation RMSE\", weight='bold')\n",
    "plt.grid()\n",
    "plt.show()"
   ]
  },
  {
   "cell_type": "markdown",
   "metadata": {},
   "source": [
    "---------\n"
   ]
  },
  {
   "cell_type": "code",
   "execution_count": 48,
   "metadata": {},
   "outputs": [
    {
     "name": "stderr",
     "output_type": "stream",
     "text": [
      "2022-08-23 10:30:08.145176: W tensorflow/stream_executor/platform/default/dso_loader.cc:64] Could not load dynamic library 'libcudart.so.11.0'; dlerror: libcudart.so.11.0: cannot open shared object file: No such file or directory; LD_LIBRARY_PATH: /home/vscode/.local/lib/python3.10/site-packages/cv2/../../lib64:\n",
      "2022-08-23 10:30:08.145205: I tensorflow/stream_executor/cuda/cudart_stub.cc:29] Ignore above cudart dlerror if you do not have a GPU set up on your machine.\n"
     ]
    }
   ],
   "source": [
    "import tensorflow as tf\n",
    "import numpy as np\n",
    "import pandas as pd\n",
    "import matplotlib.pyplot as plt\n",
    "import seaborn as sns\n",
    "import sklearn"
   ]
  },
  {
   "cell_type": "markdown",
   "metadata": {},
   "source": [
    "# LGBMRegressor"
   ]
  },
  {
   "cell_type": "code",
   "execution_count": 49,
   "metadata": {},
   "outputs": [
    {
     "data": {
      "text/plain": [
       "17.091857405953608"
      ]
     },
     "execution_count": 49,
     "metadata": {},
     "output_type": "execute_result"
    }
   ],
   "source": [
    "from lightgbm import LGBMRegressor\n",
    "\n",
    "lgbmRegressor = LGBMRegressor()\n",
    "model_pipeline = Pipeline(steps=[\n",
    "  (\"preprocessor\", preprocessor),\n",
    "  (\"lgbmRegressor\", lgbmRegressor),\n",
    "])\n",
    "model_pipeline.fit(X_train, y_train)\n",
    "results = cross_val_score(model_pipeline, X_test, y_test.values.ravel(), cv=k, scoring=loss)\n",
    "\n",
    "np.abs(np.mean(results))"
   ]
  },
  {
   "cell_type": "markdown",
   "metadata": {},
   "source": [
    "\n",
    "# XGBRegressor"
   ]
  },
  {
   "cell_type": "code",
   "execution_count": 50,
   "metadata": {},
   "outputs": [],
   "source": [
    "from xgboost import XGBRegressor"
   ]
  },
  {
   "cell_type": "code",
   "execution_count": 51,
   "metadata": {},
   "outputs": [
    {
     "data": {
      "text/plain": [
       "16.513401562489552"
      ]
     },
     "execution_count": 51,
     "metadata": {},
     "output_type": "execute_result"
    }
   ],
   "source": [
    "\n",
    "kf = KFold(n_splits=5, shuffle=True, random_state=0)\n",
    "\n",
    "# defining model\n",
    "xgbreg = XGBRegressor()\n",
    "model_pipeline = Pipeline(steps=[\n",
    "  (\"preprocessor\", preprocessor),\n",
    "  (\"xgbreg\", xgbreg),\n",
    "])\n",
    "# taking positive because cross val score returns -ve values\n",
    "results = cross_val_score(model_pipeline, X_test, y_test.values.ravel(), cv=k, scoring=loss)\n",
    "\n",
    "np.abs(np.mean(results))\n",
    "# printing the output\n",
    "# print(f\"Scores - {scores}\\nMean - {sum(scores)/len(scores)}\")"
   ]
  },
  {
   "cell_type": "code",
   "execution_count": 52,
   "metadata": {},
   "outputs": [],
   "source": [
    "# print(f\"Scores - {results}\\nMean - {sum(results)/len(results)}\")"
   ]
  },
  {
   "cell_type": "code",
   "execution_count": 53,
   "metadata": {},
   "outputs": [],
   "source": [
    "def Objective(trial):\n",
    "    params = {\n",
    "        \"n_estimators\": trial.suggest_categorical(\"n_estimators\", [150, 200, 250, 300]),\n",
    "        \"eta\": trial.suggest_loguniform(\"eta\",1e-2,0.1),\n",
    "        \"subsample\": trial.suggest_discrete_uniform(\"subsample\", 0.6,1,0.1),\n",
    "        \"min_child_weight\": trial.suggest_int(\"min_child_weight\",5,11),\n",
    "        \"colsample_bytree\": trial.suggest_discrete_uniform(\"colsample_bytree\", 0.6,1,0.1),\n",
    "        \"max_depth\": trial.suggest_categorical(\"max_depth\",[5,7,9,11,13]),\n",
    "        \"random_state\": 2021\n",
    "    }\n",
    "    \n",
    "    model = XGBRegressor(**params)\n",
    "    \n",
    "    model_pipeline = Pipeline(steps=[\n",
    "    (\"preprocessor\", preprocessor),\n",
    "     (\"model\", model),\n",
    "    ])\n",
    "    # taking positive because cross val score returns -ve values\n",
    "    \n",
    "    results = cross_val_score(model_pipeline, X_test, y_test.values.ravel(), cv=k, scoring=loss)\n",
    "\n",
    "    \n",
    "    \n",
    "    return np.abs(np.mean(results))"
   ]
  },
  {
   "cell_type": "code",
   "execution_count": 54,
   "metadata": {},
   "outputs": [],
   "source": [
    "import optuna"
   ]
  },
  {
   "cell_type": "code",
   "execution_count": 55,
   "metadata": {},
   "outputs": [
    {
     "name": "stderr",
     "output_type": "stream",
     "text": [
      "\u001b[32m[I 2022-08-23 10:30:39,986]\u001b[0m A new study created in memory with name: Xgboost optimization\u001b[0m\n",
      "\u001b[32m[I 2022-08-23 10:30:44,942]\u001b[0m Trial 0 finished with value: 16.56961579391857 and parameters: {'n_estimators': 200, 'eta': 0.015134451361365616, 'subsample': 0.6, 'min_child_weight': 6, 'colsample_bytree': 0.7, 'max_depth': 7}. Best is trial 0 with value: 16.56961579391857.\u001b[0m\n",
      "\u001b[32m[I 2022-08-23 10:30:49,038]\u001b[0m Trial 1 finished with value: 17.233435905982827 and parameters: {'n_estimators': 200, 'eta': 0.0833531931151819, 'subsample': 0.7, 'min_child_weight': 7, 'colsample_bytree': 0.7, 'max_depth': 13}. Best is trial 0 with value: 16.56961579391857.\u001b[0m\n",
      "\u001b[32m[I 2022-08-23 10:30:56,074]\u001b[0m Trial 2 finished with value: 16.68601027324142 and parameters: {'n_estimators': 250, 'eta': 0.013113901339836115, 'subsample': 0.6, 'min_child_weight': 8, 'colsample_bytree': 0.7, 'max_depth': 13}. Best is trial 0 with value: 16.56961579391857.\u001b[0m\n",
      "\u001b[32m[I 2022-08-23 10:31:05,899]\u001b[0m Trial 3 finished with value: 17.060243886412998 and parameters: {'n_estimators': 300, 'eta': 0.0517118772876554, 'subsample': 1.0, 'min_child_weight': 5, 'colsample_bytree': 0.8, 'max_depth': 9}. Best is trial 0 with value: 16.56961579391857.\u001b[0m\n",
      "\u001b[32m[I 2022-08-23 10:31:12,716]\u001b[0m Trial 4 finished with value: 16.671980963787174 and parameters: {'n_estimators': 300, 'eta': 0.013871683341821915, 'subsample': 0.6, 'min_child_weight': 6, 'colsample_bytree': 0.8, 'max_depth': 13}. Best is trial 0 with value: 16.56961579391857.\u001b[0m\n",
      "\u001b[32m[I 2022-08-23 10:31:17,209]\u001b[0m Trial 5 finished with value: 17.0909471994259 and parameters: {'n_estimators': 250, 'eta': 0.053229790468483404, 'subsample': 0.8, 'min_child_weight': 6, 'colsample_bytree': 0.8, 'max_depth': 11}. Best is trial 0 with value: 16.56961579391857.\u001b[0m\n",
      "\u001b[32m[I 2022-08-23 10:31:19,944]\u001b[0m Trial 6 finished with value: 16.77133825185345 and parameters: {'n_estimators': 150, 'eta': 0.012891471328634291, 'subsample': 0.8, 'min_child_weight': 11, 'colsample_bytree': 0.6, 'max_depth': 11}. Best is trial 0 with value: 16.56961579391857.\u001b[0m\n",
      "\u001b[32m[I 2022-08-23 10:31:22,967]\u001b[0m Trial 7 finished with value: 16.697643103390547 and parameters: {'n_estimators': 250, 'eta': 0.016907818525710033, 'subsample': 0.7, 'min_child_weight': 10, 'colsample_bytree': 0.8, 'max_depth': 5}. Best is trial 0 with value: 16.56961579391857.\u001b[0m\n",
      "\u001b[32m[I 2022-08-23 10:31:30,571]\u001b[0m Trial 8 finished with value: 17.62817820142786 and parameters: {'n_estimators': 300, 'eta': 0.05364472700172029, 'subsample': 0.6, 'min_child_weight': 9, 'colsample_bytree': 0.6, 'max_depth': 7}. Best is trial 0 with value: 16.56961579391857.\u001b[0m\n",
      "\u001b[32m[I 2022-08-23 10:31:33,501]\u001b[0m Trial 9 finished with value: 16.574843174667308 and parameters: {'n_estimators': 200, 'eta': 0.013286342165821259, 'subsample': 0.6, 'min_child_weight': 5, 'colsample_bytree': 0.8, 'max_depth': 9}. Best is trial 0 with value: 16.56961579391857.\u001b[0m\n"
     ]
    }
   ],
   "source": [
    "study = optuna.create_study(direction=\"minimize\", study_name='Xgboost optimization')\n",
    "study.optimize(Objective, n_trials=10)"
   ]
  },
  {
   "cell_type": "code",
   "execution_count": null,
   "metadata": {},
   "outputs": [],
   "source": []
  },
  {
   "cell_type": "code",
   "execution_count": 56,
   "metadata": {},
   "outputs": [
    {
     "data": {
      "text/plain": [
       "{'n_estimators': 200,\n",
       " 'eta': 0.015134451361365616,\n",
       " 'subsample': 0.6,\n",
       " 'min_child_weight': 6,\n",
       " 'colsample_bytree': 0.7,\n",
       " 'max_depth': 7}"
      ]
     },
     "execution_count": 56,
     "metadata": {},
     "output_type": "execute_result"
    }
   ],
   "source": [
    "XGB_params = study.best_params\n",
    "\n",
    "study.best_params"
   ]
  },
  {
   "cell_type": "markdown",
   "metadata": {},
   "source": [
    "# LightGBM"
   ]
  },
  {
   "cell_type": "code",
   "execution_count": 57,
   "metadata": {},
   "outputs": [],
   "source": [
    "import lightgbm as lgbm\n"
   ]
  },
  {
   "cell_type": "code",
   "execution_count": 58,
   "metadata": {},
   "outputs": [
    {
     "data": {
      "text/plain": [
       "17.091857405953608"
      ]
     },
     "execution_count": 58,
     "metadata": {},
     "output_type": "execute_result"
    }
   ],
   "source": [
    "lgbreg = lgbm.LGBMRegressor()\n",
    "model_pipeline = Pipeline(steps=[\n",
    "  (\"preprocessor\", preprocessor),\n",
    "  (\"lgbreg\", lgbreg),\n",
    "])\n",
    "# taking positive because cross val score returns -ve values\n",
    "results = cross_val_score(model_pipeline, X_test, y_test.values.ravel(), cv=k, scoring=loss)\n",
    "\n",
    "np.abs(np.mean(results))"
   ]
  },
  {
   "cell_type": "code",
   "execution_count": 59,
   "metadata": {},
   "outputs": [],
   "source": [
    "def Objective(trial):\n",
    "    params = {\n",
    "        'lambda_l1': trial.suggest_loguniform('lambda_l1', 1e-8, 10.0),\n",
    "        'lambda_l2': trial.suggest_loguniform('lambda_l2', 1e-8, 10.0),\n",
    "        'num_leaves': trial.suggest_int('num_leaves', 2, 256),\n",
    "        'feature_fraction': trial.suggest_uniform('feature_fraction', 0.4, 1.0),\n",
    "        'bagging_fraction': trial.suggest_uniform('bagging_fraction', 0.4, 1.0),\n",
    "        'bagging_freq': trial.suggest_int('bagging_freq', 1, 7),\n",
    "        'min_child_samples': trial.suggest_int('min_child_samples', 5, 100),\n",
    "    }\n",
    "    model = lgbm.LGBMRegressor(**params)\n",
    "    model_pipeline = Pipeline(steps=[\n",
    "  (\"preprocessor\", preprocessor),\n",
    "  (\"model\", model),\n",
    "])\n",
    "    \n",
    "    # taking positive because cross val score returns -ve values\n",
    "    results = cross_val_score(model_pipeline, X_test, y_test.values.ravel(), cv=k, scoring=loss)\n",
    "\n",
    "\n",
    "    \n",
    "    return np.abs(np.mean(results))"
   ]
  },
  {
   "cell_type": "code",
   "execution_count": 60,
   "metadata": {},
   "outputs": [
    {
     "name": "stderr",
     "output_type": "stream",
     "text": [
      "\u001b[32m[I 2022-08-23 10:31:34,050]\u001b[0m A new study created in memory with name: LGBM optimization\u001b[0m\n"
     ]
    },
    {
     "name": "stdout",
     "output_type": "stream",
     "text": [
      "[LightGBM] [Warning] lambda_l1 is set=0.0001533345692667945, reg_alpha=0.0 will be ignored. Current value: lambda_l1=0.0001533345692667945\n",
      "[LightGBM] [Warning] feature_fraction is set=0.8228154756354996, colsample_bytree=1.0 will be ignored. Current value: feature_fraction=0.8228154756354996\n",
      "[LightGBM] [Warning] bagging_freq is set=2, subsample_freq=0 will be ignored. Current value: bagging_freq=2\n",
      "[LightGBM] [Warning] lambda_l2 is set=4.153891422128507e-05, reg_lambda=0.0 will be ignored. Current value: lambda_l2=4.153891422128507e-05\n",
      "[LightGBM] [Warning] bagging_fraction is set=0.6111751096221316, subsample=1.0 will be ignored. Current value: bagging_fraction=0.6111751096221316\n",
      "[LightGBM] [Warning] lambda_l1 is set=0.0001533345692667945, reg_alpha=0.0 will be ignored. Current value: lambda_l1=0.0001533345692667945\n",
      "[LightGBM] [Warning] feature_fraction is set=0.8228154756354996, colsample_bytree=1.0 will be ignored. Current value: feature_fraction=0.8228154756354996\n",
      "[LightGBM] [Warning] bagging_freq is set=2, subsample_freq=0 will be ignored. Current value: bagging_freq=2\n",
      "[LightGBM] [Warning] lambda_l2 is set=4.153891422128507e-05, reg_lambda=0.0 will be ignored. Current value: lambda_l2=4.153891422128507e-05\n",
      "[LightGBM] [Warning] bagging_fraction is set=0.6111751096221316, subsample=1.0 will be ignored. Current value: bagging_fraction=0.6111751096221316\n",
      "[LightGBM] [Warning] lambda_l1 is set=0.0001533345692667945, reg_alpha=0.0 will be ignored. Current value: lambda_l1=0.0001533345692667945\n",
      "[LightGBM] [Warning] feature_fraction is set=0.8228154756354996, colsample_bytree=1.0 will be ignored. Current value: feature_fraction=0.8228154756354996\n",
      "[LightGBM] [Warning] bagging_freq is set=2, subsample_freq=0 will be ignored. Current value: bagging_freq=2\n",
      "[LightGBM] [Warning] lambda_l2 is set=4.153891422128507e-05, reg_lambda=0.0 will be ignored. Current value: lambda_l2=4.153891422128507e-05\n",
      "[LightGBM] [Warning] bagging_fraction is set=0.6111751096221316, subsample=1.0 will be ignored. Current value: bagging_fraction=0.6111751096221316\n"
     ]
    },
    {
     "name": "stderr",
     "output_type": "stream",
     "text": [
      "\u001b[32m[I 2022-08-23 10:31:34,446]\u001b[0m Trial 0 finished with value: 17.378656397564075 and parameters: {'lambda_l1': 0.0001533345692667945, 'lambda_l2': 4.153891422128507e-05, 'num_leaves': 71, 'feature_fraction': 0.8228154756354996, 'bagging_fraction': 0.6111751096221316, 'bagging_freq': 2, 'min_child_samples': 6}. Best is trial 0 with value: 17.378656397564075.\u001b[0m\n"
     ]
    },
    {
     "name": "stdout",
     "output_type": "stream",
     "text": [
      "[LightGBM] [Warning] lambda_l1 is set=0.0001533345692667945, reg_alpha=0.0 will be ignored. Current value: lambda_l1=0.0001533345692667945\n",
      "[LightGBM] [Warning] feature_fraction is set=0.8228154756354996, colsample_bytree=1.0 will be ignored. Current value: feature_fraction=0.8228154756354996\n",
      "[LightGBM] [Warning] bagging_freq is set=2, subsample_freq=0 will be ignored. Current value: bagging_freq=2\n",
      "[LightGBM] [Warning] lambda_l2 is set=4.153891422128507e-05, reg_lambda=0.0 will be ignored. Current value: lambda_l2=4.153891422128507e-05\n",
      "[LightGBM] [Warning] bagging_fraction is set=0.6111751096221316, subsample=1.0 will be ignored. Current value: bagging_fraction=0.6111751096221316\n",
      "[LightGBM] [Warning] lambda_l1 is set=0.0001533345692667945, reg_alpha=0.0 will be ignored. Current value: lambda_l1=0.0001533345692667945\n",
      "[LightGBM] [Warning] feature_fraction is set=0.8228154756354996, colsample_bytree=1.0 will be ignored. Current value: feature_fraction=0.8228154756354996\n",
      "[LightGBM] [Warning] bagging_freq is set=2, subsample_freq=0 will be ignored. Current value: bagging_freq=2\n",
      "[LightGBM] [Warning] lambda_l2 is set=4.153891422128507e-05, reg_lambda=0.0 will be ignored. Current value: lambda_l2=4.153891422128507e-05\n",
      "[LightGBM] [Warning] bagging_fraction is set=0.6111751096221316, subsample=1.0 will be ignored. Current value: bagging_fraction=0.6111751096221316\n",
      "[LightGBM] [Warning] lambda_l1 is set=0.9048345890878137, reg_alpha=0.0 will be ignored. Current value: lambda_l1=0.9048345890878137\n",
      "[LightGBM] [Warning] feature_fraction is set=0.7568739216243502, colsample_bytree=1.0 will be ignored. Current value: feature_fraction=0.7568739216243502\n",
      "[LightGBM] [Warning] bagging_freq is set=4, subsample_freq=0 will be ignored. Current value: bagging_freq=4\n",
      "[LightGBM] [Warning] lambda_l2 is set=0.15804916396095148, reg_lambda=0.0 will be ignored. Current value: lambda_l2=0.15804916396095148\n",
      "[LightGBM] [Warning] bagging_fraction is set=0.9098017762263759, subsample=1.0 will be ignored. Current value: bagging_fraction=0.9098017762263759\n",
      "[LightGBM] [Warning] lambda_l1 is set=0.9048345890878137, reg_alpha=0.0 will be ignored. Current value: lambda_l1=0.9048345890878137\n",
      "[LightGBM] [Warning] feature_fraction is set=0.7568739216243502, colsample_bytree=1.0 will be ignored. Current value: feature_fraction=0.7568739216243502\n",
      "[LightGBM] [Warning] bagging_freq is set=4, subsample_freq=0 will be ignored. Current value: bagging_freq=4\n",
      "[LightGBM] [Warning] lambda_l2 is set=0.15804916396095148, reg_lambda=0.0 will be ignored. Current value: lambda_l2=0.15804916396095148\n",
      "[LightGBM] [Warning] bagging_fraction is set=0.9098017762263759, subsample=1.0 will be ignored. Current value: bagging_fraction=0.9098017762263759\n"
     ]
    },
    {
     "name": "stderr",
     "output_type": "stream",
     "text": [
      "\u001b[32m[I 2022-08-23 10:31:34,644]\u001b[0m Trial 1 finished with value: 16.846840452171048 and parameters: {'lambda_l1': 0.9048345890878137, 'lambda_l2': 0.15804916396095148, 'num_leaves': 162, 'feature_fraction': 0.7568739216243502, 'bagging_fraction': 0.9098017762263759, 'bagging_freq': 4, 'min_child_samples': 91}. Best is trial 1 with value: 16.846840452171048.\u001b[0m\n"
     ]
    },
    {
     "name": "stdout",
     "output_type": "stream",
     "text": [
      "[LightGBM] [Warning] lambda_l1 is set=0.9048345890878137, reg_alpha=0.0 will be ignored. Current value: lambda_l1=0.9048345890878137\n",
      "[LightGBM] [Warning] feature_fraction is set=0.7568739216243502, colsample_bytree=1.0 will be ignored. Current value: feature_fraction=0.7568739216243502\n",
      "[LightGBM] [Warning] bagging_freq is set=4, subsample_freq=0 will be ignored. Current value: bagging_freq=4\n",
      "[LightGBM] [Warning] lambda_l2 is set=0.15804916396095148, reg_lambda=0.0 will be ignored. Current value: lambda_l2=0.15804916396095148\n",
      "[LightGBM] [Warning] bagging_fraction is set=0.9098017762263759, subsample=1.0 will be ignored. Current value: bagging_fraction=0.9098017762263759\n",
      "[LightGBM] [Warning] lambda_l1 is set=0.9048345890878137, reg_alpha=0.0 will be ignored. Current value: lambda_l1=0.9048345890878137\n",
      "[LightGBM] [Warning] feature_fraction is set=0.7568739216243502, colsample_bytree=1.0 will be ignored. Current value: feature_fraction=0.7568739216243502\n",
      "[LightGBM] [Warning] bagging_freq is set=4, subsample_freq=0 will be ignored. Current value: bagging_freq=4\n",
      "[LightGBM] [Warning] lambda_l2 is set=0.15804916396095148, reg_lambda=0.0 will be ignored. Current value: lambda_l2=0.15804916396095148\n",
      "[LightGBM] [Warning] bagging_fraction is set=0.9098017762263759, subsample=1.0 will be ignored. Current value: bagging_fraction=0.9098017762263759\n",
      "[LightGBM] [Warning] lambda_l1 is set=0.9048345890878137, reg_alpha=0.0 will be ignored. Current value: lambda_l1=0.9048345890878137\n",
      "[LightGBM] [Warning] feature_fraction is set=0.7568739216243502, colsample_bytree=1.0 will be ignored. Current value: feature_fraction=0.7568739216243502\n",
      "[LightGBM] [Warning] bagging_freq is set=4, subsample_freq=0 will be ignored. Current value: bagging_freq=4\n",
      "[LightGBM] [Warning] lambda_l2 is set=0.15804916396095148, reg_lambda=0.0 will be ignored. Current value: lambda_l2=0.15804916396095148\n",
      "[LightGBM] [Warning] bagging_fraction is set=0.9098017762263759, subsample=1.0 will be ignored. Current value: bagging_fraction=0.9098017762263759\n",
      "[LightGBM] [Warning] lambda_l1 is set=0.0025752901372793867, reg_alpha=0.0 will be ignored. Current value: lambda_l1=0.0025752901372793867\n",
      "[LightGBM] [Warning] feature_fraction is set=0.5592391660940774, colsample_bytree=1.0 will be ignored. Current value: feature_fraction=0.5592391660940774\n",
      "[LightGBM] [Warning] bagging_freq is set=5, subsample_freq=0 will be ignored. Current value: bagging_freq=5\n",
      "[LightGBM] [Warning] lambda_l2 is set=2.6369462738747385, reg_lambda=0.0 will be ignored. Current value: lambda_l2=2.6369462738747385\n",
      "[LightGBM] [Warning] bagging_fraction is set=0.5522572536050646, subsample=1.0 will be ignored. Current value: bagging_fraction=0.5522572536050646\n",
      "[LightGBM] [Warning] lambda_l1 is set=0.0025752901372793867, reg_alpha=0.0 will be ignored. Current value: lambda_l1=0.0025752901372793867\n",
      "[LightGBM] [Warning] feature_fraction is set=0.5592391660940774, colsample_bytree=1.0 will be ignored. Current value: feature_fraction=0.5592391660940774\n",
      "[LightGBM] [Warning] bagging_freq is set=5, subsample_freq=0 will be ignored. Current value: bagging_freq=5\n",
      "[LightGBM] [Warning] lambda_l2 is set=2.6369462738747385, reg_lambda=0.0 will be ignored. Current value: lambda_l2=2.6369462738747385\n",
      "[LightGBM] [Warning] bagging_fraction is set=0.5522572536050646, subsample=1.0 will be ignored. Current value: bagging_fraction=0.5522572536050646\n",
      "[LightGBM] [Warning] lambda_l1 is set=0.0025752901372793867, reg_alpha=0.0 will be ignored. Current value: lambda_l1=0.0025752901372793867\n",
      "[LightGBM] [Warning] feature_fraction is set=0.5592391660940774, colsample_bytree=1.0 will be ignored. Current value: feature_fraction=0.5592391660940774\n",
      "[LightGBM] [Warning] bagging_freq is set=5, subsample_freq=0 will be ignored. Current value: bagging_freq=5\n",
      "[LightGBM] [Warning] lambda_l2 is set=2.6369462738747385, reg_lambda=0.0 will be ignored. Current value: lambda_l2=2.6369462738747385\n",
      "[LightGBM] [Warning] bagging_fraction is set=0.5522572536050646, subsample=1.0 will be ignored. Current value: bagging_fraction=0.5522572536050646\n"
     ]
    },
    {
     "name": "stderr",
     "output_type": "stream",
     "text": [
      "\u001b[32m[I 2022-08-23 10:31:34,835]\u001b[0m Trial 2 finished with value: 16.903066204463098 and parameters: {'lambda_l1': 0.0025752901372793867, 'lambda_l2': 2.6369462738747385, 'num_leaves': 216, 'feature_fraction': 0.5592391660940774, 'bagging_fraction': 0.5522572536050646, 'bagging_freq': 5, 'min_child_samples': 98}. Best is trial 1 with value: 16.846840452171048.\u001b[0m\n"
     ]
    },
    {
     "name": "stdout",
     "output_type": "stream",
     "text": [
      "[LightGBM] [Warning] lambda_l1 is set=0.0025752901372793867, reg_alpha=0.0 will be ignored. Current value: lambda_l1=0.0025752901372793867\n",
      "[LightGBM] [Warning] feature_fraction is set=0.5592391660940774, colsample_bytree=1.0 will be ignored. Current value: feature_fraction=0.5592391660940774\n",
      "[LightGBM] [Warning] bagging_freq is set=5, subsample_freq=0 will be ignored. Current value: bagging_freq=5\n",
      "[LightGBM] [Warning] lambda_l2 is set=2.6369462738747385, reg_lambda=0.0 will be ignored. Current value: lambda_l2=2.6369462738747385\n",
      "[LightGBM] [Warning] bagging_fraction is set=0.5522572536050646, subsample=1.0 will be ignored. Current value: bagging_fraction=0.5522572536050646\n",
      "[LightGBM] [Warning] lambda_l1 is set=0.0025752901372793867, reg_alpha=0.0 will be ignored. Current value: lambda_l1=0.0025752901372793867\n",
      "[LightGBM] [Warning] feature_fraction is set=0.5592391660940774, colsample_bytree=1.0 will be ignored. Current value: feature_fraction=0.5592391660940774\n",
      "[LightGBM] [Warning] bagging_freq is set=5, subsample_freq=0 will be ignored. Current value: bagging_freq=5\n",
      "[LightGBM] [Warning] lambda_l2 is set=2.6369462738747385, reg_lambda=0.0 will be ignored. Current value: lambda_l2=2.6369462738747385\n",
      "[LightGBM] [Warning] bagging_fraction is set=0.5522572536050646, subsample=1.0 will be ignored. Current value: bagging_fraction=0.5522572536050646\n",
      "[LightGBM] [Warning] lambda_l1 is set=2.572880003727923e-08, reg_alpha=0.0 will be ignored. Current value: lambda_l1=2.572880003727923e-08\n",
      "[LightGBM] [Warning] feature_fraction is set=0.8004036261141116, colsample_bytree=1.0 will be ignored. Current value: feature_fraction=0.8004036261141116\n",
      "[LightGBM] [Warning] bagging_freq is set=4, subsample_freq=0 will be ignored. Current value: bagging_freq=4\n",
      "[LightGBM] [Warning] lambda_l2 is set=0.03280600890644048, reg_lambda=0.0 will be ignored. Current value: lambda_l2=0.03280600890644048\n",
      "[LightGBM] [Warning] bagging_fraction is set=0.5177735781962857, subsample=1.0 will be ignored. Current value: bagging_fraction=0.5177735781962857\n",
      "[LightGBM] [Warning] lambda_l1 is set=2.572880003727923e-08, reg_alpha=0.0 will be ignored. Current value: lambda_l1=2.572880003727923e-08\n",
      "[LightGBM] [Warning] feature_fraction is set=0.8004036261141116, colsample_bytree=1.0 will be ignored. Current value: feature_fraction=0.8004036261141116\n",
      "[LightGBM] [Warning] bagging_freq is set=4, subsample_freq=0 will be ignored. Current value: bagging_freq=4\n",
      "[LightGBM] [Warning] lambda_l2 is set=0.03280600890644048, reg_lambda=0.0 will be ignored. Current value: lambda_l2=0.03280600890644048\n",
      "[LightGBM] [Warning] bagging_fraction is set=0.5177735781962857, subsample=1.0 will be ignored. Current value: bagging_fraction=0.5177735781962857\n",
      "[LightGBM] [Warning] lambda_l1 is set=2.572880003727923e-08, reg_alpha=0.0 will be ignored. Current value: lambda_l1=2.572880003727923e-08\n",
      "[LightGBM] [Warning] feature_fraction is set=0.8004036261141116, colsample_bytree=1.0 will be ignored. Current value: feature_fraction=0.8004036261141116\n",
      "[LightGBM] [Warning] bagging_freq is set=4, subsample_freq=0 will be ignored. Current value: bagging_freq=4\n",
      "[LightGBM] [Warning] lambda_l2 is set=0.03280600890644048, reg_lambda=0.0 will be ignored. Current value: lambda_l2=0.03280600890644048\n",
      "[LightGBM] [Warning] bagging_fraction is set=0.5177735781962857, subsample=1.0 will be ignored. Current value: bagging_fraction=0.5177735781962857\n"
     ]
    },
    {
     "name": "stderr",
     "output_type": "stream",
     "text": [
      "\u001b[32m[I 2022-08-23 10:31:35,045]\u001b[0m Trial 3 finished with value: 17.02894229319002 and parameters: {'lambda_l1': 2.572880003727923e-08, 'lambda_l2': 0.03280600890644048, 'num_leaves': 219, 'feature_fraction': 0.8004036261141116, 'bagging_fraction': 0.5177735781962857, 'bagging_freq': 4, 'min_child_samples': 97}. Best is trial 1 with value: 16.846840452171048.\u001b[0m\n"
     ]
    },
    {
     "name": "stdout",
     "output_type": "stream",
     "text": [
      "[LightGBM] [Warning] lambda_l1 is set=2.572880003727923e-08, reg_alpha=0.0 will be ignored. Current value: lambda_l1=2.572880003727923e-08\n",
      "[LightGBM] [Warning] feature_fraction is set=0.8004036261141116, colsample_bytree=1.0 will be ignored. Current value: feature_fraction=0.8004036261141116\n",
      "[LightGBM] [Warning] bagging_freq is set=4, subsample_freq=0 will be ignored. Current value: bagging_freq=4\n",
      "[LightGBM] [Warning] lambda_l2 is set=0.03280600890644048, reg_lambda=0.0 will be ignored. Current value: lambda_l2=0.03280600890644048\n",
      "[LightGBM] [Warning] bagging_fraction is set=0.5177735781962857, subsample=1.0 will be ignored. Current value: bagging_fraction=0.5177735781962857\n",
      "[LightGBM] [Warning] lambda_l1 is set=2.572880003727923e-08, reg_alpha=0.0 will be ignored. Current value: lambda_l1=2.572880003727923e-08\n",
      "[LightGBM] [Warning] feature_fraction is set=0.8004036261141116, colsample_bytree=1.0 will be ignored. Current value: feature_fraction=0.8004036261141116\n",
      "[LightGBM] [Warning] bagging_freq is set=4, subsample_freq=0 will be ignored. Current value: bagging_freq=4\n",
      "[LightGBM] [Warning] lambda_l2 is set=0.03280600890644048, reg_lambda=0.0 will be ignored. Current value: lambda_l2=0.03280600890644048\n",
      "[LightGBM] [Warning] bagging_fraction is set=0.5177735781962857, subsample=1.0 will be ignored. Current value: bagging_fraction=0.5177735781962857\n",
      "[LightGBM] [Warning] lambda_l1 is set=1.918412429564256e-08, reg_alpha=0.0 will be ignored. Current value: lambda_l1=1.918412429564256e-08\n",
      "[LightGBM] [Warning] feature_fraction is set=0.9344926518831955, colsample_bytree=1.0 will be ignored. Current value: feature_fraction=0.9344926518831955\n",
      "[LightGBM] [Warning] bagging_freq is set=1, subsample_freq=0 will be ignored. Current value: bagging_freq=1\n",
      "[LightGBM] [Warning] lambda_l2 is set=0.006886552378797598, reg_lambda=0.0 will be ignored. Current value: lambda_l2=0.006886552378797598\n",
      "[LightGBM] [Warning] bagging_fraction is set=0.8091393406546417, subsample=1.0 will be ignored. Current value: bagging_fraction=0.8091393406546417\n",
      "[LightGBM] [Warning] lambda_l1 is set=1.918412429564256e-08, reg_alpha=0.0 will be ignored. Current value: lambda_l1=1.918412429564256e-08\n",
      "[LightGBM] [Warning] feature_fraction is set=0.9344926518831955, colsample_bytree=1.0 will be ignored. Current value: feature_fraction=0.9344926518831955\n",
      "[LightGBM] [Warning] bagging_freq is set=1, subsample_freq=0 will be ignored. Current value: bagging_freq=1\n",
      "[LightGBM] [Warning] lambda_l2 is set=0.006886552378797598, reg_lambda=0.0 will be ignored. Current value: lambda_l2=0.006886552378797598\n",
      "[LightGBM] [Warning] bagging_fraction is set=0.8091393406546417, subsample=1.0 will be ignored. Current value: bagging_fraction=0.8091393406546417\n",
      "[LightGBM] [Warning] lambda_l1 is set=1.918412429564256e-08, reg_alpha=0.0 will be ignored. Current value: lambda_l1=1.918412429564256e-08\n",
      "[LightGBM] [Warning] feature_fraction is set=0.9344926518831955, colsample_bytree=1.0 will be ignored. Current value: feature_fraction=0.9344926518831955\n",
      "[LightGBM] [Warning] bagging_freq is set=1, subsample_freq=0 will be ignored. Current value: bagging_freq=1\n",
      "[LightGBM] [Warning] lambda_l2 is set=0.006886552378797598, reg_lambda=0.0 will be ignored. Current value: lambda_l2=0.006886552378797598\n",
      "[LightGBM] [Warning] bagging_fraction is set=0.8091393406546417, subsample=1.0 will be ignored. Current value: bagging_fraction=0.8091393406546417\n"
     ]
    },
    {
     "name": "stderr",
     "output_type": "stream",
     "text": [
      "\u001b[32m[I 2022-08-23 10:31:35,292]\u001b[0m Trial 4 finished with value: 17.488943517862616 and parameters: {'lambda_l1': 1.918412429564256e-08, 'lambda_l2': 0.006886552378797598, 'num_leaves': 111, 'feature_fraction': 0.9344926518831955, 'bagging_fraction': 0.8091393406546417, 'bagging_freq': 1, 'min_child_samples': 43}. Best is trial 1 with value: 16.846840452171048.\u001b[0m\n"
     ]
    },
    {
     "name": "stdout",
     "output_type": "stream",
     "text": [
      "[LightGBM] [Warning] lambda_l1 is set=1.918412429564256e-08, reg_alpha=0.0 will be ignored. Current value: lambda_l1=1.918412429564256e-08\n",
      "[LightGBM] [Warning] feature_fraction is set=0.9344926518831955, colsample_bytree=1.0 will be ignored. Current value: feature_fraction=0.9344926518831955\n",
      "[LightGBM] [Warning] bagging_freq is set=1, subsample_freq=0 will be ignored. Current value: bagging_freq=1\n",
      "[LightGBM] [Warning] lambda_l2 is set=0.006886552378797598, reg_lambda=0.0 will be ignored. Current value: lambda_l2=0.006886552378797598\n",
      "[LightGBM] [Warning] bagging_fraction is set=0.8091393406546417, subsample=1.0 will be ignored. Current value: bagging_fraction=0.8091393406546417\n",
      "[LightGBM] [Warning] lambda_l1 is set=1.918412429564256e-08, reg_alpha=0.0 will be ignored. Current value: lambda_l1=1.918412429564256e-08\n",
      "[LightGBM] [Warning] feature_fraction is set=0.9344926518831955, colsample_bytree=1.0 will be ignored. Current value: feature_fraction=0.9344926518831955\n",
      "[LightGBM] [Warning] bagging_freq is set=1, subsample_freq=0 will be ignored. Current value: bagging_freq=1\n",
      "[LightGBM] [Warning] lambda_l2 is set=0.006886552378797598, reg_lambda=0.0 will be ignored. Current value: lambda_l2=0.006886552378797598\n",
      "[LightGBM] [Warning] bagging_fraction is set=0.8091393406546417, subsample=1.0 will be ignored. Current value: bagging_fraction=0.8091393406546417\n",
      "[LightGBM] [Warning] lambda_l1 is set=0.04267053691048911, reg_alpha=0.0 will be ignored. Current value: lambda_l1=0.04267053691048911\n",
      "[LightGBM] [Warning] feature_fraction is set=0.9331189892497538, colsample_bytree=1.0 will be ignored. Current value: feature_fraction=0.9331189892497538\n",
      "[LightGBM] [Warning] bagging_freq is set=6, subsample_freq=0 will be ignored. Current value: bagging_freq=6\n",
      "[LightGBM] [Warning] lambda_l2 is set=0.0006891844200939102, reg_lambda=0.0 will be ignored. Current value: lambda_l2=0.0006891844200939102\n",
      "[LightGBM] [Warning] bagging_fraction is set=0.8600202255934808, subsample=1.0 will be ignored. Current value: bagging_fraction=0.8600202255934808\n",
      "[LightGBM] [Warning] lambda_l1 is set=0.04267053691048911, reg_alpha=0.0 will be ignored. Current value: lambda_l1=0.04267053691048911\n",
      "[LightGBM] [Warning] feature_fraction is set=0.9331189892497538, colsample_bytree=1.0 will be ignored. Current value: feature_fraction=0.9331189892497538\n",
      "[LightGBM] [Warning] bagging_freq is set=6, subsample_freq=0 will be ignored. Current value: bagging_freq=6\n",
      "[LightGBM] [Warning] lambda_l2 is set=0.0006891844200939102, reg_lambda=0.0 will be ignored. Current value: lambda_l2=0.0006891844200939102\n",
      "[LightGBM] [Warning] bagging_fraction is set=0.8600202255934808, subsample=1.0 will be ignored. Current value: bagging_fraction=0.8600202255934808\n",
      "[LightGBM] [Warning] lambda_l1 is set=0.04267053691048911, reg_alpha=0.0 will be ignored. Current value: lambda_l1=0.04267053691048911\n",
      "[LightGBM] [Warning] feature_fraction is set=0.9331189892497538, colsample_bytree=1.0 will be ignored. Current value: feature_fraction=0.9331189892497538\n",
      "[LightGBM] [Warning] bagging_freq is set=6, subsample_freq=0 will be ignored. Current value: bagging_freq=6\n",
      "[LightGBM] [Warning] lambda_l2 is set=0.0006891844200939102, reg_lambda=0.0 will be ignored. Current value: lambda_l2=0.0006891844200939102\n",
      "[LightGBM] [Warning] bagging_fraction is set=0.8600202255934808, subsample=1.0 will be ignored. Current value: bagging_fraction=0.8600202255934808\n"
     ]
    },
    {
     "name": "stderr",
     "output_type": "stream",
     "text": [
      "\u001b[32m[I 2022-08-23 10:31:35,520]\u001b[0m Trial 5 finished with value: 17.44840047840991 and parameters: {'lambda_l1': 0.04267053691048911, 'lambda_l2': 0.0006891844200939102, 'num_leaves': 207, 'feature_fraction': 0.9331189892497538, 'bagging_fraction': 0.8600202255934808, 'bagging_freq': 6, 'min_child_samples': 35}. Best is trial 1 with value: 16.846840452171048.\u001b[0m\n"
     ]
    },
    {
     "name": "stdout",
     "output_type": "stream",
     "text": [
      "[LightGBM] [Warning] lambda_l1 is set=0.04267053691048911, reg_alpha=0.0 will be ignored. Current value: lambda_l1=0.04267053691048911\n",
      "[LightGBM] [Warning] feature_fraction is set=0.9331189892497538, colsample_bytree=1.0 will be ignored. Current value: feature_fraction=0.9331189892497538\n",
      "[LightGBM] [Warning] bagging_freq is set=6, subsample_freq=0 will be ignored. Current value: bagging_freq=6\n",
      "[LightGBM] [Warning] lambda_l2 is set=0.0006891844200939102, reg_lambda=0.0 will be ignored. Current value: lambda_l2=0.0006891844200939102\n",
      "[LightGBM] [Warning] bagging_fraction is set=0.8600202255934808, subsample=1.0 will be ignored. Current value: bagging_fraction=0.8600202255934808\n",
      "[LightGBM] [Warning] lambda_l1 is set=0.04267053691048911, reg_alpha=0.0 will be ignored. Current value: lambda_l1=0.04267053691048911\n",
      "[LightGBM] [Warning] feature_fraction is set=0.9331189892497538, colsample_bytree=1.0 will be ignored. Current value: feature_fraction=0.9331189892497538\n",
      "[LightGBM] [Warning] bagging_freq is set=6, subsample_freq=0 will be ignored. Current value: bagging_freq=6\n",
      "[LightGBM] [Warning] lambda_l2 is set=0.0006891844200939102, reg_lambda=0.0 will be ignored. Current value: lambda_l2=0.0006891844200939102\n",
      "[LightGBM] [Warning] bagging_fraction is set=0.8600202255934808, subsample=1.0 will be ignored. Current value: bagging_fraction=0.8600202255934808\n",
      "[LightGBM] [Warning] lambda_l1 is set=1.3257701269879607, reg_alpha=0.0 will be ignored. Current value: lambda_l1=1.3257701269879607\n",
      "[LightGBM] [Warning] feature_fraction is set=0.6815167108914421, colsample_bytree=1.0 will be ignored. Current value: feature_fraction=0.6815167108914421\n",
      "[LightGBM] [Warning] bagging_freq is set=6, subsample_freq=0 will be ignored. Current value: bagging_freq=6\n",
      "[LightGBM] [Warning] lambda_l2 is set=0.0004334972429669665, reg_lambda=0.0 will be ignored. Current value: lambda_l2=0.0004334972429669665\n",
      "[LightGBM] [Warning] bagging_fraction is set=0.8249865779479817, subsample=1.0 will be ignored. Current value: bagging_fraction=0.8249865779479817\n",
      "[LightGBM] [Warning] lambda_l1 is set=1.3257701269879607, reg_alpha=0.0 will be ignored. Current value: lambda_l1=1.3257701269879607\n",
      "[LightGBM] [Warning] feature_fraction is set=0.6815167108914421, colsample_bytree=1.0 will be ignored. Current value: feature_fraction=0.6815167108914421\n",
      "[LightGBM] [Warning] bagging_freq is set=6, subsample_freq=0 will be ignored. Current value: bagging_freq=6\n",
      "[LightGBM] [Warning] lambda_l2 is set=0.0004334972429669665, reg_lambda=0.0 will be ignored. Current value: lambda_l2=0.0004334972429669665\n",
      "[LightGBM] [Warning] bagging_fraction is set=0.8249865779479817, subsample=1.0 will be ignored. Current value: bagging_fraction=0.8249865779479817\n",
      "[LightGBM] [Warning] lambda_l1 is set=1.3257701269879607, reg_alpha=0.0 will be ignored. Current value: lambda_l1=1.3257701269879607\n",
      "[LightGBM] [Warning] feature_fraction is set=0.6815167108914421, colsample_bytree=1.0 will be ignored. Current value: feature_fraction=0.6815167108914421\n",
      "[LightGBM] [Warning] bagging_freq is set=6, subsample_freq=0 will be ignored. Current value: bagging_freq=6\n",
      "[LightGBM] [Warning] lambda_l2 is set=0.0004334972429669665, reg_lambda=0.0 will be ignored. Current value: lambda_l2=0.0004334972429669665\n",
      "[LightGBM] [Warning] bagging_fraction is set=0.8249865779479817, subsample=1.0 will be ignored. Current value: bagging_fraction=0.8249865779479817\n",
      "[LightGBM] [Warning] lambda_l1 is set=1.3257701269879607, reg_alpha=0.0 will be ignored. Current value: lambda_l1=1.3257701269879607\n",
      "[LightGBM] [Warning] feature_fraction is set=0.6815167108914421, colsample_bytree=1.0 will be ignored. Current value: feature_fraction=0.6815167108914421\n",
      "[LightGBM] [Warning] bagging_freq is set=6, subsample_freq=0 will be ignored. Current value: bagging_freq=6\n",
      "[LightGBM] [Warning] lambda_l2 is set=0.0004334972429669665, reg_lambda=0.0 will be ignored. Current value: lambda_l2=0.0004334972429669665\n",
      "[LightGBM] [Warning] bagging_fraction is set=0.8249865779479817, subsample=1.0 will be ignored. Current value: bagging_fraction=0.8249865779479817\n"
     ]
    },
    {
     "name": "stderr",
     "output_type": "stream",
     "text": [
      "\u001b[32m[I 2022-08-23 10:31:35,707]\u001b[0m Trial 6 finished with value: 16.812397574625237 and parameters: {'lambda_l1': 1.3257701269879607, 'lambda_l2': 0.0004334972429669665, 'num_leaves': 17, 'feature_fraction': 0.6815167108914421, 'bagging_fraction': 0.8249865779479817, 'bagging_freq': 6, 'min_child_samples': 99}. Best is trial 6 with value: 16.812397574625237.\u001b[0m\n"
     ]
    },
    {
     "name": "stdout",
     "output_type": "stream",
     "text": [
      "[LightGBM] [Warning] lambda_l1 is set=1.3257701269879607, reg_alpha=0.0 will be ignored. Current value: lambda_l1=1.3257701269879607\n",
      "[LightGBM] [Warning] feature_fraction is set=0.6815167108914421, colsample_bytree=1.0 will be ignored. Current value: feature_fraction=0.6815167108914421\n",
      "[LightGBM] [Warning] bagging_freq is set=6, subsample_freq=0 will be ignored. Current value: bagging_freq=6\n",
      "[LightGBM] [Warning] lambda_l2 is set=0.0004334972429669665, reg_lambda=0.0 will be ignored. Current value: lambda_l2=0.0004334972429669665\n",
      "[LightGBM] [Warning] bagging_fraction is set=0.8249865779479817, subsample=1.0 will be ignored. Current value: bagging_fraction=0.8249865779479817\n",
      "[LightGBM] [Warning] lambda_l1 is set=0.9706906449955532, reg_alpha=0.0 will be ignored. Current value: lambda_l1=0.9706906449955532\n",
      "[LightGBM] [Warning] feature_fraction is set=0.6722424434835528, colsample_bytree=1.0 will be ignored. Current value: feature_fraction=0.6722424434835528\n",
      "[LightGBM] [Warning] bagging_freq is set=4, subsample_freq=0 will be ignored. Current value: bagging_freq=4\n",
      "[LightGBM] [Warning] lambda_l2 is set=4.32825533533793, reg_lambda=0.0 will be ignored. Current value: lambda_l2=4.32825533533793\n",
      "[LightGBM] [Warning] bagging_fraction is set=0.7534736496440799, subsample=1.0 will be ignored. Current value: bagging_fraction=0.7534736496440799\n",
      "[LightGBM] [Warning] lambda_l1 is set=0.9706906449955532, reg_alpha=0.0 will be ignored. Current value: lambda_l1=0.9706906449955532\n",
      "[LightGBM] [Warning] feature_fraction is set=0.6722424434835528, colsample_bytree=1.0 will be ignored. Current value: feature_fraction=0.6722424434835528\n",
      "[LightGBM] [Warning] bagging_freq is set=4, subsample_freq=0 will be ignored. Current value: bagging_freq=4\n",
      "[LightGBM] [Warning] lambda_l2 is set=4.32825533533793, reg_lambda=0.0 will be ignored. Current value: lambda_l2=4.32825533533793\n",
      "[LightGBM] [Warning] bagging_fraction is set=0.7534736496440799, subsample=1.0 will be ignored. Current value: bagging_fraction=0.7534736496440799\n",
      "[LightGBM] [Warning] lambda_l1 is set=0.9706906449955532, reg_alpha=0.0 will be ignored. Current value: lambda_l1=0.9706906449955532\n",
      "[LightGBM] [Warning] feature_fraction is set=0.6722424434835528, colsample_bytree=1.0 will be ignored. Current value: feature_fraction=0.6722424434835528\n",
      "[LightGBM] [Warning] bagging_freq is set=4, subsample_freq=0 will be ignored. Current value: bagging_freq=4\n",
      "[LightGBM] [Warning] lambda_l2 is set=4.32825533533793, reg_lambda=0.0 will be ignored. Current value: lambda_l2=4.32825533533793\n",
      "[LightGBM] [Warning] bagging_fraction is set=0.7534736496440799, subsample=1.0 will be ignored. Current value: bagging_fraction=0.7534736496440799\n",
      "[LightGBM] [Warning] lambda_l1 is set=0.9706906449955532, reg_alpha=0.0 will be ignored. Current value: lambda_l1=0.9706906449955532\n",
      "[LightGBM] [Warning] feature_fraction is set=0.6722424434835528, colsample_bytree=1.0 will be ignored. Current value: feature_fraction=0.6722424434835528\n",
      "[LightGBM] [Warning] bagging_freq is set=4, subsample_freq=0 will be ignored. Current value: bagging_freq=4\n",
      "[LightGBM] [Warning] lambda_l2 is set=4.32825533533793, reg_lambda=0.0 will be ignored. Current value: lambda_l2=4.32825533533793\n",
      "[LightGBM] [Warning] bagging_fraction is set=0.7534736496440799, subsample=1.0 will be ignored. Current value: bagging_fraction=0.7534736496440799\n"
     ]
    },
    {
     "name": "stderr",
     "output_type": "stream",
     "text": [
      "\u001b[32m[I 2022-08-23 10:31:35,974]\u001b[0m Trial 7 finished with value: 17.215537095262526 and parameters: {'lambda_l1': 0.9706906449955532, 'lambda_l2': 4.32825533533793, 'num_leaves': 131, 'feature_fraction': 0.6722424434835528, 'bagging_fraction': 0.7534736496440799, 'bagging_freq': 4, 'min_child_samples': 15}. Best is trial 6 with value: 16.812397574625237.\u001b[0m\n"
     ]
    },
    {
     "name": "stdout",
     "output_type": "stream",
     "text": [
      "[LightGBM] [Warning] lambda_l1 is set=0.9706906449955532, reg_alpha=0.0 will be ignored. Current value: lambda_l1=0.9706906449955532\n",
      "[LightGBM] [Warning] feature_fraction is set=0.6722424434835528, colsample_bytree=1.0 will be ignored. Current value: feature_fraction=0.6722424434835528\n",
      "[LightGBM] [Warning] bagging_freq is set=4, subsample_freq=0 will be ignored. Current value: bagging_freq=4\n",
      "[LightGBM] [Warning] lambda_l2 is set=4.32825533533793, reg_lambda=0.0 will be ignored. Current value: lambda_l2=4.32825533533793\n",
      "[LightGBM] [Warning] bagging_fraction is set=0.7534736496440799, subsample=1.0 will be ignored. Current value: bagging_fraction=0.7534736496440799\n",
      "[LightGBM] [Warning] lambda_l1 is set=0.0013200545912799757, reg_alpha=0.0 will be ignored. Current value: lambda_l1=0.0013200545912799757\n",
      "[LightGBM] [Warning] feature_fraction is set=0.6467866950820856, colsample_bytree=1.0 will be ignored. Current value: feature_fraction=0.6467866950820856\n",
      "[LightGBM] [Warning] bagging_freq is set=6, subsample_freq=0 will be ignored. Current value: bagging_freq=6\n",
      "[LightGBM] [Warning] lambda_l2 is set=9.721555541064304e-05, reg_lambda=0.0 will be ignored. Current value: lambda_l2=9.721555541064304e-05\n",
      "[LightGBM] [Warning] bagging_fraction is set=0.9681870953714707, subsample=1.0 will be ignored. Current value: bagging_fraction=0.9681870953714707\n",
      "[LightGBM] [Warning] lambda_l1 is set=0.0013200545912799757, reg_alpha=0.0 will be ignored. Current value: lambda_l1=0.0013200545912799757\n",
      "[LightGBM] [Warning] feature_fraction is set=0.6467866950820856, colsample_bytree=1.0 will be ignored. Current value: feature_fraction=0.6467866950820856\n",
      "[LightGBM] [Warning] bagging_freq is set=6, subsample_freq=0 will be ignored. Current value: bagging_freq=6\n",
      "[LightGBM] [Warning] lambda_l2 is set=9.721555541064304e-05, reg_lambda=0.0 will be ignored. Current value: lambda_l2=9.721555541064304e-05\n",
      "[LightGBM] [Warning] bagging_fraction is set=0.9681870953714707, subsample=1.0 will be ignored. Current value: bagging_fraction=0.9681870953714707\n",
      "[LightGBM] [Warning] lambda_l1 is set=0.0013200545912799757, reg_alpha=0.0 will be ignored. Current value: lambda_l1=0.0013200545912799757\n",
      "[LightGBM] [Warning] feature_fraction is set=0.6467866950820856, colsample_bytree=1.0 will be ignored. Current value: feature_fraction=0.6467866950820856\n",
      "[LightGBM] [Warning] bagging_freq is set=6, subsample_freq=0 will be ignored. Current value: bagging_freq=6\n",
      "[LightGBM] [Warning] lambda_l2 is set=9.721555541064304e-05, reg_lambda=0.0 will be ignored. Current value: lambda_l2=9.721555541064304e-05\n",
      "[LightGBM] [Warning] bagging_fraction is set=0.9681870953714707, subsample=1.0 will be ignored. Current value: bagging_fraction=0.9681870953714707\n",
      "[LightGBM] [Warning] lambda_l1 is set=0.0013200545912799757, reg_alpha=0.0 will be ignored. Current value: lambda_l1=0.0013200545912799757\n",
      "[LightGBM] [Warning] feature_fraction is set=0.6467866950820856, colsample_bytree=1.0 will be ignored. Current value: feature_fraction=0.6467866950820856\n",
      "[LightGBM] [Warning] bagging_freq is set=6, subsample_freq=0 will be ignored. Current value: bagging_freq=6\n",
      "[LightGBM] [Warning] lambda_l2 is set=9.721555541064304e-05, reg_lambda=0.0 will be ignored. Current value: lambda_l2=9.721555541064304e-05\n",
      "[LightGBM] [Warning] bagging_fraction is set=0.9681870953714707, subsample=1.0 will be ignored. Current value: bagging_fraction=0.9681870953714707\n"
     ]
    },
    {
     "name": "stderr",
     "output_type": "stream",
     "text": [
      "\u001b[32m[I 2022-08-23 10:31:36,195]\u001b[0m Trial 8 finished with value: 16.981212160808223 and parameters: {'lambda_l1': 0.0013200545912799757, 'lambda_l2': 9.721555541064304e-05, 'num_leaves': 85, 'feature_fraction': 0.6467866950820856, 'bagging_fraction': 0.9681870953714707, 'bagging_freq': 6, 'min_child_samples': 69}. Best is trial 6 with value: 16.812397574625237.\u001b[0m\n"
     ]
    },
    {
     "name": "stdout",
     "output_type": "stream",
     "text": [
      "[LightGBM] [Warning] lambda_l1 is set=0.0013200545912799757, reg_alpha=0.0 will be ignored. Current value: lambda_l1=0.0013200545912799757\n",
      "[LightGBM] [Warning] feature_fraction is set=0.6467866950820856, colsample_bytree=1.0 will be ignored. Current value: feature_fraction=0.6467866950820856\n",
      "[LightGBM] [Warning] bagging_freq is set=6, subsample_freq=0 will be ignored. Current value: bagging_freq=6\n",
      "[LightGBM] [Warning] lambda_l2 is set=9.721555541064304e-05, reg_lambda=0.0 will be ignored. Current value: lambda_l2=9.721555541064304e-05\n",
      "[LightGBM] [Warning] bagging_fraction is set=0.9681870953714707, subsample=1.0 will be ignored. Current value: bagging_fraction=0.9681870953714707\n",
      "[LightGBM] [Warning] lambda_l1 is set=0.0005760053323136672, reg_alpha=0.0 will be ignored. Current value: lambda_l1=0.0005760053323136672\n",
      "[LightGBM] [Warning] feature_fraction is set=0.8557290182443107, colsample_bytree=1.0 will be ignored. Current value: feature_fraction=0.8557290182443107\n",
      "[LightGBM] [Warning] bagging_freq is set=3, subsample_freq=0 will be ignored. Current value: bagging_freq=3\n",
      "[LightGBM] [Warning] lambda_l2 is set=1.92857563267037, reg_lambda=0.0 will be ignored. Current value: lambda_l2=1.92857563267037\n",
      "[LightGBM] [Warning] bagging_fraction is set=0.7893213715499403, subsample=1.0 will be ignored. Current value: bagging_fraction=0.7893213715499403\n",
      "[LightGBM] [Warning] lambda_l1 is set=0.0005760053323136672, reg_alpha=0.0 will be ignored. Current value: lambda_l1=0.0005760053323136672\n",
      "[LightGBM] [Warning] feature_fraction is set=0.8557290182443107, colsample_bytree=1.0 will be ignored. Current value: feature_fraction=0.8557290182443107\n",
      "[LightGBM] [Warning] bagging_freq is set=3, subsample_freq=0 will be ignored. Current value: bagging_freq=3\n",
      "[LightGBM] [Warning] lambda_l2 is set=1.92857563267037, reg_lambda=0.0 will be ignored. Current value: lambda_l2=1.92857563267037\n",
      "[LightGBM] [Warning] bagging_fraction is set=0.7893213715499403, subsample=1.0 will be ignored. Current value: bagging_fraction=0.7893213715499403\n",
      "[LightGBM] [Warning] lambda_l1 is set=0.0005760053323136672, reg_alpha=0.0 will be ignored. Current value: lambda_l1=0.0005760053323136672\n",
      "[LightGBM] [Warning] feature_fraction is set=0.8557290182443107, colsample_bytree=1.0 will be ignored. Current value: feature_fraction=0.8557290182443107\n",
      "[LightGBM] [Warning] bagging_freq is set=3, subsample_freq=0 will be ignored. Current value: bagging_freq=3\n",
      "[LightGBM] [Warning] lambda_l2 is set=1.92857563267037, reg_lambda=0.0 will be ignored. Current value: lambda_l2=1.92857563267037\n",
      "[LightGBM] [Warning] bagging_fraction is set=0.7893213715499403, subsample=1.0 will be ignored. Current value: bagging_fraction=0.7893213715499403\n",
      "[LightGBM] [Warning] lambda_l1 is set=0.0005760053323136672, reg_alpha=0.0 will be ignored. Current value: lambda_l1=0.0005760053323136672\n",
      "[LightGBM] [Warning] feature_fraction is set=0.8557290182443107, colsample_bytree=1.0 will be ignored. Current value: feature_fraction=0.8557290182443107\n",
      "[LightGBM] [Warning] bagging_freq is set=3, subsample_freq=0 will be ignored. Current value: bagging_freq=3\n",
      "[LightGBM] [Warning] lambda_l2 is set=1.92857563267037, reg_lambda=0.0 will be ignored. Current value: lambda_l2=1.92857563267037\n",
      "[LightGBM] [Warning] bagging_fraction is set=0.7893213715499403, subsample=1.0 will be ignored. Current value: bagging_fraction=0.7893213715499403\n"
     ]
    },
    {
     "name": "stderr",
     "output_type": "stream",
     "text": [
      "\u001b[32m[I 2022-08-23 10:31:36,445]\u001b[0m Trial 9 finished with value: 17.455243382301372 and parameters: {'lambda_l1': 0.0005760053323136672, 'lambda_l2': 1.92857563267037, 'num_leaves': 84, 'feature_fraction': 0.8557290182443107, 'bagging_fraction': 0.7893213715499403, 'bagging_freq': 3, 'min_child_samples': 24}. Best is trial 6 with value: 16.812397574625237.\u001b[0m\n"
     ]
    },
    {
     "name": "stdout",
     "output_type": "stream",
     "text": [
      "[LightGBM] [Warning] lambda_l1 is set=0.0005760053323136672, reg_alpha=0.0 will be ignored. Current value: lambda_l1=0.0005760053323136672\n",
      "[LightGBM] [Warning] feature_fraction is set=0.8557290182443107, colsample_bytree=1.0 will be ignored. Current value: feature_fraction=0.8557290182443107\n",
      "[LightGBM] [Warning] bagging_freq is set=3, subsample_freq=0 will be ignored. Current value: bagging_freq=3\n",
      "[LightGBM] [Warning] lambda_l2 is set=1.92857563267037, reg_lambda=0.0 will be ignored. Current value: lambda_l2=1.92857563267037\n",
      "[LightGBM] [Warning] bagging_fraction is set=0.7893213715499403, subsample=1.0 will be ignored. Current value: bagging_fraction=0.7893213715499403\n",
      "[LightGBM] [Warning] lambda_l1 is set=3.4644243492193163e-06, reg_alpha=0.0 will be ignored. Current value: lambda_l1=3.4644243492193163e-06\n",
      "[LightGBM] [Warning] feature_fraction is set=0.49101022466974514, colsample_bytree=1.0 will be ignored. Current value: feature_fraction=0.49101022466974514\n",
      "[LightGBM] [Warning] bagging_freq is set=7, subsample_freq=0 will be ignored. Current value: bagging_freq=7\n",
      "[LightGBM] [Warning] lambda_l2 is set=6.20450693621912e-08, reg_lambda=0.0 will be ignored. Current value: lambda_l2=6.20450693621912e-08\n",
      "[LightGBM] [Warning] bagging_fraction is set=0.6626353431345907, subsample=1.0 will be ignored. Current value: bagging_fraction=0.6626353431345907\n",
      "[LightGBM] [Warning] lambda_l1 is set=3.4644243492193163e-06, reg_alpha=0.0 will be ignored. Current value: lambda_l1=3.4644243492193163e-06\n",
      "[LightGBM] [Warning] feature_fraction is set=0.49101022466974514, colsample_bytree=1.0 will be ignored. Current value: feature_fraction=0.49101022466974514\n",
      "[LightGBM] [Warning] bagging_freq is set=7, subsample_freq=0 will be ignored. Current value: bagging_freq=7\n",
      "[LightGBM] [Warning] lambda_l2 is set=6.20450693621912e-08, reg_lambda=0.0 will be ignored. Current value: lambda_l2=6.20450693621912e-08\n",
      "[LightGBM] [Warning] bagging_fraction is set=0.6626353431345907, subsample=1.0 will be ignored. Current value: bagging_fraction=0.6626353431345907\n",
      "[LightGBM] [Warning] lambda_l1 is set=3.4644243492193163e-06, reg_alpha=0.0 will be ignored. Current value: lambda_l1=3.4644243492193163e-06\n",
      "[LightGBM] [Warning] feature_fraction is set=0.49101022466974514, colsample_bytree=1.0 will be ignored. Current value: feature_fraction=0.49101022466974514\n",
      "[LightGBM] [Warning] bagging_freq is set=7, subsample_freq=0 will be ignored. Current value: bagging_freq=7\n",
      "[LightGBM] [Warning] lambda_l2 is set=6.20450693621912e-08, reg_lambda=0.0 will be ignored. Current value: lambda_l2=6.20450693621912e-08\n",
      "[LightGBM] [Warning] bagging_fraction is set=0.6626353431345907, subsample=1.0 will be ignored. Current value: bagging_fraction=0.6626353431345907\n",
      "[LightGBM] [Warning] lambda_l1 is set=3.4644243492193163e-06, reg_alpha=0.0 will be ignored. Current value: lambda_l1=3.4644243492193163e-06\n",
      "[LightGBM] [Warning] feature_fraction is set=0.49101022466974514, colsample_bytree=1.0 will be ignored. Current value: feature_fraction=0.49101022466974514\n",
      "[LightGBM] [Warning] bagging_freq is set=7, subsample_freq=0 will be ignored. Current value: bagging_freq=7\n",
      "[LightGBM] [Warning] lambda_l2 is set=6.20450693621912e-08, reg_lambda=0.0 will be ignored. Current value: lambda_l2=6.20450693621912e-08\n",
      "[LightGBM] [Warning] bagging_fraction is set=0.6626353431345907, subsample=1.0 will be ignored. Current value: bagging_fraction=0.6626353431345907\n"
     ]
    },
    {
     "name": "stderr",
     "output_type": "stream",
     "text": [
      "\u001b[32m[I 2022-08-23 10:31:36,662]\u001b[0m Trial 10 finished with value: 17.048341410472332 and parameters: {'lambda_l1': 3.4644243492193163e-06, 'lambda_l2': 6.20450693621912e-08, 'num_leaves': 3, 'feature_fraction': 0.49101022466974514, 'bagging_fraction': 0.6626353431345907, 'bagging_freq': 7, 'min_child_samples': 68}. Best is trial 6 with value: 16.812397574625237.\u001b[0m\n"
     ]
    },
    {
     "name": "stdout",
     "output_type": "stream",
     "text": [
      "[LightGBM] [Warning] lambda_l1 is set=3.4644243492193163e-06, reg_alpha=0.0 will be ignored. Current value: lambda_l1=3.4644243492193163e-06\n",
      "[LightGBM] [Warning] feature_fraction is set=0.49101022466974514, colsample_bytree=1.0 will be ignored. Current value: feature_fraction=0.49101022466974514\n",
      "[LightGBM] [Warning] bagging_freq is set=7, subsample_freq=0 will be ignored. Current value: bagging_freq=7\n",
      "[LightGBM] [Warning] lambda_l2 is set=6.20450693621912e-08, reg_lambda=0.0 will be ignored. Current value: lambda_l2=6.20450693621912e-08\n",
      "[LightGBM] [Warning] bagging_fraction is set=0.6626353431345907, subsample=1.0 will be ignored. Current value: bagging_fraction=0.6626353431345907\n",
      "[LightGBM] [Warning] lambda_l1 is set=4.122300569751729, reg_alpha=0.0 will be ignored. Current value: lambda_l1=4.122300569751729\n",
      "[LightGBM] [Warning] feature_fraction is set=0.7294117953043119, colsample_bytree=1.0 will be ignored. Current value: feature_fraction=0.7294117953043119\n",
      "[LightGBM] [Warning] bagging_freq is set=7, subsample_freq=0 will be ignored. Current value: bagging_freq=7\n",
      "[LightGBM] [Warning] lambda_l2 is set=1.3027213712945228e-06, reg_lambda=0.0 will be ignored. Current value: lambda_l2=1.3027213712945228e-06\n",
      "[LightGBM] [Warning] bagging_fraction is set=0.9522491857112411, subsample=1.0 will be ignored. Current value: bagging_fraction=0.9522491857112411\n",
      "[LightGBM] [Warning] lambda_l1 is set=4.122300569751729, reg_alpha=0.0 will be ignored. Current value: lambda_l1=4.122300569751729\n",
      "[LightGBM] [Warning] feature_fraction is set=0.7294117953043119, colsample_bytree=1.0 will be ignored. Current value: feature_fraction=0.7294117953043119\n",
      "[LightGBM] [Warning] bagging_freq is set=7, subsample_freq=0 will be ignored. Current value: bagging_freq=7\n",
      "[LightGBM] [Warning] lambda_l2 is set=1.3027213712945228e-06, reg_lambda=0.0 will be ignored. Current value: lambda_l2=1.3027213712945228e-06\n",
      "[LightGBM] [Warning] bagging_fraction is set=0.9522491857112411, subsample=1.0 will be ignored. Current value: bagging_fraction=0.9522491857112411\n",
      "[LightGBM] [Warning] lambda_l1 is set=4.122300569751729, reg_alpha=0.0 will be ignored. Current value: lambda_l1=4.122300569751729\n",
      "[LightGBM] [Warning] feature_fraction is set=0.7294117953043119, colsample_bytree=1.0 will be ignored. Current value: feature_fraction=0.7294117953043119\n",
      "[LightGBM] [Warning] bagging_freq is set=7, subsample_freq=0 will be ignored. Current value: bagging_freq=7\n",
      "[LightGBM] [Warning] lambda_l2 is set=1.3027213712945228e-06, reg_lambda=0.0 will be ignored. Current value: lambda_l2=1.3027213712945228e-06\n",
      "[LightGBM] [Warning] bagging_fraction is set=0.9522491857112411, subsample=1.0 will be ignored. Current value: bagging_fraction=0.9522491857112411\n",
      "[LightGBM] [Warning] lambda_l1 is set=4.122300569751729, reg_alpha=0.0 will be ignored. Current value: lambda_l1=4.122300569751729\n",
      "[LightGBM] [Warning] feature_fraction is set=0.7294117953043119, colsample_bytree=1.0 will be ignored. Current value: feature_fraction=0.7294117953043119\n",
      "[LightGBM] [Warning] bagging_freq is set=7, subsample_freq=0 will be ignored. Current value: bagging_freq=7\n",
      "[LightGBM] [Warning] lambda_l2 is set=1.3027213712945228e-06, reg_lambda=0.0 will be ignored. Current value: lambda_l2=1.3027213712945228e-06\n",
      "[LightGBM] [Warning] bagging_fraction is set=0.9522491857112411, subsample=1.0 will be ignored. Current value: bagging_fraction=0.9522491857112411\n",
      "[LightGBM] [Warning] lambda_l1 is set=4.122300569751729, reg_alpha=0.0 will be ignored. Current value: lambda_l1=4.122300569751729\n",
      "[LightGBM] [Warning] feature_fraction is set=0.7294117953043119, colsample_bytree=1.0 will be ignored. Current value: feature_fraction=0.7294117953043119\n",
      "[LightGBM] [Warning] bagging_freq is set=7, subsample_freq=0 will be ignored. Current value: bagging_freq=7\n",
      "[LightGBM] [Warning] lambda_l2 is set=1.3027213712945228e-06, reg_lambda=0.0 will be ignored. Current value: lambda_l2=1.3027213712945228e-06\n",
      "[LightGBM] [Warning] bagging_fraction is set=0.9522491857112411, subsample=1.0 will be ignored. Current value: bagging_fraction=0.9522491857112411\n"
     ]
    },
    {
     "name": "stderr",
     "output_type": "stream",
     "text": [
      "\u001b[32m[I 2022-08-23 10:31:36,863]\u001b[0m Trial 11 finished with value: 16.91035931579857 and parameters: {'lambda_l1': 4.122300569751729, 'lambda_l2': 1.3027213712945228e-06, 'num_leaves': 162, 'feature_fraction': 0.7294117953043119, 'bagging_fraction': 0.9522491857112411, 'bagging_freq': 7, 'min_child_samples': 81}. Best is trial 6 with value: 16.812397574625237.\u001b[0m\n",
      "\u001b[32m[I 2022-08-23 10:31:37,064]\u001b[0m Trial 12 finished with value: 16.90535157001295 and parameters: {'lambda_l1': 0.10004275431070574, 'lambda_l2': 0.06323439539261952, 'num_leaves': 19, 'feature_fraction': 0.5699527422366405, 'bagging_fraction': 0.8751065666465517, 'bagging_freq': 5, 'min_child_samples': 81}. Best is trial 6 with value: 16.812397574625237.\u001b[0m\n"
     ]
    },
    {
     "name": "stdout",
     "output_type": "stream",
     "text": [
      "[LightGBM] [Warning] lambda_l1 is set=0.10004275431070574, reg_alpha=0.0 will be ignored. Current value: lambda_l1=0.10004275431070574\n",
      "[LightGBM] [Warning] feature_fraction is set=0.5699527422366405, colsample_bytree=1.0 will be ignored. Current value: feature_fraction=0.5699527422366405\n",
      "[LightGBM] [Warning] bagging_freq is set=5, subsample_freq=0 will be ignored. Current value: bagging_freq=5\n",
      "[LightGBM] [Warning] lambda_l2 is set=0.06323439539261952, reg_lambda=0.0 will be ignored. Current value: lambda_l2=0.06323439539261952\n",
      "[LightGBM] [Warning] bagging_fraction is set=0.8751065666465517, subsample=1.0 will be ignored. Current value: bagging_fraction=0.8751065666465517\n",
      "[LightGBM] [Warning] lambda_l1 is set=0.10004275431070574, reg_alpha=0.0 will be ignored. Current value: lambda_l1=0.10004275431070574\n",
      "[LightGBM] [Warning] feature_fraction is set=0.5699527422366405, colsample_bytree=1.0 will be ignored. Current value: feature_fraction=0.5699527422366405\n",
      "[LightGBM] [Warning] bagging_freq is set=5, subsample_freq=0 will be ignored. Current value: bagging_freq=5\n",
      "[LightGBM] [Warning] lambda_l2 is set=0.06323439539261952, reg_lambda=0.0 will be ignored. Current value: lambda_l2=0.06323439539261952\n",
      "[LightGBM] [Warning] bagging_fraction is set=0.8751065666465517, subsample=1.0 will be ignored. Current value: bagging_fraction=0.8751065666465517\n",
      "[LightGBM] [Warning] lambda_l1 is set=0.10004275431070574, reg_alpha=0.0 will be ignored. Current value: lambda_l1=0.10004275431070574\n",
      "[LightGBM] [Warning] feature_fraction is set=0.5699527422366405, colsample_bytree=1.0 will be ignored. Current value: feature_fraction=0.5699527422366405\n",
      "[LightGBM] [Warning] bagging_freq is set=5, subsample_freq=0 will be ignored. Current value: bagging_freq=5\n",
      "[LightGBM] [Warning] lambda_l2 is set=0.06323439539261952, reg_lambda=0.0 will be ignored. Current value: lambda_l2=0.06323439539261952\n",
      "[LightGBM] [Warning] bagging_fraction is set=0.8751065666465517, subsample=1.0 will be ignored. Current value: bagging_fraction=0.8751065666465517\n",
      "[LightGBM] [Warning] lambda_l1 is set=0.10004275431070574, reg_alpha=0.0 will be ignored. Current value: lambda_l1=0.10004275431070574\n",
      "[LightGBM] [Warning] feature_fraction is set=0.5699527422366405, colsample_bytree=1.0 will be ignored. Current value: feature_fraction=0.5699527422366405\n",
      "[LightGBM] [Warning] bagging_freq is set=5, subsample_freq=0 will be ignored. Current value: bagging_freq=5\n",
      "[LightGBM] [Warning] lambda_l2 is set=0.06323439539261952, reg_lambda=0.0 will be ignored. Current value: lambda_l2=0.06323439539261952\n",
      "[LightGBM] [Warning] bagging_fraction is set=0.8751065666465517, subsample=1.0 will be ignored. Current value: bagging_fraction=0.8751065666465517\n",
      "[LightGBM] [Warning] lambda_l1 is set=0.10004275431070574, reg_alpha=0.0 will be ignored. Current value: lambda_l1=0.10004275431070574\n",
      "[LightGBM] [Warning] feature_fraction is set=0.5699527422366405, colsample_bytree=1.0 will be ignored. Current value: feature_fraction=0.5699527422366405\n",
      "[LightGBM] [Warning] bagging_freq is set=5, subsample_freq=0 will be ignored. Current value: bagging_freq=5\n",
      "[LightGBM] [Warning] lambda_l2 is set=0.06323439539261952, reg_lambda=0.0 will be ignored. Current value: lambda_l2=0.06323439539261952\n",
      "[LightGBM] [Warning] bagging_fraction is set=0.8751065666465517, subsample=1.0 will be ignored. Current value: bagging_fraction=0.8751065666465517\n",
      "[LightGBM] [Warning] lambda_l1 is set=0.1178499880692442, reg_alpha=0.0 will be ignored. Current value: lambda_l1=0.1178499880692442\n",
      "[LightGBM] [Warning] feature_fraction is set=0.7366508969494625, colsample_bytree=1.0 will be ignored. Current value: feature_fraction=0.7366508969494625\n",
      "[LightGBM] [Warning] bagging_freq is set=5, subsample_freq=0 will be ignored. Current value: bagging_freq=5\n",
      "[LightGBM] [Warning] lambda_l2 is set=5.986702066796353e-06, reg_lambda=0.0 will be ignored. Current value: lambda_l2=5.986702066796353e-06\n",
      "[LightGBM] [Warning] bagging_fraction is set=0.9060759398823122, subsample=1.0 will be ignored. Current value: bagging_fraction=0.9060759398823122\n"
     ]
    },
    {
     "name": "stderr",
     "output_type": "stream",
     "text": [
      "\u001b[32m[I 2022-08-23 10:31:37,263]\u001b[0m Trial 13 finished with value: 16.963844771453434 and parameters: {'lambda_l1': 0.1178499880692442, 'lambda_l2': 5.986702066796353e-06, 'num_leaves': 171, 'feature_fraction': 0.7366508969494625, 'bagging_fraction': 0.9060759398823122, 'bagging_freq': 5, 'min_child_samples': 84}. Best is trial 6 with value: 16.812397574625237.\u001b[0m\n"
     ]
    },
    {
     "name": "stdout",
     "output_type": "stream",
     "text": [
      "[LightGBM] [Warning] lambda_l1 is set=0.1178499880692442, reg_alpha=0.0 will be ignored. Current value: lambda_l1=0.1178499880692442\n",
      "[LightGBM] [Warning] feature_fraction is set=0.7366508969494625, colsample_bytree=1.0 will be ignored. Current value: feature_fraction=0.7366508969494625\n",
      "[LightGBM] [Warning] bagging_freq is set=5, subsample_freq=0 will be ignored. Current value: bagging_freq=5\n",
      "[LightGBM] [Warning] lambda_l2 is set=5.986702066796353e-06, reg_lambda=0.0 will be ignored. Current value: lambda_l2=5.986702066796353e-06\n",
      "[LightGBM] [Warning] bagging_fraction is set=0.9060759398823122, subsample=1.0 will be ignored. Current value: bagging_fraction=0.9060759398823122\n",
      "[LightGBM] [Warning] lambda_l1 is set=0.1178499880692442, reg_alpha=0.0 will be ignored. Current value: lambda_l1=0.1178499880692442\n",
      "[LightGBM] [Warning] feature_fraction is set=0.7366508969494625, colsample_bytree=1.0 will be ignored. Current value: feature_fraction=0.7366508969494625\n",
      "[LightGBM] [Warning] bagging_freq is set=5, subsample_freq=0 will be ignored. Current value: bagging_freq=5\n",
      "[LightGBM] [Warning] lambda_l2 is set=5.986702066796353e-06, reg_lambda=0.0 will be ignored. Current value: lambda_l2=5.986702066796353e-06\n",
      "[LightGBM] [Warning] bagging_fraction is set=0.9060759398823122, subsample=1.0 will be ignored. Current value: bagging_fraction=0.9060759398823122\n",
      "[LightGBM] [Warning] lambda_l1 is set=0.1178499880692442, reg_alpha=0.0 will be ignored. Current value: lambda_l1=0.1178499880692442\n",
      "[LightGBM] [Warning] feature_fraction is set=0.7366508969494625, colsample_bytree=1.0 will be ignored. Current value: feature_fraction=0.7366508969494625\n",
      "[LightGBM] [Warning] bagging_freq is set=5, subsample_freq=0 will be ignored. Current value: bagging_freq=5\n",
      "[LightGBM] [Warning] lambda_l2 is set=5.986702066796353e-06, reg_lambda=0.0 will be ignored. Current value: lambda_l2=5.986702066796353e-06\n",
      "[LightGBM] [Warning] bagging_fraction is set=0.9060759398823122, subsample=1.0 will be ignored. Current value: bagging_fraction=0.9060759398823122\n",
      "[LightGBM] [Warning] lambda_l1 is set=0.1178499880692442, reg_alpha=0.0 will be ignored. Current value: lambda_l1=0.1178499880692442\n",
      "[LightGBM] [Warning] feature_fraction is set=0.7366508969494625, colsample_bytree=1.0 will be ignored. Current value: feature_fraction=0.7366508969494625\n",
      "[LightGBM] [Warning] bagging_freq is set=5, subsample_freq=0 will be ignored. Current value: bagging_freq=5\n",
      "[LightGBM] [Warning] lambda_l2 is set=5.986702066796353e-06, reg_lambda=0.0 will be ignored. Current value: lambda_l2=5.986702066796353e-06\n",
      "[LightGBM] [Warning] bagging_fraction is set=0.9060759398823122, subsample=1.0 will be ignored. Current value: bagging_fraction=0.9060759398823122\n",
      "[LightGBM] [Warning] lambda_l1 is set=9.26541743044213, reg_alpha=0.0 will be ignored. Current value: lambda_l1=9.26541743044213\n",
      "[LightGBM] [Warning] feature_fraction is set=0.40199982061420875, colsample_bytree=1.0 will be ignored. Current value: feature_fraction=0.40199982061420875\n",
      "[LightGBM] [Warning] bagging_freq is set=3, subsample_freq=0 will be ignored. Current value: bagging_freq=3\n",
      "[LightGBM] [Warning] lambda_l2 is set=0.0017738485326070932, reg_lambda=0.0 will be ignored. Current value: lambda_l2=0.0017738485326070932\n",
      "[LightGBM] [Warning] bagging_fraction is set=0.7006406948874, subsample=1.0 will be ignored. Current value: bagging_fraction=0.7006406948874\n"
     ]
    },
    {
     "name": "stderr",
     "output_type": "stream",
     "text": [
      "\u001b[32m[I 2022-08-23 10:31:37,470]\u001b[0m Trial 14 finished with value: 17.15123148286256 and parameters: {'lambda_l1': 9.26541743044213, 'lambda_l2': 0.0017738485326070932, 'num_leaves': 36, 'feature_fraction': 0.40199982061420875, 'bagging_fraction': 0.7006406948874, 'bagging_freq': 3, 'min_child_samples': 57}. Best is trial 6 with value: 16.812397574625237.\u001b[0m\n"
     ]
    },
    {
     "name": "stdout",
     "output_type": "stream",
     "text": [
      "[LightGBM] [Warning] lambda_l1 is set=9.26541743044213, reg_alpha=0.0 will be ignored. Current value: lambda_l1=9.26541743044213\n",
      "[LightGBM] [Warning] feature_fraction is set=0.40199982061420875, colsample_bytree=1.0 will be ignored. Current value: feature_fraction=0.40199982061420875\n",
      "[LightGBM] [Warning] bagging_freq is set=3, subsample_freq=0 will be ignored. Current value: bagging_freq=3\n",
      "[LightGBM] [Warning] lambda_l2 is set=0.0017738485326070932, reg_lambda=0.0 will be ignored. Current value: lambda_l2=0.0017738485326070932\n",
      "[LightGBM] [Warning] bagging_fraction is set=0.7006406948874, subsample=1.0 will be ignored. Current value: bagging_fraction=0.7006406948874\n",
      "[LightGBM] [Warning] lambda_l1 is set=9.26541743044213, reg_alpha=0.0 will be ignored. Current value: lambda_l1=9.26541743044213\n",
      "[LightGBM] [Warning] feature_fraction is set=0.40199982061420875, colsample_bytree=1.0 will be ignored. Current value: feature_fraction=0.40199982061420875\n",
      "[LightGBM] [Warning] bagging_freq is set=3, subsample_freq=0 will be ignored. Current value: bagging_freq=3\n",
      "[LightGBM] [Warning] lambda_l2 is set=0.0017738485326070932, reg_lambda=0.0 will be ignored. Current value: lambda_l2=0.0017738485326070932\n",
      "[LightGBM] [Warning] bagging_fraction is set=0.7006406948874, subsample=1.0 will be ignored. Current value: bagging_fraction=0.7006406948874\n",
      "[LightGBM] [Warning] lambda_l1 is set=9.26541743044213, reg_alpha=0.0 will be ignored. Current value: lambda_l1=9.26541743044213\n",
      "[LightGBM] [Warning] feature_fraction is set=0.40199982061420875, colsample_bytree=1.0 will be ignored. Current value: feature_fraction=0.40199982061420875\n",
      "[LightGBM] [Warning] bagging_freq is set=3, subsample_freq=0 will be ignored. Current value: bagging_freq=3\n",
      "[LightGBM] [Warning] lambda_l2 is set=0.0017738485326070932, reg_lambda=0.0 will be ignored. Current value: lambda_l2=0.0017738485326070932\n",
      "[LightGBM] [Warning] bagging_fraction is set=0.7006406948874, subsample=1.0 will be ignored. Current value: bagging_fraction=0.7006406948874\n",
      "[LightGBM] [Warning] lambda_l1 is set=9.26541743044213, reg_alpha=0.0 will be ignored. Current value: lambda_l1=9.26541743044213\n",
      "[LightGBM] [Warning] feature_fraction is set=0.40199982061420875, colsample_bytree=1.0 will be ignored. Current value: feature_fraction=0.40199982061420875\n",
      "[LightGBM] [Warning] bagging_freq is set=3, subsample_freq=0 will be ignored. Current value: bagging_freq=3\n",
      "[LightGBM] [Warning] lambda_l2 is set=0.0017738485326070932, reg_lambda=0.0 will be ignored. Current value: lambda_l2=0.0017738485326070932\n",
      "[LightGBM] [Warning] bagging_fraction is set=0.7006406948874, subsample=1.0 will be ignored. Current value: bagging_fraction=0.7006406948874\n",
      "[LightGBM] [Warning] lambda_l1 is set=0.3607638605178717, reg_alpha=0.0 will be ignored. Current value: lambda_l1=0.3607638605178717\n",
      "[LightGBM] [Warning] feature_fraction is set=0.5978315214467356, colsample_bytree=1.0 will be ignored. Current value: feature_fraction=0.5978315214467356\n",
      "[LightGBM] [Warning] bagging_freq is set=3, subsample_freq=0 will be ignored. Current value: bagging_freq=3\n",
      "[LightGBM] [Warning] lambda_l2 is set=0.10671546883011204, reg_lambda=0.0 will be ignored. Current value: lambda_l2=0.10671546883011204\n",
      "[LightGBM] [Warning] bagging_fraction is set=0.9805060400077086, subsample=1.0 will be ignored. Current value: bagging_fraction=0.9805060400077086\n"
     ]
    },
    {
     "name": "stderr",
     "output_type": "stream",
     "text": [
      "\u001b[32m[I 2022-08-23 10:31:37,679]\u001b[0m Trial 15 finished with value: 16.897016585192 and parameters: {'lambda_l1': 0.3607638605178717, 'lambda_l2': 0.10671546883011204, 'num_leaves': 156, 'feature_fraction': 0.5978315214467356, 'bagging_fraction': 0.9805060400077086, 'bagging_freq': 3, 'min_child_samples': 99}. Best is trial 6 with value: 16.812397574625237.\u001b[0m\n"
     ]
    },
    {
     "name": "stdout",
     "output_type": "stream",
     "text": [
      "[LightGBM] [Warning] lambda_l1 is set=0.3607638605178717, reg_alpha=0.0 will be ignored. Current value: lambda_l1=0.3607638605178717\n",
      "[LightGBM] [Warning] feature_fraction is set=0.5978315214467356, colsample_bytree=1.0 will be ignored. Current value: feature_fraction=0.5978315214467356\n",
      "[LightGBM] [Warning] bagging_freq is set=3, subsample_freq=0 will be ignored. Current value: bagging_freq=3\n",
      "[LightGBM] [Warning] lambda_l2 is set=0.10671546883011204, reg_lambda=0.0 will be ignored. Current value: lambda_l2=0.10671546883011204\n",
      "[LightGBM] [Warning] bagging_fraction is set=0.9805060400077086, subsample=1.0 will be ignored. Current value: bagging_fraction=0.9805060400077086\n",
      "[LightGBM] [Warning] lambda_l1 is set=0.3607638605178717, reg_alpha=0.0 will be ignored. Current value: lambda_l1=0.3607638605178717\n",
      "[LightGBM] [Warning] feature_fraction is set=0.5978315214467356, colsample_bytree=1.0 will be ignored. Current value: feature_fraction=0.5978315214467356\n",
      "[LightGBM] [Warning] bagging_freq is set=3, subsample_freq=0 will be ignored. Current value: bagging_freq=3\n",
      "[LightGBM] [Warning] lambda_l2 is set=0.10671546883011204, reg_lambda=0.0 will be ignored. Current value: lambda_l2=0.10671546883011204\n",
      "[LightGBM] [Warning] bagging_fraction is set=0.9805060400077086, subsample=1.0 will be ignored. Current value: bagging_fraction=0.9805060400077086\n",
      "[LightGBM] [Warning] lambda_l1 is set=0.3607638605178717, reg_alpha=0.0 will be ignored. Current value: lambda_l1=0.3607638605178717\n",
      "[LightGBM] [Warning] feature_fraction is set=0.5978315214467356, colsample_bytree=1.0 will be ignored. Current value: feature_fraction=0.5978315214467356\n",
      "[LightGBM] [Warning] bagging_freq is set=3, subsample_freq=0 will be ignored. Current value: bagging_freq=3\n",
      "[LightGBM] [Warning] lambda_l2 is set=0.10671546883011204, reg_lambda=0.0 will be ignored. Current value: lambda_l2=0.10671546883011204\n",
      "[LightGBM] [Warning] bagging_fraction is set=0.9805060400077086, subsample=1.0 will be ignored. Current value: bagging_fraction=0.9805060400077086\n",
      "[LightGBM] [Warning] lambda_l1 is set=0.3607638605178717, reg_alpha=0.0 will be ignored. Current value: lambda_l1=0.3607638605178717\n",
      "[LightGBM] [Warning] feature_fraction is set=0.5978315214467356, colsample_bytree=1.0 will be ignored. Current value: feature_fraction=0.5978315214467356\n",
      "[LightGBM] [Warning] bagging_freq is set=3, subsample_freq=0 will be ignored. Current value: bagging_freq=3\n",
      "[LightGBM] [Warning] lambda_l2 is set=0.10671546883011204, reg_lambda=0.0 will be ignored. Current value: lambda_l2=0.10671546883011204\n",
      "[LightGBM] [Warning] bagging_fraction is set=0.9805060400077086, subsample=1.0 will be ignored. Current value: bagging_fraction=0.9805060400077086\n",
      "[LightGBM] [Warning] lambda_l1 is set=1.8270374484176544e-05, reg_alpha=0.0 will be ignored. Current value: lambda_l1=1.8270374484176544e-05\n",
      "[LightGBM] [Warning] feature_fraction is set=0.7585035529194069, colsample_bytree=1.0 will be ignored. Current value: feature_fraction=0.7585035529194069\n",
      "[LightGBM] [Warning] bagging_freq is set=6, subsample_freq=0 will be ignored. Current value: bagging_freq=6\n",
      "[LightGBM] [Warning] lambda_l2 is set=1.9876466171767285e-08, reg_lambda=0.0 will be ignored. Current value: lambda_l2=1.9876466171767285e-08\n",
      "[LightGBM] [Warning] bagging_fraction is set=0.8226157874466227, subsample=1.0 will be ignored. Current value: bagging_fraction=0.8226157874466227\n"
     ]
    },
    {
     "name": "stderr",
     "output_type": "stream",
     "text": [
      "\u001b[32m[I 2022-08-23 10:31:37,883]\u001b[0m Trial 16 finished with value: 16.832011373564747 and parameters: {'lambda_l1': 1.8270374484176544e-05, 'lambda_l2': 1.9876466171767285e-08, 'num_leaves': 51, 'feature_fraction': 0.7585035529194069, 'bagging_fraction': 0.8226157874466227, 'bagging_freq': 6, 'min_child_samples': 88}. Best is trial 6 with value: 16.812397574625237.\u001b[0m\n"
     ]
    },
    {
     "name": "stdout",
     "output_type": "stream",
     "text": [
      "[LightGBM] [Warning] lambda_l1 is set=1.8270374484176544e-05, reg_alpha=0.0 will be ignored. Current value: lambda_l1=1.8270374484176544e-05\n",
      "[LightGBM] [Warning] feature_fraction is set=0.7585035529194069, colsample_bytree=1.0 will be ignored. Current value: feature_fraction=0.7585035529194069\n",
      "[LightGBM] [Warning] bagging_freq is set=6, subsample_freq=0 will be ignored. Current value: bagging_freq=6\n",
      "[LightGBM] [Warning] lambda_l2 is set=1.9876466171767285e-08, reg_lambda=0.0 will be ignored. Current value: lambda_l2=1.9876466171767285e-08\n",
      "[LightGBM] [Warning] bagging_fraction is set=0.8226157874466227, subsample=1.0 will be ignored. Current value: bagging_fraction=0.8226157874466227\n",
      "[LightGBM] [Warning] lambda_l1 is set=1.8270374484176544e-05, reg_alpha=0.0 will be ignored. Current value: lambda_l1=1.8270374484176544e-05\n",
      "[LightGBM] [Warning] feature_fraction is set=0.7585035529194069, colsample_bytree=1.0 will be ignored. Current value: feature_fraction=0.7585035529194069\n",
      "[LightGBM] [Warning] bagging_freq is set=6, subsample_freq=0 will be ignored. Current value: bagging_freq=6\n",
      "[LightGBM] [Warning] lambda_l2 is set=1.9876466171767285e-08, reg_lambda=0.0 will be ignored. Current value: lambda_l2=1.9876466171767285e-08\n",
      "[LightGBM] [Warning] bagging_fraction is set=0.8226157874466227, subsample=1.0 will be ignored. Current value: bagging_fraction=0.8226157874466227\n",
      "[LightGBM] [Warning] lambda_l1 is set=1.8270374484176544e-05, reg_alpha=0.0 will be ignored. Current value: lambda_l1=1.8270374484176544e-05\n",
      "[LightGBM] [Warning] feature_fraction is set=0.7585035529194069, colsample_bytree=1.0 will be ignored. Current value: feature_fraction=0.7585035529194069\n",
      "[LightGBM] [Warning] bagging_freq is set=6, subsample_freq=0 will be ignored. Current value: bagging_freq=6\n",
      "[LightGBM] [Warning] lambda_l2 is set=1.9876466171767285e-08, reg_lambda=0.0 will be ignored. Current value: lambda_l2=1.9876466171767285e-08\n",
      "[LightGBM] [Warning] bagging_fraction is set=0.8226157874466227, subsample=1.0 will be ignored. Current value: bagging_fraction=0.8226157874466227\n",
      "[LightGBM] [Warning] lambda_l1 is set=1.8270374484176544e-05, reg_alpha=0.0 will be ignored. Current value: lambda_l1=1.8270374484176544e-05\n",
      "[LightGBM] [Warning] feature_fraction is set=0.7585035529194069, colsample_bytree=1.0 will be ignored. Current value: feature_fraction=0.7585035529194069\n",
      "[LightGBM] [Warning] bagging_freq is set=6, subsample_freq=0 will be ignored. Current value: bagging_freq=6\n",
      "[LightGBM] [Warning] lambda_l2 is set=1.9876466171767285e-08, reg_lambda=0.0 will be ignored. Current value: lambda_l2=1.9876466171767285e-08\n",
      "[LightGBM] [Warning] bagging_fraction is set=0.8226157874466227, subsample=1.0 will be ignored. Current value: bagging_fraction=0.8226157874466227\n",
      "[LightGBM] [Warning] lambda_l1 is set=1.0004782203257914e-05, reg_alpha=0.0 will be ignored. Current value: lambda_l1=1.0004782203257914e-05\n",
      "[LightGBM] [Warning] feature_fraction is set=0.8631781027821281, colsample_bytree=1.0 will be ignored. Current value: feature_fraction=0.8631781027821281\n",
      "[LightGBM] [Warning] bagging_freq is set=6, subsample_freq=0 will be ignored. Current value: bagging_freq=6\n",
      "[LightGBM] [Warning] lambda_l2 is set=1.1108295829043083e-07, reg_lambda=0.0 will be ignored. Current value: lambda_l2=1.1108295829043083e-07\n",
      "[LightGBM] [Warning] bagging_fraction is set=0.4566517927736803, subsample=1.0 will be ignored. Current value: bagging_fraction=0.4566517927736803\n"
     ]
    },
    {
     "name": "stderr",
     "output_type": "stream",
     "text": [
      "\u001b[32m[I 2022-08-23 10:31:38,094]\u001b[0m Trial 17 finished with value: 16.935446427730916 and parameters: {'lambda_l1': 1.0004782203257914e-05, 'lambda_l2': 1.1108295829043083e-07, 'num_leaves': 35, 'feature_fraction': 0.8631781027821281, 'bagging_fraction': 0.4566517927736803, 'bagging_freq': 6, 'min_child_samples': 66}. Best is trial 6 with value: 16.812397574625237.\u001b[0m\n"
     ]
    },
    {
     "name": "stdout",
     "output_type": "stream",
     "text": [
      "[LightGBM] [Warning] lambda_l1 is set=1.0004782203257914e-05, reg_alpha=0.0 will be ignored. Current value: lambda_l1=1.0004782203257914e-05\n",
      "[LightGBM] [Warning] feature_fraction is set=0.8631781027821281, colsample_bytree=1.0 will be ignored. Current value: feature_fraction=0.8631781027821281\n",
      "[LightGBM] [Warning] bagging_freq is set=6, subsample_freq=0 will be ignored. Current value: bagging_freq=6\n",
      "[LightGBM] [Warning] lambda_l2 is set=1.1108295829043083e-07, reg_lambda=0.0 will be ignored. Current value: lambda_l2=1.1108295829043083e-07\n",
      "[LightGBM] [Warning] bagging_fraction is set=0.4566517927736803, subsample=1.0 will be ignored. Current value: bagging_fraction=0.4566517927736803\n",
      "[LightGBM] [Warning] lambda_l1 is set=1.0004782203257914e-05, reg_alpha=0.0 will be ignored. Current value: lambda_l1=1.0004782203257914e-05\n",
      "[LightGBM] [Warning] feature_fraction is set=0.8631781027821281, colsample_bytree=1.0 will be ignored. Current value: feature_fraction=0.8631781027821281\n",
      "[LightGBM] [Warning] bagging_freq is set=6, subsample_freq=0 will be ignored. Current value: bagging_freq=6\n",
      "[LightGBM] [Warning] lambda_l2 is set=1.1108295829043083e-07, reg_lambda=0.0 will be ignored. Current value: lambda_l2=1.1108295829043083e-07\n",
      "[LightGBM] [Warning] bagging_fraction is set=0.4566517927736803, subsample=1.0 will be ignored. Current value: bagging_fraction=0.4566517927736803\n",
      "[LightGBM] [Warning] lambda_l1 is set=1.0004782203257914e-05, reg_alpha=0.0 will be ignored. Current value: lambda_l1=1.0004782203257914e-05\n",
      "[LightGBM] [Warning] feature_fraction is set=0.8631781027821281, colsample_bytree=1.0 will be ignored. Current value: feature_fraction=0.8631781027821281\n",
      "[LightGBM] [Warning] bagging_freq is set=6, subsample_freq=0 will be ignored. Current value: bagging_freq=6\n",
      "[LightGBM] [Warning] lambda_l2 is set=1.1108295829043083e-07, reg_lambda=0.0 will be ignored. Current value: lambda_l2=1.1108295829043083e-07\n",
      "[LightGBM] [Warning] bagging_fraction is set=0.4566517927736803, subsample=1.0 will be ignored. Current value: bagging_fraction=0.4566517927736803\n",
      "[LightGBM] [Warning] lambda_l1 is set=1.0004782203257914e-05, reg_alpha=0.0 will be ignored. Current value: lambda_l1=1.0004782203257914e-05\n",
      "[LightGBM] [Warning] feature_fraction is set=0.8631781027821281, colsample_bytree=1.0 will be ignored. Current value: feature_fraction=0.8631781027821281\n",
      "[LightGBM] [Warning] bagging_freq is set=6, subsample_freq=0 will be ignored. Current value: bagging_freq=6\n",
      "[LightGBM] [Warning] lambda_l2 is set=1.1108295829043083e-07, reg_lambda=0.0 will be ignored. Current value: lambda_l2=1.1108295829043083e-07\n",
      "[LightGBM] [Warning] bagging_fraction is set=0.4566517927736803, subsample=1.0 will be ignored. Current value: bagging_fraction=0.4566517927736803\n",
      "[LightGBM] [Warning] lambda_l1 is set=9.112952132959894e-07, reg_alpha=0.0 will be ignored. Current value: lambda_l1=9.112952132959894e-07\n",
      "[LightGBM] [Warning] feature_fraction is set=0.6516142477204616, colsample_bytree=1.0 will be ignored. Current value: feature_fraction=0.6516142477204616\n",
      "[LightGBM] [Warning] bagging_freq is set=7, subsample_freq=0 will be ignored. Current value: bagging_freq=7\n",
      "[LightGBM] [Warning] lambda_l2 is set=1.3166822274618727e-06, reg_lambda=0.0 will be ignored. Current value: lambda_l2=1.3166822274618727e-06\n",
      "[LightGBM] [Warning] bagging_fraction is set=0.7417420998982669, subsample=1.0 will be ignored. Current value: bagging_fraction=0.7417420998982669\n",
      "[LightGBM] [Warning] lambda_l1 is set=9.112952132959894e-07, reg_alpha=0.0 will be ignored. Current value: lambda_l1=9.112952132959894e-07\n",
      "[LightGBM] [Warning] feature_fraction is set=0.6516142477204616, colsample_bytree=1.0 will be ignored. Current value: feature_fraction=0.6516142477204616\n",
      "[LightGBM] [Warning] bagging_freq is set=7, subsample_freq=0 will be ignored. Current value: bagging_freq=7\n",
      "[LightGBM] [Warning] lambda_l2 is set=1.3166822274618727e-06, reg_lambda=0.0 will be ignored. Current value: lambda_l2=1.3166822274618727e-06\n",
      "[LightGBM] [Warning] bagging_fraction is set=0.7417420998982669, subsample=1.0 will be ignored. Current value: bagging_fraction=0.7417420998982669\n"
     ]
    },
    {
     "name": "stderr",
     "output_type": "stream",
     "text": [
      "\u001b[32m[I 2022-08-23 10:31:38,295]\u001b[0m Trial 18 finished with value: 17.172327553574526 and parameters: {'lambda_l1': 9.112952132959894e-07, 'lambda_l2': 1.3166822274618727e-06, 'num_leaves': 55, 'feature_fraction': 0.6516142477204616, 'bagging_fraction': 0.7417420998982669, 'bagging_freq': 7, 'min_child_samples': 55}. Best is trial 6 with value: 16.812397574625237.\u001b[0m\n"
     ]
    },
    {
     "name": "stdout",
     "output_type": "stream",
     "text": [
      "[LightGBM] [Warning] lambda_l1 is set=9.112952132959894e-07, reg_alpha=0.0 will be ignored. Current value: lambda_l1=9.112952132959894e-07\n",
      "[LightGBM] [Warning] feature_fraction is set=0.6516142477204616, colsample_bytree=1.0 will be ignored. Current value: feature_fraction=0.6516142477204616\n",
      "[LightGBM] [Warning] bagging_freq is set=7, subsample_freq=0 will be ignored. Current value: bagging_freq=7\n",
      "[LightGBM] [Warning] lambda_l2 is set=1.3166822274618727e-06, reg_lambda=0.0 will be ignored. Current value: lambda_l2=1.3166822274618727e-06\n",
      "[LightGBM] [Warning] bagging_fraction is set=0.7417420998982669, subsample=1.0 will be ignored. Current value: bagging_fraction=0.7417420998982669\n",
      "[LightGBM] [Warning] lambda_l1 is set=9.112952132959894e-07, reg_alpha=0.0 will be ignored. Current value: lambda_l1=9.112952132959894e-07\n",
      "[LightGBM] [Warning] feature_fraction is set=0.6516142477204616, colsample_bytree=1.0 will be ignored. Current value: feature_fraction=0.6516142477204616\n",
      "[LightGBM] [Warning] bagging_freq is set=7, subsample_freq=0 will be ignored. Current value: bagging_freq=7\n",
      "[LightGBM] [Warning] lambda_l2 is set=1.3166822274618727e-06, reg_lambda=0.0 will be ignored. Current value: lambda_l2=1.3166822274618727e-06\n",
      "[LightGBM] [Warning] bagging_fraction is set=0.7417420998982669, subsample=1.0 will be ignored. Current value: bagging_fraction=0.7417420998982669\n",
      "[LightGBM] [Warning] lambda_l1 is set=9.112952132959894e-07, reg_alpha=0.0 will be ignored. Current value: lambda_l1=9.112952132959894e-07\n",
      "[LightGBM] [Warning] feature_fraction is set=0.6516142477204616, colsample_bytree=1.0 will be ignored. Current value: feature_fraction=0.6516142477204616\n",
      "[LightGBM] [Warning] bagging_freq is set=7, subsample_freq=0 will be ignored. Current value: bagging_freq=7\n",
      "[LightGBM] [Warning] lambda_l2 is set=1.3166822274618727e-06, reg_lambda=0.0 will be ignored. Current value: lambda_l2=1.3166822274618727e-06\n",
      "[LightGBM] [Warning] bagging_fraction is set=0.7417420998982669, subsample=1.0 will be ignored. Current value: bagging_fraction=0.7417420998982669\n",
      "[LightGBM] [Warning] lambda_l1 is set=7.199829027248884e-05, reg_alpha=0.0 will be ignored. Current value: lambda_l1=7.199829027248884e-05\n",
      "[LightGBM] [Warning] feature_fraction is set=0.7727451047507727, colsample_bytree=1.0 will be ignored. Current value: feature_fraction=0.7727451047507727\n",
      "[LightGBM] [Warning] bagging_freq is set=6, subsample_freq=0 will be ignored. Current value: bagging_freq=6\n",
      "[LightGBM] [Warning] lambda_l2 is set=1.787491640575837e-08, reg_lambda=0.0 will be ignored. Current value: lambda_l2=1.787491640575837e-08\n",
      "[LightGBM] [Warning] bagging_fraction is set=0.8245958637767578, subsample=1.0 will be ignored. Current value: bagging_fraction=0.8245958637767578\n",
      "[LightGBM] [Warning] lambda_l1 is set=7.199829027248884e-05, reg_alpha=0.0 will be ignored. Current value: lambda_l1=7.199829027248884e-05\n",
      "[LightGBM] [Warning] feature_fraction is set=0.7727451047507727, colsample_bytree=1.0 will be ignored. Current value: feature_fraction=0.7727451047507727\n",
      "[LightGBM] [Warning] bagging_freq is set=6, subsample_freq=0 will be ignored. Current value: bagging_freq=6\n",
      "[LightGBM] [Warning] lambda_l2 is set=1.787491640575837e-08, reg_lambda=0.0 will be ignored. Current value: lambda_l2=1.787491640575837e-08\n",
      "[LightGBM] [Warning] bagging_fraction is set=0.8245958637767578, subsample=1.0 will be ignored. Current value: bagging_fraction=0.8245958637767578\n",
      "[LightGBM] [Warning] lambda_l1 is set=7.199829027248884e-05, reg_alpha=0.0 will be ignored. Current value: lambda_l1=7.199829027248884e-05\n",
      "[LightGBM] [Warning] feature_fraction is set=0.7727451047507727, colsample_bytree=1.0 will be ignored. Current value: feature_fraction=0.7727451047507727\n",
      "[LightGBM] [Warning] bagging_freq is set=6, subsample_freq=0 will be ignored. Current value: bagging_freq=6\n",
      "[LightGBM] [Warning] lambda_l2 is set=1.787491640575837e-08, reg_lambda=0.0 will be ignored. Current value: lambda_l2=1.787491640575837e-08\n",
      "[LightGBM] [Warning] bagging_fraction is set=0.8245958637767578, subsample=1.0 will be ignored. Current value: bagging_fraction=0.8245958637767578\n"
     ]
    },
    {
     "name": "stderr",
     "output_type": "stream",
     "text": [
      "\u001b[32m[I 2022-08-23 10:31:38,485]\u001b[0m Trial 19 finished with value: 16.924024019699043 and parameters: {'lambda_l1': 7.199829027248884e-05, 'lambda_l2': 1.787491640575837e-08, 'num_leaves': 2, 'feature_fraction': 0.7727451047507727, 'bagging_fraction': 0.8245958637767578, 'bagging_freq': 6, 'min_child_samples': 87}. Best is trial 6 with value: 16.812397574625237.\u001b[0m\n"
     ]
    },
    {
     "name": "stdout",
     "output_type": "stream",
     "text": [
      "[LightGBM] [Warning] lambda_l1 is set=7.199829027248884e-05, reg_alpha=0.0 will be ignored. Current value: lambda_l1=7.199829027248884e-05\n",
      "[LightGBM] [Warning] feature_fraction is set=0.7727451047507727, colsample_bytree=1.0 will be ignored. Current value: feature_fraction=0.7727451047507727\n",
      "[LightGBM] [Warning] bagging_freq is set=6, subsample_freq=0 will be ignored. Current value: bagging_freq=6\n",
      "[LightGBM] [Warning] lambda_l2 is set=1.787491640575837e-08, reg_lambda=0.0 will be ignored. Current value: lambda_l2=1.787491640575837e-08\n",
      "[LightGBM] [Warning] bagging_fraction is set=0.8245958637767578, subsample=1.0 will be ignored. Current value: bagging_fraction=0.8245958637767578\n",
      "[LightGBM] [Warning] lambda_l1 is set=7.199829027248884e-05, reg_alpha=0.0 will be ignored. Current value: lambda_l1=7.199829027248884e-05\n",
      "[LightGBM] [Warning] feature_fraction is set=0.7727451047507727, colsample_bytree=1.0 will be ignored. Current value: feature_fraction=0.7727451047507727\n",
      "[LightGBM] [Warning] bagging_freq is set=6, subsample_freq=0 will be ignored. Current value: bagging_freq=6\n",
      "[LightGBM] [Warning] lambda_l2 is set=1.787491640575837e-08, reg_lambda=0.0 will be ignored. Current value: lambda_l2=1.787491640575837e-08\n",
      "[LightGBM] [Warning] bagging_fraction is set=0.8245958637767578, subsample=1.0 will be ignored. Current value: bagging_fraction=0.8245958637767578\n"
     ]
    }
   ],
   "source": [
    "study = optuna.create_study(direction=\"minimize\", study_name='LGBM optimization')\n",
    "study.optimize(Objective, n_trials=20)"
   ]
  },
  {
   "cell_type": "code",
   "execution_count": 61,
   "metadata": {},
   "outputs": [
    {
     "data": {
      "text/plain": [
       "{'lambda_l1': 1.3257701269879607,\n",
       " 'lambda_l2': 0.0004334972429669665,\n",
       " 'num_leaves': 17,\n",
       " 'feature_fraction': 0.6815167108914421,\n",
       " 'bagging_fraction': 0.8249865779479817,\n",
       " 'bagging_freq': 6,\n",
       " 'min_child_samples': 99}"
      ]
     },
     "execution_count": 61,
     "metadata": {},
     "output_type": "execute_result"
    }
   ],
   "source": [
    "lgb_params = study.best_params\n",
    "study.best_params"
   ]
  },
  {
   "cell_type": "code",
   "execution_count": null,
   "metadata": {},
   "outputs": [],
   "source": []
  },
  {
   "cell_type": "markdown",
   "metadata": {},
   "source": [
    "-------"
   ]
  },
  {
   "cell_type": "code",
   "execution_count": 62,
   "metadata": {},
   "outputs": [
    {
     "name": "stdout",
     "output_type": "stream",
     "text": [
      "Learning rate set to 0.046011\n",
      "0:\tlearn: 17.5925647\ttotal: 811us\tremaining: 811ms\n",
      "200:\tlearn: 14.2665737\ttotal: 122ms\tremaining: 487ms\n",
      "400:\tlearn: 13.3098686\ttotal: 247ms\tremaining: 369ms\n",
      "600:\tlearn: 12.4542405\ttotal: 371ms\tremaining: 246ms\n",
      "800:\tlearn: 11.7402266\ttotal: 512ms\tremaining: 127ms\n",
      "999:\tlearn: 11.1160916\ttotal: 637ms\tremaining: 0us\n"
     ]
    }
   ],
   "source": [
    "from sklearn.ensemble import GradientBoostingRegressor\n",
    "from sklearn.ensemble import StackingRegressor\n",
    "final_estimator =  CatBoostRegressor( random_seed=13, verbose=200)\n",
    "\n",
    "estimators = [('xgb', XGBRegressor( )),\n",
    "        #       ('lgb', lgbm.LGBMRegressor(**lgb_params))\n",
    "                  (\"reg\", reg),\n",
    "                (\"lgbreg\", lgbreg),\n",
    "              ]\n",
    "# model_pipeline = Pipeline(steps=[\n",
    "# (\"preprocessor\", preprocessor),\n",
    "# (\"final_estimator\", final_estimator),\n",
    "# ])\n",
    "reg = StackingRegressor(\n",
    "        estimators=estimators,\n",
    "         final_estimator=final_estimator)\n",
    "model_pipeline = Pipeline(steps=[\n",
    "(\"preprocessor\", preprocessor),\n",
    "(\"reg\", reg),\n",
    "])\n",
    "cb_reg_1 = model_pipeline.fit(X_train , y_train)"
   ]
  },
  {
   "cell_type": "code",
   "execution_count": 63,
   "metadata": {},
   "outputs": [
    {
     "name": "stdout",
     "output_type": "stream",
     "text": [
      "Learning rate set to 0.035685\n",
      "0:\tlearn: 17.1315881\ttotal: 412us\tremaining: 412ms\n",
      "200:\tlearn: 13.4267074\ttotal: 77.1ms\tremaining: 307ms\n",
      "400:\tlearn: 11.4360191\ttotal: 159ms\tremaining: 237ms\n",
      "600:\tlearn: 9.6458498\ttotal: 266ms\tremaining: 177ms\n",
      "800:\tlearn: 8.2871235\ttotal: 346ms\tremaining: 86.1ms\n",
      "999:\tlearn: 7.2529887\ttotal: 429ms\tremaining: 0us\n",
      "Learning rate set to 0.035685\n",
      "0:\tlearn: 16.6979301\ttotal: 761us\tremaining: 761ms\n",
      "200:\tlearn: 12.5068066\ttotal: 84.4ms\tremaining: 335ms\n",
      "400:\tlearn: 10.6013566\ttotal: 165ms\tremaining: 246ms\n",
      "600:\tlearn: 8.9275051\ttotal: 257ms\tremaining: 170ms\n",
      "800:\tlearn: 7.8176042\ttotal: 341ms\tremaining: 84.6ms\n",
      "999:\tlearn: 6.8391432\ttotal: 425ms\tremaining: 0us\n",
      "Learning rate set to 0.035685\n",
      "0:\tlearn: 16.7015167\ttotal: 548us\tremaining: 548ms\n",
      "200:\tlearn: 12.6508954\ttotal: 81.1ms\tremaining: 322ms\n",
      "400:\tlearn: 10.6091807\ttotal: 171ms\tremaining: 256ms\n",
      "600:\tlearn: 9.0240124\ttotal: 266ms\tremaining: 177ms\n",
      "800:\tlearn: 7.7352851\ttotal: 348ms\tremaining: 86.5ms\n",
      "999:\tlearn: 6.6816926\ttotal: 435ms\tremaining: 0us\n",
      "Learning rate set to 0.035685\n",
      "0:\tlearn: 17.2031170\ttotal: 1.35ms\tremaining: 1.34s\n",
      "200:\tlearn: 12.9646565\ttotal: 81.6ms\tremaining: 324ms\n",
      "400:\tlearn: 11.0142959\ttotal: 161ms\tremaining: 241ms\n",
      "600:\tlearn: 9.3707584\ttotal: 243ms\tremaining: 161ms\n",
      "800:\tlearn: 8.0713661\ttotal: 319ms\tremaining: 79.3ms\n",
      "999:\tlearn: 7.0293257\ttotal: 404ms\tremaining: 0us\n",
      "Learning rate set to 0.035699\n",
      "0:\tlearn: 16.6475974\ttotal: 1.56ms\tremaining: 1.56s\n",
      "200:\tlearn: 12.9177166\ttotal: 82.9ms\tremaining: 330ms\n",
      "400:\tlearn: 10.9798064\ttotal: 174ms\tremaining: 260ms\n",
      "600:\tlearn: 9.3320558\ttotal: 264ms\tremaining: 175ms\n",
      "800:\tlearn: 8.1106821\ttotal: 349ms\tremaining: 86.7ms\n",
      "999:\tlearn: 7.1488860\ttotal: 429ms\tremaining: 0us\n"
     ]
    },
    {
     "data": {
      "text/plain": [
       "17.85061553373459"
      ]
     },
     "execution_count": 63,
     "metadata": {},
     "output_type": "execute_result"
    }
   ],
   "source": [
    "results = cross_val_score(cb_reg_1, X_test, y_test.values.ravel(), cv=k, scoring=loss)\n",
    "\n",
    "np.abs(np.mean(results))"
   ]
  },
  {
   "cell_type": "code",
   "execution_count": 65,
   "metadata": {},
   "outputs": [
    {
     "data": {
      "text/plain": [
       "['reg.pkl']"
      ]
     },
     "execution_count": 65,
     "metadata": {},
     "output_type": "execute_result"
    }
   ],
   "source": [
    "import joblib\n",
    "joblib.dump(cb_reg_1, \"reg.pkl\")"
   ]
  }
 ],
 "metadata": {
  "kernelspec": {
   "display_name": "Python 3.10.4 64-bit",
   "language": "python",
   "name": "python3"
  },
  "language_info": {
   "codemirror_mode": {
    "name": "ipython",
    "version": 3
   },
   "file_extension": ".py",
   "mimetype": "text/x-python",
   "name": "python",
   "nbconvert_exporter": "python",
   "pygments_lexer": "ipython3",
   "version": "3.10.4"
  },
  "orig_nbformat": 4,
  "vscode": {
   "interpreter": {
    "hash": "949777d72b0d2535278d3dc13498b2535136f6dfe0678499012e853ee9abcab1"
   }
  }
 },
 "nbformat": 4,
 "nbformat_minor": 2
}

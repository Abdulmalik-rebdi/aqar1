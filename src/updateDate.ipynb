{
 "cells": [
  {
   "cell_type": "markdown",
   "metadata": {},
   "source": [
    "# after the join phase is the update phase where i will update the diffrent in time "
   ]
  },
  {
   "cell_type": "code",
   "execution_count": 99,
   "metadata": {},
   "outputs": [],
   "source": [
    "import pandas as pd\n",
    "import numpy as np\n",
    "import math\n",
    "from sklearn.model_selection import train_test_split\n",
    "from sklearn.compose import TransformedTargetRegressor\n",
    "from sklearn.compose import ColumnTransformer\n",
    "from sklearn.compose import make_column_selector as selector\n",
    "from sklearn.preprocessing import PowerTransformer\n",
    "from sklearn.preprocessing import StandardScaler\n",
    "from sklearn.preprocessing import OneHotEncoder\n",
    "from sklearn.preprocessing import LabelEncoder\n",
    "from sklearn.impute import SimpleImputer\n",
    "from sklearn.impute import KNNImputer\n",
    "from sklearn.feature_selection import VarianceThreshold\n",
    "from sklearn.decomposition import PCA\n",
    "import datetime\n",
    "from datetime import timedelta\n",
    "import ast\n",
    "import json    \n",
    "import missingno as msno"
   ]
  },
  {
   "cell_type": "code",
   "execution_count": 117,
   "metadata": {},
   "outputs": [],
   "source": [
    "df =pd.read_csv('../data/aqar.csv')"
   ]
  },
  {
   "cell_type": "code",
   "execution_count": 120,
   "metadata": {},
   "outputs": [
    {
     "data": {
      "text/plain": [
       "0    5059\n",
       "1     471\n",
       "2     253\n",
       "3     236\n",
       "4     194\n",
       "5     151\n",
       "6     131\n",
       "8      96\n",
       "7      87\n",
       "9      84\n",
       "Name: soldAt, dtype: int64"
      ]
     },
     "execution_count": 120,
     "metadata": {},
     "output_type": "execute_result"
    }
   ],
   "source": [
    "df['soldAt'].value_counts()"
   ]
  },
  {
   "cell_type": "code",
   "execution_count": 102,
   "metadata": {},
   "outputs": [
    {
     "data": {
      "text/plain": [
       "Index(['Unnamed: 0.1', 'Unnamed: 0', 'user_id', 'id', 'title', 'price',\n",
       "       'content', 'imgs', 'refresh', 'beds', 'livings', 'wc', 'area',\n",
       "       'street_width', 'age', 'last_update', 'ketchen', 'ac', 'furnished',\n",
       "       'location', 'path', 'user', 'district', 'width', 'length',\n",
       "       'advertiser_type', 'create_time', 'review', 'profileImg', 'UserName',\n",
       "       'iam_verified', 'rega_id', 'sold', 'soldAt'],\n",
       "      dtype='object')"
      ]
     },
     "execution_count": 102,
     "metadata": {},
     "output_type": "execute_result"
    }
   ],
   "source": [
    "df.columns"
   ]
  },
  {
   "cell_type": "code",
   "execution_count": 121,
   "metadata": {},
   "outputs": [],
   "source": [
    "df.drop(['soldAt' ], axis = 1 , inplace=True) #this will drop the sold date "
   ]
  },
  {
   "cell_type": "code",
   "execution_count": 122,
   "metadata": {},
   "outputs": [
    {
     "data": {
      "text/plain": [
       "'2022-08-06'"
      ]
     },
     "execution_count": 122,
     "metadata": {},
     "output_type": "execute_result"
    }
   ],
   "source": [
    "df['create_time'][1][2:12] # the create date is a string with the time bbut now i need only the time "
   ]
  },
  {
   "cell_type": "code",
   "execution_count": 105,
   "metadata": {},
   "outputs": [
    {
     "data": {
      "text/plain": [
       "2"
      ]
     },
     "execution_count": 105,
     "metadata": {},
     "output_type": "execute_result"
    }
   ],
   "source": [
    "df['sold'][2] #first i will check if it is sold or not "
   ]
  },
  {
   "cell_type": "code",
   "execution_count": 106,
   "metadata": {},
   "outputs": [
    {
     "data": {
      "text/plain": [
       "Timestamp('2022-08-08 00:00:00')"
      ]
     },
     "execution_count": 106,
     "metadata": {},
     "output_type": "execute_result"
    }
   ],
   "source": [
    "pd.to_datetime('2022/08/08', format='%Y-%m-%d') #then if it is sold in 2 then it is sold in this date"
   ]
  },
  {
   "cell_type": "code",
   "execution_count": 107,
   "metadata": {},
   "outputs": [
    {
     "data": {
      "text/plain": [
       "Timestamp('2022-03-10 00:00:00')"
      ]
     },
     "execution_count": 107,
     "metadata": {},
     "output_type": "execute_result"
    }
   ],
   "source": [
    "pd.to_datetime(df['create_time'][3][2:12], format='%Y-%m-%d') #them i will subtract the date it sold - the day it create it "
   ]
  },
  {
   "cell_type": "code",
   "execution_count": 123,
   "metadata": {},
   "outputs": [
    {
     "data": {
      "text/plain": [
       "Timedelta('151 days 00:00:00')"
      ]
     },
     "execution_count": 123,
     "metadata": {},
     "output_type": "execute_result"
    }
   ],
   "source": [
    "td = pd.to_datetime('2022/08/08', format='%Y-%m-%d') - pd.to_datetime(df['create_time'][3][2:12], format='%Y-%m-%d')\n",
    "td # after subtract it will shows a series of timedeltas"
   ]
  },
  {
   "cell_type": "code",
   "execution_count": 124,
   "metadata": {},
   "outputs": [
    {
     "data": {
      "text/plain": [
       "151"
      ]
     },
     "execution_count": 124,
     "metadata": {},
     "output_type": "execute_result"
    }
   ],
   "source": [
    "# to convert it to int \n",
    "td = int((td / np.timedelta64(1, 'D')))\n",
    "td \n",
    "#and now i have to do this to all the rows"
   ]
  },
  {
   "cell_type": "code",
   "execution_count": 12,
   "metadata": {},
   "outputs": [],
   "source": [
    "# 5 <- 11/8"
   ]
  },
  {
   "cell_type": "code",
   "execution_count": 79,
   "metadata": {},
   "outputs": [
    {
     "data": {
      "text/plain": [
       "177.0"
      ]
     },
     "execution_count": 79,
     "metadata": {},
     "output_type": "execute_result"
    }
   ],
   "source": []
  },
  {
   "cell_type": "code",
   "execution_count": 129,
   "metadata": {},
   "outputs": [],
   "source": [
    "df['soldAt'] = 0 "
   ]
  },
  {
   "cell_type": "code",
   "execution_count": 80,
   "metadata": {},
   "outputs": [
    {
     "name": "stderr",
     "output_type": "stream",
     "text": [
      "/tmp/ipykernel_9666/3652563829.py:1: SettingWithCopyWarning: \n",
      "A value is trying to be set on a copy of a slice from a DataFrame\n",
      "\n",
      "See the caveats in the documentation: https://pandas.pydata.org/pandas-docs/stable/user_guide/indexing.html#returning-a-view-versus-a-copy\n",
      "  df['soldAt'][3] = (pd.to_datetime('2022/08/07', format='%Y-%m-%d') - pd.to_datetime(df['create_time'][index][2:12], format='%Y-%m-%d'))/np.timedelta64(1, 'D')\n"
     ]
    }
   ],
   "source": [
    "# df['soldAt'][3] = (pd.to_datetime('2022/08/07', format='%Y-%m-%d') - pd.to_datetime(df['create_time'][index][2:12], format='%Y-%m-%d'))/np.timedelta64(1, 'D')"
   ]
  },
  {
   "cell_type": "code",
   "execution_count": 69,
   "metadata": {},
   "outputs": [
    {
     "ename": "UFuncTypeError",
     "evalue": "ufunc 'true_divide' cannot use operands with types dtype('int64') and dtype('<m8[D]')",
     "output_type": "error",
     "traceback": [
      "\u001b[0;31m---------------------------------------------------------------------------\u001b[0m",
      "\u001b[0;31mUFuncTypeError\u001b[0m                            Traceback (most recent call last)",
      "\u001b[1;32m/workspaces/projects/src/updateDate.ipynb Cell 17\u001b[0m in \u001b[0;36m<cell line: 1>\u001b[0;34m()\u001b[0m\n\u001b[0;32m----> <a href='vscode-notebook-cell://dev-container%2B633a5c55736572735c646776616666616661655c70726f6a65637473/workspaces/projects/src/updateDate.ipynb#ch0000037vscode-remote?line=0'>1</a>\u001b[0m (td \u001b[39m/\u001b[39;49m np\u001b[39m.\u001b[39;49mtimedelta64(\u001b[39m1\u001b[39;49m, \u001b[39m'\u001b[39;49m\u001b[39mD\u001b[39;49m\u001b[39m'\u001b[39;49m))\n",
      "\u001b[0;31mUFuncTypeError\u001b[0m: ufunc 'true_divide' cannot use operands with types dtype('int64') and dtype('<m8[D]')"
     ]
    }
   ],
   "source": []
  },
  {
   "cell_type": "code",
   "execution_count": 68,
   "metadata": {},
   "outputs": [
    {
     "ename": "UFuncTypeError",
     "evalue": "ufunc 'true_divide' cannot use operands with types dtype('int64') and dtype('<m8[D]')",
     "output_type": "error",
     "traceback": [
      "\u001b[0;31m---------------------------------------------------------------------------\u001b[0m",
      "\u001b[0;31mUFuncTypeError\u001b[0m                            Traceback (most recent call last)",
      "\u001b[1;32m/workspaces/projects/src/updateDate.ipynb Cell 17\u001b[0m in \u001b[0;36m<cell line: 1>\u001b[0;34m()\u001b[0m\n\u001b[0;32m----> <a href='vscode-notebook-cell://dev-container%2B633a5c55736572735c646776616666616661655c70726f6a65637473/workspaces/projects/src/updateDate.ipynb#ch0000036vscode-remote?line=0'>1</a>\u001b[0m df[\u001b[39m'\u001b[39m\u001b[39msoldAt\u001b[39m\u001b[39m'\u001b[39m][\u001b[39m3\u001b[39m] \u001b[39m=\u001b[39m (td \u001b[39m/\u001b[39;49m np\u001b[39m.\u001b[39;49mtimedelta64(\u001b[39m1\u001b[39;49m, \u001b[39m'\u001b[39;49m\u001b[39mD\u001b[39;49m\u001b[39m'\u001b[39;49m))\n",
      "\u001b[0;31mUFuncTypeError\u001b[0m: ufunc 'true_divide' cannot use operands with types dtype('int64') and dtype('<m8[D]')"
     ]
    }
   ],
   "source": [
    "# df['soldAt'][3] = ((td )"
   ]
  },
  {
   "cell_type": "code",
   "execution_count": 131,
   "metadata": {},
   "outputs": [
    {
     "name": "stderr",
     "output_type": "stream",
     "text": [
      "/tmp/ipykernel_9666/126341128.py:12: SettingWithCopyWarning: \n",
      "A value is trying to be set on a copy of a slice from a DataFrame\n",
      "\n",
      "See the caveats in the documentation: https://pandas.pydata.org/pandas-docs/stable/user_guide/indexing.html#returning-a-view-versus-a-copy\n",
      "  df['soldAt'][index] = (pd.to_datetime('2022/08/11', format='%Y-%m-%d') - pd.to_datetime(df['create_time'][index][2:12], format='%Y-%m-%d'))/np.timedelta64(1, 'D')\n",
      "/tmp/ipykernel_9666/126341128.py:6: SettingWithCopyWarning: \n",
      "A value is trying to be set on a copy of a slice from a DataFrame\n",
      "\n",
      "See the caveats in the documentation: https://pandas.pydata.org/pandas-docs/stable/user_guide/indexing.html#returning-a-view-versus-a-copy\n",
      "  df['soldAt'][index] =(pd.to_datetime('2022/08/08', format='%Y-%m-%d') - pd.to_datetime(df['create_time'][index][2:12], format='%Y-%m-%d'))/np.timedelta64(1, 'D')\n",
      "/tmp/ipykernel_9666/126341128.py:4: SettingWithCopyWarning: \n",
      "A value is trying to be set on a copy of a slice from a DataFrame\n",
      "\n",
      "See the caveats in the documentation: https://pandas.pydata.org/pandas-docs/stable/user_guide/indexing.html#returning-a-view-versus-a-copy\n",
      "  df['soldAt'][index] = (pd.to_datetime('2022/08/07', format='%Y-%m-%d') - pd.to_datetime(df['create_time'][index][2:12], format='%Y-%m-%d'))/np.timedelta64(1, 'D')\n",
      "/tmp/ipykernel_9666/126341128.py:10: SettingWithCopyWarning: \n",
      "A value is trying to be set on a copy of a slice from a DataFrame\n",
      "\n",
      "See the caveats in the documentation: https://pandas.pydata.org/pandas-docs/stable/user_guide/indexing.html#returning-a-view-versus-a-copy\n",
      "  df['soldAt'][index] = (pd.to_datetime('2022/08/10', format='%Y-%m-%d') - pd.to_datetime(df['create_time'][index][2:12], format='%Y-%m-%d'))/np.timedelta64(1, 'D')\n",
      "/tmp/ipykernel_9666/126341128.py:14: SettingWithCopyWarning: \n",
      "A value is trying to be set on a copy of a slice from a DataFrame\n",
      "\n",
      "See the caveats in the documentation: https://pandas.pydata.org/pandas-docs/stable/user_guide/indexing.html#returning-a-view-versus-a-copy\n",
      "  df['soldAt'][index] = (pd.to_datetime('2022/08/12', format='%Y-%m-%d') - pd.to_datetime(df['create_time'][index][2:12], format='%Y-%m-%d'))/np.timedelta64(1, 'D')\n",
      "/tmp/ipykernel_9666/126341128.py:18: SettingWithCopyWarning: \n",
      "A value is trying to be set on a copy of a slice from a DataFrame\n",
      "\n",
      "See the caveats in the documentation: https://pandas.pydata.org/pandas-docs/stable/user_guide/indexing.html#returning-a-view-versus-a-copy\n",
      "  df['soldAt'][index] = (pd.to_datetime('2022/08/14', format='%Y-%m-%d') - pd.to_datetime(df['create_time'][index][2:12], format='%Y-%m-%d'))/np.timedelta64(1, 'D')\n",
      "/tmp/ipykernel_9666/126341128.py:8: SettingWithCopyWarning: \n",
      "A value is trying to be set on a copy of a slice from a DataFrame\n",
      "\n",
      "See the caveats in the documentation: https://pandas.pydata.org/pandas-docs/stable/user_guide/indexing.html#returning-a-view-versus-a-copy\n",
      "  df['soldAt'][index] = (pd.to_datetime('2022/08/09', format='%Y-%m-%d') - pd.to_datetime(df['create_time'][index][2:12], format='%Y-%m-%d'))/np.timedelta64(1, 'D')\n",
      "/tmp/ipykernel_9666/126341128.py:16: SettingWithCopyWarning: \n",
      "A value is trying to be set on a copy of a slice from a DataFrame\n",
      "\n",
      "See the caveats in the documentation: https://pandas.pydata.org/pandas-docs/stable/user_guide/indexing.html#returning-a-view-versus-a-copy\n",
      "  df['soldAt'][index] = (pd.to_datetime('2022/08/13', format='%Y-%m-%d') - pd.to_datetime(df['create_time'][index][2:12], format='%Y-%m-%d'))/np.timedelta64(1, 'D')\n"
     ]
    }
   ],
   "source": [
    "\n",
    "for index, row in df.iterrows():\n",
    "\n",
    "    if row[\"sold\"] == 1:\n",
    "        df['soldAt'][index] = (pd.to_datetime('2022/08/07', format='%Y-%m-%d') - pd.to_datetime(df['create_time'][index][2:12], format='%Y-%m-%d'))/np.timedelta64(1, 'D')\n",
    "    elif row[\"sold\"] == 2:\n",
    "        df['soldAt'][index] =(pd.to_datetime('2022/08/08', format='%Y-%m-%d') - pd.to_datetime(df['create_time'][index][2:12], format='%Y-%m-%d'))/np.timedelta64(1, 'D')\n",
    "    elif row[\"sold\"] == 3:\n",
    "        df['soldAt'][index] = (pd.to_datetime('2022/08/09', format='%Y-%m-%d') - pd.to_datetime(df['create_time'][index][2:12], format='%Y-%m-%d'))/np.timedelta64(1, 'D')\n",
    "    elif row[\"sold\"] == 4:\n",
    "        df['soldAt'][index] = (pd.to_datetime('2022/08/10', format='%Y-%m-%d') - pd.to_datetime(df['create_time'][index][2:12], format='%Y-%m-%d'))/np.timedelta64(1, 'D')\n",
    "    elif row[\"sold\"] == 5:\n",
    "        df['soldAt'][index] = (pd.to_datetime('2022/08/11', format='%Y-%m-%d') - pd.to_datetime(df['create_time'][index][2:12], format='%Y-%m-%d'))/np.timedelta64(1, 'D')\n",
    "    elif row[\"sold\"] == 6:\n",
    "        df['soldAt'][index] = (pd.to_datetime('2022/08/12', format='%Y-%m-%d') - pd.to_datetime(df['create_time'][index][2:12], format='%Y-%m-%d'))/np.timedelta64(1, 'D')\n",
    "    elif row[\"sold\"] == 7:\n",
    "        df['soldAt'][index] = (pd.to_datetime('2022/08/13', format='%Y-%m-%d') - pd.to_datetime(df['create_time'][index][2:12], format='%Y-%m-%d'))/np.timedelta64(1, 'D')\n",
    "    elif row[\"sold\"] == 8:\n",
    "        df['soldAt'][index] = (pd.to_datetime('2022/08/14', format='%Y-%m-%d') - pd.to_datetime(df['create_time'][index][2:12], format='%Y-%m-%d'))/np.timedelta64(1, 'D')"
   ]
  },
  {
   "cell_type": "code",
   "execution_count": 132,
   "metadata": {},
   "outputs": [
    {
     "data": {
      "text/plain": [
       "0      4814\n",
       "6        88\n",
       "8        77\n",
       "10       75\n",
       "9        74\n",
       "       ... \n",
       "104       1\n",
       "105       1\n",
       "120       1\n",
       "111       1\n",
       "202       1\n",
       "Name: soldAt, Length: 135, dtype: int64"
      ]
     },
     "execution_count": 132,
     "metadata": {},
     "output_type": "execute_result"
    }
   ],
   "source": [
    "df['soldAt'].value_counts()"
   ]
  },
  {
   "cell_type": "code",
   "execution_count": 133,
   "metadata": {},
   "outputs": [
    {
     "data": {
      "text/plain": [
       "7.753475303164744"
      ]
     },
     "execution_count": 133,
     "metadata": {},
     "output_type": "execute_result"
    }
   ],
   "source": [
    "df['soldAt'].mean()"
   ]
  },
  {
   "cell_type": "code",
   "execution_count": 134,
   "metadata": {},
   "outputs": [
    {
     "data": {
      "text/plain": [
       "count    1948.000000\n",
       "mean       26.914271\n",
       "std        39.937693\n",
       "min         1.000000\n",
       "25%         8.000000\n",
       "50%        16.000000\n",
       "75%        36.000000\n",
       "max      1199.000000\n",
       "Name: soldAt, dtype: float64"
      ]
     },
     "execution_count": 134,
     "metadata": {},
     "output_type": "execute_result"
    }
   ],
   "source": [
    "df.loc[(df['soldAt']!=0) ]['soldAt'].describe() #sold ones only \n"
   ]
  },
  {
   "cell_type": "code",
   "execution_count": 135,
   "metadata": {},
   "outputs": [
    {
     "data": {
      "text/plain": [
       "count    6762.000000\n",
       "mean        7.753475\n",
       "std        24.655845\n",
       "min         0.000000\n",
       "25%         0.000000\n",
       "50%         0.000000\n",
       "75%         5.000000\n",
       "max      1199.000000\n",
       "Name: soldAt, dtype: float64"
      ]
     },
     "execution_count": 135,
     "metadata": {},
     "output_type": "execute_result"
    }
   ],
   "source": [
    "df['soldAt'].describe()"
   ]
  },
  {
   "cell_type": "code",
   "execution_count": 137,
   "metadata": {},
   "outputs": [],
   "source": [
    "df.to_csv('../data/aqar.csv' , index=False)"
   ]
  }
 ],
 "metadata": {
  "kernelspec": {
   "display_name": "Python 3.9.7 ('base')",
   "language": "python",
   "name": "python3"
  },
  "language_info": {
   "codemirror_mode": {
    "name": "ipython",
    "version": 3
   },
   "file_extension": ".py",
   "mimetype": "text/x-python",
   "name": "python",
   "nbconvert_exporter": "python",
   "pygments_lexer": "ipython3",
   "version": "3.9.12"
  },
  "orig_nbformat": 4,
  "vscode": {
   "interpreter": {
    "hash": "d4d1e4263499bec80672ea0156c357c1ee493ec2b1c70f0acce89fc37c4a6abe"
   }
  }
 },
 "nbformat": 4,
 "nbformat_minor": 2
}

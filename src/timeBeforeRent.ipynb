{
 "cells": [
  {
   "cell_type": "markdown",
   "metadata": {},
   "source": [
    "# after the join phase is the update phase where i will update the diffrent in time "
   ]
  },
  {
   "cell_type": "code",
   "execution_count": 1,
   "metadata": {},
   "outputs": [],
   "source": [
    "import pandas as pd\n",
    "import numpy as np\n",
    "import math\n",
    "from sklearn.model_selection import train_test_split\n",
    "from sklearn.compose import TransformedTargetRegressor\n",
    "from sklearn.compose import ColumnTransformer\n",
    "from sklearn.compose import make_column_selector as selector\n",
    "from sklearn.preprocessing import PowerTransformer\n",
    "from sklearn.preprocessing import StandardScaler\n",
    "from sklearn.preprocessing import OneHotEncoder\n",
    "from sklearn.preprocessing import LabelEncoder\n",
    "from sklearn.impute import SimpleImputer\n",
    "from sklearn.impute import KNNImputer\n",
    "from sklearn.feature_selection import VarianceThreshold\n",
    "from sklearn.decomposition import PCA\n",
    "import datetime\n",
    "from datetime import timedelta\n",
    "import ast\n",
    "import json    \n",
    "import missingno as msno"
   ]
  },
  {
   "cell_type": "code",
   "execution_count": 2,
   "metadata": {},
   "outputs": [],
   "source": [
    "df =pd.read_csv('../data/aqar.csv')"
   ]
  },
  {
   "cell_type": "code",
   "execution_count": 3,
   "metadata": {},
   "outputs": [
    {
     "data": {
      "text/plain": [
       "0     3835\n",
       "2      394\n",
       "4      350\n",
       "1      282\n",
       "5      261\n",
       "8      245\n",
       "10     212\n",
       "14     188\n",
       "12     186\n",
       "3      184\n",
       "9      168\n",
       "11     141\n",
       "6      117\n",
       "7      115\n",
       "13      84\n",
       "Name: DayOfRent, dtype: int64"
      ]
     },
     "execution_count": 3,
     "metadata": {},
     "output_type": "execute_result"
    }
   ],
   "source": [
    "df['DayOfRent'].value_counts()"
   ]
  },
  {
   "cell_type": "code",
   "execution_count": 4,
   "metadata": {},
   "outputs": [
    {
     "data": {
      "text/plain": [
       "Index(['user_id', 'id', 'title', 'price', 'content', 'imgs', 'refresh', 'beds',\n",
       "       'livings', 'wc', 'area', 'street_width', 'age', 'last_update',\n",
       "       'ketchen', 'ac', 'furnished', 'location', 'path', 'district', 'width',\n",
       "       'length', 'advertiser_type', 'create_time', 'review', 'profileImg',\n",
       "       'UserName', 'iam_verified', 'DayOfRent', 'onMarket', 'timeBeforeRent'],\n",
       "      dtype='object')"
      ]
     },
     "execution_count": 4,
     "metadata": {},
     "output_type": "execute_result"
    }
   ],
   "source": [
    "df.columns"
   ]
  },
  {
   "cell_type": "code",
   "execution_count": null,
   "metadata": {},
   "outputs": [],
   "source": []
  },
  {
   "cell_type": "code",
   "execution_count": 5,
   "metadata": {},
   "outputs": [],
   "source": [
    "df.drop(['timeBeforeRent' ], axis = 1 , inplace=True) #this will drop the DayOfRentdate "
   ]
  },
  {
   "cell_type": "code",
   "execution_count": 6,
   "metadata": {},
   "outputs": [
    {
     "data": {
      "text/plain": [
       "'2022-08-06'"
      ]
     },
     "execution_count": 6,
     "metadata": {},
     "output_type": "execute_result"
    }
   ],
   "source": [
    "df['create_time'][1][2:12] # the create date is a string with the time bbut now i need only the time "
   ]
  },
  {
   "cell_type": "code",
   "execution_count": 7,
   "metadata": {},
   "outputs": [
    {
     "data": {
      "text/plain": [
       "2"
      ]
     },
     "execution_count": 7,
     "metadata": {},
     "output_type": "execute_result"
    }
   ],
   "source": [
    "df['DayOfRent'][2] #first i will check if it is DayOfRentor not "
   ]
  },
  {
   "cell_type": "code",
   "execution_count": 8,
   "metadata": {},
   "outputs": [
    {
     "data": {
      "text/plain": [
       "Timestamp('2022-08-08 00:00:00')"
      ]
     },
     "execution_count": 8,
     "metadata": {},
     "output_type": "execute_result"
    }
   ],
   "source": [
    "pd.to_datetime('2022/08/08', format='%Y-%m-%d') #then if it is DayOfRentin 2 then it is DayOfRentin this date"
   ]
  },
  {
   "cell_type": "code",
   "execution_count": 9,
   "metadata": {},
   "outputs": [
    {
     "data": {
      "text/plain": [
       "Timestamp('2022-03-10 00:00:00')"
      ]
     },
     "execution_count": 9,
     "metadata": {},
     "output_type": "execute_result"
    }
   ],
   "source": [
    "pd.to_datetime(df['create_time'][3][2:12], format='%Y-%m-%d') #them i will subtract the date it DayOfRent- the day it create it "
   ]
  },
  {
   "cell_type": "code",
   "execution_count": 10,
   "metadata": {},
   "outputs": [
    {
     "data": {
      "text/plain": [
       "Timedelta('151 days 00:00:00')"
      ]
     },
     "execution_count": 10,
     "metadata": {},
     "output_type": "execute_result"
    }
   ],
   "source": [
    "td = pd.to_datetime('2022/08/08', format='%Y-%m-%d') - pd.to_datetime(df['create_time'][3][2:12], format='%Y-%m-%d')\n",
    "td # after subtract it will shows a series of timedeltas"
   ]
  },
  {
   "cell_type": "code",
   "execution_count": 11,
   "metadata": {},
   "outputs": [
    {
     "data": {
      "text/plain": [
       "151"
      ]
     },
     "execution_count": 11,
     "metadata": {},
     "output_type": "execute_result"
    }
   ],
   "source": [
    "# to convert it to int \n",
    "td = int((td / np.timedelta64(1, 'D')))\n",
    "td \n",
    "#and now i have to do this to all the rows"
   ]
  },
  {
   "cell_type": "code",
   "execution_count": 12,
   "metadata": {},
   "outputs": [],
   "source": [
    "# 5 <- 11/8"
   ]
  },
  {
   "cell_type": "code",
   "execution_count": null,
   "metadata": {},
   "outputs": [],
   "source": []
  },
  {
   "cell_type": "code",
   "execution_count": 13,
   "metadata": {},
   "outputs": [],
   "source": [
    "df['timeBeforeRent'] = 0 "
   ]
  },
  {
   "cell_type": "code",
   "execution_count": 14,
   "metadata": {},
   "outputs": [
    {
     "name": "stderr",
     "output_type": "stream",
     "text": [
      "/tmp/ipykernel_5803/1459696391.py:14: SettingWithCopyWarning: \n",
      "A value is trying to be set on a copy of a slice from a DataFrame\n",
      "\n",
      "See the caveats in the documentation: https://pandas.pydata.org/pandas-docs/stable/user_guide/indexing.html#returning-a-view-versus-a-copy\n",
      "  df['timeBeforeRent'][index] = (pd.to_datetime('2022/08/11', format='%Y-%m-%d') - pd.to_datetime(df['create_time'][index][2:12], format='%Y-%m-%d'))/np.timedelta64(1, 'D')\n",
      "/tmp/ipykernel_5803/1459696391.py:8: SettingWithCopyWarning: \n",
      "A value is trying to be set on a copy of a slice from a DataFrame\n",
      "\n",
      "See the caveats in the documentation: https://pandas.pydata.org/pandas-docs/stable/user_guide/indexing.html#returning-a-view-versus-a-copy\n",
      "  df['timeBeforeRent'][index] =(pd.to_datetime('2022/08/08', format='%Y-%m-%d') - pd.to_datetime(df['create_time'][index][2:12], format='%Y-%m-%d'))/np.timedelta64(1, 'D')\n",
      "/tmp/ipykernel_5803/1459696391.py:6: SettingWithCopyWarning: \n",
      "A value is trying to be set on a copy of a slice from a DataFrame\n",
      "\n",
      "See the caveats in the documentation: https://pandas.pydata.org/pandas-docs/stable/user_guide/indexing.html#returning-a-view-versus-a-copy\n",
      "  df['timeBeforeRent'][index] = (pd.to_datetime('2022/08/07', format='%Y-%m-%d') - pd.to_datetime(df['create_time'][index][2:12], format='%Y-%m-%d'))/np.timedelta64(1, 'D')\n",
      "/tmp/ipykernel_5803/1459696391.py:30: SettingWithCopyWarning: \n",
      "A value is trying to be set on a copy of a slice from a DataFrame\n",
      "\n",
      "See the caveats in the documentation: https://pandas.pydata.org/pandas-docs/stable/user_guide/indexing.html#returning-a-view-versus-a-copy\n",
      "  df['timeBeforeRent'][index] = (pd.to_datetime(f'2022/08/{f+5}', format='%Y-%m-%d') - pd.to_datetime(df['create_time'][index][2:12], format='%Y-%m-%d'))/np.timedelta64(1, 'D')\n",
      "/tmp/ipykernel_5803/1459696391.py:28: SettingWithCopyWarning: \n",
      "A value is trying to be set on a copy of a slice from a DataFrame\n",
      "\n",
      "See the caveats in the documentation: https://pandas.pydata.org/pandas-docs/stable/user_guide/indexing.html#returning-a-view-versus-a-copy\n",
      "  df['timeBeforeRent'][index] = (pd.to_datetime(f'2022/08/{f+4}', format='%Y-%m-%d') - pd.to_datetime(df['create_time'][index][2:12], format='%Y-%m-%d'))/np.timedelta64(1, 'D')\n",
      "/tmp/ipykernel_5803/1459696391.py:12: SettingWithCopyWarning: \n",
      "A value is trying to be set on a copy of a slice from a DataFrame\n",
      "\n",
      "See the caveats in the documentation: https://pandas.pydata.org/pandas-docs/stable/user_guide/indexing.html#returning-a-view-versus-a-copy\n",
      "  df['timeBeforeRent'][index] = (pd.to_datetime('2022/08/10', format='%Y-%m-%d') - pd.to_datetime(df['create_time'][index][2:12], format='%Y-%m-%d'))/np.timedelta64(1, 'D')\n",
      "/tmp/ipykernel_5803/1459696391.py:16: SettingWithCopyWarning: \n",
      "A value is trying to be set on a copy of a slice from a DataFrame\n",
      "\n",
      "See the caveats in the documentation: https://pandas.pydata.org/pandas-docs/stable/user_guide/indexing.html#returning-a-view-versus-a-copy\n",
      "  df['timeBeforeRent'][index] = (pd.to_datetime('2022/08/12', format='%Y-%m-%d') - pd.to_datetime(df['create_time'][index][2:12], format='%Y-%m-%d'))/np.timedelta64(1, 'D')\n",
      "/tmp/ipykernel_5803/1459696391.py:20: SettingWithCopyWarning: \n",
      "A value is trying to be set on a copy of a slice from a DataFrame\n",
      "\n",
      "See the caveats in the documentation: https://pandas.pydata.org/pandas-docs/stable/user_guide/indexing.html#returning-a-view-versus-a-copy\n",
      "  df['timeBeforeRent'][index] = (pd.to_datetime('2022/08/14', format='%Y-%m-%d') - pd.to_datetime(df['create_time'][index][2:12], format='%Y-%m-%d'))/np.timedelta64(1, 'D')\n",
      "/tmp/ipykernel_5803/1459696391.py:10: SettingWithCopyWarning: \n",
      "A value is trying to be set on a copy of a slice from a DataFrame\n",
      "\n",
      "See the caveats in the documentation: https://pandas.pydata.org/pandas-docs/stable/user_guide/indexing.html#returning-a-view-versus-a-copy\n",
      "  df['timeBeforeRent'][index] = (pd.to_datetime('2022/08/09', format='%Y-%m-%d') - pd.to_datetime(df['create_time'][index][2:12], format='%Y-%m-%d'))/np.timedelta64(1, 'D')\n",
      "/tmp/ipykernel_5803/1459696391.py:26: SettingWithCopyWarning: \n",
      "A value is trying to be set on a copy of a slice from a DataFrame\n",
      "\n",
      "See the caveats in the documentation: https://pandas.pydata.org/pandas-docs/stable/user_guide/indexing.html#returning-a-view-versus-a-copy\n",
      "  df['timeBeforeRent'][index] = (pd.to_datetime(f'2022/08/{f+3}', format='%Y-%m-%d') - pd.to_datetime(df['create_time'][index][2:12], format='%Y-%m-%d'))/np.timedelta64(1, 'D')\n",
      "/tmp/ipykernel_5803/1459696391.py:22: SettingWithCopyWarning: \n",
      "A value is trying to be set on a copy of a slice from a DataFrame\n",
      "\n",
      "See the caveats in the documentation: https://pandas.pydata.org/pandas-docs/stable/user_guide/indexing.html#returning-a-view-versus-a-copy\n",
      "  df['timeBeforeRent'][index] = (pd.to_datetime(f'2022/08/{f+1}', format='%Y-%m-%d') - pd.to_datetime(df['create_time'][index][2:12], format='%Y-%m-%d'))/np.timedelta64(1, 'D')\n",
      "/tmp/ipykernel_5803/1459696391.py:24: SettingWithCopyWarning: \n",
      "A value is trying to be set on a copy of a slice from a DataFrame\n",
      "\n",
      "See the caveats in the documentation: https://pandas.pydata.org/pandas-docs/stable/user_guide/indexing.html#returning-a-view-versus-a-copy\n",
      "  df['timeBeforeRent'][index] = (pd.to_datetime(f'2022/08/{f+2}', format='%Y-%m-%d') - pd.to_datetime(df['create_time'][index][2:12], format='%Y-%m-%d'))/np.timedelta64(1, 'D')\n",
      "/tmp/ipykernel_5803/1459696391.py:18: SettingWithCopyWarning: \n",
      "A value is trying to be set on a copy of a slice from a DataFrame\n",
      "\n",
      "See the caveats in the documentation: https://pandas.pydata.org/pandas-docs/stable/user_guide/indexing.html#returning-a-view-versus-a-copy\n",
      "  df['timeBeforeRent'][index] = (pd.to_datetime('2022/08/13', format='%Y-%m-%d') - pd.to_datetime(df['create_time'][index][2:12], format='%Y-%m-%d'))/np.timedelta64(1, 'D')\n",
      "/tmp/ipykernel_5803/1459696391.py:32: SettingWithCopyWarning: \n",
      "A value is trying to be set on a copy of a slice from a DataFrame\n",
      "\n",
      "See the caveats in the documentation: https://pandas.pydata.org/pandas-docs/stable/user_guide/indexing.html#returning-a-view-versus-a-copy\n",
      "  df['timeBeforeRent'][index] = (pd.to_datetime(f'2022/08/{f+6}', format='%Y-%m-%d') - pd.to_datetime(df['create_time'][index][2:12], format='%Y-%m-%d'))/np.timedelta64(1, 'D')\n"
     ]
    }
   ],
   "source": [
    "i = 8 \n",
    "f =14\n",
    "for index, row in df.iterrows():\n",
    "\n",
    "    if row[\"DayOfRent\"] == 1:\n",
    "        df['timeBeforeRent'][index] = (pd.to_datetime('2022/08/07', format='%Y-%m-%d') - pd.to_datetime(df['create_time'][index][2:12], format='%Y-%m-%d'))/np.timedelta64(1, 'D')\n",
    "    elif row[\"DayOfRent\"] == 2:\n",
    "        df['timeBeforeRent'][index] =(pd.to_datetime('2022/08/08', format='%Y-%m-%d') - pd.to_datetime(df['create_time'][index][2:12], format='%Y-%m-%d'))/np.timedelta64(1, 'D')\n",
    "    elif row[\"DayOfRent\"] == 3:\n",
    "        df['timeBeforeRent'][index] = (pd.to_datetime('2022/08/09', format='%Y-%m-%d') - pd.to_datetime(df['create_time'][index][2:12], format='%Y-%m-%d'))/np.timedelta64(1, 'D')\n",
    "    elif row[\"DayOfRent\"] == 4:\n",
    "        df['timeBeforeRent'][index] = (pd.to_datetime('2022/08/10', format='%Y-%m-%d') - pd.to_datetime(df['create_time'][index][2:12], format='%Y-%m-%d'))/np.timedelta64(1, 'D')\n",
    "    elif row[\"DayOfRent\"] == 5:\n",
    "        df['timeBeforeRent'][index] = (pd.to_datetime('2022/08/11', format='%Y-%m-%d') - pd.to_datetime(df['create_time'][index][2:12], format='%Y-%m-%d'))/np.timedelta64(1, 'D')\n",
    "    elif row[\"DayOfRent\"] == 6:\n",
    "        df['timeBeforeRent'][index] = (pd.to_datetime('2022/08/12', format='%Y-%m-%d') - pd.to_datetime(df['create_time'][index][2:12], format='%Y-%m-%d'))/np.timedelta64(1, 'D')\n",
    "    elif row[\"DayOfRent\"] == 7:\n",
    "        df['timeBeforeRent'][index] = (pd.to_datetime('2022/08/13', format='%Y-%m-%d') - pd.to_datetime(df['create_time'][index][2:12], format='%Y-%m-%d'))/np.timedelta64(1, 'D')\n",
    "    elif row[\"DayOfRent\"] == 8:\n",
    "        df['timeBeforeRent'][index] = (pd.to_datetime('2022/08/14', format='%Y-%m-%d') - pd.to_datetime(df['create_time'][index][2:12], format='%Y-%m-%d'))/np.timedelta64(1, 'D')\n",
    "    elif row[\"DayOfRent\"] == i+1:\n",
    "        df['timeBeforeRent'][index] = (pd.to_datetime(f'2022/08/{f+1}', format='%Y-%m-%d') - pd.to_datetime(df['create_time'][index][2:12], format='%Y-%m-%d'))/np.timedelta64(1, 'D')\n",
    "    elif row[\"DayOfRent\"] == i+2:\n",
    "        df['timeBeforeRent'][index] = (pd.to_datetime(f'2022/08/{f+2}', format='%Y-%m-%d') - pd.to_datetime(df['create_time'][index][2:12], format='%Y-%m-%d'))/np.timedelta64(1, 'D')\n",
    "    elif row[\"DayOfRent\"] == i+3:\n",
    "        df['timeBeforeRent'][index] = (pd.to_datetime(f'2022/08/{f+3}', format='%Y-%m-%d') - pd.to_datetime(df['create_time'][index][2:12], format='%Y-%m-%d'))/np.timedelta64(1, 'D')\n",
    "    elif row[\"DayOfRent\"] == i+4:\n",
    "        df['timeBeforeRent'][index] = (pd.to_datetime(f'2022/08/{f+4}', format='%Y-%m-%d') - pd.to_datetime(df['create_time'][index][2:12], format='%Y-%m-%d'))/np.timedelta64(1, 'D')\n",
    "    elif row[\"DayOfRent\"] == i+5:\n",
    "        df['timeBeforeRent'][index] = (pd.to_datetime(f'2022/08/{f+5}', format='%Y-%m-%d') - pd.to_datetime(df['create_time'][index][2:12], format='%Y-%m-%d'))/np.timedelta64(1, 'D')\n",
    "    elif row[\"DayOfRent\"] == i+6:\n",
    "        df['timeBeforeRent'][index] = (pd.to_datetime(f'2022/08/{f+6}', format='%Y-%m-%d') - pd.to_datetime(df['create_time'][index][2:12], format='%Y-%m-%d'))/np.timedelta64(1, 'D')\n",
    "        \n",
    "        \n",
    "    "
   ]
  },
  {
   "cell_type": "code",
   "execution_count": 15,
   "metadata": {},
   "outputs": [
    {
     "data": {
      "text/plain": [
       "0       3835\n",
       "16        92\n",
       "14        90\n",
       "10        89\n",
       "6         88\n",
       "        ... \n",
       "254        1\n",
       "114        1\n",
       "1199       1\n",
       "110        1\n",
       "133        1\n",
       "Name: timeBeforeRent, Length: 172, dtype: int64"
      ]
     },
     "execution_count": 15,
     "metadata": {},
     "output_type": "execute_result"
    }
   ],
   "source": [
    "df['timeBeforeRent'].value_counts()"
   ]
  },
  {
   "cell_type": "code",
   "execution_count": 16,
   "metadata": {},
   "outputs": [
    {
     "data": {
      "text/plain": [
       "14.167406092871932"
      ]
     },
     "execution_count": 16,
     "metadata": {},
     "output_type": "execute_result"
    }
   ],
   "source": [
    "df['timeBeforeRent'].mean()"
   ]
  },
  {
   "cell_type": "code",
   "execution_count": 17,
   "metadata": {},
   "outputs": [
    {
     "data": {
      "text/plain": [
       "count    2927.000000\n",
       "mean       32.729757\n",
       "std        41.537527\n",
       "min         1.000000\n",
       "25%        11.000000\n",
       "50%        21.000000\n",
       "75%        41.000000\n",
       "max      1199.000000\n",
       "Name: timeBeforeRent, dtype: float64"
      ]
     },
     "execution_count": 17,
     "metadata": {},
     "output_type": "execute_result"
    }
   ],
   "source": [
    "df.loc[(df['timeBeforeRent']!=0) ]['timeBeforeRent'].describe() #DayOfRentones only \n"
   ]
  },
  {
   "cell_type": "code",
   "execution_count": 18,
   "metadata": {},
   "outputs": [
    {
     "data": {
      "text/plain": [
       "count    6762.000000\n",
       "mean       14.167406\n",
       "std        31.776039\n",
       "min         0.000000\n",
       "25%         0.000000\n",
       "50%         0.000000\n",
       "75%        17.000000\n",
       "max      1199.000000\n",
       "Name: timeBeforeRent, dtype: float64"
      ]
     },
     "execution_count": 18,
     "metadata": {},
     "output_type": "execute_result"
    }
   ],
   "source": [
    "df['timeBeforeRent'].describe()"
   ]
  },
  {
   "cell_type": "code",
   "execution_count": 19,
   "metadata": {},
   "outputs": [],
   "source": [
    "df.to_csv('../data/aqar.csv' , index=False)"
   ]
  }
 ],
 "metadata": {
  "kernelspec": {
   "display_name": "Python 3.10.4 64-bit",
   "language": "python",
   "name": "python3"
  },
  "language_info": {
   "codemirror_mode": {
    "name": "ipython",
    "version": 3
   },
   "file_extension": ".py",
   "mimetype": "text/x-python",
   "name": "python",
   "nbconvert_exporter": "python",
   "pygments_lexer": "ipython3",
   "version": "3.10.4"
  },
  "orig_nbformat": 4,
  "vscode": {
   "interpreter": {
    "hash": "949777d72b0d2535278d3dc13498b2535136f6dfe0678499012e853ee9abcab1"
   }
  }
 },
 "nbformat": 4,
 "nbformat_minor": 2
}

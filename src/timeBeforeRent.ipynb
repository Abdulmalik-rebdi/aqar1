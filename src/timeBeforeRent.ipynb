{
 "cells": [
  {
   "cell_type": "markdown",
   "metadata": {},
   "source": [
    "# after the join phase is the update phase where i will update the diffrent in time "
   ]
  },
  {
   "cell_type": "code",
   "execution_count": 2,
   "metadata": {},
   "outputs": [],
   "source": [
    "import pandas as pd\n",
    "import numpy as np\n",
    "import math\n",
    "from sklearn.model_selection import train_test_split\n",
    "from sklearn.compose import TransformedTargetRegressor\n",
    "from sklearn.compose import ColumnTransformer\n",
    "from sklearn.compose import make_column_selector as selector\n",
    "from sklearn.preprocessing import PowerTransformer\n",
    "from sklearn.preprocessing import StandardScaler\n",
    "from sklearn.preprocessing import OneHotEncoder\n",
    "from sklearn.preprocessing import LabelEncoder\n",
    "from sklearn.impute import SimpleImputer\n",
    "from sklearn.impute import KNNImputer\n",
    "from sklearn.feature_selection import VarianceThreshold\n",
    "from sklearn.decomposition import PCA\n",
    "import datetime\n",
    "from datetime import timedelta\n",
    "import ast\n",
    "import json    \n",
    "import missingno as msno"
   ]
  },
  {
   "cell_type": "code",
   "execution_count": 3,
   "metadata": {},
   "outputs": [],
   "source": [
    "df =pd.read_csv('../data/aqar.csv')"
   ]
  },
  {
   "cell_type": "code",
   "execution_count": 6,
   "metadata": {},
   "outputs": [
    {
     "data": {
      "text/plain": [
       "0     4434\n",
       "2      394\n",
       "4      350\n",
       "1      282\n",
       "5      261\n",
       "8      245\n",
       "10     212\n",
       "3      184\n",
       "9      168\n",
       "6      117\n",
       "7      115\n",
       "Name: DayOfRent, dtype: int64"
      ]
     },
     "execution_count": 6,
     "metadata": {},
     "output_type": "execute_result"
    }
   ],
   "source": [
    "df['DayOfRent'].value_counts()"
   ]
  },
  {
   "cell_type": "code",
   "execution_count": 11,
   "metadata": {},
   "outputs": [
    {
     "data": {
      "text/plain": [
       "Index(['Unnamed: 0.1', 'Unnamed: 0', 'user_id', 'id', 'title', 'price',\n",
       "       'content', 'imgs', 'refresh', 'beds', 'livings', 'wc', 'area',\n",
       "       'street_width', 'age', 'last_update', 'ketchen', 'ac', 'furnished',\n",
       "       'location', 'path', 'user', 'district', 'width', 'length',\n",
       "       'advertiser_type', 'create_time', 'review', 'profileImg', 'UserName',\n",
       "       'iam_verified', 'rega_id', 'DayOfRent', 'soldAt'],\n",
       "      dtype='object')"
      ]
     },
     "execution_count": 11,
     "metadata": {},
     "output_type": "execute_result"
    }
   ],
   "source": [
    "df.columns"
   ]
  },
  {
   "cell_type": "code",
   "execution_count": 7,
   "metadata": {},
   "outputs": [],
   "source": [
    "df.drop(['DayOfRent' ], axis = 1 , inplace=True) #this will drop the DayOfRentdate "
   ]
  },
  {
   "cell_type": "code",
   "execution_count": 14,
   "metadata": {},
   "outputs": [
    {
     "data": {
      "text/plain": [
       "'2022-08-06'"
      ]
     },
     "execution_count": 14,
     "metadata": {},
     "output_type": "execute_result"
    }
   ],
   "source": [
    "df['create_time'][1][2:12] # the create date is a string with the time bbut now i need only the time "
   ]
  },
  {
   "cell_type": "code",
   "execution_count": 18,
   "metadata": {},
   "outputs": [
    {
     "data": {
      "text/plain": [
       "2"
      ]
     },
     "execution_count": 18,
     "metadata": {},
     "output_type": "execute_result"
    }
   ],
   "source": [
    "df['DayOfRent'][2] #first i will check if it is DayOfRentor not "
   ]
  },
  {
   "cell_type": "code",
   "execution_count": 19,
   "metadata": {},
   "outputs": [
    {
     "data": {
      "text/plain": [
       "Timestamp('2022-08-08 00:00:00')"
      ]
     },
     "execution_count": 19,
     "metadata": {},
     "output_type": "execute_result"
    }
   ],
   "source": [
    "pd.to_datetime('2022/08/08', format='%Y-%m-%d') #then if it is DayOfRentin 2 then it is DayOfRentin this date"
   ]
  },
  {
   "cell_type": "code",
   "execution_count": 20,
   "metadata": {},
   "outputs": [
    {
     "data": {
      "text/plain": [
       "Timestamp('2022-03-10 00:00:00')"
      ]
     },
     "execution_count": 20,
     "metadata": {},
     "output_type": "execute_result"
    }
   ],
   "source": [
    "pd.to_datetime(df['create_time'][3][2:12], format='%Y-%m-%d') #them i will subtract the date it DayOfRent- the day it create it "
   ]
  },
  {
   "cell_type": "code",
   "execution_count": 21,
   "metadata": {},
   "outputs": [
    {
     "data": {
      "text/plain": [
       "Timedelta('151 days 00:00:00')"
      ]
     },
     "execution_count": 21,
     "metadata": {},
     "output_type": "execute_result"
    }
   ],
   "source": [
    "td = pd.to_datetime('2022/08/08', format='%Y-%m-%d') - pd.to_datetime(df['create_time'][3][2:12], format='%Y-%m-%d')\n",
    "td # after subtract it will shows a series of timedeltas"
   ]
  },
  {
   "cell_type": "code",
   "execution_count": 22,
   "metadata": {},
   "outputs": [
    {
     "data": {
      "text/plain": [
       "151"
      ]
     },
     "execution_count": 22,
     "metadata": {},
     "output_type": "execute_result"
    }
   ],
   "source": [
    "# to convert it to int \n",
    "td = int((td / np.timedelta64(1, 'D')))\n",
    "td \n",
    "#and now i have to do this to all the rows"
   ]
  },
  {
   "cell_type": "code",
   "execution_count": 12,
   "metadata": {},
   "outputs": [],
   "source": [
    "# 5 <- 11/8"
   ]
  },
  {
   "cell_type": "code",
   "execution_count": 79,
   "metadata": {},
   "outputs": [
    {
     "data": {
      "text/plain": [
       "177.0"
      ]
     },
     "execution_count": 79,
     "metadata": {},
     "output_type": "execute_result"
    }
   ],
   "source": []
  },
  {
   "cell_type": "code",
   "execution_count": 23,
   "metadata": {},
   "outputs": [],
   "source": [
    "df['timeBeforeRent'] = 0 "
   ]
  },
  {
   "cell_type": "code",
   "execution_count": 80,
   "metadata": {},
   "outputs": [
    {
     "name": "stderr",
     "output_type": "stream",
     "text": [
      "/tmp/ipykernel_9666/3652563829.py:1: SettingWithCopyWarning: \n",
      "A value is trying to be set on a copy of a slice from a DataFrame\n",
      "\n",
      "See the caveats in the documentation: https://pandas.pydata.org/pandas-docs/stable/user_guide/indexing.html#returning-a-view-versus-a-copy\n",
      "  df['soldAt'][3] = (pd.to_datetime('2022/08/07', format='%Y-%m-%d') - pd.to_datetime(df['create_time'][index][2:12], format='%Y-%m-%d'))/np.timedelta64(1, 'D')\n"
     ]
    }
   ],
   "source": [
    "# df['soldAt'][3] = (pd.to_datetime('2022/08/07', format='%Y-%m-%d') - pd.to_datetime(df['create_time'][index][2:12], format='%Y-%m-%d'))/np.timedelta64(1, 'D')"
   ]
  },
  {
   "cell_type": "code",
   "execution_count": 69,
   "metadata": {},
   "outputs": [
    {
     "ename": "UFuncTypeError",
     "evalue": "ufunc 'true_divide' cannot use operands with types dtype('int64') and dtype('<m8[D]')",
     "output_type": "error",
     "traceback": [
      "\u001b[0;31m---------------------------------------------------------------------------\u001b[0m",
      "\u001b[0;31mUFuncTypeError\u001b[0m                            Traceback (most recent call last)",
      "\u001b[1;32m/workspaces/projects/src/updateDate.ipynb Cell 17\u001b[0m in \u001b[0;36m<cell line: 1>\u001b[0;34m()\u001b[0m\n\u001b[0;32m----> <a href='vscode-notebook-cell://dev-container%2B633a5c55736572735c646776616666616661655c70726f6a65637473/workspaces/projects/src/updateDate.ipynb#ch0000037vscode-remote?line=0'>1</a>\u001b[0m (td \u001b[39m/\u001b[39;49m np\u001b[39m.\u001b[39;49mtimedelta64(\u001b[39m1\u001b[39;49m, \u001b[39m'\u001b[39;49m\u001b[39mD\u001b[39;49m\u001b[39m'\u001b[39;49m))\n",
      "\u001b[0;31mUFuncTypeError\u001b[0m: ufunc 'true_divide' cannot use operands with types dtype('int64') and dtype('<m8[D]')"
     ]
    }
   ],
   "source": []
  },
  {
   "cell_type": "code",
   "execution_count": 68,
   "metadata": {},
   "outputs": [
    {
     "ename": "UFuncTypeError",
     "evalue": "ufunc 'true_divide' cannot use operands with types dtype('int64') and dtype('<m8[D]')",
     "output_type": "error",
     "traceback": [
      "\u001b[0;31m---------------------------------------------------------------------------\u001b[0m",
      "\u001b[0;31mUFuncTypeError\u001b[0m                            Traceback (most recent call last)",
      "\u001b[1;32m/workspaces/projects/src/updateDate.ipynb Cell 17\u001b[0m in \u001b[0;36m<cell line: 1>\u001b[0;34m()\u001b[0m\n\u001b[0;32m----> <a href='vscode-notebook-cell://dev-container%2B633a5c55736572735c646776616666616661655c70726f6a65637473/workspaces/projects/src/updateDate.ipynb#ch0000036vscode-remote?line=0'>1</a>\u001b[0m df[\u001b[39m'\u001b[39m\u001b[39msoldAt\u001b[39m\u001b[39m'\u001b[39m][\u001b[39m3\u001b[39m] \u001b[39m=\u001b[39m (td \u001b[39m/\u001b[39;49m np\u001b[39m.\u001b[39;49mtimedelta64(\u001b[39m1\u001b[39;49m, \u001b[39m'\u001b[39;49m\u001b[39mD\u001b[39;49m\u001b[39m'\u001b[39;49m))\n",
      "\u001b[0;31mUFuncTypeError\u001b[0m: ufunc 'true_divide' cannot use operands with types dtype('int64') and dtype('<m8[D]')"
     ]
    }
   ],
   "source": [
    "# df['soldAt'][3] = ((td )"
   ]
  },
  {
   "cell_type": "code",
   "execution_count": 25,
   "metadata": {},
   "outputs": [
    {
     "name": "stdout",
     "output_type": "stream",
     "text": [
      "2022/08/00\n"
     ]
    }
   ],
   "source": [
    "x= 0 \n",
    "print(f'2022/08/0{x}')"
   ]
  },
  {
   "cell_type": "code",
   "execution_count": null,
   "metadata": {},
   "outputs": [],
   "source": [
    "i = 8 \n",
    "f =14\n",
    "for index, row in df.iterrows():\n",
    "\n",
    "    if row[\"DayOfRent\"] == 1:\n",
    "        df['timeBeforeRent'][index] = (pd.to_datetime('2022/08/07', format='%Y-%m-%d') - pd.to_datetime(df['create_time'][index][2:12], format='%Y-%m-%d'))/np.timedelta64(1, 'D')\n",
    "    elif row[\"DayOfRent\"] == 2:\n",
    "        df['timeBeforeRent'][index] =(pd.to_datetime('2022/08/08', format='%Y-%m-%d') - pd.to_datetime(df['create_time'][index][2:12], format='%Y-%m-%d'))/np.timedelta64(1, 'D')\n",
    "    elif row[\"DayOfRent\"] == 3:\n",
    "        df['timeBeforeRent'][index] = (pd.to_datetime('2022/08/09', format='%Y-%m-%d') - pd.to_datetime(df['create_time'][index][2:12], format='%Y-%m-%d'))/np.timedelta64(1, 'D')\n",
    "    elif row[\"DayOfRent\"] == 4:\n",
    "        df['timeBeforeRent'][index] = (pd.to_datetime('2022/08/10', format='%Y-%m-%d') - pd.to_datetime(df['create_time'][index][2:12], format='%Y-%m-%d'))/np.timedelta64(1, 'D')\n",
    "    elif row[\"DayOfRent\"] == 5:\n",
    "        df['timeBeforeRent'][index] = (pd.to_datetime('2022/08/11', format='%Y-%m-%d') - pd.to_datetime(df['create_time'][index][2:12], format='%Y-%m-%d'))/np.timedelta64(1, 'D')\n",
    "    elif row[\"DayOfRent\"] == 6:\n",
    "        df['timeBeforeRent'][index] = (pd.to_datetime('2022/08/12', format='%Y-%m-%d') - pd.to_datetime(df['create_time'][index][2:12], format='%Y-%m-%d'))/np.timedelta64(1, 'D')\n",
    "    elif row[\"DayOfRent\"] == 7:\n",
    "        df['timeBeforeRent'][index] = (pd.to_datetime('2022/08/13', format='%Y-%m-%d') - pd.to_datetime(df['create_time'][index][2:12], format='%Y-%m-%d'))/np.timedelta64(1, 'D')\n",
    "    elif row[\"DayOfRent\"] == 8:\n",
    "        df['timeBeforeRent'][index] = (pd.to_datetime('2022/08/14', format='%Y-%m-%d') - pd.to_datetime(df['create_time'][index][2:12], format='%Y-%m-%d'))/np.timedelta64(1, 'D')\n",
    "    elif row[\"DayOfRent\"] == i+1:\n",
    "        df['timeBeforeRent'][index] = (pd.to_datetime(f'2022/08/{f+1}', format='%Y-%m-%d') - pd.to_datetime(df['create_time'][index][2:12], format='%Y-%m-%d'))/np.timedelta64(1, 'D')\n",
    "    elif row[\"DayOfRent\"] == i+2:\n",
    "        df['timeBeforeRent'][index] = (pd.to_datetime(f'2022/08/{f+2}', format='%Y-%m-%d') - pd.to_datetime(df['create_time'][index][2:12], format='%Y-%m-%d'))/np.timedelta64(1, 'D')\n",
    "    "
   ]
  },
  {
   "cell_type": "code",
   "execution_count": null,
   "metadata": {},
   "outputs": [],
   "source": []
  },
  {
   "cell_type": "code",
   "execution_count": 27,
   "metadata": {},
   "outputs": [
    {
     "data": {
      "text/plain": [
       "0       4434\n",
       "10        89\n",
       "6         88\n",
       "14        80\n",
       "8         77\n",
       "        ... \n",
       "149        1\n",
       "102        1\n",
       "1199       1\n",
       "80         1\n",
       "202        1\n",
       "Name: soldAt, Length: 140, dtype: int64"
      ]
     },
     "execution_count": 27,
     "metadata": {},
     "output_type": "execute_result"
    }
   ],
   "source": [
    "df['timeBeforeRent'].value_counts()"
   ]
  },
  {
   "cell_type": "code",
   "execution_count": 28,
   "metadata": {},
   "outputs": [
    {
     "data": {
      "text/plain": [
       "9.814256137237503"
      ]
     },
     "execution_count": 28,
     "metadata": {},
     "output_type": "execute_result"
    }
   ],
   "source": [
    "df['timeBeforeRent'].mean()"
   ]
  },
  {
   "cell_type": "code",
   "execution_count": 29,
   "metadata": {},
   "outputs": [
    {
     "data": {
      "text/plain": [
       "count    2328.000000\n",
       "mean       28.506873\n",
       "std        38.792872\n",
       "min         1.000000\n",
       "25%        10.000000\n",
       "50%        18.000000\n",
       "75%        38.000000\n",
       "max      1199.000000\n",
       "Name: soldAt, dtype: float64"
      ]
     },
     "execution_count": 29,
     "metadata": {},
     "output_type": "execute_result"
    }
   ],
   "source": [
    "df.loc[(df['timeBeforeRent']!=0) ]['timeBeforeRent'].describe() #DayOfRentones only \n"
   ]
  },
  {
   "cell_type": "code",
   "execution_count": 30,
   "metadata": {},
   "outputs": [
    {
     "data": {
      "text/plain": [
       "count    6762.000000\n",
       "mean        9.814256\n",
       "std        26.484581\n",
       "min         0.000000\n",
       "25%         0.000000\n",
       "50%         0.000000\n",
       "75%        10.000000\n",
       "max      1199.000000\n",
       "Name: soldAt, dtype: float64"
      ]
     },
     "execution_count": 30,
     "metadata": {},
     "output_type": "execute_result"
    }
   ],
   "source": [
    "df['timeBeforeRent'].describe()"
   ]
  },
  {
   "cell_type": "code",
   "execution_count": 31,
   "metadata": {},
   "outputs": [],
   "source": [
    "# df.rename(columns = {'soldAt':'timeBeforeRent'}, inplace = True)"
   ]
  },
  {
   "cell_type": "code",
   "execution_count": 32,
   "metadata": {},
   "outputs": [
    {
     "data": {
      "text/plain": [
       "Index(['user_id', 'id', 'title', 'price', 'content', 'imgs', 'refresh', 'beds',\n",
       "       'livings', 'wc', 'area', 'street_width', 'age', 'last_update',\n",
       "       'ketchen', 'ac', 'furnished', 'location', 'path', 'user', 'district',\n",
       "       'width', 'length', 'advertiser_type', 'create_time', 'review',\n",
       "       'profileImg', 'UserName', 'iam_verified', 'rega_id', 'DayOfRent',\n",
       "       'timeBeforeRent'],\n",
       "      dtype='object')"
      ]
     },
     "execution_count": 32,
     "metadata": {},
     "output_type": "execute_result"
    }
   ],
   "source": [
    "df.columns"
   ]
  },
  {
   "cell_type": "code",
   "execution_count": null,
   "metadata": {},
   "outputs": [],
   "source": []
  },
  {
   "cell_type": "code",
   "execution_count": 33,
   "metadata": {},
   "outputs": [],
   "source": [
    "df.to_csv('../data/aqar.csv' , index=False)"
   ]
  }
 ],
 "metadata": {
  "kernelspec": {
   "display_name": "Python 3.10.4 64-bit",
   "language": "python",
   "name": "python3"
  },
  "language_info": {
   "codemirror_mode": {
    "name": "ipython",
    "version": 3
   },
   "file_extension": ".py",
   "mimetype": "text/x-python",
   "name": "python",
   "nbconvert_exporter": "python",
   "pygments_lexer": "ipython3",
   "version": "3.10.4"
  },
  "orig_nbformat": 4,
  "vscode": {
   "interpreter": {
    "hash": "949777d72b0d2535278d3dc13498b2535136f6dfe0678499012e853ee9abcab1"
   }
  }
 },
 "nbformat": 4,
 "nbformat_minor": 2
}

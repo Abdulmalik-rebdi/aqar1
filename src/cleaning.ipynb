{
 "cells": [
  {
   "cell_type": "markdown",
   "metadata": {},
   "source": [
    "after webscraping is the cleaning phase "
   ]
  },
  {
   "cell_type": "code",
   "execution_count": 85,
   "metadata": {},
   "outputs": [],
   "source": [
    "import pandas as pd\n",
    "import numpy as np\n",
    "import math\n",
    "from sklearn.model_selection import train_test_split\n",
    "from sklearn.compose import TransformedTargetRegressor\n",
    "from sklearn.compose import ColumnTransformer\n",
    "from sklearn.compose import make_column_selector as selector\n",
    "from sklearn.preprocessing import PowerTransformer\n",
    "from sklearn.preprocessing import StandardScaler\n",
    "from sklearn.preprocessing import OneHotEncoder\n",
    "from sklearn.preprocessing import LabelEncoder\n",
    "from sklearn.impute import SimpleImputer\n",
    "from sklearn.impute import KNNImputer\n",
    "from sklearn.feature_selection import VarianceThreshold\n",
    "from sklearn.decomposition import PCA\n",
    "import datetime\n",
    "from datetime import timedelta\n",
    "import ast\n",
    "import json    \n",
    "import missingno as msno"
   ]
  },
  {
   "cell_type": "code",
   "execution_count": 109,
   "metadata": {},
   "outputs": [],
   "source": [
    "\n",
    "\n",
    "path = '../data/23-8-2022.csv' # mannuly i put the name of each day \n",
    "df = pd.read_csv(path)"
   ]
  },
  {
   "cell_type": "markdown",
   "metadata": {},
   "source": [
    "## check IF THESE COLUMNS EXISIT THEN DELETE "
   ]
  },
  {
   "cell_type": "code",
   "execution_count": 110,
   "metadata": {},
   "outputs": [],
   "source": [
    "\n",
    "try:\n",
    "   df.drop([ 'rega_id'] , axis = 1 , inplace=True)\n",
    "except:\n",
    "   i=1"
   ]
  },
  {
   "cell_type": "code",
   "execution_count": 111,
   "metadata": {},
   "outputs": [],
   "source": [
    "try:\n",
    "    df.drop(['Unnamed: 0.1' , 'Unnamed: 0'] , axis = 1 , inplace=True)\n",
    "except:\n",
    "     try:\n",
    "        df.drop([ 'Unnamed: 0'] , axis = 1 , inplace=True)\n",
    "     except:\n",
    "        i=1"
   ]
  },
  {
   "cell_type": "code",
   "execution_count": 112,
   "metadata": {},
   "outputs": [
    {
     "data": {
      "text/plain": [
       "Index(['user_id', 'id', 'uri', 'title', 'price', 'content', 'imgs', 'refresh',\n",
       "       'category', 'beds', 'livings', 'wc', 'area', 'type', 'street_width',\n",
       "       'age', 'last_update', 'street_direction', 'ketchen', 'ac', 'furnished',\n",
       "       'location', 'path', 'user', 'native', 'rent_period', 'city', 'district',\n",
       "       'width', 'length', 'advertiser_type', 'create_time', '__typename'],\n",
       "      dtype='object')"
      ]
     },
     "execution_count": 112,
     "metadata": {},
     "output_type": "execute_result"
    }
   ],
   "source": [
    "df.columns"
   ]
  },
  {
   "cell_type": "code",
   "execution_count": 113,
   "metadata": {},
   "outputs": [
    {
     "data": {
      "text/plain": [
       "(7286, 33)"
      ]
     },
     "execution_count": 113,
     "metadata": {},
     "output_type": "execute_result"
    }
   ],
   "source": [
    "df.shape # check the shape usually betweeen 6500- 7100 "
   ]
  },
  {
   "cell_type": "markdown",
   "metadata": {},
   "source": [
    "## function to change the date from second to date fromat YYYY-MM-DD "
   ]
  },
  {
   "cell_type": "code",
   "execution_count": 115,
   "metadata": {},
   "outputs": [
    {
     "data": {
      "text/plain": [
       "1655559387"
      ]
     },
     "execution_count": 115,
     "metadata": {},
     "output_type": "execute_result"
    }
   ],
   "source": [
    "df.create_time[0]"
   ]
  },
  {
   "cell_type": "code",
   "execution_count": 117,
   "metadata": {},
   "outputs": [],
   "source": [
    "def toDate(sec): # i have the time in second so to convert to date %yyyy-%mm-%dd\n",
    "    try:\n",
    "        a = datetime.datetime.fromtimestamp(sec)\n",
    "        a = str(a) \n",
    "        a = a.split(\" \")\n",
    "        return a \n",
    "    except:\n",
    "        return sec"
   ]
  },
  {
   "cell_type": "code",
   "execution_count": 118,
   "metadata": {},
   "outputs": [
    {
     "name": "stderr",
     "output_type": "stream",
     "text": [
      "/tmp/ipykernel_11479/2196997981.py:4: SettingWithCopyWarning: \n",
      "A value is trying to be set on a copy of a slice from a DataFrame\n",
      "\n",
      "See the caveats in the documentation: https://pandas.pydata.org/pandas-docs/stable/user_guide/indexing.html#returning-a-view-versus-a-copy\n",
      "  df['create_time'][i] = toDate(df['create_time'][i])\n"
     ]
    }
   ],
   "source": [
    "# df['create_time'] = df['column name'].replace(['1st old value','2nd old  value',...],['1st new value','2nd new value',...])\n",
    "i = 0 \n",
    "while i < len(df['create_time']):\n",
    "    df['create_time'][i] = toDate(df['create_time'][i])\n",
    "    i+=1"
   ]
  },
  {
   "cell_type": "code",
   "execution_count": 119,
   "metadata": {},
   "outputs": [
    {
     "data": {
      "text/plain": [
       "['2022-06-18', '13:36:27']"
      ]
     },
     "execution_count": 119,
     "metadata": {},
     "output_type": "execute_result"
    }
   ],
   "source": [
    "df.create_time[0]"
   ]
  },
  {
   "cell_type": "code",
   "execution_count": 93,
   "metadata": {},
   "outputs": [
    {
     "name": "stderr",
     "output_type": "stream",
     "text": [
      "/tmp/ipykernel_11479/2385382091.py:3: SettingWithCopyWarning: \n",
      "A value is trying to be set on a copy of a slice from a DataFrame\n",
      "\n",
      "See the caveats in the documentation: https://pandas.pydata.org/pandas-docs/stable/user_guide/indexing.html#returning-a-view-versus-a-copy\n",
      "  df['refresh'][i] = toDate(df['refresh'][i])\n"
     ]
    }
   ],
   "source": [
    "i = 0 #refresh too and last update\n",
    "while i < len(df['refresh']):\n",
    "    df['refresh'][i] = toDate(df['refresh'][i])\n",
    "    i+=1"
   ]
  },
  {
   "cell_type": "code",
   "execution_count": 94,
   "metadata": {},
   "outputs": [
    {
     "name": "stderr",
     "output_type": "stream",
     "text": [
      "/tmp/ipykernel_11479/1382014819.py:3: SettingWithCopyWarning: \n",
      "A value is trying to be set on a copy of a slice from a DataFrame\n",
      "\n",
      "See the caveats in the documentation: https://pandas.pydata.org/pandas-docs/stable/user_guide/indexing.html#returning-a-view-versus-a-copy\n",
      "  df['last_update'][i] = toDate(df['last_update'][i])\n"
     ]
    }
   ],
   "source": [
    "i = 0 \n",
    "while i < len(df['last_update']):\n",
    "    df['last_update'][i] = toDate(df['last_update'][i])\n",
    "    i+=1"
   ]
  },
  {
   "cell_type": "markdown",
   "metadata": {},
   "source": [
    "-----"
   ]
  },
  {
   "cell_type": "markdown",
   "metadata": {},
   "source": [
    "# extract information from user feature"
   ]
  },
  {
   "cell_type": "code",
   "execution_count": 120,
   "metadata": {},
   "outputs": [
    {
     "data": {
      "text/plain": [
       "\"{'review': 4.39, 'img': '500871265_1660339646348.jpg', 'name': '\\\\u200fمؤسسة بيت العمر العقارية', 'phone': 0, 'iam_verified': True, 'rega_id': '0222276', '__typename': 'ListingUser'}\""
      ]
     },
     "execution_count": 120,
     "metadata": {},
     "output_type": "execute_result"
    }
   ],
   "source": [
    "df['user'][3]"
   ]
  },
  {
   "cell_type": "markdown",
   "metadata": {},
   "source": [
    "create these new columns"
   ]
  },
  {
   "cell_type": "code",
   "execution_count": 122,
   "metadata": {},
   "outputs": [],
   "source": [
    "df['review'] = 0\n",
    "df['profileImg'] = 0\n",
    "df['UserName'] = 0\n",
    "df['phone'] = 0\n",
    "df['iam_verified'] = True\n",
    "df['rega_id'] = 0 # the coluns user has a dic with 6 keys "
   ]
  },
  {
   "cell_type": "code",
   "execution_count": 123,
   "metadata": {},
   "outputs": [
    {
     "name": "stderr",
     "output_type": "stream",
     "text": [
      "/tmp/ipykernel_11479/2489357915.py:6: SettingWithCopyWarning: \n",
      "A value is trying to be set on a copy of a slice from a DataFrame\n",
      "\n",
      "See the caveats in the documentation: https://pandas.pydata.org/pandas-docs/stable/user_guide/indexing.html#returning-a-view-versus-a-copy\n",
      "  df['review'][i] = res.get('review')\n"
     ]
    }
   ],
   "source": [
    "i = 0 #will create the column called review that will have the user review \n",
    "while i < len(df['user']):\n",
    "    a = df['user'][i]\n",
    "    res = ast.literal_eval(a)\n",
    "    \n",
    "    df['review'][i] = res.get('review')\n",
    "    i+=1"
   ]
  },
  {
   "cell_type": "code",
   "execution_count": 124,
   "metadata": {},
   "outputs": [
    {
     "data": {
      "text/plain": [
       "426"
      ]
     },
     "execution_count": 124,
     "metadata": {},
     "output_type": "execute_result"
    }
   ],
   "source": [
    "df[\"review\"].isna().sum()"
   ]
  },
  {
   "cell_type": "code",
   "execution_count": 125,
   "metadata": {},
   "outputs": [],
   "source": [
    "i = 0  #extra columns \n",
    "while i < len(df['user']):\n",
    "    a = df['user'][i]\n",
    "    res = ast.literal_eval(a)\n",
    "    \n",
    "    df['review'][i] = res.get('review')\n",
    "    i+=1"
   ]
  },
  {
   "cell_type": "code",
   "execution_count": 126,
   "metadata": {},
   "outputs": [
    {
     "name": "stderr",
     "output_type": "stream",
     "text": [
      "/tmp/ipykernel_11479/2896461739.py:6: SettingWithCopyWarning: \n",
      "A value is trying to be set on a copy of a slice from a DataFrame\n",
      "\n",
      "See the caveats in the documentation: https://pandas.pydata.org/pandas-docs/stable/user_guide/indexing.html#returning-a-view-versus-a-copy\n",
      "  df['profileImg'][i] = res.get('img')\n"
     ]
    }
   ],
   "source": [
    "i = 0 \n",
    "while i < len(df['user']):\n",
    "    a = df['user'][i]\n",
    "    res = ast.literal_eval(a)\n",
    "    \n",
    "    df['profileImg'][i] = res.get('img')\n",
    "    i+=1"
   ]
  },
  {
   "cell_type": "code",
   "execution_count": 127,
   "metadata": {},
   "outputs": [
    {
     "name": "stderr",
     "output_type": "stream",
     "text": [
      "/tmp/ipykernel_11479/1460742994.py:6: SettingWithCopyWarning: \n",
      "A value is trying to be set on a copy of a slice from a DataFrame\n",
      "\n",
      "See the caveats in the documentation: https://pandas.pydata.org/pandas-docs/stable/user_guide/indexing.html#returning-a-view-versus-a-copy\n",
      "  df['UserName'][i] = res.get('name')\n"
     ]
    }
   ],
   "source": [
    "i = 0 \n",
    "while i < len(df['user']):\n",
    "    a = df['user'][i]\n",
    "    res = ast.literal_eval(a)\n",
    "    \n",
    "    df['UserName'][i] = res.get('name')\n",
    "    i+=1"
   ]
  },
  {
   "cell_type": "code",
   "execution_count": 128,
   "metadata": {},
   "outputs": [
    {
     "name": "stderr",
     "output_type": "stream",
     "text": [
      "/tmp/ipykernel_11479/3738396795.py:6: SettingWithCopyWarning: \n",
      "A value is trying to be set on a copy of a slice from a DataFrame\n",
      "\n",
      "See the caveats in the documentation: https://pandas.pydata.org/pandas-docs/stable/user_guide/indexing.html#returning-a-view-versus-a-copy\n",
      "  df['iam_verified'][i] = res.get('iam_verified')\n"
     ]
    }
   ],
   "source": [
    "i = 0 \n",
    "while i < len(df['user']):\n",
    "    a = df['user'][i]\n",
    "    res = ast.literal_eval(a)\n",
    "    \n",
    "    df['iam_verified'][i] = res.get('iam_verified')\n",
    "    i+=1"
   ]
  },
  {
   "cell_type": "code",
   "execution_count": 129,
   "metadata": {},
   "outputs": [
    {
     "name": "stderr",
     "output_type": "stream",
     "text": [
      "/tmp/ipykernel_11479/184754266.py:6: SettingWithCopyWarning: \n",
      "A value is trying to be set on a copy of a slice from a DataFrame\n",
      "\n",
      "See the caveats in the documentation: https://pandas.pydata.org/pandas-docs/stable/user_guide/indexing.html#returning-a-view-versus-a-copy\n",
      "  df['phone'][i] = res.get('phone')\n"
     ]
    }
   ],
   "source": [
    "i = 0 \n",
    "while i < len(df['user']):\n",
    "    a = df['user'][i]\n",
    "    res = ast.literal_eval(a)\n",
    "    \n",
    "    df['phone'][i] = res.get('phone')\n",
    "    i+=1"
   ]
  },
  {
   "cell_type": "code",
   "execution_count": 130,
   "metadata": {},
   "outputs": [
    {
     "data": {
      "text/plain": [
       "Index(['user_id', 'id', 'uri', 'title', 'price', 'content', 'imgs', 'refresh',\n",
       "       'category', 'beds', 'livings', 'wc', 'area', 'type', 'street_width',\n",
       "       'age', 'last_update', 'street_direction', 'ketchen', 'ac', 'furnished',\n",
       "       'location', 'path', 'user', 'native', 'rent_period', 'city', 'district',\n",
       "       'width', 'length', 'advertiser_type', 'create_time', '__typename',\n",
       "       'review', 'profileImg', 'UserName', 'phone', 'iam_verified', 'rega_id'],\n",
       "      dtype='object')"
      ]
     },
     "execution_count": 130,
     "metadata": {},
     "output_type": "execute_result"
    }
   ],
   "source": [
    "df.columns"
   ]
  },
  {
   "cell_type": "markdown",
   "metadata": {},
   "source": [
    "see the data"
   ]
  },
  {
   "cell_type": "code",
   "execution_count": 131,
   "metadata": {},
   "outputs": [
    {
     "data": {
      "text/html": [
       "<div>\n",
       "<style scoped>\n",
       "    .dataframe tbody tr th:only-of-type {\n",
       "        vertical-align: middle;\n",
       "    }\n",
       "\n",
       "    .dataframe tbody tr th {\n",
       "        vertical-align: top;\n",
       "    }\n",
       "\n",
       "    .dataframe thead th {\n",
       "        text-align: right;\n",
       "    }\n",
       "</style>\n",
       "<table border=\"1\" class=\"dataframe\">\n",
       "  <thead>\n",
       "    <tr style=\"text-align: right;\">\n",
       "      <th></th>\n",
       "      <th>review</th>\n",
       "      <th>profileImg</th>\n",
       "      <th>UserName</th>\n",
       "      <th>phone</th>\n",
       "      <th>iam_verified</th>\n",
       "      <th>rega_id</th>\n",
       "    </tr>\n",
       "  </thead>\n",
       "  <tbody>\n",
       "    <tr>\n",
       "      <th>0</th>\n",
       "      <td>NaN</td>\n",
       "      <td>NaN</td>\n",
       "      <td>Ghla</td>\n",
       "      <td>0</td>\n",
       "      <td>True</td>\n",
       "      <td>0</td>\n",
       "    </tr>\n",
       "    <tr>\n",
       "      <th>1</th>\n",
       "      <td>4.65</td>\n",
       "      <td>552660696_1612894963639.jpg</td>\n",
       "      <td>مكتب خالد ابراهيم علي حريصي للخدمات العقارية</td>\n",
       "      <td>0</td>\n",
       "      <td>True</td>\n",
       "      <td>0</td>\n",
       "    </tr>\n",
       "    <tr>\n",
       "      <th>2</th>\n",
       "      <td>3.49</td>\n",
       "      <td>None</td>\n",
       "      <td>مكتب أسقف الجوهرة للعقارات</td>\n",
       "      <td>0</td>\n",
       "      <td>True</td>\n",
       "      <td>0</td>\n",
       "    </tr>\n",
       "    <tr>\n",
       "      <th>3</th>\n",
       "      <td>4.39</td>\n",
       "      <td>500871265_1660339646348.jpg</td>\n",
       "      <td>‏مؤسسة بيت العمر العقارية</td>\n",
       "      <td>0</td>\n",
       "      <td>True</td>\n",
       "      <td>0</td>\n",
       "    </tr>\n",
       "    <tr>\n",
       "      <th>4</th>\n",
       "      <td>4.44</td>\n",
       "      <td>None</td>\n",
       "      <td>ابو علي مگتب عقار</td>\n",
       "      <td>0</td>\n",
       "      <td>True</td>\n",
       "      <td>0</td>\n",
       "    </tr>\n",
       "    <tr>\n",
       "      <th>...</th>\n",
       "      <td>...</td>\n",
       "      <td>...</td>\n",
       "      <td>...</td>\n",
       "      <td>...</td>\n",
       "      <td>...</td>\n",
       "      <td>...</td>\n",
       "    </tr>\n",
       "    <tr>\n",
       "      <th>7281</th>\n",
       "      <td>3.00</td>\n",
       "      <td>None</td>\n",
       "      <td>None</td>\n",
       "      <td>0</td>\n",
       "      <td>True</td>\n",
       "      <td>0</td>\n",
       "    </tr>\n",
       "    <tr>\n",
       "      <th>7282</th>\n",
       "      <td>4.15</td>\n",
       "      <td>595860574_1647466275475.jpg</td>\n",
       "      <td>آبًوٌ فُهّدٍ</td>\n",
       "      <td>0</td>\n",
       "      <td>True</td>\n",
       "      <td>0</td>\n",
       "    </tr>\n",
       "    <tr>\n",
       "      <th>7283</th>\n",
       "      <td>3.98</td>\n",
       "      <td>None</td>\n",
       "      <td>عقار جديد</td>\n",
       "      <td>0</td>\n",
       "      <td>True</td>\n",
       "      <td>0</td>\n",
       "    </tr>\n",
       "    <tr>\n",
       "      <th>7284</th>\n",
       "      <td>4.41</td>\n",
       "      <td>509679578_1597848607618.jpg</td>\n",
       "      <td>مكتب عبدالله بن ابراهيم الفجحان</td>\n",
       "      <td>0</td>\n",
       "      <td>None</td>\n",
       "      <td>0</td>\n",
       "    </tr>\n",
       "    <tr>\n",
       "      <th>7285</th>\n",
       "      <td>NaN</td>\n",
       "      <td>None</td>\n",
       "      <td>احمد</td>\n",
       "      <td>0</td>\n",
       "      <td>True</td>\n",
       "      <td>0</td>\n",
       "    </tr>\n",
       "  </tbody>\n",
       "</table>\n",
       "<p>7286 rows × 6 columns</p>\n",
       "</div>"
      ],
      "text/plain": [
       "      review                   profileImg  \\\n",
       "0        NaN                          NaN   \n",
       "1       4.65  552660696_1612894963639.jpg   \n",
       "2       3.49                         None   \n",
       "3       4.39  500871265_1660339646348.jpg   \n",
       "4       4.44                         None   \n",
       "...      ...                          ...   \n",
       "7281    3.00                         None   \n",
       "7282    4.15  595860574_1647466275475.jpg   \n",
       "7283    3.98                         None   \n",
       "7284    4.41  509679578_1597848607618.jpg   \n",
       "7285     NaN                         None   \n",
       "\n",
       "                                          UserName  phone iam_verified  \\\n",
       "0                                             Ghla      0         True   \n",
       "1     مكتب خالد ابراهيم علي حريصي للخدمات العقارية      0         True   \n",
       "2                       مكتب أسقف الجوهرة للعقارات      0         True   \n",
       "3                        ‏مؤسسة بيت العمر العقارية      0         True   \n",
       "4                                ابو علي مگتب عقار      0         True   \n",
       "...                                            ...    ...          ...   \n",
       "7281                                          None      0         True   \n",
       "7282                                  آبًوٌ فُهّدٍ      0         True   \n",
       "7283                                    عقار جديد       0         True   \n",
       "7284               مكتب عبدالله بن ابراهيم الفجحان      0         None   \n",
       "7285                                          احمد      0         True   \n",
       "\n",
       "      rega_id  \n",
       "0           0  \n",
       "1           0  \n",
       "2           0  \n",
       "3           0  \n",
       "4           0  \n",
       "...       ...  \n",
       "7281        0  \n",
       "7282        0  \n",
       "7283        0  \n",
       "7284        0  \n",
       "7285        0  \n",
       "\n",
       "[7286 rows x 6 columns]"
      ]
     },
     "execution_count": 131,
     "metadata": {},
     "output_type": "execute_result"
    }
   ],
   "source": [
    "df[['review', 'profileImg', 'UserName', 'phone', 'iam_verified', 'rega_id']]"
   ]
  },
  {
   "cell_type": "code",
   "execution_count": 134,
   "metadata": {},
   "outputs": [
    {
     "data": {
      "text/plain": [
       "5.00    509\n",
       "4.36    313\n",
       "4.39    288\n",
       "4.27    277\n",
       "4.06    205\n",
       "       ... \n",
       "3.45      1\n",
       "3.35      1\n",
       "4.97      1\n",
       "3.25      1\n",
       "3.36      1\n",
       "Name: review, Length: 158, dtype: int64"
      ]
     },
     "execution_count": 134,
     "metadata": {},
     "output_type": "execute_result"
    }
   ],
   "source": [
    "df['review'].value_counts()"
   ]
  },
  {
   "cell_type": "markdown",
   "metadata": {},
   "source": [
    "## phone feature has  zero variance "
   ]
  },
  {
   "cell_type": "code",
   "execution_count": 133,
   "metadata": {},
   "outputs": [
    {
     "data": {
      "text/plain": [
       "0    7286\n",
       "Name: phone, dtype: int64"
      ]
     },
     "execution_count": 133,
     "metadata": {},
     "output_type": "execute_result"
    }
   ],
   "source": [
    "df['phone'].value_counts()"
   ]
  },
  {
   "cell_type": "code",
   "execution_count": 132,
   "metadata": {},
   "outputs": [
    {
     "data": {
      "text/plain": [
       "<AxesSubplot:>"
      ]
     },
     "execution_count": 132,
     "metadata": {},
     "output_type": "execute_result"
    },
    {
     "data": {
      "image/png": "[encoded data removed]",
      "text/plain": [
       "<Figure size 1800x720 with 2 Axes>"
      ]
     },
     "metadata": {
      "needs_background": "light"
     },
     "output_type": "display_data"
    }
   ],
   "source": [
    "msno.matrix(df, labels=True, filter=\"bottom\", sort=\"ascending\", n=50)"
   ]
  },
  {
   "cell_type": "markdown",
   "metadata": {},
   "source": [
    "## delete unwanted columns "
   ]
  },
  {
   "cell_type": "code",
   "execution_count": 136,
   "metadata": {},
   "outputs": [],
   "source": [
    "#delete zero-varince columns\n",
    "df.drop('category' , inplace=True , axis =1) # all has same value \n",
    "df.drop('street_direction' , inplace=True , axis =1) # lots of na \n",
    "df.drop('native' , inplace=True , axis =1) #all are na\n",
    "df.drop('rent_period' , inplace=True , axis =1) # all elemnets has same value \n",
    "df.drop('city' , inplace=True , axis =1) # all elemnets has same value\n",
    "df.drop('__typename' , inplace=True , axis =1) #all are na\n",
    "df.drop('phone' , inplace=True , axis =1) # all elemnets has same value\n",
    "df.drop('type' , inplace=True , axis =1) # lots of na \n",
    "df.drop('uri' , inplace=True , axis =1) # this doesn't add anything title+id c\n",
    "## length and width has lots of na 50% of the values but i am still not sure also there is the area whitch by itself make scense  "
   ]
  },
  {
   "cell_type": "code",
   "execution_count": 137,
   "metadata": {},
   "outputs": [
    {
     "data": {
      "text/plain": [
       "<AxesSubplot:>"
      ]
     },
     "execution_count": 137,
     "metadata": {},
     "output_type": "execute_result"
    },
    {
     "data": {
      "image/png": "[encoded data removed]",
      "text/plain": [
       "<Figure size 1800x720 with 2 Axes>"
      ]
     },
     "metadata": {
      "needs_background": "light"
     },
     "output_type": "display_data"
    }
   ],
   "source": [
    "msno.matrix(df, labels=True, filter=\"bottom\", sort=\"ascending\", n=50)"
   ]
  },
  {
   "cell_type": "markdown",
   "metadata": {},
   "source": []
  },
  {
   "cell_type": "code",
   "execution_count": 145,
   "metadata": {},
   "outputs": [],
   "source": [
    "try:\n",
    "    df.drop(['user' , 'rega_id'] , axis = 1 , inplace=True)\n",
    "except:\n",
    "     try:\n",
    "        df.drop([ 'rega_id'] , axis = 1 , inplace=True)\n",
    "     except:\n",
    "        try:\n",
    "               df.drop([ 'user'] , axis = 1 , inplace=True)\n",
    "        except:\n",
    "                  iq=3"
   ]
  },
  {
   "cell_type": "code",
   "execution_count": 146,
   "metadata": {},
   "outputs": [
    {
     "data": {
      "text/plain": [
       "Index(['user_id', 'id', 'title', 'price', 'content', 'imgs', 'refresh', 'beds',\n",
       "       'livings', 'wc', 'area', 'street_width', 'age', 'last_update',\n",
       "       'ketchen', 'ac', 'furnished', 'location', 'path', 'district', 'width',\n",
       "       'length', 'advertiser_type', 'create_time', 'review', 'profileImg',\n",
       "       'UserName', 'iam_verified'],\n",
       "      dtype='object')"
      ]
     },
     "execution_count": 146,
     "metadata": {},
     "output_type": "execute_result"
    }
   ],
   "source": [
    "df.columns"
   ]
  },
  {
   "cell_type": "code",
   "execution_count": 147,
   "metadata": {},
   "outputs": [],
   "source": [
    "df.to_csv(path , index=False )"
   ]
  },
  {
   "cell_type": "markdown",
   "metadata": {},
   "source": [
    "after cleaning phase i go to joining all the files"
   ]
  }
 ],
 "metadata": {
  "kernelspec": {
   "display_name": "Python 3.10.4 64-bit",
   "language": "python",
   "name": "python3"
  },
  "language_info": {
   "codemirror_mode": {
    "name": "ipython",
    "version": 3
   },
   "file_extension": ".py",
   "mimetype": "text/x-python",
   "name": "python",
   "nbconvert_exporter": "python",
   "pygments_lexer": "ipython3",
   "version": "3.10.4"
  },
  "orig_nbformat": 4,
  "vscode": {
   "interpreter": {
    "hash": "949777d72b0d2535278d3dc13498b2535136f6dfe0678499012e853ee9abcab1"
   }
  }
 },
 "nbformat": 4,
 "nbformat_minor": 2
}

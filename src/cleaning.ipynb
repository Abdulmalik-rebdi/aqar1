{
 "cells": [
  {
   "cell_type": "markdown",
   "metadata": {},
   "source": [
    "after webscraping is the cleaning phase "
   ]
  },
  {
   "cell_type": "code",
   "execution_count": 1,
   "metadata": {},
   "outputs": [],
   "source": [
    "import pandas as pd\n",
    "import numpy as np\n",
    "import math\n",
    "from sklearn.model_selection import train_test_split\n",
    "from sklearn.compose import TransformedTargetRegressor\n",
    "from sklearn.compose import ColumnTransformer\n",
    "from sklearn.compose import make_column_selector as selector\n",
    "from sklearn.preprocessing import PowerTransformer\n",
    "from sklearn.preprocessing import StandardScaler\n",
    "from sklearn.preprocessing import OneHotEncoder\n",
    "from sklearn.preprocessing import LabelEncoder\n",
    "from sklearn.impute import SimpleImputer\n",
    "from sklearn.impute import KNNImputer\n",
    "from sklearn.feature_selection import VarianceThreshold\n",
    "from sklearn.decomposition import PCA\n",
    "import datetime\n",
    "from datetime import timedelta\n",
    "import ast\n",
    "import json    \n",
    "import missingno as msno"
   ]
  },
  {
   "cell_type": "code",
   "execution_count": 32,
   "metadata": {},
   "outputs": [],
   "source": [
    "\n",
    "\n",
    "path = '../data/aqar.csv' # mannuly i put the name of each day \n",
    "df = pd.read_csv(path)"
   ]
  },
  {
   "cell_type": "code",
   "execution_count": 33,
   "metadata": {},
   "outputs": [],
   "source": [
    "try:\n",
    "    df.drop(['user' , 'rega_id'] , axis = 1 , inplace=True)\n",
    "except:\n",
    "     try:\n",
    "        df.drop([ 'rega_id'] , axis = 1 , inplace=True)\n",
    "     except:\n",
    "        i=1"
   ]
  },
  {
   "cell_type": "code",
   "execution_count": 37,
   "metadata": {},
   "outputs": [],
   "source": [
    "try:\n",
    "    df.drop(['Unnamed: 0.1' , 'Unnamed: 0'] , axis = 1 , inplace=True)\n",
    "except:\n",
    "     try:\n",
    "        df.drop([ 'onMarket.ipynb'] , axis = 1 , inplace=True)\n",
    "     except:\n",
    "        i=1"
   ]
  },
  {
   "cell_type": "code",
   "execution_count": 38,
   "metadata": {},
   "outputs": [
    {
     "data": {
      "text/plain": [
       "Index(['user_id', 'id', 'title', 'price', 'content', 'imgs', 'refresh', 'beds',\n",
       "       'livings', 'wc', 'area', 'street_width', 'age', 'last_update',\n",
       "       'ketchen', 'ac', 'furnished', 'location', 'path', 'district', 'width',\n",
       "       'length', 'advertiser_type', 'create_time', 'review', 'profileImg',\n",
       "       'UserName', 'iam_verified', 'DayOfRent', 'timeBeforeRent', 'onMarket'],\n",
       "      dtype='object')"
      ]
     },
     "execution_count": 38,
     "metadata": {},
     "output_type": "execute_result"
    }
   ],
   "source": [
    "df.columns"
   ]
  },
  {
   "cell_type": "code",
   "execution_count": 39,
   "metadata": {},
   "outputs": [
    {
     "data": {
      "text/plain": [
       "(6762, 31)"
      ]
     },
     "execution_count": 39,
     "metadata": {},
     "output_type": "execute_result"
    }
   ],
   "source": [
    "df.shape # check the shape usually betweeen 6500- 7100 "
   ]
  },
  {
   "cell_type": "code",
   "execution_count": null,
   "metadata": {},
   "outputs": [],
   "source": []
  },
  {
   "cell_type": "code",
   "execution_count": 4,
   "metadata": {},
   "outputs": [],
   "source": [
    "def toDate(sec): # i have the time in second so to convert to date %yyyy-%mm-%dd\n",
    "    try:\n",
    "        a = datetime.datetime.fromtimestamp(sec)\n",
    "        a = str(a) \n",
    "        a = a.split(\" \")\n",
    "        return a \n",
    "    except:\n",
    "        return sec"
   ]
  },
  {
   "cell_type": "code",
   "execution_count": null,
   "metadata": {},
   "outputs": [],
   "source": []
  },
  {
   "cell_type": "code",
   "execution_count": 5,
   "metadata": {},
   "outputs": [
    {
     "name": "stderr",
     "output_type": "stream",
     "text": [
      "/tmp/ipykernel_17878/2196997981.py:4: SettingWithCopyWarning: \n",
      "A value is trying to be set on a copy of a slice from a DataFrame\n",
      "\n",
      "See the caveats in the documentation: https://pandas.pydata.org/pandas-docs/stable/user_guide/indexing.html#returning-a-view-versus-a-copy\n",
      "  df['create_time'][i] = toDate(df['create_time'][i])\n"
     ]
    }
   ],
   "source": [
    "# df['create_time'] = df['column name'].replace(['1st old value','2nd old  value',...],['1st new value','2nd new value',...])\n",
    "i = 0 \n",
    "while i < len(df['create_time']):\n",
    "    df['create_time'][i] = toDate(df['create_time'][i])\n",
    "    i+=1"
   ]
  },
  {
   "cell_type": "code",
   "execution_count": 6,
   "metadata": {},
   "outputs": [
    {
     "name": "stderr",
     "output_type": "stream",
     "text": [
      "/tmp/ipykernel_17878/2385382091.py:3: SettingWithCopyWarning: \n",
      "A value is trying to be set on a copy of a slice from a DataFrame\n",
      "\n",
      "See the caveats in the documentation: https://pandas.pydata.org/pandas-docs/stable/user_guide/indexing.html#returning-a-view-versus-a-copy\n",
      "  df['refresh'][i] = toDate(df['refresh'][i])\n"
     ]
    }
   ],
   "source": [
    "i = 0 #refresh too and last update\n",
    "while i < len(df['refresh']):\n",
    "    df['refresh'][i] = toDate(df['refresh'][i])\n",
    "    i+=1"
   ]
  },
  {
   "cell_type": "code",
   "execution_count": 7,
   "metadata": {},
   "outputs": [
    {
     "name": "stderr",
     "output_type": "stream",
     "text": [
      "/tmp/ipykernel_17878/1382014819.py:3: SettingWithCopyWarning: \n",
      "A value is trying to be set on a copy of a slice from a DataFrame\n",
      "\n",
      "See the caveats in the documentation: https://pandas.pydata.org/pandas-docs/stable/user_guide/indexing.html#returning-a-view-versus-a-copy\n",
      "  df['last_update'][i] = toDate(df['last_update'][i])\n"
     ]
    }
   ],
   "source": [
    "i = 0 \n",
    "while i < len(df['last_update']):\n",
    "    df['last_update'][i] = toDate(df['last_update'][i])\n",
    "    i+=1"
   ]
  },
  {
   "cell_type": "code",
   "execution_count": 8,
   "metadata": {},
   "outputs": [
    {
     "data": {
      "text/plain": [
       "\"{'review': 4.26, 'img': '537555186_1638201276397.jpg', 'name': 'اضواء الرسن العقاري', 'phone': 0, 'iam_verified': True, 'rega_id': '1030867', '__typename': 'ListingUser'}\""
      ]
     },
     "execution_count": 8,
     "metadata": {},
     "output_type": "execute_result"
    }
   ],
   "source": [
    "df['user'][3]"
   ]
  },
  {
   "cell_type": "code",
   "execution_count": 9,
   "metadata": {},
   "outputs": [
    {
     "data": {
      "text/plain": [
       "'شركة ارتقاء البدر للعقارات'"
      ]
     },
     "execution_count": 9,
     "metadata": {},
     "output_type": "execute_result"
    }
   ],
   "source": [
    "a = df['user'][242]\n",
    "res = ast.literal_eval(a)\n",
    "res.get('name') #check how to play with dic inside a dateframe"
   ]
  },
  {
   "cell_type": "code",
   "execution_count": null,
   "metadata": {},
   "outputs": [],
   "source": []
  },
  {
   "cell_type": "code",
   "execution_count": 10,
   "metadata": {},
   "outputs": [],
   "source": [
    "df['review'] = 0\n",
    "df['profileImg'] = 0\n",
    "df['UserName'] = 0\n",
    "df['phone'] = 0\n",
    "df['iam_verified'] = True\n",
    "df['rega_id'] = 0 # the coluns user has a dic with 6 keys "
   ]
  },
  {
   "cell_type": "code",
   "execution_count": 11,
   "metadata": {},
   "outputs": [
    {
     "name": "stderr",
     "output_type": "stream",
     "text": [
      "/tmp/ipykernel_17878/2489357915.py:6: SettingWithCopyWarning: \n",
      "A value is trying to be set on a copy of a slice from a DataFrame\n",
      "\n",
      "See the caveats in the documentation: https://pandas.pydata.org/pandas-docs/stable/user_guide/indexing.html#returning-a-view-versus-a-copy\n",
      "  df['review'][i] = res.get('review')\n"
     ]
    }
   ],
   "source": [
    "i = 0 #will create the column called review that will have the user review \n",
    "while i < len(df['user']):\n",
    "    a = df['user'][i]\n",
    "    res = ast.literal_eval(a)\n",
    "    \n",
    "    df['review'][i] = res.get('review')\n",
    "    i+=1"
   ]
  },
  {
   "cell_type": "code",
   "execution_count": 12,
   "metadata": {},
   "outputs": [
    {
     "data": {
      "text/plain": [
       "401"
      ]
     },
     "execution_count": 12,
     "metadata": {},
     "output_type": "execute_result"
    }
   ],
   "source": [
    "df[\"review\"].isna().sum()"
   ]
  },
  {
   "cell_type": "code",
   "execution_count": 13,
   "metadata": {},
   "outputs": [],
   "source": [
    "i = 0  #extra columns \n",
    "while i < len(df['user']):\n",
    "    a = df['user'][i]\n",
    "    res = ast.literal_eval(a)\n",
    "    \n",
    "    df['review'][i] = res.get('review')\n",
    "    i+=1"
   ]
  },
  {
   "cell_type": "code",
   "execution_count": 14,
   "metadata": {},
   "outputs": [
    {
     "name": "stderr",
     "output_type": "stream",
     "text": [
      "/tmp/ipykernel_17878/2896461739.py:6: SettingWithCopyWarning: \n",
      "A value is trying to be set on a copy of a slice from a DataFrame\n",
      "\n",
      "See the caveats in the documentation: https://pandas.pydata.org/pandas-docs/stable/user_guide/indexing.html#returning-a-view-versus-a-copy\n",
      "  df['profileImg'][i] = res.get('img')\n"
     ]
    }
   ],
   "source": [
    "i = 0 \n",
    "while i < len(df['user']):\n",
    "    a = df['user'][i]\n",
    "    res = ast.literal_eval(a)\n",
    "    \n",
    "    df['profileImg'][i] = res.get('img')\n",
    "    i+=1"
   ]
  },
  {
   "cell_type": "code",
   "execution_count": 15,
   "metadata": {},
   "outputs": [
    {
     "name": "stderr",
     "output_type": "stream",
     "text": [
      "/tmp/ipykernel_17878/1460742994.py:6: SettingWithCopyWarning: \n",
      "A value is trying to be set on a copy of a slice from a DataFrame\n",
      "\n",
      "See the caveats in the documentation: https://pandas.pydata.org/pandas-docs/stable/user_guide/indexing.html#returning-a-view-versus-a-copy\n",
      "  df['UserName'][i] = res.get('name')\n"
     ]
    }
   ],
   "source": [
    "i = 0 \n",
    "while i < len(df['user']):\n",
    "    a = df['user'][i]\n",
    "    res = ast.literal_eval(a)\n",
    "    \n",
    "    df['UserName'][i] = res.get('name')\n",
    "    i+=1"
   ]
  },
  {
   "cell_type": "code",
   "execution_count": 16,
   "metadata": {},
   "outputs": [
    {
     "name": "stderr",
     "output_type": "stream",
     "text": [
      "/tmp/ipykernel_17878/3738396795.py:6: SettingWithCopyWarning: \n",
      "A value is trying to be set on a copy of a slice from a DataFrame\n",
      "\n",
      "See the caveats in the documentation: https://pandas.pydata.org/pandas-docs/stable/user_guide/indexing.html#returning-a-view-versus-a-copy\n",
      "  df['iam_verified'][i] = res.get('iam_verified')\n"
     ]
    }
   ],
   "source": [
    "i = 0 \n",
    "while i < len(df['user']):\n",
    "    a = df['user'][i]\n",
    "    res = ast.literal_eval(a)\n",
    "    \n",
    "    df['iam_verified'][i] = res.get('iam_verified')\n",
    "    i+=1"
   ]
  },
  {
   "cell_type": "code",
   "execution_count": 17,
   "metadata": {},
   "outputs": [
    {
     "name": "stderr",
     "output_type": "stream",
     "text": [
      "/tmp/ipykernel_17878/184754266.py:6: SettingWithCopyWarning: \n",
      "A value is trying to be set on a copy of a slice from a DataFrame\n",
      "\n",
      "See the caveats in the documentation: https://pandas.pydata.org/pandas-docs/stable/user_guide/indexing.html#returning-a-view-versus-a-copy\n",
      "  df['phone'][i] = res.get('phone')\n"
     ]
    }
   ],
   "source": [
    "i = 0 \n",
    "while i < len(df['user']):\n",
    "    a = df['user'][i]\n",
    "    res = ast.literal_eval(a)\n",
    "    \n",
    "    df['phone'][i] = res.get('phone')\n",
    "    i+=1"
   ]
  },
  {
   "cell_type": "code",
   "execution_count": 18,
   "metadata": {},
   "outputs": [
    {
     "data": {
      "text/plain": [
       "Index(['user_id', 'id', 'uri', 'title', 'price', 'content', 'imgs', 'refresh',\n",
       "       'category', 'beds', 'livings', 'wc', 'area', 'type', 'street_width',\n",
       "       'age', 'last_update', 'street_direction', 'ketchen', 'ac', 'furnished',\n",
       "       'location', 'path', 'user', 'native', 'rent_period', 'city', 'district',\n",
       "       'width', 'length', 'advertiser_type', 'create_time', '__typename',\n",
       "       'review', 'profileImg', 'UserName', 'phone', 'iam_verified', 'rega_id'],\n",
       "      dtype='object')"
      ]
     },
     "execution_count": 18,
     "metadata": {},
     "output_type": "execute_result"
    }
   ],
   "source": [
    "df.columns"
   ]
  },
  {
   "cell_type": "code",
   "execution_count": 19,
   "metadata": {},
   "outputs": [
    {
     "data": {
      "text/plain": [
       "5.00    465\n",
       "4.36    286\n",
       "4.41    275\n",
       "4.00    256\n",
       "4.30    196\n",
       "       ... \n",
       "3.30      1\n",
       "3.42      1\n",
       "3.81      1\n",
       "3.20      1\n",
       "4.98      1\n",
       "Name: review, Length: 161, dtype: int64"
      ]
     },
     "execution_count": 19,
     "metadata": {},
     "output_type": "execute_result"
    }
   ],
   "source": [
    "df['review'].value_counts()"
   ]
  },
  {
   "cell_type": "code",
   "execution_count": 20,
   "metadata": {},
   "outputs": [
    {
     "data": {
      "text/plain": [
       "0    7200\n",
       "Name: phone, dtype: int64"
      ]
     },
     "execution_count": 20,
     "metadata": {},
     "output_type": "execute_result"
    }
   ],
   "source": [
    "df['phone'].value_counts()"
   ]
  },
  {
   "cell_type": "code",
   "execution_count": 21,
   "metadata": {},
   "outputs": [
    {
     "data": {
      "text/plain": [
       "<AxesSubplot:>"
      ]
     },
     "execution_count": 21,
     "metadata": {},
     "output_type": "execute_result"
    },
    {
     "data": {
      "image/png": "[encoded data removed]",
      "text/plain": [
       "<Figure size 1800x720 with 2 Axes>"
      ]
     },
     "metadata": {
      "needs_background": "light"
     },
     "output_type": "display_data"
    }
   ],
   "source": [
    "msno.matrix(df, labels=True, filter=\"bottom\", sort=\"ascending\", n=50)"
   ]
  },
  {
   "cell_type": "code",
   "execution_count": 22,
   "metadata": {},
   "outputs": [
    {
     "data": {
      "text/plain": [
       "(7200, 39)"
      ]
     },
     "execution_count": 22,
     "metadata": {},
     "output_type": "execute_result"
    }
   ],
   "source": [
    "df.shape #number of columns"
   ]
  },
  {
   "cell_type": "code",
   "execution_count": 23,
   "metadata": {},
   "outputs": [
    {
     "data": {
      "text/plain": [
       "user_id                                                       1142920\n",
       "id                                                            4639897\n",
       "uri                      شارع-نجران-حي-ظهرة-لبن-الرياض-الرياض-4639897\n",
       "title               شقة للإيجار في شارع نجران ، حي ظهرة لبن ، الري...\n",
       "price                                                           40000\n",
       "content             شقة دورين للإيجار \\nالرياض، لبن \\n\\nمدخلين \\nم...\n",
       "imgs                ['011429208_1660640867567.jpg', '011429202_166...\n",
       "refresh                                        [2022-08-16, 21:18:10]\n",
       "category                                                            1\n",
       "beds                                                                3\n",
       "livings                                                           4.0\n",
       "wc                                                                  5\n",
       "area                                                            150.0\n",
       "type                                                              NaN\n",
       "street_width                                                     30.0\n",
       "age                                                               5.0\n",
       "last_update                                    [2022-08-16, 21:18:10]\n",
       "street_direction                                                  NaN\n",
       "ketchen                                                           1.0\n",
       "ac                                                                1.0\n",
       "furnished                                                         0.0\n",
       "location            {'lat': 24.627073, 'lng': 46.551273, '__typena...\n",
       "path                /شقق-للإيجار/الرياض/غرب-الرياض/حي-ظهرة-لبن/شار...\n",
       "user                {'review': 4.73, 'img': '534505057_16414092104...\n",
       "native                                                            NaN\n",
       "rent_period                                                         3\n",
       "city                                                           الرياض\n",
       "district                                                  حي ظهرة لبن\n",
       "width                                                             1.0\n",
       "length                                                          150.0\n",
       "advertiser_type                                    exclusive_marketer\n",
       "create_time                                    [2022-08-16, 09:09:44]\n",
       "__typename                                          ElasticWebListing\n",
       "review                                                           4.73\n",
       "profileImg                                534505057_1641409210465.jpg\n",
       "UserName                                           مكتب نيار للعقارات\n",
       "phone                                                               0\n",
       "iam_verified                                                     True\n",
       "rega_id                                                             0\n",
       "Name: 0, dtype: object"
      ]
     },
     "execution_count": 23,
     "metadata": {},
     "output_type": "execute_result"
    }
   ],
   "source": [
    "df.iloc[0]"
   ]
  },
  {
   "cell_type": "code",
   "execution_count": 24,
   "metadata": {},
   "outputs": [
    {
     "data": {
      "text/plain": [
       "0.3801035077630822"
      ]
     },
     "execution_count": 24,
     "metadata": {},
     "output_type": "execute_result"
    }
   ],
   "source": [
    "df['length'].isna().sum()/df['length'].count()"
   ]
  },
  {
   "cell_type": "code",
   "execution_count": 25,
   "metadata": {},
   "outputs": [
    {
     "data": {
      "text/plain": [
       "Index(['user_id', 'id', 'uri', 'title', 'price', 'content', 'imgs', 'refresh',\n",
       "       'category', 'beds', 'livings', 'wc', 'area', 'type', 'street_width',\n",
       "       'age', 'last_update', 'street_direction', 'ketchen', 'ac', 'furnished',\n",
       "       'location', 'path', 'user', 'native', 'rent_period', 'city', 'district',\n",
       "       'width', 'length', 'advertiser_type', 'create_time', '__typename',\n",
       "       'review', 'profileImg', 'UserName', 'phone', 'iam_verified', 'rega_id'],\n",
       "      dtype='object')"
      ]
     },
     "execution_count": 25,
     "metadata": {},
     "output_type": "execute_result"
    }
   ],
   "source": [
    "df.columns"
   ]
  },
  {
   "cell_type": "code",
   "execution_count": 26,
   "metadata": {},
   "outputs": [],
   "source": [
    "#delete zero-varince columns\n",
    "df.drop('category' , inplace=True , axis =1) # all has same value \n",
    "df.drop('street_direction' , inplace=True , axis =1) # lots of na \n",
    "df.drop('native' , inplace=True , axis =1) #all are na\n",
    "df.drop('rent_period' , inplace=True , axis =1) # all elemnets has same value \n",
    "df.drop('city' , inplace=True , axis =1) # all elemnets has same value\n",
    "df.drop('__typename' , inplace=True , axis =1) #all are na\n",
    "df.drop('phone' , inplace=True , axis =1) # all elemnets has same value\n",
    "df.drop('type' , inplace=True , axis =1) # lots of na \n",
    "df.drop('uri' , inplace=True , axis =1) # this doesn't add anything title+id \n",
    "## length and width has lots of na 50% of the values but i am still not sure also there is the area whitch by itself make scense  "
   ]
  },
  {
   "cell_type": "code",
   "execution_count": 27,
   "metadata": {},
   "outputs": [
    {
     "data": {
      "text/plain": [
       "<AxesSubplot:>"
      ]
     },
     "execution_count": 27,
     "metadata": {},
     "output_type": "execute_result"
    },
    {
     "data": {
      "image/png": "[encoded data removed]",
      "text/plain": [
       "<Figure size 1800x720 with 2 Axes>"
      ]
     },
     "metadata": {
      "needs_background": "light"
     },
     "output_type": "display_data"
    }
   ],
   "source": [
    "msno.matrix(df, labels=True, filter=\"bottom\", sort=\"ascending\", n=50)"
   ]
  },
  {
   "cell_type": "code",
   "execution_count": 28,
   "metadata": {},
   "outputs": [
    {
     "data": {
      "text/plain": [
       "702"
      ]
     },
     "execution_count": 28,
     "metadata": {},
     "output_type": "execute_result"
    }
   ],
   "source": [
    "df.age.isna().sum()"
   ]
  },
  {
   "cell_type": "code",
   "execution_count": 29,
   "metadata": {},
   "outputs": [
    {
     "data": {
      "text/plain": [
       "0.0     2953\n",
       "3.0      566\n",
       "5.0      503\n",
       "1.0      498\n",
       "2.0      497\n",
       "4.0      450\n",
       "6.0      198\n",
       "10.0     144\n",
       "7.0      143\n",
       "8.0      125\n",
       "9.0       90\n",
       "15.0      42\n",
       "12.0      39\n",
       "20.0      38\n",
       "11.0      36\n",
       "13.0      20\n",
       "30.0      20\n",
       "14.0      17\n",
       "16.0      15\n",
       "25.0      14\n",
       "19.0      13\n",
       "18.0      12\n",
       "17.0       9\n",
       "24.0       8\n",
       "26.0       7\n",
       "23.0       6\n",
       "36.0       6\n",
       "21.0       5\n",
       "35.0       5\n",
       "29.0       4\n",
       "22.0       4\n",
       "33.0       3\n",
       "27.0       3\n",
       "34.0       3\n",
       "28.0       2\n",
       "Name: age, dtype: int64"
      ]
     },
     "execution_count": 29,
     "metadata": {},
     "output_type": "execute_result"
    }
   ],
   "source": [
    "df.age.value_counts()"
   ]
  },
  {
   "cell_type": "markdown",
   "metadata": {},
   "source": []
  },
  {
   "cell_type": "code",
   "execution_count": 31,
   "metadata": {},
   "outputs": [],
   "source": [
    "try:\n",
    "    df.drop(['user' , 'rega_id'] , axis = 1 , inplace=True)\n",
    "except:\n",
    "     try:\n",
    "        df.drop([ 'rega_id'] , axis = 1 , inplace=True)\n",
    "     except:\n",
    "        i=1"
   ]
  },
  {
   "cell_type": "code",
   "execution_count": 40,
   "metadata": {},
   "outputs": [],
   "source": [
    "df.to_csv(path , index=False )"
   ]
  },
  {
   "cell_type": "markdown",
   "metadata": {},
   "source": [
    "after cleaning phase i go to joining all the files"
   ]
  }
 ],
 "metadata": {
  "kernelspec": {
   "display_name": "Python 3.10.4 64-bit",
   "language": "python",
   "name": "python3"
  },
  "language_info": {
   "codemirror_mode": {
    "name": "ipython",
    "version": 3
   },
   "file_extension": ".py",
   "mimetype": "text/x-python",
   "name": "python",
   "nbconvert_exporter": "python",
   "pygments_lexer": "ipython3",
   "version": "3.10.4"
  },
  "orig_nbformat": 4,
  "vscode": {
   "interpreter": {
    "hash": "949777d72b0d2535278d3dc13498b2535136f6dfe0678499012e853ee9abcab1"
   }
  }
 },
 "nbformat": 4,
 "nbformat_minor": 2
}

{
 "cells": [
  {
   "cell_type": "markdown",
   "metadata": {},
   "source": [
    "after webscraping is the cleaning phase "
   ]
  },
  {
   "cell_type": "code",
   "execution_count": 2,
   "metadata": {},
   "outputs": [],
   "source": [
    "import pandas as pd\n",
    "import numpy as np\n",
    "import math\n",
    "from sklearn.model_selection import train_test_split\n",
    "from sklearn.compose import TransformedTargetRegressor\n",
    "from sklearn.compose import ColumnTransformer\n",
    "from sklearn.compose import make_column_selector as selector\n",
    "from sklearn.preprocessing import PowerTransformer\n",
    "from sklearn.preprocessing import StandardScaler\n",
    "from sklearn.preprocessing import OneHotEncoder\n",
    "from sklearn.preprocessing import LabelEncoder\n",
    "from sklearn.impute import SimpleImputer\n",
    "from sklearn.impute import KNNImputer\n",
    "from sklearn.feature_selection import VarianceThreshold\n",
    "from sklearn.decomposition import PCA\n",
    "import datetime\n",
    "from datetime import timedelta\n",
    "import ast\n",
    "import json    \n",
    "import missingno as msno"
   ]
  },
  {
   "cell_type": "code",
   "execution_count": 3,
   "metadata": {},
   "outputs": [],
   "source": [
    "\n",
    "\n",
    "path = '../data/19-8-2022.csv' # mannuly i put the name of each day \n",
    "df = pd.read_csv(path)"
   ]
  },
  {
   "cell_type": "code",
   "execution_count": 4,
   "metadata": {},
   "outputs": [],
   "source": [
    "try:\n",
    "    df.drop(['user' , 'rega_id'] , axis = 1 , inplace=True)\n",
    "except:\n",
    "     try:\n",
    "        df.drop([ 'rega_id'] , axis = 1 , inplace=True)\n",
    "     except:\n",
    "        i=1"
   ]
  },
  {
   "cell_type": "code",
   "execution_count": 5,
   "metadata": {},
   "outputs": [],
   "source": [
    "try:\n",
    "    df.drop(['Unnamed: 0.1' , 'Unnamed: 0'] , axis = 1 , inplace=True)\n",
    "except:\n",
    "     try:\n",
    "        df.drop([ 'onMarket.ipynb'] , axis = 1 , inplace=True)\n",
    "     except:\n",
    "        i=1"
   ]
  },
  {
   "cell_type": "code",
   "execution_count": 6,
   "metadata": {},
   "outputs": [
    {
     "data": {
      "text/plain": [
       "Index(['user_id', 'id', 'uri', 'title', 'price', 'content', 'imgs', 'refresh',\n",
       "       'category', 'beds', 'livings', 'wc', 'area', 'type', 'street_width',\n",
       "       'age', 'last_update', 'street_direction', 'ketchen', 'ac', 'furnished',\n",
       "       'location', 'path', 'user', 'native', 'rent_period', 'city', 'district',\n",
       "       'width', 'length', 'advertiser_type', 'create_time', '__typename'],\n",
       "      dtype='object')"
      ]
     },
     "execution_count": 6,
     "metadata": {},
     "output_type": "execute_result"
    }
   ],
   "source": [
    "df.columns"
   ]
  },
  {
   "cell_type": "code",
   "execution_count": 7,
   "metadata": {},
   "outputs": [
    {
     "data": {
      "text/plain": [
       "(7198, 33)"
      ]
     },
     "execution_count": 7,
     "metadata": {},
     "output_type": "execute_result"
    }
   ],
   "source": [
    "df.shape # check the shape usually betweeen 6500- 7100 "
   ]
  },
  {
   "cell_type": "code",
   "execution_count": null,
   "metadata": {},
   "outputs": [],
   "source": []
  },
  {
   "cell_type": "code",
   "execution_count": 8,
   "metadata": {},
   "outputs": [],
   "source": [
    "def toDate(sec): # i have the time in second so to convert to date %yyyy-%mm-%dd\n",
    "    try:\n",
    "        a = datetime.datetime.fromtimestamp(sec)\n",
    "        a = str(a) \n",
    "        a = a.split(\" \")\n",
    "        return a \n",
    "    except:\n",
    "        return sec"
   ]
  },
  {
   "cell_type": "code",
   "execution_count": null,
   "metadata": {},
   "outputs": [],
   "source": []
  },
  {
   "cell_type": "code",
   "execution_count": 9,
   "metadata": {},
   "outputs": [
    {
     "name": "stderr",
     "output_type": "stream",
     "text": [
      "/tmp/ipykernel_5754/2196997981.py:4: SettingWithCopyWarning: \n",
      "A value is trying to be set on a copy of a slice from a DataFrame\n",
      "\n",
      "See the caveats in the documentation: https://pandas.pydata.org/pandas-docs/stable/user_guide/indexing.html#returning-a-view-versus-a-copy\n",
      "  df['create_time'][i] = toDate(df['create_time'][i])\n"
     ]
    }
   ],
   "source": [
    "# df['create_time'] = df['column name'].replace(['1st old value','2nd old  value',...],['1st new value','2nd new value',...])\n",
    "i = 0 \n",
    "while i < len(df['create_time']):\n",
    "    df['create_time'][i] = toDate(df['create_time'][i])\n",
    "    i+=1"
   ]
  },
  {
   "cell_type": "code",
   "execution_count": 10,
   "metadata": {},
   "outputs": [
    {
     "name": "stderr",
     "output_type": "stream",
     "text": [
      "/tmp/ipykernel_5754/2385382091.py:3: SettingWithCopyWarning: \n",
      "A value is trying to be set on a copy of a slice from a DataFrame\n",
      "\n",
      "See the caveats in the documentation: https://pandas.pydata.org/pandas-docs/stable/user_guide/indexing.html#returning-a-view-versus-a-copy\n",
      "  df['refresh'][i] = toDate(df['refresh'][i])\n"
     ]
    }
   ],
   "source": [
    "i = 0 #refresh too and last update\n",
    "while i < len(df['refresh']):\n",
    "    df['refresh'][i] = toDate(df['refresh'][i])\n",
    "    i+=1"
   ]
  },
  {
   "cell_type": "code",
   "execution_count": 11,
   "metadata": {},
   "outputs": [
    {
     "name": "stderr",
     "output_type": "stream",
     "text": [
      "/tmp/ipykernel_5754/1382014819.py:3: SettingWithCopyWarning: \n",
      "A value is trying to be set on a copy of a slice from a DataFrame\n",
      "\n",
      "See the caveats in the documentation: https://pandas.pydata.org/pandas-docs/stable/user_guide/indexing.html#returning-a-view-versus-a-copy\n",
      "  df['last_update'][i] = toDate(df['last_update'][i])\n"
     ]
    }
   ],
   "source": [
    "i = 0 \n",
    "while i < len(df['last_update']):\n",
    "    df['last_update'][i] = toDate(df['last_update'][i])\n",
    "    i+=1"
   ]
  },
  {
   "cell_type": "code",
   "execution_count": 12,
   "metadata": {},
   "outputs": [
    {
     "data": {
      "text/plain": [
       "\"{'review': 4.2, 'img': None, 'name': 'Abo noaf', 'phone': 0, 'iam_verified': True, 'rega_id': None, '__typename': 'ListingUser'}\""
      ]
     },
     "execution_count": 12,
     "metadata": {},
     "output_type": "execute_result"
    }
   ],
   "source": [
    "df['user'][3]"
   ]
  },
  {
   "cell_type": "code",
   "execution_count": 13,
   "metadata": {},
   "outputs": [
    {
     "data": {
      "text/plain": [
       "'ابوملك للعقارات نلابي طلابتكم ونستقبل عروضكم'"
      ]
     },
     "execution_count": 13,
     "metadata": {},
     "output_type": "execute_result"
    }
   ],
   "source": [
    "a = df['user'][242]\n",
    "res = ast.literal_eval(a)\n",
    "res.get('name') #check how to play with dic inside a dateframe"
   ]
  },
  {
   "cell_type": "code",
   "execution_count": null,
   "metadata": {},
   "outputs": [],
   "source": []
  },
  {
   "cell_type": "code",
   "execution_count": 14,
   "metadata": {},
   "outputs": [],
   "source": [
    "df['review'] = 0\n",
    "df['profileImg'] = 0\n",
    "df['UserName'] = 0\n",
    "df['phone'] = 0\n",
    "df['iam_verified'] = True\n",
    "df['rega_id'] = 0 # the coluns user has a dic with 6 keys "
   ]
  },
  {
   "cell_type": "code",
   "execution_count": 15,
   "metadata": {},
   "outputs": [
    {
     "name": "stderr",
     "output_type": "stream",
     "text": [
      "/tmp/ipykernel_5754/2489357915.py:6: SettingWithCopyWarning: \n",
      "A value is trying to be set on a copy of a slice from a DataFrame\n",
      "\n",
      "See the caveats in the documentation: https://pandas.pydata.org/pandas-docs/stable/user_guide/indexing.html#returning-a-view-versus-a-copy\n",
      "  df['review'][i] = res.get('review')\n"
     ]
    }
   ],
   "source": [
    "i = 0 #will create the column called review that will have the user review \n",
    "while i < len(df['user']):\n",
    "    a = df['user'][i]\n",
    "    res = ast.literal_eval(a)\n",
    "    \n",
    "    df['review'][i] = res.get('review')\n",
    "    i+=1"
   ]
  },
  {
   "cell_type": "code",
   "execution_count": 16,
   "metadata": {},
   "outputs": [
    {
     "data": {
      "text/plain": [
       "431"
      ]
     },
     "execution_count": 16,
     "metadata": {},
     "output_type": "execute_result"
    }
   ],
   "source": [
    "df[\"review\"].isna().sum()"
   ]
  },
  {
   "cell_type": "code",
   "execution_count": 17,
   "metadata": {},
   "outputs": [],
   "source": [
    "i = 0  #extra columns \n",
    "while i < len(df['user']):\n",
    "    a = df['user'][i]\n",
    "    res = ast.literal_eval(a)\n",
    "    \n",
    "    df['review'][i] = res.get('review')\n",
    "    i+=1"
   ]
  },
  {
   "cell_type": "code",
   "execution_count": 18,
   "metadata": {},
   "outputs": [
    {
     "name": "stderr",
     "output_type": "stream",
     "text": [
      "/tmp/ipykernel_5754/2896461739.py:6: SettingWithCopyWarning: \n",
      "A value is trying to be set on a copy of a slice from a DataFrame\n",
      "\n",
      "See the caveats in the documentation: https://pandas.pydata.org/pandas-docs/stable/user_guide/indexing.html#returning-a-view-versus-a-copy\n",
      "  df['profileImg'][i] = res.get('img')\n"
     ]
    }
   ],
   "source": [
    "i = 0 \n",
    "while i < len(df['user']):\n",
    "    a = df['user'][i]\n",
    "    res = ast.literal_eval(a)\n",
    "    \n",
    "    df['profileImg'][i] = res.get('img')\n",
    "    i+=1"
   ]
  },
  {
   "cell_type": "code",
   "execution_count": 19,
   "metadata": {},
   "outputs": [
    {
     "name": "stderr",
     "output_type": "stream",
     "text": [
      "/tmp/ipykernel_5754/1460742994.py:6: SettingWithCopyWarning: \n",
      "A value is trying to be set on a copy of a slice from a DataFrame\n",
      "\n",
      "See the caveats in the documentation: https://pandas.pydata.org/pandas-docs/stable/user_guide/indexing.html#returning-a-view-versus-a-copy\n",
      "  df['UserName'][i] = res.get('name')\n"
     ]
    }
   ],
   "source": [
    "i = 0 \n",
    "while i < len(df['user']):\n",
    "    a = df['user'][i]\n",
    "    res = ast.literal_eval(a)\n",
    "    \n",
    "    df['UserName'][i] = res.get('name')\n",
    "    i+=1"
   ]
  },
  {
   "cell_type": "code",
   "execution_count": 20,
   "metadata": {},
   "outputs": [
    {
     "name": "stderr",
     "output_type": "stream",
     "text": [
      "/tmp/ipykernel_5754/3738396795.py:6: SettingWithCopyWarning: \n",
      "A value is trying to be set on a copy of a slice from a DataFrame\n",
      "\n",
      "See the caveats in the documentation: https://pandas.pydata.org/pandas-docs/stable/user_guide/indexing.html#returning-a-view-versus-a-copy\n",
      "  df['iam_verified'][i] = res.get('iam_verified')\n"
     ]
    }
   ],
   "source": [
    "i = 0 \n",
    "while i < len(df['user']):\n",
    "    a = df['user'][i]\n",
    "    res = ast.literal_eval(a)\n",
    "    \n",
    "    df['iam_verified'][i] = res.get('iam_verified')\n",
    "    i+=1"
   ]
  },
  {
   "cell_type": "code",
   "execution_count": 21,
   "metadata": {},
   "outputs": [
    {
     "name": "stderr",
     "output_type": "stream",
     "text": [
      "/tmp/ipykernel_5754/184754266.py:6: SettingWithCopyWarning: \n",
      "A value is trying to be set on a copy of a slice from a DataFrame\n",
      "\n",
      "See the caveats in the documentation: https://pandas.pydata.org/pandas-docs/stable/user_guide/indexing.html#returning-a-view-versus-a-copy\n",
      "  df['phone'][i] = res.get('phone')\n"
     ]
    }
   ],
   "source": [
    "i = 0 \n",
    "while i < len(df['user']):\n",
    "    a = df['user'][i]\n",
    "    res = ast.literal_eval(a)\n",
    "    \n",
    "    df['phone'][i] = res.get('phone')\n",
    "    i+=1"
   ]
  },
  {
   "cell_type": "code",
   "execution_count": 22,
   "metadata": {},
   "outputs": [
    {
     "data": {
      "text/plain": [
       "Index(['user_id', 'id', 'uri', 'title', 'price', 'content', 'imgs', 'refresh',\n",
       "       'category', 'beds', 'livings', 'wc', 'area', 'type', 'street_width',\n",
       "       'age', 'last_update', 'street_direction', 'ketchen', 'ac', 'furnished',\n",
       "       'location', 'path', 'user', 'native', 'rent_period', 'city', 'district',\n",
       "       'width', 'length', 'advertiser_type', 'create_time', '__typename',\n",
       "       'review', 'profileImg', 'UserName', 'phone', 'iam_verified', 'rega_id'],\n",
       "      dtype='object')"
      ]
     },
     "execution_count": 22,
     "metadata": {},
     "output_type": "execute_result"
    }
   ],
   "source": [
    "df.columns"
   ]
  },
  {
   "cell_type": "code",
   "execution_count": 23,
   "metadata": {},
   "outputs": [
    {
     "data": {
      "text/plain": [
       "5.00    476\n",
       "4.38    340\n",
       "4.34    259\n",
       "4.00    218\n",
       "4.36    205\n",
       "       ... \n",
       "3.35      1\n",
       "3.84      1\n",
       "3.45      1\n",
       "3.99      1\n",
       "4.97      1\n",
       "Name: review, Length: 157, dtype: int64"
      ]
     },
     "execution_count": 23,
     "metadata": {},
     "output_type": "execute_result"
    }
   ],
   "source": [
    "df['review'].value_counts()"
   ]
  },
  {
   "cell_type": "code",
   "execution_count": 24,
   "metadata": {},
   "outputs": [
    {
     "data": {
      "text/plain": [
       "0    7198\n",
       "Name: phone, dtype: int64"
      ]
     },
     "execution_count": 24,
     "metadata": {},
     "output_type": "execute_result"
    }
   ],
   "source": [
    "df['phone'].value_counts()"
   ]
  },
  {
   "cell_type": "code",
   "execution_count": 25,
   "metadata": {},
   "outputs": [
    {
     "data": {
      "text/plain": [
       "<AxesSubplot:>"
      ]
     },
     "execution_count": 25,
     "metadata": {},
     "output_type": "execute_result"
    },
    {
     "data": {
      "image/png": "[encoded data removed]",
      "text/plain": [
       "<Figure size 1800x720 with 2 Axes>"
      ]
     },
     "metadata": {
      "needs_background": "light"
     },
     "output_type": "display_data"
    }
   ],
   "source": [
    "msno.matrix(df, labels=True, filter=\"bottom\", sort=\"ascending\", n=50)"
   ]
  },
  {
   "cell_type": "code",
   "execution_count": 26,
   "metadata": {},
   "outputs": [
    {
     "data": {
      "text/plain": [
       "(7198, 39)"
      ]
     },
     "execution_count": 26,
     "metadata": {},
     "output_type": "execute_result"
    }
   ],
   "source": [
    "df.shape #number of columns"
   ]
  },
  {
   "cell_type": "code",
   "execution_count": 27,
   "metadata": {},
   "outputs": [
    {
     "data": {
      "text/plain": [
       "user_id                                                        176129\n",
       "id                                                            4306301\n",
       "uri                                 حي-الياسمين-الرياض-الرياض-4306301\n",
       "title                    شقة للإيجار في حي الياسمين ، الرياض ، الرياض\n",
       "price                                                           85000\n",
       "content             شقة راقية وسيعة تحتوي على\\n٣ غرف نوم \\n٣ حماما...\n",
       "imgs                ['001761293_1652416898883.jpg', '001761297_165...\n",
       "refresh                                        [2022-08-09, 22:20:40]\n",
       "category                                                            1\n",
       "beds                                                                4\n",
       "livings                                                           1.0\n",
       "wc                                                                  4\n",
       "area                                                            183.0\n",
       "type                                                              NaN\n",
       "street_width                                                     40.0\n",
       "age                                                               3.0\n",
       "last_update                                    [2022-08-09, 22:23:07]\n",
       "street_direction                                                  NaN\n",
       "ketchen                                                           1.0\n",
       "ac                                                                1.0\n",
       "furnished                                                         0.0\n",
       "location            {'lat': 24.822113, 'lng': 46.624428, '__typena...\n",
       "path                /شقق-للإيجار/الرياض/شمال-الرياض/حي-الياسمين/حي...\n",
       "user                {'review': 1, 'img': '552872463_1556797775272....\n",
       "native                                                            NaN\n",
       "rent_period                                                         3\n",
       "city                                                           الرياض\n",
       "district                                                  حي الياسمين\n",
       "width                                                            10.0\n",
       "length                                                           18.0\n",
       "advertiser_type                                                 owner\n",
       "create_time                                    [2022-05-13, 04:51:03]\n",
       "__typename                                          ElasticWebListing\n",
       "review                                                            1.0\n",
       "profileImg                                552872463_1556797775272.jpg\n",
       "UserName                                                      العقاري\n",
       "phone                                                               0\n",
       "iam_verified                                                     True\n",
       "rega_id                                                             0\n",
       "Name: 0, dtype: object"
      ]
     },
     "execution_count": 27,
     "metadata": {},
     "output_type": "execute_result"
    }
   ],
   "source": [
    "df.iloc[0]"
   ]
  },
  {
   "cell_type": "code",
   "execution_count": 28,
   "metadata": {},
   "outputs": [
    {
     "data": {
      "text/plain": [
       "0.3568331762488219"
      ]
     },
     "execution_count": 28,
     "metadata": {},
     "output_type": "execute_result"
    }
   ],
   "source": [
    "df['length'].isna().sum()/df['length'].count()"
   ]
  },
  {
   "cell_type": "code",
   "execution_count": 29,
   "metadata": {},
   "outputs": [
    {
     "data": {
      "text/plain": [
       "Index(['user_id', 'id', 'uri', 'title', 'price', 'content', 'imgs', 'refresh',\n",
       "       'category', 'beds', 'livings', 'wc', 'area', 'type', 'street_width',\n",
       "       'age', 'last_update', 'street_direction', 'ketchen', 'ac', 'furnished',\n",
       "       'location', 'path', 'user', 'native', 'rent_period', 'city', 'district',\n",
       "       'width', 'length', 'advertiser_type', 'create_time', '__typename',\n",
       "       'review', 'profileImg', 'UserName', 'phone', 'iam_verified', 'rega_id'],\n",
       "      dtype='object')"
      ]
     },
     "execution_count": 29,
     "metadata": {},
     "output_type": "execute_result"
    }
   ],
   "source": [
    "df.columns"
   ]
  },
  {
   "cell_type": "code",
   "execution_count": 30,
   "metadata": {},
   "outputs": [],
   "source": [
    "#delete zero-varince columns\n",
    "df.drop('category' , inplace=True , axis =1) # all has same value \n",
    "df.drop('street_direction' , inplace=True , axis =1) # lots of na \n",
    "df.drop('native' , inplace=True , axis =1) #all are na\n",
    "df.drop('rent_period' , inplace=True , axis =1) # all elemnets has same value \n",
    "df.drop('city' , inplace=True , axis =1) # all elemnets has same value\n",
    "df.drop('__typename' , inplace=True , axis =1) #all are na\n",
    "df.drop('phone' , inplace=True , axis =1) # all elemnets has same value\n",
    "df.drop('type' , inplace=True , axis =1) # lots of na \n",
    "df.drop('uri' , inplace=True , axis =1) # this doesn't add anything title+id \n",
    "## length and width has lots of na 50% of the values but i am still not sure also there is the area whitch by itself make scense  "
   ]
  },
  {
   "cell_type": "code",
   "execution_count": 31,
   "metadata": {},
   "outputs": [
    {
     "data": {
      "text/plain": [
       "<AxesSubplot:>"
      ]
     },
     "execution_count": 31,
     "metadata": {},
     "output_type": "execute_result"
    },
    {
     "data": {
      "image/png": "[encoded data removed]",
      "text/plain": [
       "<Figure size 1800x720 with 2 Axes>"
      ]
     },
     "metadata": {
      "needs_background": "light"
     },
     "output_type": "display_data"
    }
   ],
   "source": [
    "msno.matrix(df, labels=True, filter=\"bottom\", sort=\"ascending\", n=50)"
   ]
  },
  {
   "cell_type": "code",
   "execution_count": 32,
   "metadata": {},
   "outputs": [
    {
     "data": {
      "text/plain": [
       "712"
      ]
     },
     "execution_count": 32,
     "metadata": {},
     "output_type": "execute_result"
    }
   ],
   "source": [
    "df.age.isna().sum()"
   ]
  },
  {
   "cell_type": "code",
   "execution_count": 33,
   "metadata": {},
   "outputs": [
    {
     "data": {
      "text/plain": [
       "0.0     2954\n",
       "3.0      545\n",
       "1.0      494\n",
       "5.0      486\n",
       "2.0      483\n",
       "4.0      452\n",
       "6.0      193\n",
       "7.0      156\n",
       "10.0     142\n",
       "8.0      141\n",
       "9.0       98\n",
       "11.0      42\n",
       "12.0      41\n",
       "15.0      40\n",
       "20.0      40\n",
       "13.0      20\n",
       "30.0      18\n",
       "14.0      17\n",
       "16.0      17\n",
       "25.0      16\n",
       "19.0      14\n",
       "18.0      11\n",
       "17.0      11\n",
       "24.0       9\n",
       "26.0       8\n",
       "23.0       7\n",
       "36.0       5\n",
       "35.0       5\n",
       "21.0       5\n",
       "29.0       4\n",
       "33.0       3\n",
       "22.0       3\n",
       "34.0       3\n",
       "27.0       2\n",
       "28.0       1\n",
       "Name: age, dtype: int64"
      ]
     },
     "execution_count": 33,
     "metadata": {},
     "output_type": "execute_result"
    }
   ],
   "source": [
    "df.age.value_counts()"
   ]
  },
  {
   "cell_type": "markdown",
   "metadata": {},
   "source": []
  },
  {
   "cell_type": "code",
   "execution_count": 34,
   "metadata": {},
   "outputs": [],
   "source": [
    "try:\n",
    "    df.drop(['user' , 'rega_id'] , axis = 1 , inplace=True)\n",
    "except:\n",
    "     try:\n",
    "        df.drop([ 'rega_id'] , axis = 1 , inplace=True)\n",
    "     except:\n",
    "        i=1"
   ]
  },
  {
   "cell_type": "code",
   "execution_count": 35,
   "metadata": {},
   "outputs": [],
   "source": [
    "df.to_csv(path , index=False )"
   ]
  },
  {
   "cell_type": "markdown",
   "metadata": {},
   "source": [
    "after cleaning phase i go to joining all the files"
   ]
  }
 ],
 "metadata": {
  "kernelspec": {
   "display_name": "Python 3.10.4 64-bit",
   "language": "python",
   "name": "python3"
  },
  "language_info": {
   "codemirror_mode": {
    "name": "ipython",
    "version": 3
   },
   "file_extension": ".py",
   "mimetype": "text/x-python",
   "name": "python",
   "nbconvert_exporter": "python",
   "pygments_lexer": "ipython3",
   "version": "3.10.4"
  },
  "orig_nbformat": 4,
  "vscode": {
   "interpreter": {
    "hash": "949777d72b0d2535278d3dc13498b2535136f6dfe0678499012e853ee9abcab1"
   }
  }
 },
 "nbformat": 4,
 "nbformat_minor": 2
}

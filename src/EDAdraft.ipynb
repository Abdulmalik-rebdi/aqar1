{
 "cells": [
  {
   "cell_type": "code",
   "execution_count": 3,
   "metadata": {},
   "outputs": [],
   "source": [
    "import pandas as pd\n",
    "import numpy as np\n",
    "import matplotlib.pyplot as plt\n",
    "import math\n",
    "from sklearn.model_selection import train_test_split\n",
    "from sklearn.compose import TransformedTargetRegressor\n",
    "from sklearn.compose import ColumnTransformer\n",
    "from sklearn.compose import make_column_selector as selector\n",
    "from sklearn.preprocessing import PowerTransformer\n",
    "from sklearn.preprocessing import StandardScaler\n",
    "from sklearn.preprocessing import OneHotEncoder\n",
    "from sklearn.preprocessing import LabelEncoder\n",
    "from sklearn.impute import SimpleImputer\n",
    "from sklearn.impute import KNNImputer\n",
    "from sklearn.feature_selection import VarianceThreshold\n",
    "from sklearn.decomposition import PCA\n",
    "import datetime\n",
    "from datetime import timedelta\n",
    "import ast\n",
    "import json    \n",
    "import missingno as msno\n",
    "import seaborn as sns\n",
    "import arabic_reshaper\n",
    "from bidi.algorithm import get_display"
   ]
  },
  {
   "cell_type": "code",
   "execution_count": 4,
   "metadata": {},
   "outputs": [],
   "source": [
    "df = pd.read_csv('../data/aqar.csv')"
   ]
  },
  {
   "cell_type": "code",
   "execution_count": 319,
   "metadata": {},
   "outputs": [],
   "source": [
    "df.drop(['Unnamed: 0.1' , 'Unnamed: 0'] ,axis=1 , inplace=True)"
   ]
  },
  {
   "cell_type": "code",
   "execution_count": 5,
   "metadata": {},
   "outputs": [
    {
     "data": {
      "text/plain": [
       "0    4646\n",
       "8     413\n",
       "2     394\n",
       "4     350\n",
       "1     282\n",
       "5     261\n",
       "3     184\n",
       "6     117\n",
       "7     115\n",
       "Name: sold, dtype: int64"
      ]
     },
     "execution_count": 5,
     "metadata": {},
     "output_type": "execute_result"
    }
   ],
   "source": [
    "df.sold.value_counts()"
   ]
  },
  {
   "cell_type": "code",
   "execution_count": 268,
   "metadata": {},
   "outputs": [],
   "source": [
    "try:\n",
    "    df.drop(['user' , 'rega_id'] , axis = 1 , inplace=True)\n",
    "except:\n",
    "     try:\n",
    "        df.drop([ 'rega_id'] , axis = 1 , inplace=True)\n",
    "     except:\n",
    "        i=1"
   ]
  },
  {
   "cell_type": "code",
   "execution_count": 271,
   "metadata": {},
   "outputs": [
    {
     "data": {
      "text/plain": [
       "Index(['user_id', 'id', 'title', 'price', 'content', 'imgs', 'refresh', 'beds',\n",
       "       'livings', 'wc', 'area', 'street_width', 'age', 'last_update',\n",
       "       'ketchen', 'ac', 'furnished', 'location', 'path', 'district', 'width',\n",
       "       'length', 'advertiser_type', 'create_time', 'review', 'profileImg',\n",
       "       'UserName', 'iam_verified', 'sold', 'soldAt'],\n",
       "      dtype='object')"
      ]
     },
     "execution_count": 271,
     "metadata": {},
     "output_type": "execute_result"
    }
   ],
   "source": [
    "df.columns"
   ]
  },
  {
   "cell_type": "code",
   "execution_count": 15,
   "metadata": {},
   "outputs": [
    {
     "name": "stdout",
     "output_type": "stream",
     "text": [
      "<class 'pandas.core.frame.DataFrame'>\n",
      "RangeIndex: 6762 entries, 0 to 6761\n",
      "Data columns (total 32 columns):\n",
      " #   Column           Non-Null Count  Dtype  \n",
      "---  ------           --------------  -----  \n",
      " 0   user_id          6762 non-null   int64  \n",
      " 1   id               6762 non-null   int64  \n",
      " 2   title            6762 non-null   object \n",
      " 3   price            6762 non-null   int64  \n",
      " 4   content          6668 non-null   object \n",
      " 5   imgs             6119 non-null   object \n",
      " 6   refresh          6762 non-null   object \n",
      " 7   beds             6762 non-null   int64  \n",
      " 8   livings          6760 non-null   float64\n",
      " 9   wc               6762 non-null   int64  \n",
      " 10  area             6587 non-null   float64\n",
      " 11  street_width     6552 non-null   float64\n",
      " 12  age              6057 non-null   float64\n",
      " 13  last_update      6762 non-null   object \n",
      " 14  ketchen          6745 non-null   float64\n",
      " 15  ac               6743 non-null   float64\n",
      " 16  furnished        6717 non-null   float64\n",
      " 17  location         6762 non-null   object \n",
      " 18  path             6762 non-null   object \n",
      " 19  user             6762 non-null   object \n",
      " 20  district         6762 non-null   object \n",
      " 21  width            4662 non-null   float64\n",
      " 22  length           4662 non-null   float64\n",
      " 23  advertiser_type  6522 non-null   object \n",
      " 24  create_time      6762 non-null   object \n",
      " 25  review           6363 non-null   float64\n",
      " 26  profileImg       4016 non-null   object \n",
      " 27  UserName         6669 non-null   object \n",
      " 28  iam_verified     6616 non-null   object \n",
      " 29  rega_id          6762 non-null   int64  \n",
      " 30  sold             6762 non-null   int64  \n",
      " 31  soldAt           6762 non-null   int64  \n",
      "dtypes: float64(10), int64(8), object(14)\n",
      "memory usage: 1.7+ MB\n"
     ]
    }
   ],
   "source": [
    "df.info()"
   ]
  },
  {
   "cell_type": "code",
   "execution_count": 18,
   "metadata": {},
   "outputs": [],
   "source": [
    "notSold = df.loc[(df['sold'] == 0) ]\n"
   ]
  },
  {
   "cell_type": "code",
   "execution_count": 20,
   "metadata": {},
   "outputs": [],
   "source": [
    "sold = df.loc[(df['sold'] != 0) ]"
   ]
  },
  {
   "cell_type": "code",
   "execution_count": 21,
   "metadata": {},
   "outputs": [
    {
     "data": {
      "text/html": [
       "<div>\n",
       "<style scoped>\n",
       "    .dataframe tbody tr th:only-of-type {\n",
       "        vertical-align: middle;\n",
       "    }\n",
       "\n",
       "    .dataframe tbody tr th {\n",
       "        vertical-align: top;\n",
       "    }\n",
       "\n",
       "    .dataframe thead th {\n",
       "        text-align: right;\n",
       "    }\n",
       "</style>\n",
       "<table border=\"1\" class=\"dataframe\">\n",
       "  <thead>\n",
       "    <tr style=\"text-align: right;\">\n",
       "      <th></th>\n",
       "      <th>user_id</th>\n",
       "      <th>id</th>\n",
       "      <th>price</th>\n",
       "      <th>beds</th>\n",
       "      <th>livings</th>\n",
       "      <th>wc</th>\n",
       "      <th>area</th>\n",
       "      <th>street_width</th>\n",
       "      <th>age</th>\n",
       "      <th>ketchen</th>\n",
       "      <th>ac</th>\n",
       "      <th>furnished</th>\n",
       "      <th>width</th>\n",
       "      <th>length</th>\n",
       "      <th>review</th>\n",
       "      <th>rega_id</th>\n",
       "      <th>sold</th>\n",
       "      <th>soldAt</th>\n",
       "    </tr>\n",
       "  </thead>\n",
       "  <tbody>\n",
       "    <tr>\n",
       "      <th>count</th>\n",
       "      <td>1.948000e+03</td>\n",
       "      <td>1.948000e+03</td>\n",
       "      <td>1948.000000</td>\n",
       "      <td>1948.000000</td>\n",
       "      <td>1948.000000</td>\n",
       "      <td>1948.000000</td>\n",
       "      <td>1906.000000</td>\n",
       "      <td>1900.000000</td>\n",
       "      <td>1736.000000</td>\n",
       "      <td>1947.000000</td>\n",
       "      <td>1945.000000</td>\n",
       "      <td>1940.000000</td>\n",
       "      <td>1484.000000</td>\n",
       "      <td>1484.000000</td>\n",
       "      <td>1844.000000</td>\n",
       "      <td>1948.0</td>\n",
       "      <td>1948.000000</td>\n",
       "      <td>1948.000000</td>\n",
       "    </tr>\n",
       "    <tr>\n",
       "      <th>mean</th>\n",
       "      <td>1.237034e+06</td>\n",
       "      <td>4.523678e+06</td>\n",
       "      <td>40203.213552</td>\n",
       "      <td>2.694045</td>\n",
       "      <td>1.007700</td>\n",
       "      <td>2.091376</td>\n",
       "      <td>185.815320</td>\n",
       "      <td>22.910000</td>\n",
       "      <td>2.730415</td>\n",
       "      <td>0.847458</td>\n",
       "      <td>0.655527</td>\n",
       "      <td>0.045876</td>\n",
       "      <td>16.915303</td>\n",
       "      <td>23.998187</td>\n",
       "      <td>4.354187</td>\n",
       "      <td>0.0</td>\n",
       "      <td>4.001027</td>\n",
       "      <td>26.914271</td>\n",
       "    </tr>\n",
       "    <tr>\n",
       "      <th>std</th>\n",
       "      <td>7.986757e+05</td>\n",
       "      <td>1.183272e+05</td>\n",
       "      <td>28192.854671</td>\n",
       "      <td>1.041425</td>\n",
       "      <td>0.414729</td>\n",
       "      <td>0.823304</td>\n",
       "      <td>515.795635</td>\n",
       "      <td>13.051436</td>\n",
       "      <td>4.461286</td>\n",
       "      <td>0.359638</td>\n",
       "      <td>0.475318</td>\n",
       "      <td>0.209271</td>\n",
       "      <td>38.649856</td>\n",
       "      <td>42.903281</td>\n",
       "      <td>0.406864</td>\n",
       "      <td>0.0</td>\n",
       "      <td>2.264257</td>\n",
       "      <td>39.937693</td>\n",
       "    </tr>\n",
       "    <tr>\n",
       "      <th>min</th>\n",
       "      <td>6.130000e+02</td>\n",
       "      <td>1.524584e+06</td>\n",
       "      <td>75.000000</td>\n",
       "      <td>1.000000</td>\n",
       "      <td>0.000000</td>\n",
       "      <td>1.000000</td>\n",
       "      <td>1.000000</td>\n",
       "      <td>1.000000</td>\n",
       "      <td>0.000000</td>\n",
       "      <td>0.000000</td>\n",
       "      <td>0.000000</td>\n",
       "      <td>0.000000</td>\n",
       "      <td>1.000000</td>\n",
       "      <td>1.000000</td>\n",
       "      <td>1.000000</td>\n",
       "      <td>0.0</td>\n",
       "      <td>1.000000</td>\n",
       "      <td>1.000000</td>\n",
       "    </tr>\n",
       "    <tr>\n",
       "      <th>25%</th>\n",
       "      <td>5.616945e+05</td>\n",
       "      <td>4.499779e+06</td>\n",
       "      <td>24500.000000</td>\n",
       "      <td>2.000000</td>\n",
       "      <td>1.000000</td>\n",
       "      <td>2.000000</td>\n",
       "      <td>100.000000</td>\n",
       "      <td>15.000000</td>\n",
       "      <td>0.000000</td>\n",
       "      <td>1.000000</td>\n",
       "      <td>0.000000</td>\n",
       "      <td>0.000000</td>\n",
       "      <td>8.000000</td>\n",
       "      <td>9.750000</td>\n",
       "      <td>4.210000</td>\n",
       "      <td>0.0</td>\n",
       "      <td>2.000000</td>\n",
       "      <td>8.000000</td>\n",
       "    </tr>\n",
       "    <tr>\n",
       "      <th>50%</th>\n",
       "      <td>1.049794e+06</td>\n",
       "      <td>4.556278e+06</td>\n",
       "      <td>35000.000000</td>\n",
       "      <td>3.000000</td>\n",
       "      <td>1.000000</td>\n",
       "      <td>2.000000</td>\n",
       "      <td>150.000000</td>\n",
       "      <td>20.000000</td>\n",
       "      <td>1.000000</td>\n",
       "      <td>1.000000</td>\n",
       "      <td>1.000000</td>\n",
       "      <td>0.000000</td>\n",
       "      <td>11.000000</td>\n",
       "      <td>13.000000</td>\n",
       "      <td>4.380000</td>\n",
       "      <td>0.0</td>\n",
       "      <td>4.000000</td>\n",
       "      <td>16.000000</td>\n",
       "    </tr>\n",
       "    <tr>\n",
       "      <th>75%</th>\n",
       "      <td>1.992649e+06</td>\n",
       "      <td>4.585747e+06</td>\n",
       "      <td>45000.000000</td>\n",
       "      <td>3.000000</td>\n",
       "      <td>1.000000</td>\n",
       "      <td>3.000000</td>\n",
       "      <td>190.000000</td>\n",
       "      <td>30.000000</td>\n",
       "      <td>4.000000</td>\n",
       "      <td>1.000000</td>\n",
       "      <td>1.000000</td>\n",
       "      <td>0.000000</td>\n",
       "      <td>15.000000</td>\n",
       "      <td>18.000000</td>\n",
       "      <td>4.560000</td>\n",
       "      <td>0.0</td>\n",
       "      <td>5.000000</td>\n",
       "      <td>36.000000</td>\n",
       "    </tr>\n",
       "    <tr>\n",
       "      <th>max</th>\n",
       "      <td>2.685054e+06</td>\n",
       "      <td>4.600241e+06</td>\n",
       "      <td>450000.000000</td>\n",
       "      <td>7.000000</td>\n",
       "      <td>4.000000</td>\n",
       "      <td>5.000000</td>\n",
       "      <td>18000.000000</td>\n",
       "      <td>100.000000</td>\n",
       "      <td>36.000000</td>\n",
       "      <td>1.000000</td>\n",
       "      <td>1.000000</td>\n",
       "      <td>1.000000</td>\n",
       "      <td>1000.000000</td>\n",
       "      <td>450.000000</td>\n",
       "      <td>5.000000</td>\n",
       "      <td>0.0</td>\n",
       "      <td>8.000000</td>\n",
       "      <td>1199.000000</td>\n",
       "    </tr>\n",
       "  </tbody>\n",
       "</table>\n",
       "</div>"
      ],
      "text/plain": [
       "            user_id            id          price         beds      livings  \\\n",
       "count  1.948000e+03  1.948000e+03    1948.000000  1948.000000  1948.000000   \n",
       "mean   1.237034e+06  4.523678e+06   40203.213552     2.694045     1.007700   \n",
       "std    7.986757e+05  1.183272e+05   28192.854671     1.041425     0.414729   \n",
       "min    6.130000e+02  1.524584e+06      75.000000     1.000000     0.000000   \n",
       "25%    5.616945e+05  4.499779e+06   24500.000000     2.000000     1.000000   \n",
       "50%    1.049794e+06  4.556278e+06   35000.000000     3.000000     1.000000   \n",
       "75%    1.992649e+06  4.585747e+06   45000.000000     3.000000     1.000000   \n",
       "max    2.685054e+06  4.600241e+06  450000.000000     7.000000     4.000000   \n",
       "\n",
       "                wc          area  street_width          age      ketchen  \\\n",
       "count  1948.000000   1906.000000   1900.000000  1736.000000  1947.000000   \n",
       "mean      2.091376    185.815320     22.910000     2.730415     0.847458   \n",
       "std       0.823304    515.795635     13.051436     4.461286     0.359638   \n",
       "min       1.000000      1.000000      1.000000     0.000000     0.000000   \n",
       "25%       2.000000    100.000000     15.000000     0.000000     1.000000   \n",
       "50%       2.000000    150.000000     20.000000     1.000000     1.000000   \n",
       "75%       3.000000    190.000000     30.000000     4.000000     1.000000   \n",
       "max       5.000000  18000.000000    100.000000    36.000000     1.000000   \n",
       "\n",
       "                ac    furnished        width       length       review  \\\n",
       "count  1945.000000  1940.000000  1484.000000  1484.000000  1844.000000   \n",
       "mean      0.655527     0.045876    16.915303    23.998187     4.354187   \n",
       "std       0.475318     0.209271    38.649856    42.903281     0.406864   \n",
       "min       0.000000     0.000000     1.000000     1.000000     1.000000   \n",
       "25%       0.000000     0.000000     8.000000     9.750000     4.210000   \n",
       "50%       1.000000     0.000000    11.000000    13.000000     4.380000   \n",
       "75%       1.000000     0.000000    15.000000    18.000000     4.560000   \n",
       "max       1.000000     1.000000  1000.000000   450.000000     5.000000   \n",
       "\n",
       "       rega_id         sold       soldAt  \n",
       "count   1948.0  1948.000000  1948.000000  \n",
       "mean       0.0     4.001027    26.914271  \n",
       "std        0.0     2.264257    39.937693  \n",
       "min        0.0     1.000000     1.000000  \n",
       "25%        0.0     2.000000     8.000000  \n",
       "50%        0.0     4.000000    16.000000  \n",
       "75%        0.0     5.000000    36.000000  \n",
       "max        0.0     8.000000  1199.000000  "
      ]
     },
     "execution_count": 21,
     "metadata": {},
     "output_type": "execute_result"
    }
   ],
   "source": [
    "sold.describe()"
   ]
  },
  {
   "cell_type": "code",
   "execution_count": 22,
   "metadata": {},
   "outputs": [
    {
     "data": {
      "text/html": [
       "<div>\n",
       "<style scoped>\n",
       "    .dataframe tbody tr th:only-of-type {\n",
       "        vertical-align: middle;\n",
       "    }\n",
       "\n",
       "    .dataframe tbody tr th {\n",
       "        vertical-align: top;\n",
       "    }\n",
       "\n",
       "    .dataframe thead th {\n",
       "        text-align: right;\n",
       "    }\n",
       "</style>\n",
       "<table border=\"1\" class=\"dataframe\">\n",
       "  <thead>\n",
       "    <tr style=\"text-align: right;\">\n",
       "      <th></th>\n",
       "      <th>user_id</th>\n",
       "      <th>id</th>\n",
       "      <th>price</th>\n",
       "      <th>beds</th>\n",
       "      <th>livings</th>\n",
       "      <th>wc</th>\n",
       "      <th>area</th>\n",
       "      <th>street_width</th>\n",
       "      <th>age</th>\n",
       "      <th>ketchen</th>\n",
       "      <th>ac</th>\n",
       "      <th>furnished</th>\n",
       "      <th>width</th>\n",
       "      <th>length</th>\n",
       "      <th>review</th>\n",
       "      <th>rega_id</th>\n",
       "      <th>sold</th>\n",
       "      <th>soldAt</th>\n",
       "    </tr>\n",
       "  </thead>\n",
       "  <tbody>\n",
       "    <tr>\n",
       "      <th>count</th>\n",
       "      <td>4.814000e+03</td>\n",
       "      <td>4.814000e+03</td>\n",
       "      <td>4814.000000</td>\n",
       "      <td>4814.000000</td>\n",
       "      <td>4812.000000</td>\n",
       "      <td>4814.000000</td>\n",
       "      <td>4.681000e+03</td>\n",
       "      <td>4652.000000</td>\n",
       "      <td>4321.000000</td>\n",
       "      <td>4798.000000</td>\n",
       "      <td>4798.000000</td>\n",
       "      <td>4777.000000</td>\n",
       "      <td>3178.000000</td>\n",
       "      <td>3178.000000</td>\n",
       "      <td>4519.000000</td>\n",
       "      <td>4814.0</td>\n",
       "      <td>4814.0</td>\n",
       "      <td>4814.0</td>\n",
       "    </tr>\n",
       "    <tr>\n",
       "      <th>mean</th>\n",
       "      <td>1.360956e+06</td>\n",
       "      <td>4.456271e+06</td>\n",
       "      <td>44517.502077</td>\n",
       "      <td>2.519526</td>\n",
       "      <td>0.983791</td>\n",
       "      <td>2.055879</td>\n",
       "      <td>2.570024e+03</td>\n",
       "      <td>23.235813</td>\n",
       "      <td>2.916223</td>\n",
       "      <td>0.879116</td>\n",
       "      <td>0.749479</td>\n",
       "      <td>0.091271</td>\n",
       "      <td>18.286938</td>\n",
       "      <td>57.989223</td>\n",
       "      <td>4.340407</td>\n",
       "      <td>0.0</td>\n",
       "      <td>0.0</td>\n",
       "      <td>0.0</td>\n",
       "    </tr>\n",
       "    <tr>\n",
       "      <th>std</th>\n",
       "      <td>8.434034e+05</td>\n",
       "      <td>2.135525e+05</td>\n",
       "      <td>29037.579576</td>\n",
       "      <td>1.142793</td>\n",
       "      <td>0.478760</td>\n",
       "      <td>0.967364</td>\n",
       "      <td>1.624205e+05</td>\n",
       "      <td>14.085667</td>\n",
       "      <td>4.733051</td>\n",
       "      <td>0.326026</td>\n",
       "      <td>0.433358</td>\n",
       "      <td>0.288024</td>\n",
       "      <td>33.826728</td>\n",
       "      <td>1971.135400</td>\n",
       "      <td>0.509212</td>\n",
       "      <td>0.0</td>\n",
       "      <td>0.0</td>\n",
       "      <td>0.0</td>\n",
       "    </tr>\n",
       "    <tr>\n",
       "      <th>min</th>\n",
       "      <td>7.000000e+00</td>\n",
       "      <td>2.118990e+05</td>\n",
       "      <td>55.000000</td>\n",
       "      <td>1.000000</td>\n",
       "      <td>0.000000</td>\n",
       "      <td>1.000000</td>\n",
       "      <td>0.000000e+00</td>\n",
       "      <td>0.000000</td>\n",
       "      <td>0.000000</td>\n",
       "      <td>0.000000</td>\n",
       "      <td>0.000000</td>\n",
       "      <td>0.000000</td>\n",
       "      <td>1.000000</td>\n",
       "      <td>1.000000</td>\n",
       "      <td>1.000000</td>\n",
       "      <td>0.0</td>\n",
       "      <td>0.0</td>\n",
       "      <td>0.0</td>\n",
       "    </tr>\n",
       "    <tr>\n",
       "      <th>25%</th>\n",
       "      <td>5.809750e+05</td>\n",
       "      <td>4.420473e+06</td>\n",
       "      <td>25000.000000</td>\n",
       "      <td>1.000000</td>\n",
       "      <td>1.000000</td>\n",
       "      <td>1.000000</td>\n",
       "      <td>9.000000e+01</td>\n",
       "      <td>15.000000</td>\n",
       "      <td>0.000000</td>\n",
       "      <td>1.000000</td>\n",
       "      <td>0.000000</td>\n",
       "      <td>0.000000</td>\n",
       "      <td>8.000000</td>\n",
       "      <td>8.000000</td>\n",
       "      <td>4.195000</td>\n",
       "      <td>0.0</td>\n",
       "      <td>0.0</td>\n",
       "      <td>0.0</td>\n",
       "    </tr>\n",
       "    <tr>\n",
       "      <th>50%</th>\n",
       "      <td>1.402482e+06</td>\n",
       "      <td>4.513766e+06</td>\n",
       "      <td>35000.000000</td>\n",
       "      <td>3.000000</td>\n",
       "      <td>1.000000</td>\n",
       "      <td>2.000000</td>\n",
       "      <td>1.400000e+02</td>\n",
       "      <td>20.000000</td>\n",
       "      <td>1.000000</td>\n",
       "      <td>1.000000</td>\n",
       "      <td>1.000000</td>\n",
       "      <td>0.000000</td>\n",
       "      <td>11.000000</td>\n",
       "      <td>12.000000</td>\n",
       "      <td>4.380000</td>\n",
       "      <td>0.0</td>\n",
       "      <td>0.0</td>\n",
       "      <td>0.0</td>\n",
       "    </tr>\n",
       "    <tr>\n",
       "      <th>75%</th>\n",
       "      <td>2.097594e+06</td>\n",
       "      <td>4.566355e+06</td>\n",
       "      <td>60000.000000</td>\n",
       "      <td>3.000000</td>\n",
       "      <td>1.000000</td>\n",
       "      <td>3.000000</td>\n",
       "      <td>1.800000e+02</td>\n",
       "      <td>30.000000</td>\n",
       "      <td>4.000000</td>\n",
       "      <td>1.000000</td>\n",
       "      <td>1.000000</td>\n",
       "      <td>0.000000</td>\n",
       "      <td>15.000000</td>\n",
       "      <td>17.375000</td>\n",
       "      <td>4.570000</td>\n",
       "      <td>0.0</td>\n",
       "      <td>0.0</td>\n",
       "      <td>0.0</td>\n",
       "    </tr>\n",
       "    <tr>\n",
       "      <th>max</th>\n",
       "      <td>2.684886e+06</td>\n",
       "      <td>4.600194e+06</td>\n",
       "      <td>450000.000000</td>\n",
       "      <td>7.000000</td>\n",
       "      <td>5.000000</td>\n",
       "      <td>5.000000</td>\n",
       "      <td>1.111110e+07</td>\n",
       "      <td>100.000000</td>\n",
       "      <td>36.000000</td>\n",
       "      <td>1.000000</td>\n",
       "      <td>1.000000</td>\n",
       "      <td>1.000000</td>\n",
       "      <td>800.000000</td>\n",
       "      <td>111111.000000</td>\n",
       "      <td>5.000000</td>\n",
       "      <td>0.0</td>\n",
       "      <td>0.0</td>\n",
       "      <td>0.0</td>\n",
       "    </tr>\n",
       "  </tbody>\n",
       "</table>\n",
       "</div>"
      ],
      "text/plain": [
       "            user_id            id          price         beds      livings  \\\n",
       "count  4.814000e+03  4.814000e+03    4814.000000  4814.000000  4812.000000   \n",
       "mean   1.360956e+06  4.456271e+06   44517.502077     2.519526     0.983791   \n",
       "std    8.434034e+05  2.135525e+05   29037.579576     1.142793     0.478760   \n",
       "min    7.000000e+00  2.118990e+05      55.000000     1.000000     0.000000   \n",
       "25%    5.809750e+05  4.420473e+06   25000.000000     1.000000     1.000000   \n",
       "50%    1.402482e+06  4.513766e+06   35000.000000     3.000000     1.000000   \n",
       "75%    2.097594e+06  4.566355e+06   60000.000000     3.000000     1.000000   \n",
       "max    2.684886e+06  4.600194e+06  450000.000000     7.000000     5.000000   \n",
       "\n",
       "                wc          area  street_width          age      ketchen  \\\n",
       "count  4814.000000  4.681000e+03   4652.000000  4321.000000  4798.000000   \n",
       "mean      2.055879  2.570024e+03     23.235813     2.916223     0.879116   \n",
       "std       0.967364  1.624205e+05     14.085667     4.733051     0.326026   \n",
       "min       1.000000  0.000000e+00      0.000000     0.000000     0.000000   \n",
       "25%       1.000000  9.000000e+01     15.000000     0.000000     1.000000   \n",
       "50%       2.000000  1.400000e+02     20.000000     1.000000     1.000000   \n",
       "75%       3.000000  1.800000e+02     30.000000     4.000000     1.000000   \n",
       "max       5.000000  1.111110e+07    100.000000    36.000000     1.000000   \n",
       "\n",
       "                ac    furnished        width         length       review  \\\n",
       "count  4798.000000  4777.000000  3178.000000    3178.000000  4519.000000   \n",
       "mean      0.749479     0.091271    18.286938      57.989223     4.340407   \n",
       "std       0.433358     0.288024    33.826728    1971.135400     0.509212   \n",
       "min       0.000000     0.000000     1.000000       1.000000     1.000000   \n",
       "25%       0.000000     0.000000     8.000000       8.000000     4.195000   \n",
       "50%       1.000000     0.000000    11.000000      12.000000     4.380000   \n",
       "75%       1.000000     0.000000    15.000000      17.375000     4.570000   \n",
       "max       1.000000     1.000000   800.000000  111111.000000     5.000000   \n",
       "\n",
       "       rega_id    sold  soldAt  \n",
       "count   4814.0  4814.0  4814.0  \n",
       "mean       0.0     0.0     0.0  \n",
       "std        0.0     0.0     0.0  \n",
       "min        0.0     0.0     0.0  \n",
       "25%        0.0     0.0     0.0  \n",
       "50%        0.0     0.0     0.0  \n",
       "75%        0.0     0.0     0.0  \n",
       "max        0.0     0.0     0.0  "
      ]
     },
     "execution_count": 22,
     "metadata": {},
     "output_type": "execute_result"
    }
   ],
   "source": [
    "notSold.describe()"
   ]
  },
  {
   "cell_type": "code",
   "execution_count": 25,
   "metadata": {},
   "outputs": [
    {
     "data": {
      "text/plain": [
       "11111100.0"
      ]
     },
     "execution_count": 25,
     "metadata": {},
     "output_type": "execute_result"
    }
   ],
   "source": [
    "notSold['area'].max()"
   ]
  },
  {
   "cell_type": "code",
   "execution_count": 39,
   "metadata": {},
   "outputs": [
    {
     "data": {
      "text/plain": [
       "3127    /شقق-للإيجار/الرياض/شرق-الرياض/حي-المونسية/شار...\n",
       "Name: path, dtype: object"
      ]
     },
     "execution_count": 39,
     "metadata": {},
     "output_type": "execute_result"
    }
   ],
   "source": [
    "notSold.loc[   notSold['area'] == 11111100  ]"
   ]
  },
  {
   "cell_type": "code",
   "execution_count": 37,
   "metadata": {},
   "outputs": [
    {
     "data": {
      "text/plain": [
       "1570    18000.0\n",
       "5698    10000.0\n",
       "5923     5625.0\n",
       "1508     3125.0\n",
       "3911     3000.0\n",
       "2970     3000.0\n",
       "6661     2222.0\n",
       "819      2040.0\n",
       "2831     2040.0\n",
       "6416     1230.0\n",
       "3694     1100.0\n",
       "390      1000.0\n",
       "3277     1000.0\n",
       "721      1000.0\n",
       "1186      900.0\n",
       "2095      900.0\n",
       "2307      900.0\n",
       "3039      900.0\n",
       "2864      800.0\n",
       "4080      720.0\n",
       "Name: area, dtype: float64"
      ]
     },
     "execution_count": 37,
     "metadata": {},
     "output_type": "execute_result"
    }
   ],
   "source": [
    "sold['area'].sort_values(ascending = False).head(20)"
   ]
  },
  {
   "cell_type": "code",
   "execution_count": 35,
   "metadata": {},
   "outputs": [
    {
     "data": {
      "text/plain": [
       "1729    11111100.0\n",
       "1829      185600.0\n",
       "5908       11110.0\n",
       "3127        6400.0\n",
       "6221        2780.0\n",
       "4709        2500.0\n",
       "3215        2450.0\n",
       "5669        2000.0\n",
       "1071        1800.0\n",
       "3322        1200.0\n",
       "3092        1000.0\n",
       "2930        1000.0\n",
       "2518        1000.0\n",
       "686         1000.0\n",
       "5940        1000.0\n",
       "703         1000.0\n",
       "4197        1000.0\n",
       "4519        1000.0\n",
       "3665        1000.0\n",
       "6114        1000.0\n",
       "Name: area, dtype: float64"
      ]
     },
     "execution_count": 35,
     "metadata": {},
     "output_type": "execute_result"
    }
   ],
   "source": [
    "notSold['area'].sort_values(ascending = False).head(20)"
   ]
  },
  {
   "cell_type": "code",
   "execution_count": 53,
   "metadata": {},
   "outputs": [
    {
     "data": {
      "text/plain": [
       "3127    مكتب قمة المساكن للعقارات\n",
       "Name: UserName, dtype: object"
      ]
     },
     "execution_count": 53,
     "metadata": {},
     "output_type": "execute_result"
    }
   ],
   "source": [
    "notSold[notSold['area'] == 6400 ]['UserName']"
   ]
  },
  {
   "cell_type": "code",
   "execution_count": 46,
   "metadata": {},
   "outputs": [
    {
     "ename": "KeyError",
     "evalue": "0",
     "output_type": "error",
     "traceback": [
      "\u001b[0;31m---------------------------------------------------------------------------\u001b[0m",
      "\u001b[0;31mKeyError\u001b[0m                                  Traceback (most recent call last)",
      "File \u001b[0;32m/opt/conda/lib/python3.9/site-packages/pandas/core/indexes/base.py:3621\u001b[0m, in \u001b[0;36mIndex.get_loc\u001b[0;34m(self, key, method, tolerance)\u001b[0m\n\u001b[1;32m   3620\u001b[0m \u001b[39mtry\u001b[39;00m:\n\u001b[0;32m-> 3621\u001b[0m     \u001b[39mreturn\u001b[39;00m \u001b[39mself\u001b[39;49m\u001b[39m.\u001b[39;49m_engine\u001b[39m.\u001b[39;49mget_loc(casted_key)\n\u001b[1;32m   3622\u001b[0m \u001b[39mexcept\u001b[39;00m \u001b[39mKeyError\u001b[39;00m \u001b[39mas\u001b[39;00m err:\n",
      "File \u001b[0;32m/opt/conda/lib/python3.9/site-packages/pandas/_libs/index.pyx:136\u001b[0m, in \u001b[0;36mpandas._libs.index.IndexEngine.get_loc\u001b[0;34m()\u001b[0m\n",
      "File \u001b[0;32m/opt/conda/lib/python3.9/site-packages/pandas/_libs/index.pyx:163\u001b[0m, in \u001b[0;36mpandas._libs.index.IndexEngine.get_loc\u001b[0;34m()\u001b[0m\n",
      "File \u001b[0;32mpandas/_libs/hashtable_class_helper.pxi:2131\u001b[0m, in \u001b[0;36mpandas._libs.hashtable.Int64HashTable.get_item\u001b[0;34m()\u001b[0m\n",
      "File \u001b[0;32mpandas/_libs/hashtable_class_helper.pxi:2140\u001b[0m, in \u001b[0;36mpandas._libs.hashtable.Int64HashTable.get_item\u001b[0;34m()\u001b[0m\n",
      "\u001b[0;31mKeyError\u001b[0m: 0",
      "\nThe above exception was the direct cause of the following exception:\n",
      "\u001b[0;31mKeyError\u001b[0m                                  Traceback (most recent call last)",
      "\u001b[1;32m/workspaces/projects/src/EDAdraft.ipynb Cell 15\u001b[0m in \u001b[0;36m<cell line: 1>\u001b[0;34m()\u001b[0m\n\u001b[0;32m----> <a href='vscode-notebook-cell://dev-container%2B633a5c55736572735c646776616666616661655c70726f6a65637473/workspaces/projects/src/EDAdraft.ipynb#ch0000015vscode-remote?line=0'>1</a>\u001b[0m a[\u001b[39m0\u001b[39;49m]\n",
      "File \u001b[0;32m/opt/conda/lib/python3.9/site-packages/pandas/core/series.py:958\u001b[0m, in \u001b[0;36mSeries.__getitem__\u001b[0;34m(self, key)\u001b[0m\n\u001b[1;32m    955\u001b[0m     \u001b[39mreturn\u001b[39;00m \u001b[39mself\u001b[39m\u001b[39m.\u001b[39m_values[key]\n\u001b[1;32m    957\u001b[0m \u001b[39melif\u001b[39;00m key_is_scalar:\n\u001b[0;32m--> 958\u001b[0m     \u001b[39mreturn\u001b[39;00m \u001b[39mself\u001b[39;49m\u001b[39m.\u001b[39;49m_get_value(key)\n\u001b[1;32m    960\u001b[0m \u001b[39mif\u001b[39;00m is_hashable(key):\n\u001b[1;32m    961\u001b[0m     \u001b[39m# Otherwise index.get_value will raise InvalidIndexError\u001b[39;00m\n\u001b[1;32m    962\u001b[0m     \u001b[39mtry\u001b[39;00m:\n\u001b[1;32m    963\u001b[0m         \u001b[39m# For labels that don't resolve as scalars like tuples and frozensets\u001b[39;00m\n",
      "File \u001b[0;32m/opt/conda/lib/python3.9/site-packages/pandas/core/series.py:1069\u001b[0m, in \u001b[0;36mSeries._get_value\u001b[0;34m(self, label, takeable)\u001b[0m\n\u001b[1;32m   1066\u001b[0m     \u001b[39mreturn\u001b[39;00m \u001b[39mself\u001b[39m\u001b[39m.\u001b[39m_values[label]\n\u001b[1;32m   1068\u001b[0m \u001b[39m# Similar to Index.get_value, but we do not fall back to positional\u001b[39;00m\n\u001b[0;32m-> 1069\u001b[0m loc \u001b[39m=\u001b[39m \u001b[39mself\u001b[39;49m\u001b[39m.\u001b[39;49mindex\u001b[39m.\u001b[39;49mget_loc(label)\n\u001b[1;32m   1070\u001b[0m \u001b[39mreturn\u001b[39;00m \u001b[39mself\u001b[39m\u001b[39m.\u001b[39mindex\u001b[39m.\u001b[39m_get_values_for_loc(\u001b[39mself\u001b[39m, loc, label)\n",
      "File \u001b[0;32m/opt/conda/lib/python3.9/site-packages/pandas/core/indexes/base.py:3623\u001b[0m, in \u001b[0;36mIndex.get_loc\u001b[0;34m(self, key, method, tolerance)\u001b[0m\n\u001b[1;32m   3621\u001b[0m     \u001b[39mreturn\u001b[39;00m \u001b[39mself\u001b[39m\u001b[39m.\u001b[39m_engine\u001b[39m.\u001b[39mget_loc(casted_key)\n\u001b[1;32m   3622\u001b[0m \u001b[39mexcept\u001b[39;00m \u001b[39mKeyError\u001b[39;00m \u001b[39mas\u001b[39;00m err:\n\u001b[0;32m-> 3623\u001b[0m     \u001b[39mraise\u001b[39;00m \u001b[39mKeyError\u001b[39;00m(key) \u001b[39mfrom\u001b[39;00m \u001b[39merr\u001b[39;00m\n\u001b[1;32m   3624\u001b[0m \u001b[39mexcept\u001b[39;00m \u001b[39mTypeError\u001b[39;00m:\n\u001b[1;32m   3625\u001b[0m     \u001b[39m# If we have a listlike key, _check_indexing_error will raise\u001b[39;00m\n\u001b[1;32m   3626\u001b[0m     \u001b[39m#  InvalidIndexError. Otherwise we fall through and re-raise\u001b[39;00m\n\u001b[1;32m   3627\u001b[0m     \u001b[39m#  the TypeError.\u001b[39;00m\n\u001b[1;32m   3628\u001b[0m     \u001b[39mself\u001b[39m\u001b[39m.\u001b[39m_check_indexing_error(key)\n",
      "\u001b[0;31mKeyError\u001b[0m: 0"
     ]
    }
   ],
   "source": []
  },
  {
   "cell_type": "code",
   "execution_count": 66,
   "metadata": {},
   "outputs": [
    {
     "data": {
      "text/plain": [
       "حي النرجس      212\n",
       "حي العارض      207\n",
       "حي الملقا      126\n",
       "حي اليرموك     110\n",
       "حي الياسمين     98\n",
       "حي المونسية     94\n",
       "حي قرطبة        90\n",
       "حي الرمال       70\n",
       "حي القيروان     62\n",
       "حي اشبيلية      57\n",
       "حي طويق         47\n",
       "حي ظهرة لبن     46\n",
       "حي الشهداء      40\n",
       "حي الربيع       37\n",
       "حي العقيق       36\n",
       "حي الخليج       30\n",
       "حي الصحافة      29\n",
       "حي المروج       27\n",
       "حي الوادي       26\n",
       "حي غرناطة       24\n",
       "Name: district, dtype: int64"
      ]
     },
     "execution_count": 66,
     "metadata": {},
     "output_type": "execute_result"
    }
   ],
   "source": [
    " sold['district'].value_counts().head(20)"
   ]
  },
  {
   "cell_type": "code",
   "execution_count": 65,
   "metadata": {},
   "outputs": [
    {
     "data": {
      "text/plain": [
       "حي النرجس        598\n",
       "حي الملقا        449\n",
       "حي العارض        407\n",
       "حي اليرموك       335\n",
       "حي الياسمين      238\n",
       "حي اشبيلية       178\n",
       "حي القيروان      174\n",
       "حي المونسية      173\n",
       "حي العقيق        144\n",
       "حي قرطبة         129\n",
       "حي الشهداء       112\n",
       "حي الخليج         94\n",
       "حي غرناطة         91\n",
       "حي الرمال         88\n",
       "حي الصحافة        74\n",
       "حي الربيع         71\n",
       "حي ظهرة لبن       69\n",
       "حي الملك فيصل     65\n",
       "حي المهدية        64\n",
       "حي حطين           64\n",
       "Name: district, dtype: int64"
      ]
     },
     "execution_count": 65,
     "metadata": {},
     "output_type": "execute_result"
    }
   ],
   "source": [
    " notSold['district'].value_counts().head(20)"
   ]
  },
  {
   "cell_type": "code",
   "execution_count": 392,
   "metadata": {},
   "outputs": [],
   "source": [
    "to = df['district'].value_counts().head(20)\n",
    "to  = to.reset_index(name='count'  )"
   ]
  },
  {
   "cell_type": "code",
   "execution_count": 179,
   "metadata": {},
   "outputs": [],
   "source": [
    "to1 = sold['district'].value_counts().head(20)\n",
    "t1 = to1.reset_index(name='count'  )"
   ]
  },
  {
   "cell_type": "code",
   "execution_count": 180,
   "metadata": {},
   "outputs": [],
   "source": [
    "to2 = notSold['district'].value_counts().head(20)\n",
    "to2 = to2.reset_index(name='count'  )"
   ]
  },
  {
   "cell_type": "code",
   "execution_count": 182,
   "metadata": {},
   "outputs": [
    {
     "data": {
      "text/plain": [
       "حي النرجس      212\n",
       "حي العارض      207\n",
       "حي الملقا      126\n",
       "حي اليرموك     110\n",
       "حي الياسمين     98\n",
       "حي المونسية     94\n",
       "حي قرطبة        90\n",
       "حي الرمال       70\n",
       "حي القيروان     62\n",
       "حي اشبيلية      57\n",
       "حي طويق         47\n",
       "حي ظهرة لبن     46\n",
       "حي الشهداء      40\n",
       "حي الربيع       37\n",
       "حي العقيق       36\n",
       "حي الخليج       30\n",
       "حي الصحافة      29\n",
       "حي المروج       27\n",
       "حي الوادي       26\n",
       "حي غرناطة       24\n",
       "Name: district, dtype: int64"
      ]
     },
     "execution_count": 182,
     "metadata": {},
     "output_type": "execute_result"
    }
   ],
   "source": [
    "to1"
   ]
  },
  {
   "cell_type": "code",
   "execution_count": 131,
   "metadata": {},
   "outputs": [],
   "source": [
    "to = to.reset_index(name='count'  )\n"
   ]
  },
  {
   "cell_type": "code",
   "execution_count": 148,
   "metadata": {},
   "outputs": [],
   "source": [
    "\n",
    "def modify_arabic_display(s):\n",
    "    return get_display(arabic_reshaper.reshape(s.encode('utf-8').decode('utf8')))"
   ]
  },
  {
   "cell_type": "code",
   "execution_count": 393,
   "metadata": {},
   "outputs": [],
   "source": [
    "if to[\"index\"][0] =='ﺣﻲ ﺍﻟﻨﺮﺟﺲ':\n",
    "            for index, row in to.iterrows():\n",
    "    \n",
    "                    to[\"index\"][index] = modify_arabic_display(to[\"index\"][index])\n",
    "        \n",
    "                    "
   ]
  },
  {
   "cell_type": "code",
   "execution_count": 181,
   "metadata": {},
   "outputs": [
    {
     "ename": "KeyError",
     "evalue": "'index'",
     "output_type": "error",
     "traceback": [
      "\u001b[0;31m---------------------------------------------------------------------------\u001b[0m",
      "\u001b[0;31mKeyError\u001b[0m                                  Traceback (most recent call last)",
      "File \u001b[0;32m/opt/conda/lib/python3.9/site-packages/pandas/core/indexes/base.py:3621\u001b[0m, in \u001b[0;36mIndex.get_loc\u001b[0;34m(self, key, method, tolerance)\u001b[0m\n\u001b[1;32m   3620\u001b[0m \u001b[39mtry\u001b[39;00m:\n\u001b[0;32m-> 3621\u001b[0m     \u001b[39mreturn\u001b[39;00m \u001b[39mself\u001b[39;49m\u001b[39m.\u001b[39;49m_engine\u001b[39m.\u001b[39;49mget_loc(casted_key)\n\u001b[1;32m   3622\u001b[0m \u001b[39mexcept\u001b[39;00m \u001b[39mKeyError\u001b[39;00m \u001b[39mas\u001b[39;00m err:\n",
      "File \u001b[0;32m/opt/conda/lib/python3.9/site-packages/pandas/_libs/index.pyx:136\u001b[0m, in \u001b[0;36mpandas._libs.index.IndexEngine.get_loc\u001b[0;34m()\u001b[0m\n",
      "File \u001b[0;32m/opt/conda/lib/python3.9/site-packages/pandas/_libs/index.pyx:163\u001b[0m, in \u001b[0;36mpandas._libs.index.IndexEngine.get_loc\u001b[0;34m()\u001b[0m\n",
      "File \u001b[0;32mpandas/_libs/hashtable_class_helper.pxi:5198\u001b[0m, in \u001b[0;36mpandas._libs.hashtable.PyObjectHashTable.get_item\u001b[0;34m()\u001b[0m\n",
      "File \u001b[0;32mpandas/_libs/hashtable_class_helper.pxi:5206\u001b[0m, in \u001b[0;36mpandas._libs.hashtable.PyObjectHashTable.get_item\u001b[0;34m()\u001b[0m\n",
      "\u001b[0;31mKeyError\u001b[0m: 'index'",
      "\nThe above exception was the direct cause of the following exception:\n",
      "\u001b[0;31mKeyError\u001b[0m                                  Traceback (most recent call last)",
      "\u001b[1;32m/workspaces/projects/src/EDAdraft.ipynb Cell 24\u001b[0m in \u001b[0;36m<cell line: 1>\u001b[0;34m()\u001b[0m\n\u001b[0;32m----> <a href='vscode-notebook-cell://dev-container%2B633a5c55736572735c646776616666616661655c70726f6a65637473/workspaces/projects/src/EDAdraft.ipynb#ch0000044vscode-remote?line=0'>1</a>\u001b[0m \u001b[39mif\u001b[39;00m to1[\u001b[39m\"\u001b[39;49m\u001b[39mindex\u001b[39;49m\u001b[39m\"\u001b[39;49m][\u001b[39m0\u001b[39m] \u001b[39m==\u001b[39m\u001b[39m'\u001b[39m\u001b[39mﺣﻲ ﺍﻟﻨﺮﺟﺲ\u001b[39m\u001b[39m'\u001b[39m:\n\u001b[1;32m      <a href='vscode-notebook-cell://dev-container%2B633a5c55736572735c646776616666616661655c70726f6a65637473/workspaces/projects/src/EDAdraft.ipynb#ch0000044vscode-remote?line=1'>2</a>\u001b[0m             \u001b[39mfor\u001b[39;00m index, row \u001b[39min\u001b[39;00m to1\u001b[39m.\u001b[39miterrows():\n\u001b[1;32m      <a href='vscode-notebook-cell://dev-container%2B633a5c55736572735c646776616666616661655c70726f6a65637473/workspaces/projects/src/EDAdraft.ipynb#ch0000044vscode-remote?line=3'>4</a>\u001b[0m                     to1[\u001b[39m\"\u001b[39m\u001b[39mindex\u001b[39m\u001b[39m\"\u001b[39m][index] \u001b[39m=\u001b[39m modify_arabic_display(to1[\u001b[39m\"\u001b[39m\u001b[39mindex\u001b[39m\u001b[39m\"\u001b[39m][index])\n",
      "File \u001b[0;32m/opt/conda/lib/python3.9/site-packages/pandas/core/series.py:958\u001b[0m, in \u001b[0;36mSeries.__getitem__\u001b[0;34m(self, key)\u001b[0m\n\u001b[1;32m    955\u001b[0m     \u001b[39mreturn\u001b[39;00m \u001b[39mself\u001b[39m\u001b[39m.\u001b[39m_values[key]\n\u001b[1;32m    957\u001b[0m \u001b[39melif\u001b[39;00m key_is_scalar:\n\u001b[0;32m--> 958\u001b[0m     \u001b[39mreturn\u001b[39;00m \u001b[39mself\u001b[39;49m\u001b[39m.\u001b[39;49m_get_value(key)\n\u001b[1;32m    960\u001b[0m \u001b[39mif\u001b[39;00m is_hashable(key):\n\u001b[1;32m    961\u001b[0m     \u001b[39m# Otherwise index.get_value will raise InvalidIndexError\u001b[39;00m\n\u001b[1;32m    962\u001b[0m     \u001b[39mtry\u001b[39;00m:\n\u001b[1;32m    963\u001b[0m         \u001b[39m# For labels that don't resolve as scalars like tuples and frozensets\u001b[39;00m\n",
      "File \u001b[0;32m/opt/conda/lib/python3.9/site-packages/pandas/core/series.py:1069\u001b[0m, in \u001b[0;36mSeries._get_value\u001b[0;34m(self, label, takeable)\u001b[0m\n\u001b[1;32m   1066\u001b[0m     \u001b[39mreturn\u001b[39;00m \u001b[39mself\u001b[39m\u001b[39m.\u001b[39m_values[label]\n\u001b[1;32m   1068\u001b[0m \u001b[39m# Similar to Index.get_value, but we do not fall back to positional\u001b[39;00m\n\u001b[0;32m-> 1069\u001b[0m loc \u001b[39m=\u001b[39m \u001b[39mself\u001b[39;49m\u001b[39m.\u001b[39;49mindex\u001b[39m.\u001b[39;49mget_loc(label)\n\u001b[1;32m   1070\u001b[0m \u001b[39mreturn\u001b[39;00m \u001b[39mself\u001b[39m\u001b[39m.\u001b[39mindex\u001b[39m.\u001b[39m_get_values_for_loc(\u001b[39mself\u001b[39m, loc, label)\n",
      "File \u001b[0;32m/opt/conda/lib/python3.9/site-packages/pandas/core/indexes/base.py:3623\u001b[0m, in \u001b[0;36mIndex.get_loc\u001b[0;34m(self, key, method, tolerance)\u001b[0m\n\u001b[1;32m   3621\u001b[0m     \u001b[39mreturn\u001b[39;00m \u001b[39mself\u001b[39m\u001b[39m.\u001b[39m_engine\u001b[39m.\u001b[39mget_loc(casted_key)\n\u001b[1;32m   3622\u001b[0m \u001b[39mexcept\u001b[39;00m \u001b[39mKeyError\u001b[39;00m \u001b[39mas\u001b[39;00m err:\n\u001b[0;32m-> 3623\u001b[0m     \u001b[39mraise\u001b[39;00m \u001b[39mKeyError\u001b[39;00m(key) \u001b[39mfrom\u001b[39;00m \u001b[39merr\u001b[39;00m\n\u001b[1;32m   3624\u001b[0m \u001b[39mexcept\u001b[39;00m \u001b[39mTypeError\u001b[39;00m:\n\u001b[1;32m   3625\u001b[0m     \u001b[39m# If we have a listlike key, _check_indexing_error will raise\u001b[39;00m\n\u001b[1;32m   3626\u001b[0m     \u001b[39m#  InvalidIndexError. Otherwise we fall through and re-raise\u001b[39;00m\n\u001b[1;32m   3627\u001b[0m     \u001b[39m#  the TypeError.\u001b[39;00m\n\u001b[1;32m   3628\u001b[0m     \u001b[39mself\u001b[39m\u001b[39m.\u001b[39m_check_indexing_error(key)\n",
      "\u001b[0;31mKeyError\u001b[0m: 'index'"
     ]
    }
   ],
   "source": [
    "if to1[\"index\"][0] =='ﺣﻲ ﺍﻟﻨﺮﺟﺲ':\n",
    "            for index, row in to1.iterrows():\n",
    "    \n",
    "                    to1[\"index\"][index] = modify_arabic_display(to1[\"index\"][index])"
   ]
  },
  {
   "cell_type": "code",
   "execution_count": null,
   "metadata": {},
   "outputs": [],
   "source": [
    "if to[\"index\"][0] =='ﺣﻲ ﺍﻟﻨﺮﺟﺲ':\n",
    "            for index, row in to.iterrows():\n",
    "    \n",
    "                    to[\"index\"][index] = modify_arabic_display(to[\"index\"][index])"
   ]
  },
  {
   "cell_type": "code",
   "execution_count": 170,
   "metadata": {},
   "outputs": [
    {
     "data": {
      "text/plain": [
       "<AxesSubplot:xlabel='index'>"
      ]
     },
     "execution_count": 170,
     "metadata": {},
     "output_type": "execute_result"
    },
    {
     "data": {
      "image/png": "[encoded data removed]",
      "text/plain": [
       "<Figure size 432x288 with 1 Axes>"
      ]
     },
     "metadata": {
      "needs_background": "light"
     },
     "output_type": "display_data"
    }
   ],
   "source": [
    "to.plot(kind = 'bar' , x='index')"
   ]
  },
  {
   "cell_type": "code",
   "execution_count": 187,
   "metadata": {},
   "outputs": [
    {
     "data": {
      "text/plain": [
       "<AxesSubplot:>"
      ]
     },
     "execution_count": 187,
     "metadata": {},
     "output_type": "execute_result"
    },
    {
     "data": {
      "image/png": "[encoded data removed]",
      "text/plain": [
       "<Figure size 432x288 with 1 Axes>"
      ]
     },
     "metadata": {
      "needs_background": "light"
     },
     "output_type": "display_data"
    }
   ],
   "source": [
    "df['advertiser_type'].value_counts().plot(kind = 'bar')"
   ]
  },
  {
   "cell_type": "code",
   "execution_count": 197,
   "metadata": {},
   "outputs": [
    {
     "data": {
      "text/plain": [
       "6616"
      ]
     },
     "execution_count": 197,
     "metadata": {},
     "output_type": "execute_result"
    }
   ],
   "source": [
    "df['iam_verified'].value_counts().sum()"
   ]
  },
  {
   "cell_type": "code",
   "execution_count": 195,
   "metadata": {},
   "outputs": [
    {
     "data": {
      "text/plain": [
       "6604"
      ]
     },
     "execution_count": 195,
     "metadata": {},
     "output_type": "execute_result"
    }
   ],
   "source": [
    "df['iam_verified'].sum()"
   ]
  },
  {
   "cell_type": "code",
   "execution_count": 198,
   "metadata": {},
   "outputs": [
    {
     "data": {
      "text/plain": [
       "0.998186215235792"
      ]
     },
     "execution_count": 198,
     "metadata": {},
     "output_type": "execute_result"
    }
   ],
   "source": [
    "df['iam_verified'].value_counts()[1] / df['iam_verified'].value_counts().sum()"
   ]
  },
  {
   "cell_type": "code",
   "execution_count": 226,
   "metadata": {},
   "outputs": [],
   "source": [
    "a = list(pd.DataFrame(df['district'].value_counts().head(10).reset_index(name='count'  ))['index'])"
   ]
  },
  {
   "cell_type": "code",
   "execution_count": 229,
   "metadata": {},
   "outputs": [],
   "source": [
    "newdf = df.loc[df['district'].isin(a)]\n"
   ]
  },
  {
   "cell_type": "code",
   "execution_count": 230,
   "metadata": {},
   "outputs": [
    {
     "data": {
      "text/plain": [
       "<AxesSubplot:xlabel='district', ylabel='sold'>"
      ]
     },
     "execution_count": 230,
     "metadata": {},
     "output_type": "execute_result"
    },
    {
     "data": {
      "image/png": "[encoded data removed]",
      "text/plain": [
       "<Figure size 432x288 with 1 Axes>"
      ]
     },
     "metadata": {
      "needs_background": "light"
     },
     "output_type": "display_data"
    }
   ],
   "source": [
    "sns.barplot(x=\"district\", y=\"sold\", data=newdf,\n",
    "            label=\"Alcohol-involved\", color=\"b\")"
   ]
  },
  {
   "cell_type": "code",
   "execution_count": 251,
   "metadata": {},
   "outputs": [
    {
     "data": {
      "image/png": "[encoded data removed]",
      "text/plain": [
       "<Figure size 1296x1080 with 2 Axes>"
      ]
     },
     "metadata": {
      "needs_background": "light"
     },
     "output_type": "display_data"
    }
   ],
   "source": [
    "df.drop(['user_id', 'id', 'title', 'price', 'content', 'imgs', 'refresh', 'user' , 'path' , 'location' , 'last_update' ,'rega_id' ],axis=1,inplace=True)\n",
    "\n",
    "sns.heatmap(df.corr(),annot=True,cmap='RdYlGn',linewidths=0.2,annot_kws={'size':20})\n",
    "fig=plt.gcf()\n",
    "fig.set_size_inches(18,15)\n",
    "plt.xticks(fontsize=14)\n",
    "plt.yticks(fontsize=14)\n",
    "plt.show()"
   ]
  },
  {
   "cell_type": "code",
   "execution_count": 236,
   "metadata": {},
   "outputs": [
    {
     "ename": "AttributeError",
     "evalue": "'Rectangle' object has no property 'hue'",
     "output_type": "error",
     "traceback": [
      "\u001b[0;31m---------------------------------------------------------------------------\u001b[0m",
      "\u001b[0;31mAttributeError\u001b[0m                            Traceback (most recent call last)",
      "\u001b[1;32m/workspaces/projects/src/EDAdraft.ipynb Cell 35\u001b[0m in \u001b[0;36m<cell line: 2>\u001b[0;34m()\u001b[0m\n\u001b[1;32m      <a href='vscode-notebook-cell://dev-container%2B633a5c55736572735c646776616666616661655c70726f6a65637473/workspaces/projects/src/EDAdraft.ipynb#ch0000053vscode-remote?line=0'>1</a>\u001b[0m fig, ax \u001b[39m=\u001b[39m plt\u001b[39m.\u001b[39msubplots()\n\u001b[0;32m----> <a href='vscode-notebook-cell://dev-container%2B633a5c55736572735c646776616666616661655c70726f6a65637473/workspaces/projects/src/EDAdraft.ipynb#ch0000053vscode-remote?line=1'>2</a>\u001b[0m ax\u001b[39m.\u001b[39;49mbar(newdf[\u001b[39m'\u001b[39;49m\u001b[39mdistrict\u001b[39;49m\u001b[39m'\u001b[39;49m],  \u001b[39m0.35\u001b[39;49m , hue \u001b[39m=\u001b[39;49m newdf[\u001b[39m'\u001b[39;49m\u001b[39msold\u001b[39;49m\u001b[39m'\u001b[39;49m] )\n\u001b[1;32m      <a href='vscode-notebook-cell://dev-container%2B633a5c55736572735c646776616666616661655c70726f6a65637473/workspaces/projects/src/EDAdraft.ipynb#ch0000053vscode-remote?line=2'>3</a>\u001b[0m ax\u001b[39m.\u001b[39mset_ylabel(\u001b[39m'\u001b[39m\u001b[39mScores\u001b[39m\u001b[39m'\u001b[39m)\n\u001b[1;32m      <a href='vscode-notebook-cell://dev-container%2B633a5c55736572735c646776616666616661655c70726f6a65637473/workspaces/projects/src/EDAdraft.ipynb#ch0000053vscode-remote?line=3'>4</a>\u001b[0m ax\u001b[39m.\u001b[39mset_title(\u001b[39m'\u001b[39m\u001b[39mScores by group and gender\u001b[39m\u001b[39m'\u001b[39m)\n",
      "File \u001b[0;32m/opt/conda/lib/python3.9/site-packages/matplotlib/__init__.py:1412\u001b[0m, in \u001b[0;36m_preprocess_data.<locals>.inner\u001b[0;34m(ax, data, *args, **kwargs)\u001b[0m\n\u001b[1;32m   1409\u001b[0m \u001b[39m@functools\u001b[39m\u001b[39m.\u001b[39mwraps(func)\n\u001b[1;32m   1410\u001b[0m \u001b[39mdef\u001b[39;00m \u001b[39minner\u001b[39m(ax, \u001b[39m*\u001b[39margs, data\u001b[39m=\u001b[39m\u001b[39mNone\u001b[39;00m, \u001b[39m*\u001b[39m\u001b[39m*\u001b[39mkwargs):\n\u001b[1;32m   1411\u001b[0m     \u001b[39mif\u001b[39;00m data \u001b[39mis\u001b[39;00m \u001b[39mNone\u001b[39;00m:\n\u001b[0;32m-> 1412\u001b[0m         \u001b[39mreturn\u001b[39;00m func(ax, \u001b[39m*\u001b[39;49m\u001b[39mmap\u001b[39;49m(sanitize_sequence, args), \u001b[39m*\u001b[39;49m\u001b[39m*\u001b[39;49mkwargs)\n\u001b[1;32m   1414\u001b[0m     bound \u001b[39m=\u001b[39m new_sig\u001b[39m.\u001b[39mbind(ax, \u001b[39m*\u001b[39margs, \u001b[39m*\u001b[39m\u001b[39m*\u001b[39mkwargs)\n\u001b[1;32m   1415\u001b[0m     auto_label \u001b[39m=\u001b[39m (bound\u001b[39m.\u001b[39marguments\u001b[39m.\u001b[39mget(label_namer)\n\u001b[1;32m   1416\u001b[0m                   \u001b[39mor\u001b[39;00m bound\u001b[39m.\u001b[39mkwargs\u001b[39m.\u001b[39mget(label_namer))\n",
      "File \u001b[0;32m/opt/conda/lib/python3.9/site-packages/matplotlib/axes/_axes.py:2403\u001b[0m, in \u001b[0;36mAxes.bar\u001b[0;34m(self, x, height, width, bottom, align, **kwargs)\u001b[0m\n\u001b[1;32m   2394\u001b[0m \u001b[39mfor\u001b[39;00m l, b, w, h, c, e, lw, htch \u001b[39min\u001b[39;00m args:\n\u001b[1;32m   2395\u001b[0m     r \u001b[39m=\u001b[39m mpatches\u001b[39m.\u001b[39mRectangle(\n\u001b[1;32m   2396\u001b[0m         xy\u001b[39m=\u001b[39m(l, b), width\u001b[39m=\u001b[39mw, height\u001b[39m=\u001b[39mh,\n\u001b[1;32m   2397\u001b[0m         facecolor\u001b[39m=\u001b[39mc,\n\u001b[0;32m   (...)\u001b[0m\n\u001b[1;32m   2401\u001b[0m         hatch\u001b[39m=\u001b[39mhtch,\n\u001b[1;32m   2402\u001b[0m         )\n\u001b[0;32m-> 2403\u001b[0m     r\u001b[39m.\u001b[39;49mupdate(kwargs)\n\u001b[1;32m   2404\u001b[0m     r\u001b[39m.\u001b[39mget_path()\u001b[39m.\u001b[39m_interpolation_steps \u001b[39m=\u001b[39m \u001b[39m100\u001b[39m\n\u001b[1;32m   2405\u001b[0m     \u001b[39mif\u001b[39;00m orientation \u001b[39m==\u001b[39m \u001b[39m'\u001b[39m\u001b[39mvertical\u001b[39m\u001b[39m'\u001b[39m:\n",
      "File \u001b[0;32m/opt/conda/lib/python3.9/site-packages/matplotlib/artist.py:1064\u001b[0m, in \u001b[0;36mArtist.update\u001b[0;34m(self, props)\u001b[0m\n\u001b[1;32m   1062\u001b[0m             func \u001b[39m=\u001b[39m \u001b[39mgetattr\u001b[39m(\u001b[39mself\u001b[39m, \u001b[39mf\u001b[39m\u001b[39m\"\u001b[39m\u001b[39mset_\u001b[39m\u001b[39m{\u001b[39;00mk\u001b[39m}\u001b[39;00m\u001b[39m\"\u001b[39m, \u001b[39mNone\u001b[39;00m)\n\u001b[1;32m   1063\u001b[0m             \u001b[39mif\u001b[39;00m \u001b[39mnot\u001b[39;00m callable(func):\n\u001b[0;32m-> 1064\u001b[0m                 \u001b[39mraise\u001b[39;00m \u001b[39mAttributeError\u001b[39;00m(\u001b[39mf\u001b[39m\u001b[39m\"\u001b[39m\u001b[39m{\u001b[39;00m\u001b[39mtype\u001b[39m(\u001b[39mself\u001b[39m)\u001b[39m.\u001b[39m\u001b[39m__name__\u001b[39m\u001b[39m!r}\u001b[39;00m\u001b[39m object \u001b[39m\u001b[39m\"\u001b[39m\n\u001b[1;32m   1065\u001b[0m                                      \u001b[39mf\u001b[39m\u001b[39m\"\u001b[39m\u001b[39mhas no property \u001b[39m\u001b[39m{\u001b[39;00mk\u001b[39m!r}\u001b[39;00m\u001b[39m\"\u001b[39m)\n\u001b[1;32m   1066\u001b[0m             ret\u001b[39m.\u001b[39mappend(func(v))\n\u001b[1;32m   1067\u001b[0m \u001b[39mif\u001b[39;00m ret:\n",
      "\u001b[0;31mAttributeError\u001b[0m: 'Rectangle' object has no property 'hue'"
     ]
    },
    {
     "data": {
      "image/png": "[encoded data removed]",
      "text/plain": [
       "<Figure size 432x288 with 1 Axes>"
      ]
     },
     "metadata": {
      "needs_background": "light"
     },
     "output_type": "display_data"
    }
   ],
   "source": [
    "fig, ax = plt.subplots()\n",
    "ax.hist(x, n_bins, density=False, histtype='bar', color=colors, label=colors)\n",
    "# ax.set_ylabel('Scores')\n",
    "# ax.set_title('Scores by group and gender')\n",
    "# ax.legend()\n",
    "\n",
    "plt.show()"
   ]
  },
  {
   "cell_type": "code",
   "execution_count": 276,
   "metadata": {},
   "outputs": [
    {
     "data": {
      "text/plain": [
       "<AxesSubplot:>"
      ]
     },
     "execution_count": 276,
     "metadata": {},
     "output_type": "execute_result"
    },
    {
     "data": {
      "image/png": "[encoded data removed]",
      "text/plain": [
       "<Figure size 432x288 with 1 Axes>"
      ]
     },
     "metadata": {
      "needs_background": "light"
     },
     "output_type": "display_data"
    }
   ],
   "source": [
    "df['beds'].value_counts().plot(kind = 'bar')"
   ]
  },
  {
   "cell_type": "code",
   "execution_count": 281,
   "metadata": {},
   "outputs": [
    {
     "data": {
      "text/plain": [
       "6762"
      ]
     },
     "execution_count": 281,
     "metadata": {},
     "output_type": "execute_result"
    }
   ],
   "source": [
    "len(df['create_time'])\n"
   ]
  },
  {
   "cell_type": "code",
   "execution_count": 287,
   "metadata": {},
   "outputs": [
    {
     "data": {
      "text/plain": [
       "Timestamp('2022-07-24 00:00:00')"
      ]
     },
     "execution_count": 287,
     "metadata": {},
     "output_type": "execute_result"
    }
   ],
   "source": [
    "a = df['create_time'][2][2:12]\n",
    "pd.to_datetime(a , format = '%Y-%m-%d')"
   ]
  },
  {
   "cell_type": "code",
   "execution_count": 348,
   "metadata": {},
   "outputs": [],
   "source": [
    "copy = df"
   ]
  },
  {
   "cell_type": "code",
   "execution_count": 345,
   "metadata": {},
   "outputs": [
    {
     "data": {
      "text/plain": [
       "\"['2022-08-06', '10:27:56']\""
      ]
     },
     "execution_count": 345,
     "metadata": {},
     "output_type": "execute_result"
    }
   ],
   "source": [
    "df['create_time'][1]"
   ]
  },
  {
   "cell_type": "code",
   "execution_count": 349,
   "metadata": {},
   "outputs": [
    {
     "name": "stderr",
     "output_type": "stream",
     "text": [
      "/tmp/ipykernel_29918/2031853434.py:5: SettingWithCopyWarning: \n",
      "A value is trying to be set on a copy of a slice from a DataFrame\n",
      "\n",
      "See the caveats in the documentation: https://pandas.pydata.org/pandas-docs/stable/user_guide/indexing.html#returning-a-view-versus-a-copy\n",
      "  copy['create_time'][i] = a\n"
     ]
    }
   ],
   "source": [
    "i=0 \n",
    "while i < len(df['create_time']):\n",
    "    a = df['create_time'][i][2:9]\n",
    "    # a = pd.to_datetime(a , format = '%Y-%m-%d')\n",
    "    copy['create_time'][i] = a\n",
    "    i+=1"
   ]
  },
  {
   "cell_type": "code",
   "execution_count": 351,
   "metadata": {},
   "outputs": [],
   "source": [
    "Copy = copy.groupby('create_time').size().reset_index(name = 'total')"
   ]
  },
  {
   "cell_type": "code",
   "execution_count": 344,
   "metadata": {},
   "outputs": [
    {
     "data": {
      "text/html": [
       "<div>\n",
       "<style scoped>\n",
       "    .dataframe tbody tr th:only-of-type {\n",
       "        vertical-align: middle;\n",
       "    }\n",
       "\n",
       "    .dataframe tbody tr th {\n",
       "        vertical-align: top;\n",
       "    }\n",
       "\n",
       "    .dataframe thead th {\n",
       "        text-align: right;\n",
       "    }\n",
       "</style>\n",
       "<table border=\"1\" class=\"dataframe\">\n",
       "  <thead>\n",
       "    <tr style=\"text-align: right;\">\n",
       "      <th></th>\n",
       "      <th>create_time</th>\n",
       "      <th>total</th>\n",
       "    </tr>\n",
       "  </thead>\n",
       "  <tbody>\n",
       "    <tr>\n",
       "      <th>0</th>\n",
       "      <td>2022-03</td>\n",
       "      <td>1</td>\n",
       "    </tr>\n",
       "    <tr>\n",
       "      <th>1</th>\n",
       "      <td>2022-07</td>\n",
       "      <td>4</td>\n",
       "    </tr>\n",
       "    <tr>\n",
       "      <th>2</th>\n",
       "      <td>2022-08</td>\n",
       "      <td>3</td>\n",
       "    </tr>\n",
       "  </tbody>\n",
       "</table>\n",
       "</div>"
      ],
      "text/plain": [
       "  create_time  total\n",
       "0     2022-03      1\n",
       "1     2022-07      4\n",
       "2     2022-08      3"
      ]
     },
     "execution_count": 344,
     "metadata": {},
     "output_type": "execute_result"
    }
   ],
   "source": [
    "copy"
   ]
  },
  {
   "cell_type": "code",
   "execution_count": 312,
   "metadata": {},
   "outputs": [],
   "source": [
    "# copy = copy[copy['create_time'].str.contains(\"2022\") == True]\n"
   ]
  },
  {
   "cell_type": "code",
   "execution_count": 363,
   "metadata": {},
   "outputs": [
    {
     "data": {
      "text/plain": [
       "([0,\n",
       "  1,\n",
       "  2,\n",
       "  3,\n",
       "  4,\n",
       "  5,\n",
       "  6,\n",
       "  7,\n",
       "  8,\n",
       "  9,\n",
       "  10,\n",
       "  11,\n",
       "  12,\n",
       "  13,\n",
       "  14,\n",
       "  15,\n",
       "  16,\n",
       "  17,\n",
       "  18,\n",
       "  19,\n",
       "  20,\n",
       "  21,\n",
       "  22,\n",
       "  23,\n",
       "  24,\n",
       "  25,\n",
       "  26,\n",
       "  27,\n",
       "  28],\n",
       " [Text(0, 0, ''),\n",
       "  Text(0, 0, ''),\n",
       "  Text(0, 0, ''),\n",
       "  Text(0, 0, ''),\n",
       "  Text(0, 0, ''),\n",
       "  Text(0, 0, ''),\n",
       "  Text(0, 0, ''),\n",
       "  Text(0, 0, ''),\n",
       "  Text(0, 0, ''),\n",
       "  Text(0, 0, ''),\n",
       "  Text(0, 0, ''),\n",
       "  Text(0, 0, ''),\n",
       "  Text(0, 0, ''),\n",
       "  Text(0, 0, ''),\n",
       "  Text(0, 0, ''),\n",
       "  Text(0, 0, ''),\n",
       "  Text(0, 0, ''),\n",
       "  Text(0, 0, ''),\n",
       "  Text(0, 0, ''),\n",
       "  Text(0, 0, ''),\n",
       "  Text(0, 0, ''),\n",
       "  Text(0, 0, ''),\n",
       "  Text(0, 0, ''),\n",
       "  Text(0, 0, ''),\n",
       "  Text(0, 0, ''),\n",
       "  Text(0, 0, ''),\n",
       "  Text(0, 0, ''),\n",
       "  Text(0, 0, ''),\n",
       "  Text(0, 0, '')])"
      ]
     },
     "execution_count": 363,
     "metadata": {},
     "output_type": "execute_result"
    },
    {
     "data": {
      "image/png": "[encoded data removed]",
      "text/plain": [
       "<Figure size 432x288 with 1 Axes>"
      ]
     },
     "metadata": {
      "needs_background": "light"
     },
     "output_type": "display_data"
    }
   ],
   "source": [
    "sns.lineplot(data=Copy, \n",
    "             x='create_time', \n",
    "             y='total', \n",
    "            #  hue='year' \n",
    "             )\n",
    "plt.xticks(rotation=\"90\")"
   ]
  },
  {
   "cell_type": "markdown",
   "metadata": {},
   "source": [
    "we can see that until the begining of 2022 the curve is the consistent but after that we see increse of number of post \n",
    "the curve might not change \n",
    "bc : this not sold "
   ]
  },
  {
   "cell_type": "code",
   "execution_count": 364,
   "metadata": {},
   "outputs": [
    {
     "data": {
      "text/plain": [
       "2    2591\n",
       "1    2116\n",
       "3    1627\n",
       "4     348\n",
       "5      80\n",
       "Name: wc, dtype: int64"
      ]
     },
     "execution_count": 364,
     "metadata": {},
     "output_type": "execute_result"
    }
   ],
   "source": [
    "df['wc'].value_counts()"
   ]
  },
  {
   "cell_type": "code",
   "execution_count": 367,
   "metadata": {},
   "outputs": [
    {
     "data": {
      "text/plain": [
       "<AxesSubplot:>"
      ]
     },
     "execution_count": 367,
     "metadata": {},
     "output_type": "execute_result"
    },
    {
     "data": {
      "image/png": "[encoded data removed]",
      "text/plain": [
       "<Figure size 432x288 with 1 Axes>"
      ]
     },
     "metadata": {
      "needs_background": "light"
     },
     "output_type": "display_data"
    }
   ],
   "source": [
    "df['age'].value_counts().plot(kind = 'box')"
   ]
  },
  {
   "cell_type": "code",
   "execution_count": 369,
   "metadata": {},
   "outputs": [
    {
     "data": {
      "text/plain": [
       "<AxesSubplot:>"
      ]
     },
     "execution_count": 369,
     "metadata": {},
     "output_type": "execute_result"
    },
    {
     "data": {
      "image/png": "[encoded data removed]",
      "text/plain": [
       "<Figure size 432x288 with 1 Axes>"
      ]
     },
     "metadata": {
      "needs_background": "light"
     },
     "output_type": "display_data"
    }
   ],
   "source": [
    "df['age'].plot(kind='box')"
   ]
  },
  {
   "cell_type": "code",
   "execution_count": 370,
   "metadata": {},
   "outputs": [
    {
     "ename": "ValueError",
     "evalue": "either both or neither of x and y should be given",
     "output_type": "error",
     "traceback": [
      "\u001b[0;31m---------------------------------------------------------------------------\u001b[0m",
      "\u001b[0;31mValueError\u001b[0m                                Traceback (most recent call last)",
      "\u001b[1;32m/workspaces/projects/src/EDAdraft.ipynb Cell 53\u001b[0m in \u001b[0;36m<cell line: 1>\u001b[0;34m()\u001b[0m\n\u001b[0;32m----> <a href='vscode-notebook-cell://dev-container%2B633a5c55736572735c646776616666616661655c70726f6a65637473/workspaces/projects/src/EDAdraft.ipynb#ch0000072vscode-remote?line=0'>1</a>\u001b[0m df[\u001b[39m'\u001b[39m\u001b[39mhasSold\u001b[39m\u001b[39m'\u001b[39m] \u001b[39m=\u001b[39m np\u001b[39m.\u001b[39mwhere(df[\u001b[39m'\u001b[39m\u001b[39msold\u001b[39m\u001b[39m'\u001b[39m] \u001b[39m==\u001b[39m \u001b[39m0\u001b[39m, \u001b[39mFalse\u001b[39;00m, np\u001b[39m.\u001b[39;49mwhere(df[\u001b[39m'\u001b[39;49m\u001b[39msold\u001b[39;49m\u001b[39m'\u001b[39;49m] \u001b[39m!=\u001b[39;49m \u001b[39m0\u001b[39;49m , \u001b[39mTrue\u001b[39;49;00m))\n",
      "File \u001b[0;32m<__array_function__ internals>:5\u001b[0m, in \u001b[0;36mwhere\u001b[0;34m(*args, **kwargs)\u001b[0m\n",
      "\u001b[0;31mValueError\u001b[0m: either both or neither of x and y should be given"
     ]
    }
   ],
   "source": [
    "df['hasSold'] = np.where(df['sold'] == 0, False, np.where(df['sold'] != 0 , True))"
   ]
  },
  {
   "cell_type": "code",
   "execution_count": 372,
   "metadata": {},
   "outputs": [],
   "source": [
    "df['hasSold'] = True"
   ]
  },
  {
   "cell_type": "code",
   "execution_count": 376,
   "metadata": {},
   "outputs": [],
   "source": [
    "df['hasSold'] = np.where(  df['sold'] == 0 ,  False , True)"
   ]
  },
  {
   "cell_type": "code",
   "execution_count": 378,
   "metadata": {},
   "outputs": [
    {
     "data": {
      "text/plain": [
       "False    4814\n",
       "True     1948\n",
       "Name: hasSold, dtype: int64"
      ]
     },
     "execution_count": 378,
     "metadata": {},
     "output_type": "execute_result"
    }
   ],
   "source": [
    "df['hasSold'].value_counts()"
   ]
  },
  {
   "cell_type": "code",
   "execution_count": 387,
   "metadata": {},
   "outputs": [
    {
     "data": {
      "image/png": "[encoded data removed]",
      "text/plain": [
       "<Figure size 432x288 with 1 Axes>"
      ]
     },
     "metadata": {
      "needs_background": "light"
     },
     "output_type": "display_data"
    }
   ],
   "source": [
    "sns.violinplot(data=df, x=\"beds\", y=\"age\", hue=\"hasSold\",\n",
    "               split=True, inner=\"quart\", linewidth=1\n",
    "            #    palette={\"Yes\": \"b\", \"No\": \".85\"}\n",
    "            )\n",
    "sns.despine(left=True)"
   ]
  },
  {
   "cell_type": "code",
   "execution_count": 386,
   "metadata": {},
   "outputs": [
    {
     "data": {
      "text/plain": [
       "0.0"
      ]
     },
     "execution_count": 386,
     "metadata": {},
     "output_type": "execute_result"
    }
   ],
   "source": [
    "df['age'].min()"
   ]
  },
  {
   "cell_type": "code",
   "execution_count": 401,
   "metadata": {},
   "outputs": [],
   "source": [
    "cp = df"
   ]
  },
  {
   "cell_type": "code",
   "execution_count": 404,
   "metadata": {},
   "outputs": [
    {
     "data": {
      "text/plain": [
       "True"
      ]
     },
     "execution_count": 404,
     "metadata": {},
     "output_type": "execute_result"
    }
   ],
   "source": [
    "cp[\"district\"][0] == 'حي النظيم'"
   ]
  },
  {
   "cell_type": "code",
   "execution_count": 405,
   "metadata": {},
   "outputs": [
    {
     "name": "stderr",
     "output_type": "stream",
     "text": [
      "/tmp/ipykernel_29918/1944720916.py:4: SettingWithCopyWarning: \n",
      "A value is trying to be set on a copy of a slice from a DataFrame\n",
      "\n",
      "See the caveats in the documentation: https://pandas.pydata.org/pandas-docs/stable/user_guide/indexing.html#returning-a-view-versus-a-copy\n",
      "  cp['district'][index] = modify_arabic_display(cp['district'][index])\n"
     ]
    }
   ],
   "source": [
    "if cp['district'][0] =='حي النظيم':\n",
    "            for index, row in cp.iterrows():\n",
    "    \n",
    "                    cp['district'][index] = modify_arabic_display(cp['district'][index])\n",
    "        \n",
    "                    "
   ]
  },
  {
   "cell_type": "code",
   "execution_count": 409,
   "metadata": {},
   "outputs": [
    {
     "data": {
      "text/plain": [
       "<seaborn.axisgrid.FacetGrid at 0x7fc95cda3a00>"
      ]
     },
     "execution_count": 409,
     "metadata": {},
     "output_type": "execute_result"
    },
    {
     "data": {
      "image/png": "[encoded data removed]",
      "text/plain": [
       "<Figure size 421.25x360 with 1 Axes>"
      ]
     },
     "metadata": {
      "needs_background": "light"
     },
     "output_type": "display_data"
    }
   ],
   "source": [
    "ax = sns.catplot(x=\"district\", hue=\"hasSold\", kind=\"count\", data=cp ,  order=df.district.value_counts().iloc[:10].index)\n",
    "ax.set_xticklabels(rotation = 60)"
   ]
  },
  {
   "cell_type": "code",
   "execution_count": 418,
   "metadata": {},
   "outputs": [
    {
     "data": {
      "text/plain": [
       "0       False\n",
       "1        True\n",
       "2        True\n",
       "3       False\n",
       "4       False\n",
       "        ...  \n",
       "6757    False\n",
       "6758    False\n",
       "6759    False\n",
       "6760    False\n",
       "6761    False\n",
       "Name: hasSold, Length: 6762, dtype: bool"
      ]
     },
     "execution_count": 418,
     "metadata": {},
     "output_type": "execute_result"
    }
   ],
   "source": [
    "cp['hasSold']"
   ]
  },
  {
   "cell_type": "code",
   "execution_count": 421,
   "metadata": {},
   "outputs": [],
   "source": [
    "cp1 = cp.groupby(['district' , 'hasSold']).size().reset_index(name = 'total')"
   ]
  },
  {
   "cell_type": "code",
   "execution_count": 434,
   "metadata": {},
   "outputs": [
    {
     "data": {
      "text/plain": [
       "False"
      ]
     },
     "execution_count": 434,
     "metadata": {},
     "output_type": "execute_result"
    }
   ],
   "source": [
    "cp1.loc[0]['hasSold']"
   ]
  },
  {
   "cell_type": "code",
   "execution_count": 433,
   "metadata": {},
   "outputs": [],
   "source": [
    "first = cp1.loc[0]['total']"
   ]
  },
  {
   "cell_type": "code",
   "execution_count": 450,
   "metadata": {},
   "outputs": [
    {
     "data": {
      "text/html": [
       "<div>\n",
       "<style scoped>\n",
       "    .dataframe tbody tr th:only-of-type {\n",
       "        vertical-align: middle;\n",
       "    }\n",
       "\n",
       "    .dataframe tbody tr th {\n",
       "        vertical-align: top;\n",
       "    }\n",
       "\n",
       "    .dataframe thead th {\n",
       "        text-align: right;\n",
       "    }\n",
       "</style>\n",
       "<table border=\"1\" class=\"dataframe\">\n",
       "  <thead>\n",
       "    <tr style=\"text-align: right;\">\n",
       "      <th></th>\n",
       "      <th>district</th>\n",
       "      <th>total</th>\n",
       "      <th>hasSold</th>\n",
       "    </tr>\n",
       "  </thead>\n",
       "  <tbody>\n",
       "  </tbody>\n",
       "</table>\n",
       "</div>"
      ],
      "text/plain": [
       "Empty DataFrame\n",
       "Columns: [district, total, hasSold]\n",
       "Index: []"
      ]
     },
     "execution_count": 450,
     "metadata": {},
     "output_type": "execute_result"
    }
   ],
   "source": [
    "cp2 = pd.DataFrame()\n",
    "cp2['district'] = False\n",
    "cp2['total'] = False\n",
    "cp2['hasSold'] = False\n",
    "cp2\n"
   ]
  },
  {
   "cell_type": "code",
   "execution_count": 454,
   "metadata": {},
   "outputs": [
    {
     "data": {
      "text/plain": [
       "0        7\n",
       "1        1\n",
       "2      178\n",
       "3       57\n",
       "4        5\n",
       "      ... \n",
       "221      3\n",
       "222      3\n",
       "223      2\n",
       "224      2\n",
       "225      1\n",
       "Name: total, Length: 226, dtype: int64"
      ]
     },
     "execution_count": 454,
     "metadata": {},
     "output_type": "execute_result"
    }
   ],
   "source": [
    "cp1['total']"
   ]
  },
  {
   "cell_type": "code",
   "execution_count": 470,
   "metadata": {},
   "outputs": [
    {
     "name": "stdout",
     "output_type": "stream",
     "text": [
      "7\n",
      "1\n",
      "178\n",
      "57\n",
      "5\n",
      "1\n",
      "2\n",
      "1\n",
      "19\n",
      "12\n",
      "1\n",
      "3\n",
      "5\n",
      "10\n",
      "6\n",
      "3\n",
      "2\n",
      "15\n",
      "8\n",
      "20\n",
      "23\n",
      "6\n",
      "1\n",
      "2\n",
      "94\n",
      "30\n",
      "17\n",
      "6\n",
      "3\n",
      "3\n",
      "1\n",
      "2\n",
      "5\n",
      "6\n",
      "3\n",
      "71\n",
      "37\n",
      "3\n",
      "1\n",
      "1\n",
      "88\n",
      "70\n",
      "9\n",
      "7\n",
      "25\n",
      "6\n",
      "28\n",
      "2\n",
      "3\n",
      "7\n",
      "7\n",
      "16\n",
      "12\n",
      "4\n",
      "23\n",
      "6\n",
      "9\n",
      "7\n",
      "4\n",
      "3\n",
      "13\n",
      "3\n",
      "2\n",
      "17\n",
      "9\n",
      "2\n",
      "2\n",
      "7\n",
      "112\n",
      "40\n",
      "74\n",
      "29\n",
      "1\n",
      "4\n",
      "4\n",
      "407\n",
      "207\n",
      "9\n",
      "6\n",
      "3\n",
      "3\n",
      "1\n",
      "4\n",
      "144\n",
      "36\n",
      "34\n",
      "6\n",
      "3\n",
      "6\n",
      "15\n",
      "6\n",
      "1\n",
      "2\n",
      "12\n",
      "5\n",
      "1\n",
      "10\n",
      "6\n",
      "11\n",
      "15\n",
      "25\n",
      "8\n",
      "174\n",
      "62\n",
      "2\n",
      "2\n",
      "2\n",
      "5\n",
      "3\n",
      "1\n",
      "54\n",
      "27\n",
      "4\n",
      "1\n",
      "1\n",
      "15\n",
      "7\n",
      "7\n",
      "1\n",
      "29\n",
      "15\n",
      "449\n",
      "126\n",
      "11\n",
      "3\n",
      "1\n",
      "3\n",
      "65\n",
      "11\n",
      "2\n",
      "1\n",
      "7\n",
      "1\n",
      "64\n",
      "24\n",
      "173\n",
      "94\n",
      "16\n",
      "5\n",
      "55\n",
      "13\n",
      "598\n",
      "212\n",
      "23\n",
      "6\n",
      "8\n",
      "11\n",
      "14\n",
      "2\n",
      "8\n",
      "56\n",
      "17\n",
      "2\n",
      "44\n",
      "16\n",
      "4\n",
      "50\n",
      "26\n",
      "8\n",
      "3\n",
      "23\n",
      "6\n",
      "1\n",
      "238\n",
      "98\n",
      "335\n",
      "110\n",
      "8\n",
      "2\n",
      "8\n",
      "4\n",
      "15\n",
      "4\n",
      "4\n",
      "1\n",
      "58\n",
      "13\n",
      "18\n",
      "13\n",
      "21\n",
      "12\n",
      "10\n",
      "1\n",
      "2\n",
      "1\n",
      "1\n",
      "2\n",
      "64\n",
      "22\n",
      "1\n",
      "1\n",
      "1\n",
      "5\n",
      "2\n",
      "5\n",
      "1\n",
      "1\n",
      "43\n",
      "47\n",
      "4\n",
      "3\n",
      "69\n",
      "46\n",
      "13\n",
      "11\n",
      "6\n",
      "3\n",
      "44\n",
      "8\n",
      "13\n",
      "12\n",
      "2\n",
      "8\n",
      "3\n",
      "91\n",
      "24\n",
      "129\n",
      "90\n",
      "5\n",
      "4\n",
      "5\n",
      "3\n",
      "3\n",
      "2\n",
      "2\n",
      "1\n"
     ]
    }
   ],
   "source": [
    "for index, row in cp1.iterrows():\n",
    "    print(row['total'])"
   ]
  },
  {
   "cell_type": "code",
   "execution_count": 493,
   "metadata": {},
   "outputs": [],
   "source": [
    "first = cp1['total'][0]"
   ]
  },
  {
   "cell_type": "code",
   "execution_count": 492,
   "metadata": {},
   "outputs": [
    {
     "ename": "ValueError",
     "evalue": "",
     "output_type": "error",
     "traceback": [
      "\u001b[0;31m---------------------------------------------------------------------------\u001b[0m",
      "\u001b[0;31mKeyError\u001b[0m                                  Traceback (most recent call last)",
      "File \u001b[0;32m/opt/conda/lib/python3.9/site-packages/pandas/core/indexes/base.py:3621\u001b[0m, in \u001b[0;36mIndex.get_loc\u001b[0;34m(self, key, method, tolerance)\u001b[0m\n\u001b[1;32m   3620\u001b[0m \u001b[39mtry\u001b[39;00m:\n\u001b[0;32m-> 3621\u001b[0m     \u001b[39mreturn\u001b[39;00m \u001b[39mself\u001b[39;49m\u001b[39m.\u001b[39;49m_engine\u001b[39m.\u001b[39;49mget_loc(casted_key)\n\u001b[1;32m   3622\u001b[0m \u001b[39mexcept\u001b[39;00m \u001b[39mKeyError\u001b[39;00m \u001b[39mas\u001b[39;00m err:\n",
      "File \u001b[0;32m/opt/conda/lib/python3.9/site-packages/pandas/_libs/index.pyx:136\u001b[0m, in \u001b[0;36mpandas._libs.index.IndexEngine.get_loc\u001b[0;34m()\u001b[0m\n",
      "File \u001b[0;32m/opt/conda/lib/python3.9/site-packages/pandas/_libs/index.pyx:163\u001b[0m, in \u001b[0;36mpandas._libs.index.IndexEngine.get_loc\u001b[0;34m()\u001b[0m\n",
      "File \u001b[0;32mpandas/_libs/hashtable_class_helper.pxi:5198\u001b[0m, in \u001b[0;36mpandas._libs.hashtable.PyObjectHashTable.get_item\u001b[0;34m()\u001b[0m\n",
      "File \u001b[0;32mpandas/_libs/hashtable_class_helper.pxi:5206\u001b[0m, in \u001b[0;36mpandas._libs.hashtable.PyObjectHashTable.get_item\u001b[0;34m()\u001b[0m\n",
      "\u001b[0;31mKeyError\u001b[0m: 0",
      "\nThe above exception was the direct cause of the following exception:\n",
      "\u001b[0;31mKeyError\u001b[0m                                  Traceback (most recent call last)",
      "File \u001b[0;32m/opt/conda/lib/python3.9/site-packages/pandas/core/series.py:1085\u001b[0m, in \u001b[0;36mSeries.__setitem__\u001b[0;34m(self, key, value)\u001b[0m\n\u001b[1;32m   1084\u001b[0m \u001b[39mtry\u001b[39;00m:\n\u001b[0;32m-> 1085\u001b[0m     \u001b[39mself\u001b[39;49m\u001b[39m.\u001b[39;49m_set_with_engine(key, value)\n\u001b[1;32m   1086\u001b[0m \u001b[39mexcept\u001b[39;00m (\u001b[39mKeyError\u001b[39;00m, \u001b[39mValueError\u001b[39;00m):\n",
      "File \u001b[0;32m/opt/conda/lib/python3.9/site-packages/pandas/core/series.py:1146\u001b[0m, in \u001b[0;36mSeries._set_with_engine\u001b[0;34m(self, key, value)\u001b[0m\n\u001b[1;32m   1145\u001b[0m \u001b[39mdef\u001b[39;00m \u001b[39m_set_with_engine\u001b[39m(\u001b[39mself\u001b[39m, key, value) \u001b[39m-\u001b[39m\u001b[39m>\u001b[39m \u001b[39mNone\u001b[39;00m:\n\u001b[0;32m-> 1146\u001b[0m     loc \u001b[39m=\u001b[39m \u001b[39mself\u001b[39;49m\u001b[39m.\u001b[39;49mindex\u001b[39m.\u001b[39;49mget_loc(key)\n\u001b[1;32m   1148\u001b[0m     \u001b[39m# this is equivalent to self._values[key] = value\u001b[39;00m\n",
      "File \u001b[0;32m/opt/conda/lib/python3.9/site-packages/pandas/core/indexes/base.py:3623\u001b[0m, in \u001b[0;36mIndex.get_loc\u001b[0;34m(self, key, method, tolerance)\u001b[0m\n\u001b[1;32m   3622\u001b[0m \u001b[39mexcept\u001b[39;00m \u001b[39mKeyError\u001b[39;00m \u001b[39mas\u001b[39;00m err:\n\u001b[0;32m-> 3623\u001b[0m     \u001b[39mraise\u001b[39;00m \u001b[39mKeyError\u001b[39;00m(key) \u001b[39mfrom\u001b[39;00m \u001b[39merr\u001b[39;00m\n\u001b[1;32m   3624\u001b[0m \u001b[39mexcept\u001b[39;00m \u001b[39mTypeError\u001b[39;00m:\n\u001b[1;32m   3625\u001b[0m     \u001b[39m# If we have a listlike key, _check_indexing_error will raise\u001b[39;00m\n\u001b[1;32m   3626\u001b[0m     \u001b[39m#  InvalidIndexError. Otherwise we fall through and re-raise\u001b[39;00m\n\u001b[1;32m   3627\u001b[0m     \u001b[39m#  the TypeError.\u001b[39;00m\n",
      "\u001b[0;31mKeyError\u001b[0m: 0",
      "\nDuring handling of the above exception, another exception occurred:\n",
      "\u001b[0;31mValueError\u001b[0m                                Traceback (most recent call last)",
      "\u001b[1;32m/workspaces/projects/src/EDAdraft.ipynb Cell 70\u001b[0m in \u001b[0;36m<cell line: 3>\u001b[0;34m()\u001b[0m\n\u001b[1;32m     <a href='vscode-notebook-cell://dev-container%2B633a5c55736572735c646776616666616661655c70726f6a65637473/workspaces/projects/src/EDAdraft.ipynb#ch0000093vscode-remote?line=9'>10</a>\u001b[0m \u001b[39melse\u001b[39;00m:\n\u001b[1;32m     <a href='vscode-notebook-cell://dev-container%2B633a5c55736572735c646776616666616661655c70726f6a65637473/workspaces/projects/src/EDAdraft.ipynb#ch0000093vscode-remote?line=10'>11</a>\u001b[0m     \u001b[39mif\u001b[39;00m (row[\u001b[39m'\u001b[39m\u001b[39mtotal\u001b[39m\u001b[39m'\u001b[39m] \u001b[39m>\u001b[39m first):\n\u001b[0;32m---> <a href='vscode-notebook-cell://dev-container%2B633a5c55736572735c646776616666616661655c70726f6a65637473/workspaces/projects/src/EDAdraft.ipynb#ch0000093vscode-remote?line=11'>12</a>\u001b[0m         cp2[\u001b[39m'\u001b[39m\u001b[39mdistrict\u001b[39m\u001b[39m'\u001b[39m][i] \u001b[39m=\u001b[39m row[\u001b[39m'\u001b[39m\u001b[39mdistrict\u001b[39m\u001b[39m'\u001b[39m]\n\u001b[1;32m     <a href='vscode-notebook-cell://dev-container%2B633a5c55736572735c646776616666616661655c70726f6a65637473/workspaces/projects/src/EDAdraft.ipynb#ch0000093vscode-remote?line=12'>13</a>\u001b[0m         cp2[\u001b[39m'\u001b[39m\u001b[39mtotal\u001b[39m\u001b[39m'\u001b[39m][i] \u001b[39m=\u001b[39m row[\u001b[39m'\u001b[39m\u001b[39mtotal\u001b[39m\u001b[39m'\u001b[39m]\n\u001b[1;32m     <a href='vscode-notebook-cell://dev-container%2B633a5c55736572735c646776616666616661655c70726f6a65637473/workspaces/projects/src/EDAdraft.ipynb#ch0000093vscode-remote?line=13'>14</a>\u001b[0m         cp2[\u001b[39m'\u001b[39m\u001b[39mhasSold\u001b[39m\u001b[39m'\u001b[39m][i] \u001b[39m=\u001b[39m row[\u001b[39m'\u001b[39m\u001b[39mhasSold\u001b[39m\u001b[39m'\u001b[39m]\n",
      "File \u001b[0;32m/opt/conda/lib/python3.9/site-packages/pandas/core/series.py:1101\u001b[0m, in \u001b[0;36mSeries.__setitem__\u001b[0;34m(self, key, value)\u001b[0m\n\u001b[1;32m   1091\u001b[0m         warnings\u001b[39m.\u001b[39mwarn(\n\u001b[1;32m   1092\u001b[0m             \u001b[39m\"\u001b[39m\u001b[39mTreating integers as positional in Series.__setitem__ \u001b[39m\u001b[39m\"\u001b[39m\n\u001b[1;32m   1093\u001b[0m             \u001b[39m\"\u001b[39m\u001b[39mwith a Float64Index is deprecated. In a future version, \u001b[39m\u001b[39m\"\u001b[39m\n\u001b[0;32m   (...)\u001b[0m\n\u001b[1;32m   1098\u001b[0m             stacklevel\u001b[39m=\u001b[39mfind_stack_level(),\n\u001b[1;32m   1099\u001b[0m         )\n\u001b[1;32m   1100\u001b[0m     \u001b[39m# this is equivalent to self._values[key] = value\u001b[39;00m\n\u001b[0;32m-> 1101\u001b[0m     \u001b[39mself\u001b[39;49m\u001b[39m.\u001b[39;49m_mgr\u001b[39m.\u001b[39;49msetitem_inplace(key, value)\n\u001b[1;32m   1102\u001b[0m \u001b[39melse\u001b[39;00m:\n\u001b[1;32m   1103\u001b[0m     \u001b[39m# GH#12862 adding a new key to the Series\u001b[39;00m\n\u001b[1;32m   1104\u001b[0m     \u001b[39mself\u001b[39m\u001b[39m.\u001b[39mloc[key] \u001b[39m=\u001b[39m value\n",
      "File \u001b[0;32m/opt/conda/lib/python3.9/site-packages/pandas/core/internals/base.py:188\u001b[0m, in \u001b[0;36mSingleDataManager.setitem_inplace\u001b[0;34m(self, indexer, value)\u001b[0m\n\u001b[1;32m    184\u001b[0m \u001b[39m# EAs will do this validation in their own __setitem__ methods.\u001b[39;00m\n\u001b[1;32m    185\u001b[0m \u001b[39mif\u001b[39;00m \u001b[39misinstance\u001b[39m(arr, np\u001b[39m.\u001b[39mndarray):\n\u001b[1;32m    186\u001b[0m     \u001b[39m# Note: checking for ndarray instead of np.dtype means we exclude\u001b[39;00m\n\u001b[1;32m    187\u001b[0m     \u001b[39m#  dt64/td64, which do their own validation.\u001b[39;00m\n\u001b[0;32m--> 188\u001b[0m     value \u001b[39m=\u001b[39m np_can_hold_element(arr\u001b[39m.\u001b[39;49mdtype, value)\n\u001b[1;32m    190\u001b[0m arr[indexer] \u001b[39m=\u001b[39m value\n",
      "File \u001b[0;32m/opt/conda/lib/python3.9/site-packages/pandas/core/dtypes/cast.py:2292\u001b[0m, in \u001b[0;36mnp_can_hold_element\u001b[0;34m(dtype, element)\u001b[0m\n\u001b[1;32m   2290\u001b[0m     \u001b[39mif\u001b[39;00m lib\u001b[39m.\u001b[39mis_bool(element):\n\u001b[1;32m   2291\u001b[0m         \u001b[39mreturn\u001b[39;00m element\n\u001b[0;32m-> 2292\u001b[0m     \u001b[39mraise\u001b[39;00m \u001b[39mValueError\u001b[39;00m\n\u001b[1;32m   2294\u001b[0m \u001b[39melif\u001b[39;00m dtype\u001b[39m.\u001b[39mkind \u001b[39m==\u001b[39m \u001b[39m\"\u001b[39m\u001b[39mS\u001b[39m\u001b[39m\"\u001b[39m:\n\u001b[1;32m   2295\u001b[0m     \u001b[39m# TODO: test tests.frame.methods.test_replace tests get here,\u001b[39;00m\n\u001b[1;32m   2296\u001b[0m     \u001b[39m#  need more targeted tests.  xref phofl has a PR about this\u001b[39;00m\n\u001b[1;32m   2297\u001b[0m     \u001b[39mif\u001b[39;00m tipo \u001b[39mis\u001b[39;00m \u001b[39mnot\u001b[39;00m \u001b[39mNone\u001b[39;00m:\n",
      "\u001b[0;31mValueError\u001b[0m: "
     ]
    }
   ],
   "source": [
    "i = 0 \n",
    "first = cp1['total'][0]\n",
    "for index, row in cp1.iterrows():\n",
    "    \n",
    "    t=3\n",
    "    t+=1\n",
    "    if ((index == 0) or (index % 2 == 0)) :\n",
    "        first  = row['total'] \n",
    "        \n",
    "    else:\n",
    "        if (row['total'] > first):\n",
    "            cp2['district'][i] = row['district']\n",
    "            cp2['total'][i] = row['total']\n",
    "            cp2['hasSold'][i] = row['hasSold']\n",
    "            i+=1\n",
    "        else:\n",
    "           t=1"
   ]
  },
  {
   "cell_type": "code",
   "execution_count": 490,
   "metadata": {},
   "outputs": [
    {
     "data": {
      "text/plain": [
       "1"
      ]
     },
     "execution_count": 490,
     "metadata": {},
     "output_type": "execute_result"
    }
   ],
   "source": [
    "t"
   ]
  },
  {
   "cell_type": "code",
   "execution_count": null,
   "metadata": {},
   "outputs": [
    {
     "ename": "TypeError",
     "evalue": "unhashable type: 'list'",
     "output_type": "error",
     "traceback": [
      "\u001b[0;31m---------------------------------------------------------------------------\u001b[0m",
      "\u001b[0;31mTypeError\u001b[0m                                 Traceback (most recent call last)",
      "\u001b[1;32m/workspaces/projects/src/EDAdraft.ipynb Cell 69\u001b[0m in \u001b[0;36m<cell line: 1>\u001b[0;34m()\u001b[0m\n\u001b[0;32m----> <a href='vscode-notebook-cell://dev-container%2B633a5c55736572735c646776616666616661655c70726f6a65637473/workspaces/projects/src/EDAdraft.ipynb#ch0000090vscode-remote?line=0'>1</a>\u001b[0m cp1[cp1\u001b[39m.\u001b[39;49mdistrict\u001b[39m.\u001b[39;49mstr\u001b[39m.\u001b[39;49mcontains(cp2) \u001b[39m==\u001b[39m \u001b[39mTrue\u001b[39;00m]\n",
      "File \u001b[0;32m/opt/conda/lib/python3.9/site-packages/pandas/core/strings/accessor.py:125\u001b[0m, in \u001b[0;36mforbid_nonstring_types.<locals>._forbid_nonstring_types.<locals>.wrapper\u001b[0;34m(self, *args, **kwargs)\u001b[0m\n\u001b[1;32m    120\u001b[0m     msg \u001b[39m=\u001b[39m (\n\u001b[1;32m    121\u001b[0m         \u001b[39mf\u001b[39m\u001b[39m\"\u001b[39m\u001b[39mCannot use .str.\u001b[39m\u001b[39m{\u001b[39;00mfunc_name\u001b[39m}\u001b[39;00m\u001b[39m with values of \u001b[39m\u001b[39m\"\u001b[39m\n\u001b[1;32m    122\u001b[0m         \u001b[39mf\u001b[39m\u001b[39m\"\u001b[39m\u001b[39minferred dtype \u001b[39m\u001b[39m'\u001b[39m\u001b[39m{\u001b[39;00m\u001b[39mself\u001b[39m\u001b[39m.\u001b[39m_inferred_dtype\u001b[39m}\u001b[39;00m\u001b[39m'\u001b[39m\u001b[39m.\u001b[39m\u001b[39m\"\u001b[39m\n\u001b[1;32m    123\u001b[0m     )\n\u001b[1;32m    124\u001b[0m     \u001b[39mraise\u001b[39;00m \u001b[39mTypeError\u001b[39;00m(msg)\n\u001b[0;32m--> 125\u001b[0m \u001b[39mreturn\u001b[39;00m func(\u001b[39mself\u001b[39;49m, \u001b[39m*\u001b[39;49margs, \u001b[39m*\u001b[39;49m\u001b[39m*\u001b[39;49mkwargs)\n",
      "File \u001b[0;32m/opt/conda/lib/python3.9/site-packages/pandas/core/strings/accessor.py:1214\u001b[0m, in \u001b[0;36mStringMethods.contains\u001b[0;34m(self, pat, case, flags, na, regex)\u001b[0m\n\u001b[1;32m   1089\u001b[0m \u001b[39m@forbid_nonstring_types\u001b[39m([\u001b[39m\"\u001b[39m\u001b[39mbytes\u001b[39m\u001b[39m\"\u001b[39m])\n\u001b[1;32m   1090\u001b[0m \u001b[39mdef\u001b[39;00m \u001b[39mcontains\u001b[39m(\u001b[39mself\u001b[39m, pat, case\u001b[39m=\u001b[39m\u001b[39mTrue\u001b[39;00m, flags\u001b[39m=\u001b[39m\u001b[39m0\u001b[39m, na\u001b[39m=\u001b[39m\u001b[39mNone\u001b[39;00m, regex\u001b[39m=\u001b[39m\u001b[39mTrue\u001b[39;00m):\n\u001b[1;32m   1091\u001b[0m     \u001b[39mr\u001b[39m\u001b[39m\"\"\"\u001b[39;00m\n\u001b[1;32m   1092\u001b[0m \u001b[39m    Test if pattern or regex is contained within a string of a Series or Index.\u001b[39;00m\n\u001b[1;32m   1093\u001b[0m \n\u001b[0;32m   (...)\u001b[0m\n\u001b[1;32m   1212\u001b[0m \u001b[39m    dtype: bool\u001b[39;00m\n\u001b[1;32m   1213\u001b[0m \u001b[39m    \"\"\"\u001b[39;00m\n\u001b[0;32m-> 1214\u001b[0m     \u001b[39mif\u001b[39;00m regex \u001b[39mand\u001b[39;00m re\u001b[39m.\u001b[39;49mcompile(pat)\u001b[39m.\u001b[39mgroups:\n\u001b[1;32m   1215\u001b[0m         warnings\u001b[39m.\u001b[39mwarn(\n\u001b[1;32m   1216\u001b[0m             \u001b[39m\"\u001b[39m\u001b[39mThis pattern is interpreted as a regular expression, and has \u001b[39m\u001b[39m\"\u001b[39m\n\u001b[1;32m   1217\u001b[0m             \u001b[39m\"\u001b[39m\u001b[39mmatch groups. To actually get the groups, use str.extract.\u001b[39m\u001b[39m\"\u001b[39m,\n\u001b[1;32m   1218\u001b[0m             \u001b[39mUserWarning\u001b[39;00m,\n\u001b[1;32m   1219\u001b[0m             stacklevel\u001b[39m=\u001b[39mfind_stack_level(),\n\u001b[1;32m   1220\u001b[0m         )\n\u001b[1;32m   1222\u001b[0m     result \u001b[39m=\u001b[39m \u001b[39mself\u001b[39m\u001b[39m.\u001b[39m_data\u001b[39m.\u001b[39marray\u001b[39m.\u001b[39m_str_contains(pat, case, flags, na, regex)\n",
      "File \u001b[0;32m/opt/conda/lib/python3.9/re.py:252\u001b[0m, in \u001b[0;36mcompile\u001b[0;34m(pattern, flags)\u001b[0m\n\u001b[1;32m    250\u001b[0m \u001b[39mdef\u001b[39;00m \u001b[39mcompile\u001b[39m(pattern, flags\u001b[39m=\u001b[39m\u001b[39m0\u001b[39m):\n\u001b[1;32m    251\u001b[0m     \u001b[39m\"\u001b[39m\u001b[39mCompile a regular expression pattern, returning a Pattern object.\u001b[39m\u001b[39m\"\u001b[39m\n\u001b[0;32m--> 252\u001b[0m     \u001b[39mreturn\u001b[39;00m _compile(pattern, flags)\n",
      "File \u001b[0;32m/opt/conda/lib/python3.9/re.py:294\u001b[0m, in \u001b[0;36m_compile\u001b[0;34m(pattern, flags)\u001b[0m\n\u001b[1;32m    292\u001b[0m     flags \u001b[39m=\u001b[39m flags\u001b[39m.\u001b[39mvalue\n\u001b[1;32m    293\u001b[0m \u001b[39mtry\u001b[39;00m:\n\u001b[0;32m--> 294\u001b[0m     \u001b[39mreturn\u001b[39;00m _cache[\u001b[39mtype\u001b[39;49m(pattern), pattern, flags]\n\u001b[1;32m    295\u001b[0m \u001b[39mexcept\u001b[39;00m \u001b[39mKeyError\u001b[39;00m:\n\u001b[1;32m    296\u001b[0m     \u001b[39mpass\u001b[39;00m\n",
      "\u001b[0;31mTypeError\u001b[0m: unhashable type: 'list'"
     ]
    }
   ],
   "source": [
    "cp1[cp1.district.str.contains(cp2) == True]\n"
   ]
  },
  {
   "cell_type": "code",
   "execution_count": null,
   "metadata": {},
   "outputs": [
    {
     "data": {
      "text/plain": [
       "0        ﺣﻲ ﺍﻟﻨﻈﻴﻢ\n",
       "1       ﺣﻲ ﺍﻟﻔﻴﺤﺎﺀ\n",
       "2        ﺣﻲ ﺍﻟﺮﻣﺎﻝ\n",
       "3        ﺣﻲ ﺍﻟﻌﻘﻴﻖ\n",
       "4       ﺣﻲ ﺍﻟﺘﻌﺎﻭﻥ\n",
       "           ...    \n",
       "6757     ﺣﻲ ﺍﻟﻨﺮﺟﺲ\n",
       "6758      ﺣﻲ ﻏﺒﻴﺮﺓ\n",
       "6759    ﺣﻲ ﺍﻟﻴﺮﻣﻮﻙ\n",
       "6760     ﺣﻲ ﺍﻟﻨﺮﺟﺲ\n",
       "6761     ﺣﻲ ﺍﻟﻨﺮﺟﺲ\n",
       "Name: district, Length: 6762, dtype: object"
      ]
     },
     "execution_count": 460,
     "metadata": {},
     "output_type": "execute_result"
    }
   ],
   "source": [
    "df['district']"
   ]
  },
  {
   "cell_type": "code",
   "execution_count": null,
   "metadata": {},
   "outputs": [
    {
     "name": "stderr",
     "output_type": "stream",
     "text": [
      "/tmp/ipykernel_29918/1018757218.py:3: SettingWithCopyWarning: \n",
      "A value is trying to be set on a copy of a slice from a DataFrame\n",
      "\n",
      "See the caveats in the documentation: https://pandas.pydata.org/pandas-docs/stable/user_guide/indexing.html#returning-a-view-versus-a-copy\n",
      "  df['district'][index] = modify_arabic_display(df['district'][index])\n"
     ]
    }
   ],
   "source": [
    "            for index, row in df.iterrows():\n",
    "    \n",
    "                    df['district'][index] = modify_arabic_display(df['district'][index])"
   ]
  }
 ],
 "metadata": {
  "kernelspec": {
   "display_name": "Python 3.9.7 ('base')",
   "language": "python",
   "name": "python3"
  },
  "language_info": {
   "codemirror_mode": {
    "name": "ipython",
    "version": 3
   },
   "file_extension": ".py",
   "mimetype": "text/x-python",
   "name": "python",
   "nbconvert_exporter": "python",
   "pygments_lexer": "ipython3",
   "version": "3.9.12"
  },
  "orig_nbformat": 4,
  "vscode": {
   "interpreter": {
    "hash": "d4d1e4263499bec80672ea0156c357c1ee493ec2b1c70f0acce89fc37c4a6abe"
   }
  }
 },
 "nbformat": 4,
 "nbformat_minor": 2
}

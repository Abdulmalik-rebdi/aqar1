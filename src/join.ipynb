{
 "cells": [
  {
   "cell_type": "markdown",
   "metadata": {},
   "source": [
    "# After the cleaning in cleaning file i will join the files togither"
   ]
  },
  {
   "cell_type": "markdown",
   "metadata": {},
   "source": [
    "0   &emsp; 5059 <br>\n",
    "2    &emsp; 394<br>\n",
    "4    &emsp; 350<br>\n",
    "1    &emsp; 282<br>\n",
    "5   &emsp;  261<br>\n",
    "3  &emsp;   184<br>\n",
    "6   &emsp;  117<br>\n",
    "7   &emsp;  115<br>\n",
    "<br>\n",
    "each day indicate how many apartment sold 0 means not sold <br>\n",
    "1 means sold in day 7/8/2022<br>\n",
    "2 means sold in day 8/8/2022 <br>\n",
    "...         ...     ...<br>\n",
    "7 means sold in day 12/8/2022<br>\n",
    "<br>\n",
    "i would like to say that i have the data in 1st , 2nd and 3rd of this month but i don't have the data in the 4th and 5th of this month so i started in the 6th \n",
    "<br>\n",
    "1/8  i have <br>\n",
    "2/8  i have <br>\n",
    "3/8  i have <br>\n",
    "4/8  i don't have <br>\n",
    "5/8  i don't have <br>\n",
    "6/8  i have <br>\n",
    "7/8  i have <br>\n",
    "8/8  i have <br>\n",
    "9/8  i have <br>\n",
    "10/8 i have <br>\n",
    "11/8 i have <br>\n",
    "12/8 i have  <br>\n",
    "13/8 i have  <br>\n",
    "..."
   ]
  },
  {
   "cell_type": "code",
   "execution_count": 1,
   "metadata": {},
   "outputs": [],
   "source": [
    "import pandas as pd\n",
    "import numpy as np\n",
    "import math\n",
    "from sklearn.model_selection import train_test_split\n",
    "from sklearn.compose import TransformedTargetRegressor\n",
    "from sklearn.compose import ColumnTransformer\n",
    "from sklearn.compose import make_column_selector as selector\n",
    "from sklearn.preprocessing import PowerTransformer\n",
    "from sklearn.preprocessing import StandardScaler\n",
    "from sklearn.preprocessing import OneHotEncoder\n",
    "from sklearn.preprocessing import LabelEncoder\n",
    "from sklearn.impute import SimpleImputer\n",
    "from sklearn.impute import KNNImputer\n",
    "from sklearn.feature_selection import VarianceThreshold\n",
    "from sklearn.decomposition import PCA\n",
    "import datetime\n",
    "from datetime import timedelta\n",
    "import ast\n",
    "import json    \n",
    "import missingno as msno"
   ]
  },
  {
   "cell_type": "code",
   "execution_count": 2,
   "metadata": {},
   "outputs": [],
   "source": [
    "yest =pd.read_csv('../data/3-8-2022.csv') # the main which is 6-8-2022 but for the sake of the example i put 3-8 \n",
    "Today =  pd.read_csv('../data/23-8-2022.csv') #the new day file this is just EX i stopped at 21-8-2022"
   ]
  },
  {
   "cell_type": "code",
   "execution_count": 3,
   "metadata": {},
   "outputs": [
    {
     "data": {
      "text/plain": [
       "Index(['user_id', 'id', 'title', 'price', 'content', 'imgs', 'refresh', 'beds',\n",
       "       'livings', 'wc', 'area', 'street_width', 'age', 'last_update',\n",
       "       'ketchen', 'ac', 'furnished', 'location', 'path', 'district', 'width',\n",
       "       'length', 'advertiser_type', 'create_time', 'review', 'profileImg',\n",
       "       'UserName', 'iam_verified'],\n",
       "      dtype='object')"
      ]
     },
     "execution_count": 3,
     "metadata": {},
     "output_type": "execute_result"
    }
   ],
   "source": [
    "Today.columns"
   ]
  },
  {
   "cell_type": "code",
   "execution_count": 4,
   "metadata": {},
   "outputs": [],
   "source": [
    "# yest.DayOfRent.value_counts()"
   ]
  },
  {
   "cell_type": "markdown",
   "metadata": {},
   "source": [
    "manually i had to choose the day this day indicate at which day the apratment was rented \n",
    "\n",
    "1 means one day after i started web scraping 2 means the two days after i started ... i stopped at 15 (from 6th till 21st)"
   ]
  },
  {
   "cell_type": "code",
   "execution_count": 5,
   "metadata": {},
   "outputs": [],
   "source": [
    "day = 1 #this the day of the file from the 6th"
   ]
  },
  {
   "cell_type": "markdown",
   "metadata": {},
   "source": [
    "### create new column that is called DayOfRent zero indicate it's on market and any other number indicate at which day it was rented"
   ]
  },
  {
   "cell_type": "code",
   "execution_count": 6,
   "metadata": {},
   "outputs": [],
   "source": [
    "yest['DayOfRent'] = 0 #we used this for the first time only to create the column"
   ]
  },
  {
   "cell_type": "code",
   "execution_count": 7,
   "metadata": {},
   "outputs": [],
   "source": [
    "# yest[yest['DayOfRent'] == 0 ].shape"
   ]
  },
  {
   "cell_type": "markdown",
   "metadata": {},
   "source": [
    "# join "
   ]
  },
  {
   "cell_type": "code",
   "execution_count": 8,
   "metadata": {},
   "outputs": [],
   "source": [
    "df3 = yest.merge(Today, on='id', how='left', indicator=True) #left join that will contain the data in the main file and the data in both (in both means not sold yet)(right means pulish in after 6th)\n"
   ]
  },
  {
   "cell_type": "code",
   "execution_count": 9,
   "metadata": {},
   "outputs": [
    {
     "data": {
      "text/plain": [
       "left_only     3538\n",
       "both          3330\n",
       "right_only       0\n",
       "Name: _merge, dtype: int64"
      ]
     },
     "execution_count": 9,
     "metadata": {},
     "output_type": "execute_result"
    }
   ],
   "source": [
    "df3['_merge'].value_counts()"
   ]
  },
  {
   "cell_type": "markdown",
   "metadata": {},
   "source": [
    "### there are 3 possibilities \n",
    "\n",
    "1- both  : still on market \n",
    "\n",
    "2- left_only : it got off market \n",
    "\n",
    "3- right_only : new apartments but we chose left merge so we only going to have the left and the inner "
   ]
  },
  {
   "cell_type": "markdown",
   "metadata": {},
   "source": [
    "## chooe only left \n",
    "\n",
    "and we incluse only zero (ON market ) if we didn't put  `(df3['DayOfRent'] == 0 )` it will show the off market in previous days\n",
    "`"
   ]
  },
  {
   "cell_type": "code",
   "execution_count": 13,
   "metadata": {},
   "outputs": [],
   "source": [
    "df3 = df3.loc[(df3['_merge'] == 'left_only') & (df3['DayOfRent'] == 0 )] \n"
   ]
  },
  {
   "cell_type": "code",
   "execution_count": 14,
   "metadata": {},
   "outputs": [
    {
     "data": {
      "text/plain": [
       "33"
      ]
     },
     "execution_count": 14,
     "metadata": {},
     "output_type": "execute_result"
    }
   ],
   "source": [
    "df3.shape[1] "
   ]
  },
  {
   "cell_type": "markdown",
   "metadata": {},
   "source": [
    "after the merge we got double the amount  of feature remove the duplicates by :"
   ]
  },
  {
   "cell_type": "code",
   "execution_count": 15,
   "metadata": {},
   "outputs": [],
   "source": [
    "# this will filter if it is both(inner ) so now i have only the left and for df3['sold'] == 0 this becouse if ot is 1 then this mean i checked it bedore and it is sold in 1 \n",
    "df3.drop(df3.filter(regex='_y$').columns, axis=1, inplace=True) # delete the extra columns "
   ]
  },
  {
   "cell_type": "code",
   "execution_count": 16,
   "metadata": {},
   "outputs": [
    {
     "data": {
      "text/plain": [
       "(3538, 33)"
      ]
     },
     "execution_count": 16,
     "metadata": {},
     "output_type": "execute_result"
    }
   ],
   "source": [
    "df3.shape"
   ]
  },
  {
   "cell_type": "markdown",
   "metadata": {},
   "source": [
    "## these are the rented apartment from 3-8-2022 untill 8/23/2022 flag them with `day`"
   ]
  },
  {
   "cell_type": "code",
   "execution_count": 17,
   "metadata": {},
   "outputs": [],
   "source": [
    "df3['DayOfRent'] = day #this will fill all the data above with the day of it "
   ]
  },
  {
   "cell_type": "code",
   "execution_count": 18,
   "metadata": {},
   "outputs": [
    {
     "data": {
      "text/plain": [
       "1       1\n",
       "3       1\n",
       "4       1\n",
       "5       1\n",
       "7       1\n",
       "       ..\n",
       "6857    1\n",
       "6862    1\n",
       "6863    1\n",
       "6865    1\n",
       "6867    1\n",
       "Name: DayOfRent, Length: 3538, dtype: int64"
      ]
     },
     "execution_count": 18,
     "metadata": {},
     "output_type": "execute_result"
    }
   ],
   "source": [
    "df3['DayOfRent']"
   ]
  },
  {
   "cell_type": "markdown",
   "metadata": {},
   "source": [
    " #  fill the original data with day if it is equal "
   ]
  },
  {
   "cell_type": "code",
   "execution_count": 19,
   "metadata": {},
   "outputs": [],
   "source": [
    "for i in list(df3['id']) : \n",
    "    yest.loc[yest[\"id\"] == i, \"DayOfRent\"] = day #now we fill the original data with day\n"
   ]
  },
  {
   "cell_type": "code",
   "execution_count": 21,
   "metadata": {},
   "outputs": [
    {
     "data": {
      "text/plain": [
       "1    3538\n",
       "0    3330\n",
       "Name: DayOfRent, dtype: int64"
      ]
     },
     "execution_count": 21,
     "metadata": {},
     "output_type": "execute_result"
    }
   ],
   "source": [
    "yest['DayOfRent'].value_counts()"
   ]
  },
  {
   "cell_type": "code",
   "execution_count": 23,
   "metadata": {},
   "outputs": [],
   "source": [
    "yest.to_csv(f'../data/AQAR_TEST.csv' , index=False)"
   ]
  },
  {
   "cell_type": "markdown",
   "metadata": {},
   "source": [
    "# next timeBeforeRent"
   ]
  }
 ],
 "metadata": {
  "kernelspec": {
   "display_name": "Python 3.10.4 64-bit",
   "language": "python",
   "name": "python3"
  },
  "language_info": {
   "codemirror_mode": {
    "name": "ipython",
    "version": 3
   },
   "file_extension": ".py",
   "mimetype": "text/x-python",
   "name": "python",
   "nbconvert_exporter": "python",
   "pygments_lexer": "ipython3",
   "version": "3.10.4"
  },
  "orig_nbformat": 4,
  "vscode": {
   "interpreter": {
    "hash": "949777d72b0d2535278d3dc13498b2535136f6dfe0678499012e853ee9abcab1"
   }
  }
 },
 "nbformat": 4,
 "nbformat_minor": 2
}

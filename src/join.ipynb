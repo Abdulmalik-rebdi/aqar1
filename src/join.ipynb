{
 "cells": [
  {
   "cell_type": "markdown",
   "metadata": {},
   "source": [
    "0   &emsp; 5059 <br>\n",
    "2    &emsp; 394<br>\n",
    "4    &emsp; 350<br>\n",
    "1    &emsp; 282<br>\n",
    "5   &emsp;  261<br>\n",
    "3  &emsp;   184<br>\n",
    "6   &emsp;  117<br>\n",
    "7   &emsp;  115<br>\n",
    "<br>\n",
    "each day indicate how many apartment sold 0 means not sold <br>\n",
    "1 means sold in day 7/8/2022<br>\n",
    "2 means sold in day 8/8/2022 <br>\n",
    "...         ...     ...<br>\n",
    "7 means sold in day 12/8/2022<br>\n",
    "<br>\n",
    "i would like to say that i have the data in 1st , 2nd and 3rd of this month but i don't have the data in the 4th and 5th of this month so i started in the 6th \n",
    "<br>\n",
    "1/8  i have <br>\n",
    "2/8  i have <br>\n",
    "3/8  i have <br>\n",
    "4/8  i don't have <br>\n",
    "5/8  i don't have <br>\n",
    "6/8  i have <br>\n",
    "7/8  i have <br>\n",
    "8/8  i have <br>\n",
    "9/8  i have <br>\n",
    "10/8 i have <br>\n",
    "11/8 i have <br>\n",
    "12/8 i have  <br>\n",
    "13/8 i have  <br>\n",
    "..."
   ]
  },
  {
   "cell_type": "code",
   "execution_count": 275,
   "metadata": {},
   "outputs": [],
   "source": [
    "import pandas as pd\n",
    "import numpy as np\n",
    "import math\n",
    "from sklearn.model_selection import train_test_split\n",
    "from sklearn.compose import TransformedTargetRegressor\n",
    "from sklearn.compose import ColumnTransformer\n",
    "from sklearn.compose import make_column_selector as selector\n",
    "from sklearn.preprocessing import PowerTransformer\n",
    "from sklearn.preprocessing import StandardScaler\n",
    "from sklearn.preprocessing import OneHotEncoder\n",
    "from sklearn.preprocessing import LabelEncoder\n",
    "from sklearn.impute import SimpleImputer\n",
    "from sklearn.impute import KNNImputer\n",
    "from sklearn.feature_selection import VarianceThreshold\n",
    "from sklearn.decomposition import PCA\n",
    "import datetime\n",
    "from datetime import timedelta\n",
    "import ast\n",
    "import json    \n",
    "import missingno as msno"
   ]
  },
  {
   "cell_type": "code",
   "execution_count": 276,
   "metadata": {},
   "outputs": [],
   "source": [
    "yest =pd.read_csv('../data/aqar.csv')\n",
    "Today =  pd.read_csv('../data/13-8-2022,12:34.csv') "
   ]
  },
  {
   "cell_type": "code",
   "execution_count": 277,
   "metadata": {},
   "outputs": [],
   "source": [
    "day = 7"
   ]
  },
  {
   "cell_type": "code",
   "execution_count": 278,
   "metadata": {},
   "outputs": [
    {
     "data": {
      "text/plain": [
       "Index(['user_id', 'id', 'title', 'price', 'content', 'imgs', 'refresh', 'beds',\n",
       "       'livings', 'wc', 'area', 'street_width', 'age', 'last_update',\n",
       "       'ketchen', 'ac', 'furnished', 'location', 'path', 'user', 'district',\n",
       "       'width', 'length', 'advertiser_type', 'create_time', 'review',\n",
       "       'profileImg', 'UserName', 'iam_verified', 'rega_id'],\n",
       "      dtype='object')"
      ]
     },
     "execution_count": 278,
     "metadata": {},
     "output_type": "execute_result"
    }
   ],
   "source": [
    "Today.columns"
   ]
  },
  {
   "cell_type": "code",
   "execution_count": null,
   "metadata": {},
   "outputs": [],
   "source": []
  },
  {
   "cell_type": "code",
   "execution_count": 279,
   "metadata": {},
   "outputs": [],
   "source": [
    "if yest.columns[0] == 'Unnamed: 0':\n",
    "    yest.drop('Unnamed: 0' , axis = 1 , inplace=True)"
   ]
  },
  {
   "cell_type": "code",
   "execution_count": null,
   "metadata": {},
   "outputs": [],
   "source": []
  },
  {
   "cell_type": "code",
   "execution_count": 280,
   "metadata": {},
   "outputs": [],
   "source": [
    "if Today.columns[0] == 'Unnamed: 0':\n",
    "    Today.drop('Unnamed: 0' , axis = 1 , inplace=True)"
   ]
  },
  {
   "cell_type": "code",
   "execution_count": 281,
   "metadata": {},
   "outputs": [],
   "source": [
    "# yest['sold'] = 0"
   ]
  },
  {
   "cell_type": "code",
   "execution_count": 282,
   "metadata": {},
   "outputs": [
    {
     "data": {
      "text/plain": [
       "(7064, 30)"
      ]
     },
     "execution_count": 282,
     "metadata": {},
     "output_type": "execute_result"
    }
   ],
   "source": [
    "Today.shape"
   ]
  },
  {
   "cell_type": "code",
   "execution_count": 283,
   "metadata": {},
   "outputs": [
    {
     "data": {
      "text/plain": [
       "0    5174\n",
       "2     394\n",
       "4     350\n",
       "1     282\n",
       "5     261\n",
       "3     184\n",
       "6     117\n",
       "Name: sold, dtype: int64"
      ]
     },
     "execution_count": 283,
     "metadata": {},
     "output_type": "execute_result"
    }
   ],
   "source": [
    "df3 = yest.merge(Today, on='id', how='left', indicator=True)\n",
    "df3['sold'].value_counts()"
   ]
  },
  {
   "cell_type": "code",
   "execution_count": 284,
   "metadata": {},
   "outputs": [],
   "source": [
    "df3 = yest.merge(Today, on='id', how='left', indicator=True)\n",
    "df3 = df3.loc[(df3['_merge'] == 'left_only') & (df3['sold'] == 0 )]\n",
    "df3.drop(df3.filter(regex='_y$').columns, axis=1, inplace=True)"
   ]
  },
  {
   "cell_type": "code",
   "execution_count": 285,
   "metadata": {},
   "outputs": [
    {
     "data": {
      "text/plain": [
       "0    115\n",
       "Name: sold, dtype: int64"
      ]
     },
     "execution_count": 285,
     "metadata": {},
     "output_type": "execute_result"
    }
   ],
   "source": [
    "df3['sold'].value_counts()"
   ]
  },
  {
   "cell_type": "code",
   "execution_count": 286,
   "metadata": {},
   "outputs": [],
   "source": [
    "df3['sold_x'] = day"
   ]
  },
  {
   "cell_type": "code",
   "execution_count": 287,
   "metadata": {},
   "outputs": [
    {
     "data": {
      "text/plain": [
       "2    2\n",
       "Name: sold, dtype: int64"
      ]
     },
     "execution_count": 287,
     "metadata": {},
     "output_type": "execute_result"
    }
   ],
   "source": [
    "yest[yest['id'] == 4554519]['sold']"
   ]
  },
  {
   "cell_type": "code",
   "execution_count": 288,
   "metadata": {},
   "outputs": [
    {
     "data": {
      "text/plain": [
       "29    1\n",
       "Name: sold, dtype: int64"
      ]
     },
     "execution_count": 288,
     "metadata": {},
     "output_type": "execute_result"
    }
   ],
   "source": [
    "yest[yest['id'] == 4537352]['sold']"
   ]
  },
  {
   "cell_type": "code",
   "execution_count": 289,
   "metadata": {},
   "outputs": [],
   "source": [
    "for i in list(df3['id']) : \n",
    "    yest.loc[yest[\"id\"] == i, \"sold\"] = day\n"
   ]
  },
  {
   "cell_type": "code",
   "execution_count": 290,
   "metadata": {},
   "outputs": [
    {
     "data": {
      "text/plain": [
       "0    5059\n",
       "2     394\n",
       "4     350\n",
       "1     282\n",
       "5     261\n",
       "3     184\n",
       "6     117\n",
       "7     115\n",
       "Name: sold, dtype: int64"
      ]
     },
     "execution_count": 290,
     "metadata": {},
     "output_type": "execute_result"
    }
   ],
   "source": [
    "yest['sold'].value_counts()"
   ]
  },
  {
   "cell_type": "code",
   "execution_count": null,
   "metadata": {},
   "outputs": [],
   "source": []
  },
  {
   "cell_type": "code",
   "execution_count": 291,
   "metadata": {},
   "outputs": [],
   "source": [
    "yest.to_csv('../data/aqar.csv' , index=False)"
   ]
  },
  {
   "cell_type": "code",
   "execution_count": null,
   "metadata": {},
   "outputs": [],
   "source": []
  }
 ],
 "metadata": {
  "kernelspec": {
   "display_name": "Python 3.9.12 ('base')",
   "language": "python",
   "name": "python3"
  },
  "language_info": {
   "codemirror_mode": {
    "name": "ipython",
    "version": 3
   },
   "file_extension": ".py",
   "mimetype": "text/x-python",
   "name": "python",
   "nbconvert_exporter": "python",
   "pygments_lexer": "ipython3",
   "version": "3.9.12"
  },
  "orig_nbformat": 4,
  "vscode": {
   "interpreter": {
    "hash": "d4d1e4263499bec80672ea0156c357c1ee493ec2b1c70f0acce89fc37c4a6abe"
   }
  }
 },
 "nbformat": 4,
 "nbformat_minor": 2
}
